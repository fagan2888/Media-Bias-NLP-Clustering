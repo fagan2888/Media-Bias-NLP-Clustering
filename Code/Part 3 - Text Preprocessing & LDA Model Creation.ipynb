{
 "cells": [
  {
   "cell_type": "code",
   "execution_count": 325,
   "metadata": {
    "collapsed": false
   },
   "outputs": [],
   "source": [
    "import pickle\n",
    "import calendar\n",
    "import numpy as np\n",
    "\n",
    "# gensim\n",
    "from gensim import corpora, models, similarities, matutils\n",
    "# sklearn\n",
    "from sklearn.feature_extraction.text import CountVectorizer\n",
    "from sklearn.feature_extraction.text import TfidfVectorizer\n",
    "from sklearn.cluster import KMeans\n",
    "\n",
    "\n",
    "import pandas as pd\n",
    "from dateparser import parse\n",
    "\n",
    "# logging for gensim (set to INFO)\n",
    "import logging\n",
    "logging.basicConfig(format='%(asctime)s : %(levelname)s : %(message)s', level=logging.INFO)"
   ]
  },
  {
   "cell_type": "markdown",
   "metadata": {},
   "source": [
    "# 1) Bring all data in-house"
   ]
  },
  {
   "cell_type": "code",
   "execution_count": 507,
   "metadata": {
    "collapsed": false
   },
   "outputs": [],
   "source": [
    "google_news_texts_only = pickle.load( open(\"google_news_texts_only.pickle\", \"rb\" ))"
   ]
  },
  {
   "cell_type": "markdown",
   "metadata": {},
   "source": [
    "# 3) Pre-processing\n",
    "\n",
    "## Document Preprocessing\n",
    "We'll need to generate a term-document matrix of word (token) counts for use in LDA.\n",
    "\n",
    "We'll use `sklearn`'s `CountVectorizer` to generate our term-document matrix of counts. We'll make use of a few parameters to accomplish the following preprocessing of the text documents all within the `CountVectorizer`:\n",
    "* `analyzer=word`: Tokenize by word\n",
    "* `ngram_range=(1,2)`: Keep all 1 and 2-word grams\n",
    "* `stop_words=english`: Remove all English stop words\n",
    "* `token_pattern=\\\\b[a-z][a-z]+\\\\b`: Match all tokens with 2 or more (strictly) alphabet characters <-- only takes alphanumeric \n",
    "\n",
    "\\b - this is a word boundary, so this just says begining of the word and end of the word\n",
    "\n",
    "how count vectorizer works is that it defaults to \"lowercase=True\" and then applies any filter which is in the token_pattern."
   ]
  },
  {
   "cell_type": "markdown",
   "metadata": {},
   "source": [
    "## Count Vectorizer -- Documents/ Texts -> One-hot encoding for tokens in the vocabulary "
   ]
  },
  {
   "cell_type": "code",
   "execution_count": null,
   "metadata": {
    "collapsed": true
   },
   "outputs": [],
   "source": [
    "################ THis is what I'm Focusing on ################\n",
    "\n",
    "count_vectorizer_unigram = CountVectorizer(analyzer=\"word\",ngram_range=(1,1),stop_words=\"english\", token_pattern=\"\\\\b[a-z][a-z]+\\\\b\",\n",
    "                                  min_df = 2, max_df = 0.2)\n",
    "\n",
    "\n",
    "fitted_count_vectorizer_100k__FILL_ME_IN__ = count_vectorizer_unigram.fit(list_of_document_strings)\n",
    "pickle.dump( fitted_count_vectorizer_100k__FILL_ME_IN__, open( \"fitted_count_vectorizer_100k__FILL_ME_IN__.pickle\", \"wb\" ) )"
   ]
  },
  {
   "cell_type": "code",
   "execution_count": null,
   "metadata": {
    "collapsed": true
   },
   "outputs": [],
   "source": [
    "count_vectorizer_trigram = CountVectorizer(analyzer=\"word\",ngram_range=(1,3),stop_words=\"english\", token_pattern=\"\\\\b[a-z][a-z]+\\\\b\",\n",
    "                                  min_df = 2, max_df = 0.2)"
   ]
  },
  {
   "cell_type": "code",
   "execution_count": 348,
   "metadata": {
    "collapsed": true
   },
   "outputs": [],
   "source": [
    "my_strings = google_news_df_top_pubs_good_dates[\"text\"][google_news_df_top_pubs_good_dates[\"date_cat\"]==(2014,7)]"
   ]
  },
  {
   "cell_type": "code",
   "execution_count": 349,
   "metadata": {
    "collapsed": false
   },
   "outputs": [
    {
     "data": {
      "text/plain": [
       "7      Health How Big Tobacco Went To War With A Tiny Country CREDIT: AP Images\\n\\nThe small South American nation of Uruguay might be forced to pay a heavy price for trying to curb smoking and avert a public health disaster. The country is currently embroiled in a high stakes legal battle with Phillips Morris, the world’s largest cigarette manufacturer. The industry giant, whose annual profits outsi...\n",
       "329    SALVADOR, Brazil — The United States made two changes from its 1-0 loss to Germany ahead of Tuesday’s match against Belgium.\\n\\nGeoff Cameron, who started the first two games in central defense, replaced Kyle Beckerman in defensive midfield. Alejandro Bedoya, who also started the opening two games, was back in right midfield in place of Brad Davis.\\n\\nBelgium captain Vincent Kompany will start...\n",
       "368    Greg Sargent points us to an interesting new CNN poll about Obamacare. It asks the usual question about favoring or opposing the law, with the usual results. The basic question shows that Obamacare is unpopular by 40-59 percent, but when you add in the folks who \"oppose\" it only because they wish it were more liberal, it flips to 57-38 percent. In other words, if you confine yourself to garden...\n",
       "389    The main downside to eliminating the mandate, from the Democratic perspective is money. Why liberals are abandoning Obamacare employer mandate\\n\\nRobert Gibbs’ prediction that Obamacare’s employer mandate would — and perhaps should — be jettisoned shocked Democrats back in April.\\n\\nBy July, the former aide and longtime confidant of President Barack Obama had a lot more company. More and more ...\n",
       "396    How would you feel if someone promised to give you a car, and then reneged on that pledge? That’s how all Americans should feel when it comes to ObamaCare -- because Barack Obama’s failed and discredited campaign promise to lower health insurance premiums has cost the average American family an amount equal to the price of many new cars.\\n\\nDuring his 2008 campaign, one of then-Senator Obama’s...\n",
       "Name: text, dtype: object"
      ]
     },
     "execution_count": 349,
     "metadata": {},
     "output_type": "execute_result"
    }
   ],
   "source": [
    "my_strings[0:5]"
   ]
  },
  {
   "cell_type": "code",
   "execution_count": 350,
   "metadata": {
    "collapsed": false
   },
   "outputs": [],
   "source": [
    "fitted_model = count_vectorizer_unigram.fit(my_strings)"
   ]
  },
  {
   "cell_type": "code",
   "execution_count": 353,
   "metadata": {
    "collapsed": true
   },
   "outputs": [],
   "source": [
    "num_topics = 10\n",
    "n_topics = 10"
   ]
  },
  {
   "cell_type": "code",
   "execution_count": 362,
   "metadata": {
    "collapsed": false
   },
   "outputs": [],
   "source": [
    "my_model = text_to_lda_model(my_strings, fitted_model, n_topics=15)"
   ]
  },
  {
   "cell_type": "code",
   "execution_count": 365,
   "metadata": {
    "collapsed": false
   },
   "outputs": [
    {
     "data": {
      "text/plain": [
       "[(7,\n",
       "  u'0.005*border + 0.003*children + 0.003*bush + 0.003*family + 0.002*old + 0.002*white + 0.002*mr + 0.002*war + 0.002*texas + 0.002*thing'),\n",
       " (0,\n",
       "  u'0.006*women + 0.004*brazil + 0.004*street + 0.003*mr + 0.003*retirement + 0.003*solar + 0.003*colbert + 0.003*miller + 0.003*black + 0.003*second'),\n",
       " (12,\n",
       "  u'0.008*congress + 0.005*supreme + 0.005*constitution + 0.004*lawsuit + 0.004*boehner + 0.004*administration + 0.004*laws + 0.004*legal + 0.004*decision + 0.003*party'),\n",
       " (13,\n",
       "  u'0.003*coal + 0.003*war + 0.003*power + 0.003*social + 0.003*climate + 0.002*change + 0.002*women + 0.002*media + 0.002*big + 0.002*politics'),\n",
       " (14,\n",
       "  u'0.004*tax + 0.003*ukraine + 0.003*company + 0.002*russia + 0.002*business + 0.002*book + 0.002*school + 0.002*economic + 0.002*middle + 0.002*old'),\n",
       " (2,\n",
       "  u'0.018*women + 0.011*religious + 0.009*lobby + 0.009*hobby + 0.008*abortion + 0.007*decision + 0.006*birth + 0.006*control + 0.006*supreme + 0.005*contraception'),\n",
       " (1,\n",
       "  u'0.008*republicans + 0.007*republican + 0.006*democrats + 0.006*democratic + 0.006*senate + 0.004*party + 0.004*clinton + 0.004*vote + 0.004*millennials + 0.004*campaign'),\n",
       " (6,\n",
       "  u'0.009*insurance + 0.008*subsidies + 0.006*exchange + 0.006*exchanges + 0.004*congress + 0.004*administration + 0.003*milligrams + 0.003*circuit + 0.003*individual + 0.003*children'),\n",
       " (8,\n",
       "  u'0.009*israel + 0.005*hamas + 0.005*gaza + 0.004*israeli + 0.004*men + 0.004*mr + 0.003*border + 0.003*palestinian + 0.002*military + 0.002*fish'),\n",
       " (4,\n",
       "  u'0.003*gun + 0.002*media + 0.002*topics + 0.002*south + 0.002*old + 0.002*climate + 0.002*book + 0.002*data + 0.002*really + 0.002*york')]"
      ]
     },
     "execution_count": 365,
     "metadata": {},
     "output_type": "execute_result"
    }
   ],
   "source": [
    "my_model.print_topics()"
   ]
  },
  {
   "cell_type": "code",
   "execution_count": 372,
   "metadata": {
    "collapsed": true
   },
   "outputs": [],
   "source": [
    "my_model5 = text_to_lda_model(my_strings, fitted_model, n_topics=15)"
   ]
  },
  {
   "cell_type": "code",
   "execution_count": 375,
   "metadata": {
    "collapsed": false
   },
   "outputs": [
    {
     "data": {
      "text/plain": [
       "<gensim.models.ldamodel.LdaModel at 0x1642a6590>"
      ]
     },
     "execution_count": 375,
     "metadata": {},
     "output_type": "execute_result"
    }
   ],
   "source": [
    "my_model5"
   ]
  },
  {
   "cell_type": "raw",
   "metadata": {},
   "source": [
    "my_mode20 = text_to_lda_model(my_strings, fitted_model, n_topics=20)"
   ]
  },
  {
   "cell_type": "code",
   "execution_count": 374,
   "metadata": {
    "collapsed": false
   },
   "outputs": [
    {
     "data": {
      "text/plain": [
       "[(0,\n",
       "  u'0.007*women + 0.005*party + 0.005*tea + 0.003*police + 0.003*gun + 0.002*republican + 0.002*war + 0.002*conservative + 0.002*man + 0.002*black'),\n",
       " (1,\n",
       "  u'0.006*children + 0.005*information + 0.004*video + 0.004*data + 0.003*company + 0.003*police + 0.003*records + 0.002*department + 0.002*mr + 0.002*marijuana'),\n",
       " (2,\n",
       "  u'0.006*mr + 0.005*cup + 0.004*family + 0.004*brazil + 0.003*soccer + 0.003*middle + 0.003*team + 0.003*class + 0.002*argentina + 0.002*free'),\n",
       " (3,\n",
       "  u'0.015*religious + 0.014*women + 0.011*lobby + 0.011*hobby + 0.007*birth + 0.006*control + 0.006*decision + 0.006*contraception + 0.006*supreme + 0.004*freedom'),\n",
       " (4,\n",
       "  u'0.006*ukraine + 0.004*russia + 0.004*russian + 0.003*flight + 0.003*border + 0.003*ap + 0.003*near + 0.003*plane + 0.003*airlines + 0.003*malaysia'),\n",
       " (5,\n",
       "  u'0.012*abortion + 0.011*women + 0.004*conservatives + 0.003*conservative + 0.003*workers + 0.003*republicans + 0.003*access + 0.002*rights + 0.002*richards + 0.002*child'),\n",
       " (6,\n",
       "  u'0.010*insurance + 0.007*medicare + 0.006*costs + 0.005*cost + 0.005*patients + 0.005*coverage + 0.005*plans + 0.005*program + 0.005*medical + 0.004*medicaid'),\n",
       " (7,\n",
       "  u'0.008*subsidies + 0.008*insurance + 0.006*congress + 0.006*exchanges + 0.004*exchange + 0.004*circuit + 0.003*administration + 0.003*legal + 0.003*courts + 0.003*laws'),\n",
       " (8,\n",
       "  u'0.008*israel + 0.006*hamas + 0.004*children + 0.004*gaza + 0.004*israeli + 0.003*james + 0.003*military + 0.003*ebert + 0.002*child + 0.002*united'),\n",
       " (9,\n",
       "  u'0.004*republican + 0.004*republicans + 0.003*democratic + 0.003*economic + 0.003*economy + 0.003*job + 0.003*border + 0.003*jobs + 0.002*bush + 0.002*senate'),\n",
       " (10,\n",
       "  u'0.009*medicaid + 0.004*sexual + 0.003*program + 0.003*expansion + 0.003*students + 0.003*family + 0.003*science + 0.002*programs + 0.002*institute + 0.002*help'),\n",
       " (11,\n",
       "  u'0.006*mr + 0.006*vermont + 0.005*information + 0.004*report + 0.004*security + 0.004*exchange + 0.003*single + 0.003*home + 0.003*administration + 0.003*street'),\n",
       " (12,\n",
       "  u'0.005*republicans + 0.005*congress + 0.004*boehner + 0.004*party + 0.004*republican + 0.003*justice + 0.003*democrats + 0.003*senate + 0.003*lawsuit + 0.003*bank'),\n",
       " (13,\n",
       "  u'0.006*tax + 0.003*business + 0.002*city + 0.002*warren + 0.002*taxes + 0.002*carbon + 0.002*coal + 0.002*really + 0.002*big + 0.002*irs'),\n",
       " (14,\n",
       "  u'0.005*school + 0.005*food + 0.004*students + 0.004*south + 0.004*milligrams + 0.004*children + 0.003*study + 0.003*foods + 0.003*apartheid + 0.003*parents')]"
      ]
     },
     "execution_count": 374,
     "metadata": {},
     "output_type": "execute_result"
    }
   ],
   "source": [
    "my_model20.print_topics(num_topics =20, )"
   ]
  },
  {
   "cell_type": "code",
   "execution_count": 364,
   "metadata": {
    "collapsed": false
   },
   "outputs": [
    {
     "data": {
      "text/html": [
       "<div>\n",
       "<table border=\"1\" class=\"dataframe\">\n",
       "  <thead>\n",
       "    <tr style=\"text-align: right;\">\n",
       "      <th></th>\n",
       "      <th>publisher</th>\n",
       "      <th>text</th>\n",
       "      <th>url</th>\n",
       "      <th>count</th>\n",
       "      <th>date_cat</th>\n",
       "    </tr>\n",
       "  </thead>\n",
       "  <tbody>\n",
       "    <tr>\n",
       "      <th>7978</th>\n",
       "      <td>theatlantic</td>\n",
       "      <td>Please consider disabling it for our site, or supporting our work in one of these ways\\n\\nWhy providing women more options to control pregnancies is in the interest of everyone\\n\\nIn a hotly contested decision this week, the Supreme Court ruled that for-profit employers can opt out of providing certain types of contraception coverage on religious grounds. Ostensibly, the holding is narrow: Onl...</td>\n",
       "      <td>http://www.theatlantic.com/health/archive/2014/07/the-broader-benefits-of-contraception/373856/</td>\n",
       "      <td>1</td>\n",
       "      <td>(2014, 7)</td>\n",
       "    </tr>\n",
       "    <tr>\n",
       "      <th>10504</th>\n",
       "      <td>theatlantic</td>\n",
       "      <td>1. We can thank former President Bill Clinton for perfect clarity in his comments about the chaos and horror of Gaza. In an interview on Indian television, Clinton—who told us in his memoir that Palestinian self-destructiveness (in the form of Yasir Arafat’s various delusions and prevarications) undid his effort to bring about a two-state solution to the Middle East conflict—blames the Muslim ...</td>\n",
       "      <td>http://www.theatlantic.com/international/archive/2014/07/understanding-what-hamas-wants/374656/</td>\n",
       "      <td>1</td>\n",
       "      <td>(2014, 7)</td>\n",
       "    </tr>\n",
       "    <tr>\n",
       "      <th>11034</th>\n",
       "      <td>theatlantic</td>\n",
       "      <td>Despite the news last week that America's healthcare spending will not be rising at the sky-high rate that was once predicted, the fact remains that the U.S. far outspends its peer nations when it comes to healthcare costs per capita. This year the United States will spend almost 18 percent of the gross domestic product (GDP) on healthcare—six percentage points more than the Netherlands, the n...</td>\n",
       "      <td>http://www.theatlantic.com/business/archive/2014/07/why-do-other-rich-nations-spend-so-much-less-on-healthcare/374576/</td>\n",
       "      <td>1</td>\n",
       "      <td>(2014, 7)</td>\n",
       "    </tr>\n",
       "    <tr>\n",
       "      <th>27354</th>\n",
       "      <td>theatlantic</td>\n",
       "      <td>Let us know what we missed.\\n\\nJustin Bieber: A Case Study in Growing Up Cosseted and Feral\\n\\nVanessa Grigoriadis | Vulture\\n\\n\"He sees himself as Brando, McQueen, Dean. We may see something different—a costume of machismo; a slip of a boy buffed up and doffing his shirt like a South Bronx stoopie in August; a white person fetishizing blackness with the laserlike focus of someone for whom 'be...</td>\n",
       "      <td>http://www.theatlantic.com/entertainment/archive/2014/07/pop-writing-july-1-2014/373758/</td>\n",
       "      <td>1</td>\n",
       "      <td>(2014, 7)</td>\n",
       "    </tr>\n",
       "    <tr>\n",
       "      <th>27405</th>\n",
       "      <td>theatlantic</td>\n",
       "      <td>Researchers from the University of California San Diego and Brown University surveyed parents of first-time patients at a pediatric obesity clinic, assessing the families’ willingness to help their children lose weight. The patients, who ranged in age from 5 to 20, had all been classified as overweight or clinically obese, and most had been referred to the clinic for treatment by their regular...</td>\n",
       "      <td>http://www.theatlantic.com/health/archive/2014/07/study-many-parents-are-in-denial-about-their-kids-obesity/375023/</td>\n",
       "      <td>1</td>\n",
       "      <td>(2014, 7)</td>\n",
       "    </tr>\n",
       "    <tr>\n",
       "      <th>37094</th>\n",
       "      <td>theatlantic</td>\n",
       "      <td>Louis C.K.'s regular-guy shtick permeates everything about his image: the plain black T-shirts, the self-deprecating humor, his Twitter bio (\"I am a comedian and a person and a guy who is sitting here\"), even his mass-emailing strategy. Louie—and it feels right to call him \"Louie\" precisely because of this guy-who-is-sitting-here image he's so expertly cultivated—is, of course, not an ordinary...</td>\n",
       "      <td>http://www.theatlantic.com/technology/archive/2014/07/the-brilliance-of-louis-cks-emails-he-writes-like-a-politician/374034/</td>\n",
       "      <td>1</td>\n",
       "      <td>(2014, 7)</td>\n",
       "    </tr>\n",
       "    <tr>\n",
       "      <th>44174</th>\n",
       "      <td>theatlantic</td>\n",
       "      <td>The future of marriage, the future of Millennials: two topics the Internet loves to freak out about. Thanks to a new report from Pew, here the twain shall meet: Researchers asked people of all ages whether society is better off if people focus on getting married and having kids.\\n\\nAmerican Attitudes Toward Marriage and Kids\\n\\nLooking at this chart is a little like taking a Rorschach inkblot ...</td>\n",
       "      <td>http://www.theatlantic.com/national/archive/2014/07/millennials-society-will-be-just-fine-without-marriage/374060/</td>\n",
       "      <td>1</td>\n",
       "      <td>(2014, 7)</td>\n",
       "    </tr>\n",
       "    <tr>\n",
       "      <th>53009</th>\n",
       "      <td>theatlantic</td>\n",
       "      <td>It is too surreal. I still feel like it was just yesterday when I picked up the report on the achievement gap in college. When we originally started working on PMP, we were thinking of national expansion—almost too early. We quickly learned how difficult it is to do our work and are still working to set reasonable expectations of growth. This summer we made changes to our business model. Now w...</td>\n",
       "      <td>http://www.theatlantic.com/education/archive/2014/07/meet-the-22-year-old-who-is-fixing-the-summer-achievement-gap/375024/</td>\n",
       "      <td>1</td>\n",
       "      <td>(2014, 7)</td>\n",
       "    </tr>\n",
       "    <tr>\n",
       "      <th>56869</th>\n",
       "      <td>theatlantic</td>\n",
       "      <td>Please consider disabling it for our site, or supporting our work in one of these ways\\n\\nBefore Twitter existed, before Facebook allowed more than college students to join its network, two brothers made new media that went viral.\\n\\nTen years ago today, a small Flash animation firm based in Los Angeles uploaded a video to its website. The three-minute cartoon parodied the year’s presidential ...</td>\n",
       "      <td>http://www.theatlantic.com/technology/archive/2014/07/jibjabs-seminal-flash-parody-turns-10/374161/</td>\n",
       "      <td>1</td>\n",
       "      <td>(2014, 7)</td>\n",
       "    </tr>\n",
       "    <tr>\n",
       "      <th>60087</th>\n",
       "      <td>theatlantic</td>\n",
       "      <td>Please consider disabling it for our site, or supporting our work in one of these ways\\n\\nWhen Team Snapchat announced the launch of Snapchat Stories last fall, it expanded the intimacy of the service so that users could “share your day with friends—or everyone.” More recently, though, the service is fixated on the concept of everywhere, with the addition of location-based filters and other ge...</td>\n",
       "      <td>http://www.theatlantic.com/technology/archive/2014/07/why-snapchat-cares-where-you-are/374733/</td>\n",
       "      <td>1</td>\n",
       "      <td>(2014, 7)</td>\n",
       "    </tr>\n",
       "    <tr>\n",
       "      <th>64417</th>\n",
       "      <td>theatlantic</td>\n",
       "      <td>He was confronted by supervisors and accused of mishandling classified information while assembling his FOIA request. His house was raided by the FBI and his family’s computers seized. Stripped of his job and his security clearance, Scudder said he agreed to retire last year after being told that if he refused, he risked losing much of his pension. In an interview, Scudder, 51, cast his ordeal...</td>\n",
       "      <td>http://www.theatlantic.com/politics/archive/2014/07/the-pattern-of-persecuting-dissenters-in-the-national-security-state/374051/</td>\n",
       "      <td>1</td>\n",
       "      <td>(2014, 7)</td>\n",
       "    </tr>\n",
       "    <tr>\n",
       "      <th>69116</th>\n",
       "      <td>theatlantic</td>\n",
       "      <td>I recently argued that the way the show Orange Is the New Black deals with men, and especially male prisoners, is problematic, since the vast majority of prisoners in the U.S. are men, not women, and because the show uses stereotypical gender assumptions to elicit sympathy for women prisoners in ways don't translate into an institutional critique of prison as a whole. My post became something ...</td>\n",
       "      <td>http://www.theatlantic.com/politics/archive/2014/07/its-not-a-contradiction-for-men-to-discriminate-against-other-men/374370/</td>\n",
       "      <td>1</td>\n",
       "      <td>(2014, 7)</td>\n",
       "    </tr>\n",
       "    <tr>\n",
       "      <th>73251</th>\n",
       "      <td>theatlantic</td>\n",
       "      <td>Please consider disabling it for our site, or supporting our work in one of these ways\\n\\nCHATTANOOGA, Tenn.—Angela Allen has two painful slipped disks in her neck, but her regular spine doctor does not accept the new insurance she bought through the federal health marketplace. “It’s been a nightmare,” said Allen, a 42-year-old office manager. The closest specialist she found who would see her...</td>\n",
       "      <td>http://www.theatlantic.com/health/archive/2014/07/when-is-health-insurance-too-affordable/373861/</td>\n",
       "      <td>1</td>\n",
       "      <td>(2014, 7)</td>\n",
       "    </tr>\n",
       "    <tr>\n",
       "      <th>82549</th>\n",
       "      <td>theatlantic</td>\n",
       "      <td>I'm presenting them with the goal of letting a worthy exponent of each side lay out his case. And I'm presenting them in full-length version on the assumption that anyone who doesn't care can skip right over, while anyone who does may want to know the detailed back-and-forth. Each of Reed's critiques is in itals, followed by Richard's responses. In the exchanges, Dan Richard directly criticize...</td>\n",
       "      <td>http://www.theatlantic.com/politics/archive/2014/07/7-ways-in-which-high-speed-rail-would-help-california-according-to-its-chairman/374408/</td>\n",
       "      <td>1</td>\n",
       "      <td>(2014, 7)</td>\n",
       "    </tr>\n",
       "    <tr>\n",
       "      <th>95176</th>\n",
       "      <td>theatlantic</td>\n",
       "      <td>ASPEN, Colo.—One major divide in international relations, as well as in other social sciences, is between those who believe in structure and those who believe in agency. Members of the first group say leaders are just representations of cultures and nations, subject to long-running political dynamics; their counterparts insist, no, individual leaders make decisions that can change the course o...</td>\n",
       "      <td>http://www.theatlantic.com/international/archive/2014/07/michael-mcfaul-what-turned-putin-against-the-us/373866/</td>\n",
       "      <td>1</td>\n",
       "      <td>(2014, 7)</td>\n",
       "    </tr>\n",
       "    <tr>\n",
       "      <th>98478</th>\n",
       "      <td>theatlantic</td>\n",
       "      <td>According to new data, Catholic marriages in the U.S. are on a steep decline. Why are fewer couples relying on religious institutions as they take their vows?\\n\\nIt’s an iconic image: the white dress, the church bells, the priest, the traditional vows repeated by an earnest, fresh-faced couple. Many elements of the archetypical American wedding echo the formality and traditions of the country’...</td>\n",
       "      <td>http://www.theatlantic.com/national/archive/2014/07/how-important-is-it-to-have-a-church-wedding/374767/</td>\n",
       "      <td>1</td>\n",
       "      <td>(2014, 7)</td>\n",
       "    </tr>\n",
       "    <tr>\n",
       "      <th>99439</th>\n",
       "      <td>theatlantic</td>\n",
       "      <td>What makes someone a \"refugee\" is actually a legal question that determines a country's obligations toward them. \"Refugees are defined in international law as those who are outside of their own countries and unwilling or unable to return because they have a well-founded fear of persecution based on their race, religion, nationality, membership in a particular social group, or political opinion...</td>\n",
       "      <td>http://www.theatlantic.com/politics/archive/2014/07/what-makes-someone-a-refugee/375216/</td>\n",
       "      <td>1</td>\n",
       "      <td>(2014, 7)</td>\n",
       "    </tr>\n",
       "    <tr>\n",
       "      <th>103129</th>\n",
       "      <td>theatlantic</td>\n",
       "      <td>Please consider disabling it for our site, or supporting our work in one of these ways\\n\\nDemocrats have introduced bills to undo the Supreme Court's ruling on religious exemptions for contraception coverage, as well as state laws that single out abortion services, but the legislation isn't expected to succeed.\\n\\nMost of the momentum in fights over birth control and abortion has been in the d...</td>\n",
       "      <td>http://www.theatlantic.com/health/archive/2014/07/the-senates-pushback-on-abortion-restrictions/374507/</td>\n",
       "      <td>1</td>\n",
       "      <td>(2014, 7)</td>\n",
       "    </tr>\n",
       "    <tr>\n",
       "      <th>103667</th>\n",
       "      <td>theatlantic</td>\n",
       "      <td>Please consider disabling it for our site, or supporting our work in one of these ways\\n\\nI only met my wife eight times, in person, before we got married. It all began on a late evening in Toronto when a woman from Los Angeles messaged me on OkCupid to say she liked my look, and that it was a shame about the distance. As I’d said to a friend earlier that day, “If she’s not already in my bed, ...</td>\n",
       "      <td>http://www.theatlantic.com/technology/archive/2014/07/love-in-the-internet-age/374328/</td>\n",
       "      <td>1</td>\n",
       "      <td>(2014, 7)</td>\n",
       "    </tr>\n",
       "    <tr>\n",
       "      <th>106779</th>\n",
       "      <td>theatlantic</td>\n",
       "      <td>ASPEN, Colo.—It is a truth universally acknowledged that a single news consumer in possession of a free minute must be in want of a cat video.\\n\\nThe whole Internet-and-cats thing—a meta-meme about the mystic makeup of the Internet itself—is one of the stickiest there is when it comes to discussions of the World Wide Web. The Internet loves its cats! The cats love their Internet! The kitty cli...</td>\n",
       "      <td>http://www.theatlantic.com/technology/archive/2014/07/please-stop-with-all-the-cat-video-talk/373762/</td>\n",
       "      <td>1</td>\n",
       "      <td>(2014, 7)</td>\n",
       "    </tr>\n",
       "    <tr>\n",
       "      <th>109718</th>\n",
       "      <td>theatlantic</td>\n",
       "      <td>Like a bad summer-pop earworm, some economic ideas get stuck in our heads for no good reason and refuse to go away.\\n\\nTake, for example, the remarkably durable myth that Obama has presided over a \"part-time economy,\" where full-time work has been devastated by his relentlessly anti-capitalist policies. The Atlantic has done our best to bust this myth, but there's no killing some summer earwor...</td>\n",
       "      <td>http://www.theatlantic.com/business/archive/2014/07/heres-what-obamas-part-time-america-really-looks-like/374356/</td>\n",
       "      <td>1</td>\n",
       "      <td>(2014, 7)</td>\n",
       "    </tr>\n",
       "    <tr>\n",
       "      <th>113068</th>\n",
       "      <td>theatlantic</td>\n",
       "      <td>* * *\\n\\nAnd here is a sample note from a reader in California, on the challenges the plan now faces:\\n\\nI am very supportive of a high speed rail network in theory; very few people I have talked to are not. Driving between Los Angeles and San Francisco is a good 8 hours, while by plane it is a 45-minute hop, plus the two hours and massive frustrations of the airport; neither option is optimal...</td>\n",
       "      <td>http://www.theatlantic.com/politics/archive/2014/07/california-high-speed-railmdashthe-critics-speak/374306/</td>\n",
       "      <td>1</td>\n",
       "      <td>(2014, 7)</td>\n",
       "    </tr>\n",
       "    <tr>\n",
       "      <th>114298</th>\n",
       "      <td>theatlantic</td>\n",
       "      <td>Two years ago this month, Hezbollah operatives murdered six people—five tourists and their bus driver—and wounded many more in a bus bombing at the airport in Burgas, Bulgaria. The incident brought global attention to the extent of the group’s operations in Europe, far afield of its traditional home base of Lebanon, where it was founded with a mission to fight Israel. But today, despite a Euro...</td>\n",
       "      <td>http://www.theatlantic.com/international/archive/2014/07/what-is-hezbollah-doing-in-europe/374973/</td>\n",
       "      <td>1</td>\n",
       "      <td>(2014, 7)</td>\n",
       "    </tr>\n",
       "    <tr>\n",
       "      <th>121911</th>\n",
       "      <td>theatlantic</td>\n",
       "      <td>A recent survey found that 65 percent of women in the U.S. had experienced street harassment, with almost a quarter of all women being approached and sexually touched on the street. That's a startling figure—all the more so because street harassment is rarely discussed as a policy issue. Social worker, activist, and writer Feminista Jones has been working to change that. In June, she tweeted a...</td>\n",
       "      <td>http://www.theatlantic.com/politics/archive/2014/07/black-women-street-harassment-even-if-you-dont-like-it-youre-supposed-to-appear-that-you-do/375175/</td>\n",
       "      <td>1</td>\n",
       "      <td>(2014, 7)</td>\n",
       "    </tr>\n",
       "    <tr>\n",
       "      <th>128068</th>\n",
       "      <td>theatlantic</td>\n",
       "      <td>1. Millennials are more liberal than the rest of the country, particularly on social issues, but they get more economically conservative when they make more money.\\n\\nThis is all very confusing. Perhaps it should be when we're using a couple thousand subjects to guess the collective opinions of 86 million people. What are we sure we know about Millennials? Two big things and one small thing.\\n...</td>\n",
       "      <td>http://www.theatlantic.com/politics/archive/2014/07/millennials-economics-voting-clueless-kids-these-days/374427/</td>\n",
       "      <td>1</td>\n",
       "      <td>(2014, 7)</td>\n",
       "    </tr>\n",
       "    <tr>\n",
       "      <th>128601</th>\n",
       "      <td>theatlantic</td>\n",
       "      <td>My husband’s body lay in the next room. People were filing in and out to say those last few words that in the end all boil down to love. There was weeping and, occasionally, laughter that night in my cottage at the edge of the woods outside Stockholm. All emotions were so heightened, as if we were completely disconnected from the rest of the world. It was a sensation that would continue for a ...</td>\n",
       "      <td>http://www.theatlantic.com/health/archive/2014/07/when-a-spouse-dies-abroad/372672/</td>\n",
       "      <td>1</td>\n",
       "      <td>(2014, 7)</td>\n",
       "    </tr>\n",
       "    <tr>\n",
       "      <th>133268</th>\n",
       "      <td>theatlantic</td>\n",
       "      <td>The unwritten contract between customer and retailer is fairly straightforward: A store will have merchandise, salespeople, and a somewhat orderly checkout process. If everyone's feeling classy, there might even be clean floors and a not-terrible scent.\\n\\nBrookfield, Wisconsin, is one of three towns in the greater Milwaukee area that might soon have a store that forgoes one of those agreed-up...</td>\n",
       "      <td>http://www.theatlantic.com/business/archive/2014/07/coming-soon-a-milwaukee-area-mattress-store-with-no-salespeople/374494/</td>\n",
       "      <td>1</td>\n",
       "      <td>(2014, 7)</td>\n",
       "    </tr>\n",
       "    <tr>\n",
       "      <th>136280</th>\n",
       "      <td>theatlantic</td>\n",
       "      <td>ASPEN, Colo.—Larry Summers does not appear to think much of sanguine predictions about America’s economic future right now.\\n\\nDuring an appearance Tuesday at the Aspen Ideas Festival, which is hosted by The Atlantic and the Aspen Institute, the former Obama and Clinton adviser and Harvard president ticked off the reasons the country is still on a shaky foundation: The recovery from the 2001 r...</td>\n",
       "      <td>http://www.theatlantic.com/business/archive/2014/07/larry-summerss-4-point-plan-for-saving-the-economy/373849/</td>\n",
       "      <td>1</td>\n",
       "      <td>(2014, 7)</td>\n",
       "    </tr>\n",
       "    <tr>\n",
       "      <th>148631</th>\n",
       "      <td>theatlantic</td>\n",
       "      <td>Please consider disabling it for our site, or supporting our work in one of these ways\\n\\nIn the controversial Burwell v. Hobby Lobby decision, the Supreme Court ruled that the crafts superstore can't be compelled to offer birth control to its employees under the Affordable Care Act. Ironically, the decision seems to have given birth to a new group of Americans: the Beyoncé voters. Fox News's ...</td>\n",
       "      <td>http://www.theatlantic.com/politics/archive/2014/07/the-myth-of-the-beyonce-voter/374297/</td>\n",
       "      <td>1</td>\n",
       "      <td>(2014, 7)</td>\n",
       "    </tr>\n",
       "  </tbody>\n",
       "</table>\n",
       "</div>"
      ],
      "text/plain": [
       "          publisher  \\\n",
       "7978    theatlantic   \n",
       "10504   theatlantic   \n",
       "11034   theatlantic   \n",
       "27354   theatlantic   \n",
       "27405   theatlantic   \n",
       "37094   theatlantic   \n",
       "44174   theatlantic   \n",
       "53009   theatlantic   \n",
       "56869   theatlantic   \n",
       "60087   theatlantic   \n",
       "64417   theatlantic   \n",
       "69116   theatlantic   \n",
       "73251   theatlantic   \n",
       "82549   theatlantic   \n",
       "95176   theatlantic   \n",
       "98478   theatlantic   \n",
       "99439   theatlantic   \n",
       "103129  theatlantic   \n",
       "103667  theatlantic   \n",
       "106779  theatlantic   \n",
       "109718  theatlantic   \n",
       "113068  theatlantic   \n",
       "114298  theatlantic   \n",
       "121911  theatlantic   \n",
       "128068  theatlantic   \n",
       "128601  theatlantic   \n",
       "133268  theatlantic   \n",
       "136280  theatlantic   \n",
       "148631  theatlantic   \n",
       "\n",
       "                                                                                                                                                                                                                                                                                                                                                                                                                   text  \\\n",
       "7978    Please consider disabling it for our site, or supporting our work in one of these ways\\n\\nWhy providing women more options to control pregnancies is in the interest of everyone\\n\\nIn a hotly contested decision this week, the Supreme Court ruled that for-profit employers can opt out of providing certain types of contraception coverage on religious grounds. Ostensibly, the holding is narrow: Onl...   \n",
       "10504   1. We can thank former President Bill Clinton for perfect clarity in his comments about the chaos and horror of Gaza. In an interview on Indian television, Clinton—who told us in his memoir that Palestinian self-destructiveness (in the form of Yasir Arafat’s various delusions and prevarications) undid his effort to bring about a two-state solution to the Middle East conflict—blames the Muslim ...   \n",
       "11034   Despite the news last week that America's healthcare spending will not be rising at the sky-high rate that was once predicted, the fact remains that the U.S. far outspends its peer nations when it comes to healthcare costs per capita. This year the United States will spend almost 18 percent of the gross domestic product (GDP) on healthcare—six percentage points more than the Netherlands, the n...   \n",
       "27354   Let us know what we missed.\\n\\nJustin Bieber: A Case Study in Growing Up Cosseted and Feral\\n\\nVanessa Grigoriadis | Vulture\\n\\n\"He sees himself as Brando, McQueen, Dean. We may see something different—a costume of machismo; a slip of a boy buffed up and doffing his shirt like a South Bronx stoopie in August; a white person fetishizing blackness with the laserlike focus of someone for whom 'be...   \n",
       "27405   Researchers from the University of California San Diego and Brown University surveyed parents of first-time patients at a pediatric obesity clinic, assessing the families’ willingness to help their children lose weight. The patients, who ranged in age from 5 to 20, had all been classified as overweight or clinically obese, and most had been referred to the clinic for treatment by their regular...   \n",
       "37094   Louis C.K.'s regular-guy shtick permeates everything about his image: the plain black T-shirts, the self-deprecating humor, his Twitter bio (\"I am a comedian and a person and a guy who is sitting here\"), even his mass-emailing strategy. Louie—and it feels right to call him \"Louie\" precisely because of this guy-who-is-sitting-here image he's so expertly cultivated—is, of course, not an ordinary...   \n",
       "44174   The future of marriage, the future of Millennials: two topics the Internet loves to freak out about. Thanks to a new report from Pew, here the twain shall meet: Researchers asked people of all ages whether society is better off if people focus on getting married and having kids.\\n\\nAmerican Attitudes Toward Marriage and Kids\\n\\nLooking at this chart is a little like taking a Rorschach inkblot ...   \n",
       "53009   It is too surreal. I still feel like it was just yesterday when I picked up the report on the achievement gap in college. When we originally started working on PMP, we were thinking of national expansion—almost too early. We quickly learned how difficult it is to do our work and are still working to set reasonable expectations of growth. This summer we made changes to our business model. Now w...   \n",
       "56869   Please consider disabling it for our site, or supporting our work in one of these ways\\n\\nBefore Twitter existed, before Facebook allowed more than college students to join its network, two brothers made new media that went viral.\\n\\nTen years ago today, a small Flash animation firm based in Los Angeles uploaded a video to its website. The three-minute cartoon parodied the year’s presidential ...   \n",
       "60087   Please consider disabling it for our site, or supporting our work in one of these ways\\n\\nWhen Team Snapchat announced the launch of Snapchat Stories last fall, it expanded the intimacy of the service so that users could “share your day with friends—or everyone.” More recently, though, the service is fixated on the concept of everywhere, with the addition of location-based filters and other ge...   \n",
       "64417   He was confronted by supervisors and accused of mishandling classified information while assembling his FOIA request. His house was raided by the FBI and his family’s computers seized. Stripped of his job and his security clearance, Scudder said he agreed to retire last year after being told that if he refused, he risked losing much of his pension. In an interview, Scudder, 51, cast his ordeal...   \n",
       "69116   I recently argued that the way the show Orange Is the New Black deals with men, and especially male prisoners, is problematic, since the vast majority of prisoners in the U.S. are men, not women, and because the show uses stereotypical gender assumptions to elicit sympathy for women prisoners in ways don't translate into an institutional critique of prison as a whole. My post became something ...   \n",
       "73251   Please consider disabling it for our site, or supporting our work in one of these ways\\n\\nCHATTANOOGA, Tenn.—Angela Allen has two painful slipped disks in her neck, but her regular spine doctor does not accept the new insurance she bought through the federal health marketplace. “It’s been a nightmare,” said Allen, a 42-year-old office manager. The closest specialist she found who would see her...   \n",
       "82549   I'm presenting them with the goal of letting a worthy exponent of each side lay out his case. And I'm presenting them in full-length version on the assumption that anyone who doesn't care can skip right over, while anyone who does may want to know the detailed back-and-forth. Each of Reed's critiques is in itals, followed by Richard's responses. In the exchanges, Dan Richard directly criticize...   \n",
       "95176   ASPEN, Colo.—One major divide in international relations, as well as in other social sciences, is between those who believe in structure and those who believe in agency. Members of the first group say leaders are just representations of cultures and nations, subject to long-running political dynamics; their counterparts insist, no, individual leaders make decisions that can change the course o...   \n",
       "98478   According to new data, Catholic marriages in the U.S. are on a steep decline. Why are fewer couples relying on religious institutions as they take their vows?\\n\\nIt’s an iconic image: the white dress, the church bells, the priest, the traditional vows repeated by an earnest, fresh-faced couple. Many elements of the archetypical American wedding echo the formality and traditions of the country’...   \n",
       "99439   What makes someone a \"refugee\" is actually a legal question that determines a country's obligations toward them. \"Refugees are defined in international law as those who are outside of their own countries and unwilling or unable to return because they have a well-founded fear of persecution based on their race, religion, nationality, membership in a particular social group, or political opinion...   \n",
       "103129  Please consider disabling it for our site, or supporting our work in one of these ways\\n\\nDemocrats have introduced bills to undo the Supreme Court's ruling on religious exemptions for contraception coverage, as well as state laws that single out abortion services, but the legislation isn't expected to succeed.\\n\\nMost of the momentum in fights over birth control and abortion has been in the d...   \n",
       "103667  Please consider disabling it for our site, or supporting our work in one of these ways\\n\\nI only met my wife eight times, in person, before we got married. It all began on a late evening in Toronto when a woman from Los Angeles messaged me on OkCupid to say she liked my look, and that it was a shame about the distance. As I’d said to a friend earlier that day, “If she’s not already in my bed, ...   \n",
       "106779  ASPEN, Colo.—It is a truth universally acknowledged that a single news consumer in possession of a free minute must be in want of a cat video.\\n\\nThe whole Internet-and-cats thing—a meta-meme about the mystic makeup of the Internet itself—is one of the stickiest there is when it comes to discussions of the World Wide Web. The Internet loves its cats! The cats love their Internet! The kitty cli...   \n",
       "109718  Like a bad summer-pop earworm, some economic ideas get stuck in our heads for no good reason and refuse to go away.\\n\\nTake, for example, the remarkably durable myth that Obama has presided over a \"part-time economy,\" where full-time work has been devastated by his relentlessly anti-capitalist policies. The Atlantic has done our best to bust this myth, but there's no killing some summer earwor...   \n",
       "113068  * * *\\n\\nAnd here is a sample note from a reader in California, on the challenges the plan now faces:\\n\\nI am very supportive of a high speed rail network in theory; very few people I have talked to are not. Driving between Los Angeles and San Francisco is a good 8 hours, while by plane it is a 45-minute hop, plus the two hours and massive frustrations of the airport; neither option is optimal...   \n",
       "114298  Two years ago this month, Hezbollah operatives murdered six people—five tourists and their bus driver—and wounded many more in a bus bombing at the airport in Burgas, Bulgaria. The incident brought global attention to the extent of the group’s operations in Europe, far afield of its traditional home base of Lebanon, where it was founded with a mission to fight Israel. But today, despite a Euro...   \n",
       "121911  A recent survey found that 65 percent of women in the U.S. had experienced street harassment, with almost a quarter of all women being approached and sexually touched on the street. That's a startling figure—all the more so because street harassment is rarely discussed as a policy issue. Social worker, activist, and writer Feminista Jones has been working to change that. In June, she tweeted a...   \n",
       "128068  1. Millennials are more liberal than the rest of the country, particularly on social issues, but they get more economically conservative when they make more money.\\n\\nThis is all very confusing. Perhaps it should be when we're using a couple thousand subjects to guess the collective opinions of 86 million people. What are we sure we know about Millennials? Two big things and one small thing.\\n...   \n",
       "128601  My husband’s body lay in the next room. People were filing in and out to say those last few words that in the end all boil down to love. There was weeping and, occasionally, laughter that night in my cottage at the edge of the woods outside Stockholm. All emotions were so heightened, as if we were completely disconnected from the rest of the world. It was a sensation that would continue for a ...   \n",
       "133268  The unwritten contract between customer and retailer is fairly straightforward: A store will have merchandise, salespeople, and a somewhat orderly checkout process. If everyone's feeling classy, there might even be clean floors and a not-terrible scent.\\n\\nBrookfield, Wisconsin, is one of three towns in the greater Milwaukee area that might soon have a store that forgoes one of those agreed-up...   \n",
       "136280  ASPEN, Colo.—Larry Summers does not appear to think much of sanguine predictions about America’s economic future right now.\\n\\nDuring an appearance Tuesday at the Aspen Ideas Festival, which is hosted by The Atlantic and the Aspen Institute, the former Obama and Clinton adviser and Harvard president ticked off the reasons the country is still on a shaky foundation: The recovery from the 2001 r...   \n",
       "148631  Please consider disabling it for our site, or supporting our work in one of these ways\\n\\nIn the controversial Burwell v. Hobby Lobby decision, the Supreme Court ruled that the crafts superstore can't be compelled to offer birth control to its employees under the Affordable Care Act. Ironically, the decision seems to have given birth to a new group of Americans: the Beyoncé voters. Fox News's ...   \n",
       "\n",
       "                                                                                                                                                            url  \\\n",
       "7978                                                            http://www.theatlantic.com/health/archive/2014/07/the-broader-benefits-of-contraception/373856/   \n",
       "10504                                                           http://www.theatlantic.com/international/archive/2014/07/understanding-what-hamas-wants/374656/   \n",
       "11034                                    http://www.theatlantic.com/business/archive/2014/07/why-do-other-rich-nations-spend-so-much-less-on-healthcare/374576/   \n",
       "27354                                                                  http://www.theatlantic.com/entertainment/archive/2014/07/pop-writing-july-1-2014/373758/   \n",
       "27405                                       http://www.theatlantic.com/health/archive/2014/07/study-many-parents-are-in-denial-about-their-kids-obesity/375023/   \n",
       "37094                              http://www.theatlantic.com/technology/archive/2014/07/the-brilliance-of-louis-cks-emails-he-writes-like-a-politician/374034/   \n",
       "44174                                        http://www.theatlantic.com/national/archive/2014/07/millennials-society-will-be-just-fine-without-marriage/374060/   \n",
       "53009                                http://www.theatlantic.com/education/archive/2014/07/meet-the-22-year-old-who-is-fixing-the-summer-achievement-gap/375024/   \n",
       "56869                                                       http://www.theatlantic.com/technology/archive/2014/07/jibjabs-seminal-flash-parody-turns-10/374161/   \n",
       "60087                                                            http://www.theatlantic.com/technology/archive/2014/07/why-snapchat-cares-where-you-are/374733/   \n",
       "64417                          http://www.theatlantic.com/politics/archive/2014/07/the-pattern-of-persecuting-dissenters-in-the-national-security-state/374051/   \n",
       "69116                             http://www.theatlantic.com/politics/archive/2014/07/its-not-a-contradiction-for-men-to-discriminate-against-other-men/374370/   \n",
       "73251                                                         http://www.theatlantic.com/health/archive/2014/07/when-is-health-insurance-too-affordable/373861/   \n",
       "82549               http://www.theatlantic.com/politics/archive/2014/07/7-ways-in-which-high-speed-rail-would-help-california-according-to-its-chairman/374408/   \n",
       "95176                                          http://www.theatlantic.com/international/archive/2014/07/michael-mcfaul-what-turned-putin-against-the-us/373866/   \n",
       "98478                                                  http://www.theatlantic.com/national/archive/2014/07/how-important-is-it-to-have-a-church-wedding/374767/   \n",
       "99439                                                                  http://www.theatlantic.com/politics/archive/2014/07/what-makes-someone-a-refugee/375216/   \n",
       "103129                                                  http://www.theatlantic.com/health/archive/2014/07/the-senates-pushback-on-abortion-restrictions/374507/   \n",
       "103667                                                                   http://www.theatlantic.com/technology/archive/2014/07/love-in-the-internet-age/374328/   \n",
       "106779                                                    http://www.theatlantic.com/technology/archive/2014/07/please-stop-with-all-the-cat-video-talk/373762/   \n",
       "109718                                        http://www.theatlantic.com/business/archive/2014/07/heres-what-obamas-part-time-america-really-looks-like/374356/   \n",
       "113068                                             http://www.theatlantic.com/politics/archive/2014/07/california-high-speed-railmdashthe-critics-speak/374306/   \n",
       "114298                                                       http://www.theatlantic.com/international/archive/2014/07/what-is-hezbollah-doing-in-europe/374973/   \n",
       "121911  http://www.theatlantic.com/politics/archive/2014/07/black-women-street-harassment-even-if-you-dont-like-it-youre-supposed-to-appear-that-you-do/375175/   \n",
       "128068                                        http://www.theatlantic.com/politics/archive/2014/07/millennials-economics-voting-clueless-kids-these-days/374427/   \n",
       "128601                                                                      http://www.theatlantic.com/health/archive/2014/07/when-a-spouse-dies-abroad/372672/   \n",
       "133268                              http://www.theatlantic.com/business/archive/2014/07/coming-soon-a-milwaukee-area-mattress-store-with-no-salespeople/374494/   \n",
       "136280                                           http://www.theatlantic.com/business/archive/2014/07/larry-summerss-4-point-plan-for-saving-the-economy/373849/   \n",
       "148631                                                                http://www.theatlantic.com/politics/archive/2014/07/the-myth-of-the-beyonce-voter/374297/   \n",
       "\n",
       "        count   date_cat  \n",
       "7978        1  (2014, 7)  \n",
       "10504       1  (2014, 7)  \n",
       "11034       1  (2014, 7)  \n",
       "27354       1  (2014, 7)  \n",
       "27405       1  (2014, 7)  \n",
       "37094       1  (2014, 7)  \n",
       "44174       1  (2014, 7)  \n",
       "53009       1  (2014, 7)  \n",
       "56869       1  (2014, 7)  \n",
       "60087       1  (2014, 7)  \n",
       "64417       1  (2014, 7)  \n",
       "69116       1  (2014, 7)  \n",
       "73251       1  (2014, 7)  \n",
       "82549       1  (2014, 7)  \n",
       "95176       1  (2014, 7)  \n",
       "98478       1  (2014, 7)  \n",
       "99439       1  (2014, 7)  \n",
       "103129      1  (2014, 7)  \n",
       "103667      1  (2014, 7)  \n",
       "106779      1  (2014, 7)  \n",
       "109718      1  (2014, 7)  \n",
       "113068      1  (2014, 7)  \n",
       "114298      1  (2014, 7)  \n",
       "121911      1  (2014, 7)  \n",
       "128068      1  (2014, 7)  \n",
       "128601      1  (2014, 7)  \n",
       "133268      1  (2014, 7)  \n",
       "136280      1  (2014, 7)  \n",
       "148631      1  (2014, 7)  "
      ]
     },
     "execution_count": 364,
     "metadata": {},
     "output_type": "execute_result"
    }
   ],
   "source": [
    "a[a[\"publisher\"]== \"theatlantic\"]"
   ]
  },
  {
   "cell_type": "code",
   "execution_count": 361,
   "metadata": {
    "collapsed": false
   },
   "outputs": [
    {
     "data": {
      "text/html": [
       "<div>\n",
       "<table border=\"1\" class=\"dataframe\">\n",
       "  <thead>\n",
       "    <tr style=\"text-align: right;\">\n",
       "      <th></th>\n",
       "      <th>publisher</th>\n",
       "      <th>text</th>\n",
       "      <th>url</th>\n",
       "      <th>count</th>\n",
       "      <th>date_cat</th>\n",
       "    </tr>\n",
       "  </thead>\n",
       "  <tbody>\n",
       "    <tr>\n",
       "      <th>16734</th>\n",
       "      <td>npr</td>\n",
       "      <td>The Great Blue Hope: Michelle Nunn Tries The Improbable In Ga.\\n\\ni toggle caption David Goldman/AP David Goldman/AP\\n\\nGeorgia has been considered safely red territory for more than a decade. But there's a new energy among Democrats in the state, where candidate Michelle Nunn represents the party's best chance of winning a Senate seat in years.\\n\\nThis is Nunn's first run for public office, b...</td>\n",
       "      <td>http://www.npr.org/2014/07/29/336356952/the-great-blue-hope-michelle-nunn-tries-the-improbable-in-ga</td>\n",
       "      <td>1</td>\n",
       "      <td>(2014, 7)</td>\n",
       "    </tr>\n",
       "    <tr>\n",
       "      <th>42802</th>\n",
       "      <td>npr</td>\n",
       "      <td>'The True American' Reveals A Hopeful, Complicated Country\\n\\nAfter the 9/11 attacks, hate crimes against people who were thought to be Muslim caught the country's attention. In \"The True American,\" Anand Giridharadas follows the stories of one of those victims.\\n\\nMICHEL MARTIN, HOST:\\n\\nThis is TELL ME MORE from NPR News. I'm Michel Martin. Happy Fourth of July. For many of us, this is a day...</td>\n",
       "      <td>http://www.npr.org/2014/07/04/328207608/the-true-american-reveals-a-hopeful-complicated-country</td>\n",
       "      <td>1</td>\n",
       "      <td>(2014, 7)</td>\n",
       "    </tr>\n",
       "    <tr>\n",
       "      <th>50408</th>\n",
       "      <td>npr</td>\n",
       "      <td>Patients With Low-Cost Insurance Struggle To Find Specialists\\n\\ni toggle caption Carrie Feibel for NPR Carrie Feibel for NPR\\n\\nThe Hope Clinic in southwest Houston is in the very heart of Asia Town, a part of the city where bland strip malls hide culinary treasures — Vietnamese pho, Malaysian noodles, Sichuan rabbit and bubble tea.\\n\\nInside the clinic, internist Charu Sawhney sees patients ...</td>\n",
       "      <td>http://www.npr.org/sections/health-shots/2014/07/16/331419293/patients-with-low-cost-insurance-struggle-to-find-specialists</td>\n",
       "      <td>1</td>\n",
       "      <td>(2014, 7)</td>\n",
       "    </tr>\n",
       "    <tr>\n",
       "      <th>56503</th>\n",
       "      <td>npr</td>\n",
       "      <td>Rare Unanimity In Supreme Court Term, With Plenty Of Fireworks\\n\\ni toggle caption Mark Wilson/Getty Images Mark Wilson/Getty Images\\n\\nThe nation greets the coming of July each year with fireworks on the National Mall and, days earlier, explosive decisions at the U.S. Supreme Court.\\n\\nWhile the Mall fireworks dissipate within moments, the court's decisions will have repercussions for decades...</td>\n",
       "      <td>http://www.npr.org/2014/07/06/329235293/rare-unanimity-in-supreme-court-term-with-plenty-of-fireworks</td>\n",
       "      <td>1</td>\n",
       "      <td>(2014, 7)</td>\n",
       "    </tr>\n",
       "    <tr>\n",
       "      <th>71325</th>\n",
       "      <td>npr</td>\n",
       "      <td>CBS Lost Appetite For Government Watchdog Stories, Attkisson Says\\n\\nWhen the investigative reporter Sharyl Attkisson left CBS this year, she did not do so quietly. She contends the network refused to run stories that might damage President Obama.\\n\\nRENEE MONTAGNE, HOST:\\n\\nWhen investigative reporter Sharyl Attkisson left CBS this year, she did not go quietly. She contends, the network refus...</td>\n",
       "      <td>http://www.npr.org/2014/07/07/329420338/cbs-lost-appetite-for-government-watchdog-stories-attkisson-says</td>\n",
       "      <td>1</td>\n",
       "      <td>(2014, 7)</td>\n",
       "    </tr>\n",
       "    <tr>\n",
       "      <th>77539</th>\n",
       "      <td>npr</td>\n",
       "      <td>Congress' Latest Death Match Involves A Bank You've Never Heard Of\\n\\ni toggle caption Drew Perine/MCT/Landov Drew Perine/MCT/Landov\\n\\nIt sits in an imposing building just across Lafayette Square from the White House. Yet the Export-Import Bank, which has been offering credit to foreign purchasers of U.S. goods for 80 years, could start shutting down operations within a matter of weeks.\\n\\n\"T...</td>\n",
       "      <td>http://www.npr.org/2014/07/10/330434582/congress-latest-death-match-involves-a-bank-youve-never-heard-of</td>\n",
       "      <td>1</td>\n",
       "      <td>(2014, 7)</td>\n",
       "    </tr>\n",
       "    <tr>\n",
       "      <th>89149</th>\n",
       "      <td>npr</td>\n",
       "      <td>Liverpool Unloads 'The Biter,' Sending Suarez To Barca For $128 Million\\n\\ni toggle caption Eitan Abramovich/AFP/Getty Images Eitan Abramovich/AFP/Getty Images\\n\\nLuis Suarez, the Uruguayan striker who became headline news in the U.S. after biting an Italian player during the World Cup, is moving to a new club. He'll play for Barcelona, after the team reached terms with Liverpool in a transfer...</td>\n",
       "      <td>http://www.npr.org/sections/thetwo-way/2014/07/11/330662428/liverpool-unloads-the-biter-sending-suarez-to-barca-for-128-million</td>\n",
       "      <td>1</td>\n",
       "      <td>(2014, 7)</td>\n",
       "    </tr>\n",
       "    <tr>\n",
       "      <th>101332</th>\n",
       "      <td>npr</td>\n",
       "      <td>As Supreme Court Term Ends, Journalist Examines Its Decisions\\n\\nThe Supreme Court term ended Monday. The New York Times correspondent and lawyer Adam Liptak talks with Fresh Air's Terry Gross about what the decisions reveal about the nine justices.\\n\\nTERRY GROSS, HOST:\\n\\nThis is FRESH AIR. I'm Terry Gross. The Supreme Court term ended Monday with a controversial decision - the Hobby Lobby c...</td>\n",
       "      <td>http://www.npr.org/2014/07/02/327764940/journalist-examines-end-of-term-supreme-court-decisions</td>\n",
       "      <td>1</td>\n",
       "      <td>(2014, 7)</td>\n",
       "    </tr>\n",
       "    <tr>\n",
       "      <th>116489</th>\n",
       "      <td>npr</td>\n",
       "      <td>California Nurses Union Braces For Contract Battle\\n\\ntoggle caption April Dembosky/KQED\\n\\nGoing to a union meeting of nurses is a little bit like going to an evangelical church service.\\n\\n\"We all have to stand up, and it's a struggle,\" says Veronica Cambra, a nurse reporting a grievance at Kaiser Hospital in Fremont, Calif., as though she's giving testimony. \"And we will overcome this, OK?\"...</td>\n",
       "      <td>http://www.npr.org/sections/health-shots/2014/07/23/332547848/california-nurses-union-braces-for-contract-battle</td>\n",
       "      <td>1</td>\n",
       "      <td>(2014, 7)</td>\n",
       "    </tr>\n",
       "    <tr>\n",
       "      <th>120057</th>\n",
       "      <td>npr</td>\n",
       "      <td>The GOP's New Plan To Tackle Poverty: Helpful Or Hurtful?\\n\\nMICHEL MARTIN, HOST:\\n\\nThis is TELL ME MORE from NPR. I'm Michel Martin. We're going to start today talking about politics. Summer is supposed to be a slow time for political news but that's certainly not the case this year. There were some major headlines this week. There were conflicting court rulings pertaining to the Affordable ...</td>\n",
       "      <td>http://www.npr.org/2014/07/25/335294461/the-gops-new-plan-to-tackle-poverty-helpful-or-hurtful</td>\n",
       "      <td>1</td>\n",
       "      <td>(2014, 7)</td>\n",
       "    </tr>\n",
       "    <tr>\n",
       "      <th>146218</th>\n",
       "      <td>npr</td>\n",
       "      <td>States Help New Mothers Get Birth Control Through Medicaid\\n\\ni toggle caption iStockphoto iStockphoto\\n\\nA woman is about to give birth. It will be her second child, and she's not looking to have a third anytime soon. She doesn't want to take birth control pills while she's breast-feeding. And condoms aren't as error-proof as she'd like.\\n\\nThere are a couple of alternatives that are safe, ef...</td>\n",
       "      <td>http://www.npr.org/sections/health-shots/2014/07/23/334074405/states-help-new-mothers-get-birth-control-through-medicaid</td>\n",
       "      <td>1</td>\n",
       "      <td>(2014, 7)</td>\n",
       "    </tr>\n",
       "  </tbody>\n",
       "</table>\n",
       "</div>"
      ],
      "text/plain": [
       "       publisher  \\\n",
       "16734        npr   \n",
       "42802        npr   \n",
       "50408        npr   \n",
       "56503        npr   \n",
       "71325        npr   \n",
       "77539        npr   \n",
       "89149        npr   \n",
       "101332       npr   \n",
       "116489       npr   \n",
       "120057       npr   \n",
       "146218       npr   \n",
       "\n",
       "                                                                                                                                                                                                                                                                                                                                                                                                                   text  \\\n",
       "16734   The Great Blue Hope: Michelle Nunn Tries The Improbable In Ga.\\n\\ni toggle caption David Goldman/AP David Goldman/AP\\n\\nGeorgia has been considered safely red territory for more than a decade. But there's a new energy among Democrats in the state, where candidate Michelle Nunn represents the party's best chance of winning a Senate seat in years.\\n\\nThis is Nunn's first run for public office, b...   \n",
       "42802   'The True American' Reveals A Hopeful, Complicated Country\\n\\nAfter the 9/11 attacks, hate crimes against people who were thought to be Muslim caught the country's attention. In \"The True American,\" Anand Giridharadas follows the stories of one of those victims.\\n\\nMICHEL MARTIN, HOST:\\n\\nThis is TELL ME MORE from NPR News. I'm Michel Martin. Happy Fourth of July. For many of us, this is a day...   \n",
       "50408   Patients With Low-Cost Insurance Struggle To Find Specialists\\n\\ni toggle caption Carrie Feibel for NPR Carrie Feibel for NPR\\n\\nThe Hope Clinic in southwest Houston is in the very heart of Asia Town, a part of the city where bland strip malls hide culinary treasures — Vietnamese pho, Malaysian noodles, Sichuan rabbit and bubble tea.\\n\\nInside the clinic, internist Charu Sawhney sees patients ...   \n",
       "56503   Rare Unanimity In Supreme Court Term, With Plenty Of Fireworks\\n\\ni toggle caption Mark Wilson/Getty Images Mark Wilson/Getty Images\\n\\nThe nation greets the coming of July each year with fireworks on the National Mall and, days earlier, explosive decisions at the U.S. Supreme Court.\\n\\nWhile the Mall fireworks dissipate within moments, the court's decisions will have repercussions for decades...   \n",
       "71325   CBS Lost Appetite For Government Watchdog Stories, Attkisson Says\\n\\nWhen the investigative reporter Sharyl Attkisson left CBS this year, she did not do so quietly. She contends the network refused to run stories that might damage President Obama.\\n\\nRENEE MONTAGNE, HOST:\\n\\nWhen investigative reporter Sharyl Attkisson left CBS this year, she did not go quietly. She contends, the network refus...   \n",
       "77539   Congress' Latest Death Match Involves A Bank You've Never Heard Of\\n\\ni toggle caption Drew Perine/MCT/Landov Drew Perine/MCT/Landov\\n\\nIt sits in an imposing building just across Lafayette Square from the White House. Yet the Export-Import Bank, which has been offering credit to foreign purchasers of U.S. goods for 80 years, could start shutting down operations within a matter of weeks.\\n\\n\"T...   \n",
       "89149   Liverpool Unloads 'The Biter,' Sending Suarez To Barca For $128 Million\\n\\ni toggle caption Eitan Abramovich/AFP/Getty Images Eitan Abramovich/AFP/Getty Images\\n\\nLuis Suarez, the Uruguayan striker who became headline news in the U.S. after biting an Italian player during the World Cup, is moving to a new club. He'll play for Barcelona, after the team reached terms with Liverpool in a transfer...   \n",
       "101332  As Supreme Court Term Ends, Journalist Examines Its Decisions\\n\\nThe Supreme Court term ended Monday. The New York Times correspondent and lawyer Adam Liptak talks with Fresh Air's Terry Gross about what the decisions reveal about the nine justices.\\n\\nTERRY GROSS, HOST:\\n\\nThis is FRESH AIR. I'm Terry Gross. The Supreme Court term ended Monday with a controversial decision - the Hobby Lobby c...   \n",
       "116489  California Nurses Union Braces For Contract Battle\\n\\ntoggle caption April Dembosky/KQED\\n\\nGoing to a union meeting of nurses is a little bit like going to an evangelical church service.\\n\\n\"We all have to stand up, and it's a struggle,\" says Veronica Cambra, a nurse reporting a grievance at Kaiser Hospital in Fremont, Calif., as though she's giving testimony. \"And we will overcome this, OK?\"...   \n",
       "120057  The GOP's New Plan To Tackle Poverty: Helpful Or Hurtful?\\n\\nMICHEL MARTIN, HOST:\\n\\nThis is TELL ME MORE from NPR. I'm Michel Martin. We're going to start today talking about politics. Summer is supposed to be a slow time for political news but that's certainly not the case this year. There were some major headlines this week. There were conflicting court rulings pertaining to the Affordable ...   \n",
       "146218  States Help New Mothers Get Birth Control Through Medicaid\\n\\ni toggle caption iStockphoto iStockphoto\\n\\nA woman is about to give birth. It will be her second child, and she's not looking to have a third anytime soon. She doesn't want to take birth control pills while she's breast-feeding. And condoms aren't as error-proof as she'd like.\\n\\nThere are a couple of alternatives that are safe, ef...   \n",
       "\n",
       "                                                                                                                                    url  \\\n",
       "16734                              http://www.npr.org/2014/07/29/336356952/the-great-blue-hope-michelle-nunn-tries-the-improbable-in-ga   \n",
       "42802                                   http://www.npr.org/2014/07/04/328207608/the-true-american-reveals-a-hopeful-complicated-country   \n",
       "50408       http://www.npr.org/sections/health-shots/2014/07/16/331419293/patients-with-low-cost-insurance-struggle-to-find-specialists   \n",
       "56503                             http://www.npr.org/2014/07/06/329235293/rare-unanimity-in-supreme-court-term-with-plenty-of-fireworks   \n",
       "71325                          http://www.npr.org/2014/07/07/329420338/cbs-lost-appetite-for-government-watchdog-stories-attkisson-says   \n",
       "77539                          http://www.npr.org/2014/07/10/330434582/congress-latest-death-match-involves-a-bank-youve-never-heard-of   \n",
       "89149   http://www.npr.org/sections/thetwo-way/2014/07/11/330662428/liverpool-unloads-the-biter-sending-suarez-to-barca-for-128-million   \n",
       "101332                                  http://www.npr.org/2014/07/02/327764940/journalist-examines-end-of-term-supreme-court-decisions   \n",
       "116489                 http://www.npr.org/sections/health-shots/2014/07/23/332547848/california-nurses-union-braces-for-contract-battle   \n",
       "120057                                   http://www.npr.org/2014/07/25/335294461/the-gops-new-plan-to-tackle-poverty-helpful-or-hurtful   \n",
       "146218         http://www.npr.org/sections/health-shots/2014/07/23/334074405/states-help-new-mothers-get-birth-control-through-medicaid   \n",
       "\n",
       "        count   date_cat  \n",
       "16734       1  (2014, 7)  \n",
       "42802       1  (2014, 7)  \n",
       "50408       1  (2014, 7)  \n",
       "56503       1  (2014, 7)  \n",
       "71325       1  (2014, 7)  \n",
       "77539       1  (2014, 7)  \n",
       "89149       1  (2014, 7)  \n",
       "101332      1  (2014, 7)  \n",
       "116489      1  (2014, 7)  \n",
       "120057      1  (2014, 7)  \n",
       "146218      1  (2014, 7)  "
      ]
     },
     "execution_count": 361,
     "metadata": {},
     "output_type": "execute_result"
    }
   ],
   "source": [
    "a = google_news_df_top_pubs_good_dates[google_news_df_top_pubs_good_dates[\"date_cat\"]==(2014, 7)]\n",
    "a[a[\"publisher\"]== \"npr\"]"
   ]
  },
  {
   "cell_type": "code",
   "execution_count": null,
   "metadata": {
    "collapsed": true
   },
   "outputs": [],
   "source": []
  },
  {
   "cell_type": "code",
   "execution_count": 328,
   "metadata": {
    "collapsed": false
   },
   "outputs": [],
   "source": [
    "def text_to_lda_model(list_of_document_strings, fitted_count_vectorizer_object, n_topics = 20):\n",
    "    \"\"\"Inputs: list of document strings & a fitted count vectorizer files (from sklearn)\"\"\"\n",
    "    \n",
    "    ########################### Step 1 - Convert Text --> Sparse Scipy Matrix  ###########################################################################\n",
    "    from sklearn.feature_extraction.text import CountVectorizer\n",
    "    step_description = \"Step 1: Converts the list of strings into lists of one-hot vectors, trained to whatever dictionery was uesd int he fitted vectorized object\"\n",
    "    print \"Working on\", step_description\n",
    "    print \"It does this by: using fitted_count_vectorizer_object.transform(list_of_strings).transpose()\"\n",
    "    document_strings_as_sparse_matrix = fitted_count_vectorizer_object.transform(list_of_document_strings).transpose()  # The count_vectorized_document_strings object will have be v x d where v = entire vocabulary , and d = # of documents  \n",
    "    print \"Above step completed\"\n",
    "    \n",
    "    ########################### Step 2 - Sparse Scipy Matrix --> Gensim friendly \"corpus\" object ###########################################################################\n",
    "    from gensim import matutils\n",
    "    step_description = \"Step 2: We need to convert our sparse `scipy` matrix to a `gensim`-friendly object called a Corpus:\"\n",
    "    print \"Working on\", step_description \n",
    "    print \"It does this by: using gensimmatutils.Sparse2Corpus(sparse scipy matrix)\"\n",
    "    corpus_object = matutils.Sparse2Corpus(document_strings_as_sparse_matrix)    # For each document, it prints out: (Word_id , count) across that document\n",
    "    print \"Above step completed\"\n",
    "    \n",
    "    ########################### Step 3 - (Need as reference) Take fitted_count_vectorizer_object -> Get vocabulary items -> create dictionary of them. ####################\n",
    "    step_description =  \"Step 3: Map matrix rows to words (tokens) -- We need to save a mapping (dict) of row id to word (token) for later use by gensim:\"\n",
    "    print \"Working on\", step_description \n",
    "    print \"It does this by: dict((v,k) for k,v in fitted_count_vectorizer_object.vocabulary_.iteritems())\"\n",
    "    id2word = dict((v,k) for k,v in fitted_count_vectorizer_object.vocabulary_.iteritems())   # length matches up to documents\n",
    "    print \"Above step completed\"\n",
    "    \n",
    "    ########################### Step 4 - Create LDA Model  ##############################################################################################################\n",
    "    from gensim import models\n",
    "    step_description =  \"Step 4: Creating the LDA model -- direchet distributions etc...\"\n",
    "    print \"Working on\", step_description\n",
    "    print \"It does this by: gensim.models.models.LdaModel(corpus_object, id2word=id2word, num_topics=n_topics,passes=10) )\"\n",
    "    lda_model = models.LdaModel(corpus_object, id2word=id2word, num_topics=n_topics,passes=10)\n",
    "    print \"returning lda_model with\", num_topics,\" total topics\"\n",
    "    return lda_model\n",
    "    print \"Above step completed\""
   ]
  },
  {
   "cell_type": "code",
   "execution_count": null,
   "metadata": {
    "collapsed": false
   },
   "outputs": [],
   "source": []
  },
  {
   "cell_type": "code",
   "execution_count": null,
   "metadata": {
    "collapsed": false
   },
   "outputs": [],
   "source": []
  },
  {
   "cell_type": "code",
   "execution_count": 13,
   "metadata": {
    "collapsed": true
   },
   "outputs": [],
   "source": [
    "################ THis is what I'm Focusing on ################\n",
    "\n",
    "unigram_count_vectorized_50k = count_vectorizer_unigram.transform(list_of_document_strings).transpose()\n",
    "unigram_count_vectorized_50k.shape ##53114 documents, with 97854 tokens"
   ]
  },
  {
   "cell_type": "code",
   "execution_count": 66,
   "metadata": {
    "collapsed": true
   },
   "outputs": [],
   "source": [
    "#ng_vegs = count_vectorizer.transform(list_of_document_strings).transpose() #<- old"
   ]
  },
  {
   "cell_type": "code",
   "execution_count": 67,
   "metadata": {
    "collapsed": false
   },
   "outputs": [
    {
     "data": {
      "text/plain": [
       "(39167, 10576)"
      ]
     },
     "execution_count": 67,
     "metadata": {},
     "output_type": "execute_result"
    }
   ],
   "source": [
    "# ng_vegs.shape"
   ]
  },
  {
   "cell_type": "markdown",
   "metadata": {},
   "source": [
    "# 4) LDA"
   ]
  },
  {
   "cell_type": "markdown",
   "metadata": {},
   "source": [
    "##### Convert to gensim\n",
    "We need to convert our sparse `scipy` matrix to a `gensim`-friendly object called a Corpus:"
   ]
  },
  {
   "cell_type": "code",
   "execution_count": 69,
   "metadata": {
    "collapsed": false
   },
   "outputs": [],
   "source": [
    "# Convert sparse matrix of counts to a gensim corpus\n",
    "#corpus = matutils.Sparse2Corpus(ng_vegs)"
   ]
  },
  {
   "cell_type": "code",
   "execution_count": 15,
   "metadata": {
    "collapsed": true
   },
   "outputs": [],
   "source": [
    "corpus_unigram_50k = matutils.Sparse2Corpus(unigram_count_vectorized_50k)"
   ]
  },
  {
   "cell_type": "code",
   "execution_count": 122,
   "metadata": {
    "collapsed": true
   },
   "outputs": [],
   "source": [
    "corpus_unigram_20k = matutils.Sparse2Corpus(unigram_count_vectorized_20k)"
   ]
  },
  {
   "cell_type": "markdown",
   "metadata": {},
   "source": [
    "##### Map matrix rows to words (tokens)\n",
    "We need to save a mapping (dict) of row id to word (token) for later use by gensim:"
   ]
  },
  {
   "cell_type": "code",
   "execution_count": 72,
   "metadata": {
    "collapsed": true
   },
   "outputs": [],
   "source": [
    "id2word = dict((v,k) for k,v in count_vectorizer.vocabulary_.iteritems())"
   ]
  },
  {
   "cell_type": "code",
   "execution_count": 125,
   "metadata": {
    "collapsed": true
   },
   "outputs": [],
   "source": [
    "# id2word_unigram_20k = dict((v,k) for k,v in count_vectorizer_unigram.vocabulary_.iteritems()) <-- old model"
   ]
  },
  {
   "cell_type": "code",
   "execution_count": 18,
   "metadata": {
    "collapsed": true
   },
   "outputs": [],
   "source": [
    "id2word_unigram_50k = dict((v,k) for k,v in count_vectorizer_unigram.vocabulary_.iteritems())"
   ]
  },
  {
   "cell_type": "markdown",
   "metadata": {},
   "source": [
    "## LDA\n",
    "At this point we can simply plow ahead in creating an LDA model.  It requires our corpus of word counts, mapping of row ids to words, and the number of topics (3)."
   ]
  },
  {
   "cell_type": "code",
   "execution_count": 75,
   "metadata": {
    "collapsed": true
   },
   "outputs": [],
   "source": [
    "# # 10 K models...\n",
    "# # Create lda model (equivalent to \"fit\" in sklearn)\n",
    "# lda = models.LdaModel(corpus, id2word=id2word, num_topics=3,passes=10)\n",
    "# lda_3 = models.LdaModel(corpus, id2word=id2word, num_topics=3,passes=10) #<- if i ever have to reload this..."
   ]
  },
  {
   "cell_type": "code",
   "execution_count": 20,
   "metadata": {
    "collapsed": true
   },
   "outputs": [],
   "source": [
    "################ THis is what I'm Focusing on ################\n",
    "\n",
    "lda_20topics_50k = models.LdaModel(corpus_unigram_50k, id2word=id2word_unigram_50k, num_topics=20,passes=10)"
   ]
  },
  {
   "cell_type": "code",
   "execution_count": 21,
   "metadata": {
    "collapsed": true
   },
   "outputs": [],
   "source": [
    "pickle.dump( lda_20topics_50k, open( \"lda_20topics_50k.pickle\", \"wb\" ) )"
   ]
  },
  {
   "cell_type": "code",
   "execution_count": 79,
   "metadata": {
    "collapsed": true
   },
   "outputs": [],
   "source": []
  },
  {
   "cell_type": "markdown",
   "metadata": {},
   "source": [
    "### LDA = Takes a Corpus -> and Outputs a Topic Space.\n",
    "\n",
    "So, given a new corpus, it will output it onto a new topic space. This is helpful if you get new documents that you want to add to the corpus..."
   ]
  },
  {
   "cell_type": "markdown",
   "metadata": {},
   "source": [
    "Let's take a look at what happened.  Here are the 5 most important words for each of the 3 topics we found:"
   ]
  },
  {
   "cell_type": "code",
   "execution_count": 29,
   "metadata": {
    "collapsed": false
   },
   "outputs": [
    {
     "data": {
      "text/plain": [
       "[(0,\n",
       "  u'0.014*court + 0.007*legal + 0.007*case + 0.007*laws + 0.005*congress + 0.005*justice + 0.005*irs + 0.005*supreme + 0.004*rules + 0.004*agency + 0.004*general + 0.004*decision + 0.004*rule + 0.004*constitution + 0.004*department + 0.004*rights + 0.004*judge + 0.004*executive + 0.004*power + 0.004*attorney'),\n",
       " (1,\n",
       "  u'0.029*patients + 0.029*hospital + 0.026*medical + 0.022*hospitals + 0.021*information + 0.018*patient + 0.013*doctors + 0.012*physicians + 0.010*mondaq + 0.009*physician + 0.009*providers + 0.007*users + 0.007*primary + 0.006*doctor + 0.006*site + 0.006*services + 0.006*com + 0.006*practice + 0.006*provide + 0.006*medicine'),\n",
       " (2,\n",
       "  u'0.013*city + 0.007*community + 0.006*york + 0.006*center + 0.005*event + 0.005*st + 0.005*school + 0.005*group + 0.005*photo + 0.005*university + 0.004*south + 0.004*members + 0.004*director + 0.004*board + 0.004*mayor + 0.003*john + 0.003*county + 0.003*native + 0.003*hall + 0.003*member'),\n",
       " (3,\n",
       "  u'0.007*food + 0.007*water + 0.006*city + 0.004*area + 0.004*home + 0.004*county + 0.004*boulder + 0.004*local + 0.003*building + 0.003*colorado + 0.003*store + 0.003*com + 0.003*lot + 0.003*project + 0.003*business + 0.003*park + 0.003*road + 0.002*small + 0.002*space + 0.002*service'),\n",
       " (4,\n",
       "  u'0.023*religious + 0.013*church + 0.013*sex + 0.012*marriage + 0.012*gay + 0.012*court + 0.011*rights + 0.009*control + 0.009*catholic + 0.008*god + 0.008*freedom + 0.008*abortion + 0.008*women + 0.008*christian + 0.008*birth + 0.007*contraception + 0.007*lobby + 0.007*hobby + 0.007*faith + 0.007*supreme'),\n",
       " (5,\n",
       "  u'0.016*tax + 0.011*income + 0.009*jobs + 0.008*workers + 0.007*money + 0.007*economic + 0.007*pay + 0.006*spending + 0.006*rate + 0.006*billion + 0.006*economy + 0.006*budget + 0.005*job + 0.005*report + 0.005*taxes + 0.005*increase + 0.005*labor + 0.005*benefits + 0.005*wage + 0.005*medicare'),\n",
       " (6,\n",
       "  u'0.036*women + 0.030*children + 0.019*family + 0.016*life + 0.013*parents + 0.013*child + 0.012*young + 0.011*home + 0.009*school + 0.009*kids + 0.008*families + 0.007*age + 0.007*men + 0.007*abortion + 0.006*mother + 0.006*woman + 0.005*old + 0.005*baby + 0.004*education + 0.004*support'),\n",
       " (7,\n",
       "  u'0.029*senate + 0.019*committee + 0.017*rep + 0.016*sen + 0.010*congress + 0.009*legislation + 0.007*senator + 0.007*republican + 0.007*lawmakers + 0.007*vote + 0.007*mcconnell + 0.006*congressional + 0.006*washington + 0.006*members + 0.005*voted + 0.005*leader + 0.005*support + 0.005*chairman + 0.005*reid + 0.005*capitol'),\n",
       " (8,\n",
       "  u'0.015*police + 0.007*man + 0.006*old + 0.006*county + 0.005*gun + 0.005*car + 0.004*department + 0.004*death + 0.004*home + 0.004*killed + 0.003*prison + 0.003*officers + 0.003*officials + 0.003*died + 0.003*crime + 0.003*reported + 0.003*report + 0.003*violence + 0.003*officer + 0.003*woman'),\n",
       " (9,\n",
       "  u'0.024*republicans + 0.015*congress + 0.011*shutdown + 0.011*democrats + 0.010*republican + 0.010*cruz + 0.009*senate + 0.008*budget + 0.007*debt + 0.007*party + 0.006*gop + 0.006*washington + 0.006*boehner + 0.006*va + 0.006*reform + 0.005*deal + 0.005*veterans + 0.005*spending + 0.005*ryan + 0.004*white'),\n",
       " (10,\n",
       "  u'0.016*mr + 0.014*war + 0.012*military + 0.011*united + 0.011*world + 0.009*america + 0.009*foreign + 0.008*iraq + 0.008*security + 0.007*syria + 0.006*russia + 0.006*immigration + 0.006*countries + 0.006*international + 0.005*border + 0.005*iran + 0.005*israel + 0.004*policy + 0.004*immigrants + 0.004*china'),\n",
       " (11,\n",
       "  u'0.012*study + 0.009*cancer + 0.009*drug + 0.008*disease + 0.007*patients + 0.007*treatment + 0.007*research + 0.006*researchers + 0.006*risk + 0.005*drugs + 0.005*mental + 0.005*medical + 0.004*dr + 0.004*heart + 0.004*university + 0.004*blood + 0.003*hiv + 0.003*brain + 0.003*medicine + 0.003*diabetes'),\n",
       " (12,\n",
       "  u'0.008*game + 0.008*team + 0.005*season + 0.004*play + 0.004*second + 0.004*music + 0.004*games + 0.003*film + 0.003*got + 0.003*won + 0.003*best + 0.003*world + 0.003*night + 0.003*sports + 0.003*players + 0.003*run + 0.003*football + 0.003*win + 0.002*field + 0.002*star'),\n",
       " (13,\n",
       "  u'0.006*students + 0.005*school + 0.004*world + 0.004*life + 0.004*really + 0.003*america + 0.003*things + 0.003*social + 0.003*great + 0.003*book + 0.003*education + 0.003*schools + 0.003*change + 0.003*college + 0.003*history + 0.002*different + 0.002*course + 0.002*idea + 0.002*best + 0.002*today'),\n",
       " (14,\n",
       "  u'0.013*company + 0.010*business + 0.010*companies + 0.010*market + 0.008*industry + 0.006*billion + 0.005*growth + 0.005*technology + 0.004*sales + 0.004*energy + 0.004*financial + 0.004*data + 0.004*management + 0.004*global + 0.004*climate + 0.003*healthcare + 0.003*ceo + 0.003*markets + 0.003*investors + 0.003*revenue'),\n",
       " (15,\n",
       "  u'0.021*coverage + 0.021*plans + 0.011*cost + 0.010*costs + 0.010*employees + 0.010*pay + 0.007*insurers + 0.007*benefits + 0.007*aca + 0.007*premiums + 0.007*exchange + 0.007*exchanges + 0.007*employers + 0.006*companies + 0.006*individual + 0.006*employer + 0.005*medicare + 0.005*medical + 0.005*small + 0.005*premium'),\n",
       " (16,\n",
       "  u'0.009*white + 0.005*putin + 0.004*olympic + 0.004*free + 0.004*clark + 0.004*al + 0.003*di + 0.003*administration + 0.003*lane + 0.003*mandela + 0.003*russia + 0.003*crimea + 0.003*hillary + 0.003*women + 0.003*russian + 0.002*ukraine + 0.002*da + 0.002*puerto + 0.002*bad + 0.002*gun'),\n",
       " (17,\n",
       "  u'0.007*media + 0.007*white + 0.006*got + 0.006*really + 0.006*didn + 0.005*twitter + 0.005*video + 0.005*thing + 0.005*post + 0.004*ll + 0.004*fox + 0.004*times + 0.004*things + 0.004*lot + 0.004*actually + 0.004*let + 0.004*story + 0.004*doesn + 0.004*website + 0.004*saying'),\n",
       " (18,\n",
       "  u'0.014*medicaid + 0.011*program + 0.010*services + 0.009*healthcare + 0.007*gov + 0.007*information + 0.006*website + 0.005*community + 0.005*department + 0.005*enrollment + 0.005*center + 0.005*access + 0.005*officials + 0.004*california + 0.004*problems + 0.004*exchange + 0.004*director + 0.004*data + 0.004*expansion + 0.004*county'),\n",
       " (19,\n",
       "  u'0.016*party + 0.014*republican + 0.011*political + 0.011*campaign + 0.009*election + 0.008*democrats + 0.008*democratic + 0.008*conservative + 0.007*republicans + 0.007*voters + 0.006*governor + 0.005*gop + 0.005*tea + 0.005*candidate + 0.005*support + 0.005*candidates + 0.005*race + 0.004*primary + 0.004*politics + 0.004*poll')]"
      ]
     },
     "execution_count": 29,
     "metadata": {},
     "output_type": "execute_result"
    }
   ],
   "source": [
    "lda_20topics_50k.print_topics(num_words = 20,num_topics=20)"
   ]
  },
  {
   "cell_type": "code",
   "execution_count": 175,
   "metadata": {
    "collapsed": false
   },
   "outputs": [
    {
     "data": {
      "text/plain": [
       "[(0,\n",
       "  u'0.022*company + 0.017*business + 0.010*companies + 0.008*technology + 0.006*market + 0.006*industry + 0.006*online + 0.005*facebook + 0.005*data + 0.005*based'),\n",
       " (1,\n",
       "  u'0.016*religious + 0.014*rights + 0.012*church + 0.011*marriage + 0.011*catholic + 0.009*god + 0.008*gay + 0.007*freedom + 0.007*control + 0.007*gun'),\n",
       " (8,\n",
       "  u'0.034*women + 0.025*school + 0.023*students + 0.022*children + 0.014*education + 0.014*college + 0.012*family + 0.011*young + 0.011*university + 0.010*child'),\n",
       " (12,\n",
       "  u'0.022*cruz + 0.013*clinton + 0.010*military + 0.009*trump + 0.009*putin + 0.008*white + 0.008*war + 0.008*immigration + 0.007*syria + 0.007*russia'),\n",
       " (18,\n",
       "  u'0.019*patients + 0.015*medical + 0.015*hospital + 0.014*information + 0.011*patient + 0.009*use + 0.008*hospitals + 0.008*doctors + 0.008*services + 0.007*mondaq'),\n",
       " (16,\n",
       "  u'0.015*city + 0.011*county + 0.008*police + 0.007*community + 0.006*local + 0.006*center + 0.005*home + 0.005*area + 0.004*st + 0.004*council'),\n",
       " (6,\n",
       "  u'0.009*food + 0.006*study + 0.005*brain + 0.004*disease + 0.004*hiv + 0.003*researchers + 0.003*use + 0.003*body + 0.003*water + 0.003*blood'),\n",
       " (2,\n",
       "  u'0.036*court + 0.014*supreme + 0.011*case + 0.010*legal + 0.009*justice + 0.009*laws + 0.009*decision + 0.009*congress + 0.008*constitution + 0.007*amendment'),\n",
       " (4,\n",
       "  u'0.004*america + 0.004*fact + 0.003*left + 0.003*social + 0.003*change + 0.003*world + 0.003*course + 0.003*actually + 0.003*point + 0.003*policy'),\n",
       " (3,\n",
       "  u'0.017*coverage + 0.014*medicaid + 0.013*plans + 0.007*exchange + 0.007*cost + 0.007*costs + 0.007*exchanges + 0.006*uninsured + 0.006*premiums + 0.006*employees')]"
      ]
     },
     "execution_count": 175,
     "metadata": {},
     "output_type": "execute_result"
    }
   ],
   "source": [
    "lda_20_unigram_20k.print_topics(num_words = 10)"
   ]
  },
  {
   "cell_type": "code",
   "execution_count": 171,
   "metadata": {
    "collapsed": false
   },
   "outputs": [
    {
     "data": {
      "text/plain": [
       "[(18,\n",
       "  u'0.036*afterward adds + 0.023*allow higher + 0.017*arrangements handled simpson + 0.016*arrant + 0.014*appealing options + 0.009*arranger + 0.009*adding house republicans + 0.009*appealing policy + 0.009*ask foreign + 0.007*americans pay year'),\n",
       " (16,\n",
       "  u'0.010*amerikanischen + 0.009*anobody com + 0.007*approved federal government + 0.006*allegedly asked + 0.005*agencies spend + 0.005*anobody com john + 0.005*adobes ariz opened + 0.004*act applied + 0.004*able cheerleaders + 0.004*ashley river'),\n",
       " (9,\n",
       "  u'0.011*appeal months federal + 0.004*asked define + 0.002*acres wetlands + 0.001*approved bush + 0.001*agreement mr + 0.001*amy walter + 0.001*arrived exactly + 0.001*applause strong continued + 0.001*access energy + 0.001*abortion birth'),\n",
       " (13,\n",
       "  u'0.005*acquisition majority + 0.004*asked really think + 0.003*ahead congressional + 0.003*america attempts + 0.003*americans carry + 0.003*adjustment purposes + 0.003*affect property + 0.002*airmen + 0.002*adherents winteregg + 0.002*analysis results'),\n",
       " (5,\n",
       "  u'0.001*america single + 0.001*ads electioneering + 0.001*adam carolla + 0.001*advisers called + 0.001*argument man + 0.001*ad directed + 0.001*america slavery + 0.001*appeal young people + 0.000*animal subjects + 0.000*administrator ms tavenner'),\n",
       " (10,\n",
       "  u'0.010*april ed + 0.008*according scdmh + 0.008*asked priority + 0.007*agenda public + 0.006*afraid come + 0.006*al franken minn + 0.006*added new jobs + 0.005*advantage manufacturers + 0.005*act fine + 0.005*access main'),\n",
       " (0,\n",
       "  u'0.005*actually going happen + 0.002*actors writers + 0.002*agency enforcement + 0.002*alternatives government + 0.001*apparatus extensive campaign + 0.001*aspen airport + 0.001*areas said + 0.001*added ultimately + 0.001*added twice + 0.001*asked city council'),\n",
       " (15,\n",
       "  u'0.004*america understands + 0.002*annual fall + 0.002*areas past years + 0.001*adults asked + 0.001*anybody voted + 0.001*alongside obamacare + 0.001*affluent don qualify + 0.001*abortion years + 0.001*advisors paper + 0.001*additional pocket costs'),\n",
       " (7,\n",
       "  u'0.011*american born + 0.010*allowed free + 0.006*account doesn + 0.005*action course + 0.005*actor kal penn + 0.005*addiction chronic + 0.004*actor died + 0.004*april just hours + 0.004*act mixed bag + 0.004*artists doesn'),\n",
       " (19,\n",
       "  u'0.004*act long term + 0.003*act stay obama + 0.003*ability commitment + 0.003*askdrmanny com + 0.002*americans catholics + 0.002*accounting measures mr + 0.002*antonin scalia samuel + 0.002*alex knoedler + 0.002*agency downgrade + 0.002*according obama')]"
      ]
     },
     "execution_count": 171,
     "metadata": {},
     "output_type": "execute_result"
    }
   ],
   "source": [
    "lda_20_trigram_20k.print_topics(num_words=10)"
   ]
  },
  {
   "cell_type": "code",
   "execution_count": 76,
   "metadata": {
    "collapsed": false
   },
   "outputs": [
    {
     "data": {
      "text/plain": [
       "[(0,\n",
       "  u'0.003*life + 0.003*city + 0.002*court + 0.002*world + 0.002*school + 0.002*women + 0.002*says + 0.002*old + 0.002*family + 0.002*home'),\n",
       " (1,\n",
       "  u'0.011*mr + 0.004*romney + 0.004*democrats + 0.004*senate + 0.004*campaign + 0.003*ve + 0.003*conservative + 0.003*tax + 0.003*cruz + 0.003*america'),\n",
       " (2,\n",
       "  u'0.006*coverage + 0.004*plans + 0.004*healthcare + 0.004*medicaid + 0.003*services + 0.003*medical + 0.003*cost + 0.003*tax + 0.003*pay + 0.003*says')]"
      ]
     },
     "execution_count": 76,
     "metadata": {},
     "output_type": "execute_result"
    }
   ],
   "source": [
    "lda.print_topics(num_topics=3,num_words=10)"
   ]
  },
  {
   "cell_type": "code",
   "execution_count": 172,
   "metadata": {
    "collapsed": false
   },
   "outputs": [
    {
     "data": {
      "text/plain": [
       "[(0,\n",
       "  u'0.004*says + 0.004*school + 0.003*old + 0.003*city + 0.003*home + 0.003*life + 0.003*really'),\n",
       " (1,\n",
       "  u'0.010*ve + 0.008*america + 0.007*let + 0.006*world + 0.006*applause + 0.005*trump + 0.005*ll'),\n",
       " (2,\n",
       "  u'0.012*coverage + 0.010*plans + 0.009*healthcare + 0.008*medicaid + 0.007*patients + 0.006*exchange + 0.006*services'),\n",
       " (3,\n",
       "  u'0.013*information + 0.006*content + 0.005*county + 0.005*report + 0.004*police + 0.004*security + 0.004*use'),\n",
       " (4,\n",
       "  u'0.013*court + 0.006*supreme + 0.006*case + 0.004*power + 0.004*mandate + 0.004*conservative + 0.004*decision'),\n",
       " (5,\n",
       "  u'0.016*women + 0.009*abortion + 0.008*religious + 0.008*life + 0.005*rights + 0.004*church + 0.004*control'),\n",
       " (6,\n",
       "  u'0.032*mr + 0.013*romney + 0.010*campaign + 0.006*advertisement + 0.005*governor + 0.005*voters + 0.005*election'),\n",
       " (7,\n",
       "  u'0.016*senate + 0.012*democrats + 0.009*cruz + 0.008*shutdown + 0.006*gop + 0.006*vote + 0.005*sen'),\n",
       " (8,\n",
       "  u'0.046*internet + 0.039*browser + 0.035*longer + 0.032*supports + 0.030*upgrade + 0.030*nytimes + 0.029*explorer'),\n",
       " (9,\n",
       "  u'0.010*tax + 0.006*income + 0.006*business + 0.005*workers + 0.004*pay + 0.004*cost + 0.004*costs')]"
      ]
     },
     "execution_count": 172,
     "metadata": {},
     "output_type": "execute_result"
    }
   ],
   "source": [
    "lda_10topics.print_topics(num_topics=10,num_words=7)"
   ]
  },
  {
   "cell_type": "code",
   "execution_count": 96,
   "metadata": {
    "collapsed": false
   },
   "outputs": [
    {
     "data": {
      "text/plain": [
       "[(0, u'0.018*senate + 0.013*democrats + 0.009*legislation + 0.007*vote'),\n",
       " (1, u'0.108*ohio + 0.101*biden + 0.079*vice + 0.065*kasich'),\n",
       " (2, u'0.050*christmas + 0.043*http + 0.024*comedy + 0.016*stewart'),\n",
       " (3, u'0.085*south + 0.050*north + 0.046*gun + 0.046*carolina'),\n",
       " (4, u'0.048*business + 0.040*company + 0.022*small + 0.018*businesses'),\n",
       " (5, u'0.081*cgi + 0.034*aarp + 0.026*illinois + 0.021*logica'),\n",
       " (6, u'0.038*religious + 0.022*church + 0.020*catholic + 0.012*christian'),\n",
       " (7, u'0.026*patients + 0.022*medical + 0.018*hospital + 0.015*doctors'),\n",
       " (8, u'0.029*white + 0.028*enrollment + 0.022*sign + 0.018*jan'),\n",
       " (9, u'0.049*employees + 0.036*hours + 0.025*employers + 0.025*mandate'),\n",
       " (10, u'0.025*kennedy + 0.019*que + 0.015*davis + 0.014*nov'),\n",
       " (11, u'0.063*cancer + 0.045*disease + 0.025*heart + 0.023*brain'),\n",
       " (12, u'0.021*ve + 0.012*got + 0.011*ll + 0.011*lot'),\n",
       " (13, u'0.045*school + 0.035*students + 0.027*education + 0.019*college'),\n",
       " (14,\n",
       "  u'0.082*immigration + 0.067*explorer + 0.034*immigrants + 0.033*christie'),\n",
       " (15, u'0.031*carson + 0.027*twitter + 0.025*ben + 0.024*hudson'),\n",
       " (16, u'0.008*conservative + 0.007*left + 0.006*conservatives + 0.005*media'),\n",
       " (17, u'0.035*shutdown + 0.020*debt + 0.014*spending + 0.013*budget'),\n",
       " (18, u'0.014*beck + 0.012*video + 0.012*website + 0.012*fox'),\n",
       " (19, u'0.070*ms + 0.066*mr + 0.048*perry + 0.042*governor'),\n",
       " (20, u'0.012*county + 0.009*district + 0.008*community + 0.008*colorado'),\n",
       " (21, u'0.021*information + 0.014*healthcare + 0.014*gov + 0.013*website'),\n",
       " (22, u'0.030*clinton + 0.022*applause + 0.017*senator + 0.016*sanders'),\n",
       " (23, u'0.033*johnson + 0.018*west + 0.018*pr + 0.017*des'),\n",
       " (24, u'0.007*city + 0.006*home + 0.006*study + 0.005*smoking'),\n",
       " (25, u'0.066*mental + 0.047*david + 0.042*climate + 0.028*change'),\n",
       " (26, u'0.073*medicaid + 0.031*program + 0.022*expansion + 0.018*income'),\n",
       " (27, u'0.013*police + 0.011*city + 0.006*man + 0.005*old'),\n",
       " (28, u'0.137*mr + 0.059*romney + 0.017*campaign + 0.013*mitt'),\n",
       " (29, u'0.028*tax + 0.015*income + 0.013*subsidies + 0.011*exchanges'),\n",
       " (30, u'0.017*war + 0.016*military + 0.016*world + 0.013*syria'),\n",
       " (31, u'0.007*black + 0.006*man + 0.005*white + 0.005*really'),\n",
       " (32, u'0.010*service + 0.010*se + 0.008*internet + 0.008*koch'),\n",
       " (33, u'0.031*content + 0.012*technology + 0.011*data + 0.011*marketing'),\n",
       " (34, u'0.024*tax + 0.014*spending + 0.014*economy + 0.012*taxes'),\n",
       " (35, u'0.152*internet + 0.148*browser + 0.130*longer + 0.129*supports'),\n",
       " (36, u'0.102*cruz + 0.036*texas + 0.035*ted + 0.027*paul'),\n",
       " (37, u'0.046*trump + 0.012*america + 0.011*donald + 0.006*bush'),\n",
       " (38, u'0.020*water + 0.012*farm + 0.011*energy + 0.010*river'),\n",
       " (39, u'0.062*court + 0.027*supreme + 0.018*case + 0.017*justice'),\n",
       " (40, u'0.017*campaign + 0.013*election + 0.011*democrats + 0.011*democratic'),\n",
       " (41, u'0.028*la + 0.025*food + 0.023*milk + 0.014*die'),\n",
       " (42, u'0.029*women + 0.020*life + 0.015*abortion + 0.011*children'),\n",
       " (43, u'0.006*advertisement + 0.006*social + 0.006*reform + 0.006*politics'),\n",
       " (44, u'0.022*channel + 0.022*author + 0.013*opinions + 0.013*contributor'),\n",
       " (45, u'0.059*wage + 0.046*minimum + 0.044*workers + 0.036*inequality'),\n",
       " (46, u'0.011*growth + 0.009*report + 0.008*increase + 0.007*market'),\n",
       " (47, u'0.035*game + 0.027*team + 0.026*season + 0.021*players'),\n",
       " (48, u'0.026*poll + 0.016*veterans + 0.015*survey + 0.012*job'),\n",
       " (49, u'0.036*coverage + 0.035*plans + 0.016*premiums + 0.013*insurers')]"
      ]
     },
     "execution_count": 96,
     "metadata": {},
     "output_type": "execute_result"
    }
   ],
   "source": [
    "#lda_50topics.num_topics\n",
    "lda_50topics.print_topics(num_topics=50,num_words=4)"
   ]
  },
  {
   "cell_type": "markdown",
   "metadata": {},
   "source": [
    "### The step above is basically the topic space that's created -- for a given topic, it gives the distribution of words..."
   ]
  },
  {
   "cell_type": "markdown",
   "metadata": {},
   "source": [
    "#### Topic Space\n",
    "If we want to map our documents to the topic space we need to actually use the LdaModel transformer that we created above, like so:"
   ]
  },
  {
   "cell_type": "code",
   "execution_count": 78,
   "metadata": {
    "collapsed": true
   },
   "outputs": [],
   "source": [
    "# Transform the docs from the word space to the topic space (like \"transform\" in sklearn)\n",
    "\n",
    "lda_corpus = lda[corpus]"
   ]
  },
  {
   "cell_type": "code",
   "execution_count": null,
   "metadata": {
    "collapsed": true
   },
   "outputs": [],
   "source": [
    "i = 0\n",
    "for x in lda_corpus:\n",
    "    i += 1\n",
    "    if i >3:\n",
    "        break\n",
    "    print x"
   ]
  },
  {
   "cell_type": "code",
   "execution_count": null,
   "metadata": {
    "collapsed": true
   },
   "outputs": [],
   "source": [
    "# Store the documents' topic vectors in a list so we can take a peak\n",
    "\n",
    "lda_docs = [doc for doc in lda_corpus]"
   ]
  },
  {
   "cell_type": "markdown",
   "metadata": {},
   "source": [
    "Now we can take a look at the document vectors in the topic space, which are measures of the component of each document along each topic.  Thus, at most a document vector can have num_topics=3 nonzero components in the topic space, and most have far fewer."
   ]
  },
  {
   "cell_type": "code",
   "execution_count": null,
   "metadata": {
    "collapsed": true
   },
   "outputs": [],
   "source": [
    "# Check out the document vectors in the topic space for the first 5 documents\n",
    "for doc in lda_docs[0:5]:\n",
    "    print doc\n",
    "    print"
   ]
  },
  {
   "cell_type": "code",
   "execution_count": null,
   "metadata": {
    "collapsed": true
   },
   "outputs": [],
   "source": []
  },
  {
   "cell_type": "code",
   "execution_count": 16,
   "metadata": {
    "collapsed": false
   },
   "outputs": [
    {
     "data": {
      "text/plain": [
       "163184"
      ]
     },
     "execution_count": 16,
     "metadata": {},
     "output_type": "execute_result"
    }
   ],
   "source": [
    "len(google_news_dictionary_article_text.keys())"
   ]
  },
  {
   "cell_type": "markdown",
   "metadata": {},
   "source": [
    "<hr>"
   ]
  },
  {
   "cell_type": "markdown",
   "metadata": {},
   "source": [
    "# Creating a usuable dataframe..."
   ]
  },
  {
   "cell_type": "code",
   "execution_count": 76,
   "metadata": {
    "collapsed": false
   },
   "outputs": [],
   "source": [
    "google_news_dictionary_article_text = pickle.load( open(\"google_news_dictionary_article_text.pickle\", \"rb\" ))"
   ]
  },
  {
   "cell_type": "code",
   "execution_count": 202,
   "metadata": {
    "collapsed": true
   },
   "outputs": [],
   "source": [
    "news_domains = pd.read_csv(\"news_domains.csv\")"
   ]
  },
  {
   "cell_type": "code",
   "execution_count": 203,
   "metadata": {
    "collapsed": false
   },
   "outputs": [],
   "source": [
    "news_domains[\"domain_stripped\"] = news_domains[\"Domain\"]\n",
    "for i in range(len(news_domains[\"domain_stripped\"])):\n",
    "    news_domains[\"domain_stripped\"][i] = news_domains[\"domain_stripped\"][i].replace(\".com\",\"\")\n",
    "    news_domains[\"domain_stripped\"][i] = news_domains[\"domain_stripped\"][i].replace(\".org\",\"\")"
   ]
  },
  {
   "cell_type": "code",
   "execution_count": 212,
   "metadata": {
    "collapsed": false
   },
   "outputs": [
    {
     "data": {
      "text/plain": [
       "['cnn',\n",
       " 'huffingtonpost',\n",
       " 'time',\n",
       " 'npr',\n",
       " 'slate',\n",
       " 'newsweek',\n",
       " 'usnews',\n",
       " 'politico',\n",
       " 'salon',\n",
       " 'indymedia',\n",
       " 'democraticunderground',\n",
       " 'theatlantic',\n",
       " 'villagevoice',\n",
       " 'dailykos',\n",
       " 'eschatonblog',\n",
       " 'newyorker',\n",
       " 'thedailybeast',\n",
       " 'alternet',\n",
       " 'commondreams',\n",
       " 'crooksandliars',\n",
       " 'buzzflash',\n",
       " 'talkingpointsmemo',\n",
       " 'moveon',\n",
       " 'motherjones',\n",
       " 'amnesty',\n",
       " 'counterpunch',\n",
       " 'thenation',\n",
       " 'antiwar',\n",
       " 'thinkprogress',\n",
       " 'rawstory',\n",
       " 'tnr',\n",
       " 'plannedparenthood',\n",
       " 'informationclearinghouse.info',\n",
       " 'whatreallyhappened',\n",
       " 'opednews',\n",
       " 'bad.eserver',\n",
       " 'politicalwire',\n",
       " 'wsws',\n",
       " 'aclu',\n",
       " 'cidh.oas',\n",
       " 'mediamatters',\n",
       " 'feministing',\n",
       " 'truthout',\n",
       " 'drudge',\n",
       " 'prospect',\n",
       " 'harpers',\n",
       " 'firedoglake',\n",
       " 'truthdig',\n",
       " 'wonkette',\n",
       " 'americablog',\n",
       " 'fivethirtyeight',\n",
       " 'washingtonmonthly',\n",
       " 'michaelmoore',\n",
       " 'bartcop',\n",
       " 'airamerica',\n",
       " 'oliverwillis',\n",
       " 'mydd',\n",
       " 'americanprogress',\n",
       " 'brookings.edu',\n",
       " 'zmag',\n",
       " 'foxnews',\n",
       " 'wsj',\n",
       " 'drudgereport',\n",
       " 'nypost',\n",
       " 'worldnetdaily',\n",
       " 'newsmax',\n",
       " 'freerepublic',\n",
       " 'washingtontimes',\n",
       " 'townhall',\n",
       " 'rushlimbaugh',\n",
       " 'realclearpolitics',\n",
       " 'nationalreview',\n",
       " 'hotair',\n",
       " 'michellemalkin',\n",
       " 'glennbeck',\n",
       " 'humaneventsonline',\n",
       " 'heritage',\n",
       " 'newsbusters',\n",
       " 'lewrockwell',\n",
       " 'weeklystandard',\n",
       " 'newswithviews',\n",
       " 'hannity',\n",
       " 'pajamasmedia',\n",
       " 'mises',\n",
       " 'atlasshrugs2000.typepad',\n",
       " 'americanthinker',\n",
       " 'cnsnews',\n",
       " 'boortz',\n",
       " 'reason',\n",
       " 'lucianne',\n",
       " 'anncoulter',\n",
       " 'cato',\n",
       " 'dailypaul',\n",
       " 'volokh',\n",
       " 'billoreilly',\n",
       " 'redstate',\n",
       " 'conservapedia',\n",
       " 'powerlineblog',\n",
       " 'jewishworldreview',\n",
       " 'frontpagemag',\n",
       " 'danielpipes',\n",
       " 'littlegreenfootballs',\n",
       " 'campaignforliberty',\n",
       " 'spectator',\n",
       " 'commentarymagazine',\n",
       " 'gopusa',\n",
       " 'lileks',\n",
       " 'rightwingnews',\n",
       " 'wizbangblog',\n",
       " 'daybydaycartoon',\n",
       " 'moonbattery',\n",
       " 'lifenews',\n",
       " 'vdare',\n",
       " 'debbieschlussel',\n",
       " 'gop',\n",
       " 'lifesitenews',\n",
       " 'dickmorris',\n",
       " 'blackfive.net',\n",
       " 'outsidethebeltway',\n",
       " 'amconmag']"
      ]
     },
     "execution_count": 212,
     "metadata": {},
     "output_type": "execute_result"
    }
   ],
   "source": [
    "important_domains"
   ]
  },
  {
   "cell_type": "code",
   "execution_count": 214,
   "metadata": {
    "collapsed": false
   },
   "outputs": [
    {
     "data": {
      "text/plain": [
       "0.21875"
      ]
     },
     "execution_count": 214,
     "metadata": {},
     "output_type": "execute_result"
    }
   ],
   "source": [
    "35/float(160)"
   ]
  },
  {
   "cell_type": "code",
   "execution_count": 211,
   "metadata": {
    "collapsed": false
   },
   "outputs": [
    {
     "data": {
      "text/plain": [
       "120"
      ]
     },
     "execution_count": 211,
     "metadata": {},
     "output_type": "execute_result"
    }
   ],
   "source": [
    "len(important_domains)"
   ]
  },
  {
   "cell_type": "code",
   "execution_count": 219,
   "metadata": {
    "collapsed": false
   },
   "outputs": [
    {
     "data": {
      "text/plain": [
       "Index([u'publisher', u'date', u'text', u'url', u'date_cleaned'], dtype='object')"
      ]
     },
     "execution_count": 219,
     "metadata": {},
     "output_type": "execute_result"
    }
   ],
   "source": [
    "google_news_df.keys()"
   ]
  },
  {
   "cell_type": "code",
   "execution_count": 280,
   "metadata": {
    "collapsed": true
   },
   "outputs": [],
   "source": [
    "import lonprgging\n",
    "logging.basicConfig(format='%(asctime)s : %(levelname)s : %(message)s', level=logging.INFO)\n",
    "\n",
    "from gensim.summarization import summarize\n",
    "# 1 Article -> 10% of article\n",
    "summeryA = summarize(text,ratio=0.1)\n",
    "# 1 Article -> 100 words\n",
    "summeryB = summarize(text,word_count=100)"
   ]
  },
  {
   "cell_type": "code",
   "execution_count": 284,
   "metadata": {
    "collapsed": false
   },
   "outputs": [
    {
     "data": {
      "text/plain": [
       "u'This week: The GOP\\'s victory a Florida special election, Rand Paul\\'s emergence as the big winner at CPAC, and conservative critiques of Obama\\'s appearance on \"Between Two Ferns.\"\\nThe CPAC presidential straw poll results are also meaningless, but I remain convinced that Rand Paul is the man to beat in the Republican race, for all the reasons I have outlined previously, and also because he persists as an outlier in his party on foreign policy.'"
      ]
     },
     "execution_count": 284,
     "metadata": {},
     "output_type": "execute_result"
    }
   ],
   "source": [
    "summeryB"
   ]
  },
  {
   "cell_type": "code",
   "execution_count": 300,
   "metadata": {
    "collapsed": false,
    "scrolled": true
   },
   "outputs": [
    {
     "data": {
      "text/plain": [
       "[Sentence(\"This week: The GOP's victory a Florida special election, Rand Paul's emergence as the big winner at CPAC, and conservative critiques of Obama's appearance on \"Between Two Ferns.\"\"),\n",
       " Sentence(\"The CPAC presidential straw poll results are also meaningless, but I remain convinced that Rand Paul is the man to beat in the Republican race, for all the reasons I have outlined previously, and also because he persists as an outlier in his party on foreign policy.\"),\n",
       " Sentence(\"Yes, the incumbent Republican Senator John Cornyn easily beat a crackpot far-right challenger, Steve Stockman, but in the most closely contested race for arguably the most powerful office in Texas, Lieutenant Governor, the Republican incumbent, the very conservative David Dewhurst, received only 28 percent of the vote, losing to the very far right Tea Party darling, State Senator Dan Patrick, who received 42 percent.\"),\n",
       " Sentence(\"A number of prominent conservatives have spoken out against President Obama's Affordable Care Act–promoting appearance on Zach Galifianakis's mock talk show, \"Between Two Ferns.\"\"),\n",
       " Sentence(\"Rush Limbaugh called it \"devastating to the office.\"\"),\n",
       " Sentence(\"Texas Representative Randy Weber tweeted that it was a distraction from \"finding answers re: #Benghazi.\"\"),\n",
       " Sentence(\"And Bill O'Reilly contended that \"Abe Lincoln would not have done it.\"\"),\n",
       " Sentence(\"Is this what Obamacare opposition has come to?\")]"
      ]
     },
     "execution_count": 300,
     "metadata": {},
     "output_type": "execute_result"
    }
   ],
   "source": [
    "TextBlob(summeryA).sentences\n"
   ]
  },
  {
   "cell_type": "code",
   "execution_count": 302,
   "metadata": {
    "collapsed": false
   },
   "outputs": [],
   "source": [
    "from vaderSentiment import vaderSentiment\n",
    "from textblob import TextBlob\n",
    "\n",
    "for sentence in TextBlob(summeryA).sentences:\n",
    "    print vaderSentiment.sentiment(str(sentence))"
   ]
  },
  {
   "cell_type": "code",
   "execution_count": 278,
   "metadata": {
    "collapsed": false
   },
   "outputs": [
    {
     "data": {
      "text/plain": [
       "u'This week: The GOP\\'s victory a Florida special election, Rand Paul\\'s emergence as the big winner at CPAC, and conservative critiques of Obama\\'s appearance on \"Between Two Ferns.\"\\nThe CPAC presidential straw poll results are also meaningless, but I remain convinced that Rand Paul is the man to beat in the Republican race, for all the reasons I have outlined previously, and also because he persists as an outlier in his party on foreign policy.'"
      ]
     },
     "execution_count": 278,
     "metadata": {},
     "output_type": "execute_result"
    }
   ],
   "source": [
    "summeryB"
   ]
  },
  {
   "cell_type": "code",
   "execution_count": 225,
   "metadata": {
    "collapsed": false
   },
   "outputs": [
    {
     "data": {
      "text/plain": [
       "u'This week: The GOP\\'s victory a Florida special election, Rand Paul\\'s emergence as the big winner at CPAC, and conservative critiques of Obama\\'s appearance on \"Between Two Ferns.\"\\nThe CPAC presidential straw poll results are also meaningless, but I remain convinced that Rand Paul is the man to beat in the Republican race, for all the reasons I have outlined previously, and also because he persists as an outlier in his party on foreign policy.\\nYes, the incumbent Republican Senator John Cornyn easily beat a crackpot far-right challenger, Steve Stockman, but in the most closely contested race for arguably the most powerful office in Texas, Lieutenant Governor, the Republican incumbent, the very conservative David Dewhurst, received only 28 percent of the vote, losing to the very far right Tea Party darling, State Senator Dan Patrick, who received 42 percent.\\nA number of prominent conservatives have spoken out against President Obama\\'s Affordable Care Act\\u2013promoting appearance on Zach Galifianakis\\'s mock talk show, \"Between Two Ferns.\" Rush Limbaugh called it \"devastating to the office.\" Texas Representative Randy Weber tweeted that it was a distraction from \"finding answers re: #Benghazi.\" And Bill O\\'Reilly contended that \"Abe Lincoln would not have done it.\" Is this what Obamacare opposition has come to?'"
      ]
     },
     "execution_count": 225,
     "metadata": {},
     "output_type": "execute_result"
    }
   ],
   "source": [
    "summarize(text,ratio=0.1)"
   ]
  },
  {
   "cell_type": "code",
   "execution_count": 229,
   "metadata": {
    "collapsed": false
   },
   "outputs": [
    {
     "data": {
      "text/plain": [
       "Index([u'publisher', u'date', u'text', u'url', u'date_cleaned'], dtype='object')"
      ]
     },
     "execution_count": 229,
     "metadata": {},
     "output_type": "execute_result"
    }
   ],
   "source": [
    "google_news_df.keys()"
   ]
  },
  {
   "cell_type": "code",
   "execution_count": 237,
   "metadata": {
    "collapsed": true
   },
   "outputs": [],
   "source": [
    "pd.set_option('max_colwidth',400)"
   ]
  },
  {
   "cell_type": "code",
   "execution_count": 238,
   "metadata": {
    "collapsed": false
   },
   "outputs": [
    {
     "data": {
      "text/html": [
       "<div>\n",
       "<table border=\"1\" class=\"dataframe\">\n",
       "  <thead>\n",
       "    <tr style=\"text-align: right;\">\n",
       "      <th></th>\n",
       "      <th>scope</th>\n",
       "      <th>scope_type</th>\n",
       "      <th>tfidf_top10</th>\n",
       "      <th>top1</th>\n",
       "      <th>top2</th>\n",
       "      <th>top3</th>\n",
       "      <th>top4</th>\n",
       "      <th>top5</th>\n",
       "      <th>google_titles_for_top1</th>\n",
       "      <th>google_summeries_for_top1</th>\n",
       "      <th>google_titles_for_top2</th>\n",
       "      <th>google_summeries_for_top2</th>\n",
       "      <th>google_titles_for_top3</th>\n",
       "      <th>google_summeries_for_top3</th>\n",
       "      <th>google_titles_for_top4</th>\n",
       "      <th>google_summeries_for_top4</th>\n",
       "      <th>google_titles_for_top5</th>\n",
       "      <th>google_summeries_for_top5</th>\n",
       "    </tr>\n",
       "  </thead>\n",
       "  <tbody>\n",
       "    <tr>\n",
       "      <th>7</th>\n",
       "      <td>(2014, 3)</td>\n",
       "      <td>date</td>\n",
       "      <td>[liberals conservatives, military presence, comes home, military spending pentagon, military ukraine, comes future, millennial americans, comers, millennials 2014, millennials 2014 slogging]</td>\n",
       "      <td>liberals conservatives</td>\n",
       "      <td>military presence</td>\n",
       "      <td>comes home</td>\n",
       "      <td>military spending pentagon</td>\n",
       "      <td>military ukraine</td>\n",
       "      <td>[Why is Obamacare so controversial? - BBC News - BBC.com, Poll: Only Republicans and conservatives say Obamacare is 'too liberal', Obamacare: conservative logic versus liberal facts - Liberal Bias, Paul Krugman: “Obamacare IS the conservative alternative” - PNHP's ..., ObamaCare - Conservapedia, The Real Numbers On 'The Obamacare Effect' Are In-Now Let The ..., Patient Protection and Affordabl...</td>\n",
       "      <td>[[&lt;em&gt;Democrats&lt;/em&gt;, ' ... deadline for individuals to avoid penalties is pushed back six weeks to , &lt;em&gt;March 2014&lt;/em&gt;,  ... The party and a veritable industry of , &lt;em&gt;conservative&lt;/em&gt;,  think tanks and advocacy ...], [&lt;em&gt;Democrats&lt;/em&gt;, ' ... deadline for individuals to avoid penalties is pushed back six weeks to , &lt;em&gt;March 2014&lt;/em&gt;,  ... The party and a veritable industry of , &lt;em&gt;co...</td>\n",
       "      <td>[Why is Obamacare so controversial? - BBC News - BBC.com, Obamacare Extension Ends: The Tax Penalty and You | Military.com, Here's What Happens If You Don't Sign Up For Obamacare - Business ..., Obamacare's Exchanges Fall Well Short of Enrollment Target, Don't get spun by Internet rumors. - FactCheck.org, Budget experts: Move Tricare beneficiaries to Obamacare, Obamacare Penalties: 3 Things to...</td>\n",
       "      <td>[[&lt;em&gt;Obamacare&lt;/em&gt;, , is the largest overhaul of the US ... Oct 23: The deadline for individuals to avoid penalties is pushed back six weeks to , &lt;em&gt;March 2014&lt;/em&gt;,  .... Illegal immigrants in the US often get better care than the nation's , &lt;em&gt;military&lt;/em&gt;,  veterans, ... Drone at , &lt;em&gt;Base&lt;/em&gt;,  101 in Niger ...], [&lt;em&gt;Obamacare&lt;/em&gt;, , is the largest overhaul of the US ... Oct 23: T...</td>\n",
       "      <td>[Why is Obamacare so controversial? - BBC News - BBC.com, ObamaCare Facts: Facts on the Affordable Care Act, ObamaCare | Health Insurance Exchange - ObamaCare Facts, Patient Protection and Affordable Care Act - Wikipedia, the free ..., The House has voted 54 times in four years on Obamacare. Here's the ..., Decision To Waive Obamacare Rules On Small Business Health ..., Key Features of the Aff...</td>\n",
       "      <td>[[&lt;em&gt;Obamacare&lt;/em&gt;, , is the largest ... for individuals to avoid penalties is pushed back six weeks to , &lt;em&gt;March 2014&lt;/em&gt;,  ... Meanwhile, the , &lt;em&gt;House&lt;/em&gt;,  of Representatives, controlled by the Republicans, &lt;wbr&gt;, has ...&lt;/wbr&gt;], [&lt;em&gt;Obamacare&lt;/em&gt;, , is the largest ... for individuals to avoid penalties is pushed back six weeks to , &lt;em&gt;March 2014&lt;/em&gt;,  ... Meanwhile, the , &lt;em&gt;...</td>\n",
       "      <td>[Budget experts: Move Tricare beneficiaries to Obamacare, Sequestration's Impact on Military Spending, 2013 – 2014, China's Military Budget Rises as Pentagon's Retreats | The Fiscal Times, With $8.5 Trillion Unaccounted for, Why Should Congress Increase the ..., pentagon Archives - Global Campaign on Military Spending, Articles about Military Spending - latimes, 2014 United States federal budg...</td>\n",
       "      <td>[[&lt;em&gt;budget&lt;/em&gt;,  experts suggested the , &lt;em&gt;Pentagon&lt;/em&gt;,  trim its health , &lt;em&gt;budget&lt;/em&gt;,  by ... By Patricia Kime, Staff writer 4:41 p.m. EST December 21, , &lt;em&gt;2014&lt;/em&gt;,  ... The , &lt;em&gt;Defense&lt;/em&gt;,  Department could slash its enormous health care , &lt;em&gt;budget&lt;/em&gt;,  by requiring Tricare .... National Guard Bureau picks Vermont soldier's , &lt;em&gt;marching&lt;/em&gt;,  song.], [&lt;em&gt;budget&lt;/e...</td>\n",
       "      <td>[Articles from March, 2014 | PunditFact - PolitiFact, March | 2014 | New York Analysis of Policy and Government, Putin ends army exercise, Russian markets rally - CNBC.com, Russian Jets Called 'More Aggressive' Than During Cold War, Volunteer Battalion Prepares to Defend Ukraine's Capital, Annexation of Crimea by the Russian Federation - Wikipedia, the free ..., Russian military intervention i...</td>\n",
       "      <td>[[&lt;em&gt;March&lt;/em&gt;,  30th, , &lt;em&gt;2014&lt;/em&gt;,  at 6:20 p.m.. , &lt;em&gt;March&lt;/em&gt;,  30 shows take on NSA reforms, , &lt;em&gt;Obamacare&lt;/em&gt;,  and , &lt;em&gt;Ukraine&lt;/em&gt;, . Will Congress pick up on ... Russia's , &lt;em&gt;military&lt;/em&gt;,  intervention in , &lt;em&gt;Ukraine&lt;/em&gt;,  had pundits and politicians talking. They had their facts ...], [&lt;em&gt;March&lt;/em&gt;,  30th, , &lt;em&gt;2014&lt;/em&gt;,  at 6:20 p.m.. , &lt;em&gt;March&lt;/em&gt;,  30 sh...</td>\n",
       "    </tr>\n",
       "  </tbody>\n",
       "</table>\n",
       "</div>"
      ],
      "text/plain": [
       "       scope scope_type  \\\n",
       "7  (2014, 3)       date   \n",
       "\n",
       "                                                                                                                                                                                      tfidf_top10  \\\n",
       "7  [liberals conservatives, military presence, comes home, military spending pentagon, military ukraine, comes future, millennial americans, comers, millennials 2014, millennials 2014 slogging]   \n",
       "\n",
       "                     top1               top2        top3  \\\n",
       "7  liberals conservatives  military presence  comes home   \n",
       "\n",
       "                         top4              top5  \\\n",
       "7  military spending pentagon  military ukraine   \n",
       "\n",
       "                                                                                                                                                                                                                                                                                                                                                                                            google_titles_for_top1  \\\n",
       "7  [Why is Obamacare so controversial? - BBC News - BBC.com, Poll: Only Republicans and conservatives say Obamacare is 'too liberal', Obamacare: conservative logic versus liberal facts - Liberal Bias, Paul Krugman: “Obamacare IS the conservative alternative” - PNHP's ..., ObamaCare - Conservapedia, The Real Numbers On 'The Obamacare Effect' Are In-Now Let The ..., Patient Protection and Affordabl...   \n",
       "\n",
       "                                                                                                                                                                                                                                                                                                                                                                                         google_summeries_for_top1  \\\n",
       "7  [[<em>Democrats</em>, ' ... deadline for individuals to avoid penalties is pushed back six weeks to , <em>March 2014</em>,  ... The party and a veritable industry of , <em>conservative</em>,  think tanks and advocacy ...], [<em>Democrats</em>, ' ... deadline for individuals to avoid penalties is pushed back six weeks to , <em>March 2014</em>,  ... The party and a veritable industry of , <em>co...   \n",
       "\n",
       "                                                                                                                                                                                                                                                                                                                                                                                            google_titles_for_top2  \\\n",
       "7  [Why is Obamacare so controversial? - BBC News - BBC.com, Obamacare Extension Ends: The Tax Penalty and You | Military.com, Here's What Happens If You Don't Sign Up For Obamacare - Business ..., Obamacare's Exchanges Fall Well Short of Enrollment Target, Don't get spun by Internet rumors. - FactCheck.org, Budget experts: Move Tricare beneficiaries to Obamacare, Obamacare Penalties: 3 Things to...   \n",
       "\n",
       "                                                                                                                                                                                                                                                                                                                                                                                         google_summeries_for_top2  \\\n",
       "7  [[<em>Obamacare</em>, , is the largest overhaul of the US ... Oct 23: The deadline for individuals to avoid penalties is pushed back six weeks to , <em>March 2014</em>,  .... Illegal immigrants in the US often get better care than the nation's , <em>military</em>,  veterans, ... Drone at , <em>Base</em>,  101 in Niger ...], [<em>Obamacare</em>, , is the largest overhaul of the US ... Oct 23: T...   \n",
       "\n",
       "                                                                                                                                                                                                                                                                                                                                                                                            google_titles_for_top3  \\\n",
       "7  [Why is Obamacare so controversial? - BBC News - BBC.com, ObamaCare Facts: Facts on the Affordable Care Act, ObamaCare | Health Insurance Exchange - ObamaCare Facts, Patient Protection and Affordable Care Act - Wikipedia, the free ..., The House has voted 54 times in four years on Obamacare. Here's the ..., Decision To Waive Obamacare Rules On Small Business Health ..., Key Features of the Aff...   \n",
       "\n",
       "                                                                                                                                                                                                                                                                                                                                                                                         google_summeries_for_top3  \\\n",
       "7  [[<em>Obamacare</em>, , is the largest ... for individuals to avoid penalties is pushed back six weeks to , <em>March 2014</em>,  ... Meanwhile, the , <em>House</em>,  of Representatives, controlled by the Republicans, <wbr>, has ...</wbr>], [<em>Obamacare</em>, , is the largest ... for individuals to avoid penalties is pushed back six weeks to , <em>March 2014</em>,  ... Meanwhile, the , <em>...   \n",
       "\n",
       "                                                                                                                                                                                                                                                                                                                                                                                            google_titles_for_top4  \\\n",
       "7  [Budget experts: Move Tricare beneficiaries to Obamacare, Sequestration's Impact on Military Spending, 2013 – 2014, China's Military Budget Rises as Pentagon's Retreats | The Fiscal Times, With $8.5 Trillion Unaccounted for, Why Should Congress Increase the ..., pentagon Archives - Global Campaign on Military Spending, Articles about Military Spending - latimes, 2014 United States federal budg...   \n",
       "\n",
       "                                                                                                                                                                                                                                                                                                                                                                                         google_summeries_for_top4  \\\n",
       "7  [[<em>budget</em>,  experts suggested the , <em>Pentagon</em>,  trim its health , <em>budget</em>,  by ... By Patricia Kime, Staff writer 4:41 p.m. EST December 21, , <em>2014</em>,  ... The , <em>Defense</em>,  Department could slash its enormous health care , <em>budget</em>,  by requiring Tricare .... National Guard Bureau picks Vermont soldier's , <em>marching</em>,  song.], [<em>budget</e...   \n",
       "\n",
       "                                                                                                                                                                                                                                                                                                                                                                                            google_titles_for_top5  \\\n",
       "7  [Articles from March, 2014 | PunditFact - PolitiFact, March | 2014 | New York Analysis of Policy and Government, Putin ends army exercise, Russian markets rally - CNBC.com, Russian Jets Called 'More Aggressive' Than During Cold War, Volunteer Battalion Prepares to Defend Ukraine's Capital, Annexation of Crimea by the Russian Federation - Wikipedia, the free ..., Russian military intervention i...   \n",
       "\n",
       "                                                                                                                                                                                                                                                                                                                                                                                         google_summeries_for_top5  \n",
       "7  [[<em>March</em>,  30th, , <em>2014</em>,  at 6:20 p.m.. , <em>March</em>,  30 shows take on NSA reforms, , <em>Obamacare</em>,  and , <em>Ukraine</em>, . Will Congress pick up on ... Russia's , <em>military</em>,  intervention in , <em>Ukraine</em>,  had pundits and politicians talking. They had their facts ...], [<em>March</em>,  30th, , <em>2014</em>,  at 6:20 p.m.. , <em>March</em>,  30 sh...  "
      ]
     },
     "execution_count": 238,
     "metadata": {},
     "output_type": "execute_result"
    }
   ],
   "source": [
    "df_of_scopes_dates[df_of_scopes_dates[\"scope\"]==(2014, 3)]"
   ]
  },
  {
   "cell_type": "raw",
   "metadata": {},
   "source": [
    "j = 36453\n",
    "print google_news_df[\"url\"][j]\n",
    "print google_news_df[\"date_cleaned\"][j]   #--> (2014, 3) -- March Scope\n",
    "text = google_news_df[\"text\"][j]\n",
    "print text"
   ]
  },
  {
   "cell_type": "code",
   "execution_count": null,
   "metadata": {
    "collapsed": true
   },
   "outputs": [],
   "source": []
  },
  {
   "cell_type": "code",
   "execution_count": 204,
   "metadata": {
    "collapsed": true
   },
   "outputs": [],
   "source": [
    "important_domains = list(news_domains[\"domain_stripped\"])"
   ]
  },
  {
   "cell_type": "code",
   "execution_count": 20,
   "metadata": {
    "collapsed": false
   },
   "outputs": [],
   "source": [
    "import re\n",
    "import ast\n",
    "\n",
    "url_list = []\n",
    "domain_list = []\n",
    "text_list = []\n",
    "date_list = []\n",
    "\n",
    "for url,info in google_news_dictionary_article_text.items():\n",
    "    ############# 1 Get the url      #######################################################\n",
    "    url_list.append(url)\n",
    "    \n",
    "    ############# 2 Extract out the domain from the url   #######################################################\n",
    "    domain = url.replace(\"http://www.\",\"\").replace(\"http://\",\"\")\n",
    "    #Find end of domain...\n",
    "    end = domain.find(\".com\")\n",
    "    if end == -1:   #If it doesn't find the .com ending, it checks if it's a \".org\"...\n",
    "        end = domain.find(\".org\")\n",
    "    start = 0\n",
    "    domain = domain[start:end]\n",
    "    \n",
    "    if domain.find(\".\") != -1:  # If it contains a \"period\"...\n",
    "        start = domain.find(\".\")+1\n",
    "        domain = domain[start:end]\n",
    "\n",
    "    domain_list.append(domain)\n",
    "\n",
    "    ############# 3 Get out the text #######################################################\n",
    "    text_list.append(info[\"article_text\"])\n",
    "\n",
    "    ############# 4 Get the date... the hardest part...  #######################################################\n",
    "    metadata_keys = info[\"article_metadata\"].keys()    \n",
    "    date = \"no_date_found!\"\n",
    "\n",
    "    if \"article_date_original\" in metadata_keys:\n",
    "        date = info[\"article_metadata\"][\"article_date_original\"]\n",
    "            \n",
    "    if \"date\"  in metadata_keys:  # Used for cnn\n",
    "        date = info[\"article_metadata\"][\"date\"]\n",
    "\n",
    "    if \"pubDate\" in metadata_keys:  # \n",
    "        date = info[\"article_metadata\"][\"pubDate\"]\n",
    "    \n",
    "    if \"sailthru.date\" in metadata_keys:  # \n",
    "        date = info[\"article_metadata\"][\"sailthru.date\"]\n",
    "\n",
    "    if \"publishdate\" in metadata_keys:  # \n",
    "        date = info[\"article_metadata\"][\"publishdate\"]\n",
    "        \n",
    "    if \"dc.date\" in metadata_keys:  # Fox News\n",
    "        date = info[\"article_metadata\"][\"dc.date\"]\n",
    "    \n",
    "    if \"pubdate\" in metadata_keys:  # CNN News\n",
    "        date = info[\"article_metadata\"][\"pubdate\"]\n",
    "    \n",
    "    if \"date_published\" in metadata_keys:  # USNEWS\n",
    "        date = info[\"article_metadata\"][\"date_published\"]\n",
    "        \n",
    "    if \"article.published\" in metadata_keys:  # WSJ\n",
    "        date = info[\"article_metadata\"][\"article.published\"]\n",
    "     \n",
    "    if \"article\" in metadata_keys:  # thinkprogress\n",
    "        if \"published_time\" in info[\"article_metadata\"][\"article\"]:\n",
    "            date = info[\"article_metadata\"][\"article\"][\"published_time\"]            \n",
    "        \n",
    "    if domain == \"salon\": \n",
    "        date = url[21:20+11]\n",
    "        \n",
    "    if domain == \"washingtontimes\":\n",
    "        year_loc = re.findall(\"(\\/[0-9]{4}\\/)\", url)[0]        \n",
    "        start = url.find(year_loc) + 1\n",
    "        date = url[start:start+11]   ############ ..../2015/nov/17/.....\n",
    "        \n",
    "    if domain == \"townhall\" or domain == \"lifenews\" or domain == \"realclearpolitics\" or domain == \"dailykos\" or domain == \"newsbusters\" or domain == \"rushlimbaugh\": # or domain == \"npr\":\n",
    "        year_loc = re.findall(\"(\\/[0-9]{4}\\/)\", url)[0]        \n",
    "        start = url.find(year_loc) + 1\n",
    "        date = url[start:start+10]   ######### .../2015/01/05/...\n",
    "        \n",
    "    if domain == \"politico\" or domain == \"motherjones\" or domain == \"rawstory\" or domain == \"theatlantic\" or domain == \"heritage\" or domain == \"americanthinker\":\n",
    "        year_loc = re.findall(\"(\\/[0-9]{4}\\/)\", url)[0]\n",
    "        start = url.find(year_loc) + 1\n",
    "        date = url[start:start+7]   # year + mo\n",
    "\n",
    "    if domain == \"talkingpointsmemo\":\n",
    "        dict_as_string =  info[\"article_metadata\"][\"parsely-page\"]\n",
    "        dict_as_string = str(dict_as_string)\n",
    "        try:\n",
    "            dict_as_dict = ast.literal_eval(dict_as_string)\n",
    "            date = dict_as_dict[\"pub_date\"]\n",
    "        except:\n",
    "            pass\n",
    "            \n",
    "    if domain == \"huffingtonpost\" : # Huffpost as has two varieties-- this is the other one.\n",
    "        try:\n",
    "            year_loc = re.findall(\"(\\/[0-9]{4}\\/)\", url)[0]        \n",
    "            start = url.find(year_loc) + 1\n",
    "            date = url[start:start+10]   ######### .../2015/01/05/...\n",
    "        except:\n",
    "            pass\n",
    "\n",
    "    bad_domains = [\"newswithviews\",\"opednews\",\"aclu\",\"npr\",\"antiwar\",\"slate\",\"usnews\",\"newsmax\",\"outsidethebeltway\",\"cnn\",\"huffingtonpost\",\"talkingpointsmemo\",\"spectator\",\"cnsnews\",\"vdare\",\"time\",\"wonkette\",\"gopusa\",\"wsj\",\"prospect\",\"americanprogress\",\"newsweek\",\"lifesitenews\"]   #go back to \"time\" later...\n",
    "    if date == \"no_date_found!\":\n",
    "        date = \"N/A\"\n",
    "        if domain in important_domains and domain not in bad_domains:        \n",
    "        #if domain in \"huffingtonpost\":\n",
    "            print \"ATTENTION!!! - IMPORTANT DOMAIN\"\n",
    "            print domain\n",
    "            print url\n",
    "            print info[\"article_metadata\"].keys()\n",
    "            print\n",
    "            print info[\"article_metadata\"]\n",
    "            print \"____________________________________________\"\n",
    "            print\n",
    "    #elif date != \"no_date_found!\":\n",
    "    \n",
    "    date_list.append(date)"
   ]
  },
  {
   "cell_type": "code",
   "execution_count": 292,
   "metadata": {
    "collapsed": false
   },
   "outputs": [],
   "source": [
    "google_news_df = pd.DataFrame([domain_list,date_list,text_list,url_list]).T"
   ]
  },
  {
   "cell_type": "code",
   "execution_count": null,
   "metadata": {
    "collapsed": true
   },
   "outputs": [],
   "source": [
    "dict_of_scopes"
   ]
  },
  {
   "cell_type": "code",
   "execution_count": 293,
   "metadata": {
    "collapsed": false
   },
   "outputs": [],
   "source": [
    "google_news_df.columns = [\"publisher\",\"date\",\"text\",\"url\"]"
   ]
  },
  {
   "cell_type": "code",
   "execution_count": 27,
   "metadata": {
    "collapsed": false
   },
   "outputs": [
    {
     "data": {
      "text/plain": [
       "163184"
      ]
     },
     "execution_count": 27,
     "metadata": {},
     "output_type": "execute_result"
    }
   ],
   "source": [
    "len(google_news_dictionary_article_text.keys())"
   ]
  },
  {
   "cell_type": "code",
   "execution_count": 294,
   "metadata": {
    "collapsed": false
   },
   "outputs": [
    {
     "name": "stdout",
     "output_type": "stream",
     "text": [
      "163184\n"
     ]
    }
   ],
   "source": [
    "google_news_df[\"date_cleaned\"] = str(google_news_df[\"date\"])\n",
    "n = len(google_news_df[\"date\"])\n",
    "print n"
   ]
  },
  {
   "cell_type": "code",
   "execution_count": null,
   "metadata": {
    "collapsed": true
   },
   "outputs": [],
   "source": [
    "# Parsing the dates to create the date_cleaned columns..."
   ]
  },
  {
   "cell_type": "code",
   "execution_count": 55,
   "metadata": {
    "collapsed": false
   },
   "outputs": [
    {
     "name": "stdout",
     "output_type": "stream",
     "text": [
      "82200 82400 82600 82800 83000 83200 83400 83600 83800 84000 84200 84400 84600 84800 85000 85200 85400 85600 85800 86000 86200 86400 86600 86800 87000 87200 87400 87600 87800 88000 88200 88400 88600 88800 89000 89200 89400 89600 89800 90000 90200 90400 90600 90800 91000 91200 91400 91600 91800 92000 92200 92400 92600 92800 93000 93200 93400 93600 93800 94000 94200 94400 94600 94800 95000 95200 95400 95600 95800 96000 96200 96400 96600 96800 97000 97200 97400 97600 97800 98000 98200 98400 98600 98800 99000 99200 99400 99600 99800 100000 100200 100400 100600 100800 101000 101200 101400 101600 101800 102000 102200 102400 102600 102800 103000 103200 103400 103600 103800 104000 104200 104400 104600 104800 105000 105200 105400 105600 105800 106000 106200 106400 106600 106800 107000 107200 107400 107600 107800 108000 108200 108400 108600 108800 109000 109200 109400 109600 109800 110000 110200 110400 110600 110800 111000 111200 111400 111600 111800 112000 112200 112400 112600 112800 113000 113200 113400 113600 113800 114000 114200 114400 114600 114800 115000 115200 115400 115600 115800 116000 116200 116400 116600 116800 117000 117200 117400 117600 117800 118000 118200 118400 118600 118800 119000 119200 119400 119600 119800 120000 120200 120400 120600 120800 121000 121200 121400 121600 121800 122000 122200 122400 122600 122800 123000 123200 123400 123600 123800 124000 124200 124400 124600 124800 125000 125200 125400 125600 125800 126000 126200 126400 126600 126800 127000 127200 127400 127600 127800 128000 128200 128400 128600 128800 129000 129200 129400 129600 129800 130000 130200 130400 130600 130800 131000 131200 131400 131600 131800 132000 132200 132400 132600 132800 133000 133200 133400 133600 133800 134000 134200 134400 134600 134800 135000 135200 135400 135600 135800 136000 136200 136400 136600 136800 137000 137200 137400 137600 137800 138000 138200 138400 138600 138800 139000 139200 139400 139600 139800 140000 140200 140400 140600 140800 141000 141200 141400 141600 141800 142000 142200 142400 142600 142800 143000 143200 143400 143600 143800 144000 144200 144400 144600 144800 145000 145200 145400 145600 145800 146000 146200 146400 146600 146800 147000 147200 147400 147600 147800 148000 148200 148400 148600 148800 149000 149200 149400 149600 149800 150000 150200 150400 150600 150800 151000 151200 151400 151600 151800 152000 152200 152400 152600 152800 153000 153200 153400 153600 153800 154000 154200 154400 154600 154800 155000 155200 155400 155600 155800 156000 156200 156400 156600 156800 157000 157200 157400 157600 157800 158000 158200 158400 158600 158800 159000 159200 159400 159600 159800 160000 160200 160400 160600 160800 161000 161200 161400 161600 161800 162000 162200 162400 162600 162800 163000\n"
     ]
    }
   ],
   "source": [
    "for i in range(82200,n):\n",
    "    date_old = str(google_news_df[\"date\"][i])\n",
    "    if i % 200 == 0:\n",
    "        print i,\n",
    "    new_date = parse(date_old)\n",
    "    google_news_df[\"date_cleaned\"][i] = new_date\n",
    "\n",
    "    #print i, date_old, new_date"
   ]
  },
  {
   "cell_type": "code",
   "execution_count": 195,
   "metadata": {
    "collapsed": false
   },
   "outputs": [
    {
     "name": "stdout",
     "output_type": "stream",
     "text": [
      "\n"
     ]
    }
   ],
   "source": [
    "#pickle.dump( google_news_df, open( \"google_news_df.pickle\", \"wb\" ) )\n",
    "\n",
    "google_news_df = pickle.load( open(\"google_news_df.pickle\", \"rb\" ))"
   ]
  },
  {
   "cell_type": "code",
   "execution_count": 198,
   "metadata": {
    "collapsed": false
   },
   "outputs": [
    {
     "data": {
      "text/html": [
       "<div>\n",
       "<table border=\"1\" class=\"dataframe\">\n",
       "  <thead>\n",
       "    <tr style=\"text-align: right;\">\n",
       "      <th></th>\n",
       "      <th>publisher</th>\n",
       "      <th>date</th>\n",
       "      <th>text</th>\n",
       "      <th>url</th>\n",
       "      <th>date_cleaned</th>\n",
       "    </tr>\n",
       "  </thead>\n",
       "  <tbody>\n",
       "    <tr>\n",
       "      <th>0</th>\n",
       "      <td>philly</td>\n",
       "      <td>N/A</td>\n",
       "      <td>But the haters argue that college success does...</td>\n",
       "      <td>http://www.philly.com/philly/columnists/201504...</td>\n",
       "      <td>None</td>\n",
       "    </tr>\n",
       "    <tr>\n",
       "      <th>1</th>\n",
       "      <td>care2</td>\n",
       "      <td>N/A</td>\n",
       "      <td>Coming out of the Iowa caucuses, Ted Cruz appe...</td>\n",
       "      <td>http://www.care2.com/causes/ted-cruzs-healthca...</td>\n",
       "      <td>None</td>\n",
       "    </tr>\n",
       "    <tr>\n",
       "      <th>2</th>\n",
       "      <td>timescall</td>\n",
       "      <td>2015-03-14T09:30:07-0600</td>\n",
       "      <td>One evening last fall, Dr. D'Anne Rudden was h...</td>\n",
       "      <td>http://www.timescall.com/lifestyles/ci_2770718...</td>\n",
       "      <td>2015-03-14 15:30:07</td>\n",
       "    </tr>\n",
       "    <tr>\n",
       "      <th>3</th>\n",
       "      <td>pnj</td>\n",
       "      <td>N/A</td>\n",
       "      <td>In his newsletters, Panhandle U.S. Rep. Jeff M...</td>\n",
       "      <td>http://www.pnj.com/story/opinion/2015/07/18/vi...</td>\n",
       "      <td>None</td>\n",
       "    </tr>\n",
       "    <tr>\n",
       "      <th>4</th>\n",
       "      <td>thefiscaltimes</td>\n",
       "      <td>N/A</td>\n",
       "      <td>2016 could be the election year of political s...</td>\n",
       "      <td>http://www.thefiscaltimes.com/2015/06/07/Chaff...</td>\n",
       "      <td>None</td>\n",
       "    </tr>\n",
       "  </tbody>\n",
       "</table>\n",
       "</div>"
      ],
      "text/plain": [
       "        publisher                      date  \\\n",
       "0          philly                       N/A   \n",
       "1           care2                       N/A   \n",
       "2       timescall  2015-03-14T09:30:07-0600   \n",
       "3             pnj                       N/A   \n",
       "4  thefiscaltimes                       N/A   \n",
       "\n",
       "                                                text  \\\n",
       "0  But the haters argue that college success does...   \n",
       "1  Coming out of the Iowa caucuses, Ted Cruz appe...   \n",
       "2  One evening last fall, Dr. D'Anne Rudden was h...   \n",
       "3  In his newsletters, Panhandle U.S. Rep. Jeff M...   \n",
       "4  2016 could be the election year of political s...   \n",
       "\n",
       "                                                 url         date_cleaned  \n",
       "0  http://www.philly.com/philly/columnists/201504...                 None  \n",
       "1  http://www.care2.com/causes/ted-cruzs-healthca...                 None  \n",
       "2  http://www.timescall.com/lifestyles/ci_2770718...  2015-03-14 15:30:07  \n",
       "3  http://www.pnj.com/story/opinion/2015/07/18/vi...                 None  \n",
       "4  http://www.thefiscaltimes.com/2015/06/07/Chaff...                 None  "
      ]
     },
     "execution_count": 198,
     "metadata": {},
     "output_type": "execute_result"
    }
   ],
   "source": [
    "google_news_df.head()"
   ]
  },
  {
   "cell_type": "code",
   "execution_count": 197,
   "metadata": {
    "collapsed": false
   },
   "outputs": [],
   "source": [
    "google_news_df.columns = [\"publisher\",\"date\",\"text\",\"url\",\"date_cleaned\"]"
   ]
  },
  {
   "cell_type": "code",
   "execution_count": 206,
   "metadata": {
    "collapsed": false
   },
   "outputs": [],
   "source": [
    "google_news_df_top_pubs = google_news_df[google_news_df[\"publisher\"].isin(important_domains)]"
   ]
  },
  {
   "cell_type": "code",
   "execution_count": 207,
   "metadata": {
    "collapsed": false
   },
   "outputs": [
    {
     "name": "stdout",
     "output_type": "stream",
     "text": [
      "89985\n",
      "33749\n"
     ]
    }
   ],
   "source": [
    "# See how many of the 160,000 articles I have, have actually good dates... it appears to be about half\n",
    "\n",
    "dates_count_all = 0\n",
    "none_type_example = google_news_df[\"date_cleaned\"][0]\n",
    "for x in google_news_df[\"date_cleaned\"]:\n",
    "    if x != none_type_example:\n",
    "        dates_count_all += 1\n",
    "\n",
    "print dates_count_all        \n",
    "# See how many of the 35,000 articles from top publishers, which have good dates -- nearly all. Yay!\n",
    "\n",
    "dates_count_top = 0\n",
    "for x in google_news_df_top_pubs[\"date_cleaned\"]:\n",
    "    if x != none_type_example:\n",
    "        dates_count_top += 1\n",
    "\n",
    "print dates_count_top"
   ]
  },
  {
   "cell_type": "code",
   "execution_count": 208,
   "metadata": {
    "collapsed": false
   },
   "outputs": [
    {
     "name": "stdout",
     "output_type": "stream",
     "text": [
      "All articles in sample: (163184, 5)\n",
      "All articles in sample w/ good dates: 89985\n",
      "\n",
      "All articles by top domains: (35166, 5)\n",
      "All articles by top domains w/ good dates: 33749\n",
      "Final dimension of df of interest: (33749, 5)\n"
     ]
    }
   ],
   "source": [
    "print \"All articles in sample:\", google_news_df.shape\n",
    "print \"All articles in sample w/ good dates:\", dates_count_all\n",
    "print\n",
    "print \"All articles by top domains:\", google_news_df_top_pubs.shape\n",
    "print \"All articles by top domains w/ good dates:\", dates_count_top # This is good - we get most of the dates\n",
    "print \"Final dimension of df of interest:\", google_news_df_top_pubs_good_dates.shape"
   ]
  },
  {
   "cell_type": "code",
   "execution_count": 210,
   "metadata": {
    "collapsed": false
   },
   "outputs": [
    {
     "data": {
      "text/html": [
       "<div>\n",
       "<table border=\"1\" class=\"dataframe\">\n",
       "  <thead>\n",
       "    <tr style=\"text-align: right;\">\n",
       "      <th></th>\n",
       "      <th>publisher</th>\n",
       "      <th>date</th>\n",
       "      <th>text</th>\n",
       "      <th>url</th>\n",
       "      <th>date_cleaned</th>\n",
       "    </tr>\n",
       "  </thead>\n",
       "  <tbody>\n",
       "    <tr>\n",
       "      <th>count</th>\n",
       "      <td>163184</td>\n",
       "      <td>163184</td>\n",
       "      <td>163184</td>\n",
       "      <td>163184</td>\n",
       "      <td>89985</td>\n",
       "    </tr>\n",
       "    <tr>\n",
       "      <th>unique</th>\n",
       "      <td>8948</td>\n",
       "      <td>67100</td>\n",
       "      <td>150894</td>\n",
       "      <td>163184</td>\n",
       "      <td>62790</td>\n",
       "    </tr>\n",
       "    <tr>\n",
       "      <th>top</th>\n",
       "      <td>thefiscaltimes</td>\n",
       "      <td>N/A</td>\n",
       "      <td></td>\n",
       "      <td>http://www.pharmacytimes.com/publications/dire...</td>\n",
       "      <td>2014-01-28 00:00:00</td>\n",
       "    </tr>\n",
       "    <tr>\n",
       "      <th>freq</th>\n",
       "      <td>6162</td>\n",
       "      <td>72772</td>\n",
       "      <td>3953</td>\n",
       "      <td>1</td>\n",
       "      <td>197</td>\n",
       "    </tr>\n",
       "  </tbody>\n",
       "</table>\n",
       "</div>"
      ],
      "text/plain": [
       "             publisher    date    text  \\\n",
       "count           163184  163184  163184   \n",
       "unique            8948   67100  150894   \n",
       "top     thefiscaltimes     N/A           \n",
       "freq              6162   72772    3953   \n",
       "\n",
       "                                                      url         date_cleaned  \n",
       "count                                              163184                89985  \n",
       "unique                                             163184                62790  \n",
       "top     http://www.pharmacytimes.com/publications/dire...  2014-01-28 00:00:00  \n",
       "freq                                                    1                  197  "
      ]
     },
     "execution_count": 210,
     "metadata": {},
     "output_type": "execute_result"
    }
   ],
   "source": [
    "google_news_df.describe()"
   ]
  },
  {
   "cell_type": "code",
   "execution_count": null,
   "metadata": {
    "collapsed": true
   },
   "outputs": [],
   "source": [
    "# Removing all entries which have bad dates...\n",
    "\n",
    "date_criteria_list = []\n",
    "for date in google_news_df_top_pubs[\"date_cleaned\"]:\n",
    "    status = (date != none_type_example)\n",
    "    date_criteria_list.append(status)\n",
    "\n",
    "google_news_df_top_pubs_good_dates = google_news_df_top_pubs[date_criteria_list]\n",
    "google_news_df_top_pubs_good_dates[\"count\"] = 1"
   ]
  },
  {
   "cell_type": "code",
   "execution_count": null,
   "metadata": {
    "collapsed": true
   },
   "outputs": [],
   "source": [
    "# Creating an extra column which focuses just on year and month of a given date/time object\n",
    "\n",
    "dates_as_categorical_list = []\n",
    "for x in google_news_df_top_pubs_good_dates[\"date_cleaned\"]:\n",
    "#    print x, type(x), x.month, x.year\n",
    "    dates_as_categorical_list.append((x.year,x.month))\n",
    "\n",
    "google_news_df_top_pubs_good_dates[\"date_cat\"] = dates_as_categorical_list"
   ]
  },
  {
   "cell_type": "code",
   "execution_count": null,
   "metadata": {
    "collapsed": true
   },
   "outputs": [],
   "source": [
    "del google_news_df_top_pubs_good_dates[\"date\"]\n",
    "del google_news_df_top_pubs_good_dates[\"date_cleaned\"]"
   ]
  },
  {
   "cell_type": "code",
   "execution_count": 15,
   "metadata": {
    "collapsed": false
   },
   "outputs": [],
   "source": [
    "#pickle.dump( google_news_df_top_pubs_good_dates, open( \"google_news_df_top_pubs_good_dates.pickle\", \"wb\" ) )\n",
    "\n",
    "google_news_df_top_pubs_good_dates = pickle.load( open(\"google_news_df_top_pubs_good_dates.pickle\", \"rb\" ))"
   ]
  },
  {
   "cell_type": "markdown",
   "metadata": {},
   "source": [
    "# Viewing the counts as groupby objects"
   ]
  },
  {
   "cell_type": "code",
   "execution_count": 16,
   "metadata": {
    "collapsed": false
   },
   "outputs": [
    {
     "data": {
      "text/html": [
       "<div>\n",
       "<table border=\"1\" class=\"dataframe\">\n",
       "  <thead>\n",
       "    <tr style=\"text-align: right;\">\n",
       "      <th></th>\n",
       "      <th>date_cat</th>\n",
       "      <th>count</th>\n",
       "    </tr>\n",
       "  </thead>\n",
       "  <tbody>\n",
       "    <tr>\n",
       "      <th>0</th>\n",
       "      <td>(2013, 8)</td>\n",
       "      <td>1</td>\n",
       "    </tr>\n",
       "    <tr>\n",
       "      <th>1</th>\n",
       "      <td>(2013, 9)</td>\n",
       "      <td>1079</td>\n",
       "    </tr>\n",
       "    <tr>\n",
       "      <th>2</th>\n",
       "      <td>(2013, 10)</td>\n",
       "      <td>1037</td>\n",
       "    </tr>\n",
       "    <tr>\n",
       "      <th>3</th>\n",
       "      <td>(2013, 11)</td>\n",
       "      <td>1168</td>\n",
       "    </tr>\n",
       "    <tr>\n",
       "      <th>4</th>\n",
       "      <td>(2013, 12)</td>\n",
       "      <td>1195</td>\n",
       "    </tr>\n",
       "    <tr>\n",
       "      <th>5</th>\n",
       "      <td>(2014, 1)</td>\n",
       "      <td>1382</td>\n",
       "    </tr>\n",
       "    <tr>\n",
       "      <th>6</th>\n",
       "      <td>(2014, 2)</td>\n",
       "      <td>1117</td>\n",
       "    </tr>\n",
       "  </tbody>\n",
       "</table>\n",
       "</div>"
      ],
      "text/plain": [
       "     date_cat  count\n",
       "0   (2013, 8)      1\n",
       "1   (2013, 9)   1079\n",
       "2  (2013, 10)   1037\n",
       "3  (2013, 11)   1168\n",
       "4  (2013, 12)   1195\n",
       "5   (2014, 1)   1382\n",
       "6   (2014, 2)   1117"
      ]
     },
     "execution_count": 16,
     "metadata": {},
     "output_type": "execute_result"
    }
   ],
   "source": [
    "google_news_df_top_pubs_good_dates.groupby(by = \"date_cat\", as_index=False).sum().head(7)"
   ]
  },
  {
   "cell_type": "code",
   "execution_count": 17,
   "metadata": {
    "collapsed": false
   },
   "outputs": [
    {
     "data": {
      "text/html": [
       "<div>\n",
       "<table border=\"1\" class=\"dataframe\">\n",
       "  <thead>\n",
       "    <tr style=\"text-align: right;\">\n",
       "      <th></th>\n",
       "      <th>publisher</th>\n",
       "      <th>count</th>\n",
       "    </tr>\n",
       "  </thead>\n",
       "  <tbody>\n",
       "    <tr>\n",
       "      <th>0</th>\n",
       "      <td>alternet</td>\n",
       "      <td>76</td>\n",
       "    </tr>\n",
       "    <tr>\n",
       "      <th>1</th>\n",
       "      <td>americablog</td>\n",
       "      <td>48</td>\n",
       "    </tr>\n",
       "    <tr>\n",
       "      <th>2</th>\n",
       "      <td>americanthinker</td>\n",
       "      <td>477</td>\n",
       "    </tr>\n",
       "    <tr>\n",
       "      <th>3</th>\n",
       "      <td>antiwar</td>\n",
       "      <td>1</td>\n",
       "    </tr>\n",
       "    <tr>\n",
       "      <th>4</th>\n",
       "      <td>cato</td>\n",
       "      <td>78</td>\n",
       "    </tr>\n",
       "    <tr>\n",
       "      <th>5</th>\n",
       "      <td>cnn</td>\n",
       "      <td>653</td>\n",
       "    </tr>\n",
       "    <tr>\n",
       "      <th>6</th>\n",
       "      <td>cnsnews</td>\n",
       "      <td>121</td>\n",
       "    </tr>\n",
       "    <tr>\n",
       "      <th>7</th>\n",
       "      <td>counterpunch</td>\n",
       "      <td>65</td>\n",
       "    </tr>\n",
       "    <tr>\n",
       "      <th>8</th>\n",
       "      <td>dailykos</td>\n",
       "      <td>375</td>\n",
       "    </tr>\n",
       "    <tr>\n",
       "      <th>9</th>\n",
       "      <td>fivethirtyeight</td>\n",
       "      <td>30</td>\n",
       "    </tr>\n",
       "    <tr>\n",
       "      <th>10</th>\n",
       "      <td>foxnews</td>\n",
       "      <td>819</td>\n",
       "    </tr>\n",
       "    <tr>\n",
       "      <th>11</th>\n",
       "      <td>frontpagemag</td>\n",
       "      <td>198</td>\n",
       "    </tr>\n",
       "    <tr>\n",
       "      <th>12</th>\n",
       "      <td>heritage</td>\n",
       "      <td>53</td>\n",
       "    </tr>\n",
       "    <tr>\n",
       "      <th>13</th>\n",
       "      <td>hotair</td>\n",
       "      <td>617</td>\n",
       "    </tr>\n",
       "    <tr>\n",
       "      <th>14</th>\n",
       "      <td>huffingtonpost</td>\n",
       "      <td>3477</td>\n",
       "    </tr>\n",
       "    <tr>\n",
       "      <th>15</th>\n",
       "      <td>lifenews</td>\n",
       "      <td>260</td>\n",
       "    </tr>\n",
       "    <tr>\n",
       "      <th>16</th>\n",
       "      <td>mediamatters</td>\n",
       "      <td>96</td>\n",
       "    </tr>\n",
       "    <tr>\n",
       "      <th>17</th>\n",
       "      <td>motherjones</td>\n",
       "      <td>494</td>\n",
       "    </tr>\n",
       "    <tr>\n",
       "      <th>18</th>\n",
       "      <td>nationalreview</td>\n",
       "      <td>663</td>\n",
       "    </tr>\n",
       "    <tr>\n",
       "      <th>19</th>\n",
       "      <td>newsbusters</td>\n",
       "      <td>148</td>\n",
       "    </tr>\n",
       "    <tr>\n",
       "      <th>20</th>\n",
       "      <td>newsmax</td>\n",
       "      <td>805</td>\n",
       "    </tr>\n",
       "    <tr>\n",
       "      <th>21</th>\n",
       "      <td>newyorker</td>\n",
       "      <td>86</td>\n",
       "    </tr>\n",
       "    <tr>\n",
       "      <th>22</th>\n",
       "      <td>npr</td>\n",
       "      <td>651</td>\n",
       "    </tr>\n",
       "    <tr>\n",
       "      <th>23</th>\n",
       "      <td>nypost</td>\n",
       "      <td>317</td>\n",
       "    </tr>\n",
       "    <tr>\n",
       "      <th>24</th>\n",
       "      <td>politico</td>\n",
       "      <td>964</td>\n",
       "    </tr>\n",
       "    <tr>\n",
       "      <th>25</th>\n",
       "      <td>powerlineblog</td>\n",
       "      <td>122</td>\n",
       "    </tr>\n",
       "    <tr>\n",
       "      <th>26</th>\n",
       "      <td>rawstory</td>\n",
       "      <td>216</td>\n",
       "    </tr>\n",
       "    <tr>\n",
       "      <th>27</th>\n",
       "      <td>realclearpolitics</td>\n",
       "      <td>308</td>\n",
       "    </tr>\n",
       "    <tr>\n",
       "      <th>28</th>\n",
       "      <td>reason</td>\n",
       "      <td>2768</td>\n",
       "    </tr>\n",
       "    <tr>\n",
       "      <th>29</th>\n",
       "      <td>rushlimbaugh</td>\n",
       "      <td>64</td>\n",
       "    </tr>\n",
       "    <tr>\n",
       "      <th>30</th>\n",
       "      <td>salon</td>\n",
       "      <td>4749</td>\n",
       "    </tr>\n",
       "    <tr>\n",
       "      <th>31</th>\n",
       "      <td>slate</td>\n",
       "      <td>374</td>\n",
       "    </tr>\n",
       "    <tr>\n",
       "      <th>32</th>\n",
       "      <td>talkingpointsmemo</td>\n",
       "      <td>57</td>\n",
       "    </tr>\n",
       "    <tr>\n",
       "      <th>33</th>\n",
       "      <td>theatlantic</td>\n",
       "      <td>859</td>\n",
       "    </tr>\n",
       "    <tr>\n",
       "      <th>34</th>\n",
       "      <td>thedailybeast</td>\n",
       "      <td>360</td>\n",
       "    </tr>\n",
       "    <tr>\n",
       "      <th>35</th>\n",
       "      <td>thenation</td>\n",
       "      <td>84</td>\n",
       "    </tr>\n",
       "    <tr>\n",
       "      <th>36</th>\n",
       "      <td>thinkprogress</td>\n",
       "      <td>818</td>\n",
       "    </tr>\n",
       "    <tr>\n",
       "      <th>37</th>\n",
       "      <td>townhall</td>\n",
       "      <td>2061</td>\n",
       "    </tr>\n",
       "    <tr>\n",
       "      <th>38</th>\n",
       "      <td>truthdig</td>\n",
       "      <td>66</td>\n",
       "    </tr>\n",
       "    <tr>\n",
       "      <th>39</th>\n",
       "      <td>usnews</td>\n",
       "      <td>1203</td>\n",
       "    </tr>\n",
       "    <tr>\n",
       "      <th>40</th>\n",
       "      <td>villagevoice</td>\n",
       "      <td>21</td>\n",
       "    </tr>\n",
       "    <tr>\n",
       "      <th>41</th>\n",
       "      <td>washingtontimes</td>\n",
       "      <td>3826</td>\n",
       "    </tr>\n",
       "    <tr>\n",
       "      <th>42</th>\n",
       "      <td>weeklystandard</td>\n",
       "      <td>171</td>\n",
       "    </tr>\n",
       "    <tr>\n",
       "      <th>43</th>\n",
       "      <td>wizbangblog</td>\n",
       "      <td>18</td>\n",
       "    </tr>\n",
       "    <tr>\n",
       "      <th>44</th>\n",
       "      <td>wsj</td>\n",
       "      <td>4023</td>\n",
       "    </tr>\n",
       "    <tr>\n",
       "      <th>45</th>\n",
       "      <td>wsws</td>\n",
       "      <td>9</td>\n",
       "    </tr>\n",
       "  </tbody>\n",
       "</table>\n",
       "</div>"
      ],
      "text/plain": [
       "            publisher  count\n",
       "0            alternet     76\n",
       "1         americablog     48\n",
       "2     americanthinker    477\n",
       "3             antiwar      1\n",
       "4                cato     78\n",
       "5                 cnn    653\n",
       "6             cnsnews    121\n",
       "7        counterpunch     65\n",
       "8            dailykos    375\n",
       "9     fivethirtyeight     30\n",
       "10            foxnews    819\n",
       "11       frontpagemag    198\n",
       "12           heritage     53\n",
       "13             hotair    617\n",
       "14     huffingtonpost   3477\n",
       "15           lifenews    260\n",
       "16       mediamatters     96\n",
       "17        motherjones    494\n",
       "18     nationalreview    663\n",
       "19        newsbusters    148\n",
       "20            newsmax    805\n",
       "21          newyorker     86\n",
       "22                npr    651\n",
       "23             nypost    317\n",
       "24           politico    964\n",
       "25      powerlineblog    122\n",
       "26           rawstory    216\n",
       "27  realclearpolitics    308\n",
       "28             reason   2768\n",
       "29       rushlimbaugh     64\n",
       "30              salon   4749\n",
       "31              slate    374\n",
       "32  talkingpointsmemo     57\n",
       "33        theatlantic    859\n",
       "34      thedailybeast    360\n",
       "35          thenation     84\n",
       "36      thinkprogress    818\n",
       "37           townhall   2061\n",
       "38           truthdig     66\n",
       "39             usnews   1203\n",
       "40       villagevoice     21\n",
       "41    washingtontimes   3826\n",
       "42     weeklystandard    171\n",
       "43        wizbangblog     18\n",
       "44                wsj   4023\n",
       "45               wsws      9"
      ]
     },
     "execution_count": 17,
     "metadata": {},
     "output_type": "execute_result"
    }
   ],
   "source": [
    "google_news_df_top_pubs_good_dates.groupby(by = \"publisher\", as_index=False).sum()"
   ]
  },
  {
   "cell_type": "markdown",
   "metadata": {},
   "source": [
    "# Creating the Objects..."
   ]
  },
  {
   "cell_type": "code",
   "execution_count": 19,
   "metadata": {
    "collapsed": false
   },
   "outputs": [],
   "source": [
    "# Creates two grouped by objects -- which enables you to extract the texts and dates as needed...\n",
    "# e.g: publishers.get_group(\"wsj\")\n",
    "# e.g. months.get_group((2015, 5))\n",
    "\n",
    "publishers = google_news_df_top_pubs_good_dates.groupby(by=\"publisher\", as_index=False)\n",
    "months = google_news_df_top_pubs_good_dates.groupby(by=\"date_cat\", as_index=False)"
   ]
  },
  {
   "cell_type": "code",
   "execution_count": 22,
   "metadata": {
    "collapsed": false
   },
   "outputs": [
    {
     "data": {
      "text/plain": [
       "Index([u'publisher', u'text', u'url', u'count', u'date_cat'], dtype='object')"
      ]
     },
     "execution_count": 22,
     "metadata": {},
     "output_type": "execute_result"
    }
   ],
   "source": [
    "google_news_df_top_pubs_good_dates.keys()"
   ]
  },
  {
   "cell_type": "code",
   "execution_count": 23,
   "metadata": {
    "collapsed": false
   },
   "outputs": [],
   "source": [
    "date_keys = google_news_df_top_pubs_good_dates[\"date_cat\"].unique()\n",
    "date_keys = date_keys[:-1]  # Removes (2013, 8) from the list..."
   ]
  },
  {
   "cell_type": "code",
   "execution_count": 24,
   "metadata": {
    "collapsed": false
   },
   "outputs": [
    {
     "data": {
      "text/plain": [
       "array([(2014, 7), (2013, 9), (2015, 8), (2013, 10), (2015, 1), (2015, 5),\n",
       "       (2014, 12), (2014, 6), (2016, 1), (2015, 6), (2015, 12), (2016, 3),\n",
       "       (2015, 9), (2015, 4), (2015, 11), (2014, 9), (2014, 1), (2013, 11),\n",
       "       (2015, 3), (2014, 10), (2013, 12), (2014, 8), (2015, 10), (2016, 2),\n",
       "       (2016, 4), (2014, 4), (2014, 2), (2014, 3), (2014, 11), (2015, 2),\n",
       "       (2015, 7), (2014, 5), (2016, 5)], dtype=object)"
      ]
     },
     "execution_count": 24,
     "metadata": {},
     "output_type": "execute_result"
    }
   ],
   "source": [
    "date_keys"
   ]
  },
  {
   "cell_type": "code",
   "execution_count": 26,
   "metadata": {
    "collapsed": true
   },
   "outputs": [],
   "source": [
    "publisher_keys = google_news_df_top_pubs_good_dates[\"publisher\"].unique()\n",
    "publisher_keys = publisher_keys[:-1]  # Removes \"antiwar\" domain b/c it's too limited"
   ]
  },
  {
   "cell_type": "code",
   "execution_count": 27,
   "metadata": {
    "collapsed": false
   },
   "outputs": [
    {
     "data": {
      "text/plain": [
       "array(['thinkprogress', 'politico', 'salon', 'slate', 'townhall', 'cnn',\n",
       "       'reason', 'foxnews', 'wsj', 'usnews', 'hotair', 'washingtontimes',\n",
       "       'nationalreview', 'npr', 'huffingtonpost', 'newsmax',\n",
       "       'weeklystandard', 'rawstory', 'lifenews', 'powerlineblog',\n",
       "       'motherjones', 'thedailybeast', 'theatlantic', 'nypost', 'cnsnews',\n",
       "       'realclearpolitics', 'dailykos', 'heritage', 'alternet',\n",
       "       'americanthinker', 'newyorker', 'newsbusters', 'frontpagemag',\n",
       "       'villagevoice', 'truthdig', 'wizbangblog', 'rushlimbaugh',\n",
       "       'mediamatters', 'cato', 'talkingpointsmemo', 'wsws',\n",
       "       'fivethirtyeight', 'thenation', 'americablog', 'counterpunch'], dtype=object)"
      ]
     },
     "execution_count": 27,
     "metadata": {},
     "output_type": "execute_result"
    }
   ],
   "source": [
    "publisher_keys"
   ]
  },
  {
   "cell_type": "code",
   "execution_count": 32,
   "metadata": {
    "collapsed": true
   },
   "outputs": [],
   "source": [
    "dict_of_text_strings = {}"
   ]
  },
  {
   "cell_type": "code",
   "execution_count": 33,
   "metadata": {
    "collapsed": true
   },
   "outputs": [],
   "source": [
    "dict_of_scopes = {}"
   ]
  },
  {
   "cell_type": "code",
   "execution_count": 77,
   "metadata": {
    "collapsed": false
   },
   "outputs": [
    {
     "name": "stdout",
     "output_type": "stream",
     "text": [
      "publishers info added to dictionary\n",
      "\n",
      "dates info added to dictionary\n"
     ]
    }
   ],
   "source": [
    "### For clean-up -- there's no reason to have a separate \"dict_of_text_strings\"... seems like everything can pivot off of the \n",
    "## dict of scopes, can fix later\n",
    "\n",
    "for publisher in publisher_keys:\n",
    "    # Part 1 - Getting the text information sorted out\n",
    "    list_of_article_texts = list(publishers.get_group(publisher)[\"text\"])\n",
    "    dict_of_text_strings[publisher] = list_of_article_texts\n",
    "    # Part 2 - Getting the urls & titles information sorted out    \n",
    "    list_of_urls = list(publishers.get_group(publisher)[\"url\"])\n",
    "    list_of_titles = []\n",
    "    for url in list_of_urls:\n",
    "        list_of_titles.append(google_news_dictionary_article_text[url][\"article_title\"])\n",
    "    \n",
    "    \n",
    "    # Part 3 - Putting it all together\n",
    "    dict_of_scopes[publisher] = {\"list_of_texts\": list_of_article_texts,\n",
    "                                 \"list_of_titles\" : list_of_titles,\n",
    "                                \"tfidf_top300\": \"\",\n",
    "                                \"tfidf_top10\": \"\",\n",
    "                                \"list_of_dates\": list(publishers.get_group(publisher)[\"date_cat\"]),\n",
    "                                \"list_of_urls\": list_of_urls}\n",
    "\n",
    "print \"publishers info added to dictionary\"\n",
    "print\n",
    "\n",
    "for date in date_keys:        \n",
    "    # Part 1 - Getting the text information sorted out\n",
    "    list_of_article_texts = list(months.get_group(date)[\"text\"])\n",
    "    dict_of_text_strings[date] = list_of_article_texts\n",
    "\n",
    "    # Part 2 - Getting the urls & titles information sorted out    \n",
    "    list_of_urls = list(months.get_group(date)[\"url\"])\n",
    "    list_of_titles = []\n",
    "    for url in list_of_urls:\n",
    "        list_of_titles.append(google_news_dictionary_article_text[url][\"article_title\"])\n",
    "        \n",
    "    # Part 3 - Putting it all together\n",
    "    dict_of_scopes[date] = {\"list_of_texts\": list_of_article_texts,\n",
    "                                 \"list_of_titles\" : list_of_titles,\n",
    "                                \"tfidf_top300\": \"\",\n",
    "                                \"tfidf_top10\": \"\",\n",
    "                                \"list_of_dates\": list(publishers.get_group(publisher)[\"date_cat\"]),\n",
    "                                \"list_of_urls\": list_of_urls}\n",
    "\n",
    "print \"dates info added to dictionary\""
   ]
  },
  {
   "cell_type": "code",
   "execution_count": 81,
   "metadata": {
    "collapsed": false
   },
   "outputs": [],
   "source": [
    "# Part 1 - Getting the text information sorted out\n",
    "date = (2016, 5)\n",
    "list_of_article_texts = list(months.get_group(date)[\"text\"])\n",
    "dict_of_text_strings[date] = list_of_article_texts\n",
    "\n",
    "# Part 2 - Getting the urls & titles information sorted out    \n",
    "list_of_urls = list(months.get_group(date)[\"url\"])\n",
    "list_of_titles = []\n",
    "for url in list_of_urls:\n",
    "    list_of_titles.append(google_news_dictionary_article_text[url][\"article_title\"])\n",
    "\n",
    "# Part 3 - Putting it all together\n",
    "dict_of_scopes[date] = {\"list_of_texts\": list_of_article_texts,\n",
    "                             \"list_of_titles\" : list_of_titles,\n",
    "                            \"tfidf_top300\": \"\",\n",
    "                            \"tfidf_top10\": \"\",\n",
    "                            \"list_of_dates\": list(publishers.get_group(publisher)[\"date_cat\"]),\n",
    "                            \"list_of_urls\": list_of_urls}\n"
   ]
  },
  {
   "cell_type": "code",
   "execution_count": 82,
   "metadata": {
    "collapsed": false
   },
   "outputs": [
    {
     "ename": "KeyError",
     "evalue": "'(2016, 5)'",
     "output_type": "error",
     "traceback": [
      "\u001b[0;31m---------------------------------------------------------------------------\u001b[0m",
      "\u001b[0;31mKeyError\u001b[0m                                  Traceback (most recent call last)",
      "\u001b[0;32m<ipython-input-82-8f27ab8c90e5>\u001b[0m in \u001b[0;36m<module>\u001b[0;34m()\u001b[0m\n\u001b[0;32m----> 1\u001b[0;31m \u001b[0mdict_of_scopes\u001b[0m\u001b[0;34m[\u001b[0m\u001b[0;34m\"(2016, 5)\"\u001b[0m\u001b[0;34m]\u001b[0m\u001b[0;34m\u001b[0m\u001b[0m\n\u001b[0m",
      "\u001b[0;31mKeyError\u001b[0m: '(2016, 5)'"
     ]
    }
   ],
   "source": [
    "dict_of_scopes[\"(2016, 5)\"]"
   ]
  },
  {
   "cell_type": "code",
   "execution_count": 74,
   "metadata": {
    "collapsed": false
   },
   "outputs": [
    {
     "data": {
      "text/plain": [
       "array([(2013, 9), (2013, 10), (2013, 11), (2013, 12), (2014, 1), (2014, 2),\n",
       "       (2014, 3), (2014, 4), (2014, 5), (2014, 6), (2014, 7), (2014, 8),\n",
       "       (2014, 9), (2014, 10), (2014, 11), (2014, 12), (2015, 1), (2015, 2),\n",
       "       (2015, 3), (2015, 4), (2015, 5), (2015, 6), (2015, 7), (2015, 8),\n",
       "       (2015, 9), (2015, 10), (2015, 11), (2015, 12), (2016, 1), (2016, 2),\n",
       "       (2016, 3), (2016, 4), (2016, 5)], dtype=object)"
      ]
     },
     "execution_count": 74,
     "metadata": {},
     "output_type": "execute_result"
    }
   ],
   "source": [
    "date_keys"
   ]
  },
  {
   "cell_type": "markdown",
   "metadata": {},
   "source": [
    "# Now to model the list of strings"
   ]
  },
  {
   "cell_type": "code",
   "execution_count": 567,
   "metadata": {
    "collapsed": false
   },
   "outputs": [
    {
     "name": "stdout",
     "output_type": "stream",
     "text": [
      "\n"
     ]
    }
   ],
   "source": [
    "def get_tfidf_list_300(scope):\n",
    "    list_of_strings = dict_of_text_strings[scope]\n",
    "    print \"Parts complete: 1\",\n",
    "\n",
    "    vectorizer = TfidfVectorizer(stop_words=\"english\", max_df=0.95, min_df=2,ngram_range=(1,3))\n",
    "    #vectorizer = TfidfVectorizer(stop_words=\"english\", max_df=0.75, min_df=2,ngram_range=(1,3), )\n",
    "    print \"2\",\n",
    "\n",
    "    X = vectorizer.fit_transform(list_of_strings)\n",
    "    print \"3\",\n",
    "\n",
    "    indices = np.argsort(vectorizer.idf_)[::-1]\n",
    "    print \"4\",\n",
    "\n",
    "    features = vectorizer.get_feature_names()\n",
    "    print \"5\",\n",
    "\n",
    "    top_n = 300\n",
    "    top_features = [features[i] for i in indices[:top_n]]\n",
    "    print \"6\"\n",
    "\n",
    "    print \"These are the top 10 features for scope:\", scope, top_features[0:10]\n",
    "    return top_features"
   ]
  },
  {
   "cell_type": "code",
   "execution_count": null,
   "metadata": {
    "collapsed": false
   },
   "outputs": [],
   "source": []
  },
  {
   "cell_type": "code",
   "execution_count": 597,
   "metadata": {
    "collapsed": false
   },
   "outputs": [
    {
     "name": "stdout",
     "output_type": "stream",
     "text": [
      "(2015, 11)\n",
      "Parts complete: 1 2 3 4 5 6\n",
      "These are the top 10 features for scope: (2015, 11) [u'life federation', u'democratic control', u'democratic candidates debate', u'notify employees', u'notify government', u'democratic candidate governor', u'noting pill', u'noting pill bottles', u'democratic base', u'notion common']\n",
      "\n",
      "salon\n",
      "Parts complete: 1 2 3 4 5 6\n",
      "These are the top 10 features for scope: salon [u'\\ufb01rst', u'libertarian ish', u'liberating power', u'liberation army', u'liberation movements', u'bad days', u'liberian president', u'liberian president ellen', u'bad culture', u'libertarian agenda']\n",
      "\n",
      "(2015, 5)\n",
      "Parts complete: 1 2 3 4 5 6\n",
      "These are the top 10 features for scope: (2015, 5) [u'best deal', u'kaufax applauded measure', u'kazakhstan', u'kayaks', u'kay', u'kavanaugh', u'kaufax wrote', u'kaufax said', u'kaufax applauded', u'keepers']\n",
      "\n",
      "politico\n",
      "Parts complete: 1 2 3 4 5 6\n",
      "These are the top 10 features for scope: politico [u'zurawik', u'mayor cory', u'matthew shapanka', u'matthew dowd rep', u'cargo entering', u'mattfriedmannj happy', u'carl icahn', u'matters worse estimates', u'carl tobias', u'carlisle']\n",
      "\n",
      "wizbangblog\n",
      "Parts complete: 1 2 3 4 5 6\n",
      "These are the top 10 features for scope: wizbangblog [u'blog share posts', u'share posts', u'check failed', u'address email address', u'address post', u'address post sent', u'addresses', u'addresses email', u'addresses email check', u'sorry blog share']\n",
      "\n",
      "americanthinker\n",
      "Parts complete: 1 2 3 4 5 6\n",
      "These are the top 10 features for scope: americanthinker [u'zoning', u'parking lot', u'economic consequences', u'parliament longer', u'parliamentary', u'parody', u'economic aid', u'ecology', u'echo', u'ebola diseases brought']\n",
      "\n",
      "(2013, 10)\n",
      "Parts complete: 1 2 3 4 5 6\n",
      "These are the top 10 features for scope: (2013, 10) [u'preventing pregnancy', u'obamacare politics', u'obamacare patient', u'obamacare pays', u'doesn far', u'obamacare percent', u'obamacare perfect', u'obamacare phone', u'doesn explain', u'doesn exist']\n",
      "\n",
      "newsbusters\n",
      "Parts complete: 1 2 3 4 5 6\n",
      "These are the top 10 features for scope: newsbusters [u'zimmerman', u'liked', u'josh barro', u'jonathan karl', u'jon', u'joining congresswoman', u'john oliver', u'john kerry', u'john berman', u'jobs don']\n",
      "\n",
      "(2016, 4)\n",
      "Parts complete: 1 2 3 4 5 6\n",
      "These are the top 10 features for scope: (2016, 4) [u'leaving country', u'coffee shop', u'mismanagement', u'misogynistic', u'miss upcoming pulse', u'collections', u'missed glenn', u'missed glenn thrush', u'missed opportunities', u'missed playoffs']\n",
      "\n",
      "foxnews\n",
      "Parts complete: 1 2 3 4 5 6\n",
      "These are the top 10 features for scope: foxnews [u'letter president obama', u'open amendment process', u'ongoing problems', u'ongoing struggle', u'don fix', u'don federal', u'online application', u'online applications', u'online benefits', u'online chat']\n",
      "\n",
      "fivethirtyeight\n",
      "Parts complete: 1 2 3 4 5 6\n",
      "These are the top 10 features for scope: fivethirtyeight [u'zero', u'highly', u'historical', u'hitting', u'hobbyists', u'hold', u'holdings', u'hopes', u'hospitals', u'hotel']\n",
      "\n",
      "(2013, 11)\n",
      "Parts complete: 1 2 3 4 5 6\n",
      "These are the top 10 features for scope: (2013, 11) [u'zuckerberg spent 25', u'including community', u'including american', u'including 10', u'includes broad', u'includes abortion', u'included targets', u'included public option', u'included public', u'included joe lieberman']\n",
      "\n",
      "weeklystandard\n",
      "Parts complete: 1 2 3 4 5 6\n",
      "These are the top 10 features for scope: weeklystandard [u'objective', u'pay income tax', u'peace', u'government approved insurance', u'payrolls', u'government benefits', u'believe republicans', u'payment advisory board', u'payment advisory', u'government big']\n",
      "\n",
      "(2014, 10)\n",
      "Parts complete: 1 2 3 4 5 6\n",
      "These are the top 10 features for scope: (2014, 10) [u'zucker', u'lots different', u'lot information', u'budged', u'lot lot', u'lot moderates', u'buddy holly', u'lot oh', u'lot oh yeah', u'lot places']\n",
      "\n",
      "thinkprogress\n",
      "Parts complete: 1 2 3 4 5 6\n",
      "These are the top 10 features for scope: thinkprogress [u'zoning', u'impact obamacare', u'ideology recent', u'ideologue', u'ideologically', u'ideological agenda', u'identity theft', u'identity judges', u'identify single closely', u'identify single']\n",
      "\n",
      "(2015, 6)\n",
      "Parts complete: 1 2 3 4 5 6\n",
      "These are the top 10 features for scope: (2015, 6) [u'zug island homeland', u'improve transparency', u'impugn', u'improving access', u'improves quality', u'improvement care', u'improved quality life', u'improved quality', u'improved access', u'improve relations']\n",
      "\n",
      "(2015, 3)\n",
      "Parts complete: 1 2 3 4 5 6\n",
      "These are the top 10 features for scope: (2015, 3) [u'zwick', u'matthews', u'matter severe', u'matter severe decline', u'matter times', u'matter weight', u'matter weight bodies', u'clinical social worker', u'clinical social', u'matters america']\n",
      "\n",
      "cnsnews\n",
      "Parts complete: 1 2 3 4 5 6\n",
      "These are the top 10 features for scope: cnsnews [u'zubik burwell', u'group health', u'having pay', u'haul far fiscal', u'haul far', u'haul came individual', u'haul came', u'haul', u'hasan', u'harvesting']\n",
      "\n",
      "alternet\n",
      "Parts complete: 1 2 3 4 5 6\n",
      "These are the top 10 features for scope: alternet [u'zoning', u'innovative', u'insurance social security', u'insurance state', u'insurance state lines', u'intellectual', u'intense', u'interrupt', u'interventions', u'interview fox']\n",
      "\n",
      "(2015, 10)\n",
      "Parts complete: 1 2 3 4 5 6\n",
      "These are the top 10 features for scope: (2015, 10) [u'\\u017ei\\u017eek', u'impact latinos', u'important role play', u'important topics', u'important ways', u'importing', u'impossibility', u'impossible know', u'impossible task', u'impossible write']\n",
      "\n",
      "nypost\n",
      "Parts complete: 1 2 3 4 5 6\n",
      "These are the top 10 features for scope: nypost [u'applying dollar income', u'77 percent', u'pay 100', u'pay 25', u'pay attention', u'pay doctors', u'fashioned', u'pay federal income', u'pay fee', u'pay having']\n",
      "\n",
      "(2014, 11)\n",
      "Parts complete: 1 2 3 4 5 6\n",
      "These are the top 10 features for scope: (2014, 11) [u'liars current political', u'domestic product', u'don choose', u'don change', u'old african', u'old african american', u'old blind', u'old boy', u'old college', u'don believe government']\n",
      "\n",
      "newyorker\n",
      "Parts complete: 1 2 3 4 5 6\n",
      "These are the top 10 features for scope: newyorker [u'\\xe9lites', u'ceremonial', u'cent respondents said', u'cent time', u'mourners', u'mounted', u'mother jones', u'cent workforce', u'moribund', u'cent year']\n",
      "\n",
      "townhall\n",
      "Parts complete: 1 2 3 4 5 6\n",
      "These are the top 10 features for scope: townhall [u'\\xeatre', u'individual insurance', u'individuals disabilities', u'individuals criminal', u'individual tax', u'individual state', u'individual small group', u'individual small', u'individual right bear', u'individual potential']\n",
      "\n",
      "(2015, 7)\n",
      "Parts complete: 1 2 3 4 5 6\n",
      "These are the top 10 features for scope: (2015, 7) [u'zuma press', u'identification male kept', u'ideology forced', u'identity politics', u'identify person', u'identify liberals', u'identified liberals', u'identified conservatives', u'identification male', u'idiot']\n",
      "\n",
      "(2015, 9)\n",
      "Parts complete: 1 2 3 4 5 6\n",
      "These are the top 10 features for scope: (2015, 9) [u'leblond doro', u'military personnel', u'medicare medicaid social', u'medicare medicare', u'medicare medicare advantage', u'medicare money', u'clapper said confident', u'medicare negotiate companies', u'medicare negotiate lower', u'medicare patients']\n",
      "\n",
      "rushlimbaugh\n",
      "Parts complete: 1 2 3 4 5 6\n",
      "These are the top 10 features for scope: rushlimbaugh [u'zero', u'options', u'outcome', u'ought away', u'evidence right', u'evident', u'evolved', u'organizations', u'exact thing', u'ordinary everyday']\n",
      "\n",
      "(2014, 2)\n",
      "Parts complete: 1 2 3 4 5 6\n",
      "These are the top 10 features for scope: (2014, 2) [u'zurich', u'incur', u'incumbent rep', u'incumbent reelection aspiring', u'incumbent reelection', u'incumbent gov', u'incubator', u'incriminating', u'increasingly unpopular', u'increasingly lawless']\n",
      "\n",
      "villagevoice\n",
      "Parts complete: 1 2 3 4 5 6\n",
      "These are the top 10 features for scope: villagevoice [u'zippers', u'initiatives', u'information voters', u'influence', u'inevitably', u'inevitable', u'inequality', u'ineffectual', u'individuals', u'individual']\n",
      "\n",
      "cato\n",
      "Parts complete: 1 2 3 4 5 6\n",
      "These are the top 10 features for scope: cato [u'zubik burwell', u'downstream', u'drawn treasury consequence', u'drawn treasury', u'office cbo', u'office january', u'drawn', u'offices', u'official', u'officials office']\n",
      "\n",
      "counterpunch\n",
      "Parts complete: 1 2 3 4 5 6\n",
      "These are the top 10 features for scope: counterpunch [u'zucker', u'hopeless available kindle', u'individualistic', u'individualized', u'individuals employers', u'individuals families', u'indoctrinated', u'indomitable', u'industrialized countries', u'industrialized nation']\n",
      "\n",
      "motherjones\n",
      "Parts complete: 1 2 3 4 5 6\n",
      "These are the top 10 features for scope: motherjones [u'legislative process', u'need worry', u'negligence', u'congress pay', u'nefarious', u'needs health', u'congress president', u'congress pretty', u'congress reconvenes', u'needed medical']\n",
      "\n",
      "(2014, 1)\n",
      "Parts complete: 1 2 3 4 5 6\n",
      "These are the top 10 features for scope: (2014, 1) [u'zuma press seeded', u'january 2014 dustinsiggins', u'january 6th', u'january 3rd felt', u'january 29', u'january 28th', u'january 27', u'january 25 2014', u'january 2017', u'january 2014 information']\n",
      "\n",
      "(2013, 9)\n",
      "Parts complete: 1 2 3 4 5 6\n",
      "These are the top 10 features for scope: (2013, 9) [u'legal counsel', u'happened government', u'paints picture', u'changes healthcare', u'pair new', u'paired', u'handout', u'pairs', u'handling use', u'pakistan history']\n",
      "\n",
      "lifenews\n",
      "Parts complete: 1 2 3 4 5 6\n",
      "These are the top 10 features for scope: lifenews [u'laws effect', u'participation', u'participate state exchanges', u'participate state', u'participate providing', u'participate plans', u'participate abortions', u'dramatically', u'partially', u'drawn ire']\n",
      "\n",
      "cnn\n",
      "Parts complete: 1 2 3 4 5 6\n",
      "These are the top 10 features for scope: cnn [u'zorita', u'injured inland', u'injured police', u'injured police said', u'inmate', u'inner cities', u'innocent people', u'innocuous', u'innovate', u'innovation internet']\n",
      "\n",
      "(2015, 1)\n",
      "Parts complete: 1 2 3 4 5 6\n",
      "These are the top 10 features for scope: (2015, 1) [u'zones europe', u'lang', u'lanhee', u'languish', u'language said', u'language help', u'language barriers', u'langevin', u'lanes', u'lankford']\n",
      "\n",
      "powerlineblog\n",
      "Parts complete: 1 2 3 4 5 6\n",
      "These are the top 10 features for scope: powerlineblog [u'yup', u'overreach', u'doing job', u'doesn want', u'doesn look good', u'ordinary', u'organizers', u'doesn know', u'does mention', u'originate']\n",
      "\n",
      "theatlantic\n",
      "Parts complete: 1 2 3 4 5 6\n",
      "These are the top 10 features for scope: theatlantic [u'\\xeatre', u'japan springtime', u'january 16', u'january 2006', u'january 2016', u'january february', u'january october', u'january year', u'japan caught', u'japan china']\n",
      "\n",
      "(2016, 1)\n",
      "Parts complete: 1 2 3 4 5 6\n",
      "These are the top 10 features for scope: (2016, 1) [u'zuma press', u'house reconvenes', u'house leadership', u'house lower', u'house november', u'house obamacare', u'house obamacare repeal', u'house passage clamping', u'house passage repeal', u'house passed legislation']\n",
      "\n",
      "(2014, 12)\n",
      "Parts complete: 1 2 3 4 5 6\n",
      "These are the top 10 features for scope: (2014, 12) [u'zywicki', u'image cellphone text', u'imitating', u'imf', u'imbued', u'imbibe', u'imax', u'iman shumpert', u'iman', u'imagine going forward']\n",
      "\n",
      "rawstory\n",
      "Parts complete: 1 2 3 4 5 6\n",
      "These are the top 10 features for scope: rawstory [u'zoo forced animals', u'inform', u'injected', u'injuries', u'injury', u'innovation', u'innovative', u'insanity', u'insert', u'insist']\n",
      "\n",
      "(2015, 2)\n",
      "Parts complete: 1 2 3 4 5 6\n",
      "These are the top 10 features for scope: (2015, 2) [u'zurich', u'income residents', u'income verification', u'income uninsured', u'income threshold', u'income taxpayers', u'income tax rates', u'income state', u'income qualify', u'increase vaccination rates']\n",
      "\n",
      "usnews\n",
      "Parts complete: 1 2 3 4 5 6\n",
      "These are the top 10 features for scope: usnews [u'zuckerberg', u'income come', u'income estimated', u'income employer health', u'income employer', u'income economic', u'income drops', u'income disparity', u'income deductions', u'income consumers']\n",
      "\n",
      "dailykos\n",
      "Parts complete: 1 2 3 4 5 6\n",
      "These are the top 10 features for scope: dailykos [u'zoom', u'horton pondered amazement', u'horrified horton pondered', u'horror stories', u'horserace', u'horton', u'horton pointed', u'horton pointed legal', u'horton pondered', u'hospital 30']\n",
      "\n",
      "hotair\n",
      "Parts complete: 1 2 3 4 5 6\n",
      "These are the top 10 features for scope: hotair [u'\\xeatre', u'jazz shaw don', u'jazz shaw hey', u'jazz shaw isn', u'jazz shaw long', u'jazz shaw quite', u'jazz shaw suppose', u'jazz shaw think', u'jazzshaw', u'jeb bush jebbush']\n",
      "\n",
      "slate\n",
      "Parts complete: 1 2 3 4 5 6\n",
      "These are the top 10 features for scope: slate [u'zygotes', u'intriguing', u'investigators', u'investigator', u'investigating', u'invasive', u'invalidated state laws', u'intrusive thoughts', u'intrusive', u'intruding']\n",
      "\n",
      "heritage\n",
      "Parts complete: 1 2 3 4 5 6\n",
      "These are the top 10 features for scope: heritage [u'zone', u'gov assets 680', u'gottlieb', u'gospel', u'gop', u'good intentions', u'good health', u'good faith', u'good example', u'gold platinum']\n",
      "\n",
      "(2014, 8)\n",
      "Parts complete: 1 2 3 4 5 6\n",
      "These are the top 10 features for scope: (2014, 8) [u'\\xeatre', u'obamacare obamacare proving', u'disappearance', u'obamacare passed 2010', u'obamacare pays', u'disagreeable', u'obamacare plan coverage', u'disagree brown moving', u'obamacare polls', u'obamacare premium']\n",
      "\n",
      "(2015, 4)\n",
      "Parts complete: 1 2 3 4 5 6\n",
      "These are the top 10 features for scope: (2015, 4) [u'zuckerberg', u'including washington post', u'income towns', u'income transfer', u'income wealth inequality', u'income whichever larger', u'income year', u'incompetence', u'inconsistent accounting', u'inconsistent accounting lack']\n",
      "\n",
      "washingtontimes\n",
      "Parts complete: 1 2 3 4 5 6\n",
      "These are the top 10 features for scope: washingtontimes [u'lines mr', u'clear vision', u'missouri constitution', u'missouri democrat', u'missouri families', u'clear trial', u'clear time', u'missouri governor', u'missouri illinois', u'missouri new']\n",
      "\n",
      "thedailybeast\n",
      "Parts complete: 1 2 3 4 5 6\n",
      "These are the top 10 features for scope: thedailybeast [u'zuccotti park', u'israelis', u'issue says', u'issue real', u'issue moment', u'issue important', u'issue elections', u'issue election', u'issue despite', u'issue conservative']\n",
      "\n",
      "huffingtonpost\n",
      "Parts complete: 1 2 3 4 5 6\n",
      "These are the top 10 features for scope: huffingtonpost [u'zumba', u'measures follow number', u'com ssworks', u'com steve_pierce', u'com stevenacohen', u'measures huffpost', u'measures hospitals', u'measures help', u'measures failed', u'measures meeting']\n",
      "\n",
      "realclearpolitics\n",
      "Parts complete: 1 2 3 4 5 6\n",
      "These are the top 10 features for scope: realclearpolitics [u'legislation republicans', u'income tax credit', u'incredibly simple', u'incredibly important', u'increased attention', u'increase size scope', u'increase size', u'increase capital', u'incomplete', u'incompatible']\n",
      "\n",
      "(2014, 6)\n",
      "Parts complete: 1 2 3 4 5 6\n",
      "These are the top 10 features for scope: (2014, 6) [u'zuckerberg jones', u'dramatic reductions', u'draw conclusions', u'draw attention', u'onstage', u'draper', u'oops', u'op ed pages', u'dramatically elevated', u'open air']\n",
      "\n",
      "(2015, 8)\n",
      "Parts complete: 1 2 3 4 5 6\n",
      "These are the top 10 features for scope: (2015, 8) [u'zoo officials say', u'kids constant danger', u'kids just', u'kids table', u'kids table debate', u'kikuchi', u'kill obamacare', u'killed 000', u'killed incident', u'killed injured']\n",
      "\n",
      "newsmax\n",
      "Parts complete: 1 2 3 4 5 6\n",
      "These are the top 10 features for scope: newsmax [u'zubik', u'path prosperity', u'passengers', u'passenger', u'donna', u'passed result', u'passed republican controlled', u'passed republican', u'passed president clinton', u'donnelly agrees']\n",
      "\n",
      "(2016, 2)\n",
      "Parts complete: 1 2 3 4 5 6\n",
      "These are the top 10 features for scope: (2016, 2) [u'zurich', u'important state', u'importance young', u'importance young women', u'important campaign', u'important country', u'important discussion', u'important issues', u'important just', u'important note']\n",
      "\n",
      "npr\n",
      "Parts complete: 1 2 3 4 5 6\n",
      "These are the top 10 features for scope: npr [u'marketplace opened', u'courts makes', u'courts federal', u'courts district', u'memorial health', u'courts center public', u'courts center', u'memorize', u'memorizing', u'appetite']\n",
      "\n",
      "talkingpointsmemo\n",
      "Parts complete: 1 2 3 4 5 6\n",
      "These are the top 10 features for scope: talkingpointsmemo [u'like obama', u'cornyn', u'new republican', u'nice', u'costs low', u'nominated', u'nominating', u'nominating process', u'correction post', u'cornyn tx']\n",
      "\n",
      "americablog\n",
      "Parts complete: 1 2 3 4 5 6\n",
      "These are the top 10 features for scope: americablog [u'zip code', u'lived', u'link', u'linkedin', u'linkedin john', u'linkedin john aravosis', u'budget', u'browsing plans', u'lists drugs', u'little 000']\n",
      "\n",
      "nationalreview\n",
      "Parts complete: 1 2 3 4 5 6\n",
      "These are the top 10 features for scope: nationalreview [u'laws taxes', u'money away', u'mohamed', u'molina', u'contexts', u'mom dad', u'context understand', u'moment american', u'moment given', u'moment maybe']\n",
      "\n",
      "thenation\n",
      "Parts complete: 1 2 3 4 5 6\n",
      "These are the top 10 features for scope: thenation [u'zo\\xeb carpenter', u'las', u'law enforcement', u'law center', u'accounts', u'latest updates tomdispatch', u'latest updates', u'zo\\xeb', u'latent', u'lasts']\n",
      "\n",
      "mediamatters\n",
      "Parts complete: 1 2 3 4 5 6\n",
      "These are the top 10 features for scope: mediamatters [u'bureaucracy', u'offers', u'falsehoods', u'official republican national', u'official republican', u'official political appointee', u'official political', u'officer', u'office obama', u'office just']\n",
      "\n",
      "wsws\n",
      "Parts complete: 1 2 3 4 5 6\n",
      "These are the top 10 features for scope: wsws [u'zealand', u'forces', u'gay', u'gap', u'gain', u'fundamentalists', u'friday', u'free', u'franchise', u'forward']\n",
      "\n",
      "(2014, 7)\n",
      "Parts complete: 1 2 3 4 5 6\n",
      "These are the top 10 features for scope: (2014, 7) [u'zurich', u'immigration think', u'impact birth control', u'impact birth', u'immutable', u'immortal', u'immorality', u'imminently', u'immigration status', u'impact economy']\n",
      "\n",
      "(2014, 9)\n",
      "Parts complete: 1 2 3 4 5 6\n",
      "These are the top 10 features for scope: (2014, 9) [u'zuma', u'information make', u'influenza says', u'influenza', u'influence american', u'inflection', u'inflation rate', u'inflation 60 percent', u'inflation 60', u'infinite']\n",
      "\n",
      "wsj\n",
      "Parts complete: 1 2 3 4 5 6\n",
      "These are the top 10 features for scope: wsj [u'zweig', u'low point', u'loss revenue', u'loss ivanovic aaron', u'loss ivanovic', u'loss fourth quarter', u'loss fourth', u'buzzwords', u'losing war', u'losing set william']\n",
      "\n",
      "reason\n",
      "Parts complete: 1 2 3 4 5 6\n",
      "These are the top 10 features for scope: reason [u'attack school', u'laws allowing', u'lawn signs', u'lawrence san', u'lawrence texas court', u'behave way', u'laws according', u'laws aggressively', u'laws allow people', u'laws apparently']\n",
      "\n",
      "(2014, 4)\n",
      "Parts complete: 1 2 3 4 5 6\n",
      "These are the top 10 features for scope: (2014, 4) [u'zuma', u'distaste', u'officer mozilla', u'officer executive', u'officer company', u'office told', u'office space', u'office says', u'disseminated', u'office people']\n",
      "\n",
      "(2015, 12)\n",
      "Parts complete: 1 2 3 4 5 6\n",
      "These are the top 10 features for scope: (2015, 12) [u'zuckerberg initiative', u'number patients', u'number concessions', u'number concessions including', u'number days', u'desean', u'number democrats independent', u'number high', u'number illegal', u'number items']\n",
      "\n",
      "(2013, 12)\n",
      "Parts complete: 1 2 3 4 5 6\n",
      "These are the top 10 features for scope: (2013, 12) [u'legislators country', u'middle class poor', u'mikhail', u'milbank', u'common ground', u'mile away', u'common core state', u'miles away', u'miles day', u'miles headquarters']\n",
      "\n",
      "truthdig\n",
      "Parts complete: 1 2 3 4 5 6\n",
      "These are the top 10 features for scope: truthdig [u'zone', u'insurance program', u'hunt', u'ideals', u'ideological', u'ideology', u'ignore', u'illinois', u'immediately', u'immigrant']\n",
      "\n",
      "(2014, 5)\n",
      "Parts complete: 1 2 3 4 5 6\n",
      "These are the top 10 features for scope: (2014, 5) [u'lefties', u'induce', u'indonesian', u'indoctrination', u'individuals need', u'individualism', u'individual rights', u'individual members', u'individual market', u'individual liberty rule']\n",
      "\n",
      "(2014, 3)\n",
      "Parts complete: 1 2 3 4 5 6\n",
      "These are the top 10 features for scope: (2014, 3) [u'liberals conservatives', u'military presence', u'comes home', u'military spending pentagon', u'military ukraine', u'comes future', u'millennial americans', u'comers', u'millennials 2014', u'millennials 2014 slogging']\n",
      "\n",
      "(2016, 3)\n",
      "Parts complete: 1 2 3 4 5 6\n",
      "These are the top 10 features for scope: (2016, 3) [u'zubik case', u'illinois florida', u'idolize', u'ig', u'ig report', u'ignoble', u'ignoring fact', u'igor bobic', u'ilk', u'illegal drug']\n",
      "\n",
      "frontpagemag\n",
      "Parts complete: 1 2 3 4 5 6\n",
      "These are the top 10 features for scope: frontpagemag [u'zuckerberg', u'citizens account margin', u'citizens participate', u'million federal', u'million government', u'million illegals', u'million immigrants', u'million jobs', u'million low', u'million low income']\n",
      "\n"
     ]
    }
   ],
   "source": [
    "# Iterating across all the domains and generating a list of the top 300 tfidf words for a given domain...\n",
    "\n",
    "for scope in dict_of_scopes.keys():\n",
    "    print scope\n",
    "    tfidf_top300 = get_tfidf_list_300(scope)\n",
    "    tfidf_top10 = tfidf_top300[0:10]\n",
    "    dict_of_scopes[scope][\"tfidf_top300\"] = tfidf_top300\n",
    "    dict_of_scopes[scope][\"tfidf_top10\"] = tfidf_top10\n",
    "    print"
   ]
  },
  {
   "cell_type": "code",
   "execution_count": 4,
   "metadata": {
    "collapsed": true
   },
   "outputs": [],
   "source": [
    "import pickle\n",
    "import pandas as pd"
   ]
  },
  {
   "cell_type": "code",
   "execution_count": 35,
   "metadata": {
    "collapsed": false
   },
   "outputs": [],
   "source": [
    "#pickle.dump( dict_of_scopes, open( \"dict_of_scopes.pickle\", \"wb\" ) )\n",
    "\n",
    "dict_of_scopes = pickle.load( open(\"dict_of_scopes.pickle\", \"rb\" ))"
   ]
  },
  {
   "cell_type": "code",
   "execution_count": 36,
   "metadata": {
    "collapsed": false
   },
   "outputs": [
    {
     "data": {
      "text/plain": [
       "['list_of_texts',\n",
       " 'list_of_titles',\n",
       " 'tfidf_top10',\n",
       " 'list_of_urls',\n",
       " 'list_of_dates',\n",
       " 'tfidf_top300']"
      ]
     },
     "execution_count": 36,
     "metadata": {},
     "output_type": "execute_result"
    }
   ],
   "source": [
    "dict_of_scopes[\"salon\"].keys()"
   ]
  },
  {
   "cell_type": "code",
   "execution_count": 38,
   "metadata": {
    "collapsed": false
   },
   "outputs": [],
   "source": [
    "scope_type_list = []\n",
    "scope_list = []\n",
    "tfidf_top10_list = []\n",
    "top1_list = []\n",
    "top2_list = []\n",
    "top3_list = []\n",
    "top4_list = []\n",
    "top5_list = []\n",
    "\n",
    "\n",
    "for scope in dict_of_scopes.keys():\n",
    "    #1 Assign the scope in particular -- # scope = []       # \"salon, etc... or (2016, 3)\n",
    "    scope_list.append(scope)\n",
    "    #print scope, \n",
    "\n",
    "    # Get the scope type -- # scope_type = []  # \"date-pair or publisher\n",
    "    scope_type = \"date\"\n",
    "    if type(scope) == str:\n",
    "        scope_type = \"publisher\"\n",
    "    #print scope_type,\n",
    "    scope_type_list.append(scope_type)\n",
    "\n",
    "    # Extract out the top 5 keywoards\n",
    "    tfidf_top10 = dict_of_scopes[scope][\"tfidf_top10\"]\n",
    "    tfidf_top10_list.append(tfidf_top10)\n",
    "    \n",
    "    top1_list.append(tfidf_top10[0])\n",
    "    top2_list.append(tfidf_top10[1])\n",
    "    top3_list.append(tfidf_top10[2])\n",
    "    top4_list.append(tfidf_top10[3])\n",
    "    top5_list.append(tfidf_top10[4])               "
   ]
  },
  {
   "cell_type": "code",
   "execution_count": 39,
   "metadata": {
    "collapsed": true
   },
   "outputs": [],
   "source": [
    "df_of_scopes = pd.DataFrame([scope_list,scope_type_list,tfidf_top10_list,top1_list,top2_list, top3_list, top4_list, top5_list]).T\n",
    "df_of_scopes.columns = [\"scope\",\"scope_type\",\"tfidf_top10\",\"top1\",\"top2\", \"top3\", \"top4\", \"top5\"]"
   ]
  },
  {
   "cell_type": "code",
   "execution_count": 306,
   "metadata": {
    "collapsed": false,
    "scrolled": false
   },
   "outputs": [
    {
     "data": {
      "text/html": [
       "<div>\n",
       "<table border=\"1\" class=\"dataframe\">\n",
       "  <thead>\n",
       "    <tr style=\"text-align: right;\">\n",
       "      <th></th>\n",
       "      <th>scope</th>\n",
       "      <th>tfidf_top10</th>\n",
       "    </tr>\n",
       "  </thead>\n",
       "  <tbody>\n",
       "    <tr>\n",
       "      <th>44</th>\n",
       "      <td>(2013, 9)</td>\n",
       "      <td>[legal counsel, happened government, paints picture, changes healthcare, pair new, paired, handout, pairs, handling use, pakistan history]</td>\n",
       "    </tr>\n",
       "    <tr>\n",
       "      <th>24</th>\n",
       "      <td>(2013, 10)</td>\n",
       "      <td>[preventing pregnancy, obamacare politics, obamacare patient, obamacare pays, doesn far, obamacare percent, obamacare perfect, obamacare phone, doesn explain, doesn exist]</td>\n",
       "    </tr>\n",
       "    <tr>\n",
       "      <th>10</th>\n",
       "      <td>(2013, 11)</td>\n",
       "      <td>[zuckerberg spent 25, including community, including american, including 10, includes broad, includes abortion, included targets, included public option, included public, included joe lieberman]</td>\n",
       "    </tr>\n",
       "    <tr>\n",
       "      <th>25</th>\n",
       "      <td>(2013, 12)</td>\n",
       "      <td>[legislators country, middle class poor, mikhail, milbank, common ground, mile away, common core state, miles away, miles day, miles headquarters]</td>\n",
       "    </tr>\n",
       "    <tr>\n",
       "      <th>48</th>\n",
       "      <td>(2014, 1)</td>\n",
       "      <td>[zuma press seeded, january 2014 dustinsiggins, january 6th, january 3rd felt, january 29, january 28th, january 27, january 25 2014, january 2017, january 2014 information]</td>\n",
       "    </tr>\n",
       "    <tr>\n",
       "      <th>23</th>\n",
       "      <td>(2014, 2)</td>\n",
       "      <td>[zurich, incur, incumbent rep, incumbent reelection aspiring, incumbent reelection, incumbent gov, incubator, incriminating, increasingly unpopular, increasingly lawless]</td>\n",
       "    </tr>\n",
       "    <tr>\n",
       "      <th>7</th>\n",
       "      <td>(2014, 3)</td>\n",
       "      <td>[liberals conservatives, military presence, comes home, military spending pentagon, military ukraine, comes future, millennial americans, comers, millennials 2014, millennials 2014 slogging]</td>\n",
       "    </tr>\n",
       "    <tr>\n",
       "      <th>36</th>\n",
       "      <td>(2014, 4)</td>\n",
       "      <td>[zuma, distaste, officer mozilla, officer executive, officer company, office told, office space, office says, disseminated, office people]</td>\n",
       "    </tr>\n",
       "    <tr>\n",
       "      <th>41</th>\n",
       "      <td>(2014, 5)</td>\n",
       "      <td>[lefties, induce, indonesian, indoctrination, individuals need, individualism, individual rights, individual members, individual market, individual liberty rule]</td>\n",
       "    </tr>\n",
       "    <tr>\n",
       "      <th>53</th>\n",
       "      <td>(2014, 6)</td>\n",
       "      <td>[zuckerberg jones, dramatic reductions, draw conclusions, draw attention, onstage, draper, oops, op ed pages, dramatically elevated, open air]</td>\n",
       "    </tr>\n",
       "    <tr>\n",
       "      <th>64</th>\n",
       "      <td>(2014, 7)</td>\n",
       "      <td>[zurich, immigration think, impact birth control, impact birth, immutable, immortal, immorality, imminently, immigration status, impact economy]</td>\n",
       "    </tr>\n",
       "    <tr>\n",
       "      <th>47</th>\n",
       "      <td>(2014, 8)</td>\n",
       "      <td>[être, obamacare obamacare proving, disappearance, obamacare passed 2010, obamacare pays, disagreeable, obamacare plan coverage, disagree brown moving, obamacare polls, obamacare premium]</td>\n",
       "    </tr>\n",
       "    <tr>\n",
       "      <th>65</th>\n",
       "      <td>(2014, 9)</td>\n",
       "      <td>[zuma, information make, influenza says, influenza, influence american, inflection, inflation rate, inflation 60 percent, inflation 60, infinite]</td>\n",
       "    </tr>\n",
       "    <tr>\n",
       "      <th>13</th>\n",
       "      <td>(2014, 10)</td>\n",
       "      <td>[zucker, lots different, lot information, budged, lot lot, lot moderates, buddy holly, lot oh, lot oh yeah, lot places]</td>\n",
       "    </tr>\n",
       "    <tr>\n",
       "      <th>28</th>\n",
       "      <td>(2014, 11)</td>\n",
       "      <td>[liars current political, domestic product, don choose, don change, old african, old african american, old blind, old boy, old college, don believe government]</td>\n",
       "    </tr>\n",
       "    <tr>\n",
       "      <th>38</th>\n",
       "      <td>(2014, 12)</td>\n",
       "      <td>[zywicki, image cellphone text, imitating, imf, imbued, imbibe, imax, iman shumpert, iman, imagine going forward]</td>\n",
       "    </tr>\n",
       "    <tr>\n",
       "      <th>33</th>\n",
       "      <td>(2015, 1)</td>\n",
       "      <td>[zones europe, lang, lanhee, languish, language said, language help, language barriers, langevin, lanes, lankford]</td>\n",
       "    </tr>\n",
       "    <tr>\n",
       "      <th>30</th>\n",
       "      <td>(2015, 2)</td>\n",
       "      <td>[zurich, income residents, income verification, income uninsured, income threshold, income taxpayers, income tax rates, income state, income qualify, increase vaccination rates]</td>\n",
       "    </tr>\n",
       "    <tr>\n",
       "      <th>17</th>\n",
       "      <td>(2015, 3)</td>\n",
       "      <td>[zwick, matthews, matter severe, matter severe decline, matter times, matter weight, matter weight bodies, clinical social worker, clinical social, matters america]</td>\n",
       "    </tr>\n",
       "    <tr>\n",
       "      <th>61</th>\n",
       "      <td>(2015, 4)</td>\n",
       "      <td>[zuckerberg, including washington post, income towns, income transfer, income wealth inequality, income whichever larger, income year, incompetence, inconsistent accounting, inconsistent accounting lack]</td>\n",
       "    </tr>\n",
       "    <tr>\n",
       "      <th>66</th>\n",
       "      <td>(2015, 5)</td>\n",
       "      <td>[best deal, kaufax applauded measure, kazakhstan, kayaks, kay, kavanaugh, kaufax wrote, kaufax said, kaufax applauded, keepers]</td>\n",
       "    </tr>\n",
       "    <tr>\n",
       "      <th>39</th>\n",
       "      <td>(2015, 6)</td>\n",
       "      <td>[zug island homeland, improve transparency, impugn, improving access, improves quality, improvement care, improved quality life, improved quality, improved access, improve relations]</td>\n",
       "    </tr>\n",
       "    <tr>\n",
       "      <th>57</th>\n",
       "      <td>(2015, 7)</td>\n",
       "      <td>[zuma press, identification male kept, ideology forced, identity politics, identify person, identify liberals, identified liberals, identified conservatives, identification male, idiot]</td>\n",
       "    </tr>\n",
       "    <tr>\n",
       "      <th>60</th>\n",
       "      <td>(2015, 8)</td>\n",
       "      <td>[zoo officials say, kids constant danger, kids just, kids table, kids table debate, kikuchi, kill obamacare, killed 000, killed incident, killed injured]</td>\n",
       "    </tr>\n",
       "    <tr>\n",
       "      <th>42</th>\n",
       "      <td>(2015, 9)</td>\n",
       "      <td>[leblond doro, military personnel, medicare medicaid social, medicare medicare, medicare medicare advantage, medicare money, clapper said confident, medicare negotiate companies, medicare negotiate lower, medicare patients]</td>\n",
       "    </tr>\n",
       "    <tr>\n",
       "      <th>18</th>\n",
       "      <td>(2015, 10)</td>\n",
       "      <td>[žižek, impact latinos, important role play, important topics, important ways, importing, impossibility, impossible know, impossible task, impossible write]</td>\n",
       "    </tr>\n",
       "    <tr>\n",
       "      <th>0</th>\n",
       "      <td>(2015, 11)</td>\n",
       "      <td>[life federation, democratic control, democratic candidates debate, notify employees, notify government, democratic candidate governor, noting pill, noting pill bottles, democratic base, notion common]</td>\n",
       "    </tr>\n",
       "    <tr>\n",
       "      <th>69</th>\n",
       "      <td>(2015, 12)</td>\n",
       "      <td>[zuckerberg initiative, number patients, number concessions, number concessions including, number days, desean, number democrats independent, number high, number illegal, number items]</td>\n",
       "    </tr>\n",
       "    <tr>\n",
       "      <th>37</th>\n",
       "      <td>(2016, 1)</td>\n",
       "      <td>[zuma press, house reconvenes, house leadership, house lower, house november, house obamacare, house obamacare repeal, house passage clamping, house passage repeal, house passed legislation]</td>\n",
       "    </tr>\n",
       "    <tr>\n",
       "      <th>56</th>\n",
       "      <td>(2016, 2)</td>\n",
       "      <td>[zurich, important state, importance young, importance young women, important campaign, important country, important discussion, important issues, important just, important note]</td>\n",
       "    </tr>\n",
       "    <tr>\n",
       "      <th>74</th>\n",
       "      <td>(2016, 3)</td>\n",
       "      <td>[zubik case, illinois florida, idolize, ig, ig report, ignoble, ignoring fact, igor bobic, ilk, illegal drug]</td>\n",
       "    </tr>\n",
       "    <tr>\n",
       "      <th>15</th>\n",
       "      <td>(2016, 4)</td>\n",
       "      <td>[leaving country, coffee shop, mismanagement, misogynistic, miss upcoming pulse, collections, missed glenn, missed glenn thrush, missed opportunities, missed playoffs]</td>\n",
       "    </tr>\n",
       "  </tbody>\n",
       "</table>\n",
       "</div>"
      ],
      "text/plain": [
       "         scope  \\\n",
       "44   (2013, 9)   \n",
       "24  (2013, 10)   \n",
       "10  (2013, 11)   \n",
       "25  (2013, 12)   \n",
       "48   (2014, 1)   \n",
       "23   (2014, 2)   \n",
       "7    (2014, 3)   \n",
       "36   (2014, 4)   \n",
       "41   (2014, 5)   \n",
       "53   (2014, 6)   \n",
       "64   (2014, 7)   \n",
       "47   (2014, 8)   \n",
       "65   (2014, 9)   \n",
       "13  (2014, 10)   \n",
       "28  (2014, 11)   \n",
       "38  (2014, 12)   \n",
       "33   (2015, 1)   \n",
       "30   (2015, 2)   \n",
       "17   (2015, 3)   \n",
       "61   (2015, 4)   \n",
       "66   (2015, 5)   \n",
       "39   (2015, 6)   \n",
       "57   (2015, 7)   \n",
       "60   (2015, 8)   \n",
       "42   (2015, 9)   \n",
       "18  (2015, 10)   \n",
       "0   (2015, 11)   \n",
       "69  (2015, 12)   \n",
       "37   (2016, 1)   \n",
       "56   (2016, 2)   \n",
       "74   (2016, 3)   \n",
       "15   (2016, 4)   \n",
       "\n",
       "                                                                                                                                                                                                                        tfidf_top10  \n",
       "44                                                                                       [legal counsel, happened government, paints picture, changes healthcare, pair new, paired, handout, pairs, handling use, pakistan history]  \n",
       "24                                                      [preventing pregnancy, obamacare politics, obamacare patient, obamacare pays, doesn far, obamacare percent, obamacare perfect, obamacare phone, doesn explain, doesn exist]  \n",
       "10                               [zuckerberg spent 25, including community, including american, including 10, includes broad, includes abortion, included targets, included public option, included public, included joe lieberman]  \n",
       "25                                                                               [legislators country, middle class poor, mikhail, milbank, common ground, mile away, common core state, miles away, miles day, miles headquarters]  \n",
       "48                                                    [zuma press seeded, january 2014 dustinsiggins, january 6th, january 3rd felt, january 29, january 28th, january 27, january 25 2014, january 2017, january 2014 information]  \n",
       "23                                                       [zurich, incur, incumbent rep, incumbent reelection aspiring, incumbent reelection, incumbent gov, incubator, incriminating, increasingly unpopular, increasingly lawless]  \n",
       "7                                    [liberals conservatives, military presence, comes home, military spending pentagon, military ukraine, comes future, millennial americans, comers, millennials 2014, millennials 2014 slogging]  \n",
       "36                                                                                       [zuma, distaste, officer mozilla, officer executive, officer company, office told, office space, office says, disseminated, office people]  \n",
       "41                                                                [lefties, induce, indonesian, indoctrination, individuals need, individualism, individual rights, individual members, individual market, individual liberty rule]  \n",
       "53                                                                                   [zuckerberg jones, dramatic reductions, draw conclusions, draw attention, onstage, draper, oops, op ed pages, dramatically elevated, open air]  \n",
       "64                                                                                 [zurich, immigration think, impact birth control, impact birth, immutable, immortal, immorality, imminently, immigration status, impact economy]  \n",
       "47                                      [être, obamacare obamacare proving, disappearance, obamacare passed 2010, obamacare pays, disagreeable, obamacare plan coverage, disagree brown moving, obamacare polls, obamacare premium]  \n",
       "65                                                                                [zuma, information make, influenza says, influenza, influence american, inflection, inflation rate, inflation 60 percent, inflation 60, infinite]  \n",
       "13                                                                                                          [zucker, lots different, lot information, budged, lot lot, lot moderates, buddy holly, lot oh, lot oh yeah, lot places]  \n",
       "28                                                                  [liars current political, domestic product, don choose, don change, old african, old african american, old blind, old boy, old college, don believe government]  \n",
       "38                                                                                                                [zywicki, image cellphone text, imitating, imf, imbued, imbibe, imax, iman shumpert, iman, imagine going forward]  \n",
       "33                                                                                                               [zones europe, lang, lanhee, languish, language said, language help, language barriers, langevin, lanes, lankford]  \n",
       "30                                                [zurich, income residents, income verification, income uninsured, income threshold, income taxpayers, income tax rates, income state, income qualify, increase vaccination rates]  \n",
       "17                                                             [zwick, matthews, matter severe, matter severe decline, matter times, matter weight, matter weight bodies, clinical social worker, clinical social, matters america]  \n",
       "61                      [zuckerberg, including washington post, income towns, income transfer, income wealth inequality, income whichever larger, income year, incompetence, inconsistent accounting, inconsistent accounting lack]  \n",
       "66                                                                                                  [best deal, kaufax applauded measure, kazakhstan, kayaks, kay, kavanaugh, kaufax wrote, kaufax said, kaufax applauded, keepers]  \n",
       "39                                           [zug island homeland, improve transparency, impugn, improving access, improves quality, improvement care, improved quality life, improved quality, improved access, improve relations]  \n",
       "57                                        [zuma press, identification male kept, ideology forced, identity politics, identify person, identify liberals, identified liberals, identified conservatives, identification male, idiot]  \n",
       "60                                                                        [zoo officials say, kids constant danger, kids just, kids table, kids table debate, kikuchi, kill obamacare, killed 000, killed incident, killed injured]  \n",
       "42  [leblond doro, military personnel, medicare medicaid social, medicare medicare, medicare medicare advantage, medicare money, clapper said confident, medicare negotiate companies, medicare negotiate lower, medicare patients]  \n",
       "18                                                                     [žižek, impact latinos, important role play, important topics, important ways, importing, impossibility, impossible know, impossible task, impossible write]  \n",
       "0                         [life federation, democratic control, democratic candidates debate, notify employees, notify government, democratic candidate governor, noting pill, noting pill bottles, democratic base, notion common]  \n",
       "69                                         [zuckerberg initiative, number patients, number concessions, number concessions including, number days, desean, number democrats independent, number high, number illegal, number items]  \n",
       "37                                   [zuma press, house reconvenes, house leadership, house lower, house november, house obamacare, house obamacare repeal, house passage clamping, house passage repeal, house passed legislation]  \n",
       "56                                               [zurich, important state, importance young, importance young women, important campaign, important country, important discussion, important issues, important just, important note]  \n",
       "74                                                                                                                    [zubik case, illinois florida, idolize, ig, ig report, ignoble, ignoring fact, igor bobic, ilk, illegal drug]  \n",
       "15                                                          [leaving country, coffee shop, mismanagement, misogynistic, miss upcoming pulse, collections, missed glenn, missed glenn thrush, missed opportunities, missed playoffs]  "
      ]
     },
     "execution_count": 306,
     "metadata": {},
     "output_type": "execute_result"
    }
   ],
   "source": [
    "df_of_scopes_dates[[\"scope\",\"tfidf_top10\"]].sort_values(by=\"scope\")"
   ]
  },
  {
   "cell_type": "code",
   "execution_count": 312,
   "metadata": {
    "collapsed": false
   },
   "outputs": [],
   "source": [
    "url = get_google_search_url(scope_date = (2014,7), search_token=\"zurich\")"
   ]
  },
  {
   "cell_type": "code",
   "execution_count": 320,
   "metadata": {
    "collapsed": false
   },
   "outputs": [],
   "source": [
    "x = 5\n",
    "print x"
   ]
  },
  {
   "cell_type": "code",
   "execution_count": 323,
   "metadata": {
    "collapsed": false
   },
   "outputs": [
    {
     "data": {
      "text/plain": [
       "u'What does Obamacare mean for expats? | US Tax & Financial Services'"
      ]
     },
     "execution_count": 323,
     "metadata": {},
     "output_type": "execute_result"
    }
   ],
   "source": [
    "dict_of_google_tag_searches[url][0][0]"
   ]
  },
  {
   "cell_type": "code",
   "execution_count": 322,
   "metadata": {
    "collapsed": false
   },
   "outputs": [
    {
     "data": {
      "text/plain": [
       "[u'What does Obamacare mean for expats? | US Tax & Financial Services',\n",
       " u'ObamaCare News: Daily ObamaCare Updates - ObamaCare Facts',\n",
       " u'ObamaCare 2015 - Obamacare Facts',\n",
       " u'What we learned about Obamacare July 8-14, 2014 - AEI',\n",
       " u'Effects of a Minimum-Wage Increase on Employment and Family Income',\n",
       " u'News Article Archive from July 22, 2014 - Wsj.com - Wall Street Journal',\n",
       " u'Binary options no deposit bonus september 2013 dailymotion',\n",
       " u'News Update 224 (Sept. 2014) - American Citizens Abroad',\n",
       " u'Swiss consumer prices fall most since 1959 in July - timesofindia ...',\n",
       " u'Obamacare Insurance Cost Calculator | Auto Insurance Quotes ...']"
      ]
     },
     "execution_count": 322,
     "metadata": {},
     "output_type": "execute_result"
    }
   ],
   "source": [
    "dict_of_google_tag_searches[url][0][0]"
   ]
  },
  {
   "cell_type": "code",
   "execution_count": 334,
   "metadata": {
    "collapsed": false
   },
   "outputs": [],
   "source": [
    "my_strings = google_news_df_top_pubs_good_dates[[\"text\"]][google_news_df_top_pubs_good_dates[\"date_cat\"]==(2014,7)]"
   ]
  },
  {
   "cell_type": "code",
   "execution_count": 335,
   "metadata": {
    "collapsed": false
   },
   "outputs": [
    {
     "data": {
      "text/plain": [
       "1171"
      ]
     },
     "execution_count": 335,
     "metadata": {},
     "output_type": "execute_result"
    }
   ],
   "source": [
    "len(my_strings)"
   ]
  },
  {
   "cell_type": "code",
   "execution_count": 255,
   "metadata": {
    "collapsed": false
   },
   "outputs": [
    {
     "data": {
      "text/html": [
       "<div>\n",
       "<table border=\"1\" class=\"dataframe\">\n",
       "  <thead>\n",
       "    <tr style=\"text-align: right;\">\n",
       "      <th></th>\n",
       "      <th>scope</th>\n",
       "      <th>scope_type</th>\n",
       "      <th>tfidf_top10</th>\n",
       "      <th>top1</th>\n",
       "      <th>top2</th>\n",
       "      <th>top3</th>\n",
       "      <th>top4</th>\n",
       "      <th>top5</th>\n",
       "      <th>google_titles_for_top1</th>\n",
       "      <th>google_summeries_for_top1</th>\n",
       "      <th>google_titles_for_top2</th>\n",
       "      <th>google_summeries_for_top2</th>\n",
       "      <th>google_titles_for_top3</th>\n",
       "      <th>google_summeries_for_top3</th>\n",
       "      <th>google_titles_for_top4</th>\n",
       "      <th>google_summeries_for_top4</th>\n",
       "      <th>google_titles_for_top5</th>\n",
       "      <th>google_summeries_for_top5</th>\n",
       "    </tr>\n",
       "  </thead>\n",
       "  <tbody>\n",
       "    <tr>\n",
       "      <th>64</th>\n",
       "      <td>(2014, 7)</td>\n",
       "      <td>date</td>\n",
       "      <td>[zurich, immigration think, impact birth control, impact birth, immutable, immortal, immorality, imminently, immigration status, impact economy]</td>\n",
       "      <td>zurich</td>\n",
       "      <td>immigration think</td>\n",
       "      <td>impact birth control</td>\n",
       "      <td>impact birth</td>\n",
       "      <td>immutable</td>\n",
       "      <td>[What does Obamacare mean for expats? | US Tax &amp; Financial Services, ObamaCare News: Daily ObamaCare Updates - ObamaCare Facts, ObamaCare 2015 - Obamacare Facts, What we learned about Obamacare July 8-14, 2014 - AEI, Effects of a Minimum-Wage Increase on Employment and Family Income, News Article Archive from July 22, 2014 - Wsj.com - Wall Street Journal, Binary options no deposit bonus septem...</td>\n",
       "      <td>[[Update: , &lt;em&gt;Obamacare&lt;/em&gt;,  penalty tax may apply to expats · , &lt;em&gt;Obamacare&lt;/em&gt;,  and You. Tags, &lt;wbr&gt;: Affordable Care Act, expats, Healthcare Reform, &lt;em&gt;obamacare&lt;/em&gt;.&lt;/wbr&gt;], [Update: , &lt;em&gt;Obamacare&lt;/em&gt;,  penalty tax may apply to expats · , &lt;em&gt;Obamacare&lt;/em&gt;,  and You. Tags, &lt;wbr&gt;: Affordable Care Act, expats, Healthcare Reform, &lt;em&gt;obamacare&lt;/em&gt;.&lt;/wbr&gt;], [Update: , &lt;em&gt;Obamac...</td>\n",
       "      <td>[Kaiser Health Tracking Poll: July 2014 | The Henry J. Kaiser Family ..., 10 things immigrant families need to know about the Marketplace ..., Thousands of Illegal Immigrants Enrolled in Obamacare - Newsmax.com, ObamaCare News: Daily ObamaCare Updates - ObamaCare Facts, Patient Protection and Affordable Care Act - Wikipedia, the free ..., Immigrant Families Benefit Significantly from Obamacare...</td>\n",
       "      <td>[[Kaiser Health Tracking Poll: , &lt;em&gt;July 2014&lt;/em&gt;,  ... to other issues like the economy and jobs, the federal budget deficit, education, and , &lt;em&gt;immigration&lt;/em&gt;, . .... Nearly six in ten Americans (58 percent) , &lt;em&gt;believe&lt;/em&gt;,  it is “very” or “somewhat” likely that ...], [Kaiser Health Tracking Poll: , &lt;em&gt;July 2014&lt;/em&gt;,  ... to other issues like the economy and jobs, the federal bu...</td>\n",
       "      <td>[ObamaCare Birth Control - Obamacare Facts, Birth Control Is Free Under Obamacare, But Not Everyone Got The ..., ObamaCare making free birth control standard for women | Fox News, The Affordable Care Act and cost of contraception - Journalist's ..., In Her Words: Obamacare's Negative Impact on Women - Senate ..., Contraceptive mandate (United States) - Wikipedia, the free ..., Patient Protecti...</td>\n",
       "      <td>[[ covers one type of , &lt;em&gt;birth control&lt;/em&gt;,  from each of 18 FDA approved ... women on the pill were projected to be paying $0 for it in , &lt;em&gt;2014&lt;/em&gt;,  (up from only 15% in 2012). ... As of , &lt;em&gt;July&lt;/em&gt;,  2015 all plans, except for the following, must provide at least one ... since , &lt;em&gt;ObamaCare's&lt;/em&gt;,  requirement to provide free , &lt;em&gt;contraception&lt;/em&gt;,  took , &lt;em&gt;effect&lt;/em&gt;,...</td>\n",
       "      <td>[Birth Control Is Free Under Obamacare, But Not Everyone Got The ..., ObamaCare Birth Control - Obamacare Facts, ObamaCare making free birth control standard for women | Fox News, In Her Words: Obamacare's Negative Impact on Women - Senate ..., The Affordable Care Act and cost of contraception - Journalist's ..., Happy Birthday, Obamacare: 5 Years Later, Fact ... - The Daily Signal, Birth cont...</td>\n",
       "      <td>[[&lt;em&gt;Obamacare's&lt;/em&gt;,  biggest selling points for women is the guarantee of no-cost , &lt;em&gt;birth&lt;/em&gt;,  control, ... 09/26/, &lt;em&gt;2014&lt;/em&gt;,  04:34 pm ET | Updated Sep 29, , &lt;em&gt;2014&lt;/em&gt;,  ... how it's supposed to work, the , &lt;em&gt;Obamacare birth&lt;/em&gt;,  control mandate has had a huge , &lt;em&gt;impact&lt;/em&gt;, : Many, ... In a survey conducted this , &lt;em&gt;July&lt;/em&gt;, , 60 percent of people said they sup...</td>\n",
       "      <td>[What we learned about Obamacare July 8-14, 2014 - AEI, ObamaCare News: Daily ObamaCare Updates - ObamaCare Facts, A death blow for Obamacare? - The Boston Globe, King Barack Rewrites Obamacare… Again | The American Spectator, U.S. GAO - Patient Protection and Affordable Care Act: Preliminary ..., First wave of Obamacare destroys single practice doctors - Page 5 ..., Health Care BS - OBAMACARE...</td>\n",
       "      <td>[[What we learned about , &lt;em&gt;Obamacare July 8&lt;/em&gt;, -, &lt;em&gt;14, 2014&lt;/em&gt;, . View related content: Health Care. Image Credit: https://twitter.com/OFA. 1.) AEI's Joseph ...], [What we learned about , &lt;em&gt;Obamacare July 8&lt;/em&gt;, -, &lt;em&gt;14, 2014&lt;/em&gt;, . View related content: Health Care. Image Credit: https://twitter.com/OFA. 1.) AEI's Joseph ...], [What we learned about , &lt;em&gt;Obamacare July 8&lt;/em...</td>\n",
       "    </tr>\n",
       "  </tbody>\n",
       "</table>\n",
       "</div>"
      ],
      "text/plain": [
       "        scope scope_type  \\\n",
       "64  (2014, 7)       date   \n",
       "\n",
       "                                                                                                                                         tfidf_top10  \\\n",
       "64  [zurich, immigration think, impact birth control, impact birth, immutable, immortal, immorality, imminently, immigration status, impact economy]   \n",
       "\n",
       "      top1               top2                  top3          top4       top5  \\\n",
       "64  zurich  immigration think  impact birth control  impact birth  immutable   \n",
       "\n",
       "                                                                                                                                                                                                                                                                                                                                                                                             google_titles_for_top1  \\\n",
       "64  [What does Obamacare mean for expats? | US Tax & Financial Services, ObamaCare News: Daily ObamaCare Updates - ObamaCare Facts, ObamaCare 2015 - Obamacare Facts, What we learned about Obamacare July 8-14, 2014 - AEI, Effects of a Minimum-Wage Increase on Employment and Family Income, News Article Archive from July 22, 2014 - Wsj.com - Wall Street Journal, Binary options no deposit bonus septem...   \n",
       "\n",
       "                                                                                                                                                                                                                                                                                                                                                                                          google_summeries_for_top1  \\\n",
       "64  [[Update: , <em>Obamacare</em>,  penalty tax may apply to expats · , <em>Obamacare</em>,  and You. Tags, <wbr>: Affordable Care Act, expats, Healthcare Reform, <em>obamacare</em>.</wbr>], [Update: , <em>Obamacare</em>,  penalty tax may apply to expats · , <em>Obamacare</em>,  and You. Tags, <wbr>: Affordable Care Act, expats, Healthcare Reform, <em>obamacare</em>.</wbr>], [Update: , <em>Obamac...   \n",
       "\n",
       "                                                                                                                                                                                                                                                                                                                                                                                             google_titles_for_top2  \\\n",
       "64  [Kaiser Health Tracking Poll: July 2014 | The Henry J. Kaiser Family ..., 10 things immigrant families need to know about the Marketplace ..., Thousands of Illegal Immigrants Enrolled in Obamacare - Newsmax.com, ObamaCare News: Daily ObamaCare Updates - ObamaCare Facts, Patient Protection and Affordable Care Act - Wikipedia, the free ..., Immigrant Families Benefit Significantly from Obamacare...   \n",
       "\n",
       "                                                                                                                                                                                                                                                                                                                                                                                          google_summeries_for_top2  \\\n",
       "64  [[Kaiser Health Tracking Poll: , <em>July 2014</em>,  ... to other issues like the economy and jobs, the federal budget deficit, education, and , <em>immigration</em>, . .... Nearly six in ten Americans (58 percent) , <em>believe</em>,  it is “very” or “somewhat” likely that ...], [Kaiser Health Tracking Poll: , <em>July 2014</em>,  ... to other issues like the economy and jobs, the federal bu...   \n",
       "\n",
       "                                                                                                                                                                                                                                                                                                                                                                                             google_titles_for_top3  \\\n",
       "64  [ObamaCare Birth Control - Obamacare Facts, Birth Control Is Free Under Obamacare, But Not Everyone Got The ..., ObamaCare making free birth control standard for women | Fox News, The Affordable Care Act and cost of contraception - Journalist's ..., In Her Words: Obamacare's Negative Impact on Women - Senate ..., Contraceptive mandate (United States) - Wikipedia, the free ..., Patient Protecti...   \n",
       "\n",
       "                                                                                                                                                                                                                                                                                                                                                                                          google_summeries_for_top3  \\\n",
       "64  [[ covers one type of , <em>birth control</em>,  from each of 18 FDA approved ... women on the pill were projected to be paying $0 for it in , <em>2014</em>,  (up from only 15% in 2012). ... As of , <em>July</em>,  2015 all plans, except for the following, must provide at least one ... since , <em>ObamaCare's</em>,  requirement to provide free , <em>contraception</em>,  took , <em>effect</em>,...   \n",
       "\n",
       "                                                                                                                                                                                                                                                                                                                                                                                             google_titles_for_top4  \\\n",
       "64  [Birth Control Is Free Under Obamacare, But Not Everyone Got The ..., ObamaCare Birth Control - Obamacare Facts, ObamaCare making free birth control standard for women | Fox News, In Her Words: Obamacare's Negative Impact on Women - Senate ..., The Affordable Care Act and cost of contraception - Journalist's ..., Happy Birthday, Obamacare: 5 Years Later, Fact ... - The Daily Signal, Birth cont...   \n",
       "\n",
       "                                                                                                                                                                                                                                                                                                                                                                                          google_summeries_for_top4  \\\n",
       "64  [[<em>Obamacare's</em>,  biggest selling points for women is the guarantee of no-cost , <em>birth</em>,  control, ... 09/26/, <em>2014</em>,  04:34 pm ET | Updated Sep 29, , <em>2014</em>,  ... how it's supposed to work, the , <em>Obamacare birth</em>,  control mandate has had a huge , <em>impact</em>, : Many, ... In a survey conducted this , <em>July</em>, , 60 percent of people said they sup...   \n",
       "\n",
       "                                                                                                                                                                                                                                                                                                                                                                                             google_titles_for_top5  \\\n",
       "64  [What we learned about Obamacare July 8-14, 2014 - AEI, ObamaCare News: Daily ObamaCare Updates - ObamaCare Facts, A death blow for Obamacare? - The Boston Globe, King Barack Rewrites Obamacare… Again | The American Spectator, U.S. GAO - Patient Protection and Affordable Care Act: Preliminary ..., First wave of Obamacare destroys single practice doctors - Page 5 ..., Health Care BS - OBAMACARE...   \n",
       "\n",
       "                                                                                                                                                                                                                                                                                                                                                                                          google_summeries_for_top5  \n",
       "64  [[What we learned about , <em>Obamacare July 8</em>, -, <em>14, 2014</em>, . View related content: Health Care. Image Credit: https://twitter.com/OFA. 1.) AEI's Joseph ...], [What we learned about , <em>Obamacare July 8</em>, -, <em>14, 2014</em>, . View related content: Health Care. Image Credit: https://twitter.com/OFA. 1.) AEI's Joseph ...], [What we learned about , <em>Obamacare July 8</em...  "
      ]
     },
     "execution_count": 255,
     "metadata": {},
     "output_type": "execute_result"
    }
   ],
   "source": [
    "\n",
    "df_of_scopes_dates[df_of_scopes_dates[\"scope\"]== (2014, 7)]"
   ]
  },
  {
   "cell_type": "code",
   "execution_count": 256,
   "metadata": {
    "collapsed": false
   },
   "outputs": [],
   "source": [
    "#df_of_scopes_dates[df_of_scopes_dates[\"scope\"]== (2016, 3)]"
   ]
  },
  {
   "cell_type": "code",
   "execution_count": 257,
   "metadata": {
    "collapsed": false
   },
   "outputs": [
    {
     "data": {
      "text/plain": [
       "(1171, 5)"
      ]
     },
     "execution_count": 257,
     "metadata": {},
     "output_type": "execute_result"
    }
   ],
   "source": [
    "google_news_df_top_pubs_good_dates[google_news_df_top_pubs_good_dates[\"date_cat\"]==(2014, 7)].shape"
   ]
  },
  {
   "cell_type": "code",
   "execution_count": 271,
   "metadata": {
    "collapsed": false
   },
   "outputs": [],
   "source": [
    "a = google_news_df_top_pubs_good_dates[google_news_df_top_pubs_good_dates[\"date_cat\"]==(2014, 7)]\n",
    "a[a[\"publisher\"]== \"npr\"]"
   ]
  },
  {
   "cell_type": "code",
   "execution_count": 360,
   "metadata": {
    "collapsed": false
   },
   "outputs": [
    {
     "data": {
      "text/html": [
       "<div>\n",
       "<table border=\"1\" class=\"dataframe\">\n",
       "  <thead>\n",
       "    <tr style=\"text-align: right;\">\n",
       "      <th></th>\n",
       "      <th>publisher</th>\n",
       "      <th>text</th>\n",
       "      <th>url</th>\n",
       "      <th>count</th>\n",
       "      <th>date_cat</th>\n",
       "    </tr>\n",
       "  </thead>\n",
       "  <tbody>\n",
       "    <tr>\n",
       "      <th>7978</th>\n",
       "      <td>theatlantic</td>\n",
       "      <td>Please consider disabling it for our site, or supporting our work in one of these ways\\n\\nWhy providing women more options to control pregnancies is in the interest of everyone\\n\\nIn a hotly contested decision this week, the Supreme Court ruled that for-profit employers can opt out of providing certain types of contraception coverage on religious grounds. Ostensibly, the holding is narrow: Onl...</td>\n",
       "      <td>http://www.theatlantic.com/health/archive/2014/07/the-broader-benefits-of-contraception/373856/</td>\n",
       "      <td>1</td>\n",
       "      <td>(2014, 7)</td>\n",
       "    </tr>\n",
       "    <tr>\n",
       "      <th>10504</th>\n",
       "      <td>theatlantic</td>\n",
       "      <td>1. We can thank former President Bill Clinton for perfect clarity in his comments about the chaos and horror of Gaza. In an interview on Indian television, Clinton—who told us in his memoir that Palestinian self-destructiveness (in the form of Yasir Arafat’s various delusions and prevarications) undid his effort to bring about a two-state solution to the Middle East conflict—blames the Muslim ...</td>\n",
       "      <td>http://www.theatlantic.com/international/archive/2014/07/understanding-what-hamas-wants/374656/</td>\n",
       "      <td>1</td>\n",
       "      <td>(2014, 7)</td>\n",
       "    </tr>\n",
       "    <tr>\n",
       "      <th>11034</th>\n",
       "      <td>theatlantic</td>\n",
       "      <td>Despite the news last week that America's healthcare spending will not be rising at the sky-high rate that was once predicted, the fact remains that the U.S. far outspends its peer nations when it comes to healthcare costs per capita. This year the United States will spend almost 18 percent of the gross domestic product (GDP) on healthcare—six percentage points more than the Netherlands, the n...</td>\n",
       "      <td>http://www.theatlantic.com/business/archive/2014/07/why-do-other-rich-nations-spend-so-much-less-on-healthcare/374576/</td>\n",
       "      <td>1</td>\n",
       "      <td>(2014, 7)</td>\n",
       "    </tr>\n",
       "    <tr>\n",
       "      <th>27354</th>\n",
       "      <td>theatlantic</td>\n",
       "      <td>Let us know what we missed.\\n\\nJustin Bieber: A Case Study in Growing Up Cosseted and Feral\\n\\nVanessa Grigoriadis | Vulture\\n\\n\"He sees himself as Brando, McQueen, Dean. We may see something different—a costume of machismo; a slip of a boy buffed up and doffing his shirt like a South Bronx stoopie in August; a white person fetishizing blackness with the laserlike focus of someone for whom 'be...</td>\n",
       "      <td>http://www.theatlantic.com/entertainment/archive/2014/07/pop-writing-july-1-2014/373758/</td>\n",
       "      <td>1</td>\n",
       "      <td>(2014, 7)</td>\n",
       "    </tr>\n",
       "    <tr>\n",
       "      <th>27405</th>\n",
       "      <td>theatlantic</td>\n",
       "      <td>Researchers from the University of California San Diego and Brown University surveyed parents of first-time patients at a pediatric obesity clinic, assessing the families’ willingness to help their children lose weight. The patients, who ranged in age from 5 to 20, had all been classified as overweight or clinically obese, and most had been referred to the clinic for treatment by their regular...</td>\n",
       "      <td>http://www.theatlantic.com/health/archive/2014/07/study-many-parents-are-in-denial-about-their-kids-obesity/375023/</td>\n",
       "      <td>1</td>\n",
       "      <td>(2014, 7)</td>\n",
       "    </tr>\n",
       "    <tr>\n",
       "      <th>37094</th>\n",
       "      <td>theatlantic</td>\n",
       "      <td>Louis C.K.'s regular-guy shtick permeates everything about his image: the plain black T-shirts, the self-deprecating humor, his Twitter bio (\"I am a comedian and a person and a guy who is sitting here\"), even his mass-emailing strategy. Louie—and it feels right to call him \"Louie\" precisely because of this guy-who-is-sitting-here image he's so expertly cultivated—is, of course, not an ordinary...</td>\n",
       "      <td>http://www.theatlantic.com/technology/archive/2014/07/the-brilliance-of-louis-cks-emails-he-writes-like-a-politician/374034/</td>\n",
       "      <td>1</td>\n",
       "      <td>(2014, 7)</td>\n",
       "    </tr>\n",
       "    <tr>\n",
       "      <th>44174</th>\n",
       "      <td>theatlantic</td>\n",
       "      <td>The future of marriage, the future of Millennials: two topics the Internet loves to freak out about. Thanks to a new report from Pew, here the twain shall meet: Researchers asked people of all ages whether society is better off if people focus on getting married and having kids.\\n\\nAmerican Attitudes Toward Marriage and Kids\\n\\nLooking at this chart is a little like taking a Rorschach inkblot ...</td>\n",
       "      <td>http://www.theatlantic.com/national/archive/2014/07/millennials-society-will-be-just-fine-without-marriage/374060/</td>\n",
       "      <td>1</td>\n",
       "      <td>(2014, 7)</td>\n",
       "    </tr>\n",
       "    <tr>\n",
       "      <th>53009</th>\n",
       "      <td>theatlantic</td>\n",
       "      <td>It is too surreal. I still feel like it was just yesterday when I picked up the report on the achievement gap in college. When we originally started working on PMP, we were thinking of national expansion—almost too early. We quickly learned how difficult it is to do our work and are still working to set reasonable expectations of growth. This summer we made changes to our business model. Now w...</td>\n",
       "      <td>http://www.theatlantic.com/education/archive/2014/07/meet-the-22-year-old-who-is-fixing-the-summer-achievement-gap/375024/</td>\n",
       "      <td>1</td>\n",
       "      <td>(2014, 7)</td>\n",
       "    </tr>\n",
       "    <tr>\n",
       "      <th>56869</th>\n",
       "      <td>theatlantic</td>\n",
       "      <td>Please consider disabling it for our site, or supporting our work in one of these ways\\n\\nBefore Twitter existed, before Facebook allowed more than college students to join its network, two brothers made new media that went viral.\\n\\nTen years ago today, a small Flash animation firm based in Los Angeles uploaded a video to its website. The three-minute cartoon parodied the year’s presidential ...</td>\n",
       "      <td>http://www.theatlantic.com/technology/archive/2014/07/jibjabs-seminal-flash-parody-turns-10/374161/</td>\n",
       "      <td>1</td>\n",
       "      <td>(2014, 7)</td>\n",
       "    </tr>\n",
       "    <tr>\n",
       "      <th>60087</th>\n",
       "      <td>theatlantic</td>\n",
       "      <td>Please consider disabling it for our site, or supporting our work in one of these ways\\n\\nWhen Team Snapchat announced the launch of Snapchat Stories last fall, it expanded the intimacy of the service so that users could “share your day with friends—or everyone.” More recently, though, the service is fixated on the concept of everywhere, with the addition of location-based filters and other ge...</td>\n",
       "      <td>http://www.theatlantic.com/technology/archive/2014/07/why-snapchat-cares-where-you-are/374733/</td>\n",
       "      <td>1</td>\n",
       "      <td>(2014, 7)</td>\n",
       "    </tr>\n",
       "    <tr>\n",
       "      <th>64417</th>\n",
       "      <td>theatlantic</td>\n",
       "      <td>He was confronted by supervisors and accused of mishandling classified information while assembling his FOIA request. His house was raided by the FBI and his family’s computers seized. Stripped of his job and his security clearance, Scudder said he agreed to retire last year after being told that if he refused, he risked losing much of his pension. In an interview, Scudder, 51, cast his ordeal...</td>\n",
       "      <td>http://www.theatlantic.com/politics/archive/2014/07/the-pattern-of-persecuting-dissenters-in-the-national-security-state/374051/</td>\n",
       "      <td>1</td>\n",
       "      <td>(2014, 7)</td>\n",
       "    </tr>\n",
       "    <tr>\n",
       "      <th>69116</th>\n",
       "      <td>theatlantic</td>\n",
       "      <td>I recently argued that the way the show Orange Is the New Black deals with men, and especially male prisoners, is problematic, since the vast majority of prisoners in the U.S. are men, not women, and because the show uses stereotypical gender assumptions to elicit sympathy for women prisoners in ways don't translate into an institutional critique of prison as a whole. My post became something ...</td>\n",
       "      <td>http://www.theatlantic.com/politics/archive/2014/07/its-not-a-contradiction-for-men-to-discriminate-against-other-men/374370/</td>\n",
       "      <td>1</td>\n",
       "      <td>(2014, 7)</td>\n",
       "    </tr>\n",
       "    <tr>\n",
       "      <th>73251</th>\n",
       "      <td>theatlantic</td>\n",
       "      <td>Please consider disabling it for our site, or supporting our work in one of these ways\\n\\nCHATTANOOGA, Tenn.—Angela Allen has two painful slipped disks in her neck, but her regular spine doctor does not accept the new insurance she bought through the federal health marketplace. “It’s been a nightmare,” said Allen, a 42-year-old office manager. The closest specialist she found who would see her...</td>\n",
       "      <td>http://www.theatlantic.com/health/archive/2014/07/when-is-health-insurance-too-affordable/373861/</td>\n",
       "      <td>1</td>\n",
       "      <td>(2014, 7)</td>\n",
       "    </tr>\n",
       "    <tr>\n",
       "      <th>82549</th>\n",
       "      <td>theatlantic</td>\n",
       "      <td>I'm presenting them with the goal of letting a worthy exponent of each side lay out his case. And I'm presenting them in full-length version on the assumption that anyone who doesn't care can skip right over, while anyone who does may want to know the detailed back-and-forth. Each of Reed's critiques is in itals, followed by Richard's responses. In the exchanges, Dan Richard directly criticize...</td>\n",
       "      <td>http://www.theatlantic.com/politics/archive/2014/07/7-ways-in-which-high-speed-rail-would-help-california-according-to-its-chairman/374408/</td>\n",
       "      <td>1</td>\n",
       "      <td>(2014, 7)</td>\n",
       "    </tr>\n",
       "    <tr>\n",
       "      <th>95176</th>\n",
       "      <td>theatlantic</td>\n",
       "      <td>ASPEN, Colo.—One major divide in international relations, as well as in other social sciences, is between those who believe in structure and those who believe in agency. Members of the first group say leaders are just representations of cultures and nations, subject to long-running political dynamics; their counterparts insist, no, individual leaders make decisions that can change the course o...</td>\n",
       "      <td>http://www.theatlantic.com/international/archive/2014/07/michael-mcfaul-what-turned-putin-against-the-us/373866/</td>\n",
       "      <td>1</td>\n",
       "      <td>(2014, 7)</td>\n",
       "    </tr>\n",
       "    <tr>\n",
       "      <th>98478</th>\n",
       "      <td>theatlantic</td>\n",
       "      <td>According to new data, Catholic marriages in the U.S. are on a steep decline. Why are fewer couples relying on religious institutions as they take their vows?\\n\\nIt’s an iconic image: the white dress, the church bells, the priest, the traditional vows repeated by an earnest, fresh-faced couple. Many elements of the archetypical American wedding echo the formality and traditions of the country’...</td>\n",
       "      <td>http://www.theatlantic.com/national/archive/2014/07/how-important-is-it-to-have-a-church-wedding/374767/</td>\n",
       "      <td>1</td>\n",
       "      <td>(2014, 7)</td>\n",
       "    </tr>\n",
       "    <tr>\n",
       "      <th>99439</th>\n",
       "      <td>theatlantic</td>\n",
       "      <td>What makes someone a \"refugee\" is actually a legal question that determines a country's obligations toward them. \"Refugees are defined in international law as those who are outside of their own countries and unwilling or unable to return because they have a well-founded fear of persecution based on their race, religion, nationality, membership in a particular social group, or political opinion...</td>\n",
       "      <td>http://www.theatlantic.com/politics/archive/2014/07/what-makes-someone-a-refugee/375216/</td>\n",
       "      <td>1</td>\n",
       "      <td>(2014, 7)</td>\n",
       "    </tr>\n",
       "    <tr>\n",
       "      <th>103129</th>\n",
       "      <td>theatlantic</td>\n",
       "      <td>Please consider disabling it for our site, or supporting our work in one of these ways\\n\\nDemocrats have introduced bills to undo the Supreme Court's ruling on religious exemptions for contraception coverage, as well as state laws that single out abortion services, but the legislation isn't expected to succeed.\\n\\nMost of the momentum in fights over birth control and abortion has been in the d...</td>\n",
       "      <td>http://www.theatlantic.com/health/archive/2014/07/the-senates-pushback-on-abortion-restrictions/374507/</td>\n",
       "      <td>1</td>\n",
       "      <td>(2014, 7)</td>\n",
       "    </tr>\n",
       "    <tr>\n",
       "      <th>103667</th>\n",
       "      <td>theatlantic</td>\n",
       "      <td>Please consider disabling it for our site, or supporting our work in one of these ways\\n\\nI only met my wife eight times, in person, before we got married. It all began on a late evening in Toronto when a woman from Los Angeles messaged me on OkCupid to say she liked my look, and that it was a shame about the distance. As I’d said to a friend earlier that day, “If she’s not already in my bed, ...</td>\n",
       "      <td>http://www.theatlantic.com/technology/archive/2014/07/love-in-the-internet-age/374328/</td>\n",
       "      <td>1</td>\n",
       "      <td>(2014, 7)</td>\n",
       "    </tr>\n",
       "    <tr>\n",
       "      <th>106779</th>\n",
       "      <td>theatlantic</td>\n",
       "      <td>ASPEN, Colo.—It is a truth universally acknowledged that a single news consumer in possession of a free minute must be in want of a cat video.\\n\\nThe whole Internet-and-cats thing—a meta-meme about the mystic makeup of the Internet itself—is one of the stickiest there is when it comes to discussions of the World Wide Web. The Internet loves its cats! The cats love their Internet! The kitty cli...</td>\n",
       "      <td>http://www.theatlantic.com/technology/archive/2014/07/please-stop-with-all-the-cat-video-talk/373762/</td>\n",
       "      <td>1</td>\n",
       "      <td>(2014, 7)</td>\n",
       "    </tr>\n",
       "    <tr>\n",
       "      <th>109718</th>\n",
       "      <td>theatlantic</td>\n",
       "      <td>Like a bad summer-pop earworm, some economic ideas get stuck in our heads for no good reason and refuse to go away.\\n\\nTake, for example, the remarkably durable myth that Obama has presided over a \"part-time economy,\" where full-time work has been devastated by his relentlessly anti-capitalist policies. The Atlantic has done our best to bust this myth, but there's no killing some summer earwor...</td>\n",
       "      <td>http://www.theatlantic.com/business/archive/2014/07/heres-what-obamas-part-time-america-really-looks-like/374356/</td>\n",
       "      <td>1</td>\n",
       "      <td>(2014, 7)</td>\n",
       "    </tr>\n",
       "    <tr>\n",
       "      <th>113068</th>\n",
       "      <td>theatlantic</td>\n",
       "      <td>* * *\\n\\nAnd here is a sample note from a reader in California, on the challenges the plan now faces:\\n\\nI am very supportive of a high speed rail network in theory; very few people I have talked to are not. Driving between Los Angeles and San Francisco is a good 8 hours, while by plane it is a 45-minute hop, plus the two hours and massive frustrations of the airport; neither option is optimal...</td>\n",
       "      <td>http://www.theatlantic.com/politics/archive/2014/07/california-high-speed-railmdashthe-critics-speak/374306/</td>\n",
       "      <td>1</td>\n",
       "      <td>(2014, 7)</td>\n",
       "    </tr>\n",
       "    <tr>\n",
       "      <th>114298</th>\n",
       "      <td>theatlantic</td>\n",
       "      <td>Two years ago this month, Hezbollah operatives murdered six people—five tourists and their bus driver—and wounded many more in a bus bombing at the airport in Burgas, Bulgaria. The incident brought global attention to the extent of the group’s operations in Europe, far afield of its traditional home base of Lebanon, where it was founded with a mission to fight Israel. But today, despite a Euro...</td>\n",
       "      <td>http://www.theatlantic.com/international/archive/2014/07/what-is-hezbollah-doing-in-europe/374973/</td>\n",
       "      <td>1</td>\n",
       "      <td>(2014, 7)</td>\n",
       "    </tr>\n",
       "    <tr>\n",
       "      <th>121911</th>\n",
       "      <td>theatlantic</td>\n",
       "      <td>A recent survey found that 65 percent of women in the U.S. had experienced street harassment, with almost a quarter of all women being approached and sexually touched on the street. That's a startling figure—all the more so because street harassment is rarely discussed as a policy issue. Social worker, activist, and writer Feminista Jones has been working to change that. In June, she tweeted a...</td>\n",
       "      <td>http://www.theatlantic.com/politics/archive/2014/07/black-women-street-harassment-even-if-you-dont-like-it-youre-supposed-to-appear-that-you-do/375175/</td>\n",
       "      <td>1</td>\n",
       "      <td>(2014, 7)</td>\n",
       "    </tr>\n",
       "    <tr>\n",
       "      <th>128068</th>\n",
       "      <td>theatlantic</td>\n",
       "      <td>1. Millennials are more liberal than the rest of the country, particularly on social issues, but they get more economically conservative when they make more money.\\n\\nThis is all very confusing. Perhaps it should be when we're using a couple thousand subjects to guess the collective opinions of 86 million people. What are we sure we know about Millennials? Two big things and one small thing.\\n...</td>\n",
       "      <td>http://www.theatlantic.com/politics/archive/2014/07/millennials-economics-voting-clueless-kids-these-days/374427/</td>\n",
       "      <td>1</td>\n",
       "      <td>(2014, 7)</td>\n",
       "    </tr>\n",
       "    <tr>\n",
       "      <th>128601</th>\n",
       "      <td>theatlantic</td>\n",
       "      <td>My husband’s body lay in the next room. People were filing in and out to say those last few words that in the end all boil down to love. There was weeping and, occasionally, laughter that night in my cottage at the edge of the woods outside Stockholm. All emotions were so heightened, as if we were completely disconnected from the rest of the world. It was a sensation that would continue for a ...</td>\n",
       "      <td>http://www.theatlantic.com/health/archive/2014/07/when-a-spouse-dies-abroad/372672/</td>\n",
       "      <td>1</td>\n",
       "      <td>(2014, 7)</td>\n",
       "    </tr>\n",
       "    <tr>\n",
       "      <th>133268</th>\n",
       "      <td>theatlantic</td>\n",
       "      <td>The unwritten contract between customer and retailer is fairly straightforward: A store will have merchandise, salespeople, and a somewhat orderly checkout process. If everyone's feeling classy, there might even be clean floors and a not-terrible scent.\\n\\nBrookfield, Wisconsin, is one of three towns in the greater Milwaukee area that might soon have a store that forgoes one of those agreed-up...</td>\n",
       "      <td>http://www.theatlantic.com/business/archive/2014/07/coming-soon-a-milwaukee-area-mattress-store-with-no-salespeople/374494/</td>\n",
       "      <td>1</td>\n",
       "      <td>(2014, 7)</td>\n",
       "    </tr>\n",
       "    <tr>\n",
       "      <th>136280</th>\n",
       "      <td>theatlantic</td>\n",
       "      <td>ASPEN, Colo.—Larry Summers does not appear to think much of sanguine predictions about America’s economic future right now.\\n\\nDuring an appearance Tuesday at the Aspen Ideas Festival, which is hosted by The Atlantic and the Aspen Institute, the former Obama and Clinton adviser and Harvard president ticked off the reasons the country is still on a shaky foundation: The recovery from the 2001 r...</td>\n",
       "      <td>http://www.theatlantic.com/business/archive/2014/07/larry-summerss-4-point-plan-for-saving-the-economy/373849/</td>\n",
       "      <td>1</td>\n",
       "      <td>(2014, 7)</td>\n",
       "    </tr>\n",
       "    <tr>\n",
       "      <th>148631</th>\n",
       "      <td>theatlantic</td>\n",
       "      <td>Please consider disabling it for our site, or supporting our work in one of these ways\\n\\nIn the controversial Burwell v. Hobby Lobby decision, the Supreme Court ruled that the crafts superstore can't be compelled to offer birth control to its employees under the Affordable Care Act. Ironically, the decision seems to have given birth to a new group of Americans: the Beyoncé voters. Fox News's ...</td>\n",
       "      <td>http://www.theatlantic.com/politics/archive/2014/07/the-myth-of-the-beyonce-voter/374297/</td>\n",
       "      <td>1</td>\n",
       "      <td>(2014, 7)</td>\n",
       "    </tr>\n",
       "  </tbody>\n",
       "</table>\n",
       "</div>"
      ],
      "text/plain": [
       "          publisher  \\\n",
       "7978    theatlantic   \n",
       "10504   theatlantic   \n",
       "11034   theatlantic   \n",
       "27354   theatlantic   \n",
       "27405   theatlantic   \n",
       "37094   theatlantic   \n",
       "44174   theatlantic   \n",
       "53009   theatlantic   \n",
       "56869   theatlantic   \n",
       "60087   theatlantic   \n",
       "64417   theatlantic   \n",
       "69116   theatlantic   \n",
       "73251   theatlantic   \n",
       "82549   theatlantic   \n",
       "95176   theatlantic   \n",
       "98478   theatlantic   \n",
       "99439   theatlantic   \n",
       "103129  theatlantic   \n",
       "103667  theatlantic   \n",
       "106779  theatlantic   \n",
       "109718  theatlantic   \n",
       "113068  theatlantic   \n",
       "114298  theatlantic   \n",
       "121911  theatlantic   \n",
       "128068  theatlantic   \n",
       "128601  theatlantic   \n",
       "133268  theatlantic   \n",
       "136280  theatlantic   \n",
       "148631  theatlantic   \n",
       "\n",
       "                                                                                                                                                                                                                                                                                                                                                                                                                   text  \\\n",
       "7978    Please consider disabling it for our site, or supporting our work in one of these ways\\n\\nWhy providing women more options to control pregnancies is in the interest of everyone\\n\\nIn a hotly contested decision this week, the Supreme Court ruled that for-profit employers can opt out of providing certain types of contraception coverage on religious grounds. Ostensibly, the holding is narrow: Onl...   \n",
       "10504   1. We can thank former President Bill Clinton for perfect clarity in his comments about the chaos and horror of Gaza. In an interview on Indian television, Clinton—who told us in his memoir that Palestinian self-destructiveness (in the form of Yasir Arafat’s various delusions and prevarications) undid his effort to bring about a two-state solution to the Middle East conflict—blames the Muslim ...   \n",
       "11034   Despite the news last week that America's healthcare spending will not be rising at the sky-high rate that was once predicted, the fact remains that the U.S. far outspends its peer nations when it comes to healthcare costs per capita. This year the United States will spend almost 18 percent of the gross domestic product (GDP) on healthcare—six percentage points more than the Netherlands, the n...   \n",
       "27354   Let us know what we missed.\\n\\nJustin Bieber: A Case Study in Growing Up Cosseted and Feral\\n\\nVanessa Grigoriadis | Vulture\\n\\n\"He sees himself as Brando, McQueen, Dean. We may see something different—a costume of machismo; a slip of a boy buffed up and doffing his shirt like a South Bronx stoopie in August; a white person fetishizing blackness with the laserlike focus of someone for whom 'be...   \n",
       "27405   Researchers from the University of California San Diego and Brown University surveyed parents of first-time patients at a pediatric obesity clinic, assessing the families’ willingness to help their children lose weight. The patients, who ranged in age from 5 to 20, had all been classified as overweight or clinically obese, and most had been referred to the clinic for treatment by their regular...   \n",
       "37094   Louis C.K.'s regular-guy shtick permeates everything about his image: the plain black T-shirts, the self-deprecating humor, his Twitter bio (\"I am a comedian and a person and a guy who is sitting here\"), even his mass-emailing strategy. Louie—and it feels right to call him \"Louie\" precisely because of this guy-who-is-sitting-here image he's so expertly cultivated—is, of course, not an ordinary...   \n",
       "44174   The future of marriage, the future of Millennials: two topics the Internet loves to freak out about. Thanks to a new report from Pew, here the twain shall meet: Researchers asked people of all ages whether society is better off if people focus on getting married and having kids.\\n\\nAmerican Attitudes Toward Marriage and Kids\\n\\nLooking at this chart is a little like taking a Rorschach inkblot ...   \n",
       "53009   It is too surreal. I still feel like it was just yesterday when I picked up the report on the achievement gap in college. When we originally started working on PMP, we were thinking of national expansion—almost too early. We quickly learned how difficult it is to do our work and are still working to set reasonable expectations of growth. This summer we made changes to our business model. Now w...   \n",
       "56869   Please consider disabling it for our site, or supporting our work in one of these ways\\n\\nBefore Twitter existed, before Facebook allowed more than college students to join its network, two brothers made new media that went viral.\\n\\nTen years ago today, a small Flash animation firm based in Los Angeles uploaded a video to its website. The three-minute cartoon parodied the year’s presidential ...   \n",
       "60087   Please consider disabling it for our site, or supporting our work in one of these ways\\n\\nWhen Team Snapchat announced the launch of Snapchat Stories last fall, it expanded the intimacy of the service so that users could “share your day with friends—or everyone.” More recently, though, the service is fixated on the concept of everywhere, with the addition of location-based filters and other ge...   \n",
       "64417   He was confronted by supervisors and accused of mishandling classified information while assembling his FOIA request. His house was raided by the FBI and his family’s computers seized. Stripped of his job and his security clearance, Scudder said he agreed to retire last year after being told that if he refused, he risked losing much of his pension. In an interview, Scudder, 51, cast his ordeal...   \n",
       "69116   I recently argued that the way the show Orange Is the New Black deals with men, and especially male prisoners, is problematic, since the vast majority of prisoners in the U.S. are men, not women, and because the show uses stereotypical gender assumptions to elicit sympathy for women prisoners in ways don't translate into an institutional critique of prison as a whole. My post became something ...   \n",
       "73251   Please consider disabling it for our site, or supporting our work in one of these ways\\n\\nCHATTANOOGA, Tenn.—Angela Allen has two painful slipped disks in her neck, but her regular spine doctor does not accept the new insurance she bought through the federal health marketplace. “It’s been a nightmare,” said Allen, a 42-year-old office manager. The closest specialist she found who would see her...   \n",
       "82549   I'm presenting them with the goal of letting a worthy exponent of each side lay out his case. And I'm presenting them in full-length version on the assumption that anyone who doesn't care can skip right over, while anyone who does may want to know the detailed back-and-forth. Each of Reed's critiques is in itals, followed by Richard's responses. In the exchanges, Dan Richard directly criticize...   \n",
       "95176   ASPEN, Colo.—One major divide in international relations, as well as in other social sciences, is between those who believe in structure and those who believe in agency. Members of the first group say leaders are just representations of cultures and nations, subject to long-running political dynamics; their counterparts insist, no, individual leaders make decisions that can change the course o...   \n",
       "98478   According to new data, Catholic marriages in the U.S. are on a steep decline. Why are fewer couples relying on religious institutions as they take their vows?\\n\\nIt’s an iconic image: the white dress, the church bells, the priest, the traditional vows repeated by an earnest, fresh-faced couple. Many elements of the archetypical American wedding echo the formality and traditions of the country’...   \n",
       "99439   What makes someone a \"refugee\" is actually a legal question that determines a country's obligations toward them. \"Refugees are defined in international law as those who are outside of their own countries and unwilling or unable to return because they have a well-founded fear of persecution based on their race, religion, nationality, membership in a particular social group, or political opinion...   \n",
       "103129  Please consider disabling it for our site, or supporting our work in one of these ways\\n\\nDemocrats have introduced bills to undo the Supreme Court's ruling on religious exemptions for contraception coverage, as well as state laws that single out abortion services, but the legislation isn't expected to succeed.\\n\\nMost of the momentum in fights over birth control and abortion has been in the d...   \n",
       "103667  Please consider disabling it for our site, or supporting our work in one of these ways\\n\\nI only met my wife eight times, in person, before we got married. It all began on a late evening in Toronto when a woman from Los Angeles messaged me on OkCupid to say she liked my look, and that it was a shame about the distance. As I’d said to a friend earlier that day, “If she’s not already in my bed, ...   \n",
       "106779  ASPEN, Colo.—It is a truth universally acknowledged that a single news consumer in possession of a free minute must be in want of a cat video.\\n\\nThe whole Internet-and-cats thing—a meta-meme about the mystic makeup of the Internet itself—is one of the stickiest there is when it comes to discussions of the World Wide Web. The Internet loves its cats! The cats love their Internet! The kitty cli...   \n",
       "109718  Like a bad summer-pop earworm, some economic ideas get stuck in our heads for no good reason and refuse to go away.\\n\\nTake, for example, the remarkably durable myth that Obama has presided over a \"part-time economy,\" where full-time work has been devastated by his relentlessly anti-capitalist policies. The Atlantic has done our best to bust this myth, but there's no killing some summer earwor...   \n",
       "113068  * * *\\n\\nAnd here is a sample note from a reader in California, on the challenges the plan now faces:\\n\\nI am very supportive of a high speed rail network in theory; very few people I have talked to are not. Driving between Los Angeles and San Francisco is a good 8 hours, while by plane it is a 45-minute hop, plus the two hours and massive frustrations of the airport; neither option is optimal...   \n",
       "114298  Two years ago this month, Hezbollah operatives murdered six people—five tourists and their bus driver—and wounded many more in a bus bombing at the airport in Burgas, Bulgaria. The incident brought global attention to the extent of the group’s operations in Europe, far afield of its traditional home base of Lebanon, where it was founded with a mission to fight Israel. But today, despite a Euro...   \n",
       "121911  A recent survey found that 65 percent of women in the U.S. had experienced street harassment, with almost a quarter of all women being approached and sexually touched on the street. That's a startling figure—all the more so because street harassment is rarely discussed as a policy issue. Social worker, activist, and writer Feminista Jones has been working to change that. In June, she tweeted a...   \n",
       "128068  1. Millennials are more liberal than the rest of the country, particularly on social issues, but they get more economically conservative when they make more money.\\n\\nThis is all very confusing. Perhaps it should be when we're using a couple thousand subjects to guess the collective opinions of 86 million people. What are we sure we know about Millennials? Two big things and one small thing.\\n...   \n",
       "128601  My husband’s body lay in the next room. People were filing in and out to say those last few words that in the end all boil down to love. There was weeping and, occasionally, laughter that night in my cottage at the edge of the woods outside Stockholm. All emotions were so heightened, as if we were completely disconnected from the rest of the world. It was a sensation that would continue for a ...   \n",
       "133268  The unwritten contract between customer and retailer is fairly straightforward: A store will have merchandise, salespeople, and a somewhat orderly checkout process. If everyone's feeling classy, there might even be clean floors and a not-terrible scent.\\n\\nBrookfield, Wisconsin, is one of three towns in the greater Milwaukee area that might soon have a store that forgoes one of those agreed-up...   \n",
       "136280  ASPEN, Colo.—Larry Summers does not appear to think much of sanguine predictions about America’s economic future right now.\\n\\nDuring an appearance Tuesday at the Aspen Ideas Festival, which is hosted by The Atlantic and the Aspen Institute, the former Obama and Clinton adviser and Harvard president ticked off the reasons the country is still on a shaky foundation: The recovery from the 2001 r...   \n",
       "148631  Please consider disabling it for our site, or supporting our work in one of these ways\\n\\nIn the controversial Burwell v. Hobby Lobby decision, the Supreme Court ruled that the crafts superstore can't be compelled to offer birth control to its employees under the Affordable Care Act. Ironically, the decision seems to have given birth to a new group of Americans: the Beyoncé voters. Fox News's ...   \n",
       "\n",
       "                                                                                                                                                            url  \\\n",
       "7978                                                            http://www.theatlantic.com/health/archive/2014/07/the-broader-benefits-of-contraception/373856/   \n",
       "10504                                                           http://www.theatlantic.com/international/archive/2014/07/understanding-what-hamas-wants/374656/   \n",
       "11034                                    http://www.theatlantic.com/business/archive/2014/07/why-do-other-rich-nations-spend-so-much-less-on-healthcare/374576/   \n",
       "27354                                                                  http://www.theatlantic.com/entertainment/archive/2014/07/pop-writing-july-1-2014/373758/   \n",
       "27405                                       http://www.theatlantic.com/health/archive/2014/07/study-many-parents-are-in-denial-about-their-kids-obesity/375023/   \n",
       "37094                              http://www.theatlantic.com/technology/archive/2014/07/the-brilliance-of-louis-cks-emails-he-writes-like-a-politician/374034/   \n",
       "44174                                        http://www.theatlantic.com/national/archive/2014/07/millennials-society-will-be-just-fine-without-marriage/374060/   \n",
       "53009                                http://www.theatlantic.com/education/archive/2014/07/meet-the-22-year-old-who-is-fixing-the-summer-achievement-gap/375024/   \n",
       "56869                                                       http://www.theatlantic.com/technology/archive/2014/07/jibjabs-seminal-flash-parody-turns-10/374161/   \n",
       "60087                                                            http://www.theatlantic.com/technology/archive/2014/07/why-snapchat-cares-where-you-are/374733/   \n",
       "64417                          http://www.theatlantic.com/politics/archive/2014/07/the-pattern-of-persecuting-dissenters-in-the-national-security-state/374051/   \n",
       "69116                             http://www.theatlantic.com/politics/archive/2014/07/its-not-a-contradiction-for-men-to-discriminate-against-other-men/374370/   \n",
       "73251                                                         http://www.theatlantic.com/health/archive/2014/07/when-is-health-insurance-too-affordable/373861/   \n",
       "82549               http://www.theatlantic.com/politics/archive/2014/07/7-ways-in-which-high-speed-rail-would-help-california-according-to-its-chairman/374408/   \n",
       "95176                                          http://www.theatlantic.com/international/archive/2014/07/michael-mcfaul-what-turned-putin-against-the-us/373866/   \n",
       "98478                                                  http://www.theatlantic.com/national/archive/2014/07/how-important-is-it-to-have-a-church-wedding/374767/   \n",
       "99439                                                                  http://www.theatlantic.com/politics/archive/2014/07/what-makes-someone-a-refugee/375216/   \n",
       "103129                                                  http://www.theatlantic.com/health/archive/2014/07/the-senates-pushback-on-abortion-restrictions/374507/   \n",
       "103667                                                                   http://www.theatlantic.com/technology/archive/2014/07/love-in-the-internet-age/374328/   \n",
       "106779                                                    http://www.theatlantic.com/technology/archive/2014/07/please-stop-with-all-the-cat-video-talk/373762/   \n",
       "109718                                        http://www.theatlantic.com/business/archive/2014/07/heres-what-obamas-part-time-america-really-looks-like/374356/   \n",
       "113068                                             http://www.theatlantic.com/politics/archive/2014/07/california-high-speed-railmdashthe-critics-speak/374306/   \n",
       "114298                                                       http://www.theatlantic.com/international/archive/2014/07/what-is-hezbollah-doing-in-europe/374973/   \n",
       "121911  http://www.theatlantic.com/politics/archive/2014/07/black-women-street-harassment-even-if-you-dont-like-it-youre-supposed-to-appear-that-you-do/375175/   \n",
       "128068                                        http://www.theatlantic.com/politics/archive/2014/07/millennials-economics-voting-clueless-kids-these-days/374427/   \n",
       "128601                                                                      http://www.theatlantic.com/health/archive/2014/07/when-a-spouse-dies-abroad/372672/   \n",
       "133268                              http://www.theatlantic.com/business/archive/2014/07/coming-soon-a-milwaukee-area-mattress-store-with-no-salespeople/374494/   \n",
       "136280                                           http://www.theatlantic.com/business/archive/2014/07/larry-summerss-4-point-plan-for-saving-the-economy/373849/   \n",
       "148631                                                                http://www.theatlantic.com/politics/archive/2014/07/the-myth-of-the-beyonce-voter/374297/   \n",
       "\n",
       "        count   date_cat  \n",
       "7978        1  (2014, 7)  \n",
       "10504       1  (2014, 7)  \n",
       "11034       1  (2014, 7)  \n",
       "27354       1  (2014, 7)  \n",
       "27405       1  (2014, 7)  \n",
       "37094       1  (2014, 7)  \n",
       "44174       1  (2014, 7)  \n",
       "53009       1  (2014, 7)  \n",
       "56869       1  (2014, 7)  \n",
       "60087       1  (2014, 7)  \n",
       "64417       1  (2014, 7)  \n",
       "69116       1  (2014, 7)  \n",
       "73251       1  (2014, 7)  \n",
       "82549       1  (2014, 7)  \n",
       "95176       1  (2014, 7)  \n",
       "98478       1  (2014, 7)  \n",
       "99439       1  (2014, 7)  \n",
       "103129      1  (2014, 7)  \n",
       "103667      1  (2014, 7)  \n",
       "106779      1  (2014, 7)  \n",
       "109718      1  (2014, 7)  \n",
       "113068      1  (2014, 7)  \n",
       "114298      1  (2014, 7)  \n",
       "121911      1  (2014, 7)  \n",
       "128068      1  (2014, 7)  \n",
       "128601      1  (2014, 7)  \n",
       "133268      1  (2014, 7)  \n",
       "136280      1  (2014, 7)  \n",
       "148631      1  (2014, 7)  "
      ]
     },
     "execution_count": 360,
     "metadata": {},
     "output_type": "execute_result"
    }
   ],
   "source": [
    "a[a[\"publisher\"]== \"theatlantic\"]"
   ]
  },
  {
   "cell_type": "code",
   "execution_count": null,
   "metadata": {
    "collapsed": true
   },
   "outputs": [],
   "source": [
    "a[a[\"publisher\"]== \"npr\"]"
   ]
  },
  {
   "cell_type": "code",
   "execution_count": null,
   "metadata": {
    "collapsed": true
   },
   "outputs": [],
   "source": []
  },
  {
   "cell_type": "code",
   "execution_count": 41,
   "metadata": {
    "collapsed": false
   },
   "outputs": [
    {
     "data": {
      "text/html": [
       "<div>\n",
       "<table border=\"1\" class=\"dataframe\">\n",
       "  <thead>\n",
       "    <tr style=\"text-align: right;\">\n",
       "      <th></th>\n",
       "      <th>scope</th>\n",
       "      <th>tfidf_top10</th>\n",
       "    </tr>\n",
       "  </thead>\n",
       "  <tbody>\n",
       "    <tr>\n",
       "      <th>44</th>\n",
       "      <td>(2013, 9)</td>\n",
       "      <td>[legal counsel, happened government, paints pi...</td>\n",
       "    </tr>\n",
       "    <tr>\n",
       "      <th>24</th>\n",
       "      <td>(2013, 10)</td>\n",
       "      <td>[preventing pregnancy, obamacare politics, oba...</td>\n",
       "    </tr>\n",
       "    <tr>\n",
       "      <th>10</th>\n",
       "      <td>(2013, 11)</td>\n",
       "      <td>[zuckerberg spent 25, including community, inc...</td>\n",
       "    </tr>\n",
       "    <tr>\n",
       "      <th>25</th>\n",
       "      <td>(2013, 12)</td>\n",
       "      <td>[legislators country, middle class poor, mikha...</td>\n",
       "    </tr>\n",
       "    <tr>\n",
       "      <th>48</th>\n",
       "      <td>(2014, 1)</td>\n",
       "      <td>[zuma press seeded, january 2014 dustinsiggins...</td>\n",
       "    </tr>\n",
       "    <tr>\n",
       "      <th>23</th>\n",
       "      <td>(2014, 2)</td>\n",
       "      <td>[zurich, incur, incumbent rep, incumbent reele...</td>\n",
       "    </tr>\n",
       "    <tr>\n",
       "      <th>7</th>\n",
       "      <td>(2014, 3)</td>\n",
       "      <td>[liberals conservatives, military presence, co...</td>\n",
       "    </tr>\n",
       "    <tr>\n",
       "      <th>36</th>\n",
       "      <td>(2014, 4)</td>\n",
       "      <td>[zuma, distaste, officer mozilla, officer exec...</td>\n",
       "    </tr>\n",
       "    <tr>\n",
       "      <th>41</th>\n",
       "      <td>(2014, 5)</td>\n",
       "      <td>[lefties, induce, indonesian, indoctrination, ...</td>\n",
       "    </tr>\n",
       "    <tr>\n",
       "      <th>53</th>\n",
       "      <td>(2014, 6)</td>\n",
       "      <td>[zuckerberg jones, dramatic reductions, draw c...</td>\n",
       "    </tr>\n",
       "    <tr>\n",
       "      <th>64</th>\n",
       "      <td>(2014, 7)</td>\n",
       "      <td>[zurich, immigration think, impact birth contr...</td>\n",
       "    </tr>\n",
       "    <tr>\n",
       "      <th>47</th>\n",
       "      <td>(2014, 8)</td>\n",
       "      <td>[être, obamacare obamacare proving, disappeara...</td>\n",
       "    </tr>\n",
       "    <tr>\n",
       "      <th>65</th>\n",
       "      <td>(2014, 9)</td>\n",
       "      <td>[zuma, information make, influenza says, influ...</td>\n",
       "    </tr>\n",
       "    <tr>\n",
       "      <th>13</th>\n",
       "      <td>(2014, 10)</td>\n",
       "      <td>[zucker, lots different, lot information, budg...</td>\n",
       "    </tr>\n",
       "    <tr>\n",
       "      <th>28</th>\n",
       "      <td>(2014, 11)</td>\n",
       "      <td>[liars current political, domestic product, do...</td>\n",
       "    </tr>\n",
       "    <tr>\n",
       "      <th>38</th>\n",
       "      <td>(2014, 12)</td>\n",
       "      <td>[zywicki, image cellphone text, imitating, imf...</td>\n",
       "    </tr>\n",
       "    <tr>\n",
       "      <th>33</th>\n",
       "      <td>(2015, 1)</td>\n",
       "      <td>[zones europe, lang, lanhee, languish, languag...</td>\n",
       "    </tr>\n",
       "    <tr>\n",
       "      <th>30</th>\n",
       "      <td>(2015, 2)</td>\n",
       "      <td>[zurich, income residents, income verification...</td>\n",
       "    </tr>\n",
       "    <tr>\n",
       "      <th>17</th>\n",
       "      <td>(2015, 3)</td>\n",
       "      <td>[zwick, matthews, matter severe, matter severe...</td>\n",
       "    </tr>\n",
       "    <tr>\n",
       "      <th>61</th>\n",
       "      <td>(2015, 4)</td>\n",
       "      <td>[zuckerberg, including washington post, income...</td>\n",
       "    </tr>\n",
       "    <tr>\n",
       "      <th>66</th>\n",
       "      <td>(2015, 5)</td>\n",
       "      <td>[best deal, kaufax applauded measure, kazakhst...</td>\n",
       "    </tr>\n",
       "    <tr>\n",
       "      <th>39</th>\n",
       "      <td>(2015, 6)</td>\n",
       "      <td>[zug island homeland, improve transparency, im...</td>\n",
       "    </tr>\n",
       "    <tr>\n",
       "      <th>57</th>\n",
       "      <td>(2015, 7)</td>\n",
       "      <td>[zuma press, identification male kept, ideolog...</td>\n",
       "    </tr>\n",
       "    <tr>\n",
       "      <th>60</th>\n",
       "      <td>(2015, 8)</td>\n",
       "      <td>[zoo officials say, kids constant danger, kids...</td>\n",
       "    </tr>\n",
       "    <tr>\n",
       "      <th>42</th>\n",
       "      <td>(2015, 9)</td>\n",
       "      <td>[leblond doro, military personnel, medicare me...</td>\n",
       "    </tr>\n",
       "    <tr>\n",
       "      <th>18</th>\n",
       "      <td>(2015, 10)</td>\n",
       "      <td>[žižek, impact latinos, important role play, i...</td>\n",
       "    </tr>\n",
       "    <tr>\n",
       "      <th>0</th>\n",
       "      <td>(2015, 11)</td>\n",
       "      <td>[life federation, democratic control, democrat...</td>\n",
       "    </tr>\n",
       "    <tr>\n",
       "      <th>69</th>\n",
       "      <td>(2015, 12)</td>\n",
       "      <td>[zuckerberg initiative, number patients, numbe...</td>\n",
       "    </tr>\n",
       "    <tr>\n",
       "      <th>37</th>\n",
       "      <td>(2016, 1)</td>\n",
       "      <td>[zuma press, house reconvenes, house leadershi...</td>\n",
       "    </tr>\n",
       "    <tr>\n",
       "      <th>56</th>\n",
       "      <td>(2016, 2)</td>\n",
       "      <td>[zurich, important state, importance young, im...</td>\n",
       "    </tr>\n",
       "    <tr>\n",
       "      <th>74</th>\n",
       "      <td>(2016, 3)</td>\n",
       "      <td>[zubik case, illinois florida, idolize, ig, ig...</td>\n",
       "    </tr>\n",
       "    <tr>\n",
       "      <th>15</th>\n",
       "      <td>(2016, 4)</td>\n",
       "      <td>[leaving country, coffee shop, mismanagement, ...</td>\n",
       "    </tr>\n",
       "  </tbody>\n",
       "</table>\n",
       "</div>"
      ],
      "text/plain": [
       "         scope                                        tfidf_top10\n",
       "44   (2013, 9)  [legal counsel, happened government, paints pi...\n",
       "24  (2013, 10)  [preventing pregnancy, obamacare politics, oba...\n",
       "10  (2013, 11)  [zuckerberg spent 25, including community, inc...\n",
       "25  (2013, 12)  [legislators country, middle class poor, mikha...\n",
       "48   (2014, 1)  [zuma press seeded, january 2014 dustinsiggins...\n",
       "23   (2014, 2)  [zurich, incur, incumbent rep, incumbent reele...\n",
       "7    (2014, 3)  [liberals conservatives, military presence, co...\n",
       "36   (2014, 4)  [zuma, distaste, officer mozilla, officer exec...\n",
       "41   (2014, 5)  [lefties, induce, indonesian, indoctrination, ...\n",
       "53   (2014, 6)  [zuckerberg jones, dramatic reductions, draw c...\n",
       "64   (2014, 7)  [zurich, immigration think, impact birth contr...\n",
       "47   (2014, 8)  [être, obamacare obamacare proving, disappeara...\n",
       "65   (2014, 9)  [zuma, information make, influenza says, influ...\n",
       "13  (2014, 10)  [zucker, lots different, lot information, budg...\n",
       "28  (2014, 11)  [liars current political, domestic product, do...\n",
       "38  (2014, 12)  [zywicki, image cellphone text, imitating, imf...\n",
       "33   (2015, 1)  [zones europe, lang, lanhee, languish, languag...\n",
       "30   (2015, 2)  [zurich, income residents, income verification...\n",
       "17   (2015, 3)  [zwick, matthews, matter severe, matter severe...\n",
       "61   (2015, 4)  [zuckerberg, including washington post, income...\n",
       "66   (2015, 5)  [best deal, kaufax applauded measure, kazakhst...\n",
       "39   (2015, 6)  [zug island homeland, improve transparency, im...\n",
       "57   (2015, 7)  [zuma press, identification male kept, ideolog...\n",
       "60   (2015, 8)  [zoo officials say, kids constant danger, kids...\n",
       "42   (2015, 9)  [leblond doro, military personnel, medicare me...\n",
       "18  (2015, 10)  [žižek, impact latinos, important role play, i...\n",
       "0   (2015, 11)  [life federation, democratic control, democrat...\n",
       "69  (2015, 12)  [zuckerberg initiative, number patients, numbe...\n",
       "37   (2016, 1)  [zuma press, house reconvenes, house leadershi...\n",
       "56   (2016, 2)  [zurich, important state, importance young, im...\n",
       "74   (2016, 3)  [zubik case, illinois florida, idolize, ig, ig...\n",
       "15   (2016, 4)  [leaving country, coffee shop, mismanagement, ..."
      ]
     },
     "execution_count": 41,
     "metadata": {},
     "output_type": "execute_result"
    }
   ],
   "source": [
    "df_of_scopes[[\"scope\",\"tfidf_top10\"]][df_of_scopes[\"scope_type\"]==\"date\"].sort_values(by=\"scope\")"
   ]
  },
  {
   "cell_type": "code",
   "execution_count": null,
   "metadata": {
    "collapsed": false
   },
   "outputs": [],
   "source": []
  },
  {
   "cell_type": "code",
   "execution_count": 13,
   "metadata": {
    "collapsed": false
   },
   "outputs": [],
   "source": [
    "# for row in df_of_scopes[[\"scope\",\"tfidf_top10\"]][df_of_scopes[\"scope_type\"]==\"date\"].sort_values(by=\"scope\"):\n",
    "#     print row"
   ]
  },
  {
   "cell_type": "code",
   "execution_count": 43,
   "metadata": {
    "collapsed": false
   },
   "outputs": [],
   "source": [
    "def get_google_search_url(scope_date, search_token):\n",
    "    search_year = scope_date[0]\n",
    "    search_month = scope_date[1]\n",
    "    #print search_year, search_month\n",
    "\n",
    "    google_prefix = \"https://www.google.com/search?q=\"\n",
    "    google_suffix = calendar.month_name[search_month] + \"+\" + str(search_year)+\"+\"+search_token.replace(\" \",\"+\") +\"+\" +\"obamacare\"\n",
    "    google_url = google_prefix + google_suffix\n",
    "    return google_url"
   ]
  },
  {
   "cell_type": "code",
   "execution_count": 51,
   "metadata": {
    "collapsed": true
   },
   "outputs": [],
   "source": [
    "def get_google_results(google_url):\n",
    "    \"\"\"Input: Enter in a google url query\n",
    "       Output: a tuple (list_of_titles, list_of_links, list_of_summaries, list_of_dates)\"\"\"\n",
    "    \n",
    "    driver.get(google_url)\n",
    "    elem = driver.find_element_by_xpath(\"//*\");\n",
    "    html_code = elem.get_attribute(\"innerHTML\");\n",
    "    soup = BeautifulSoup(html_code, \"lxml\");\n",
    "\n",
    "    div_tags = soup.findAll('div',attrs={ \"class\" : \"rc\" })   # List of all results on page -- each div is a separate result\n",
    "\n",
    "    link_title_list = []\n",
    "    link_url_list = []\n",
    "    result_date_list = []\n",
    "    result_summary_list = []\n",
    "\n",
    "    for i in range(len(div_tags)):\n",
    "        link_url = div_tags[i].find(\"a\")[\"href\"]\n",
    "        # print link_url\n",
    "        link_title = div_tags[i].find(\"a\").contents[0]\n",
    "\n",
    "\n",
    "        result_summary = div_tags[0].findAll(\"span\", attrs={ \"class\" : \"st\" })[0].contents[1:]\n",
    "\n",
    "        link_title_list.append(link_title)\n",
    "        link_url_list.append(link_url)\n",
    "        result_summary_list.append(result_summary)\n",
    "\n",
    "    results_tuple = (link_title_list,link_url_list,result_summary_list)\n",
    "    print link_title_list\n",
    "    return results_tuple"
   ]
  },
  {
   "cell_type": "code",
   "execution_count": 52,
   "metadata": {
    "collapsed": false
   },
   "outputs": [],
   "source": [
    "dict_of_google_tag_searches = {}\n",
    "driver = webdriver.Firefox()"
   ]
  },
  {
   "cell_type": "code",
   "execution_count": null,
   "metadata": {
    "collapsed": true
   },
   "outputs": [],
   "source": [
    "6 hours => 360 minutes"
   ]
  },
  {
   "cell_type": "code",
   "execution_count": 810,
   "metadata": {
    "collapsed": false
   },
   "outputs": [
    {
     "data": {
      "text/plain": [
       "330"
      ]
     },
     "execution_count": 810,
     "metadata": {},
     "output_type": "execute_result"
    }
   ],
   "source": [
    "len(date_pairs) *10 # Total number of searches"
   ]
  },
  {
   "cell_type": "code",
   "execution_count": null,
   "metadata": {
    "collapsed": true
   },
   "outputs": [],
   "source": [
    "date_keys.sort()"
   ]
  },
  {
   "cell_type": "code",
   "execution_count": 50,
   "metadata": {
    "collapsed": false
   },
   "outputs": [
    {
     "data": {
      "text/plain": [
       "array([(2013, 9), (2013, 10), (2013, 11), (2013, 12), (2014, 1), (2014, 2),\n",
       "       (2014, 3), (2014, 4), (2014, 5), (2014, 6), (2014, 7), (2014, 8),\n",
       "       (2014, 9), (2014, 10), (2014, 11), (2014, 12), (2015, 1), (2015, 2),\n",
       "       (2015, 3), (2015, 4), (2015, 5), (2015, 6), (2015, 7), (2015, 8),\n",
       "       (2015, 9), (2015, 10), (2015, 11), (2015, 12), (2016, 1), (2016, 2),\n",
       "       (2016, 3), (2016, 4), (2016, 5)], dtype=object)"
      ]
     },
     "execution_count": 50,
     "metadata": {},
     "output_type": "execute_result"
    }
   ],
   "source": [
    "date_keys"
   ]
  },
  {
   "cell_type": "code",
   "execution_count": null,
   "metadata": {
    "collapsed": true
   },
   "outputs": [],
   "source": [
    "for token in dict_of_scopes[\"(2016,5)\"][\"tfidf_top10\"]:\n",
    "    time.sleep(15) # Sleeps for 1 minute -- 6 hours is 360 minutes, and there are 330 pairs in total\n",
    "    print date, token,\n",
    "    google_url = get_google_search_url(scope_date=date, search_token = token)\n",
    "    results_tuple = get_google_results(google_url)\n",
    "    dict_of_google_tag_searches[google_url] = results_tuple\n",
    "    dict_of_google_tag_searches[(date,token)] = results_tuple\n",
    "    print"
   ]
  },
  {
   "cell_type": "code",
   "execution_count": 53,
   "metadata": {
    "collapsed": false
   },
   "outputs": [
    {
     "name": "stdout",
     "output_type": "stream",
     "text": [
      "(2013, 9) legal counsel [u'US government shutdown: House votes to delay Obamacare law | US ...', u'What Is Obamacare? A Legal Overview - Law and Daily Life - FindLaw', u\"What's in a name? Lots when it comes to Obamacare/ACA - CNBC.com\", u'Read the Law | HHS.gov', u'Office of the General Counsel September 3, 2013 Submitted ...', u'Patient Protection and Affordable Care Act - Wikipedia, the free ...', u'United States federal government shutdown of 2013 - Wikipedia, the ...', u'Top 16 myths about the health care law | PolitiFact', u'Remarks by the President on the Affordable Care Act | whitehouse.gov', u'Can They Crush Obamacare? by David Cole | The New York Review ...']\n",
      "\n",
      "(2013, 9) happened government [u'United States federal government shutdown of 2013 - Wikipedia, the ...', u'Government shutdown in the United States - Wikipedia, the free ...', u'Why Did The U.S. Government Shut Down In October 2013? - Forbes', u'A Brief History of the 2013 Government Shutdown | Mediaite', u'US government shutdown: House votes to delay Obamacare law | US ...', u'Government shutdown: What you need to know - CNNPolitics.com', u'House votes to delay Obamacare for a year, government shutdown ...', u'US begins government shutdown as budget deadline passes - BBC ...', u'Remarks by the President on the Affordable Care Act | whitehouse.gov', u'Government Shuts Down in Budget Impasse - The New York Times']\n",
      "\n",
      "(2013, 9) paints picture [u'ObamaCare News: Daily ObamaCare Updates - ObamaCare Facts', u'Obamacare \"has never been favored by a majority of Americans ...', u\"We Mapped the Uninsured. You'll Notice a Pattern. - The New York ...\", u'One Key Thing No One Knows About Obamacare : Planet Money : NPR', u'Reality Check: Obamacare Edition - gop.gov', u'Opinion: Worried about Obamacare? Fear not - CNN.com', u'Study: Obamacare gave 10 million Americans health ... - CNN.com', u'Obamacare Is Killing Traditional Employer-Sponsored Health ... - Forbes', u\"Obamacare's threat to healthcare innovation - Reuters\", u'Obamacare addresses some health disparities, perpetuates others ...']\n",
      "\n",
      "(2013, 9) changes healthcare [u'How Obamacare Changed Health Insurance ... Maybe - Forbes', u'Key Features of the Affordable Care Act By Year | HHS.gov', u'Current trends in health care: A new landscape with Obamacare ...', u'70 Changes to ObamaCare\\u2026 \\u2014 So Far | Galen Institute', u'Health Care Industry Spent $243 Million in 2013 Lobbying - Breitbart', u'5 ways Obamacare affects hospitals, doctors and more | NJ.com', u\"What's in a name? Lots when it comes to Obamacare/ACA - CNBC.com\", u'Are employers dumping health benefits because of Obamacare? - Sep ...', u'Changes in Health Insurance Enrollment Since 2013: Evidence from ...', u'Patient Protection and Affordable Care Act - Wikipedia, the free ...']\n",
      "\n",
      "(2013, 9) pair new [u'Ted Cruz pulls all-nighter as marathon anti-Obamacare speech churns ...', u'ObamaCare Facts: Facts on the Affordable Care Act', u'How unpopular or popular is Obamacare? - The Washington Post', u'Is the Affordable Care Act Working? - The New York Times', u'Short-term health insurance, a low-cost alternative to Obamacare |', u'Senate defeats Cruz filibuster, passes bill that funds Obamacare ...', u\"GOP's Anti-Obamacare Ads May Have Accidentally Boosted ...\", u'Moran says Obamacare has \"reined in\" the growth in health care costs ...', u\"Affordable Care Act's 10 Essential Health Benefits - AARP\", u'Where I Stand on Obamacare | Congressman Walter Jones']\n",
      "\n",
      "(2013, 9) paired [u'Ted Cruz pulls all-nighter as marathon anti-Obamacare speech churns ...', u'ObamaCare Facts: Facts on the Affordable Care Act', u'ObamaCare News: Daily ObamaCare Updates - ObamaCare Facts', u'Sen. Cruz ends anti-Obamacare talkathon after more than 21 hours ...', u'Senate defeats Cruz filibuster, passes bill that funds Obamacare ...', u'Obamacare cheat sheet - Sep. 26, 2013 - CNN Money', u\"Affordable Care Act's 10 Essential Health Benefits - AARP\", u'Moran says Obamacare has \"reined in\" the growth in health care costs ...', u'Where I Stand on Obamacare | Congressman Walter Jones', u'70 Changes to ObamaCare\\u2026 \\u2014 So Far | Galen Institute']\n",
      "\n",
      "(2013, 9) handout [u'What Do I Need to Tell My Employees about ObamaCare?', u'Is ObamaCare a Handout? - Obamacare Facts', u'ObamaCare News: Daily ObamaCare Updates - ObamaCare Facts', u'Obamacare cheat sheet - Sep. 26, 2013 - CNN Money', u'One Key Thing No One Knows About Obamacare : Planet Money : NPR', u\"'How Much Will Obamacare Cost Me?' Try Our Calculator : Shots ...\", u'Double Down: Obamacare Will Increase Avg. Individual-Market - Forbes', u'Obamacare Will Increase Health Spending By $7,450 For A Typical ...', u'What You Need to Know about the Affordable Care Act (ObamaCare)', u'Robert Reich (The Real Truth About ObamaCare)']\n",
      "\n",
      "(2013, 9) pairs [u'Ted Cruz pulls all-nighter as marathon anti-Obamacare speech churns ...', u'ObamaCare Facts: Facts on the Affordable Care Act', u'Sen. Cruz ends anti-Obamacare talkathon after more than 21 hours ...', u'Senate defeats Cruz filibuster, passes bill that funds Obamacare ...', u'Obamacare cheat sheet - Sep. 26, 2013 - CNN Money', u'House GOP launches shutdown battle by voting to defund Obamacare ...', u\"Affordable Care Act's 10 Essential Health Benefits - AARP\", u'Where I Stand on Obamacare | Congressman Walter Jones', u'Moran says Obamacare has \"reined in\" the growth in health care costs ...', u'Obamacare Allows Forced Home Inspections : snopes.com']\n",
      "\n",
      "(2013, 9) handling use [u'5 ways Obamacare affects hospitals, doctors and more | NJ.com', u'Obamacare cheat sheet - Sep. 26, 2013 - CNN Money', u\"Why Congress is (or isn't) exempt from Obamacare - USA Today\", u'ObamaCare Website - ObamaCare Facts', u'Ten Questions About Obamacare You Were Too Embarrassed to Ask ...', u'US government shutdown: House votes to delay Obamacare law | US ...', u'Will Your Employer Drop Coverage Under Obamacare? | PBS ...', u'ObamaCare Simplified: Your Go-to Guide for Understanding ObamaCare', u'Here are 337 reasons why Democrats and unions that support ...', u\"Survey Doesn't Bode Well for Obamacare | TheBlaze.com\"]\n",
      "\n",
      "(2013, 9) pakistan history [u'Articles: September 2013 Archives - American Thinker', u'United States federal government shutdown of 2013 - Wikipedia, the ...', u'Obamacare: The Biggest Insurance Scam in History - Truthout', u'Headlines for September 25, 2013 | Democracy Now!', u'Implementing Obamacare | September 27, 2013 | Religion & Ethics ...', u'World History Timeline, 2013, September', u'Obamacare: Destined to flop? - American Enterprise Institute', u\"Church Health Plans Jeopardized by 'ObamaCare' Standoff ...\", u\"Serco's Checkered History - | National Review\", u'For-Profit Online Insurance Brokers Gear Up To Sell Obamacare - NPR']\n",
      "\n",
      "(2013, 10) preventing pregnancy [u'Why Is Maternity Care Such an Issue for Obamacare Opponents ...', u'ObamaCare Stories: Real Life Stories on ObamaCare', u\"Yes, men should pay for pregnancy coverage, and here's why - latimes\", u'How Obamacare changed maternity coverage - HealthInsurance.org', u'The Cheapest Shot Against Obamacare, and Why Men Should Pay for ...', u'The Definitive Guide to How Obamacare is Destroying American Lives ...', u\"CBS' Faulty Obamacare Reporting: Pregnancy Edition\", u'US employers slashing worker hours to avoid Obamacare insurance ...', u'Ten Questions About Obamacare You Were Too Embarrassed to Ask ...', u'HealthCare.gov - Wikipedia, the free encyclopedia']\n",
      "\n",
      "(2013, 10) obamacare politics [u'Rough Obamacare rollout: 4 reasons why - CNNPolitics.com - CNN.com', u'ObamaCare 2013 - ObamaCare Facts', u\"Ben Carson: Obamacare worst thing 'since slavery' - The Washington ...\", u\"President Obama's Oct. 1 remarks on the government shutdown\", u\"20 Obamacare Stats Republicans Don't Want You to See | Mother Jones\", u'The Politics of ObamaCare, Social Security, and Medicare | Scholars ...', u'From October 2013: \\u201cThe Obamacare implosion is worse than you ...', u'HealthCare.gov - Wikipedia, the free encyclopedia', u\"No, Obamacare Doesn't 'Start' Oct. 1, But Here's What Changes ...\", u'WILLIAMS: Why are we against Obamacare? - Washington Times']\n",
      "\n",
      "(2013, 10) obamacare patient [u'ObamaCare 2013 - ObamaCare Facts', u'ObamaCare Facts: Facts on the Affordable Care Act', u'ObamaCare | Health Insurance Exchange - ObamaCare Facts', u\"No, Obamacare Doesn't 'Start' Oct. 1, But Here's What Changes ...\", u'Key Features of the Affordable Care Act By Year | HHS.gov', u'Key Features of the Affordable Care Act | HHS.gov', u'ObamaCare (Affordable Care Act) Is Not An Insurance Or Healthcare ...', u'Patient Protection and Affordable Care Act - Wikipedia, the free ...', u\"Transcript: President Obama's Oct. 21 remarks on problems with the ...\", u'From October 2013: \\u201cThe Obamacare implosion is worse than you ...']\n",
      "\n",
      "(2013, 10) obamacare pays [u'ObamaCare 2013 - ObamaCare Facts', u'ObamaCare | Health Insurance Exchange - ObamaCare Facts', u'ObamaCare Facts: Facts on the Affordable Care Act', u'ObamaCare Stories: Real Life Stories on ObamaCare', u'In Obamacare, Congress must buy insurance from marketplaces but ...', u\"10 things Obamacare supporters say that aren't entirely true | PolitiFact\", u'Obamacare: Unfair to the young middle class, punished enough ...', u\"20 Obamacare Stats Republicans Don't Want You to See | Mother Jones\", u'Obamacare enrollment: How do I sign up? - Oct. 1, 2013 - CNN Money', u'20 Questions You Have About Obamacare But Are Too Afraid To Ask ...']\n",
      "\n",
      "(2013, 10) doesn far [u\"20 Obamacare Stats Republicans Don't Want You to See | Mother Jones\", u\"Obamacare's Website Is Crashing Because It Doesn't Want You To ...\", u'ObamaCare 2013 - ObamaCare Facts', u'Why Does Obamacare Suck So Much? - Obamacare Facts', u\"No, Obamacare Doesn't 'Start' Oct. 1, But Here's What Changes ...\", u'70 Changes to ObamaCare\\u2026 \\u2014 So Far | Galen Institute', u'How is Obamacare Doing So Far? | BillMoyers.com', u'Calm Down, America: ObamaCare Is Far From A Revolutionary ...', u'From October 2013: \\u201cThe Obamacare implosion is worse than you ...', u'20 Questions You Have About Obamacare But Are Too Afraid To Ask ...']\n",
      "\n",
      "(2013, 10) obamacare percent [u'ObamaCare | Health Insurance Exchange - ObamaCare Facts', u'ObamaCare Enrollment Numbers As of March 2015 - Obamacare Facts', u'ObamaCare Enrollment Numbers - ObamaCare Facts', u'ObamaCare Facts: Facts on the Affordable Care Act', u\"20 Obamacare Stats Republicans Don't Want You to See | Mother Jones\", u'20 Million Gained Health Insurance From Obamacare, President Says', u'From October 2013: \\u201cThe Obamacare implosion is worse than you ...', u'16.4M gain health coverage under Obamacare: Government', u\"Obama's Health Law: Who Was Helped Most - The New York Times\", u'In Obamacare, Congress must buy insurance from marketplaces but ...']\n",
      "\n",
      "(2013, 10) obamacare perfect [u'ObamaCare 2013 - ObamaCare Facts', u'20 Million Gained Health Insurance From Obamacare, President Says', u'Single-payer healthcare vs. Obamacare - Salon.com', u'The Truth About Obamacare and How It Solves the Suffering of the ...', u'From October 2013: \\u201cThe Obamacare implosion is worse than you ...', u'Obamacare 101: Promise, Pitfalls And Predictions | Cognoscenti', u'Ten Questions About Obamacare You Were Too Embarrassed to Ask ...', u\"ObamaCare: The Media's 'Better Coverage' Hoax - Breitbart\", u'Obamacare Enrollment for October Was 106K, Says HHS | New ...', u'HealthCare.gov - Wikipedia, the free encyclopedia']\n",
      "\n",
      "(2013, 10) obamacare phone [u'ObamaCare | Health Insurance Exchange - ObamaCare Facts', u'ObamaCare 2013 - ObamaCare Facts', u'Obamacare National Call Center : snopes.com', u'Better use the phone: Why Obamacare website is such a fail - NBC ...', u'Blog: Obamacare phone number crashes shortly after Obama tells ...', u'Obama says some can buy health insurance for cost of monthly cell ...', u'Remarks by the President on the Affordable Care Act | whitehouse.gov', u\"Screwed? Confirmed! Don't miss hilarious national Obamacare phone ...\", u\"Obamacare phone operator fired after taking Hannitty's call - RT.com\", u\"SEE ALSO: Naughty number? Obamacare hotline's vulgar suggestion\"]\n",
      "\n",
      "(2013, 10) doesn explain [u'ObamaCare 2013 - ObamaCare Facts', u'ObamaCare | Health Insurance Exchange - ObamaCare Facts', u'ObamaCare (Affordable Care Act) Is Not An Insurance Or Healthcare ...', u\"Obamacare's Website Is Crashing Because It Doesn't Want You To ...\", u'Why is Obamacare so controversial? - BBC News - BBC.com', u'ObamaCare: The Affordable Care Act Explained - YouTube', u\"No, Obamacare Doesn't 'Start' Oct. 1, But Here's What Changes ...\", u'Understanding Obamacare: A guide about the Affordable Care Act by ...', u'Why Republicans Hate Obamacare - Business Insider', u'Obamacare cost-cutting: CNBC explains - CNBC.com']\n",
      "\n",
      "(2013, 10) doesn exist [u'Separating Obamacare Facts From Fiction - The Simple Dollar', u'Obamacare technology problems could take years to fully fix', u'ObamaCare 2013 - ObamaCare Facts', u'What Do I Need to Tell My Employees about ObamaCare?', u'From October 2013: \\u201cThe Obamacare implosion is worse than you ...', u'Obamacare does not work as advertised - Akdart.com', u'Obamacare: The Biggest Insurance Scam in History - Truthout', u\"Media Surprised By Obamacare's Effect On Insurance Coverage ...\", u\"Ted Cruz and Obamacare critics clearly don't get it | Chris Arnade ...\", u\"This is why Obamacare is canceling some people's insurance plans ...\"]\n",
      "\n",
      "(2013, 11) zuckerberg spent 25 [u'FWD.us - Wikipedia, the free encyclopedia', u'Zuckerberg Defends Obamacare Website - Breitbart', u'2013: Year of the Left-Wing Billionaire | Power Line', u'Facebook Spent $12.5 Million to Protect Zuckerberg Since 2013 ...', u'Archive for November, 2013 | Politicus USA | Page 3', u\"Mark Zuckerberg's Political Group Is Trashing Obama And Obamacare ...\", u'23 | November | 2013 | Netter Capital Partners | Page 2', u'WELCOME TO NOVEMBER -- MARK HALPERIN, JOHN HEILEMANN ...', u'Most of Those Outraged by Obamacare Enjoy Big Taxpayer Subsidies ...', u'Obamacare Contractors With Ties to White House, Obama Campaign ...']\n",
      "\n",
      "(2013, 11) including community [u'Obamacare: Seven Major Provisions And How They Affect You - Forbes', u\"Obamacare's Website Won't Be Working By November 30 -- But What ...\", u'ObamaCare Facts: Facts on the Affordable Care Act', u'The Affordable Care Act and Infertility - RESOLVE: The National ...', u'November 2013 - Consumer Action', u'How Obamacare Will Affect Trans Folks and Families | Advocate.com', u'International Profiles of Health Care Systems, 2013 - The ...', u'Obamacare \\xab Creating Healthy Communities - eXtension Blogs', u'Dutch Universal Health Care and Obamacare - Finding Dutchland', u'Page nine of Articles posted during November 2013 on COMMUNITY ...']\n",
      "\n",
      "(2013, 11) including american [u'Why is Obamacare so controversial? - BBC News - BBC.com', u\"Americans' Approval of Healthcare Law Declines - Gallup\", u'ObamaCare Facts: Facts on the Affordable Care Act', u'US Citizens Abroad and OBAMACARE \\u2013 UPDATED August 1 2015 ...', u'Statement by the President on the Affordable Care Act | whitehouse.gov', u'Obama apologizes for insurance cancellations due to Obamacare ...', u'Obamacare exposed: The gutting of health care for workers - World ...', u'Is the ACA the GOP health care plan from 1993? | PunditFact - PolitiFact', u'Kaiser Health Tracking Poll: November 2013 | The Henry J. Kaiser ...', u\"Obama 'sorry' Americans are losing health insurance despite promises ...\"]\n",
      "\n",
      "(2013, 11) including 10 [u\"Obamacare's Website Won't Be Working By November 30 -- But What ...\", u'ObamaCare Facts: Facts on the Affordable Care Act', u'ObamaCare | Health Insurance Exchange - ObamaCare Facts', u'Obamacare Enrollment Numbers Spike In November - Business Insider', u'258,000 Americans Enrolled In Obamacare Exchange Health Plans In ...', u'Obama apologizes for insurance cancellations due to Obamacare ...', u\"Americans' Approval of Healthcare Law Declines - Gallup\", u'Obamacare technology chiefs grilled by Congress as political support ...', u\"The real fix for Obamacare's flaws: Medicare for all | RoseAnn DeMoro ...\", u\"Obamacare Website Will 'Work Smoothly' By Late November, Official ...\"]\n",
      "\n",
      "(2013, 11) includes broad [u'In fourth year, Obamacare exchange eyes broader role | The CT Mirror', u'Obamacare a single-payer ploy, says ex-GOP Senator - CNBC.com', u'White House orders broader Obamacare health plans in 2015 ...', u'Strategic Move Exempts Health Law From Broader U.S. Statute ...', u'ObamaCare News: Daily ObamaCare Updates - ObamaCare Facts', u\"Health Insurers' Decisions on Insurance Exchange Participation\", u'Obamacare | Define Obamacare at Dictionary.com', u\"Despite ObamaCare Supporters' Claims, Health Insurance Plans Prior ...\", u'Sex workers embrace Obamacare - Nov. 1, 2013 - CNN Money', u'Did Obamacare destroy the Democratic Party? Another look - LA Times']\n",
      "\n",
      "(2013, 11) includes abortion [u\"Obamacare's Abortion Surcharge and Taxpayer Funding of Abortion ...\", u'Obamacare and Abortion: Forcing Individuals to Fund Elective ...', u'Does ObamaCare subsidize abortions? | Fox News', u'News - Abortion In Obamacare', u'Resources - Abortion In Obamacare', u'Obamacare is Key to Expanding the Planned Parenthood Abortion ...', u'Which Plans Cover Abortion? No Answers On HealthCare.gov : Shots ...', u'Obamacare Provides Unlimited Taxpayer Funding Of Abortion Services', u'Obamacare Year 3: Abortion Coverage Still Hidden - Charlotte Lozier ...', u\"Obamacare: Progress for Women's Health; What about Abortion ...\"]\n",
      "\n",
      "(2013, 11) included targets [u'CNN obtains GOP playbook to target Obamacare - CNN Political Ticker', u'US healthcare site below target despite increased enrolment - BBC.com', u'Obamacare Enrollment Numbers Fall Far Short Of Target (VIDEO)', u'Initial Obamacare enrollment estimates far short of targets: reports ...', u'Initial Obamacare enrollment estimates far short of targets: reports', u\"Americans' Approval of Healthcare Law Declines - Gallup\", u'Obamacare Enrollment Numbers Spike In November - Business Insider', u'MILLER: Obamacare ads target young women for birth control pills ...', u'Obamacare exposed: The gutting of health care for workers - World ...', u'How Obamacare Will Affect Trans Folks and Families | Advocate.com']\n",
      "\n",
      "(2013, 11) included public option [u'Public health insurance option - Wikipedia, the free encyclopedia', u'Health care reform in the United States - Wikipedia, the free ...', u\"To improve 'Obamacare,' reconsider the original House bill | Al ...\", u'Add a \\u201cPublic Plan\\u201d to the Health Insurance Exchanges ...', u'Guess what? Yes, Hillary DID support the Public Option for Obamacare', u\"Bait and switch: How the \\u201cpublic option\\u201d was sold - PNHP's Official Blog\", u\"Pascal's Wager: Health Insurance Exchanges, Obamacare, and the ...\", u\"The Privatization of ObamaCare's (Only) Public Option - The ACP ...\", u'Obamacare Failures Are by Design | Ian Welsh', u'The Fix Is In: From ObamaCare Set-Up To Single-Payer Solution ...']\n",
      "\n",
      "(2013, 11) included public [u'ObamaCare Facts: Facts on the Affordable Care Act', u'Patient Protection and Affordable Care Act - Wikipedia, the free ...', u'Public health insurance option - Wikipedia, the free encyclopedia', u\"Americans' Approval of Healthcare Law Declines - Gallup\", u'Why is Obamacare so controversial? - BBC News - BBC.com', u'Is the ACA the GOP health care plan from 1993? | PunditFact - PolitiFact', u'The Affordable Care Act and Infertility - RESOLVE: The National ...', u'Obama apologizes for insurance cancellations due to Obamacare ...', u\"Scott Walker's Medicaid Maneuver | Kaiser Health News\", u'Review & Outlook: Small Business and ObamaCare - WSJ']\n",
      "\n",
      "(2013, 11) included joe lieberman [u'Single-Payer Healthcare Supporters Complain About Obamacare ...', u'Top Ten Horrible Things done to Us by Outgoing Sen. Joe Lieberman ...', u'Democrats rally behind president in defence of Obamacare | US news ...', u'Did Sen. Joe Lieberman just kill the public option? - Slate', u'Joe Lieberman - Wikipedia, the free encyclopedia', u'Joe Lieberman - Salon.com', u'Joe Lieberman - Ballotpedia', u'Joe Lieberman, lobbyist | MSNBC', u'Reid says Obamacare just a step toward eventual single-payer system ...', u'Krugman, on ObamaCare, Gets the Wrong Worm | naked capitalism']\n",
      "\n",
      "(2013, 12) legislators country [u'Obamacare faces new threat at state level from corporate interest ...', u'Patient Protection and Affordable Care Act - Wikipedia, the free ...', u'United States federal government shutdown of 2013 - Wikipedia, the ...', u'Massachusetts health care reform - Wikipedia, the free encyclopedia', u'Why is Obamacare so controversial? - BBC News - BBC.com', u\"Obamacare's Medicaid Expansion Is Helping The Uninsured -- Where ...\", u'State Laws and Actions Challenging Certain Health Reforms', u'Healthcare Politics and Policy in America: 2014', u'North Carolina Legislator: Obamacare Worse than Terrorists, Stalin ...', u'US Citizens Abroad and OBAMACARE \\u2013 UPDATED August 1 2015 ...']\n",
      "\n",
      "(2013, 12) middle class poor [u'New Health Law Frustrates Many in Middle Class - NYTimes.com', u'High Obamacare Costs Creating New Middle Class of Uninsured', u'ObamaCare Stories: Real Life Stories on ObamaCare', u'Why Obamacare fails poor and middle class - CNN.com', u'The Forgotten Middle Class of Obamacare: \\u201cnot poor enough for help ...', u'What Obamacare Did For Our Middle-Class Family - Smartter Each Day', u'New York Times *finally* tells its readers: #Obamacare is awful for the ...', u'Obamacare And The Middle Class - The National Memo - Smart ...', u'Blog: NY Times admits Obamacare will cause middle class suffering ...', u'Got ObamaCare? Too bad for you | New York Post']\n",
      "\n",
      "(2013, 12) mikhail [u'The Obamacare We Deserve - The New York Times', u'Obamacare: 365,000 have signed up for insurance on exchanges ...', u'Some Obamacare insured start new year in limbo - Dec. 31, 2013', u\"As Predicted, ObamaCare Plunges Into 'Utter Chaos' - Forbes\", u'The impossible trinity of ObamaCare | Fox News', u'Obamacare Horror Stories | Citizens Against Government Waste', u'Michael Moore: Obamacare sends over $100 billion annually to ...', u'Employers cut health coverage, find scapegoat: Obamacare - latimes', u'Hacking Obamacare - The Blog of Michael R. Eades, M.D.', u\"A Split View On Obamacare's Past And Future : Shots - Health News ...\"]\n",
      "\n",
      "(2013, 12) milbank [u'Dana Milbank: In Obamacare speech, Obama makes a desperate ...', u'Milbank Memorial Fund - Milbank Highlights December 2013', u'A Picture of Progress on Hospital Errors - Milbank Memorial Fund', u'The Perils of Health Care Nostalgia - NCBI - National Institutes of Health', u'A Picture of Progress on Hospital Errors', u'2013 December - ShrinkOurGovernment.com', u'RealClearPolitics December 17, 2013 Archives', u'Milbank: Obamacare is here to stay \\u2013 The Denver Post - Entertainment', u'Milbank: Lessons from the auto manufacturing bailout \\u2013 The Denver Post', u'Obamacare deadline extended by one day - Dec. 22, 2013']\n",
      "\n",
      "(2013, 12) common ground [u\"Lie of the Year: 'If you like your health care plan, you can keep it ...\", u'Obamacare Health Insurance COOPs Are Unraveling | NCPA', u'Al Franken Finds Common Ground With Tea Party Conservatives On ...', u'Reagan Would Have Found Common Ground With Tea Party - Breitbart', u'PUBLIC NOTICE: Wisconsin: Common Ground Co-Op *FULLY ...', u\"Obamacare Website, Carlos Danger: Democrats' Most Embarrassing ...\", u'Common Ground Healthcare co-op signs 8,000 members - Milwaukee ...', u'Insurance Co-Op in Wisconsin Backed by ObamaCare Advocates', u'After Obamacare Fails, What Comes Next? - Chattanoogan.com', u\"Obama's healthcare 'lie of the year' - BBC News\"]\n",
      "\n",
      "(2013, 12) mile away [u'New Affordable Care US health plans will exclude top hospitals', u'ObamaCare Facts: Facts on the Affordable Care Act', u'Inside the Race to Rescue a Health Care Site, and Obama - NYTimes ...', u'Obama signs up for troubled Obamacare, with little fanfare | The Daily ...', u'Obamacare deadline extended by one day - Dec. 22, 2013', u\"Kentucky's Obamacare Website Works, But Word Of Mouth Is What ...\", u'Remember all those Obamacare horror stories? Not looking so bad ...', u'Mississippi, Burned - Sarah Varney - POLITICO Magazine', u'How Obamacare Went South in Mississippi - The Atlantic', u\"ObamaCare's New Year's Day Surprise: Deep Cuts to Medicare ...\"]\n",
      "\n",
      "(2013, 12) common core state [u\"Why Common Core's roll-out is as bad as ObamaCare's (by Sandra ...\", u'Common Core Implementation Will Be Worse Than Obamacare', u'More States Push Back Against Common Core - The Daily Signal', u'First Obamacare, Now Obamacore, Part 2: Riveting Facts About ...', u'Five myths about the Common Core - The Washington Post', u'Common Core and Medicaid Expansion: Comparing Big Decisions by ...', u'Common Core education supporters want Obama administration to ...', u'UPDATED: ANTI-COMMON CORE RESOURCES LIST - FROM 12.11 ...', u'Articles: December 2013 Archives - American Thinker', u'HealthCare.gov - Wikipedia, the free encyclopedia']\n",
      "\n",
      "(2013, 12) miles away [u\"Lie of the Year: 'If you like your health care plan, you can keep it ...\", u'ObamaCare Facts: Facts on the Affordable Care Act', u'Obamacare deadline extended by one day - Dec. 22, 2013', u'Remember all those Obamacare horror stories? Not looking so bad ...', u'Inside the Race to Rescue a Health Care Site, and Obama - NYTimes ...', u'How Obamacare Went South In Mississippi | Kaiser Health News', u\"Kentucky's Obamacare Website Works, But Word Of Mouth Is What ...\", u'As an EPIC FAILURE, Obamacare is a Spectacular Success ...', u'How Obamacare Went South in Mississippi - The Atlantic', u'Obamacare \\u201cFail\\u201d Stories | Sharyl Attkisson']\n",
      "\n",
      "(2013, 12) miles day [u'Obamacare deadline extended by one day - Dec. 22, 2013', u'Obamacare website went down days before deadline - Dec. 20, 2013', u'Ticktock: Obamacare deadlines you need to know - CNBC.com', u\"I never thought I'd be an outlaw, but the Affordable Care Act might ...\", u'ObamaCare Exemptions List - Obamacare Facts', u'The Astronomical Hijinks of the Shortest Day of the Year - The Atlantic', u'My Travels in 2013 \\u2013 31 Presentations, 14 Cities, 51,000 Miles | Josh ...', u\"One Man's Quest to Sign Up for Obamacare | THCB\", u'Insurers adjust deadlines in response to HHS - USA Today', u'The Washington Monthly - Ten Miles Square - Archives']\n",
      "\n",
      "(2013, 12) miles headquarters [u'ObamaCare Website - ObamaCare Facts', u'ObamaCare Facts: Facts on the Affordable Care Act', u'HealthCare.gov - Wikipedia, the free encyclopedia', u'Questions? Call us at 1-800-318-2596 | HealthCare.gov', u'Obamacare Routes to Rationing - National Right to Life', u\"I never thought I'd be an outlaw, but the Affordable Care Act might ...\", u'How the Heritage Foundation Manufactured a New Obamacare Myth ...', u'The Washington Monthly - Ten Miles Square - Archives', u'How Obamacare Went South In Mississippi | Kaiser Health News', u'The Ohio Health Care Landscape | The Henry J. Kaiser Family ...']\n",
      "\n",
      "(2014, 1) zuma press seeded [u'Benefits Of ObamaCare: Advantage of ObamaCare - ObamaCare Facts', u'ObamaCare Dollar Limits - ObamaCare Facts', u'Obamacare Causes Millions to Lose Their Current Health Insurance', u'6 Insurance Companies Created Under Obamacare Collapsed', u'2016 Campaign Rhetoric Shakes Markets \\u2013 By GERALD F. SEIB ...', u'nomad | Aisle C', u'Florida Courier - July 04, 2014 by Central Florida Communicators ...', u'The Top 5 Best Blogs on 2015 oscars results - Notey', u'what do we believe? Belfast\\u2014s - Prospect Magazine', u'Military robot technology is entering the mainstream - Stars and Stripes']\n",
      "\n",
      "(2014, 1) january 2014 dustinsiggins [u'Media Change Definition of Abortion to Promote Obamacare ...', u'Benefits Of ObamaCare: Advantage of ObamaCare - ObamaCare Facts', u'ObamaCare Individual Mandate - ObamaCare Facts', u'Key Features of the Affordable Care Act By Year | HHS.gov', u'Obama admin. doubles down, demands nuns violate their conscience ...', u'January 2014 \\u2013 Nebraska Family Alliance', u'January | 2014 | wyandotcountyrightolife | Page 10', u'Keyword: mandate - Free Republic', u'News/Current Events (News/Activism) - Free Republic', u'Keyword: mandate - FreeRepublic']\n",
      "\n",
      "(2014, 1) january 6th [u'Money talks: January 6th 2014: Dollars and crafts | The Economist', u'Monday, January 6th: Obamacare and Me in NYC: What the ...', u\"The Note's Must-Reads for Monday, January 6, 2014 - ABC News\", u'06 \\u2013 January \\u2013 2014 \\u2013 CNN Political Ticker - CNN.com Blogs', u\"Obamacare's Employer Mandate Takes Effect: 5 Things to Know - Free ...\", u'ObamaCare in California - Counterpunch', u\"Obama's Numbers (January 2014 Update) - FactCheck.org\", u'January 2014 \\u2013 Verus Health Partners', u'Turner: Ten ObamaCare Predictions for 2014 - | National Review', u'Prison Planet.com \\xbb Search Results \\xbb obamacare']\n",
      "\n",
      "(2014, 1) january 3rd felt [u'January 3, 2014 This is Obamacare: New Year, New Coverage ...', u'Key Features of the Affordable Care Act | HHS.gov', u'Benefits Of ObamaCare: Advantage of ObamaCare - ObamaCare Facts', u'ObamaCare Stories: Real Life Stories on ObamaCare', u'Patient Protection and Affordable Care Act - Wikipedia, the free ...', u'Kaiser Health Tracking Poll: January 2014 | The Henry J. Kaiser ...', u'Is Obama Backing Away from Obamacare? - | National Review', u'Coming in January: Obamacare Rate Shock Part Two - ProPublica', u'Kevin Drum - January 2014 | Mother Jones', u'How Obamacare Affects Seniors - Senior Living']\n",
      "\n",
      "(2014, 1) january 29 [u'10 things you need to know today: January 29, 2014 - The Week', u'The Chart That Could Sink Obamacare - Forbes', u\"Ted Cruz's Pants on Fire claim that health care law is nation's 'biggest ...\", u'Obamacare open enrollment: What you need to know - CNN.com', u'ObamaCare | Health Insurance Exchange - ObamaCare Facts', u'Sign up for ObamaCare, Obama says | TheHill', u'Ex-Microsoft Exec Brings Lists And Whiteboard To Overhaul Of ...', u'Thursday, January 29, 2015 | Kaiser Health News', u'Patient Protection and Affordable Care Act - Wikipedia, the free ...', u'Articles: January 2014 Archives - American Thinker']\n",
      "\n",
      "(2014, 1) january 28th [u'Benefits Of ObamaCare: Advantage of ObamaCare - ObamaCare Facts', u'The Chart That Could Sink Obamacare - Forbes', u\"CNN's GUT CHECK for January 28, 2014 \\u2013 CNN Political Ticker ...\", u'28 \\u2013 January \\u2013 2014 \\u2013 CNN Political Ticker - CNN.com Blogs', u'Health Insurance Marketplace: January 2014 Enrollment Report | ASPE', u'Beyond Talking Points: How Obamacare is Saving My Family $33K a ...', u\"Getting lost in Obamacare's mazes | Center for Health Reporting\", u'Official: Health Secretary Resigning After Obamacare Criticism | fox8 ...', u'Top 10 facts every Illinoisan should know about ObamaCare and ...', u'SOTU FACT: ObamaCare Is Driving Up Costs for Middle-Class ...']\n",
      "\n",
      "(2014, 1) january 27 [u'Obamacare: What We Know Now | Cato Institute', u\"ObamaCare's insurance company bailout | New York Post\", u'Open Enrollment Week 7: December 27, 2014 \\u2013 January 2, 2015 ...', u'ObamaCare in Arrears - WSJ', u\"Obamacare's Cornhusker Nemesis - National Review Online\", u\"Obamacare's Cornhusker Nemesis - National Review\", u'Obamacare sign ups hit 9.5 million - Jan. 27, 2015 - CNN Money', u'Patient Protection and Affordable Care Act - Wikipedia, the free ...', u'January 2014 | Kowal Communications', u'Obamacare insurer bailout could cue up premium hikes before 2016 ...']\n",
      "\n",
      "(2014, 1) january 25 2014 [u'Benefits Of ObamaCare: Advantage of ObamaCare - ObamaCare Facts', u'Articles: January 2014 Archives - American Thinker', u'Blog: January 2014 Archives - American Thinker', u'How Obamacare Complicates the Filing of Your 2014 Tax Return ...', u'Key Features of the Affordable Care Act By Year | HHS.gov', u'Patient Protection and Affordable Care Act - Wikipedia, the free ...', u'Political Craps:  - Google Books Result', u'Most Recent Articles: January 2014 - Rasmussen Reports\\u2122', u'Insurers grant Obamacare enrollees grace period for January payments', u'Obamacare has a dental plan! | Fellowship of the Minds']\n",
      "\n",
      "(2014, 1) january 2017 [u'ObamaCare Individual Mandate - ObamaCare Facts', u'ObamaCare Open Enrollment - ObamaCare Facts', u'Health Care Reform Timeline - ObamaCare Facts', u'Benefits Of ObamaCare: Advantage of ObamaCare - ObamaCare Facts', u'Official Marketplace Dates And Deadlines | HealthCare.gov', u'Open Enrollment Period - HealthCare.gov Glossary | HealthCare.gov', u'Affordable Care Act will deliver a big surprise in 2017: Stephen ...', u'Summary of the Affordable Care Act | The Henry J. Kaiser Family ...', u'Opinion: Obamacare pain will hit in 2017', u'Worse to come for Obamacare in 2017 - In the News: Blog - Ron ...']\n",
      "\n",
      "(2014, 1) january 2014 information [u'Benefits Of ObamaCare: Advantage of ObamaCare - ObamaCare Facts', u'ObamaCare Individual Mandate - ObamaCare Facts', u'Key Features of the Affordable Care Act By Year | HHS.gov', u'Key Features of the Affordable Care Act | HHS.gov', u'Kaiser Health Tracking Poll: January 2014 | The Henry J. Kaiser ...', u'Summary of the Affordable Care Act | The Henry J. Kaiser Family ...', u'How Obamacare Complicates the Filing of Your 2014 Tax Return ...', u'Affordable Care Act | Medicaid.gov', u'Patient Protection and Affordable Care Act - Wikipedia, the free ...', u'Facts about your taxes & the Affordable Care Act | TaxACT\\xae']\n",
      "\n",
      "(2014, 2) zurich [u'Missed Deadline for ObamaCare - ObamaCare Facts', u'ObamaCare News: Daily ObamaCare Updates - ObamaCare Facts', u'Important 2014 Obamacare Open-Enrollment Deadlines - HealtheDeals', u'Effects of a Minimum-Wage Increase on Employment and Family Income', u'Iowa Health Insurance | Find the best Iowa health plan for you | US News', u'Credit Suisse CEO fights back on tax evasion claims | Reuters', u'News Article Archive from February 10, 2014 - Wsj.com', u'Is pet insurance zurich insurance group | www.blogjobboard.com', u'2014 - Members - SANAS (Swiss Association for North American ...', u'World History Timeline, 2014, February']\n",
      "\n",
      "(2014, 2) incur [u'Missed Deadline for ObamaCare - ObamaCare Facts', u'Obamacare: The Final Payment--Raiding the Assets of Low-Income ...', u'US Citizens Abroad and OBAMACARE \\u2013 UPDATED August 1 2015 ...', u'65% of firms will pay higher premiums under Obamacare - Feb. 25, 2014', u'How Obamacare Raids the Assets of Low-Income Older Americans ...', u'Will you owe a penalty under Obamacare? - HealthInsurance.org', u'Health insurance marketplace - Wikipedia, the free encyclopedia', u'Obamacare: the Final Payment - Counterpunch', u'What is a Health Care Reform Tax Penalty [Calculator]? | The ...', u'Obamacare Deadline Extended to March 31 | TIME.com']\n",
      "\n",
      "(2014, 2) incumbent rep [u'February | 2014 | Tea Party Express', u'No, seriously, this time Republicans are serious about an Obamacare ...', u'United States House of Representatives elections in Pennsylvania ...', u\"New Hampshire's 2nd Congressional District elections, 2014 ...\", u'Democrats Run Away From Obamacare | TIME', u'Commerce in Action \\u2014', u'Sean Hannity says every new GOP senator wants to repeal and ...', u'February | 2014 | The ELLIS Insight', u'Jeanne Ives, candidate for IL State Representative, 42nd District ...', u'More Obamacare Critics Fall Out of Favor With Ohio GOP']\n",
      "\n",
      "(2014, 2) incumbent reelection aspiring [u\"CNN's GUT CHECK for February 10, 2014 \\u2013 CNN Political Ticker ...\", u\"The Note's Must-Reads for Tuesday, February 11, 2014 - ABC News\", u'The Lawless Presidency | Frontpage Mag', u'ObamaCare News: Daily ObamaCare Updates - ObamaCare Facts', u'ObamaCare 2014 Midterms - Obamacare Facts', u'ObamaCare | Health Insurance Exchange - ObamaCare Facts', u\"The Old Jarhead: Today's Political News\", u'Krebs Daily Briefing 11 February 2014 | Thomas Krebs', u'The Rise and Fall of the U.S. Government by John J. Dilulio Jr. | The ...', u'News/Current Events (News/Activism) - Free Republic']\n",
      "\n",
      "(2014, 2) incumbent reelection [u'United States Congress elections, 2014 - Ballotpedia', u'United States Senate elections, 2014 - Ballotpedia', u'Congress has 11% approval ratings but 96% incumbent reelection ...', u\"Obamacare's Rocky Rollout Improves Republicans' 2014 Outlook on ...\", u'United States Senate elections, 2014 - Wikipedia, the free encyclopedia', u'United States elections, 2014 - Wikipedia, the free encyclopedia', u\"Kay Hagan's Re-Election Campaign Gets Off To A Rocky Start | GOP\", u'Reelection Rates Over the Years | OpenSecrets', u\"CNN's GUT CHECK for February 10, 2014 \\u2013 CNN Political Ticker ...\", u\"Harry Reid calls Koch brothers 'un-American' over Obamacare ads ...\"]\n",
      "\n",
      "(2014, 2) incumbent gov [u'February 2014 | HealthCare.gov', u'Maryland gubernatorial election, 2014 - Wikipedia, the free encyclopedia', u'HealthCare.gov - Wikipedia, the free encyclopedia', u'Gubernatorial Debates 2014 - OnTheIssues.org', u'The Affordable Care Act is Working | HHS.gov', u'United States Senate elections, 2014 - Ballotpedia', u'February 2014 Archives - Journal Politics', u'February \\u2013 2014 \\u2013 RRH Elections - Page 2', u'How Ohio Gov. John Kasich Might Spend Another Four Years in Office ...', u'SARAH PALIN BLOG: February 2014']\n",
      "\n",
      "(2014, 2) incubator [u'The Startups Saving Health Care | Inc.com', u'Missed Deadline for ObamaCare - ObamaCare Facts', u\"Obamacare: IT'S NOT WORKING. | Real reform, not more government!\", u'Restaurants charging Obamacare fee - Feb. 27, 2014 - CNN Money', u'65% of firms will pay higher premiums under Obamacare - Feb. 25, 2014', u'The neoliberal restructuring of healthcare in the US | International ...', u\"'Obamacare' will reduce US workforce, report finds - BBC News\", u'Business Incubator to Boost Entrepreneurship on Pine Ridge - ICTMN ...', u'February | Now | Drexel University', u'The Wake County Taxpayers Association Newsletter February 2014 ...']\n",
      "\n",
      "(2014, 2) incriminating [u'Missed Deadline for ObamaCare - ObamaCare Facts', u\"I'm quitting my job. Thanks Obamacare! - Feb. 25, 2014 - CNN Money\", u'Restaurants charging Obamacare fee - Feb. 27, 2014 - CNN Money', u'February | 2014 | Las Vegas Valley Tea Party', u'February \\u2013 2014 \\u2013 The Libusters Line - Libusters.com', u'February 2014 Archives | 11/17 | Human Events', u'Newest Koch-Funded Obamacare Attack Ad Features Biggest Lies Yet ...', u'February | 2014 | The Weekly Sift | Page 3', u'polecat news and views: February 2014', u'WaPo factchecks Obama on ObamaCare, election message in post ...']\n",
      "\n",
      "(2014, 2) increasingly unpopular [u'Why is Obamacare so controversial? - BBC News - BBC.com', u'Obama Apologists Slam Lawless ObamaCare Rewrites', u\"Year Six of the Affordable Care Act: Obamacare's Mounting Problems\", u'Matt Grossmann on Twitter: \"Obamacare still unpopular but public ...', u\"Oh, Look, Obamacare's Unpopular Again. Jim Geraghty April 10, 2014\", u'Majority of Americans Still Disapprove of Healthcare Law - Gallup', u'Con: Obamacare is unpopular and expensive | PennLive.com', u'ObamaCare News: Daily ObamaCare Updates - ObamaCare Facts', u\"Hillary Clinton on repealing Obamacare: 'Not on my watch ... - CNN.com\", u'The Only Ones Who Misunderstand ObamaCare More than Its ...']\n",
      "\n",
      "(2014, 2) increasingly lawless [u'Obama Apologists Slam Lawless ObamaCare Rewrites', u'Obama Rewrites ObamaCare - WSJ', u\"WSJ Editorial: 'Lawless Rewrite' Proves Obamacare Hurts Economy\", u'Paul Ryan: Obama presidency \"increasingly lawless\" - CBS News', u\"Rep. Paul Ryan: Obama Presidency 'Increasingly Lawless' - ABC News\", u'Paul Ryan: \"We Have An Increasingly Lawless Presidency\" | Video ...', u'Marc Thiessen: How Obamacare killed immigration reform - The ...', u'Lawless: Treasury throws unauthorized $3 billion to insurers under ...', u'February | 2014 | The Conservative Libertarian | Page 2', u\"Lawless: The Obama Administration's Unprecedented Assault on the ...\"]\n",
      "\n",
      "(2014, 3) liberals conservatives [u'Why is Obamacare so controversial? - BBC News - BBC.com', u\"Poll: Only Republicans and conservatives say Obamacare is 'too liberal'\", u'Obamacare: conservative logic versus liberal facts - Liberal Bias', u\"Paul Krugman: \\u201cObamacare IS the conservative alternative\\u201d - PNHP's ...\", u'ObamaCare - Conservapedia', u\"The Real Numbers On 'The Obamacare Effect' Are In-Now Let The ...\", u'Patient Protection and Affordable Care Act - Wikipedia, the free ...', u'Stop Calling Obama a Liberal | The Progressive Cynic', u'Obamacare | Liberal Quote Database - Left of the Mark', u'Liberals Show Their Cognitive Dissonance \\u2013 Attacks Against Matt ...']\n",
      "\n",
      "(2014, 3) military presence [u'Why is Obamacare so controversial? - BBC News - BBC.com', u'Obamacare Extension Ends: The Tax Penalty and You | Military.com', u\"Here's What Happens If You Don't Sign Up For Obamacare - Business ...\", u\"Obamacare's Exchanges Fall Well Short of Enrollment Target\", u\"Don't get spun by Internet rumors. - FactCheck.org\", u'Budget experts: Move Tricare beneficiaries to Obamacare', u'Obamacare Penalties: 3 Things to Know Before 2014 - The Motley Fool', u'Inside China: Long march to Africa - Washington Times', u\"The Note's Must-Reads for Monday, March 31, 2014 - ABC News\", u\"ACA \\u2013 Obamacare's Effects on American Expats Living Abroad ...\"]\n",
      "\n",
      "(2014, 3) comes home [u'Why is Obamacare so controversial? - BBC News - BBC.com', u'ObamaCare Facts: Facts on the Affordable Care Act', u'ObamaCare | Health Insurance Exchange - ObamaCare Facts', u'Patient Protection and Affordable Care Act - Wikipedia, the free ...', u\"The House has voted 54 times in four years on Obamacare. Here's the ...\", u'Decision To Waive Obamacare Rules On Small Business Health ...', u'Key Features of the Affordable Care Act | HHS.gov', u\"'Obamacare' health reforms come into force in US - BBC News\", u'Are most Obamacare sign-ups people who had insurance before ...', u'Four Years of Obamacare: Early Warnings Come True - Heritage ...']\n",
      "\n",
      "(2014, 3) military spending pentagon [u'Budget experts: Move Tricare beneficiaries to Obamacare', u\"Sequestration's Impact on Military Spending, 2013 \\u2013 2014\", u\"China's Military Budget Rises as Pentagon's Retreats | The Fiscal Times\", u'With $8.5 Trillion Unaccounted for, Why Should Congress Increase the ...', u'pentagon Archives - Global Campaign on Military Spending', u'Articles about Military Spending - latimes', u'2014 United States federal budget - Wikipedia, the free encyclopedia', u\"China's military spending: At the double - The Economist\", u'military spending \\xab WORDVIRUS', u'Rand Paul Proposes Boosting Defense Spending | TIME']\n",
      "\n",
      "(2014, 3) military ukraine [u'Articles from March, 2014 | PunditFact - PolitiFact', u'March | 2014 | New York Analysis of Policy and Government', u'Putin ends army exercise, Russian markets rally - CNBC.com', u\"Russian Jets Called 'More Aggressive' Than During Cold War\", u\"Volunteer Battalion Prepares to Defend Ukraine's Capital\", u'Annexation of Crimea by the Russian Federation - Wikipedia, the free ...', u'Russian military intervention in Ukraine (2014\\u2013present) - Wikipedia ...', u'Blog: March 2014 Archives - American Thinker', u'Articles: March 2014 Archives - American Thinker', u'Headlines for March 28, 2014 | Democracy Now!']\n",
      "\n",
      "(2014, 3) comes future [u'Why is Obamacare so controversial? - BBC News - BBC.com', u'ObamaCare Facts: Facts on the Affordable Care Act', u'Health Care Reform Timeline - ObamaCare Facts', u'Four Years of Obamacare: Early Warnings Come True - Heritage ...', u\"The Real Numbers On 'The Obamacare Effect' Are In-Now Let The ...\", u'Eight Experts Predict How Obamacare Will Fare in 2014 | New Republic', u'Feds give 2-year grace period for non-Obamacare plans - CNBC.com', u'Ticktock: Obamacare deadlines you need to know - CNBC.com', u'Patient Protection and Affordable Care Act - Wikipedia, the free ...', u'Obamacare Facts - Facts About The Affordable Care Act']\n",
      "\n",
      "(2014, 3) millennial americans [u'How Much Does Obamacare Rip Off Young Adults? We Ran The ...', u'Obamacare Enrollment Over 4 Million, Still Missing Critical Millennials ...', u'Millennials Give Obamacare a Big Boost in Poll | The Fiscal Times', u\"Health Care 101: The Complete Rundown Of Obamacare You've - Mic\", u'Millennials on Obamacare: what do you mean, affordable? | Money ...', u\"The Hidden Costs of ObamaCare's Millennial Mandate | Cato @ Liberty\", u'Tweets, hashtags and virality: Marketing the Affordable Care Act in ...', u'3.6 Million Millennials Gained Health Insurance in 2014 | Center for ...', u'Americans Stick With Obamacare As Opposition Burns Bright ...', u'Mar 7, 2014 Millennials in Adulthood - Pew Research Center: Social ...']\n",
      "\n",
      "(2014, 3) comers [u'Why is Obamacare so controversial? - BBC News - BBC.com', u'Missed Deadline for ObamaCare - ObamaCare Facts', u'The Longest Wait: Maryland Residents Wait in Line for Last-Ditch ...', u'From October 2013: \\u201cThe Obamacare implosion is worse than you ...', u'How Will We Know if Obamacare Worked? | Equities.com', u'Obamacare Enrollment Crucial in Final Two Weeks Before Deadline ...', u'Healthcare Solutions for Post-Obamacare America - Independent ...', u\"Tea Party Patriots | Beyonc\\xe9's Obamacare Pitch Won't Give You A Job\", u'H ealth Policy Outlook - American Enterprise Institute', u'AETNA CEO Suggests Whopping Health Insurance Increases in 2014 ...']\n",
      "\n",
      "(2014, 3) millennials 2014 [u'Obamacare Enrollment Over 4 Million, Still Missing Critical Millennials ...', u'How Much Does Obamacare Rip Off Young Adults? We Ran The ...', u'Millennials on Obamacare: what do you mean, affordable? | Money ...', u\"Millennials Share Why They Aren't Signing Up for ObamaCare | Fox ...\", u\"ObamaCare and America's youth -- why lessons of 2014 will last a ...\", u'Tweets, hashtags and virality: Marketing the Affordable Care Act in ...', u'Fox Would Prefer Millennials Go Without Health Insurance To ...', u'4 Reasons The Pew Millennials Report Should Worry Democrats, Too ...', u'Millennials Give Obamacare a Big Boost in Poll | The Fiscal Times', u'Reince Priebus: Obamacare will drive Millennials to GOP creating a ...']\n",
      "\n",
      "(2014, 3) millennials 2014 slogging [u'Obamacare Enrollment Over 4 Million, Still Missing Critical Millennials ...', u'How Much Does Obamacare Rip Off Young Adults? We Ran The ...', u'3.6 Million Millennials Gained Health Insurance in 2014 | Center for ...', u'In Defense of Millennials and Individualism - Reason.com', u'Obama Administration Targets Skeptical Millennials to Keep ...', u'Promote Yourself: The New Rules For Career Success - Dan Schawbel', u'News | Young Invincibles | Page 58', u'Obamacare is based on a pack of lies - Akdart.com', u'the 2016 joint economic report - Joint Economic Committee - US Senate', u'Executive Coach - Management - GovExec.com']\n",
      "\n",
      "(2014, 4) zuma [u'ObamaCare Facts: Facts on the Affordable Care Act', u'ObamaCare Enrollment Numbers - ObamaCare Facts', u'Obamacare hits goal with 7.1 million sign-ups, President says ...', u\"4 Facts That Prove Obamacare Isn't Aging Well - The Daily Signal\", u\"Obamacare's Exchanges Fall Well Short of Enrollment Target\", u'Heartbleed virus spills over to Obamacare enrollees 20 April 2014 ...', u\"Hobby Lobby's Hypocrisy: The Company's Retirement Plan Invests in ...\", u'Jacob Zuma | Michael Minkoff, Jr.', u'SABC News.com - Obamacare enrolment exceeds 7 million target ...', u'Speaker Audio and Transcripts - 2014 | National Press Club']\n",
      "\n",
      "(2014, 4) distaste [u\"ObamaCare's 2014 Report Card? Preaching Patience \\u2014 to ...\", u'Is Obamacare A Real-World Success In Year One? - The Federalist', u'ObamaCare Special Enrollment Period - ObamaCare Facts', u'ObamaCare Deficit and Debt - Obamacare Facts', u'How Good Is Obamacare Now: 2016 First Semester Grades', u'ObamaCare Horror Stories Continue | GOP', u'Obamacare Is Widening the Gap Between \"Red\" and \"Blue\" America ...', u'Americans Remain Negative Toward Healthcare Law - Gallup', u\"Maryland's Obamacare Stumble Fails To Sway Governor's Race : It's ...\", u'The implementation of Obamacare: Bill of health | The Economist']\n",
      "\n",
      "(2014, 4) officer mozilla [u'Mozilla CEO Brendan Eich Resigns Amid Protests Over Prop 8 Donation', u\"Obama's IRS leaked Mozilla CEO's pro-traditional marriage Prop 8 ...\", u'ObamaCare Special Enrollment Period - ObamaCare Facts', u'Mozilla Takes Up Fight for Privacy Against the Feds \\u2013 Voices of Liberty', u\"Gay marriage, Mozilla's Brendan Eich, and the role of a CEO - latimes\", u'April | 2014 | The Weekly Sift | Page 2', u'April 2014 | Page 29 of 33 | RedState', u'CEOs Behaving Badly - Doug Swanson, Ed.D APR', u'Final Obamacare Deadline Is April 15 | TIME', u'Kaiser Health Tracking Poll: April 2014 | The Henry J. Kaiser Family ...']\n",
      "\n",
      "(2014, 4) officer executive [u'Healthcare players see more changes coming to Obamacare | Reuters', u'70 Changes to ObamaCare\\u2026 \\u2014 So Far | Galen Institute', u'ObamaCare Horror Stories Continue | GOP', u'Patient Protection and Affordable Care Act - Wikipedia, the free ...', u'Joint Subcommittee Hearing to Examine Problems with ObamaCare ...', u'Obama touts high healthcare enrolment after deadline - BBC News', u\"Obamacare's Exchange Signups, Expanded Medicaid Boost Aetna ...\", u'Apr 17, 2014 Despite Early ACA Costs, UnitedHealth Will ... - Forbes', u'ObamaCare News: Daily ObamaCare Updates - ObamaCare Facts', u\"Barriers Remain Despite Health Law's Push To Expand Access To ...\"]\n",
      "\n",
      "(2014, 4) officer company [u'Does Obamacare Limit Profits for Health Insurance Companies in ...', u'ObamaCare News: Daily ObamaCare Updates - ObamaCare Facts', u'ObamaCare Special Enrollment Period - ObamaCare Facts', u'Obamacare will cost large employers over $5k per employee | The ...', u'Health insurance marketplace - Wikipedia, the free encyclopedia', u'ACA Employer Mandates and Potential Liability Issues - The D&O Diary', u'April | 2014 | WGA InsureBlog', u'H&R Block to see Obamacare boost: CEO | Reuters', u'70 Changes to ObamaCare\\u2026 \\u2014 So Far | Galen Institute', u'ObamaCare Horror Stories Continue | GOP']\n",
      "\n",
      "(2014, 4) office told [u'Remarks by the President on the Affordable Care Act | whitehouse.gov', u'ObamaCare Facts: Facts on the Affordable Care Act', u'Obamacare hits goal with 7.1 million sign-ups, President says ...', u'The Latest Problem With Obamacare Could Cost You - Forbes', u\"Marco Rubio: We 'wiped out' Obamacare 'bailout fund' for insurance ...\", u'Rubio says health care law fell short of goal for 30 million signups ...', u\"4 simple (and objective) ways to tell if Obamacare is 'working' - AEI\", u'Obamacare Penalties: 3 Things to Know Before 2014 - The Motley Fool', u'Obamacare Processing Center In Missouri Paid 13,000 Hours Of ...', u'Another Delay: Open Enrollment Obamacare Deadline Will Be Pushed ...']\n",
      "\n",
      "(2014, 4) office space [u'Rove PAC says Obamacare cuts $1,700 from Medicare benefits in ...', u'ObamaCare Facts: Facts on the Affordable Care Act', u'Remarks by the President on the Affordable Care Act | whitehouse.gov', u'What You Need To Know About Taxes In 2014: Expired Tax Breaks ...', u'Obamacare Is the Picture of Health - Newsweek', u'Obamacare Packing Medical Offices Spurs Deal Surge - Bloomberg', u'Medical Facilities in the Age of Obamacare - Urban Land Magazine', u'Final Obamacare Deadline Is April 15 | TIME', u'Office Space 2014 | Business in Vancouver', u'Why Republicans Will Vote to Repeal Obamacare, but Not on How to ...']\n",
      "\n",
      "(2014, 4) office says [u'Updated Estimates of the Effects of the Insurance Coverage Provisions ...', u'Updated Estimates - Congressional Budget Office', u'Remarks by the President on the Affordable Care Act | whitehouse.gov', u'Obamacare hits enrollment goal with 7.1 million sign-ups, President says', u'Rubio says health care law fell short of goal for 30 million signups ...', u\"The federal health care law: What came true and what didn't | PolitiFact\", u'CBO: Obamacare Will Cover More People at a Lower Cost Than We ...', u'ObamaCare Facts: Facts on the Affordable Care Act', u'ObamaCare Deficit and Debt - Obamacare Facts', u'Obamacare To Cost Far Less Than Estimated, Budget Office Says']\n",
      "\n",
      "(2014, 4) disseminated [u'ObamaCare Facts: Facts on the Affordable Care Act', u'ObamaCare Enrollment Numbers - ObamaCare Facts', u'Health insurance marketplace - Wikipedia, the free encyclopedia', u'Summary of the Affordable Care Act | The Henry J. Kaiser Family ...', u'Congrats to the Heritage Foundation on Making Obamacare Work ...', u'Hillary lauds Obamacare for improving lives', u'Archive for April 2013 - Industry News - Sigma II', u\"Pentlan, A. (2013, February 3). How to Solve Obamacare's You by ...\", u'30 | April | 2014 | News Corpse', u'28 Facts About Affordable Healthcare Act Open Enrollment ...']\n",
      "\n",
      "(2014, 4) office people [u'Updated Estimates of the Effects of the Insurance Coverage Provisions ...', u'Updated Estimates - Congressional Budget Office', u\"Obama's Numbers (April 2014 Update) - FactCheck.org\", u'Enrollment in the Health Insurance Marketplace totals over 8 million ...', u'Health Insurance Marketplace: Summary Enrollment Report For the ...', u'Obamacare hits goal with 7.1 million sign-ups, President says ...', u'CBO Obamacare Report: How Many People Are Insured - Business ...', u'ObamaCare Facts: Facts on the Affordable Care Act', u'ObamaCare Enrollment Numbers - ObamaCare Facts']\n",
      "\n",
      "(2014, 5) lefties [u\"Patterico's Pontifications \\xbb Lefties Totally Goof Up Story on Matt ...\", u'Hobby Lobby beat Obamacare and now the lefties want to burn it ...', u'Warning: More Good Obamacare News Reported Here-May Not Be ...', u\"Flashback: Democrats Argue VA's Success is Proof Obamacare Will ...\", u\"Those Who Label Obamacare 'Not Liberal Enough' Don't Necessarily ...\", u'\\u201cThe most important money-in-politics race this year\\u201d: Why lefty Tea ...', u'Republicans - post your personal Obamacare Horror Story here ...', u'Our First Year on Obamacare | Thom Hartmann', u'Left-Handed People May Be More Likely To Earn Less Than Their ...', u'ObamaCare Facts: Facts on the Affordable Care Act']\n",
      "\n",
      "(2014, 5) induce [u'How Obamacare Fuels Health Care Market Consolidation', u\"Obamacare's Anti-Conscience and Contraception Mandate at the ...\", u'Health insurance marketplace - Wikipedia, the free encyclopedia', u\"My family's ObamaCare nightmare, continued | New York Post\", u'ObamaCare Facts: Facts on the Affordable Care Act', u'ObamaCare Birth Control - Obamacare Facts', u'Health Care Facts: Why We Need Health Care ... - ObamaCare Facts', u'Report: Rural Hospitals Struggle Under Obamacare ... - Newsmax.com', u'Democrats Induce Panic To Raise Money Before 2014 Election: \\u201cAll ...', u\"Why Obamacare can't lower costs | Physicians for a National Health ...\"]\n",
      "\n",
      "(2014, 5) indonesian [u'Obamacare Emergency Room Visits Study - Business Insider', u'Obamacare Enrollments By State - Business Insider', u'ObamaCare Facts: Facts on the Affordable Care Act', u'Can I Keep My Health Care Plan Under Obamacare?', u\"Edelman Indonesia | Medical Tourism in Southeast Asia: Indonesia's ...\", u\"Indonesia's May inflation seen easing to weakest in seven years ...\", u'How ACA (Obamacare) Affects Americans Living Abroad | Americans ...', u'Explosive Eruption at Sangeang Api in Indonesia | WIRED', u'NEIL KEENAN UPDATE | Updated No-Fly List, The Interview Circuit ...', u'6 key Obamacare dates to watch for in 2014 - CBS News']\n",
      "\n",
      "(2014, 5) indoctrination [u'Cass Sunstein: Chinese student indoctrination study may be an ...', u'ObamaCare Facts: Facts on the Affordable Care Act', u'Health Care Archives - Obamacare.net', u'The Untold History of Modern U.S. Education: The Founding Fathers ...', u'Under what conditions, if ever, is indoctrination a good or positive ...', u'On The Move with Mack Worley: The Joys Of Liberal Indoctrination ...', u'Obamacare premiums for 2015 begin to roll out - CNBC.com', u'SPLC report: Extremist propaganda is distorting the debate over the ...', u'Indoctrination, not education on college campuses | Illinois ...', u'Common Core Questions. This Is Scary Folks. | Fellowship of the Minds']\n",
      "\n",
      "(2014, 5) individuals need [u\"Individual Mandate Penalty You Pay If You Don't Have Health ...\", u'ObamaCare Facts: Facts on the Affordable Care Act', u'ObamaCare Enrollment Numbers - ObamaCare Facts', u'ObamaCare Short Coverage Gap Exemption - Obamacare Facts', u'Questions and Answers on the Individual Shared Responsibility ...', u'Individual Shared Responsibility Provision \\u2013 Exemptions: Claiming or ...', u'How Obamacare Complicates the Filing of Your 2014 Tax Return ...', u'How many people had signed up for Obamacare by May 2014? - 6 ...', u'US Citizens Abroad and OBAMACARE \\u2013 UPDATED August 1 2015 ...', u'Health insurance marketplace - Wikipedia, the free encyclopedia']\n",
      "\n",
      "(2014, 5) individualism [u'Obamacare and the American Cult of Individualism | That Devil History', u\"Obamacare's Atomistic Individualism | Cato @ Liberty - Cato Institute\", u\"The 'Obamacare' challenge to American individualism | openDemocracy\", u'ObamaCare Facts: Facts on the Affordable Care Act', u'Rugged Individualism Is Exactly The Wrong Case For Obamacare ...', u'The newish ACA (Obamacare) regulation you may be breaking right ...', u'Individualism: The Only Basis of Freedom in Medicine | Capitalism ...', u'Atheism for Christians: Are There Lessons for the Religious World ...', u'An Objectivist Individualist: May 2014', u'You are what you eat | The Economist']\n",
      "\n",
      "(2014, 5) individual rights [u'Benefits Of ObamaCare: Advantage of ObamaCare - ObamaCare Facts', u'ObamaCare Facts: Facts on the Affordable Care Act', u'ObamaCare Individual Mandate - ObamaCare Facts', u'Rights & Protections | HealthCare.gov', u'Key Features of the Affordable Care Act By Year | HHS.gov', u'Obamacare Basics: Understanding the Affordable Care Act', u'Questions and Answers on the Individual Shared Responsibility ...', u'Employer Health Care Arrangements - IRS.gov', u'Another Glitch: How Some Americans Could Miss Out On Obamacare ...', u'Health insurance marketplace - Wikipedia, the free encyclopedia']\n",
      "\n",
      "(2014, 5) individual members [u'Health insurance marketplace - Wikipedia, the free encyclopedia', u'ObamaCare Individual Mandate - ObamaCare Facts', u'ObamaCare Exemptions List - Obamacare Facts', u'Questions and Answers on the Individual Shared Responsibility ...', u'How Many People Signed Up For Obamacare? - Business Insider', u'ACASignups.net | Tracking Enrollments for the Affordable Care Act ...', u'Health Insurance Marketplace: Summary Enrollment Report For the ...', u'Enrollment in the Health Insurance Marketplace totals over 8 million ...', u'Exemptions from the fee for not having coverage | HealthCare.gov', u'WHO | Challenges facing the United States of America in ...']\n",
      "\n",
      "(2014, 5) individual market [u'Data Note: How Has the Individual Insurance Market Grown Under the ...', u'Health insurance marketplace - Wikipedia, the free encyclopedia', u'3,137-County Analysis: Obamacare Increased 2014 Individual-Market ...', u'Health Insurance Marketplace: Summary Enrollment Report For the ...', u'Private Health Plans Outside the Marketplace - ObamaCare Facts', u'ObamaCare Facts: Facts on the Affordable Care Act', u'Employer Health Care Arrangements - IRS.gov', u'ACASignups.net | Tracking Enrollments for the Affordable Care Act ...', u'Frequently Asked Questions - The Affordable Care Act Implementation ...', u'Implementing Health Reform: A Summary Health Insurance ...']\n",
      "\n",
      "(2014, 5) individual liberty rule [u'ObamaCare Facts: Facts on the Affordable Care Act', u'ObamaCare Health Insurance Rules, Regulations and Standards', u'ObamaCare Mandate: Exemption and Tax Penalty - ObamaCare Facts', u'Obamacare and the Rule of Law | Cato @ Liberty - Cato Institute', u'Archives for May 2014 | United Liberty | Free Market - Individual ...', u\"ObamaCare's Secret Mandate Exemption - WSJ\", u\"Supreme Court upholds Obama's health-care law - The Washington Post\", u'Patient Protection and Affordable Care Act - Wikipedia, the free ...', u'Obamacare Penalties: 3 Things to Know Before 2014 - The Motley Fool', u'4 Years of Obamacare: Promises, Predictions, and Early Warnings ...']\n",
      "\n",
      "(2014, 6) zuckerberg jones [u\"How Obama Lied About Obamacare \\xbb Alex Jones' Infowars: There's a ...\", u'Obamacare Could Have Turned Millions of Uninsured ... - Mother Jones', u\"20 Obamacare Stats Republicans Don't Want You to See | Mother Jones\", u'FWD.us - Wikipedia, the free encyclopedia', u'Alex Jones: Facebook and the government are trying to frame the Las ...', u'Is Your Health Insurance Unaffordable Under Obamacare? Common ...', u'Mortimer Zuckerman: The Full-Time Scandal of Part-Time America - WSJ', u\"The Ron Paul Institute for Peace and Prosperity : Obamacare's Best ...\", u'Forbes', u'www.oreilly-sucks.com - The Real No Spin Zone']\n",
      "\n",
      "(2014, 6) dramatic reductions [u'Study: Obamacare Reduces Uninsured Rate Dramatically - Business ...', u'Uninsured rates drop dramatically under Obamacare - USA Today', u'Obamacare Effect Linked to Lower Medical Cost Estimates - Bloomberg', u'The Affordable Care Act is Working | HHS.gov', u'The ACA, Obamacare, Has Reduced US GDP By 5% - Forbes', u'3,137-County Analysis: Obamacare Increased 2014 Individual-Market ...', u'ObamaCare Myths: Myths About the Affordable Care Act', u'ACA Impact on Per Capita Cost of Health Care - FactCheck.org', u'How Obamacare Fuels Health Care Market Consolidation', u'Has Obamacare Resulted in More People Overall with Health ...']\n",
      "\n",
      "(2014, 6) draw conclusions [u\"The real reason CBO won't re-score Obamacare - Vox\", u'ObamaCare Enrollment Numbers - ObamaCare Facts', u'Obamacare overview - Ballotpedia', u'The Affordable Care Act at 5 Years \\u2014 NEJM', u\"Obamacare's Enrollment Increase: Mainly Due to Medicaid Expansion\", u'ER Hospital Visits Mounting Because of Obamacare, Studies Show', u'Page seven of Articles with \"Obamacare\" tag on COMMUNITY ...', u'Obamacare Will Increase Health Spending By $7,450 For A Typical ...', u'Opinion: When will we get the verdict on Obamacare? - CNN.com', u\"Maybe Obamacare Didn't Save The U.S. Economy After All\"]\n",
      "\n",
      "(2014, 6) draw attention [u'Patient Protection and Affordable Care Act - Wikipedia, the free ...', u\"The real reason CBO won't re-score Obamacare - Vox\", u'Financial health shaky at many Obamacare insurance co-ops - The ...', u\"Obamacare's Enrollment Increase: Mainly Due to Medicaid Expansion\", u'How Obamacare has faced five years of constitutional challenges', u'Hillary Clinton wants 2014 Democrats to run on Obamacare \\u2013 CNN ...', u'ObamaCare Enrollment Numbers - ObamaCare Facts', u'ObamaCare News: Daily ObamaCare Updates - ObamaCare Facts', u'ObamaCare Facts: Facts on the Affordable Care Act', u'Karl Rove: How to Run Against ObamaCare - WSJ']\n",
      "\n",
      "(2014, 6) onstage [u'Since Obamacare Passed 50 Months Ago, Healthcare Has Gained ...', u'ObamaCare Facts: Facts on the Affordable Care Act', u'ObamaCare News: Daily ObamaCare Updates - ObamaCare Facts', u\"Recap of the Republicans' debate on ISIS, immigration and Obamacare\", u'Gigaom | Feds give Amazon cloud the nod for Obamacare application', u'Keyword: Obamacare | The Texas Politics Project', u\"How John Kasich Became the GOP's Top Obamacare Cheerleader\", u'The Woman Who Has 13 Months to Bolster Obamacare - Newsmax.com', u'obama | Search Results | fox8.com | Page 2', u'How Obamacare has faced five years of constitutional challenges']\n",
      "\n",
      "(2014, 6) draper [u\"Your health insurance policy has been cancelled- is it Obamacare's ...\", u'Obamacare Archives - The Daily Dose - Denver Post Blogs', u'Since Obamacare Passed 50 Months Ago, Healthcare Has Gained ...', u'ObamaCare Facts: Facts on the Affordable Care Act', u'ObamaCare Enrollment Numbers - ObamaCare Facts', u'Low Hispanic Participation in Obamacare in Draper - mBenefits', u'Cancer Survivor Told No Doctor Within 400 Miles Accepts Obamacare', u'ObamaCare Co-ops: Cause C\\xe9l\\xe8bre or Costly ... - Galen Institute', u'ObamaCare Co-ops - American Enterprise Institute', u'Colorado Health Insurance COOP Closed | Health Policy Blog | NCPA ...']\n",
      "\n",
      "(2014, 6) oops [u\"Oops, Maybe ObamaCare's Cost Controls Won't Work after All | Cato ...\", u\"Labor Watch: The Obamacare 'Oops!': Unions got the healthcare ...\", u'Coverage Expansion Success: Nearly Sixty Percent Of Obamacare ...', u'Questions and confusion as Obamacare approaches second year ...', u'Obamacare and Mental Health by Kyle Sharpe on Prezi', u'ObamaCare News: Daily ObamaCare Updates - ObamaCare Facts', u'dr ben carson: obamacare truth. obama is a marxist 6/3/2014 - YouTube', u\"Megan McArdle At Bloomberg: 'Oops! Obamacare Runs Afoul Of The ...\", u'Opinion: Blindsided by the realities of Obamacare - CNN.com', u'Patient Protection and Affordable Care Act - Mises Wiki, the global ...']\n",
      "\n",
      "(2014, 6) op ed pages [u'So Much for Obamacare Not Working - The New York Times', u'Hooray for Obamacare - The New York Times', u'The Supreme Court Saves Obamacare, Again - The New York Times', u'Health Care Reform - The New York Times', u'ObamaCare News: Daily ObamaCare Updates - ObamaCare Facts', u'ObamaCare - Page 1 | GOP', u'14-114 King v. Burwell (06/25/2015) - Supreme Court', u'13-354 Burwell v. Hobby Lobby Stores, Inc. (06/30/2014)', u'Randy Barnett: How to finally kill Obamacare - USA Today', u'Two sides to Obamacare, only one factual - tribunedigital-chicagotribune']\n",
      "\n",
      "(2014, 6) dramatically elevated [u'3,137-County Analysis: Obamacare Increased 2014 Individual-Market ...', u'Since Obamacare Passed 50 Months Ago, Healthcare Has Gained ...', u'Obamacare sends health premiums skyrocketing by as much as 78 ...', u'Obamacare Premiums Increased Dramatically for Every Age Group in ...', u'Study: Obamacare Reduces Uninsured Rate Dramatically - Business ...', u'Obamacare premiums seen rising 6 percent in 2015 - CNBC.com', u'ObamaCare Facts: Facts on the Affordable Care Act', u'Obamacare sticker shock: Insurers propose rate hikes for 2016 - Jun. 2 ...', u\"Obamacare Premiums 'High and Rising' in 2016 - The Daily Signal\", u'Experts see big price hikes for Obamacare - Politico']\n",
      "\n",
      "(2014, 6) open air [u'ObamaCare News: Daily ObamaCare Updates - ObamaCare Facts', u'ObamaCare Enrollment Numbers - ObamaCare Facts', u'ObamaCare Facts: Facts on the Affordable Care Act', u'How did ObamaCare screw up the GDP report? \\xab Hot Air', u'The myth of the \\u201c80% unaffected by Obamacare\\u201d meme \\xab Hot Air', u'How many people are poised to lose 2014 ObamaCare ... - Hot Air', u'What a GOP Senate Would Mean for Obamacare - The Atlantic', u'4 Key Things We Learned from 2014 Obamacare Open Enrollment ...', u\"What The Supreme Court's Greenhouse Gas Ruling Should Mean For ...\", u'Oregon health insurance exchange / marketplace: Obamacare ...']\n",
      "\n",
      "(2014, 7) zurich [u'What does Obamacare mean for expats? | US Tax & Financial Services', u'ObamaCare News: Daily ObamaCare Updates - ObamaCare Facts', u'ObamaCare 2015 - Obamacare Facts', u'What we learned about Obamacare July 8-14, 2014 - AEI', u'Effects of a Minimum-Wage Increase on Employment and Family Income', u'News Article Archive from July 22, 2014 - Wsj.com - Wall Street Journal', u'Binary options no deposit bonus september 2013 dailymotion', u'News Update 224 (Sept. 2014) - American Citizens Abroad', u'Swiss consumer prices fall most since 1959 in July - timesofindia ...', u'Obamacare Insurance Cost Calculator | Auto Insurance Quotes ...']\n",
      "\n",
      "(2014, 7) immigration think [u'Kaiser Health Tracking Poll: July 2014 | The Henry J. Kaiser Family ...', u'10 things immigrant families need to know about the Marketplace ...', u'Thousands of Illegal Immigrants Enrolled in Obamacare - Newsmax.com', u'ObamaCare News: Daily ObamaCare Updates - ObamaCare Facts', u'Patient Protection and Affordable Care Act - Wikipedia, the free ...', u'Immigrant Families Benefit Significantly from Obamacare | Center for ...', u'Could Illegal Immigrants Really Receive Obamacare? - The Daily Signal', u'How Many Illegal Aliens Have Received Obamacare? - Immigration ...', u'Americans worry that illegal migrants threaten way of life, economy ...', u'Amid Tensions, Legal Immigrants Fear Signing Up for Obamacare - U.S.']\n",
      "\n",
      "(2014, 7) impact birth control [u'ObamaCare Birth Control - Obamacare Facts', u'Birth Control Is Free Under Obamacare, But Not Everyone Got The ...', u'ObamaCare making free birth control standard for women | Fox News', u\"The Affordable Care Act and cost of contraception - Journalist's ...\", u\"In Her Words: Obamacare's Negative Impact on Women - Senate ...\", u'Contraceptive mandate (United States) - Wikipedia, the free ...', u'Patient Protection and Affordable Care Act - Wikipedia, the free ...', u'Birth control benefits and reproductive health care options in the ...', u'Kaiser Health Tracking Poll: July 2014 | The Henry J. Kaiser Family ...', u\"The Affordable Care Act's birth control mandate was an important ...\"]\n",
      "\n",
      "(2014, 7) impact birth [u'Birth Control Is Free Under Obamacare, But Not Everyone Got The ...', u'ObamaCare Birth Control - Obamacare Facts', u'ObamaCare making free birth control standard for women | Fox News', u\"In Her Words: Obamacare's Negative Impact on Women - Senate ...\", u\"The Affordable Care Act and cost of contraception - Journalist's ...\", u'Happy Birthday, Obamacare: 5 Years Later, Fact ... - The Daily Signal', u'Birth control benefits and reproductive health care options in the ...', u'Kaiser Health Tracking Poll: July 2014 | The Henry J. Kaiser Family ...', u\"Millions Of Women Don't Have To Pay A Dollar When They Pick Up ...\", u'Patient Protection and Affordable Care Act - Wikipedia, the free ...']\n",
      "\n",
      "(2014, 7) immutable [u'What we learned about Obamacare July 8-14, 2014 - AEI', u'ObamaCare News: Daily ObamaCare Updates - ObamaCare Facts', u'A death blow for Obamacare? - The Boston Globe', u'King Barack Rewrites Obamacare\\u2026 Again | The American Spectator', u'U.S. GAO - Patient Protection and Affordable Care Act: Preliminary ...', u'First wave of Obamacare destroys single practice doctors - Page 5 ...', u'Health Care BS - OBAMACARE ARCHITECT FINDS CURE FOR OLD ...', u'Daily Archives Monday, July 2014 - Health Care BS', u'What Happens When Humanities Lose Their Humanity? - The Keating ...', u'Inequality Is Not Inevitable | The PeaceWorker']\n",
      "\n",
      "(2014, 7) immortal [u'Boom Winter 2014: A Journal of California - Google Books Result', u\"Breaking Down Today's Conflicting Obamacare Court Rulings ...\", u'ObamaCare News: Daily ObamaCare Updates - ObamaCare Facts', u'ObamaCare Lawsuit - ObamaCare Facts', u\"Why young Americans aren't using Obamacare | Public Health\", u'John Cole Cartoons \\xbb Obamacare - Blogs - Scranton Times-Tribune', u'Time to Ditch Obamacare - LizPeek.com', u'obamacare Archives - Page 9 of 33 - - Exposing The Truth', u'Corruption | Citizens Against Government Waste', u'I Do Not Exist \\u2013 according to Obamacare \\u2013 Old Iron Adventure']\n",
      "\n",
      "(2014, 7) immorality [u\"The Immorality of ObamaCare's Medicaid Expansion \\xbb Coffee and ...\", u'Uncover ObamaCare | Who Is On the ObamaCare Chopping Block?', u\"'Immorality' and Obamacare - The Atlantic\", u'ObamaCare News: Daily ObamaCare Updates - ObamaCare Facts', u'Obamacare is Bad News for Your Wallet Today and Worse News for ...', u'USA \\u2013 The twisted values and immorality of the Obama admin ...', u'THE MORALITY OF THE IMMORALITY OF THE MORAL MAJORITY ...', u'Whispers in the Loggia: July 2014', u'An Objectivist Individualist: July 2014', u\"An Objectivist Individualist: ObamaCare's False Boast: It has ...\"]\n",
      "\n",
      "(2014, 7) imminently [u\"Obamacare's big winners: young adults, Latinos and poor - CNBC.com\", u'Is Obamacare Working? - | National Review', u'Meet the next possible big court challenge to Obamacare', u'ObamaCare News: Daily ObamaCare Updates - ObamaCare Facts', u'VIDEO Imminent Court Ruling Could Cripple ObamaCare ...', u'Patient Protection and Affordable Care Act - Wikipedia, the free ...', u'Can Republicans Repeal Obamacare Without Disrupting Coverage ...', u'Have the Anti-Obamacare Ads Backfired? | Brookings Institution', u\"Why young Americans aren't using Obamacare | Public Health\", u\"Predictions 2015, reaching the Year's Halfway Mark. Obamacare ...\"]\n",
      "\n",
      "(2014, 7) immigration status [u'10 things immigrant families need to know about the Marketplace ...', u'U.S. GAO - Patient Protection and Affordable Care Act: Preliminary ...', u'What we learned about Obamacare July 1-7, 2014 - AEI | Health Care ...', u'Obamacare At Risk For 310,000 Who Must Provide Proof Of ...', u'ObamaCare and Immigrants - Obamacare Facts', u'Kaiser Health Tracking Poll: July 2014 | The Henry J. Kaiser Family ...', u\"Young immigrants excluded from ACA benefits - PNHP's Official Blog\", u'Obamacare Enrollees Asked to Verify Citizenship Status', u'Treatment of Noncitizens Under the Affordable Care Act', u'Affordable Care Act (Obamacare) - National Immigration Law Center']\n",
      "\n",
      "(2014, 7) impact economy [u'Is Obamacare An Economic Disaster? - Forbes', u'Three Ways Obamacare Is Impairing Economic Growth | Economics21', u'Impact of Obamacare: Facts, Statistics, Charts and Videos About ...', u'ObamaCare and the US Economy | UPMC. Health Care Reform ...', u'Obamacare Will Suck the Life Out of the Economy - CNBC.com', u\"Obamacare: Effects Of Staying On Parents' Plan - Business Insider\", u'Obamacare Tax Increases Will Impact Us All | Tax Foundation', u'Patient Protection and Affordable Care Act - Wikipedia, the free ...', u'Employment impacts of the Affordable Care Act | Brookings Institution', u'Obamacare and Its Impact on Hispanics - The Daily Signal']\n",
      "\n",
      "(2014, 8) être [u'ObamaCare Facts: Facts on the Affordable Care Act', u'ObamaCare News: Daily ObamaCare Updates - ObamaCare Facts', u'The real deal on Obamacare - Aug. 5, 2015 - CNN Money', u'Midterms : pourquoi Obamacare a co\\xfbt\\xe9 cher aux d\\xe9mocrates', u'Really? McMorris a \"moderate congresswoman\" and Obamacare ...', u'Obamacare Is Suffocating An Already Sick Health Insurance Patient', u\"Frenchusanews |L'Obamacare met \\xe0 l'amende les expatri\\xe9s fran\\xe7ais ...\", u'Union Buyer Remorse on Obamacare? | Competitive Enterprise Institute', u'Puce Electronique | Le Nouvel Ordre Mondial', u'ObamaCare ? Sant\\xe9 pr\\xe9caire ! - R\\xe9sistance']\n",
      "\n",
      "(2014, 8) obamacare obamacare proving [u'Obamacare At Risk For 310,000 Who Must Provide Proof Of ...', u'ObamaCare News: Daily ObamaCare Updates - ObamaCare Facts', u'File Taxes For ObamaCare - Obamacare Facts', u'Obamacare and Your 2014 Taxes - NerdWallet', u\"7 Facts That Prove Obamacare Subsidies Fiasco Is Not a 'Typo ...\", u'Next Obamacare test: Tax forms - POLITICO', u\"Obamacare: IT'S NOT WORKING. | Real reform, not more government!\", u\"Proof: Obamacare Raised Family's Insurance by $600 per month ...\", u'US Citizens Abroad and OBAMACARE \\u2013 UPDATED August 1 2015 ...', u'Health insurance costs are skyrocketing under Obamacare - PolitiFact']\n",
      "\n",
      "(2014, 8) disappearance [u\"'Fake' IRS scandal spawns real coverup: Column - USA Today\", u'Lost emails scandal spreads to top Obamacare official - Washington ...', u'HEADLINES: Full-Time Jobs Disappearing Under ObamaCare ...', u\"Obamacare: IT'S NOT WORKING. | Real reform, not more government!\", u'A Not-So-Happy Obamacare Anniversary | Heartlander Magazine', u'Next - MyCancellation.com', u\"Obamacare Doesn't Ignore Health Care Costs. It's Helping To Bring ...\", u'Obamacare Penalties: 3 Things to Know Before 2014 - The Motley Fool', u'ObamaCare Tax Credits Getting Married or Divorced? - Obamacare ...', u\"The GOP's All-Out War On Obamacare Is In A Death Spiral\"]\n",
      "\n",
      "(2014, 8) obamacare passed 2010 [u'Patient Protection and Affordable Care Act - Wikipedia, the free ...', u'A Look Back At How The President Was Able To Sign Obamacare Into ...', u'ObamaCare Facts: Facts on the Affordable Care Act', u'History of the Affordable Care Act (ACA)', u'Chuck Schumer: Passing Obamacare in 2010 Was a Mistake - The ...', u'70 Changes to ObamaCare\\u2026 \\u2014 So Far | Galen Institute', u'Read the Law | HHS.gov', u'Key Features of the Affordable Care Act | HHS.gov', u'FACT CHECK: Budget Reconciliation and Obamacare. - The Attack ...', u'Chuck Schumer Admits Passing Obamacare in 2010 Was a Mistake ...']\n",
      "\n",
      "(2014, 8) obamacare pays [u'ObamaCare News: Daily ObamaCare Updates - ObamaCare Facts', u'ObamaCare Facts: Facts on the Affordable Care Act', u\"Uninsured next year? Here's your Obamacare penalty. - Aug. 13, 2013\", u\"Who's paying the new Obamacare tax? You - USA Today\", u'How Obamacare subsidies could impact your tax refund - CBS News', u'Almost All Obamacare Enrollees Are Paying For Coverage', u'90% of the Uninsured Will Pay Zero Obamacare Penalty - Breitbart', u'Obamacare and Your 2014 Taxes - NerdWallet', u'Obamacare - CNBC.com', u'Hospitals Seek To Help Consumers With Obamacare Premiums ...']\n",
      "\n",
      "(2014, 8) disagreeable [u'ObamaCare Facts: Facts on the Affordable Care Act', u'ObamaCare News: Daily ObamaCare Updates - ObamaCare Facts', u'What we learned about Obamacare July 29-August 4, 2014 - AEI', u\"Here are 1,202 well sourced examples of Obama's lying, lawbreaking ...\", u'.: More Good News for You, Barry: Obamacare Approval TANKING (35 ...', u'Debates : Unintended Consequences of ACA - Red Hot Pawn', u'Why Have a Legal System at this Point? | Competitive Enterprise Institute', u\"On ObamaCare, David Frum Just Doesn't Get It | Cato @ Liberty\", u'The bizarre \\u2013 and costly \\u2013 cult of Richard Dawkins \\xbb The Spectator', u'Buy alprazolam order alprazolam alprazolam - HQ meds buy online']\n",
      "\n",
      "(2014, 8) obamacare plan coverage [u'ObamaCare Facts: Facts on the Affordable Care Act', u'ObamaCare News: Daily ObamaCare Updates - ObamaCare Facts', u\"ObamaCare and Women: ObamaCare Women's Health Services\", u'ObamaCare 2015 - Obamacare Facts', u'Obamacare - CNBC.com', u'Health insurance costs are skyrocketing under Obamacare - PolitiFact', u\"If You Like Your Obamacare Plan, It'll Cost You - The Atlantic\", u\"Here's What's Going On With Obamacare Premium Increases\", u'The real deal on Obamacare - Aug. 5, 2015 - CNN Money', u'Transcending Obamacare: A Patient-Centered Plan for Near ...']\n",
      "\n",
      "(2014, 8) disagree brown moving [u'A Look Back At How The President Was Able To Sign Obamacare Into ...', u'Patient Protection and Affordable Care Act - Wikipedia, the free ...', u'Repeal ObamaCare or Defund ObamaCare? - ObamaCare Facts', u'Am I Exempt if I am an American Citizen Moving ... - ObamaCare Facts', u'ObamaCare - Conservapedia', u'How Obamacare Went South In Mississippi | Kaiser Health News', u'John Mackey: The Whole Foods Alternative to ObamaCare - WSJ', u\"Pascal's Wager: Health Insurance Exchanges, Obamacare, and the ...\", u'How Obamacare Went South in Mississippi - The Atlantic', u'Obamacare Archives - The Daily Dose - Denver Post Blogs']\n",
      "\n",
      "(2014, 8) obamacare polls [u'Obamacare Is More Unpopular Than Ever, Poll Shows - Huffington Post', u'Fox News poll: Slim majority continues to oppose ObamaCare | Fox ...', u'Majority of Americans dislike Obamacare \\u2014 RT America - RT.com', u'ObamaCare News: Daily ObamaCare Updates - ObamaCare Facts', u'ObamaCare Facts: Facts on the Affordable Care Act', u'ObamaCare Poll: ObamaCare Approval Rating Popularity', u'Kaiser Health Tracking Poll: July 2014 | The Henry J. Kaiser Family ...', u'Kaiser Health Tracking Poll: August-September 2014 | The Henry J ...', u\"Americans don't like Obamacare, but they'd rather fix it than repeal: poll\", u'Popularity For Obamacare Hits All-Time High In Latest ABC ...']\n",
      "\n",
      "(2014, 8) obamacare premium [u\"Here's What's Going On With Obamacare Premium Increases\", u'ObamaCare News: Daily ObamaCare Updates - ObamaCare Facts', u'ObamaCare Facts: Facts on the Affordable Care Act', u'Health insurance costs are skyrocketing under Obamacare - PolitiFact', u'Obamacare - CNBC.com', u'ObamaCare premiums slated to rise by an average of 7.5 percent ...', u'The real deal on Obamacare - Aug. 5, 2015 - CNN Money', u'The ObamaCare Cost Nightmare Continues | GOP', u'ObamaCare Premium Pains | GOP', u'Hospitals Seek To Help Consumers With Obamacare Premiums ...']\n",
      "\n",
      "(2014, 9) zuma [u\"Why You Can't Keep Your Plan Under Obamacare, in 3 Minutes\", u'Health insurance costs are skyrocketing under Obamacare - PolitiFact', u'How to fix Obamacare | The Economist', u'ObamaCare News: Daily ObamaCare Updates - ObamaCare Facts', u\"5 days in Kentucky: Insurance enrollment up; just don't say ...\", u'Speaker Audio and Transcripts - 2014 | National Press Club', u'Jacob Zuma | Michael Minkoff, Jr.', u'Obamacare - EWN', u'ZUMA Pictures Of The Day: News, Sports, Celeb images and more', u'Ted Cruz on opposition to trade bill, ObamaCare alternative']\n",
      "\n",
      "(2014, 9) information make [u'How to fix Obamacare | The Economist', u'Obamacare Has Failed To Collapse -- But Its Premiums Continue To ...', u'ObamaCare News: Daily ObamaCare Updates - ObamaCare Facts', u'ObamaCare 2015 - Obamacare Facts', u'Health insurance costs are skyrocketing under Obamacare - PolitiFact', u'Obamacare - CNBC.com', u'Key Features of the Affordable Care Act By Year | HHS.gov', u'Obamacare Website Costs Exceed $2 Billion, Study Finds - Bloomberg', u'Obamacare at One Year: Seven Charts Show the Law Is Working ...', u'Patient Protection and Affordable Care Act - Wikipedia, the free ...']\n",
      "\n",
      "(2014, 9) influenza says [u\"Another Obamacare advantage: Free Flu Shots (and there's even an ...\", u'Are Mandatory Flu Vaccines for Healthcare Workers part of ...', u'Johns Hopkins Scientist Exposes Flu Vaccine Danger? : snopes.com', u'Obamacare Preventive Care', u'Prepare For Flu Season: 90% Of Children Who Died From Influenza ...', u'Obamacare May Increase Flu Vaccine Rates - Phoenix Legal Examiner', u'Why I Hope to Die at 75 - The Atlantic', u'Officials urge vaccination with arrival of flu season - CNBC.com', u'Obamacare - CNBC.com', u'CDC caught in billion-dollar scheme to to sell vaccines \\xab Jon ...']\n",
      "\n",
      "(2014, 9) influenza [u'Preventive Services Covered Under the ACA | HHS.gov', u'Obamacare May Increase Flu Vaccine Rates - Phoenix Legal Examiner', u'Obamacare Preventive Care', u'Vaccine Facts: Facts & Myths on Vaccination - Obamacare Facts', u'Are Mandatory Flu Vaccines for Healthcare Workers part of ...', u'As Flu Season Intensifies, Most Americans Can Now Get Their Shots ...', u\"Obamacare plans might improve Florida's low rates of flu vaccination\", u'Johns Hopkins Scientist Exposes Flu Vaccine Danger? : snopes.com', u'CDC caught in billion-dollar scheme to to sell vaccines \\xab Jon ...', u'Lawmakers to Probe Flu Vaccine Production Process - WSJ']\n",
      "\n",
      "(2014, 9) influence american [u'Obamacare at One Year: Seven Charts Show the Law Is Working ...', u'WHO | Challenges facing the United States of America in ...', u'Four Ways Obamacare Has Affected Health Insurance - The New York ...', u'Health care in America: How to fix Obamacare - The Economist', u'Benefits Of ObamaCare: Advantage of ObamaCare - ObamaCare Facts', u'ObamaCare Facts: Facts on the Affordable Care Act', u'How Will ObamaCare Affect Me? - ObamaCare Facts', u'What is ObamaCare | What is the Affordable Care Act?', u'Key Features of the Affordable Care Act By Year | HHS.gov', u'Sep 21, 2014 Young Physicians OK With Obamacare While ... - Forbes']\n",
      "\n",
      "(2014, 9) inflection [u'Obamacare 2.0 - POLITICO Magazine', u'Obamacare Enrollment: Second Year An Even Tougher Challenge ...', u\"Enrolling People In Obamacare Who Have No 'Concept Of Insurance ...\", u'Health insurance costs are skyrocketing under Obamacare - PolitiFact', u'ObamaCare News: Daily ObamaCare Updates - ObamaCare Facts', u'How to fix Obamacare | The Economist', u'Would a Republican President Dare to Dismantle Obamacare ...', u'Implementing Obamacare: Intergovernmental Battles over the ...', u'Obamacare-Driven Stagnation | Coyote Blog', u'HealthCare.gov - CMS Management of the Federal Marketplace: An ...']\n",
      "\n",
      "(2014, 9) inflation rate [u'Obamacare at One Year: Seven Charts Show the Law Is Working ...', u\"Obama's Numbers October 2014 Update - FactCheck.org\", u'Obamacare, drugs spur higher health-care inflation rate - CNBC.com', u'Obamacare Has Failed To Collapse -- But Its Premiums Continue To ...', u'Patient Protection and Affordable Care Act - Wikipedia, the free ...', u'Obamacare tax guide for individuals - Sep. 9, 2013 - CNN Money', u'ObamaCare Insurance Premiums - ObamaCare Facts', u'CPI inflation Canada 2014', u'Gwen Moore says Obamacare created lowest-ever inflation in health ...', u'How to fix Obamacare | The Economist']\n",
      "\n",
      "(2014, 9) inflation 60 percent [u'Obamacare at One Year: Seven Charts Show the Law Is Working ...', u'Patient Protection and Affordable Care Act - Wikipedia, the free ...', u'Cost of ObamaCare - ObamaCare Facts', u\"Obama's Numbers (January 2014 Update) - FactCheck.org\", u'Obamacare, drugs spur higher health-care inflation rate - CNBC.com', u'ObamaCare premiums soar 60% in Mississippi \\xab Hot Air', u\"Obamacare's Inflation Taxes | Tax Foundation\", u'The Year in Charts - The New York Times', u'Health Insurance Coverage in the United States: 2014 - Census.gov', u'What Is Behind The Post-Recession Bend In The Health Care Cost ...']\n",
      "\n",
      "(2014, 9) inflation 60 [u'Obamacare at One Year: Seven Charts Show the Law Is Working ...', u'Patient Protection and Affordable Care Act - Wikipedia, the free ...', u'Cost of ObamaCare - ObamaCare Facts', u'Cost Curbing is Working, HealthCare Spending ... - ObamaCare Facts', u'ObamaCare premiums soar 60% in Mississippi \\xab Hot Air', u'Obamacare, drugs spur higher health-care inflation rate - CNBC.com', u\"Obamacare's Inflation Taxes | Tax Foundation\", u'Obamacare tax guide for individuals - Sep. 9, 2013 - CNN Money', u'Health Insurance Coverage in the United States: 2014 - Census.gov', u\"Obama's Numbers (January 2014 Update) - FactCheck.org\"]\n",
      "\n",
      "(2014, 9) infinite [u'Obamacare - Infinite Unknown', u'Obama Supporters Meet Obamacare (Cartoon) - Infinite Unknown', u'Medicaid Expansion \\u2013 Pouring Infinite Resources into a Bottomless Pit ...', u'Report: Busted Obamacare Website Cost $2.1 Billion-Twice What ...', u\"14 Ways ObamaCare Is Still a Big Mess \\u2013 That You Won't Learn from ...\", u'How to fix Obamacare | The Economist', u'ObamaCare Dollar Limits - ObamaCare Facts', u'Health insurance costs are skyrocketing under Obamacare - PolitiFact', u'Only 36 percent of Democratic candidates have expressed support for ...', u'Conservative Review - Obamacare and Abortion']\n",
      "\n",
      "(2014, 10) zucker [u\"FEULNER: The facts behind Obamacare's numbers - Washington Times\", u'ObamaCare | Health Insurance Exchange - ObamaCare Facts', u'Like It Or Not, Obamacare Is Reshaping The Healthcare Industry ...', u\"ObamaCare's 2014 Report Card? Preaching Patience \\u2014 to ...\", u'How Obamacare has changed my life \\u2014 for better and for worse ...', u'How Psychiatrists Are Failing the Patients Who Need Them Most ...', u'Mark Zuckerberg - Wikipedia, the free encyclopedia', u'CNN Bloodbath: Layoff Counselors, Show Cancellations - Breitbart', u'Trans News Updates, by Lynn Conway - University of Michigan', u'Senate District 67 DFL | In the Know for August 7th - Minnesota DFL']\n",
      "\n",
      "(2014, 10) lots different [u'20 Questions You Have About Obamacare But Are Too Afraid To Ask ...', u\"Obama's Health Law: Who Was Helped Most - The New York Times\", u'Everything you need to know about life under Obamacare - The ...', u'Can I Keep My Health Care Plan Under Obamacare?', u'New Data Shows Large Insurer Losses On Obamacare Plans - Forbes', u'Chain email claims 214,000 doctors refuse to take patients with ...', u'Obamacare Enrollment: Second Year An Even Tougher Challenge ...', u'Obamacare sends health premiums skyrocketing by as much as 78 ...', u\"Wal-Mart's insurance move reveals Obamacare truth - BBC News\", u\"Obamacare's Core Contradiction | Vanity Fair\"]\n",
      "\n",
      "(2014, 10) lot information [u'ObamaCare 2015 - Obamacare Facts', u'ObamaCare News: Daily ObamaCare Updates - ObamaCare Facts', u'ObamaCare Facts: Facts on the Affordable Care Act', u'Obamacare Enrollment: Second Year An Even Tougher Challenge ...', u'Chain email claims 214,000 doctors refuse to take patients with ...', u'20 Questions You Have About Obamacare But Are Too Afraid To Ask ...', u\"Obama's Health Law: Who Was Helped Most - The New York Times\", u'Obamacare Penalties: 3 Things to Know Before 2014 - The Motley Fool', u'Everything you need to know about life under Obamacare - The ...', u'Is your ObamaCare information safe? | Fox News']\n",
      "\n",
      "(2014, 10) budged [u'Obama: Health care is driving down the deficit | PolitiFact', u\"Obama's Numbers October 2014 Update - FactCheck.org\", u'Now There Can Be No Doubt: Obamacare Will Increase The Deficit ...', u'Obamacare likely to cost $300 billion more than thought - RT.com', u'United States federal government shutdown of 2013 - Wikipedia, the ...', u'Obamacare Enrollment: Second Year An Even Tougher Challenge ...', u'ObamaCare News: Daily ObamaCare Updates - ObamaCare Facts', u'ObamaCare Facts: Facts on the Affordable Care Act', u'ObamaCare | Health Insurance Exchange - ObamaCare Facts', u'Is the Affordable Care Act Working? - The New York Times']\n",
      "\n",
      "(2014, 10) lot lot [u'Chain email claims 214,000 doctors refuse to take patients with ...', u'ObamaCare News: Daily ObamaCare Updates - ObamaCare Facts', u'ObamaCare 2015 - Obamacare Facts', u'Obamacare Enrollment: Second Year An Even Tougher Challenge ...', u'Bad news for Obamacare: Insurers lost a lot of money in 2014 | ACA ...', u\"Report: Insurers 'Lost a Lot of Money' Selling Obamacare Plans\", u'20 Questions You Have About Obamacare But Are Too Afraid To Ask ...', u\"Obama's Health Law: Who Was Helped Most - The New York Times\", u\"Wal-Mart's insurance move reveals Obamacare truth - BBC News\", u'2014: Another election about Obamacare - Reuters']\n",
      "\n",
      "(2014, 10) lot moderates [u'Obamacare enrollment: Many are uninsured and clueless - CNBC.com', u'Will you owe a penalty under Obamacare? - HealthInsurance.org', u'ObamaCare | Health Insurance Exchange - ObamaCare Facts', u\"FEULNER: The facts behind Obamacare's numbers - Washington Times\", u'Patient Protection and Affordable Care Act - Wikipedia, the free ...', u'Obamacare Enrollment: Second Year An Even Tougher Challenge ...', u'Key Facts about the Uninsured Population | The Henry J. Kaiser ...', u'From October 2013: \\u201cThe Obamacare implosion is worse than you ...', u'Pat Roberts: Obamacare killed insurance for 20,000 Kansans | PolitiFact', u'Is the Affordable Care Act Working? - The New York Times']\n",
      "\n",
      "(2014, 10) buddy holly [u'Buddy Holly Center - Wikipedia, the free encyclopedia', u'The Buddy Holly Story - Wikipedia, the free encyclopedia', u'Buddy Holly | Music | The Guardian', u'Total CEO joins sad toll of famous plane crash victims, from Buddy ...', u\"Malkin: Obamacare's 1095-A nightmare makes healthcare.gov look ...\", u\"Appreciating Buddy Holly: It's So Easy! | VEER Magazine :: Hampton ...\", u'The Jawa Report: Like Buddy Holly & The Big Bopper, Founder of ...', u'St Louis Post-Dispatch (MO), October 6, 2014 | Online Research ...', u'Hope Op, Sault Theatre Workshop, October 2014 : all : Search Video', u'Uncategorized | Dennis Manning Christian Blog | Page 37']\n",
      "\n",
      "(2014, 10) lot oh [u'Why is Obamacare so controversial? - BBC News - BBC.com', u'Obamacare Enrollment: Second Year An Even Tougher Challenge ...', u'ObamaCare News: Daily ObamaCare Updates - ObamaCare Facts', u\"Obama's Health Law: Who Was Helped Most - The New York Times\", u'6 key Obamacare dates to watch for in 2014 - CBS News', u'Pat Roberts: Obamacare killed insurance for 20,000 Kansans | PolitiFact', u'Chain email claims 214,000 doctors refuse to take patients with ...', u'Obamacare - CNBC.com', u\"FEULNER: The facts behind Obamacare's numbers - Washington Times\", u'Obamacare sends health premiums skyrocketing by as much as 78 ...']\n",
      "\n",
      "(2014, 10) lot oh yeah [u'Will you owe a penalty under Obamacare? - HealthInsurance.org', u'Obamacare Penalties: 3 Things to Know Before 2014 - The Motley Fool', u\"IMPORTANT UPDATES: w/out details, Ohio woman's story blaming ...\", u\"Here's What Happens If You Don't Sign Up For Obamacare - Business ...\", u'Obamacare Enrollment: Second Year An Even Tougher Challenge ...', u'Obamacare sends health premiums skyrocketing by as much as 78 ...', u\"Key Study On Obamacare 2015 Premium Rates Is Out And You Won't ...\", u'ObamaCare 2015 - Obamacare Facts', u'Hey, Gov. Walker: Frothing Obamacare hatred is so 2013 - Left ...', u'Betsy McCaughey: 30 Million Could Lose Healthcare Due to Obamacare']\n",
      "\n",
      "(2014, 10) lot places [u\"Obama's Health Law: Who Was Helped Most - The New York Times\", u'20 Questions You Have About Obamacare But Are Too Afraid To Ask ...', u'ObamaCare News: Daily ObamaCare Updates - ObamaCare Facts', u'Everything you need to know about life under Obamacare - The ...', u'Obamacare Enrollment: Second Year An Even Tougher Challenge ...', u'Chain email claims 214,000 doctors refuse to take patients with ...', u'Obamacare Penalties: 3 Things to Know Before 2014 - The Motley Fool', u\"Obamacare Increases Large Employers' Health Costs - Forbes\", u'Patient Protection and Affordable Care Act - Wikipedia, the free ...', u'How Obamacare Has Changed Health Insurance In The US ...']\n",
      "\n",
      "(2014, 11) liars current political [u\"Lie of the Year: 'If you like your health care plan, you can keep it ...\", u'Obamacare Architect: Yeah, We Lied to The \"Stupid\" American People ...', u'Jonathan Gruber and ObamaCare - Obamacare Facts', u\"Liar's Remorse and Obamacare \\u2014 Frontiers of Freedom\", u'Washington Post Defends Jonathan Gruber, Obamacare Liar ...', u'UPDATE* \\u2013 MUST WATCH VIDEO: ObamaCare ... - The Last Refuge', u'Pelosi cited ObamaCare architect in push for law \\u2013 now claims she ...', u'November 2014 (28) - Search | Crooks and Liars', u'November 2014 (9) - Search | Crooks and Liars', u'Rex Murphy: Contest of the liars \\u2014 Bill Clinton vs. Barack Obama ...']\n",
      "\n",
      "(2014, 11) domestic product [u'ObamaCare Deficit and Debt - Obamacare Facts', u'Is Obamacare Working? Yes. | Brookings Institution', u\"Articles: The 'Total Cost' to the Individual of ObamaCare\", u\"Obama's claim that Obamacare has reduced health-care inflation ...\", u\"Obama's Numbers October 2014 Update - FactCheck.org\", u\"The 'good old days' before Obamacare - HealthInsurance.org\", u\"Obamacare's Website Won't Be Working By November 30 -- But What ...\", u'Obamacare, Improving Economy Fuel Faster U.S. Health Spending ...', u'National Health Expenditure Data > NHE Fact Sheet - Centers for ...', u'Affordable Care Act Research | ASPE']\n",
      "\n",
      "(2014, 11) don choose [u'Changing Plans and Verifying Info for Cost ... - ObamaCare Facts', u'Can I Keep My Health Care Plan Under Obamacare?', u'Auto-renew of ObamaCare Plans - Obamacare Facts', u'How Does ObamaCare Work? - ObamaCare Facts', u'Chain email claims 214,000 doctors refuse to take patients with ...', u'The Little-Known Obamacare COBRA Catch-22 - AOL', u'Should I Pay the Obamacare Tax Penalty? | Health Insurance | US News', u\"What happens if I don't buy health insurance in 2014?\", u\"'Tis open enrollment season: How to pick the right health insurance ...\", u'Find out if you have to pay a fee for not having health coverage in 2014']\n",
      "\n",
      "(2014, 11) don change [u'Changing Plans and Verifying Info for Cost ... - ObamaCare Facts', u'ObamaCare Delays and ObamaCare Changes - ObamaCare Facts', u'Auto-renew of ObamaCare Plans - Obamacare Facts', u'Missed Deadline for ObamaCare - ObamaCare Facts', u'ObamaCare 2015 - Obamacare Facts', u'Changes to Medicare insurance 2013-2015 - ObamaCare Facts', u'70 Changes to ObamaCare\\u2026 \\u2014 So Far | Galen Institute', u'Obamacare 2.0: What you need to know - Nov. 13, 2014 - CNN Money', u'7 things to know about reporting a life change | HealthCare.gov', u'Obamacare 2015: Higher costs, higher penalties - CBS News']\n",
      "\n",
      "(2014, 11) old african [u'Four Times Obamacare Advocates Admitted It Will Kill Old People ...', u'Headlines for November 07, 2014 | Democracy Now!', u'SURPRISE! BOY Who Watched Obama Sign Obamacare Into Law IS ...', u'Chuck Schumer: Passing Obamacare in 2010 Was a Mistake - The ...', u'Patient Protection and Affordable Care Act - Wikipedia, the free ...', u'Center for Global Policy Solutions Obamacare Reduces Racial ...', u'The Coverage Gap: Uninsured Poor Adults in States that Do Not ...', u\"ObamaCare and Women: ObamaCare Women's Health Services\", u'Feds give 2-year grace period for non-Obamacare plans - CNBC.com', u'Is Obamacare Working? Yes. | Brookings Institution']\n",
      "\n",
      "(2014, 11) old african american [u'Is Obamacare Hurting African Americans? - News & Views - EBONY', u'The ACA is Working for the African-American Community | HHS.gov', u'Four Times Obamacare Advocates Admitted It Will Kill Old People ...', u'The Health Care Challenge: November 2014', u'White teen Gilbert Collar killed by black cop Trevis Austin in Alabama ...', u'California struggling to enroll African Americans in Obamacare - latimes', u'Center for Global Policy Solutions Obamacare Reduces Racial ...', u'Obamacare: Before and After - Discover the Networks', u\"Obama's Health Law: Who Was Helped Most - The New York Times\", u'The Coverage Gap: Uninsured Poor Adults in States that Do Not ...']\n",
      "\n",
      "(2014, 11) old blind [u'Republican man going blind refused Obamacare now appeals for ...', u'ObamaCare Stories: Real Life Stories on ObamaCare', u\"The Guy From South Carolina Who Didn't Get ObamaCare ...\", u\"Obamacare-Hating Conservative Blames Obama Because He's Going ...\", u\"Fox News Remains Blind To News Of Obamacare's Success\", u'South Carolina Man That Was Too Prideful To Get ObamaCare Is ...', u'Impending blindness makes man who rejected Obamacare demand it ...', u'UPDATED x3: See man hate Obamacare. See man refuse to get ...', u'The 10 Terrible Provisions of Obamacare You May Not Have Heard Of', u'Man Who Would Rather Go Blind Than Get Obamacare Now Going ...']\n",
      "\n",
      "(2014, 11) old boy [u'Four Times Obamacare Advocates Admitted It Will Kill Old People ...', u'Chuck Schumer: Passing Obamacare in 2010 Was a Mistake - The ...', u'ObamaCare Young Adults - ObamaCare Facts', u'November Surprise: Obamacare Rate Hikes to Hit Just Before Election ...', u'SURPRISE! BOY Who Watched Obama Sign Obamacare Into Law IS ...', u'Obamacare 2015: Higher costs, higher penalties - CBS News', u'Obamacare: Voters, are you stupid? - CNN.com', u'SURPRISE! BOY Who Watched Obama Sign Obamacare Into Law IS ...', u'How Obamacare Will Affect Health Insurance Rates by Age Group ...', u'An Obamacare program helped poor kids and saved money. It was ...']\n",
      "\n",
      "(2014, 11) old college [u'ObamaCare Young Adults - ObamaCare Facts', u'ObamaCare Stories: Real Life Stories on ObamaCare', u'ObamaCare Under 26: Rules for Children and Young Adults', u'Can I Keep My Health Care Plan Under Obamacare?', u'How Will ObamaCare Affect Me? - ObamaCare Facts', u'ObamaCare Enrollment Numbers - ObamaCare Facts', u'How will young adults and college students fare under Obamacare ...', u'Four Times Obamacare Advocates Admitted It Will Kill Old People ...', u'College Graduate Health Care Options, Special Enrollment Period ...', u\"Part-time jobs: America's hidden unemployment crisis - Nov. 20, 2014\"]\n",
      "\n",
      "(2014, 11) don believe government [u'ObamaCare Myths: Myths About the Affordable Care Act', u'ObamaCare Stories: Real Life Stories on ObamaCare', u'Repeal ObamaCare or Defund ObamaCare? - ObamaCare Facts', u'ObamaCare Lawsuit - ObamaCare Facts', u\"Key Study On Obamacare 2015 Premium Rates Is Out And You Won't ...\", u\"Don't have health insurance in 2015? Be prepared to pay bigger ...\", u'Senator Ted Cruz on Twitter: \"\"Net Neutrality\" is Obamacare for the ...', u'Ted Cruz: Net neutrality regulations put government in charge of ...', u\"Karl Rove: Obamacare 'Monstrosity' Will Devastate Democrats in 2014\", u'The Numbers You Need to Know About Obamacare - The Daily Signal']\n",
      "\n",
      "(2014, 12) zywicki [u'ObamaCare Enrollment Numbers Nov 15 - Dec 19 2014 - Obamacare ...', u\"In December, Obamacare wades into 'uncharted waters' | MSNBC\", u'Ticktock: Obamacare deadlines you need to know - CNBC.com', u\"George Mason Law School: Professor Todd Zywicki's Home Page - Gmu\", u'\\u201c(Dodd-Frank) empowers the federal government to centrally manage ...', u'December 2014 - Coalition for Public Education/Coalici\\xf3n por la ...', u\"1,063 Documented Examples of Barack Obama's Lying, Lawbreaking ...\", u'2014 Annual Report - Cato Institute', u'Government Bullies Retirees, Banks, Rips Off Taxpayers | Competitive ...', u'Read the Full Article - Independent Institute']\n",
      "\n",
      "(2014, 12) image cellphone text [u'Text messaging - Wikipedia, the free encyclopedia', u'Send Pictures Over MMS Just Like Sending Text ... - Mobile Commons', u'Definition of MMS Picture Messaging - Smartphones - About.com', u'Obamacare Stock Photos, Images, & Pictures | Shutterstock', u'Journal of Financial Economics | Vol 120, Iss 1, Pgs 1-210, (April 2016 ...', u'Forbes', u'371 Issue: 26 Date: December 25, 2014 - NEJM', u\"U.Va. rape accuser's friends begin to doubt story - Washington Times\", u'5 Most Insidious Conspiracy Theories of 2014 | Alternet', u'The Hill - covering Congress, Politics, Political Campaigns and Capitol ...']\n",
      "\n",
      "(2014, 12) imitating [u'ObamaCare Enrollment Numbers Nov 15 - Dec 19 2014 - Obamacare ...', u'6.4 million enroll in Obamacare - Dec. 23, 2014 - CNN Money', u'Ticktock: Obamacare deadlines you need to know - CNBC.com', u'Articles: December 2014 Archives - American Thinker', u'Blog: December 2014 Archives - American Thinker', u'RealClearPolitics December 8, 2014 - December 14, 2014 PM Update ...', u'List of The Daily Show episodes (2014) - Wikipedia, the free ...', u\"Economist's View: Paul Krugman: Democrats Against Reform\", u'Capital Flows - Guest Opinion - Forbes', u'September | 2014 | Consumer Driven Health Care | Page 2']\n",
      "\n",
      "(2014, 12) imf [u'Finance & Development December 2014 - IMF', u'Bill of Health -- Finance & Development, December 2014 - IMF', u'Cost of Progress - Commentary - Finance & Development, December ...', u'Rogers: Omnibus Package Responsibly Funds the Federal ...', u\"Obamacare In Ukraine: Headed For Disaster! Poroshenko The 'de ...\", u'ObamaCare Enrollment Numbers Nov 15 - Dec 19 2014 - Obamacare ...', u'The IMF Is the Dumpster Fire of the Global Economy | International ...', u'IMF Analysis of the US Economy: Faulty Assumptions and Bad Policy ...', u'IMF and G20 Moving Forward on Plan B | Philosophy of Metrics', u'Fox News Has Spent 5 Years Warning That The U.S. Could Become ...']\n",
      "\n",
      "(2014, 12) imbued [u'ObamaCare Enrollment Numbers Nov 15 - Dec 19 2014 - Obamacare ...', u'Auto-renew of ObamaCare Plans - Obamacare Facts', u'ObamaCare Enrollment Numbers - ObamaCare Facts', u\"Jonathan Gruber's Pants Inferno The Obamacare Architect is a Huge ...\", u'Anti-Canadian Bias is at the Heart of Obamacare | Uncommon Sense', u'December | 2014 | www.helmling.com', u'December 2014 \\u2013 South Carolina Liberty', u'How Tech Populism is Undermining Innovation - ITIF', u'Health Care BS - Search results', u'Trek - alumni UBC']\n",
      "\n",
      "(2014, 12) imbibe [u'ObamaCare Enrollment Numbers Nov 15 - Dec 19 2014 - Obamacare ...', u'Deadline is Dec. 15 to have Obamacare health insurance coverage on ...', u'Ticktock: Obamacare deadlines you need to know - CNBC.com', u'Obamacare \\xb7 TheJournal.ie - TheJournal.ie Facebook Edition', u'December 2014 Archives - Welcome to Progressive Values | Welcome ...', u\"It's what Lincoln said when told that Grant was imbibing: \\u201cfind out what ...\", u'Sultan Knish: December 2014', u'Comments on \\u201cSixteen Days in January: A Story of the Next Shutdown\\u201d', u'My Life as 3D: December 2014', u'Infiltrated Nation: December 2014']\n",
      "\n",
      "(2014, 12) imax [u'ObamaCare Enrollment Numbers Nov 15 - Dec 19 2014 - Obamacare ...', u'ObamaCare Enrollment Numbers - ObamaCare Facts', u\"Obamacare's Inertia Problem - The New Yorker\", u'Imax Gains After Report Sony May Make Offer to Buy It - Bloomberg ...', u'IMAX 3D | Michael Minkoff, Jr.', u'How Movie Makers can Get Better Cinema Revenues in 2015 ...', u'If Uncle Sam needs to budget better, so do Americans - SFGate', u'Imax pushes 3D cinema with 38-pound 4K digital camera \\u2013 CNET ...', u'Tornado Alley (2011) - IMDb', u'Huntsville Retirement Blog']\n",
      "\n",
      "(2014, 12) iman shumpert [u'Iman Shumpert - Wikipedia, the free encyclopedia', u\"Injuries to Iman Shumpert and J.R. Smith Add to Knicks' Woes - The ...\", u'LeBron James, Kevin Love, Iman Shumpert help Cleveland Cavaliers ...', u'Iman Shumpert and Teyana Taylor Have a Message For Yall.... - Page ...', u'News Article Archive from July 25, 2014 - Wsj.com - Wall Street Journal', u\"Iman Shumpert inbounds the ball right at Sefolosha's balls (11.10.2014)\", u'Vince Meyers (@MeyersCatering) | Twitter', <span dir=\"rtl\">\\u0646\\u062f\\u064a \\u0634\\u0645\\u0633 \\u0627\\u0644\\u062f\\u064a\\u0646 (@nozivopenj) | Twitter</span>, u'Digital Media Workshop, Student Work | Tag | digital media workshop ...', u'Digital Media Workshop, Student Work | Author | Alex Nathanson ...']\n",
      "\n",
      "(2014, 12) iman [u'ObamaCare Enrollment Numbers Nov 15 - Dec 19 2014 - Obamacare ...', u'Iman Crosson - Wikipedia, the free encyclopedia', u\"In December, Obamacare wades into 'uncharted waters' | MSNBC\", u'Deadline is Dec. 15 to have Obamacare health insurance coverage on ...', u'Celebs Out & About: A$AP Rocky and Chanel Iman, Mary J. Blige ...', u'26 December 2014 News Archive | Daily Mail Online', u\"'Obamacare architect' Jonathan Gruber apologizes to Congress for ...\", u'New Obamacare signups for this year are only 1.9 million | Daily Mail ...', u'Without Beverly Johnson, There Would Be No Iman, Naomi Campbell ...', u\"Imam admits it: Muslims no better than monkeys | For What It's Worth\"]\n",
      "\n",
      "(2014, 12) imagine going forward [u'ObamaCare News: Daily ObamaCare Updates - ObamaCare Facts', u'ObamaCare 2015 - Obamacare Facts', u'Policy Periods and ObamaCare - Obamacare Facts', u'Auto-renew of ObamaCare Plans - Obamacare Facts', u'Downgraded: Insurance Companies Taste Wrath of ObamaCare ...', u'Poll Finds That Most Voters Would Rather Change Than Repeal ...', u'Obamacare: Questions Answered - The Washington Post', u'Florida health insurance exchange / marketplace: Obamacare ...', u'Funny Healthcare | Obamacare Updates - Funny Healthcare', u'Obamacare does not work as advertised - Akdart.com']\n",
      "\n",
      "(2015, 1) zones europe [u'Blog: January 2015 Archives - American Thinker', u'Articles: January 2015 Archives - American Thinker', u'Government in Exile: January 2015', u\"'Europe is finished': Terror expert on Islamic 'no-go zones' | Fox News ...\", u\"Jon Stewart Shocked By Fox News Apology Over Muslim 'No-Go ...\", u\"The myth of 'no go' zones lives on / Islamophobia, Terrorism, Europe ...\", u'Obamacare 2016 open enrollment to run Nov. 1, 2015-Jan. 31, 2016 ...', u'Trouble ahead? Euro zone business activity declines further', u'The era of Syriza | The Economist', u'French Islamist mini-states grow into problem out of government ...']\n",
      "\n",
      "(2015, 1) lang [u'Lifelong Republican Turns On His Party, Embraces Obamacare ...', u'Luis Lang discovers that GoFundMe is worse than Obamacare', u\"Luis Lang wants to be Obamacare's 'poster child' - HealthInsurance.org\", u'UPDATE: The Luis Lang Saga, Part VI: The Interview | ACASignups.net', u'UPDATED x3: See man hate Obamacare. See man refuse to get ...', u\"UPDATE: EXCLUSIVE: Luis Lang is back...and he's not happy at all ...\", u\"Obamacare-Hating Conservative Blames Obama Because He's Going ...\", u\"He didn't buy Obamacare. Now he's sick, and mad at...Obamacare ...\", u'The toll of anti-Obamacare fanaticism: Two horrifying vignettes - LA ...', u'Just Shake Your Head - Talking Points Memo']\n",
      "\n",
      "(2015, 1) lanhee [u'Lanhee J. Chen | Hoover Institution', u'ObamaCare 2015 - Obamacare Facts', u'GOP Candidates Must Offer Obamacare Alternative | RealClearPolitics', u'4 Rules for Replacing Obamacare - POLITICO Magazine', u'Instead of ObamaCare: Giving Health-Care Power to the People - WSJ', u'Lanhee Chen: Why Not 50 Different Affordable Health-Care Plans ...', u'Handout 1-Dr.Lanhee Chen.s PPT.pdf', u'Lanhee Chen - Wikipedia, the free encyclopedia', u\"Obamacare vote to test Democrats' resolve under Republican majority ...\", u'Businesses Push for 40-Hour Workweek in Obamacare Definition | US ...']\n",
      "\n",
      "(2015, 1) languish [u\"'60 Minutes' Just Called Obamacare A Disaster. Here's What They ...\", u'What Do I Need to Tell My Employees about ObamaCare?', u'ObamaCare 2015 - Obamacare Facts', u'ObamaCare Lawsuit - ObamaCare Facts', u'70 Changes to ObamaCare\\u2026 \\u2014 So Far | Galen Institute', u'The Obamacare-IRS Scandal - Breitbart', u'Articles: How the ObamaCare Death Panel Defies the Constitution', u'Does Obamacare Create These New Taxes in January 2015?', u'Democrats who wrote Obamacare tell Supreme Court to reject lawsuit ...', u\"What's the deadline to get coverage during Obamacare's open ...\"]\n",
      "\n",
      "(2015, 1) language said [u\"'60 Minutes' Just Called Obamacare A Disaster. Here's What They ...\", u'70 Changes to ObamaCare\\u2026 \\u2014 So Far | Galen Institute', u'What will happen to taxes on Jan. 1, 2015? Chain email gets tax rates ...', u'ObamaCare 2015 - Obamacare Facts', u\"FLASHBACK--Obamacare Architect: No Subsidies in States That Don't ...\", u'Millions to owe Obamacare tax penalty - Jan. 28, 2015 - CNN Money', u'Democrats who wrote Obamacare tell Supreme Court to reject lawsuit ...', u'King v. Burwell - Wikipedia, the free encyclopedia', u'The Obamacare-IRS Scandal - Breitbart', u'Articles: How the ObamaCare Death Panel Defies the Constitution']\n",
      "\n",
      "(2015, 1) language help [u'ObamaCare Explained | An Explanation of ObamaCare', u'What Do I Need to Tell My Employees about ObamaCare?', u'ObamaCare Exemptions List - Obamacare Facts', u'ObamaCare 2015 - Obamacare Facts', u\"'60 Minutes' Just Called Obamacare A Disaster. Here's What They ...\", u'Key Features of the Affordable Care Act By Year | HHS.gov', u'Obamacare tax surprise looming - Jan. 2, 2015 - CNN Money', u'70 Changes to ObamaCare\\u2026 \\u2014 So Far | Galen Institute', u'Affordable Care Act Tax Provisions - IRS.gov', u'Questions? Call us at 1-800-318-2596 | HealthCare.gov']\n",
      "\n",
      "(2015, 1) language barriers [u\"Why Latinos Don't Care for Obamacare - The Daily Beast\", u\"Study: Obamacare Hasn't Solved Health Care Disparities | US News\", u'Hawaii health insurance exchange / marketplace: Obamacare ...', u'In Its Third Year, Obamacare Faces Growing Pains - HealthDay', u'ObamaCare and Immigrants - Obamacare Facts', u'ObamaCare Facts: Facts on the Affordable Care Act', u'Breaking Barriers: Improving Health Insurance Enrollment', u'Catching Up: Latino Health Coverage Gains and Challenges Under ...', u'First deadline for health coverage under Obamacare is Dec. 15 ...', u'Why Florida Is No. 1 In Obamacare Enrollment Despite GOP ...']\n",
      "\n",
      "(2015, 1) langevin [u'Does Obamacare Create These New Taxes in January 2015?', u'ObamaCare 2015 - Obamacare Facts', u\"'60 Minutes' Just Called Obamacare A Disaster. Here's What They ...\", u'Jim Langevin - Ballotpedia', u'State of the Union 2015 liveblog: The Conversation - POLITICO', u'Archive for January 2015 - RI Future', u'GOP Small Businessman Plans to Challenge Langevin | Rhode Island ...', u'Deceit | Exposing Obamacare | Page 2', u'Exposing Obamacare | Pulling Back the Curtain: How Obamacare was ...', u'Bills Cosponsored by Jim Langevin (D-R.I.) | Represent | ProPublica']\n",
      "\n",
      "(2015, 1) lanes [u'What is the Long Term Cost of Obamacare? in Lane - mBenefits', u'Rand Paul & ObamaCare - Obamacare Facts', u\"Got Obamacare? Great! Now here's your audit. \\xab Hot Air\", u\"Expect to pay hundreds of dollars in penalties if you don't have health ...\", u'\"60 Minutes\" Report: What Obamacare Doesn\\'t Do | Video ...', u'Harvard bitten by the Obamacare monster that it helped spawn ...', u\"Charles Lane: A country trapped in 1965's ambitions - The ...\", u'Will Obamacare create an entrepreneurship boom? - AEI', u'Cyclist fights ticket for using full lane, and wins - The News-Press', u'The Bill - The New Yorker']\n",
      "\n",
      "(2015, 1) lankford [u'6 Ways to Make the Most of Obamacare Open Enrollment for 2015 ...', u'Choosing the Best Obamacare Health Insurance Plan for 2016', u'office of senator james lankford 2015 activity report - Press Releases ...', u'James Lankford - Ballotpedia', u'Battles brewing over immigration, ObamaCare, climate change ...', u\"CMS issues final round of state exchange grants; 'self-sustaining ...\", u'Freedom Index: Congressional Scorecard for James Lankford', u'James Lankford on the Issues - OnTheIssues.org', u'SenatorLankford - YouTube', u\"Do all new Republican senators favor eliminating food stamps? No, it's ...\"]\n",
      "\n",
      "(2015, 2) zurich [u'Zurich February Weather 2016 - AccuWeather Forecast for Zurich ...', u'Zurich executives see pay cuts of 50% after poor 2015 performance ...', u'ObamaCare 2015 - Obamacare Facts', u'Open Enrollment Ends February 15th! - Obamacare Facts', u'Iowa Health Insurance | Find the best Iowa health plan for you | US News', u'What does Obamacare mean for expats? | US Tax & Financial Services', u'Zurich Insurance Co. - The Human Resources Social Network - HR.com', u'Obamacare, PBMs and Pharmaceutical Companies Battle Over Drug ...', u'Death of Pierre Wauthier, Zurich Insurance, Josef Ackermann Renova ...', u'Zurich | Zero Hedge']\n",
      "\n",
      "(2015, 2) income residents [u'US Citizens Abroad and OBAMACARE \\u2013 UPDATED August 1 2015 ...', u'How Does the 330 Day Rule for Living Abroad Work? - Obamacare ...', u\"Obamacare penalty payers ask, 'Where's my refund?' - Feb. 5, 2015\", u'I have to pay back my Obamacare subsidy - Feb. 13, 2015 - CNN Money', u'Stanford study shows rural disadvantages under Obamacare', u\"Here's How Obamacare Is Going To Affect Your Taxes - Huffington Post\", u'Questions and Answers on the Individual Shared Responsibility ...', u'Where the states stand on Medicaid expansion | The Advisory Board ...', u'New Estimates of Eligibility for ACA Coverage among the Uninsured ...', u'New York health insurance exchange / marketplace: Obamacare ...']\n",
      "\n",
      "(2015, 2) income verification [u'Submit proof of income documents | HealthCare.gov', u'ObamaCare 2015 - Obamacare Facts', u'Changing Plans and Verifying Info for Cost ... - ObamaCare Facts', u'Income Verification On The Exchanges: The Broader Policy Picture', u'Income Verification For Health Insurance Tax Credits | GetInsured', u'Health Care Enrollment: Obamacare Website Glitches Prompt Some ...', u'How to Apply for a Health Insurance Subsidy - Consumer Reports', u'White House admits some Obamacare applicants having website ...', u'Widespread extensions ahead of midnight deadline - USA Today', u'An Obamacare guide for freelancers and the self-employed']\n",
      "\n",
      "(2015, 2) income uninsured [u'ObamaCare 2015 - Obamacare Facts', u'Health Care Penalties In 2015: How To Avoid Obamacare Fee And ...', u'Millions to owe Obamacare tax penalty - Jan. 28, 2015 - CNN Money', u'Millions of middle class Americans will remain uninsured despite ...', u'Will you owe a penalty under Obamacare? - HealthInsurance.org', u'Five Easy Ways To Game Obamacare - The Federalist', u'IRS offers Obamacare penalty relief - Bankrate.com', u'What to Know About Obamacare Open Enrollment This Year | MONEY', u'Breaking News: Obamacare Drives Uninsured Rate To Record Low ...', u'ObamaCare fines loom for uninsured | TheHill']\n",
      "\n",
      "(2015, 2) income threshold [u'Federal Poverty Level Guidelines - ObamaCare Facts', u'ObamaCare 2015 - Obamacare Facts', u'What is The Minimum Income For ObamaCare? - Obamacare Facts', u'Will you owe a penalty under Obamacare? - HealthInsurance.org', u'Will you receive an Obamacare premium subsidy? - HealthInsurance.org', u\"Individual Mandate Penalty You Pay If You Don't Have Health ...\", u'Are You Insured? Obamacare Deadline Quickly Approaching - Forbes', u'2015 vs. 2016 Tax Penalty Amounts and Exemptions For Not Having ...', u'I have to pay back my Obamacare subsidy - Feb. 13, 2015 - CNN Money', u'Five Easy Ways To Game Obamacare - The Federalist']\n",
      "\n",
      "(2015, 2) income taxpayers [u'Up To 1 Million Taxpayers Could See Delayed Refunds After - Forbes', u\"For Many Middle-Class Taxpayers On Obamacare, It's Payback Time ...\", u'I have to pay back my Obamacare subsidy - Feb. 13, 2015 - CNN Money', u'Taxpayers duck Obamacare tax, snubbing IRS - Washington Times', u\"The Startlingly Large Obamacare Consequence That's About to Hit ...\", u'Taxpayer Anger Over Obamacare Penalties Seen Set to Boil Over', u'Health Coverage and Federal Income Taxes | HHS.gov', u'Recipients of Obamacare Subsidies Could Face Tax Surprise - Money', u\"Here's How Obamacare Is Going To Affect Your Taxes - Huffington Post\", u'Obamacare Enrollment Reopened For Taxpayers Hit By Mandate Fine']\n",
      "\n",
      "(2015, 2) income tax rates [u'What will happen to taxes on Jan. 1, 2015? Chain email gets tax rates ...', u\"Obamacare penalty payers ask, 'Where's my refund?' - Feb. 5, 2015\", u'ObamaCare 2015 - Obamacare Facts', u'Full List of Obama Tax Hikes | Americans for Tax Reform', u'Affordable Care Act Tax Provisions - IRS.gov', u'New Taxes Under The Affordable Care Act | Investopedia', u'Avoid the Obamacare No-Insurance Penalty by Jan. 31 | Investopedia', u'Tax Changes Coming in 2015 | Personal Finance | US News', u\"Here's How Obamacare Is Going To Affect Your Taxes - Huffington Post\", u'Will you owe a penalty under Obamacare? - HealthInsurance.org']\n",
      "\n",
      "(2015, 2) income state [u'ObamaCare 2015 - Obamacare Facts', u'State-by-State ObamaCare Extensions for 2015 - Obamacare Facts', u'File Taxes For ObamaCare - Obamacare Facts', u'Official Marketplace Dates And Deadlines | HealthCare.gov', u'Where the states stand on Medicaid expansion | The Advisory Board ...', u\"Obamacare penalty payers ask, 'Where's my refund?' - Feb. 5, 2015\", u'I have to pay back my Obamacare subsidy - Feb. 13, 2015 - CNN Money', u'New York health insurance exchange / marketplace: Obamacare ...', u'Avoid the Obamacare No-Insurance Penalty by Jan. 31 | Investopedia', u'Five Easy Ways To Game Obamacare - The Federalist']\n",
      "\n",
      "(2015, 2) income qualify [u'ObamaCare 2015 - Obamacare Facts', u'What is The Minimum Income For ObamaCare? - Obamacare Facts', u'Official Marketplace Dates And Deadlines | HealthCare.gov', u'Recipients of Obamacare Subsidies Could Face Tax Surprise - Money', u'I have to pay back my Obamacare subsidy - Feb. 13, 2015 - CNN Money', u'Will you receive an Obamacare premium subsidy? - HealthInsurance.org', u'Qualifying events that can get you coverage - HealthInsurance.org', u'Avoid the Obamacare No-Insurance Penalty by Jan. 31 | Investopedia', u'Are You Insured? Obamacare Deadline Quickly Approaching - Forbes', u'Five Easy Ways To Game Obamacare - The Federalist']\n",
      "\n",
      "(2015, 2) increase vaccination rates [u'ObamaCare 2015 - Obamacare Facts', u'Vaccination and ObamaCare - Obamacare Facts', u'ObamaCare Enrollment Numbers - ObamaCare Facts', u'The HPV Vaccine: Access and Use in the U.S. | The Henry J. Kaiser ...', u'Improving Vaccination Coverage Fact Sheet - Centers for Disease ...', u'Reminders-Strategies to Raise Vaccination Rates in Adult Patients ...', u\"Beyond Abolishing the 'Personal Belief Exemption' To Raise ... - KQED\", u'Adult Immunization 2015: Our Performance Review - Medscape', u'Is Mandatory Vaccination on the Horizon Amid Measles Outbreak ...', u\"8 Ways That the ACA Is Affecting Doctors' Incomes - NEJM CareerCenter\"]\n",
      "\n",
      "(2015, 3) zwick [u'ObamaCare Enrollment Numbers As of March 2015 - Obamacare Facts', u'ObamaCare Enrollment Numbers - ObamaCare Facts', u'Missed Deadline for ObamaCare - ObamaCare Facts', u'Rubio, Eyeing 2016 Run, Builds Rapport With Romney - Newsmax.com', u'March | 2014 | The AnthropoZine', u'Finance | The AnthropoZine', u'Conservative Review - The struggle for the soul of the Republican Party', u'Donald Trump -vs- Paul Ryan \\u2013 A Deeper Dive\\u2026 | The Last Refuge', u'March | 2015 | Tea Party Dojo | Page 3', u'My Favorite Newsletter: Nature Communications - 04 March 2015']\n",
      "\n",
      "(2015, 3) matthews [u'Sylvia Mathews Burwell: Supreme Court ruling against Obamacare ...', u'Dem Senators Beg For Another Obamacare Delay | The Daily Caller', u'King v. Burwell - Wikipedia, the free encyclopedia', u\"CBO Downgrades Obamacare's Enrollment And Subsidy Projections ...\", u'Examining Plummeting Obamacare Enrollment Projections, Part II ...', u'Obamacare Losing Enrollees: Exchange Enrollment Drops By Over ...', u'ObamaCare Enrollment Numbers As of March 2015 - Obamacare Facts', u'14-114 King v. Burwell (06/25/2015) - Supreme Court', u'Obamacare - Vox', u\"Millennials' Health Insurance Premiums Skyrocket Under Obamacare ...\"]\n",
      "\n",
      "(2015, 3) matter severe [u'Why Obamacare fails poor and middle class - CNN.com', u'ObamaCare Enrollment Numbers As of March 2015 - Obamacare Facts', u'ObamaCare Stories: Real Life Stories on ObamaCare', u'ObamaCare Myths: Myths About the Affordable Care Act', u'Repeal ObamaCare or Defund ObamaCare? - ObamaCare Facts', u'Missed Deadline for ObamaCare - ObamaCare Facts', u'Impact of Obamacare: Facts, Statistics, Charts and Videos About ...', u'What Obamacare Subsidies Are For - The Atlantic', u'Republicans and Obamacare - The Atlantic', u'Supreme Court to hear ObamaCare subsidy challenge in March | TheHill']\n",
      "\n",
      "(2015, 3) matter severe decline [u'Why Obamacare fails poor and middle class - CNN.com', u'ObamaCare Stories: Real Life Stories on ObamaCare', u'Study Shows ER Visits Up Under ACA - Obamacare Facts', u'ObamaCare Enrollment Numbers As of March 2015 - Obamacare Facts', u'Uninsured rates drop dramatically under Obamacare - USA Today', u'The Good News About Obamacare - The New Yorker', u'Supreme Court to hear ObamaCare subsidy challenge in March | TheHill', u\"Year Six of the Affordable Care Act: Obamacare's Mounting Problems\", u'Impact of the Affordable Care Act on the Health Care Workforce', u'MSNBC answers your Obamacare questions | MSNBC']\n",
      "\n",
      "(2015, 3) matter times [u'Missed Deadline for ObamaCare - ObamaCare Facts', u'ObamaCare Enrollment Numbers As of March 2015 - Obamacare Facts', u'ObamaCare Extra Enrollment 2015 March 15 - April 30 - Obamacare ...', u'Obamacare Goes to the Supreme Court - The New York Times', u'Republicans and Obamacare - The Atlantic', u'70 Changes to ObamaCare\\u2026 \\u2014 So Far | Galen Institute', u'Obamacare and the Supreme Court: Four words could bring the law ...', u'Thanks Obamacare: This Is What Americans Spent Most Money On In ...', u'Obamacare cancellations feared for nearly ... - Washington Times', u'What Is The Obamacare Deadline For Enrollment? - Obamacare 2016']\n",
      "\n",
      "(2015, 3) matter weight [u'Health Insurance Exchange Guide - ObamaCare Facts', u'ObamaCare Enrollment Numbers As of March 2015 - Obamacare Facts', u'ObamaCare Stories: Real Life Stories on ObamaCare', u'How Obamacare Allows Companies to Punish Fat Employees | Observer', u'Everything you need to know about life under Obamacare - The ...', u'King v. Burwell - Wikipedia, the free encyclopedia', u'Patient Protection and Affordable Care Act - Wikipedia, the free ...', u'Obamacare Faces Toughest Test in Supreme Court Challenge - NBC ...', u'Justices to weigh subsidies for health insurance: In Plain English ...', u'Obamacare open enrollment: What you need to know - CNN.com']\n",
      "\n",
      "(2015, 3) matter weight bodies [u'How Obamacare Allows Companies to Punish Fat Employees | Observer', u'Obamacare Preventive Care', u'ObamaCare Enrollment Numbers As of March 2015 - Obamacare Facts', u'Why Obamacare fails poor and middle class - CNN.com', u'King v. Burwell - Wikipedia, the free encyclopedia', u'Patient Protection and Affordable Care Act - Wikipedia, the free ...', u'An Obamacare Fine on Overweight Americans: Discriminatory and ...', u'Roberts Nearly Silent as Partisan Sparks Fly In Obamacare Case ...', u'This Is What The Latest Obamacare Supreme Court Case Is All About', u'Facts About The \"Obamacare Chip\" Hoax - Obamacare 2016']\n",
      "\n",
      "(2015, 3) clinical social worker [u'OASW Inspirational Leaders: Social Work Week, March 2-8, 2015', u'Social Work Month 2016 - National Association of Social Workers', u\"Is It That Time of Year? The New Social Worker's 2015 Top 5 Social ...\", u\"5 ways that Obamacare might have changed your doctor's office visit ...\", u'NASW-NJ newSWire - March 5, 2015', u'HAPPy SOCIAl WORK MONtH - National Association of Social ...', u'Spring 2015 - American Association for Psychoanalysis in Clinical ...', u'document - New York State Society for Clinical Social Work', u'Free Webinars for Mental Health Professionals, January, 2015 | Social ...', u'Erik Hans Larson, LICSW, PI | LinkedIn']\n",
      "\n",
      "(2015, 3) clinical social [u\"5 ways that Obamacare might have changed your doctor's office visit ...\", u'The Affordable Care Act at 5 Years \\u2014 NEJM', u'Patient Protection and Affordable Care Act - Wikipedia, the free ...', u'ObamaCare Enrollment Numbers As of March 2015 - Obamacare Facts', u'Summary of Provisions in The Patient Protection ... - ObamaCare Facts', u'5 ways Obamacare has made Americans healthier - Mar. 23, 2015', u\"Year Six of the Affordable Care Act: Obamacare's Mounting Problems\", u'Rethinking the Hospital Readmissions Reduction Program', u'Opinions on Obamacare remain divided along party lines as Supreme ...', u'States continue war over Obamacare | Center for Public Integrity']\n",
      "\n",
      "(2015, 3) matters america [u'ObamaCare Enrollment Numbers As of March 2015 - Obamacare Facts', u'5 ways Obamacare has made Americans healthier - Mar. 23, 2015', u'Obamacare is 5 years old, and Americans are still worried about death ...', u'Impact of Obamacare: Facts, Statistics, Charts and Videos About ...', u'Obamacare and the Supreme Court: When ambiguity is a saving ...', u'Obamacare and the Supreme Court: Four words could bring the law ...', u\"Conservative Media's Worst Predictions For Obamacare That Never ...\", u'Media Matters for America |', u'Republicans and Obamacare - The Atlantic', u'Obamacare - Barack Obama']\n",
      "\n",
      "(2015, 4) zuckerberg [u'ObamaCare Extra Enrollment 2015 March 15 - April 30 - Obamacare ...', u'ObamaCare Extension - ObamaCare Facts', u'ObamaCare 2015 - Obamacare Facts', u\"Few sign up during 'special' Obamacare enrollment - CNBC.com\", u'California, Washington shine during special Obamacare sign-ups', u'Obamacare grace period attracts few enrollees - CNBC.com', u'The Obamacare Open Enrollment Deadline Has Been Extended - Time', u'Obamacare spending leads to a higher budget deficit so far in 2015 ...', u'Ron Johnson offers latest GOP plan to deal with Obamacare subsidies ...', u\"IRS's John Koskinen on Tax Day: 120M have filed so far - Washington ...\"]\n",
      "\n",
      "(2015, 4) including washington post [u'Millions more will now have extra time to sign up for ... - Washington Post', u\"Why are Obamacare's polling numbers so low? - The Washington Post\", u'Two maps explain how much the Supreme Court ... - Washington Post', u'Obamacare shows best poll numbers since ... - Washington Post', u\"Obama's claim the Affordable Care Act was a 'major ... - Washington Post\", u'The coming revolution in how employers provide ... - Washington Post', u'GOP resistance to Obamacare is working brilliantly - Washington Post', u'Obamacare mandated better mental health-care ... - Washington Post', u'UnitedHealth Group to exit Obamacare exchanges ... - Washington Post', u'Republicans reach budget deal, take aim at ... - Washington Post']\n",
      "\n",
      "(2015, 4) income towns [u'Hospitals leave poorer communities for more wealthy ones - Apr. 20 ...', u'Why Obamacare fails poor and middle class - CNN.com', u'ObamaCare Extra Enrollment 2015 March 15 - April 30 - Obamacare ...', u\"How Obamacare's Lack of Transparency Costs Taxpayers - Political ...\", u\"Obamacare Procrastinators Beware: There Won't Be a Deadline ...\", u'11 Things to Know When Filling Out Your Tax Return This Year | MONEY', u'Obamacare 2015: Higher costs, higher penalties - CBS News', u'Starbucks woman claims Rick Scott cut Medicaid, preventing her from ...', u'Why Urban Hospitals Are Leaving Cities for Fancy Suburbs - Governing', u\"Holes in the Safety Net: Obamacare and the Future of New York City's ...\"]\n",
      "\n",
      "(2015, 4) income transfer [u'ObamaCare Special Enrollment Period - ObamaCare Facts', u'Health Insurance Exchange Guide - ObamaCare Facts', u'Can I Keep My Health Care Plan Under Obamacare?', u'How Does Health Insurance Work When Moving ... - ObamaCare Facts', u'Health Insurance Options When Moving | HealthCare.gov', u'7 things to know about reporting a life change | HealthCare.gov', u'Can I change my Obamacare health plan? - MarketWatch', u'70 Changes to ObamaCare\\u2026 \\u2014 So Far | Galen Institute', u\"ACA \\u2013 Obamacare's Effects on American Expats Living Abroad ...\", u'Obamacare Is Hurting the Middle Class - Senate Republican Policy ...']\n",
      "\n",
      "(2015, 4) income wealth inequality [u'Has Obamacare Turned Voters Against Sharing the Wealth? - The ...', u'Income Inequality Is Costing the U.S. on Social Issues - The New York ...', u\"Obamacare's Effect on Income Inequality - Good or Bad? - Zane Benefits\", u'Americans Continue to Say U.S. Wealth Distribution Is Unfair - Gallup', u\"Bill O'Reilly: Income inequality in America | Fox News\", u'The American people are clueless: Why income inequality is so much ...', u'The Coverage Gap: Uninsured Poor Adults in States that Do Not ...', u\"Raising Income Taxes Won't Fix Wealth Inequality | RealClearScience\", u\"Study: Obamacare Hasn't Solved Health Care Disparities | US News\", u'Robert Reich']\n",
      "\n",
      "(2015, 4) income whichever larger [u'Many Obamacare Policyholders Face Tax Surprises This Year : Shots ...', u'ObamaCare 2015 - Obamacare Facts', u'File Taxes For ObamaCare - Obamacare Facts', u'ObamaCare Mandate: Exemption and Tax Penalty - ObamaCare Facts', u'How Obamacare Just Made Filing Your Taxes Worse | TIME', u'Obamacare Open Enrollment Ends Jan. 31; Stiffer Penalties For ...', u'Obamacare 2015: Higher costs, higher penalties - CBS News', u'More time to avoid the Obamacare tax penalty | Center for Health ...', u'Obamacare: Penalties And Exemptions - Forbes', u'Obamacare took $729 bite out of tax refunds - H&R Block - Apr. 27, 2015']\n",
      "\n",
      "(2015, 4) income year [u'File Taxes For ObamaCare - Obamacare Facts', u'What is The Minimum Income For ObamaCare? - Obamacare Facts', u'ObamaCare 2015 - Obamacare Facts', u'Tax Credits and Changes to Income - Obamacare Facts', u'Many Obamacare Policyholders Face Tax Surprises This Year : Shots ...', u\"Which Year's Income Determines Affordable Care Act (\\u201cObamacare ...\", u'Are You Insured? Obamacare Deadline Quickly Approaching - Forbes', u'Two-thirds of Obamacare customers had to pay back subsidy amount ...', u\"Obamacare fine and tax punishment begins April 2015 -- Don't pay it\", u'Obamacare 2015: Higher costs, higher penalties - CBS News']\n",
      "\n",
      "(2015, 4) incompetence [u\"Incompetence, Mismanagement Plague California's Obamacare ...\", u'Obamacare Incompetence | TIME.com', u'IWF - Adding Corruption to ObamaCare Incompetence', u'Chinese Cyberattack -- Latest Proof of Cybersecurity Incompetence ...', u\"Incompetence, Mismanagement Plague California's Obamacare ...\", u'Watchdog audit finds billions in wasted dollars on Obamacare fiasco ...', u'ObamaCare Extra Enrollment 2015 March 15 - April 30 - Obamacare ...', u'After 5 Years, ObamaCare Still Stinks, Even with Subsidies', u'Serious help needed - Healthcare.gov Incompetence and Lawsuits ...', u'More Obamacare Incompetence - Senate Republican Policy ...']\n",
      "\n",
      "(2015, 4) inconsistent accounting [u'Report: Lack of Follow Up Leading to Obamacare Fraud - Newsmax.com', u\"Year Six of the Affordable Care Act: Obamacare's Mounting Problems\", u'PDF, 62 pages - US Government Accountability Office', u'File Taxes For ObamaCare - Obamacare Facts', u'ObamaCare Extra Enrollment 2015 March 15 - April 30 - Obamacare ...', u'OBAMACARNAGE (CONT.): 1.7 BILLION DOLLARS IN UNCHECKED ...', u'Obamacare is facing another big threat: accounting - Quartz', u'Obamacare Fraud Is Rampant and Unchecked, GAO Warns | The ...', u'Why We Should Replace Obamacare With A Universal Health Tax ...', u'An Obamacare guide for freelancers and the self-employed']\n",
      "\n",
      "(2015, 4) inconsistent accounting lack [u'Report: Lack of Follow Up Leading to Obamacare Fraud - Newsmax.com', u\"Year Six of the Affordable Care Act: Obamacare's Mounting Problems\", u\"How Obamacare's Lack of Transparency Costs Taxpayers - Political ...\", u'Operational Problems with ACA Exchanges | U.S. Health Policy Gateway', u'PDF, 62 pages - US Government Accountability Office', u'Why We Should Replace Obamacare With A Universal Health Tax ...', u'File Taxes For ObamaCare - Obamacare Facts', u'Facts on Deaths Due to Lack of Health Insurance ... - ObamaCare Facts', u'Obamacare Fraud Is Rampant and Unchecked, GAO Warns | The ...', u'An Obamacare guide for freelancers and the self-employed']\n",
      "\n",
      "(2015, 5) best deal [u'ObamaCare 2015 - Obamacare Facts', u'What is the Best Health Insurance Plan? - Obamacare Facts', u'How to Buy Health Insurance - ObamaCare Facts', u'UnitedHealth warns it may exit Obamacare plans - USA Today', u'Obamacare 2015: Higher costs, higher penalties - CBS News', u'Obamacare Shopping Is More Important Than Ever - The New York ...', u\"Obamacare's 'risk' program may shake up insurance prices - CNBC.com\", u'Why Obamacare May End Up Raising Medicare Costs | MONEY - Time', u'What Type of Health Insurance Plans are Available in 2015?', u'Florida health insurance exchange / marketplace: Obamacare ...']\n",
      "\n",
      "(2015, 5) kaufax applauded measure [u'How Many People Has Obamacare Really Insured? - Forbes', u'How Does ObamaCare Control Costs? - Obamacare Facts', u'How Do Employers Measure Full-time Status? - Obamacare Facts', u'US & World News \\u2013 The Yeshiva World', <span dir=\"rtl\">\\u0637\\u0644\\u0627\\u0642 \\u0639\\u0627\\u0637\\u0641\\u06cc\\u060c \\u0646\\u062a\\u06cc\\u062c\\u0647 \\u06cc \\u062e\\u0648\\u062f \\u0641\\u0631\\u0627\\u0645\\u0648\\u0634\\u06cc - \\u0645\\u0648\\u0633\\u0633\\u0647 \\u062d\\u0642\\u0648\\u0642\\u06cc \\u0641\\u0642\\u06cc\\u0647 \\u0646\\u0635\\u06cc\\u0631\\u06cc</span>, u'ShowIt ShowIt V1.9.17 - Onkelmal', u'IMG 0758 \\xab Altworld Photo Gallery/Botanic_Garden', u'Aktuelles - Ferienwohnungen Ranner', u'Aplend - Articles - Paintball v Tatry Holiday Resort / Ve\\u013ek\\xfd Slavkov', u'Video Post Example | Max - MegaDrupal']\n",
      "\n",
      "(2015, 5) kazakhstan [u'ObamaCare 2015 - Obamacare Facts', u'Obamacare exchanges help, but confused consumers are still ...', u'UnitedHealth warns it may exit Obamacare plans - USA Today', u'UnitedHealth, owner of United Healthcare, may exit Obamacare - Nov ...', u\"Kazakhstan's Economy: Collateral Damage From Low Oil Prices and ...\", u'Adopted twins journey from Kazakhstan to U.S. military', u'Chinese Leader Xi Jinping to Visit Kazakhstan in Early May - Sputnik', u'Rural Medicine in Kazakhstan | Victoria Saadat, MSc | LinkedIn', u'File hosting service Mega forced to give user data to US court ...', u'FARK.com: (8727003) Kazakhstan town council: \"Those are just...you ...']\n",
      "\n",
      "(2015, 5) kayaks [u'ObamaCare 2015 - Obamacare Facts', u'ObamaCare Myths: Myths About the Affordable Care Act', u'The Real Reason Obamacare May Not Be Affordable After All -- The ...', u\"AJ+ - Seattle Activists Say 'Shell No!' | Facebook\", u'The 10 Best Restaurants Near Coastal Kayak Charters - TripAdvisor', u'Evnironmentalists Protest Arctic Oil Drilling While Paddling Oil-Based ...', u'May 2015 Archives - 11/21 - MintPress News | Page 11', u'Kayaker, 68, finishes 1,600-mile river adventure from Helena to ...', u'Affordable Insurance Obamacare | insurance job titles', u'Economic Freedom: May 2015']\n",
      "\n",
      "(2015, 5) kay [u'State-by-State ObamaCare Extensions for 2015 - Obamacare Facts', u'ObamaCare 2015 - Obamacare Facts', u\"Is Obamacare 'collapsing'? - HealthInsurance.org\", u'Kay Steiger on Twitter: \"Lifelong Republican, infamous for ...', u'Speak Out: Your Obamacare Nightmare | The Daily Rant', u\"Here's How Obamacare Is Going To Affect Your Taxes - Huffington Post\", u'The Freakout From An Obamacare Ruling Could Be Unlike Anything ...', u'UnitedHealth warns it may exit Obamacare plans - USA Today', u'Obamacare Tax Forms: What You Need To Know | Bankrate.com', u'UnitedHealth, owner of United Healthcare, may exit Obamacare - Nov ...']\n",
      "\n",
      "(2015, 5) kavanaugh [u'Religious nonprofits lose Obamacare contraception mandate court ...', u'DC Circuit splits on Origination Clause in latest Obamacare challenge', u'Conservative Federal Judges Wave The White Flag On Obamacare ...', u'Obamacare: California Group to Supreme Court--Again - Breitbart', u'ObamaCare 2015 - Obamacare Facts', u'Obamacare Left Intact as U.S. Supreme Court Rejects Appeal ...', u'Seven-Sky v. Holder - US Court of Appeals', u'How Many People Has Obamacare Really Insured? - Forbes', u\"Obamacare's individual mandate survives again - LA Times\", u\"Today's health-care decision: In Plain English : SCOTUSblog\"]\n",
      "\n",
      "(2015, 5) kaufax wrote [u'ObamaCare 2015 - Obamacare Facts', u'Jonathan Gruber and ObamaCare - Obamacare Facts', u'What Happens When Republicans Realize Obamacare Was Written ...', u'May 2015 \\u2013 Page 3 \\u2013 Islam Exposed Online', u'screenplays | muymue', u'Obama Threatens To Cut funds For School Lunches If Schools Do Not ...', u'May 2015 - Focus on Jerusalem', u'NESARA- REPUBLIC NOW - GALACTIC NEWS', u'Politics for Pros- moderated | Political Discussion Forums', u'Kerpen News - Kerpen webcam']\n",
      "\n",
      "(2015, 5) kaufax said [u'UnitedHealth May Quit Obamacare in Blow to Health Law - Bloomberg', u'ObamaCare Myths: Myths About the Affordable Care Act', u'UnitedHealth, owner of United Healthcare, may exit Obamacare - Nov ...', u'May 2015 \\u2013 Page 5 \\u2013 Absolute Truth from the Word of God', u'29 | May | 2015 | THEAFRICANSPEAR.COM', u'May 2015 \\u2013 Page 3 \\u2013 Islam Exposed Online', u\"NEV'S RAPTURE BLOG DEVOTED TO THE SECOND COMING OF ...\", u'May 2015 - Focus on Jerusalem', u'Thursday, May 28, 2015 - NESARA- REPUBLIC NOW - GALACTIC ...', u'broadcasting | muymue']\n",
      "\n",
      "(2015, 5) kaufax applauded [u'ObamaCare 2015 - Obamacare Facts', u'Can I Keep My Health Care Plan Under Obamacare?', u'UnitedHealth, owner of United Healthcare, may exit Obamacare - Nov ...', u'US & World News \\u2013 The Yeshiva World', u'8.13.15 by stltoday.com - issuu', u'ShowIt ShowIt V1.9.17 - Onkelmal', u'Trust | Pronk Palisades', u'Aktuelles - Ferienwohnungen Ranner', u'The Top 5 Best Blogs on Desert race crash - Notey', u'Ogl\\u0105daj szale\\u0144stwa OR-owej nocy! - Osobowo\\u015b\\u0107 Roku MICE Poland']\n",
      "\n",
      "(2015, 5) keepers [u'Millions of Obamacare subsidy recipients may need to pay back-taxes ...', u'ObamaCare 2015 - Obamacare Facts', u'Can I Keep My Health Care Plan Under Obamacare?', u'Alternatives to Obamacare: Comparing Samaritan Ministries, Medi ...', u'Enrolling in a 2015 Health Plan with Anthem BC/BS HealthKeepers in ...', u'Honest History - Volume Four - Google Books Result', u'Obamacare premiums for 2015 begin to roll out - CNBC.com', u'Budget scorekeeper: Obamacare costs rising as more enroll in ...', u\"The President Speaks at the Launch of the My Brother's Keeper Alliance\", u'The Real Reason Obamacare May Not Be Affordable After All -- The ...']\n",
      "\n",
      "(2015, 6) zug island homeland [u'Republicans Trashed Democracy in Michigan. Now They Want To ...', u'Senate report: Illegal immigrants benefited from up to $750M in ...', u'Why Obamacare Lives | RAND', u'The Distant Future of June 5th 2015 - Obamacare Facts', u'Daily Kos: TomDispatch', u'June | 2015 | Pronk Palisades', u'Kommentare - Fanfarenzug der Rennstadt Hockenheim eV', u'IndyWatch Feed Nthamerica', u'Vatican Accord Recognizing De Facto Palestinian State Takes Effect ...', u'Tyler Durden, Author at Macro - EconomicBlogs']\n",
      "\n",
      "(2015, 6) improve transparency [u'Will these big Obamacare rates get approved? - CNBC.com', u'House Unanimously Passes Kelly Bill to Improve Medicare Advantage ...', u'Supreme Court Rejects Obamacare Lawsuit, Preserving Insurance For ...', u\"Doctors, Hospitals Won't Accept Obamacare Marketplace Plans | US ...\", u'Obamacare: Not So Affordable After All? -- The Motley Fool', u'Patient Protection and Affordable Care Act - Wikipedia, the free ...', u\"Why Prescription Drugs Aren't Part of Obamacare - Fortune\", u'How Obamacare improved mental health coverage', u'Read the Law | HHS.gov', u'Increased Transparency and Consumer Protections for 2016 ...']\n",
      "\n",
      "(2015, 6) impugn [u'ObamaCare June 2015 Overview - Obamacare Facts', u'The Distant Future of June 5th 2015 - Obamacare Facts', u'Obamacare lives on after Supreme Court ruling - CNNPolitics.com', u'A Legal Blow to Obamacare - Page 9 - International Skeptics Forum', u\"PNHP's Official Blog - Physicians for a National Health Program\", u'My hellacious health care nightmare -- Obamacare has ruined me ...', u'South African Reserve Bank and Another v Shuttleworth and Another ...', u'Stephen Williamson: New Monetarist Economics: June 2015', u'Informative Links for June 11, 2015 - What Am I Missing Here', u'June | 2015 | CoulterWatch']\n",
      "\n",
      "(2015, 6) improving access [u'The Affordable Care Act is Working | HHS.gov', u\"Obamacare's side effects: Fewer uninsured, better health - CNBC.com\", u'Why Obamacare fails poor and middle class - CNN.com', u'The Affordable Care Act at 5 Years \\u2014 NEJM', u'ObamaCare June 2015 Overview - Obamacare Facts', u'ObamaCare Facts: Facts on the Affordable Care Act', u'Study: Obamacare improves coverage, care access - Business Insider', u'Obamacare helping improve access to medical care for the poor, new ...', u'Repairing the ObamaCare Wreckage - WSJ', u'Media Coverage \\u2013 Benjamin Sommers \\u2013 Harvard T.H. Chan School of ...']\n",
      "\n",
      "(2015, 6) improves quality [u'Why Obamacare fails poor and middle class - CNN.com', u'The Affordable Care Act is Working | HHS.gov', u'Obamacare Gives Big Windfall To Insurance Companies As Quality of ...', u'How to Improve Obamacare | New Republic', u'The Affordable Care Act at 5 Years \\u2014 NEJM', u'After Obamacare: The next Democratic health agenda - Vox', u'Five Ways Obamacare Has Improved Your Health Care - Newsweek', u'ObamaCare Myths: Myths About the Affordable Care Act', u'ObamaCare: Pros and Cons of ObamaCare - ObamaCare Facts', u'Patient Protection and Affordable Care Act - Wikipedia, the free ...']\n",
      "\n",
      "(2015, 6) improvement care [u'How to Improve Obamacare | New Republic', u'The Affordable Care Act at 5 Years \\u2014 NEJM', u'Why Obamacare fails poor and middle class - CNN.com', u\"Obamacare's side effects: Fewer uninsured, better health - CNBC.com\", u'The Affordable Care Act is Working | HHS.gov', u\"If Obamacare Is Here To Stay, It's Going To Need Some Fixing. Here ...\", u'ObamaCare Myths: Myths About the Affordable Care Act', u'ObamaCare Summary : Obama Health Care Summary', u'ObamaCare News: Daily ObamaCare Updates - ObamaCare Facts', u'ObamaCare Stories: Real Life Stories on ObamaCare']\n",
      "\n",
      "(2015, 6) improved quality life [u'The Affordable Care Act is Working | HHS.gov', u'The Affordable Care Act at 5 Years \\u2014 NEJM', u'Why Obamacare fails poor and middle class - CNN.com', u'ObamaCare Myths: Myths About the Affordable Care Act', u'Five Ways Obamacare Has Improved Your Health Care - Newsweek', u'Patient Protection and Affordable Care Act - Wikipedia, the free ...', u'After Obamacare: The next Democratic health agenda - Vox', u\"What's Next For The Affordable Care Act? Life After King v. Burwell\", u'Key Proposals to Strengthen the Affordable Care Act - The Century ...', u\"ACA may have saved up to 87,000 lives (and I'm not even talking ...\"]\n",
      "\n",
      "(2015, 6) improved quality [u'The Affordable Care Act is Working | HHS.gov', u'Why Obamacare fails poor and middle class - CNN.com', u'The Affordable Care Act at 5 Years \\u2014 NEJM', u'Obamacare Gives Big Windfall To Insurance Companies As Quality of ...', u'How to Improve Obamacare | New Republic', u'After Obamacare: The next Democratic health agenda - Vox', u'Patient Protection and Affordable Care Act - Wikipedia, the free ...', u'ObamaCare Myths: Myths About the Affordable Care Act', u'Five Ways Obamacare Has Improved Your Health Care - Newsweek', u\"Obamacare: the business world's biggest disruptor - Fortune\"]\n",
      "\n",
      "(2015, 6) improved access [u'The Affordable Care Act is Working | HHS.gov', u\"Obamacare's side effects: Fewer uninsured, better health - CNBC.com\", u'Why Obamacare fails poor and middle class - CNN.com', u'ObamaCare June 2015 Overview - Obamacare Facts', u'The Affordable Care Act at 5 Years \\u2014 NEJM', u\"If Obamacare Is Here To Stay, It's Going To Need Some Fixing. Here ...\", u'Media Coverage \\u2013 Benjamin Sommers \\u2013 Harvard T.H. Chan School of ...', u\"Court Saves Obamacare's Bacon | Medpage Today\", u'Patient Protection and Affordable Care Act - Wikipedia, the free ...', u\"Study: Obamacare Hasn't Solved Health Care Disparities | US News\"]\n",
      "\n",
      "(2015, 6) improve relations [u\"If Obamacare Is Here To Stay, It's Going To Need Some Fixing. Here ...\", u'Why Obamacare fails poor and middle class - CNN.com', u'Big winner from Obamacare ruling: Health care stocks - Jun. 25, 2015', u'The Affordable Care Act at 5 Years \\u2014 NEJM', u'The Affordable Care Act is Working | HHS.gov', u\"Six Problems With The ACA That Aren't Going Away - Health Affairs\", u'The Impact of Obamacare on the Doctor-Patient Relationship | Patient ...', u'How to Improve Obamacare | New Republic', u'Obamacare Repeal Would Add Billions to Deficit : The Two-Way : NPR', u'14-114 King v. Burwell (06/25/2015) - Supreme Court']\n",
      "\n",
      "(2015, 7) zuma press [u'6 Insurance Companies Created Under Obamacare Collapsed', u\"John Kasich on Common Core: 'I Want Kids to Jump Higher'\", u'The Export-Import Bank Needs to Stay Dead - The Daily Signal', u'New Year Brings New Obamacare Fines - The Daily Signal', u'Maine to Allow Concealed Guns Without a Permit - The Daily Signal', u\"Obama's Annoyance Shows Major Garrett Asked Right Questions\", u'Conservatives Push for Obamacare Repeal With Reconciliation', u\"Detroit Teacher 'Sick Out' Underway While Just 8% of Students Can ...\", u'Religious groups press opposition to Obamacare contraceptive ...', u'Obamacare has a fraud problem - Business Insider']\n",
      "\n",
      "(2015, 7) identification male kept [u\"Obamacare's Failed Transgender Promise - The Daily Beast\", u'Do We Still Need Planned Parenthood? - Obamacare Facts', u'ObamaCare Birth Control - Obamacare Facts', u'Nearly a dozen fake HealthCare.gov enrollees kept plans in 2015 ...', u'Fake enrollees keep getting Obamacare subsidies - Jul. 15, 2015', u\"Donald Trump Hates Obamacare - So I Asked Him How He'd Replace ...\", u'The Birth of Obamacare - The Atlantic', u\"Obamacare insanity: so-called 'tax' covers pap smears and ...\", u\"ObamaCare's Prices Will Keep Surging - WSJ\", u'Obamacare has a fraud problem - Business Insider']\n",
      "\n",
      "(2015, 7) ideology forced [u'The Fight Over Obamacare Was a Giant Political Charade | Common ...', u\"Forced to Have Coverage, Can't Afford It - Story - Obamacare Facts\", u'Do We Still Need Planned Parenthood? - Obamacare Facts', u'Why Obamacare fails poor and middle class - CNN.com', u'The Birth of Obamacare - The Atlantic', u\"Trump: I Still Want 'Healthcare For Everybody,' but Not Obamacare\", u'ACA Database: Are There Any Plans in the Works to Force Doctors to ...', u'Obamacare may be changing the way that American farms work ...', u'Blog: Unions screwed by Obamacare - American Thinker', u'Revised Obamacare contraception rule still violates religious beliefs ...']\n",
      "\n",
      "(2015, 7) identity politics [u\"Sanders, O'Malley Shouted Off Stage At Progressive Conference | The ...\", u'When you Live by Identity Politics, You Die by Identity Politics ...', u\"Hands Up, Don't Execute: LaVoy Finicum and Identity Politics \\u2013 Voices ...\", u'Be Careful With Political Scorecards And One-Issue And Identity ...', u'Netroots Nation Black Lives Matter protest: Hillary Clinton needs to ...', u\"Americans' Views of Healthcare Law Improve - Gallup\", u'Articles: Identity Politics: Fool Us Twice, Shame on Us', u\"Carly Fiorina: Hillary Clinton 'is going to continue to play identity ...\", u'GayPatriot \\xbb Identity Politics', u'Beyond Identity Politics by Ruy Teixeira and John Halpin | The ...']\n",
      "\n",
      "(2015, 7) identify person [u\"Donald Trump Hates Obamacare - So I Asked Him How He'd Replace ...\", u'ObamaCare 2015 - Obamacare Facts', u'Health Care Facts: Why We Need Health Care ... - ObamaCare Facts', u\"Six Problems With The ACA That Aren't Going Away - Health Affairs\", u'Despite Obamacare Promise, Transgender People Have Trouble ...', u'ACASignups.net | Tracking Enrollments for the Affordable Care Act ...', u'HealthCare.gov - Wikipedia, the free encyclopedia', u'Obama revives Obamacare death panel | Fellowship of the Minds', u'US Citizens Abroad and OBAMACARE \\u2013 UPDATED August 1 2015 ...', u'Who Is Exempt From Obamacare? Exemption Qualifications.']\n",
      "\n",
      "(2015, 7) identify liberals [u'Nixoncare vs. Obamacare: Comparing the rhetoric and reality of two ...', u\"Donald Trump Hates Obamacare - So I Asked Him How He'd Replace ...\", u'The Birth of Obamacare - The Atlantic', u\"Trump: I Still Want 'Healthcare For Everybody,' but Not Obamacare\", u'Progressive Critics of Obamacare Still Not Happy: Is Glass Half Empty ...', u'ObamaCare Stories: Real Life Stories on ObamaCare', u'Opinions on Obamacare remain divided along party lines as Supreme ...', u'The Fight Over Obamacare Was a Giant Political Charade | Common ...', u\"Americans' Views of Healthcare Law Improve - Gallup\", u'Obamacare penalty hits more Americans than expected - Jul. 22, 2015']\n",
      "\n",
      "(2015, 7) identified liberals [u'Nixoncare vs. Obamacare: Comparing the rhetoric and reality of two ...', u\"Donald Trump Hates Obamacare - So I Asked Him How He'd Replace ...\", u'The Birth of Obamacare - The Atlantic', u'Progressive Critics of Obamacare Still Not Happy: Is Glass Half Empty ...', u'The Fight Over Obamacare Was a Giant Political Charade | Common ...', u\"[Report] | Wrong Prescription?, by Trudy Lieberman | Harper's Magazine\", u\"The many ways in which Donald Trump was once a liberal's liberal ...\", u'ObamaCare Stories: Real Life Stories on ObamaCare', u'WaPo poll: Liberals have won major social issue victories but ... - Hot Air', u'On Obamacare & same sex marriage, the GOP wins big | Brookings ...']\n",
      "\n",
      "(2015, 7) identified conservatives [u'The Birth of Obamacare - The Atlantic', u'Obamacare Repeal: A Conservative Strategy | National Review Online', u'Conservatives Push for Obamacare Repeal With Reconciliation', u\"Ted Cruz takes aim at Congress' Obamacare 'exemption' - Washington ...\", u'Why Republicans Are Losing the Obamacare Battle | The National ...', u\"'I Don't Know': The Ideal Libertarian And Conservative Response To ...\", u'Do doctors really hate Obamacare? - KevinMD.com', u'Do We Still Need Planned Parenthood? - Obamacare Facts', u'Yet Another Obamacare Glitch - The American Interest', u'Is Obamacare preventing access to hospitals in conservative states?']\n",
      "\n",
      "(2015, 7) identification male [u'ObamaCare Birth Control - Obamacare Facts', u'Do We Still Need Planned Parenthood? - Obamacare Facts', u'ObamaCare Young Adults - ObamaCare Facts', u'Despite Obamacare Promise, Transgender People Have Trouble ...', u\"Donald Trump Hates Obamacare - So I Asked Him How He'd Replace ...\", u\"Obamacare's Failed Transgender Promise - The Daily Beast\", u'Who Is Exempt From Obamacare? Exemption Qualifications.', u'Top 10 Ways ObamaCare Sticks It to Young Adults | FreedomWorks', u\"Obamacare insanity: so-called 'tax' covers pap smears and ...\", u'What You Might Not Realize About Obamacare Could Change Your ...']\n",
      "\n",
      "(2015, 7) idiot [u'Online debate over cost of Obamacare turns a simple math question ...', u'Carly Fiorina goes BEASTMODE on PPact, ObamaCare', u'Obamacare Enrollees May be Without Coverage by July', u\"Slate shocked, shocked that ObamaCare didn't fix cost curve \\xab Hot Air\", u'UPDATED x3: See man hate Obamacare. See man refuse to get ...', u\"Forced to Have Coverage, Can't Afford It - Story - Obamacare Facts\", u'Expand Medicare, You Damn Idiots - The Daily Beast', u'The Supreme Court Managed To Settle The Idiotic Obamacare Case ...', u'Obamacare has a fraud problem - Business Insider', u'\\u201cUseful idiots\\u201d college professors discover the reality of Obamacare ...']\n",
      "\n",
      "(2015, 8) zoo officials say [u'In high-profile Kentucky, hospitals say Obamacare has hurt them', u'Obamacare - CNBC.com', u\"Federal officials expect modest Obamacare growth in '16 - CNBC.com\", u\"Walker's health care plan: Repeal Obamacare, replace it with ...\", u'HealthCare.gov - Wikipedia, the free encyclopedia', u\"John Kasich's health care ideas: Priorities like Obamacare without ...\", u'Tardy tax filers risk loss of health care subsidies - News - Yahoo', u\"This senator is the GOP's anti-Trump - Yahoo\", u'Proof Obamacare Requires All Americans to Be Chipped \\u2013 The ...', u'Obamacare rescue ruled out by some states, others weigh options ...']\n",
      "\n",
      "(2015, 8) kids constant danger [u'ObamaCare Stories: Real Life Stories on ObamaCare', u'Do We Still Need Planned Parenthood? - Obamacare Facts', u\"What if I Still Can't Afford Coverage? - Obamacare Facts\", u'ObamaCare In Plain English: What It Means For You | Addicting Info ...', u'Fail, Quit, Lose: The Danger In Glorifying Failure | On Point with Tom ...', u'Hoax Busters - the BIG LIST of Internet Hoaxes', u'Are Your Kids on Facebook? Rapists Will Abduct Them, Warns Viral ...', u'An Honest Liberal Confronts the Problem of Government Dependency ...', u\"The perils of \\u201cGrowth Mindset\\u201d education: Why we're trying to fix our ...\", u\"Parents, stop hovering! It's not your job to remove every obstacle from ...\"]\n",
      "\n",
      "(2015, 8) kids just [u'ObamaCare 2015 - Obamacare Facts', u'Being Denied Medicaid or CHIP - Obamacare Facts', u\"ObamaCare and CHIP (Children's Health Insurance Program)\", u'ObamaCare Stories: Real Life Stories on ObamaCare', u'ObamaCare News: Daily ObamaCare Updates - ObamaCare Facts', u\"Forced to Have Coverage, Can't Afford It - Story - Obamacare Facts\", u'Family Affordability Glitch - Obamacare Facts', u'US Citizens Abroad and OBAMACARE \\u2013 UPDATED August 1 2015 ...', u'Will you owe a penalty under Obamacare? - HealthInsurance.org', u'10 things immigrant families need to know about the Marketplace ...']\n",
      "\n",
      "(2015, 8) kids table [u'ObamaCare 2015 - Obamacare Facts', u'Will you receive an Obamacare premium subsidy? - HealthInsurance.org', u\"Fox opens up the kids' table to all the candidates\\u2026 sort of \\xab Hot Air\", u\"Republican debate 2015: Yes, it's the Trump show - POLITICO\", u\"Insurance rates jumping for Florida's children's health program ...\", u\"Welcome to the GOP kids' table: Why the second-tier debates aren't a ...\", u'Publication 5187 - IRS.gov', u'Celebs Are Gleefully Watching the First Republican Primary Debate ...', u'Florida Doubles Rates For 36,000 KidCare Full Pay Children, and ...', u\"Place cards set at big kids' table: Here are the participants in Thursday ...\"]\n",
      "\n",
      "(2015, 8) kids table debate [u\"Welcome to the GOP kids' table: Why the second-tier debates aren't a ...\", u\"Fox opens up the kids' table to all the candidates\\u2026 sort of \\xab Hot Air\", u\"Republican debate 2015: Yes, it's the Trump show - POLITICO\", u'Celebs Are Gleefully Watching the First Republican Primary Debate ...', u\"Why the 'kids' table' might be better than the main GOP debate ...\", u'All eyes on Trump as Republican debate nears, but Fox will be the ...', u'Transcript: Read the Full Text of the Republican Undercard Debate ...', u\"Place cards set at big kids' table: Here are the participants in Thursday ...\", u\"Something Seems to Be Missing from Fox News' 5 PM Debate: The ...\", u'Four big takeaways from the first GOP presidential primary debate ...']\n",
      "\n",
      "(2015, 8) kikuchi [u'The real deal on Obamacare - Aug. 5, 2015 - CNN Money', u'ObamaCare 2015 - Obamacare Facts', u\"Thanks, Obamacare: America's Uninsured Rate Is Below 10% For First ...\", u'Running After the Kite (2012) - IMDb', u'News Article Archive from January 29, 2015 - Wsj.com', u'Health Partners Dental Insurance Application Uk Cover \\u2013 Viajeo.eu ...', u'Instagram likes hack cydia december 2015 | Is there a real way to get ...', u'Back to TOC - JNS', u'the united states and japan in global context: 2015 - Reischauer Center', u'Film Film Film on Pinterest | Alfred Hitchcock, Diners and Official Trailer']\n",
      "\n",
      "(2015, 8) kill obamacare [u'A Republican Can Kill Obamacare. Will He? - Bloomberg View', u\"Study Proves Republicans Totally Wrong: Obamacare Doesn't Kill Jobs\", u\"No, Obamacare isn't killing full-time jobs, new evidence shows - The ...\", u\"Republicans' Obamacare 'repeal and replace' dilemma joins ...\", u'Impact of ObamaCare on Jobs: Does ObamaCare Kill Jobs?', u'Another Study Debunks Myth That Obamacare Stymies Job Market', u'Blog: Marco Rubio has killed ObamaCare - American Thinker', u'What could kill Obamacare - Mar. 3, 2015 - CNN Money', u'Millions of middle class Americans will remain uninsured despite ...', u'Doubletalk: The Language, Code, and Jargon of a Presidential Election']\n",
      "\n",
      "(2015, 8) killed 000 [u'Impact of ObamaCare on Jobs: Does ObamaCare Kill Jobs?', u'Facts on Deaths Due to Lack of Health Insurance ... - ObamaCare Facts', u'Why Did the U.S. Government Recently Purchase 30,000 Guillotines ...', u'A Republican Can Kill Obamacare. Will He? - Bloomberg View', u'United Health Will Dump Obamacare Offerings in 29 of 34 States ...', u'Obamacare Death Spiral: Insurers to Drop Plans Unless Premiums ...', u'OBAMACARE WILL ONLY COST $50,000 PER NEWLY INSURED ...', u'Death | Blue Isis', u'Death | Blue Isis', u'Texas Death Panel Fights To Remove Coherent Patient From Life ...']\n",
      "\n",
      "(2015, 8) killed incident [u'ObamaCare Stories: Real Life Stories on ObamaCare', u'Impact of ObamaCare on Jobs: Does ObamaCare Kill Jobs?', u'Since the introduction of Obamacare, have any people been killed by ...', u\"Study Proves Republicans Totally Wrong: Obamacare Doesn't Kill Jobs\", u\"Let's face it\\u2026 the only winners from Obamacare were the insurance ...\", u'Will Matt Bevin kill Obamacare in Kentucky? - Hartford Courant', u'Senate passes bill repealing Obamacare - CNNPolitics.com - CNN.com', u'July is the deadliest month of 2015 for police-related killings | US news ...', u'Obama stonewalls SEAL Team 6 Extortion 17 helicopter crash probe ...', u'Obamacare enrollees highly dissatisfied with health coverage - World ...']\n",
      "\n",
      "(2015, 8) killed injured [u'ObamaCare Stories: Real Life Stories on ObamaCare', u'Articles: How the ObamaCare Death Panel Defies the Constitution', u\"They Called Obamacare A 'Job-Killer.' Were They Wrong? - Forbes\", u\"Thanks, Obamacare: America's Uninsured Rate Is Below 10% For First ...\", u'Since the introduction of Obamacare, have any people been killed by ...', u'The latest anti-Obamacare lawsuit, and why it might succeed ... - Vox', u'In high-profile Kentucky, hospitals say Obamacare has hurt them', u'Another Study Debunks Myth That Obamacare Stymies Job Market', u'Senate passes bill repealing Obamacare - CNNPolitics.com - CNN.com', u'Obamacare Penalties May Kill Your Small Business']\n",
      "\n",
      "(2015, 9) leblond doro [u'ObamaCare Enrollment Numbers As of September 2015 - Obamacare ...', u'9.9 Million Still Enrolled and Paid Says September 2015 Report ...', u\"Obamacare 'paid' enrollment drops to 9.9M - CNBC.com\", u\"Jeb Bush: The federal gov shouldn't make new gun laws - CNNPolitics ...\", u'Conspiracy/ Truth on Pinterest | Conspiracy Theories, Illuminati and ...', u'\\u6587\\u7ae0\\u67e5\\u770b\\u9875', u'Barbecue - Mariette Kelley - Sous-titres et traductions / Subtitles and ...', u'jeb bush pas tr\\xe8s chaud sur le climat jeb-bush-pas-tr\\xe8s ... - News JS', u'caberdancer.com - Charleston AGM']\n",
      "\n",
      "(2015, 9) military personnel [u'ObamaCare Enrollment Numbers As of September 2015 - Obamacare ...', u'Health Insurance Coverage in the United States: 2014 - Census.gov', u\"Ted Cruz's Voting Records - The Voter's Self Defense System - Vote ...\", u'Census data shows Obamacare and welfare kept millions out of ...', u'Government shutdown in the United States - Wikipedia, the free ...', u'TRICARE Vs Obamacare, Our Veterans Suffer | September Living', u'TRICARE and the Affordable Care Act Fact Sheet', u'Post-Obamacare: 115,470,000 on Government Health Insurance ...', u'Boehner and Obama Join to Pass Bill Funding Obamacare and Amnesty', u'This New Lawsuit Against Obamacare Has Legs - The Daily Signal']\n",
      "\n",
      "(2015, 9) medicare medicaid social [u'Health Insurance Coverage in the United States: 2014 - Census.gov', u'ObamaCare Medicare: ObamaCare and Medicare - ObamaCare Facts', u'ObamaCare Enrollment Numbers As of September 2015 - Obamacare ...', u'Being Denied Medicaid or CHIP - Obamacare Facts', u'9.9 Million Still Enrolled and Paid Says September 2015 Report ...', u'ObamaCare 2015 - Obamacare Facts', u'Medicare and Medicaid News for Senior Citizens - SeniorJournal.com', u'Lawmakers Propose Sweeping Changes to Medicare, Medicaid ...', u'Health Care Programs Contribute to Increasing Federal Deficit | US ...', u'North Carolina Medicaid: eligibility, enrollment and benefits']\n",
      "\n",
      "(2015, 9) medicare medicare [u'ObamaCare Medicare: ObamaCare and Medicare - ObamaCare Facts', u'Medicare Advantage Plans - ObamaCare Facts', u'Changes to Medicare insurance 2013-2015 - ObamaCare Facts', u'9.9 Million Still Enrolled and Paid Says September 2015 Report ...', u'Medicare and Medicaid News for Senior Citizens - SeniorJournal.com', u'Medicare Changes for 2015: What You Need to Know - Newsmax.com', u'An Obamacare Change to Medicare Is Backfiring | The Fiscal Times', u'Doctors Face A Huge Medicare And Medicaid Pay Cut In 2015 - Forbes', u'Readmissions Reduction Program (HRRP) - Centers for Medicare ...', u'Medicare and Obamacare Open Enrollment Dates for 2016 Plans']\n",
      "\n",
      "(2015, 9) medicare medicare advantage [u'Medicare Advantage Plans - ObamaCare Facts', u'Changes to Medicare insurance 2013-2015 - ObamaCare Facts', u'ObamaCare Medicare: ObamaCare and Medicare - ObamaCare Facts', u'Medicare Part D (Drug Coverage) - ObamaCare Facts', u'Medicare Changes for 2015: What You Need to Know - Newsmax.com', u'Medicare and Medicaid News for Senior Citizens - SeniorJournal.com', u'2015 Medicare Advantage Enrollment \\xab Healthcare Economist', u'Obamacare Was Supposed To Kill Medicare Advantage. It Only Made ...', u'Doctors Face A Huge Medicare And Medicaid Pay Cut In 2015 - Forbes', u'More scrutiny coming for Medicare Advantage, Obamacare | Center for ...']\n",
      "\n",
      "(2015, 9) medicare money [u'An Obamacare Change to Medicare Is Backfiring | The Fiscal Times', u'ObamaCare Medicare: ObamaCare and Medicare - ObamaCare Facts', u'ObamaCare 2015 - Obamacare Facts', u\"Forced to Have Coverage, Can't Afford It - Story - Obamacare Facts\", u'Doctors Face A Huge Medicare And Medicaid Pay Cut In 2015 - Forbes', u'Medicare and Medicaid News for Senior Citizens - SeniorJournal.com', u'Is Obamacare Officially A Money Laundering Scheme? | The Daily Caller', u'This Obamacare Co-Op Was Supposed to Make Money. Instead, It ...', u'Accountable Care Organizations, Explained | Kaiser Health News', u'The real deal on Obamacare - Aug. 5, 2015 - CNN Money']\n",
      "\n",
      "(2015, 9) clapper said confident [u'James Clapper: Islamic State could infiltrate U.S., West through ...', u'Woman on Facebook Complains About ObamaCare Fact Check ...', u'9.9 Million Still Enrolled and Paid Says September 2015 Report ...', u'ObamaCare Enrollment Numbers As of September 2015 - Obamacare ...', u\"Washington wasn't nearly so confident in this refugee vetting process ...\", u'Blog: Fourteen years after 9/11 the terror threat has increased', u'Obama Orders That America Take In 70,000 Islamic \\u201cRefugees,\\u201d But ...', u'September 2015 News Reports - Justice Integrity Project', u'September | 2015 | emptywheel | Page 5', u'Crime/Corruption (News/Activism) - Free Republic']\n",
      "\n",
      "(2015, 9) medicare negotiate companies [u\"Here's one fix for high drug prices - Sep. 28, 2015 - CNN Money\", u\"Clinton takes on 'profiteering' drug companies - CNNPolitics.com\", u'After Obamacare, Democrats turn to prescription drug prices as health ...', u\"On '60 Minutes,' Donald Trump Accidentally Proposes Radical Reform ...\", u'Docs, drug companies, insurers drive up Medicare costs | Center for ...', u'Donald Trump wants to replace Obamacare with an even further left ...', u'Obama administration seeks to negotiate Medicare drug prices | Reuters', u'How Would Government Negotiation of Medicare Part D Drug Prices ...', u\"Why Prescription Drugs Aren't Part of Obamacare - Morning Consult\", u'60 Minutes ObamaCare - Obamacare Facts']\n",
      "\n",
      "(2015, 9) medicare negotiate lower [u\"Here's one fix for high drug prices - Sep. 28, 2015 - CNN Money\", u\"Clinton takes on 'profiteering' drug companies - CNNPolitics.com\", u'After Obamacare, Democrats turn to prescription drug prices as health ...', u'How Would Government Negotiation of Medicare Part D Drug Prices ...', u\"On '60 Minutes,' Donald Trump Accidentally Proposes Radical Reform ...\", u'Obama administration seeks to negotiate Medicare drug prices | Reuters', u'Medicare Price Controls Would Reduce Access to Drugs', u'Negotiating for Lower Drug Costs in Medicare Part D', u\"Use Medicare's Muscle to Lower Drug Prices - The New York Times\", u'Bernie Sanders to Introduce Bill Targeting High Drug Prices - WSJ']\n",
      "\n",
      "(2015, 9) medicare patients [u'ObamaCare Enrollment Numbers As of September 2015 - Obamacare ...', u'Changes to Medicare insurance 2013-2015 - ObamaCare Facts', u'ObamaCare Medicare: ObamaCare and Medicare - ObamaCare Facts', u'Doctors Face A Huge Medicare And Medicaid Pay Cut In 2015 - Forbes', u'An Obamacare Change to Medicare Is Backfiring | The Fiscal Times', u'Medicare and Medicaid News for Senior Citizens - SeniorJournal.com', u'Obamacare Expands Rights for Transgender Patients | US News', u'Accountable Care Organizations, Explained | Kaiser Health News', u\"10 FAQs: Medicare's Role in End-of-Life Care | The Henry J. Kaiser ...\", u\"8 Ways That the ACA Is Affecting Doctors' Incomes - NEJM CareerCenter\"]\n",
      "\n",
      "(2015, 10) žižek [u\"Slavoj \\u017di\\u017eek on Obama, Bernie, sex and democracy: \\u201cThat's the reality ...\", u'Zizek on the limits of self-organization, etc. | LBO News from Doug ...', u'Slavoj \\u017di\\u017eek | The Guardian', u'ObamaCare 2015 - Obamacare Facts', u'56 Changes To Obamacare So Far, With Two New Additions - Forbes', u\"SLAVOJ \\u017dI\\u017dEK: AYN RAND'S 'JOHN GALTS' ARE THE IDIOTS WHO ...\", u'Radio archives - Left Business Observer', u'Progressive Democrats of America', u'Maverick Philosopher: Search - Typepad', u'EuroSavant \\xbb Obamacare']\n",
      "\n",
      "(2015, 10) impact latinos [u\"Obamacare's Impact on Latino Access to Health Insurance\", u'Obamacare Enrollment 2015 Numbers: Latino Uninsured Rate Drops ...', u'ObamaCare Enrollment Numbers As of March 2015 - Obamacare Facts', u'Voters say Obamacare will affect their presidential choice - CNBC.com', u'The Affordable Care Act is Working | HHS.gov', u'Affordable Care Act adds 16.4 million to health insurance rolls - The ...', u'Despite efforts, Latino enrollment in Obamacare lags - Feb. 9, 2015', u\"We Mapped the Uninsured. You'll Notice a Pattern. - The New York ...\", u'Center for Global Policy Solutions Obamacare Reduces Racial ...', u'Key Facts about the Uninsured Population | The Henry J. Kaiser ...']\n",
      "\n",
      "(2015, 10) important role play [u'Voters say Obamacare will affect their presidential choice - CNBC.com', u'Do We Still Need Planned Parenthood? - Obamacare Facts', u\"Here's Why Obamacare Could Be the Key to the 2016 Election | The ...\", u'Key Features of the Affordable Care Act By Year | HHS.gov', u'The Affordable Care Act at 5 Years \\u2014 NEJM', u'HealthCare.gov - Wikipedia, the free encyclopedia', u'Answering Consumer Questions About Obamacare Marketplaces ...', u'ObamaCare - Conservapedia', u'Hispanics Could Play Huge Role in the 2016 Elections | US News', u'New York Regulators to Shut Obamacare Insurer Health Republic']\n",
      "\n",
      "(2015, 10) important topics [u'ObamaCare 2015 - Obamacare Facts', u'ObamaCare Delays and ObamaCare Changes - ObamaCare Facts', u'ObamaCare Open Enrollment - ObamaCare Facts', u\"Six Problems With The ACA That Aren't Going Away - Health Affairs\", u'Official Marketplace Dates And Deadlines | HealthCare.gov', u'Healthcare Reform 2015: Under Obamacare, Half Of Uninsured Do ...', u\"Trump: Obamacare health care premiums 'going up 35, 45, 55 percent ...\", u'Obamacare Shopping Is More Important Than Ever - The New York ...', u'70 Changes to ObamaCare\\u2026 \\u2014 So Far | Galen Institute', u'Why is Obamacare so controversial? - BBC News - BBC.com']\n",
      "\n",
      "(2015, 10) important ways [u'ObamaCare Facts: Facts on the Affordable Care Act', u'ObamaCare Open Enrollment - ObamaCare Facts', u'ObamaCare 2015 - Obamacare Facts', u'ObamaCare Delays and ObamaCare Changes - ObamaCare Facts', u'Key Features of the Affordable Care Act By Year | HHS.gov', u'Key Features of the Affordable Care Act | HHS.gov', u'Official Marketplace Dates And Deadlines | HealthCare.gov', u'Health Insurance Blog | HealthCare.gov', u'70 Changes to ObamaCare\\u2026 \\u2014 So Far | Galen Institute', u'How To Sign Up For Obamacare 2016: Open Enrollment Dates, Prices ...']\n",
      "\n",
      "(2015, 10) importing [u'House Clears Way for Vote Reviving Export-Import Bank', u'Aide to Boehner Calls Ex-Im Reauthorization Goal for October', u'How Your Representative Voted on Reauthorizing Ex-Im', u'Government to Obamacare customers: Shop more - CNBC.com', u'Free-market group to Republican Export-Import Bank opponents ...', u'Health & Life - Poll: Americans Want Bold Steps to Keep Health Care ...', u'How Do I Get My Electronic Confirmation Number ... - ObamaCare Facts', u'Early Headlines: China Imports Crash, Asia And Europe Markets ...', u\"Obama's Numbers October 2014 Update - FactCheck.org\", u'Revolt jeopardizes ObamaCare repeal bill | TheHill']\n",
      "\n",
      "(2015, 10) impossibility [u'Many Say High Deductibles Make Their Health Law Insurance All but ...', u'ObamaCare 2015 - Obamacare Facts', u'ObamaCare Enrollment Numbers - ObamaCare Facts', u'Obamacare Rate Hikes 2016 - Obamacare Facts', u'ObamaCare Stories: Real Life Stories on ObamaCare', u'Ask Investors Whether Obamacare Is Working - Bloomberg View', u'Articles: Are We Really Stuck with ObamaCare? - American Thinker', u'6 Worst Obamacare (Potential) Changes Coming in 2015', u\"ObamaCare's Neoliberal Marketplace: Failing. And Fraud-Enabling ...\", u'IBD uncovers shocking revelations: Not filing tax return has ...']\n",
      "\n",
      "(2015, 10) impossible know [u'ObamaCare Stories: Real Life Stories on ObamaCare', u\"Six Problems With The ACA That Aren't Going Away - Health Affairs\", u'Articles: Are We Really Stuck with ObamaCare? - American Thinker', u\"Jeb Bush Has A Plan To Replace Obamacare; Here's What's In It : It's ...\", u'Many Say High Deductibles Make Their Health Law Insurance All but ...', u'Obamacare Enrollment: 5 Essential Things to Know About the ...', u'Feds give 2-year grace period for non-Obamacare plans - CNBC.com', u'How To Sign Up For Obamacare 2016: Open Enrollment Dates, Prices ...', u'Congress Passed A Bill To Change Obamacare. What Happened Next ...', u\"ObamaCare's Neoliberal Marketplace: Failing. And Fraud-Enabling ...\"]\n",
      "\n",
      "(2015, 10) impossible task [u'Nearly $1 Billion In Taxpayer Funding Wasted On Failed Obamacare ...', u'ObamaCare Stories: Real Life Stories on ObamaCare', u'6 Worst Obamacare (Potential) Changes Coming in 2015', u\"Six Problems With The ACA That Aren't Going Away - Health Affairs\", u'The Fight Over Obamacare Was a Giant Political Charade | Common ...', u'What happens to Obamacare if GOP wins the White House?', u'IBD uncovers shocking revelations: Not filing tax return has ...', u\"ObamaCare's Neoliberal Marketplace: Failing. And Fraud-Enabling ...\", u'Obamacare saved my a**: Really, it literally saved my a** - Salon.com', u'Andy Slavitt must answer for ObamaCare failures | TheHill']\n",
      "\n",
      "(2015, 10) impossible write [u'ObamaCare Stories: Real Life Stories on ObamaCare', u'Many Say High Deductibles Make Their Health Law Insurance All but ...', u\"Supreme Court faces new challenges to Obamacare's 'contraceptive ...\", u'Obamacare Enrollment: 5 Essential Things to Know About the ...', u'70 Changes to ObamaCare\\u2026 \\u2014 So Far | Galen Institute', u'Congress Passed A Bill To Change Obamacare. What Happened Next ...', u'More Bad News On the Obamacare Front: Thousands to Lose ...', u'Is Obamacare Good For The Middle Class? - Forbes', u'Obamacare saved my a**: Really, it literally saved my a** - Salon.com', u'CNN: Get ready for steep ObamaCare hikes to premiums in 2016 ...']\n",
      "\n",
      "(2015, 11) life federation [u'ObamaCare 2015 - Obamacare Facts', u'ObamaCare Special Enrollment Period - ObamaCare Facts', u'ObamaCare Open Enrollment - ObamaCare Facts', u'Can I Keep My Health Care Plan Under Obamacare?', u'Official Marketplace Dates And Deadlines | HealthCare.gov', u'Obamacare 2016 open enrollment to run Nov. 1, 2015-Jan. 31, 2016 ...', u'UnitedHealth warns it may exit Obamacare plans - USA Today', u\"Obamacare premiums and deductibles going up \\u2013 but it's still better ...\", u\"'Big' bad day for Obamacare as UnitedHealth considers exit - CNBC.com\", u'Obamacare Act III: HealthCare.gov sign-ups top 500K - CNBC.com']\n",
      "\n",
      "(2015, 11) democratic control [u'Obamacare, Gun Control -- Losing Issues for Democrats in Kentucky ...', u'The controversial part of Obamacare that even GOP-led states are ...', u'Who Turned My Blue State Red? - The New York Times', u'NEWT GINGRICH: The collapse of the Democratic Party - Washington ...', u'The Co-ops Collapse: How GOP &amp; Insurers ... - Democracy Now!', u'Headlines for November 10, 2015 | Democracy Now!', u'Democrats have been decimated at the state level, but a presidential ...', u'Democrats Knew Obamacare Co-Ops Would Fail - Breitbart', u'What do the 2015 election results mean for the presidential campaigns ...', u\"Democratic hopeful Martin O'Malley proposes strengthening Obamacare\"]\n",
      "\n",
      "(2015, 11) democratic candidates debate [u'Election 2016: Democratic debate transcript: Clinton, Sanders, O ...', u'The CBS Democratic debate transcript, annotated - Washington Post', u'2016 presidential candidates on healthcare - Ballotpedia', u'Highlights from the Second Democratic Debate | New Republic', u'Complete Recap: Democratic Presidential Debate - NBC News', u'First Democratic Debate 2015: Highlights and Analysis - The New ...', u\"Democratic debate: CNN's Reality Check team inspects claims ...\", u\"Clinton, Sanders, O'Malley face off in debate - USA Today\", u'Democratic debate in Des Moines: 12 things we learned | US news ...', u'Clinton, Sanders Spar in Second Democratic Debate - Newsweek']\n",
      "\n",
      "(2015, 11) notify employees [u'What Do I Need to Tell My Employees about ObamaCare?', u'Requirements for Employers to Notify Employees ... - ObamaCare Facts', u'How Much Notice to Cancel Employee Plan or ... - ObamaCare Facts', u'ObamaCare Small Business Facts', u'Update: Employer Notice Requirements under ObamaCare \\u2013 it is not ...', u'How The Affordable Care Act affects small business - Wave Small ...', u'What Is The Obamacare Employer Mandate? - Obamacare 2016', u'Affordable Care Act Tax Provisions - IRS.gov', u\"UnitedHealth Obamacare Insurance Might Be Canceled: Here's What ...\", u'Obamacare Explained: The Ultimate Guide for Small Businesses']\n",
      "\n",
      "(2015, 11) notify government [u'What Do I Need to Tell My Employees about ObamaCare?', u'Can I Keep My Health Care Plan Under Obamacare?', u'ObamaCare Open Enrollment - ObamaCare Facts', u'Auto-renew of ObamaCare Plans - Obamacare Facts', u\"UnitedHealth Obamacare Insurance Might Be Canceled: Here's What ...\", u\"We're making it easy for you to keep your ... - HealthCare.gov\", u'Official Marketplace Dates And Deadlines | HealthCare.gov', u'7 things to know about reporting a life change | HealthCare.gov', u'Affordable Care Act Tax Provisions - IRS.gov', u\"'Big' bad day for Obamacare as UnitedHealth considers exit - CNBC.com\"]\n",
      "\n",
      "(2015, 11) democratic candidate governor [u\"Elections Have Consequences: Democrat Governor's Obamacare ...\", u'Who Turned My Blue State Red? - The New York Times', u\"Matt Bevin's Win in Kentucky Governor Race Extends Party - NBC News\", u\"Republican Victory In Kentucky Governor's Race Is A Blow To ... - Forbes\", u'What do the 2015 election results mean for the presidential campaigns ...', u\"Why Democrats Shouldn't Panic Over Tuesday's Election Results ...\", u\"Obamacare Politics: Lessons From The Kentucky Governor's Race\", u'2016 presidential candidates on healthcare - Ballotpedia', u'The CBS Democratic debate transcript, annotated - Washington Post', u\"Don't believe the Democratic Party is in crisis? Then read this tweet ...\"]\n",
      "\n",
      "(2015, 11) noting pill [u'Changes to Medicare insurance 2013-2015 - ObamaCare Facts', u'ObamaCare Open Enrollment - ObamaCare Facts', u'ObamaCare Stories: Real Life Stories on ObamaCare', u'60 Minutes ObamaCare - Obamacare Facts', u\"Obamacare premiums and deductibles going up \\u2013 but it's still better ...\", u'Obamacare 2015: Higher costs, higher penalties - CBS News', u'UnitedHealth, owner of United Healthcare, may exit Obamacare - Nov ...', u\"Carly Fiorina says 'Obamacare isn't helping anyone' | PolitiFact\", u\"Is Obamacare 'collapsing'? - HealthInsurance.org\", u\"Marco Rubio Didn't 'Kill' Obamacare, But Here's How He Undermined ...\"]\n",
      "\n",
      "(2015, 11) noting pill bottles [u'Used Pill Bottles Help Those Who Lack Medicine Storage In Malawi', u'Empty Pill Bottles Desperately Needed (Take your meds & help others ...', u'US veterans dump hundreds of empty pill bottles at the White House to ...', u'Monday, November 30, 2015 | Kaiser Health News', u'ObamaCare Stories: Real Life Stories on ObamaCare', u\"Erin's #GetCovered Story | HHS.gov\", u\"Turing reneges on drug price cut, rival's version sells well | Fox News\", u'Investigating the mystery of soaring generic medication prices | Money ...', u'The Slow-Motion Implosion of ObamaCare - WSJ', u'Drug-price debate rekindles fight over pill imports from Canada | TheHill']\n",
      "\n",
      "(2015, 11) democratic base [u'The CBS Democratic debate transcript, annotated - Washington Post', u'Blog: 2015: The year Democrats change Obamacare?', u'Obamacare co-op flops have many scrambling for health insurance ...', u'Obamacare: A Republican Replacement Needed | National Review ...', u'Why This Republican Might Vote Democrat Next November ...', u'Obamacare Repeal Votes Motivate Democratic Donors - Roll Call', u'ObamaCare Health Insurance Rules, Regulations and Standards', u'ObamaCare Myths: Myths About the Affordable Care Act', u'Repeal ObamaCare or Defund ObamaCare? - ObamaCare Facts', u'ObamaCare - Page 1 | GOP']\n",
      "\n",
      "(2015, 11) notion common [u\"Obamacare Ruined My Healthcare Coverage, And Now I'm Just ...\", u\"Obamacare premiums and deductibles going up \\u2013 but it's still better ...\", u'ObamaCare: Uninsured Rates - ObamaCare Facts', u'Mr. President, we need answers on Obamacare\\u2014commentary', u\"Obamacare prices increase for those who don't get subsidies\", u'Fewer plans to be on biggest Obamacare exchange in 2016', u'5 Devastating Obamacare Facts Every American Should Know ...', u\"Six Problems With The ACA That Aren't Going Away - Health Affairs\", u'Did the Obamacare insurance co-ops fail faster than average? We run ...', u'Obamacare open enrollment: A widening health care disaster for ...']\n",
      "\n",
      "(2015, 12) zuckerberg initiative [u'Mark Zuckerberg - I want to thank you all for your... | Facebook', u'Chan Zuckerberg Initiative - Wikipedia, the free encyclopedia', u\"Let's welcome the Chan-Zuckerberg Initiative \\u2013 while calling for ...\", u'Not so fast, Mark Zuckerberg: 4 reasons to be skeptical of his $45 ...', u\"Economist's View: 'Mark Zuckerberg's $45 Billion Loophole'\", u'Mark Zuckerberg just bought 26 days of world peace \\u2013 Sovereign Man', u'Facebook founder re-creates charity model - Bankrate.com', u\"Facebook's CEO and wife to give 99 percent of shares to couple's ...\", u'December | 2015 | - Health insurance - WordPress.com', u'December | 2015 | Our Dinner Table']\n",
      "\n",
      "(2015, 12) number patients [u'ObamaCare Enrollment Numbers - ObamaCare Facts', u'ObamaCare Enrollment Numbers As of September 2015 - Obamacare ...', u'ObamaCare Enrollment Numbers Nov 15 - Dec 19 2014 - Obamacare ...', u'ACASignups.net | Tracking Enrollments for the Affordable Care Act ...', u'Obamacare Patients Spend 10% Of Income Out Of Pocket Despite ...', u'The Obamacare Paradox: The Real Reason Health Insurance ...', u'PPOs are disappearing from Obamacare. Why? - Slate', u\"Obamacare isn't perfect, but it's a start \\u2013 and it's better than the nothing ...\", u'The Health of Obamacare - WSJ', u'Patient Protection and Affordable Care Act - Wikipedia, the free ...']\n",
      "\n",
      "(2015, 12) number concessions [u'ObamaCare Enrollment Numbers As of September 2015 - Obamacare ...', u'ObamaCare Enrollment Numbers - ObamaCare Facts', u'ObamaCare Enrollment Numbers Nov 15 - Dec 19 2014 - Obamacare ...', u'Patient Protection and Affordable Care Act - Wikipedia, the free ...', u'Paul Ryan, Mitch McConnell win tax battles, Republican Party unity ...', u\"Here's what made it into Congress's big spending and tax bills - The ...\", u'Health Care in the Spending Deal - National Review', u'Sorry, Conservatives, Obamacare Is Still Working -- NYMag', u'UnitedHealth Says It Should Have Avoided Obamacare Longer ...', u'\\u201cNO\\u201d on $1.1 Trillion Year-End Omnibus Spending Bill - Heritage ...']\n",
      "\n",
      "(2015, 12) number concessions including [u'Patient Protection and Affordable Care Act - Wikipedia, the free ...', u'ObamaCare Enrollment Numbers - ObamaCare Facts', u'ObamaCare Enrollment Numbers As of September 2015 - Obamacare ...', u'Paul Ryan, Mitch McConnell win tax battles, Republican Party unity ...', u\"Here's what made it into Congress's big spending and tax bills - The ...\", u'The big new budget deal, explained - Vox', u'ACASignups.net | Tracking Enrollments for the Affordable Care Act ...', u'\\u201cNO\\u201d on $1.1 Trillion Year-End Omnibus Spending Bill - Heritage ...', u'Updated: Congress passes $1.1 trillion spending bill that fully funds ...', u'UnitedHealth Says It Should Have Avoided Obamacare Longer ...']\n",
      "\n",
      "(2015, 12) number days [u'How Does the 330 Day Rule for Living Abroad Work? - Obamacare ...', u'ObamaCare Special Enrollment Period - ObamaCare Facts', u\"Obamacare's Holiday Season Deadline Extended Two Days - NBC ...\", u'Official Marketplace Dates And Deadlines | HealthCare.gov', u'US Citizens Abroad and OBAMACARE \\u2013 UPDATED August 1 2015 ...', u'ACASignups.net | Tracking Enrollments for the Affordable Care Act ...', u\"What's the deadline to get coverage during Obamacare's open ...\", u'Today is the Last Day to Enroll in Obamacare for January 1 Coverage ...', u'2016 Open Enrollment Deadlines - Healthcare Marketplace | Enroll in ...', u'December 2015 Calendar - Timeanddate.com']\n",
      "\n",
      "(2015, 12) desean [u\"DeSean Jackson on foiled punt return: 'I take that one on the chin ...\", u'DeSean Jackson gets last laugh against former team after Redskins ...', u\"DeSean Jackson, Jason Hatcher participate in Redskins' Thursday ...\", u'Re-enroll in ObamaCare Before December 15, 2015 - Obamacare Facts', u\"Obamacare's Biggest Downfall May Not Be Cost -- It Could Be This ...\", u\"How Much Is the Obamacare Penalty? What You'll Pay for Not Having ...\", u\"Obamacare isn't perfect, but it's a start \\u2013 and it's better than the nothing ...\", u'UnitedHealth CEO: Obamacare Business Not Improving After ...', u'Obamacare Is Now on Life Support | The Fiscal Times', u'Shocker: \\u201cProfitable\\u201d ObamaCare co-op now losing millions \\xab Hot Air']\n",
      "\n",
      "(2015, 12) number democrats independent [u'How Your Senators Voted on the Government Spending Bill', u'Patient Protection and Affordable Care Act - Wikipedia, the free ...', u'GOP set to pass Obamacare repeal for first time; Dems vow to make it ...', u'Record-High 42% of Americans Identify as Independents - Gallup', u'US Senate passes symbolic Obamacare repeal, assuring veto', u'With Shutdown Avoided, Who Are Winners (And Losers) In 2015 ...', u'The Biggest Threat To Obamacare Is Already Written Into Law: No ...', u\"Here's what made it into Congress's big spending and tax bills - The ...\", u'ObamaCare Facts: An Independent Site For ACA Advice', u'Articles: How the ObamaCare Death Panel Defies the Constitution']\n",
      "\n",
      "(2015, 12) number high [u'ObamaCare Enrollment Numbers - ObamaCare Facts', u'ObamaCare Enrollment Numbers Nov 15 - Dec 19 2014 - Obamacare ...', u'ACASignups.net | Tracking Enrollments for the Affordable Care Act ...', u'Obamacare young people sign-ups nearly double - CNBC.com', u'That Obamacare penalty will be bigger than you think - CNBC.com', u\"No 'tax season' break for Obamacare enrollment in 2016 - CNBC.com\", u'Obamacare, drugs spur higher health-care inflation rate - CNBC.com', u'The Health of Obamacare - WSJ', u'Texas health insurance exchange / marketplace: Obamacare enrollment', u'70 Changes to ObamaCare\\u2026 \\u2014 So Far | Galen Institute']\n",
      "\n",
      "(2015, 12) number illegal [u'70 Changes to ObamaCare\\u2026 \\u2014 So Far | Galen Institute', u'ObamaCare Facts: Facts on the Affordable Care Act', u'ObamaCare: Health Insurance Cancellation - ObamaCare Facts', u'ObamaCare and Immigrants - Obamacare Facts', u'Find out if you have to pay a fee for not having health coverage in ...', u'ICE gives away $113 million, says not enough illegal immigrants to ...', u'How Many Illegal Immigrants Live in the US? - The Daily Signal', u'Patient Protection and Affordable Care Act - Wikipedia, the free ...', u'Texas health insurance exchange / marketplace: Obamacare enrollment', u'Questions and Answers on the Individual Shared Responsibility ...']\n",
      "\n",
      "(2015, 12) number items [u'ObamaCare Enrollment Numbers - ObamaCare Facts', u'ObamaCare Enrollment Numbers As of September 2015 - Obamacare ...', u'ObamaCare Enrollment Numbers Nov 15 - Dec 19 2014 - Obamacare ...', u'ObamaCare 2015 - Obamacare Facts', u'ACASignups.net | Tracking Enrollments for the Affordable Care Act ...', u'2015-12-02 - Centers for Medicare & Medicaid Services', u'Obamacare: Many newbies as HealthCare.gov signs up almost 6M', u\"No 'tax season' break for Obamacare enrollment in 2016 - CNBC.com\", u'Obamacare Enrollment Numbers: 2.4 Million New Consumers ...', u'The Health of Obamacare - WSJ']\n",
      "\n",
      "(2016, 1) zuma press [u\"48 Tweets From Conservatives About Obama's Last ... - The Daily Signal\", u'Find Out How Much Obamacare Rates Increased in Your State', u\"4 Facts That Prove Obamacare Isn't Aging Well - The Daily Signal\", u'Find Out How Your Member of Congress Voted on a Bill Repealing ...', u'4 things to know about Obamacare for 2016 - Asbury Park Press', u'Open Enrollment Ends January 31, 2016 - Obamacare Facts', u\"Hillary's $191 Billion Tax Increase - WSJ\", u'Frenzy in Iowa as Clinton and Trump go into caucuses leading key ...', u'January | 2016 | Dishonor on Your Cow', u'January 2016 \\u2013 Page 13 - The Will County News']\n",
      "\n",
      "(2016, 1) house reconvenes [u'House GOP: First task sending White House bill repealing ObamaCare', u'2016 House session opens with vote to repeal Obamacare law ...', u'Finally! House to take up replacing, not just repealing, Obamacare ...', u'House votes to repeal Obamacare; sends bill to Obama - CNNPolitics ...', u\"Obamacare repeal to hit president's desk for first time | Speaker.gov\", u'What Would Happen If We Repealed Obamacare? | RealClearHealth', u\"Vote to repeal Obama's health law marks testy start to 2016\", u\"GOP gears up for another assault on 'ObamaCare' | Blog for Arizona\", u\"Timeline: Affordable Care Act's long road to political reality\", u'Tenn. lawmakers reconvene for legislative session - WBBJ TV']\n",
      "\n",
      "(2016, 1) house leadership [u'2016 House session opens with vote to repeal Obamacare law ...', u\"Paul Ryan's 2016 plans start with Obamacare repeal vote - CNN.com\", u'Congress Sends Obamacare Repeal to President for First Time - NBC ...', u\"GOP Finds 'Silver Lining' to Veto of Obamacare Repeal\", u'Obamacare Is Crumbling from | Kevin McCarthy, House Majority Leader', u\"House Obamacare Repeal Is the End of the GOP's Dream | US News ...\", u'House GOP Leaders Have Obamacare Replacement Ready', u'House Speaker Paul Ryan Health Care Repeal Bill | Video | C-SPAN.org', u'House sends president a bill to repeal Obamacare, defund Planned ...', u'An Obamacare Repeal Vote That Counts, Despite The Inevitable Veto ...']\n",
      "\n",
      "(2016, 1) house lower [u'Obamacare Rate Hikes 2016 - Obamacare Facts', u'Proposed 2016 House GOP Budget Repeals ObamaCare ...', u'How Will ObamaCare Affect Me? - ObamaCare Facts', u'ObamaCare Stories: Real Life Stories on ObamaCare', u'House passes ObamaCare repeal, sending measure to president ...', u'House votes to repeal Obamacare; sends bill to Obama - CNNPolitics ...', u\"Paul Ryan's 2016 plans start with Obamacare repeal vote - CNN.com\", u'CBO: Obamacare Costs to Increase in 2016 As Millions More Get ...', u'Will you receive an Obamacare premium subsidy? - HealthInsurance.org', u\"House Obamacare Repeal Is the End of the GOP's Dream | US News ...\"]\n",
      "\n",
      "(2016, 1) house november [u'ObamaCare News: Daily ObamaCare Updates - ObamaCare Facts', u'Liens on My House Due to ObamaCare - Obamacare Facts', u'Proposed 2016 House GOP Budget Repeals ObamaCare ...', u'House passes ObamaCare repeal, sending measure to president ...', u'House Vote 887 - Congressional Bills and Votes - NYTimes.com - The ...', u\"GOP Finds 'Silver Lining' to Veto of Obamacare Repeal\", u'Find Out How Your Member of Congress Voted on a Bill Repealing ...', u\"Obamacare repeal sent to president's desk for first time - Washington ...\", u'2016 House session opens with vote to repeal Obamacare law ...', u'House passes ACA repeal - Modern Healthcare Modern Healthcare ...']\n",
      "\n",
      "(2016, 1) house obamacare [u'House passes ObamaCare repeal, sending measure to president ...', u'2016 House session opens with vote to repeal Obamacare law ...', u'Obamacare Repeal 2016: House Votes To Defund Healthcare Law ...', u'ObamaCare Repeal Vetoed - Obamacare Facts', u'Liens on My House Due to ObamaCare - Obamacare Facts', u'ObamaCare News: Daily ObamaCare Updates - ObamaCare Facts', u'House votes to repeal Obamacare; sends bill to Obama - CNNPolitics ...', u\"Paul Ryan's 2016 plans start with Obamacare repeal vote - CNN.com\", u'House schedules veto override vote on Obamacare repeal - USA Today', u\"House Obamacare Repeal Is the End of the GOP's Dream | US News ...\"]\n",
      "\n",
      "(2016, 1) house obamacare repeal [u'House votes to repeal Obamacare; sends bill to Obama - CNNPolitics ...', u'2016 House session opens with vote to repeal Obamacare law ...', u'House schedules veto override vote on Obamacare repeal - USA Today', u'Obamacare Repeal 2016: House Votes To Defund Healthcare Law ...', u'House passes ObamaCare repeal, sending measure to president ...', u\"House Obamacare Repeal Is the End of the GOP's Dream | US News ...\", u'ObamaCare Repeal Vetoed - Obamacare Facts', u'Lawmakers In The House Try Again In 2016 To Repeal Obamacare ...', u'Congress Sends Obamacare Repeal to President for First Time - NBC ...', u\"GOP Finds 'Silver Lining' to Veto of Obamacare Repeal\"]\n",
      "\n",
      "(2016, 1) house passage clamping [u'House GOP: First task sending White House bill repealing ObamaCare', u'Obamacare Repeal 2016: House Votes To Defund Healthcare Law ...', u\"House Obamacare Repeal Is the End of the GOP's Dream | US News ...\", u\"Vote to repeal Obama's health law marks testy start to 2016\", u'Medicare and Medicaid News for Senior Citizens - SeniorJournal.com', u'January 2016 - National Right to Life', u'Keyword: congress - Free Republic', u'US House Call House Vote | Video | C-SPAN.org', u'January 4, 2016 by Aruba Today - issuu', u'The Sheridan Press E-Edition Jan. 4, 2016']\n",
      "\n",
      "(2016, 1) house passage repeal [u'Yet Another Health Care Repeal Vote To Open Congressional Year', u\"House Obamacare Repeal Is the End of the GOP's Dream | US News ...\", u'Obamacare Repeal 2016: House Votes To Defund Healthcare Law ...', u'House to Pass Obamacare Partial Repeal, Obama to Veto', u'Alexander Commends House Passage of Legislation to Repeal ...', u'House passes ObamaCare repeal, sending measure to president ...', u\"House Votes to Send Bill to Repeal Health Law to Obama's Desk - The ...\", u'This Week in Congress - January 4, 2016 | Global Policy Watch', u\"H.R. 3762: Restoring Americans' Healthcare Freedom Reconciliation ...\", u'President Obama Vetoes Health Care Repeal Bill - NBC News']\n",
      "\n",
      "(2016, 1) house passed legislation [u'House passes ObamaCare repeal, sending measure to president ...', u'House votes to repeal Obamacare; sends bill to Obama - CNNPolitics ...', u\"BREAKING: House Passes Senate's Obamacare Repeal Bill, 240-181 ...\", u'Patient Protection and Affordable Care Act - Wikipedia, the free ...', u\"House Votes to Send Bill to Repeal Health Law to Obama's Desk - The ...\", u'Obamacare Repeal 2016: House Votes To Defund Healthcare Law ...', u\"H.R. 3762: Restoring Americans' Healthcare Freedom Reconciliation ...\", u'House sends president a bill to repeal Obamacare, defund Planned ...', u'Find Out How Your Member of Congress Voted on a Bill Repealing ...', u'Congress Sends Obamacare Repeal to President for First Time - NBC ...']\n",
      "\n",
      "(2016, 2) zurich [u'As the 3rd Open Enrollment Ends, a Look at How Obamacare is Doing ...', u'February 2016 | HealthCare.gov', u\"What's the deadline to get coverage during Obamacare's open ...\", u'Zurich Q4 losses miss estimates, plans further expense cuts ...', u'In surprising outcome, Gianni Infantino elected next president of FIFA ...', u'AP sources: IOC to send doping cases to CAS during Rio Games ...', u\"Soccer's world body elects Gianni Infantino as president - Washington ...\", u'Aetna Joins Growing Chorus Warning About ObamaCare Failing', u'What does Obamacare mean for expats? | US Tax & Financial Services', u'Www.pulliam.top - Cancer Travel Insurance Zurich Indonesia']\n",
      "\n",
      "(2016, 2) important state [u'As the 3rd Open Enrollment Ends, a Look at How Obamacare is Doing ...', u'Official Marketplace Dates And Deadlines | HealthCare.gov', u\"What's the deadline to get coverage during Obamacare's open ...\", u\"Here's the Final Tally for Obamacare Enrollment in 2016 -- The Motley ...\", u'ObamaCare News: Daily ObamaCare Updates - ObamaCare Facts', u'Extensions in Some States for Open Enrollment 2016 - Obamacare Facts', u\"Obamacare Premiums 'High and Rising' in 2016 - The Daily Signal\", u'Obamacare 2016: Obamacare Enrollment Information', u'February 2016 | ACASignups.net', u'Obamacare Enrollment 2016 Ends As Some States Offer Extensions']\n",
      "\n",
      "(2016, 2) importance young [u\"Obamacare Premiums 'High and Rising' in 2016 - The Daily Signal\", u'ObamaCare Young Adults - ObamaCare Facts', u'ObamaCare News: Daily ObamaCare Updates - ObamaCare Facts', u'Obamacare final enrollment tally: 12.7 million - CNBC.com', u'As the 3rd Open Enrollment Ends, a Look at How Obamacare is Doing ...', u\"Here's the Final Tally for Obamacare Enrollment in 2016 -- The Motley ...\", u'These 2 Jaw-Dropping Statistics May Change Your Tune About ...', u'Health Care Policy and Marketplace Review: 2016 Obamacare Outlook', u'How Obamacare improved mental health coverage', u'Good News For Obamacare: 2016 Enrollment Numbers Exceed ...']\n",
      "\n",
      "(2016, 2) importance young women [u\"ObamaCare and Women: ObamaCare Women's Health Services\", u'ObamaCare Young Adults - ObamaCare Facts', u'ObamaCare Stories: Real Life Stories on ObamaCare', u'ObamaCare Facts: Facts on the Affordable Care Act', u\"Obamacare Premiums 'High and Rising' in 2016 - The Daily Signal\", u'As the 3rd Open Enrollment Ends, a Look at How Obamacare is Doing ...', u'Top 8 Ways Young Women are Hurt By ObamaCare | FreedomWorks', u'More cervical cancers caught early among young women since ...', u'Obamacare final enrollment tally: 12.7 million - CNBC.com', u'Good News For Obamacare: 2016 Enrollment Numbers Exceed ...']\n",
      "\n",
      "(2016, 2) important campaign [u'2016 presidential candidates on healthcare - Ballotpedia', u'As the 3rd Open Enrollment Ends, a Look at How Obamacare is Doing ...', u'ObamaCare News: Daily ObamaCare Updates - ObamaCare Facts', u'Obamacare as a 2016 Campaign Issue | RedState', u\"Donald Trump's Obamacare Fix Is No Magical Cure - Fortune\", u'Trump, Rubio, Cruz all want to repeal ObamaCare. But none of them ...', u\"Donald Trump's Terrible Night at the Republican Debate in Houston ...\", u'ORRIN HATCH: Jeb Bush right on judges - Washington Times', u'Trump tries to play down Pope spat, as Clinton and Sanders stump in ...', u'Ted Cruz on the Issues']\n",
      "\n",
      "(2016, 2) important country [u'As the 3rd Open Enrollment Ends, a Look at How Obamacare is Doing ...', u'2016 presidential candidates on healthcare - Ballotpedia', u\"Here's the Final Tally for Obamacare Enrollment in 2016 -- The Motley ...\", u'ObamaCare News: Daily ObamaCare Updates - ObamaCare Facts', u\"Obamacare Premiums 'High and Rising' in 2016 - The Daily Signal\", u'Official Marketplace Dates And Deadlines | HealthCare.gov', u'7 Ways Obamacare Failed Americans and Shortchanged the Country ...', u\"Obama's Policy Legacy: The Nation He Built - POLITICO Magazine\", u'America Is Becoming More Liberal - The Atlantic', u'Florida health insurance exchange / marketplace: Obamacare ...']\n",
      "\n",
      "(2016, 2) important discussion [u'2016 presidential candidates on healthcare - Ballotpedia', u'ObamaCare News: Daily ObamaCare Updates - ObamaCare Facts', u'Obamacare 2016: Obamacare Enrollment Information', u'An Unhealthy Republican Debate | TIME', u\"Here's the Final Tally for Obamacare Enrollment in 2016 -- The Motley ...\", u'Saving The Doctor-Patient Relationship | On Point with Tom Ashbrook', u\"Obamacare Premiums 'High and Rising' in 2016 - The Daily Signal\", u\"What's the deadline to get coverage during Obamacare's open ...\", u'NEVER MIND: NN16 decides against discussing Obamacare *or ...', u'Will the Republican Party Survive the 2016 Election? - The Atlantic']\n",
      "\n",
      "(2016, 2) important issues [u'As the 3rd Open Enrollment Ends, a Look at How Obamacare is Doing ...', u'ObamaCare News: Daily ObamaCare Updates - ObamaCare Facts', u'2016 presidential candidates on healthcare - Ballotpedia', u\"What's the deadline to get coverage during Obamacare's open ...\", u\"Year Six of the Affordable Care Act: Obamacare's Mounting Problems\", u'Obamacare 2016: Obamacare Enrollment Information', u'Health Quality An Issue For Poor, 2 Years Into Obamacare, Poll Finds ...', u\"Obamacare Premiums 'High and Rising' in 2016 - The Daily Signal\", u\"Donald Trump's Health Care Dance - Breitbart\", u'Ted Cruz on the Issues']\n",
      "\n",
      "(2016, 2) important just [u'Official Marketplace Dates And Deadlines | HealthCare.gov', u\"What's the deadline to get coverage during Obamacare's open ...\", u'ObamaCare News: Daily ObamaCare Updates - ObamaCare Facts', u'As the 3rd Open Enrollment Ends, a Look at How Obamacare is Doing ...', u'Obamacare 2016: Obamacare Enrollment Information', u\"Here's the Final Tally for Obamacare Enrollment in 2016 -- The Motley ...\", u\"Important Obamacare Dates That You'll Want to Circle on Your ...\", u\"Donald Trump's Obamacare Fix Is No Magical Cure - Fortune\", u'Health Care Policy and Marketplace Review: 2016 Obamacare Outlook', u'12.7 million Americans sign up for Obamacare 3.0 - Feb. 4, 2016']\n",
      "\n",
      "(2016, 2) important note [u'ObamaCare News: Daily ObamaCare Updates - ObamaCare Facts', u'ObamaCare Enrollment Numbers - ObamaCare Facts', u\"Here's the Final Tally for Obamacare Enrollment in 2016 -- The Motley ...\", u'Official Marketplace Dates And Deadlines | HealthCare.gov', u'As the 3rd Open Enrollment Ends, a Look at How Obamacare is Doing ...', u'ACASignups.net | Tracking Enrollments for the Affordable Care Act ...', u'February 2016 | ACASignups.net', u\"What's the deadline to get coverage during Obamacare's open ...\", u'Georgia health insurance exchange / marketplace: Obamacare ...', u'Obamacare: 2016 and 2017 | RealClearPolicy']\n",
      "\n",
      "(2016, 3) zubik case [u'Zubik v. Burwell : SCOTUSblog', u'A Puzzling Order in a U.S. Supreme Court Case on Obamacare', u'Supreme Court faces 4-4 split in Obamacare contraception case ...', u'Supreme Court Appears Headed for Tie in Obamacare Case - NBC ...', u'Justices Seem Split in Case on Birth Control Mandate - The New York ...', u'Supreme Court seeks compromise in Obamacare case | Pittsburgh ...', u'Bishop Zubik lead plaintiff in Obamacare challenge in Supreme Court ...', u'The Conservative Justices Think Obamacare Has \\u201cHijacked\\u201d - Slate', u'Zubik v. Burwell - Wikipedia, the free encyclopedia', u'On Anniversary of Obamacare, Supreme Court Once Again Hears ...']\n",
      "\n",
      "(2016, 3) illinois florida [u'Florida, Illinois, Missouri, North Carolina, Ohio primaries: Poll open ...', u'Super Tuesday II: Clinton sweeps Florida, Illinois, Ohio and North ...', u'Final Primary Results: Donald Trump and Hillary Clinton Win... - Patch', u'Illinois health insurance exchange / marketplace: Obamacare enrollment', u'Florida, Ohio and Other Primaries on March 15: Analysis - The New ...', u'March 15th Primary Results \\u2013 2016 Election Central', u'#3 \\u2013 Super Tuesday2 Election Results Thread \\u2013 Florida, Ohio, North ...', u'Cruz Super PAC decides not to attack in Florida as new poll shows ...', u'Poll: Clinton leads in Florida, Illinois and Ohio | TheHill', u'Clinton sweeps Ohio, Illinois, Missouri, Florida and North ... - Salon.com']\n",
      "\n",
      "(2016, 3) idolize [u'Obamacare patients sicker and pricier than expected - Mar. 30, 2016', u'How Obamacare Is Changing the Startup World - Fortune', u'How Obamacare Has Worked the Past 6 Years - The Daily Signal', u'The perils of turning 26: when US millennials lose their parents ...', u\"MBR: Reviewer's Bookwatch, March 2016\", u'124 - OverpassesForAmerica', u'March 2016 \\u2013 The Deal', u'March 2016 \\u2013 Page 16 - iOTW REPORT.com', u'Harribly on Twitter: \"@NancyJoys for those of us who don\\'t idolize ...', u'March | 2016 | Russia Without BS | Page 2']\n",
      "\n",
      "(2016, 3) ig [u\"Who's up for another round of big ObamaCare rate hikes? \\xab Hot Air\", u'Donald Trump Releases Seven Point Healthcare Reform Plan ...', u'ObamaCare News: Daily ObamaCare Updates - ObamaCare Facts', u'Obamacare patients sicker and pricier than expected - Mar. 30, 2016', u'As the 3rd Open Enrollment Ends, a Look at How Obamacare is Doing ...', u'Obamacare Medicaid Coverage Much Higher Than Expected | US News', u'Obamacare Turns 6 and the White House Declares Victory - NBC News', u'How Obamacare Is Changing the Startup World - Fortune', u\"Obama Says 20 Million Insured Rebuts Trump's Obamacare Repeal ...\", u'Get Ready, Because Big Changes Are Coming to Obamacare in 2016 ...']\n",
      "\n",
      "(2016, 3) ig report [u\"What's New | Newsroom | Office of Inspector General | U.S. ...\", u'HealthCare - The New American', u'GAO, HHS Inspector General reports on ObamaCare provide damning ...', u'ObamaCare may force employers to pull the plug on millions of health ...', u'ObamaCare News: Daily ObamaCare Updates - ObamaCare Facts', u'OIG Report Reveals Additional Obamacare Funding of ... - March for Life', u\"Obama Says 20 Million Insured Rebuts Trump's Obamacare Repeal ...\", u'HHS Inspector General Report Shows Dysfunction In Obamacare ...', u'Blog: Even NPR agrees that Obamacare has failed - American Thinker', u'Inspector General Report States $2.8 Billion in Obamacare Subsidies ...']\n",
      "\n",
      "(2016, 3) ignoble [u'Obamacare patients sicker and pricier than expected - Mar. 30, 2016', u'Now We Are Six: How Badly Obamacare Is Performing In Its 6th Year ...', u'How Obamacare Is Changing the Startup World - Fortune', u\"AAPS News December 2013 - ObamaCare's Ignoble Lies\", u'March 2016 - New Diogenes', u'Ignoble awards | Time for Thorns', u'Sex | International Liberty', u'Articles: March 2014 Archives - American Thinker', u'Francis Menton - The New Media Journal', u'The Advocates for Self-Government repeal ObamaCare Archives ...']\n",
      "\n",
      "(2016, 3) ignoring fact [u'Missed Deadline for ObamaCare - ObamaCare Facts', u\"Club for Growth claim ignores key points of Donald Trump's stand on ...\", u\"'fact checking' on Obamacare - NaturalNews.com\", u'Separating Obamacare Facts From Fiction - The Simple Dollar', u'The Good Intentions Fallacy: Obamacare 2016 - conoutofconsumer', u\"Little to celebrate on Obamacare's sixth birthday\", u\"Trump's Week of Errors, Exaggerations and Flat-out Falsehoods ...\", u'All Three Major Cable Networks Ignore Clinton Speech To Air Entire ...', u\"Commentary: Little to celebrate on Obamacare's sixth birthday\", u'Examples of Media Bias - Student News Daily']\n",
      "\n",
      "(2016, 3) igor bobic [u'Igor Bobic - Huffington Post', u'Obamacare Enrollment - Huffington Post', u\"2016 GOP Presidential Hopefuls: Now It's Up To Us To Repeal ...\", u'Trump makes more bogus voter fraud claims - AMERICAblog News', u'Igor Bobic (@igorbobic) | Twitter', u'Donald Trump Wants \\u201cPro-Life, Conservative\\u201d Supreme Court Judges ...', u'Jeb Bush - Wikipedia, the free encyclopedia', u'Keyword: trump - Free Republic', u'WisPolitics Election Blog: Walker health care plan features tax credits ...', u'Chipsticks | The Obama Diary | Page 177']\n",
      "\n",
      "(2016, 3) ilk [u'Obamacare Turns 6 and the White House Declares Victory - NBC News', u'As the 3rd Open Enrollment Ends, a Look at How Obamacare is Doing ...', u'United Healthcare quitting Obamacare - Business Insider', u'Obamacare patients sicker and pricier than expected - Mar. 30, 2016', u\"Obamacare's Planned Failure Almost Complete | thenationalpatriot.com\", u'Your Views: Obamacare is simply a disaster | GazetteXtra', u\"Lawrence O'Donnell Opposes Obamacare Exchanges? - Legal ...\", u'No Cost-of-Living Adjustment for 2016 | Social Security Matters', u'Email letters, April 1, 2016 | GJSentinel.com', u\"\\u0130lk Haftas\\u0131nda Obamacare'a 51.000 Ba\\u015fvuru Oldu - TurkishNY.com\"]\n",
      "\n",
      "(2016, 3) illegal drug [u'70 Changes to ObamaCare\\u2026 \\u2014 So Far | Galen Institute', u'ObamaCare Facts: Facts on the Affordable Care Act', u'Why Does Obamacare Suck So Much? - Obamacare Facts', u'Benefits Of ObamaCare: Advantage of ObamaCare - ObamaCare Facts', u'Obamacare Rate Hikes 2016 - Obamacare Facts', u'[VIDEO] Chelsea Clinton: My Mom Wants To Give ObamaCare To ...', u'Obamacare Was Supposed to Lower Health Care Costs, But Has It?', u\"Hillary Clinton Wants To Give Americans' Healthcare to Millions of ...\", u'2016 presidential candidates on healthcare - Ballotpedia', u'Blog: March 2016 Archives - American Thinker']\n",
      "\n",
      "(2016, 4) leaving country [u'UnitedHealthcare to exit most Obamacare exchanges - Apr. 19, 2016', u'Am I Exempt if I am an American Citizen Moving ... - ObamaCare Facts', u'United Healthcare quitting Obamacare - Business Insider', u\"UnitedHealthcare's Exit From Obamacare Will Hit Consumers\", u\"Deserting ObamaCare: UnitedHealth, nation's largest health insurer ...\", u\"Insurers May Leave Obamacare Markets, But Don't Expect A Mass ...\", u'Largest Insurer Pulls Out of Obamcare Exchanges | US News', u'UnitedHealth Will Leave Obamacare Marketplaces in Some States ...', u'As UnitedHealth Flees The States, You Can Thank Clinton | GOP', u'US Citizens Abroad and OBAMACARE \\u2013 UPDATED August 1 2015 ...']\n",
      "\n",
      "(2016, 4) coffee shop [u\"Did Gov. Rick Scott really cut access to women's health care, as ...\", u'Rick Scott Releases Attack Ad On Starbucks Woman Who Called Him ...', u'Florida Gov. Rick Scott yelled at by Starbucks customer - NY Daily News', u'Rick Scott gets earful from angry Florida woman at Gainesville ...', u'Florida woman sees Governor Rick Scott in a Starbucks and offers him ...', u'Furious woman lambasts politician over cuts in Florida - The Telegraph', u'Woman confronts Governor Scott inside Gainesville coffee shop ...', u'Woman tears into Florida Governor Rick Scott for cutting access to ...', u'Florida Gov. Rick Scott Walks Into Starbucks to Grab a Coffee, but Gets ...', u'What If Buying Coffee Was Like Buying ObamaCare ???? - YouTube']\n",
      "\n",
      "(2016, 4) mismanagement [u'UnitedHealthcare to exit most Obamacare exchanges - Apr. 19, 2016', u\"Insurer's Obamacare exit raises new concerns over law - POLITICO\", u\"Puerto Rico's Liberal Mismanagement Should Not Be Rewarded by ...\", u\"Obamacare Architect: Loss of UnitedHealthcare Won't Matter Much\", u'After 5 Years, ObamaCare Still Stinks, Even with Subsidies', u'Health Care | The Drinking Water Advisor | Page 3', u'Shocking New Obamacare Waste Linked to Healthcare.gov', u'As the 3rd Open Enrollment Ends, a Look at How Obamacare is Doing ...', u'Have Taxpayers Paid $11 Billion In Fraudulent Obamacare Tax ...', u\"Scathing audit says Colorado's Obamacare exchange mismanaged ...\"]\n",
      "\n",
      "(2016, 4) misogynistic [u'UnitedHealthcare to exit most Obamacare exchanges - Apr. 19, 2016', u'Obamacare Tax Increases Hit Millions This Month - Newsmax.com', u\"4 Facts That Prove Obamacare Isn't Aging Well - The Daily Signal\", u'Blog: Insurance companies: Obamacare losses are unsustainable', u\"The mystery of Republican women backing sexist Trump: They're ...\", u\"Trevor Noah's \\u201cc**k-block\\u201d question: Sexist language isn't clever or ...\", u'Obamacare Is the Opposite of Socialism - Ben Norton', u'Ham slams Obamacare in one tweet (Bonus: Takes sexist Twitter troll ...', u'Politicus USA', u\"Rush Limbaugh nails it: Trump campaign shakeup shows he's no ...\"]\n",
      "\n",
      "(2016, 4) miss upcoming pulse [u'The Public Pulse, April 25: Boys Town will miss McGill - Omaha.com ...', u'Governor McCrory provides glimpse into his budget proposal that he ...', u'The Progressive Pulse \\u2013 Affecting NC public policy through informed ...', u'Why people are boycotting TurboTax and H&R Block this year \\u2013 The ...', u'POLITICO Pulse - POLITICO', u'Aetna CEO wants these changes to Obamacare - CNBC.com', u'That Obamacare penalty will be bigger than you think - CNBC.com', u'On the Record with Greta Van Susteren | Fox News', u'5 things freelancers and travelers need to know before Tax Day', u'South Metro Denver Realtor Association \\u2013 SMDRA e Blast \\u2013 11/10/15']\n",
      "\n",
      "(2016, 4) collections [u'Health Care Reform - The New York Times', u'ObamaCare News: Daily ObamaCare Updates - ObamaCare Facts', u'ObamaCare Myths: Myths About the Affordable Care Act', u\"Year Six of the Affordable Care Act: Obamacare's Mounting Problems\", u'UnitedHealthcare to exit most Obamacare exchanges - Apr. 19, 2016', u\"I've heard that the government can't really enforce the penalty for not ...\", u'70 Changes to ObamaCare\\u2026 \\u2014 So Far | Galen Institute', u'The Rundown in Louisiana politics: April 20, 2016 - Advocate Blogs', u'Obamacare / Affordable Care Act - The Black Vault', u'Health Reform FAQs | The Henry J. Kaiser Family Foundation']\n",
      "\n",
      "(2016, 4) missed glenn [u'Missed Deadline for ObamaCare - ObamaCare Facts', u'UnitedHealth Quitting Obamacare Markets in Georgia, Arkansas ...', u'Obamacare | TheBlaze.com', u\"Hackery! Journo's joke attempt 'perfectly describes media, Obamacare ...\", u'What To Do If You Missed The Obamacare Deadline | Bankrate.com', u\"Hackery! Politico lapdog Glenn Thrush's joke attempt 'perfectly ...\", u'What Happens If I Missed the California Obamacare Enrollment ...', u'Tough Choices: A Heartfelt Message to You | Glenn Beck', u'About Glenn Beck\\u2026 | The Radio Patriot', u'HUGE: This Could Mean the END of Obamacare... - Allen B. West ...']\n",
      "\n",
      "(2016, 4) missed glenn thrush [u\"Hackery! Politico lapdog Glenn Thrush's joke attempt ... - Twitchy\", u\"Hackery! Politico lapdog Glenn Thrush's joke attempt ... - Twitchy\", u\"Full Transcript: POLITICO's Glenn Thrush interviews Tim Miller ...\", u\"Hackery! Politico lapdog Glenn Thrush's joke attempt 'perfectly ...\", u'Off Message by POLITICO on iTunes', u'Politico Has No Idea What the Hobby Lobby Decision Was Even About ...', u\"Team Clinton on Bernie: 'F*** him' 'We kicked his ass' \\xab Hot Air\", u'Glenn Thrush - Bio, News, Photos - Washington Times', u'News of the Week (April 10th, 2016) | The Political Hat', u'Reliable Sources (TV Series 1992\\u2013 ) - Episodes - IMDb']\n",
      "\n",
      "(2016, 4) missed opportunities [u'Missed Deadline for ObamaCare - ObamaCare Facts', u'ObamaCare Special Enrollment Period - ObamaCare Facts', u'Laid Off, Do I Qualify For an Exemption or More ... - ObamaCare Facts', u'Missed Enrollment at Work, What do I Do? - Obamacare Facts', u\"What's the deadline to get coverage during Obamacare's open ...\", u'Obamacare 2016: Obamacare Enrollment Information', u'Still need 2016 coverage? | HealthCare.gov', u'Getting 2016 coverage with a Special Enrollment Period | HealthCare ...', u'What To Do If You Missed The Obamacare Deadline | Bankrate.com', u'What Happens If I Missed the Florida Obamacare Enrollment Deadline ...']\n",
      "\n",
      "(2016, 4) missed playoffs [u'Missed Deadline for ObamaCare - ObamaCare Facts', u'I Missed the Deadline for HealthCare, What are ... - ObamaCare Facts', u'ObamaCare Special Enrollment Period - ObamaCare Facts', u'Jazz disappointed to miss playoffs, but gain experience - Washington ...', u'CANOE - Slam Calgary: 2016 Headlines', u'Health Insurer UnitedHealth To Exit Most ObamaCare Exchanges', u'Feed aggregator | Mid America Ag Network', u\"The Latest: UConn's Samuelson misses practice with illn ...\", u'February | 2016 | The Progressive Take', u'NewsTimes: Greater Danbury Area News, Fairfield County News ...']\n",
      "\n"
     ]
    },
    {
     "ename": "KeyError",
     "evalue": "(2016, 5)",
     "output_type": "error",
     "traceback": [
      "\u001b[0;31m---------------------------------------------------------------------------\u001b[0m",
      "\u001b[0;31mKeyError\u001b[0m                                  Traceback (most recent call last)",
      "\u001b[0;32m<ipython-input-53-fad4af8d0175>\u001b[0m in \u001b[0;36m<module>\u001b[0;34m()\u001b[0m\n\u001b[1;32m      1\u001b[0m \u001b[0;32mfor\u001b[0m \u001b[0mdate\u001b[0m \u001b[0;32min\u001b[0m \u001b[0mdate_keys\u001b[0m\u001b[0;34m:\u001b[0m\u001b[0;34m\u001b[0m\u001b[0m\n\u001b[0;32m----> 2\u001b[0;31m     \u001b[0;32mfor\u001b[0m \u001b[0mtoken\u001b[0m \u001b[0;32min\u001b[0m \u001b[0mdict_of_scopes\u001b[0m\u001b[0;34m[\u001b[0m\u001b[0mdate\u001b[0m\u001b[0;34m]\u001b[0m\u001b[0;34m[\u001b[0m\u001b[0;34m\"tfidf_top10\"\u001b[0m\u001b[0;34m]\u001b[0m\u001b[0;34m:\u001b[0m\u001b[0;34m\u001b[0m\u001b[0m\n\u001b[0m\u001b[1;32m      3\u001b[0m         \u001b[0mtime\u001b[0m\u001b[0;34m.\u001b[0m\u001b[0msleep\u001b[0m\u001b[0;34m(\u001b[0m\u001b[0;36m15\u001b[0m\u001b[0;34m)\u001b[0m \u001b[0;31m# Sleeps for 1 minute -- 6 hours is 360 minutes, and there are 330 pairs in total\u001b[0m\u001b[0;34m\u001b[0m\u001b[0m\n\u001b[1;32m      4\u001b[0m         \u001b[0;32mprint\u001b[0m \u001b[0mdate\u001b[0m\u001b[0;34m,\u001b[0m \u001b[0mtoken\u001b[0m\u001b[0;34m,\u001b[0m\u001b[0;34m\u001b[0m\u001b[0m\n\u001b[1;32m      5\u001b[0m         \u001b[0mgoogle_url\u001b[0m \u001b[0;34m=\u001b[0m \u001b[0mget_google_search_url\u001b[0m\u001b[0;34m(\u001b[0m\u001b[0mscope_date\u001b[0m\u001b[0;34m=\u001b[0m\u001b[0mdate\u001b[0m\u001b[0;34m,\u001b[0m \u001b[0msearch_token\u001b[0m \u001b[0;34m=\u001b[0m \u001b[0mtoken\u001b[0m\u001b[0;34m)\u001b[0m\u001b[0;34m\u001b[0m\u001b[0m\n",
      "\u001b[0;31mKeyError\u001b[0m: (2016, 5)"
     ]
    }
   ],
   "source": [
    "for date in date_keys:    \n",
    "    for token in dict_of_scopes[date][\"tfidf_top10\"]:\n",
    "        time.sleep(15) # Sleeps for 1 minute -- 6 hours is 360 minutes, and there are 330 pairs in total\n",
    "        print date, token,\n",
    "        google_url = get_google_search_url(scope_date=date, search_token = token)\n",
    "        results_tuple = get_google_results(google_url)\n",
    "        dict_of_google_tag_searches[google_url] = results_tuple\n",
    "        dict_of_google_tag_searches[(date,token)] = results_tuple\n",
    "        print"
   ]
  },
  {
   "cell_type": "code",
   "execution_count": 73,
   "metadata": {
    "collapsed": false
   },
   "outputs": [
    {
     "ename": "KeyError",
     "evalue": "'(2016,5)'",
     "output_type": "error",
     "traceback": [
      "\u001b[0;31m---------------------------------------------------------------------------\u001b[0m",
      "\u001b[0;31mKeyError\u001b[0m                                  Traceback (most recent call last)",
      "\u001b[0;32m<ipython-input-73-0ce766d1eb68>\u001b[0m in \u001b[0;36m<module>\u001b[0;34m()\u001b[0m\n\u001b[0;32m----> 1\u001b[0;31m \u001b[0mdict_of_scopes\u001b[0m\u001b[0;34m[\u001b[0m\u001b[0;34m\"(2016,5)\"\u001b[0m\u001b[0;34m]\u001b[0m\u001b[0;34m\u001b[0m\u001b[0m\n\u001b[0m",
      "\u001b[0;31mKeyError\u001b[0m: '(2016,5)'"
     ]
    }
   ],
   "source": [
    "dict_of_scopes[\"(2016,5)\"]"
   ]
  },
  {
   "cell_type": "code",
   "execution_count": 114,
   "metadata": {
    "collapsed": false
   },
   "outputs": [],
   "source": [
    "df_of_scopes_dates = df_of_scopes[df_of_scopes[\"scope_type\"] == \"date\"]"
   ]
  },
  {
   "cell_type": "code",
   "execution_count": 115,
   "metadata": {
    "collapsed": false
   },
   "outputs": [],
   "source": [
    "df_of_scopes_dates = df_of_scopes_dates.sort_values(by = \"scope\")"
   ]
  },
  {
   "cell_type": "code",
   "execution_count": 116,
   "metadata": {
    "collapsed": false
   },
   "outputs": [
    {
     "data": {
      "text/html": [
       "<div>\n",
       "<table border=\"1\" class=\"dataframe\">\n",
       "  <thead>\n",
       "    <tr style=\"text-align: right;\">\n",
       "      <th></th>\n",
       "      <th>scope</th>\n",
       "      <th>scope_type</th>\n",
       "      <th>tfidf_top10</th>\n",
       "      <th>top1</th>\n",
       "      <th>top2</th>\n",
       "      <th>top3</th>\n",
       "      <th>top4</th>\n",
       "      <th>top5</th>\n",
       "    </tr>\n",
       "  </thead>\n",
       "  <tbody>\n",
       "    <tr>\n",
       "      <th>44</th>\n",
       "      <td>(2013, 9)</td>\n",
       "      <td>date</td>\n",
       "      <td>[legal counsel, happened government, paints pi...</td>\n",
       "      <td>legal counsel</td>\n",
       "      <td>happened government</td>\n",
       "      <td>paints picture</td>\n",
       "      <td>changes healthcare</td>\n",
       "      <td>pair new</td>\n",
       "    </tr>\n",
       "    <tr>\n",
       "      <th>24</th>\n",
       "      <td>(2013, 10)</td>\n",
       "      <td>date</td>\n",
       "      <td>[preventing pregnancy, obamacare politics, oba...</td>\n",
       "      <td>preventing pregnancy</td>\n",
       "      <td>obamacare politics</td>\n",
       "      <td>obamacare patient</td>\n",
       "      <td>obamacare pays</td>\n",
       "      <td>doesn far</td>\n",
       "    </tr>\n",
       "    <tr>\n",
       "      <th>10</th>\n",
       "      <td>(2013, 11)</td>\n",
       "      <td>date</td>\n",
       "      <td>[zuckerberg spent 25, including community, inc...</td>\n",
       "      <td>zuckerberg spent 25</td>\n",
       "      <td>including community</td>\n",
       "      <td>including american</td>\n",
       "      <td>including 10</td>\n",
       "      <td>includes broad</td>\n",
       "    </tr>\n",
       "    <tr>\n",
       "      <th>25</th>\n",
       "      <td>(2013, 12)</td>\n",
       "      <td>date</td>\n",
       "      <td>[legislators country, middle class poor, mikha...</td>\n",
       "      <td>legislators country</td>\n",
       "      <td>middle class poor</td>\n",
       "      <td>mikhail</td>\n",
       "      <td>milbank</td>\n",
       "      <td>common ground</td>\n",
       "    </tr>\n",
       "    <tr>\n",
       "      <th>48</th>\n",
       "      <td>(2014, 1)</td>\n",
       "      <td>date</td>\n",
       "      <td>[zuma press seeded, january 2014 dustinsiggins...</td>\n",
       "      <td>zuma press seeded</td>\n",
       "      <td>january 2014 dustinsiggins</td>\n",
       "      <td>january 6th</td>\n",
       "      <td>january 3rd felt</td>\n",
       "      <td>january 29</td>\n",
       "    </tr>\n",
       "    <tr>\n",
       "      <th>23</th>\n",
       "      <td>(2014, 2)</td>\n",
       "      <td>date</td>\n",
       "      <td>[zurich, incur, incumbent rep, incumbent reele...</td>\n",
       "      <td>zurich</td>\n",
       "      <td>incur</td>\n",
       "      <td>incumbent rep</td>\n",
       "      <td>incumbent reelection aspiring</td>\n",
       "      <td>incumbent reelection</td>\n",
       "    </tr>\n",
       "    <tr>\n",
       "      <th>7</th>\n",
       "      <td>(2014, 3)</td>\n",
       "      <td>date</td>\n",
       "      <td>[liberals conservatives, military presence, co...</td>\n",
       "      <td>liberals conservatives</td>\n",
       "      <td>military presence</td>\n",
       "      <td>comes home</td>\n",
       "      <td>military spending pentagon</td>\n",
       "      <td>military ukraine</td>\n",
       "    </tr>\n",
       "    <tr>\n",
       "      <th>36</th>\n",
       "      <td>(2014, 4)</td>\n",
       "      <td>date</td>\n",
       "      <td>[zuma, distaste, officer mozilla, officer exec...</td>\n",
       "      <td>zuma</td>\n",
       "      <td>distaste</td>\n",
       "      <td>officer mozilla</td>\n",
       "      <td>officer executive</td>\n",
       "      <td>officer company</td>\n",
       "    </tr>\n",
       "    <tr>\n",
       "      <th>41</th>\n",
       "      <td>(2014, 5)</td>\n",
       "      <td>date</td>\n",
       "      <td>[lefties, induce, indonesian, indoctrination, ...</td>\n",
       "      <td>lefties</td>\n",
       "      <td>induce</td>\n",
       "      <td>indonesian</td>\n",
       "      <td>indoctrination</td>\n",
       "      <td>individuals need</td>\n",
       "    </tr>\n",
       "    <tr>\n",
       "      <th>53</th>\n",
       "      <td>(2014, 6)</td>\n",
       "      <td>date</td>\n",
       "      <td>[zuckerberg jones, dramatic reductions, draw c...</td>\n",
       "      <td>zuckerberg jones</td>\n",
       "      <td>dramatic reductions</td>\n",
       "      <td>draw conclusions</td>\n",
       "      <td>draw attention</td>\n",
       "      <td>onstage</td>\n",
       "    </tr>\n",
       "    <tr>\n",
       "      <th>64</th>\n",
       "      <td>(2014, 7)</td>\n",
       "      <td>date</td>\n",
       "      <td>[zurich, immigration think, impact birth contr...</td>\n",
       "      <td>zurich</td>\n",
       "      <td>immigration think</td>\n",
       "      <td>impact birth control</td>\n",
       "      <td>impact birth</td>\n",
       "      <td>immutable</td>\n",
       "    </tr>\n",
       "    <tr>\n",
       "      <th>47</th>\n",
       "      <td>(2014, 8)</td>\n",
       "      <td>date</td>\n",
       "      <td>[être, obamacare obamacare proving, disappeara...</td>\n",
       "      <td>être</td>\n",
       "      <td>obamacare obamacare proving</td>\n",
       "      <td>disappearance</td>\n",
       "      <td>obamacare passed 2010</td>\n",
       "      <td>obamacare pays</td>\n",
       "    </tr>\n",
       "    <tr>\n",
       "      <th>65</th>\n",
       "      <td>(2014, 9)</td>\n",
       "      <td>date</td>\n",
       "      <td>[zuma, information make, influenza says, influ...</td>\n",
       "      <td>zuma</td>\n",
       "      <td>information make</td>\n",
       "      <td>influenza says</td>\n",
       "      <td>influenza</td>\n",
       "      <td>influence american</td>\n",
       "    </tr>\n",
       "    <tr>\n",
       "      <th>13</th>\n",
       "      <td>(2014, 10)</td>\n",
       "      <td>date</td>\n",
       "      <td>[zucker, lots different, lot information, budg...</td>\n",
       "      <td>zucker</td>\n",
       "      <td>lots different</td>\n",
       "      <td>lot information</td>\n",
       "      <td>budged</td>\n",
       "      <td>lot lot</td>\n",
       "    </tr>\n",
       "    <tr>\n",
       "      <th>28</th>\n",
       "      <td>(2014, 11)</td>\n",
       "      <td>date</td>\n",
       "      <td>[liars current political, domestic product, do...</td>\n",
       "      <td>liars current political</td>\n",
       "      <td>domestic product</td>\n",
       "      <td>don choose</td>\n",
       "      <td>don change</td>\n",
       "      <td>old african</td>\n",
       "    </tr>\n",
       "    <tr>\n",
       "      <th>38</th>\n",
       "      <td>(2014, 12)</td>\n",
       "      <td>date</td>\n",
       "      <td>[zywicki, image cellphone text, imitating, imf...</td>\n",
       "      <td>zywicki</td>\n",
       "      <td>image cellphone text</td>\n",
       "      <td>imitating</td>\n",
       "      <td>imf</td>\n",
       "      <td>imbued</td>\n",
       "    </tr>\n",
       "    <tr>\n",
       "      <th>33</th>\n",
       "      <td>(2015, 1)</td>\n",
       "      <td>date</td>\n",
       "      <td>[zones europe, lang, lanhee, languish, languag...</td>\n",
       "      <td>zones europe</td>\n",
       "      <td>lang</td>\n",
       "      <td>lanhee</td>\n",
       "      <td>languish</td>\n",
       "      <td>language said</td>\n",
       "    </tr>\n",
       "    <tr>\n",
       "      <th>30</th>\n",
       "      <td>(2015, 2)</td>\n",
       "      <td>date</td>\n",
       "      <td>[zurich, income residents, income verification...</td>\n",
       "      <td>zurich</td>\n",
       "      <td>income residents</td>\n",
       "      <td>income verification</td>\n",
       "      <td>income uninsured</td>\n",
       "      <td>income threshold</td>\n",
       "    </tr>\n",
       "    <tr>\n",
       "      <th>17</th>\n",
       "      <td>(2015, 3)</td>\n",
       "      <td>date</td>\n",
       "      <td>[zwick, matthews, matter severe, matter severe...</td>\n",
       "      <td>zwick</td>\n",
       "      <td>matthews</td>\n",
       "      <td>matter severe</td>\n",
       "      <td>matter severe decline</td>\n",
       "      <td>matter times</td>\n",
       "    </tr>\n",
       "    <tr>\n",
       "      <th>61</th>\n",
       "      <td>(2015, 4)</td>\n",
       "      <td>date</td>\n",
       "      <td>[zuckerberg, including washington post, income...</td>\n",
       "      <td>zuckerberg</td>\n",
       "      <td>including washington post</td>\n",
       "      <td>income towns</td>\n",
       "      <td>income transfer</td>\n",
       "      <td>income wealth inequality</td>\n",
       "    </tr>\n",
       "    <tr>\n",
       "      <th>66</th>\n",
       "      <td>(2015, 5)</td>\n",
       "      <td>date</td>\n",
       "      <td>[best deal, kaufax applauded measure, kazakhst...</td>\n",
       "      <td>best deal</td>\n",
       "      <td>kaufax applauded measure</td>\n",
       "      <td>kazakhstan</td>\n",
       "      <td>kayaks</td>\n",
       "      <td>kay</td>\n",
       "    </tr>\n",
       "    <tr>\n",
       "      <th>39</th>\n",
       "      <td>(2015, 6)</td>\n",
       "      <td>date</td>\n",
       "      <td>[zug island homeland, improve transparency, im...</td>\n",
       "      <td>zug island homeland</td>\n",
       "      <td>improve transparency</td>\n",
       "      <td>impugn</td>\n",
       "      <td>improving access</td>\n",
       "      <td>improves quality</td>\n",
       "    </tr>\n",
       "    <tr>\n",
       "      <th>57</th>\n",
       "      <td>(2015, 7)</td>\n",
       "      <td>date</td>\n",
       "      <td>[zuma press, identification male kept, ideolog...</td>\n",
       "      <td>zuma press</td>\n",
       "      <td>identification male kept</td>\n",
       "      <td>ideology forced</td>\n",
       "      <td>identity politics</td>\n",
       "      <td>identify person</td>\n",
       "    </tr>\n",
       "    <tr>\n",
       "      <th>60</th>\n",
       "      <td>(2015, 8)</td>\n",
       "      <td>date</td>\n",
       "      <td>[zoo officials say, kids constant danger, kids...</td>\n",
       "      <td>zoo officials say</td>\n",
       "      <td>kids constant danger</td>\n",
       "      <td>kids just</td>\n",
       "      <td>kids table</td>\n",
       "      <td>kids table debate</td>\n",
       "    </tr>\n",
       "    <tr>\n",
       "      <th>42</th>\n",
       "      <td>(2015, 9)</td>\n",
       "      <td>date</td>\n",
       "      <td>[leblond doro, military personnel, medicare me...</td>\n",
       "      <td>leblond doro</td>\n",
       "      <td>military personnel</td>\n",
       "      <td>medicare medicaid social</td>\n",
       "      <td>medicare medicare</td>\n",
       "      <td>medicare medicare advantage</td>\n",
       "    </tr>\n",
       "    <tr>\n",
       "      <th>18</th>\n",
       "      <td>(2015, 10)</td>\n",
       "      <td>date</td>\n",
       "      <td>[žižek, impact latinos, important role play, i...</td>\n",
       "      <td>žižek</td>\n",
       "      <td>impact latinos</td>\n",
       "      <td>important role play</td>\n",
       "      <td>important topics</td>\n",
       "      <td>important ways</td>\n",
       "    </tr>\n",
       "    <tr>\n",
       "      <th>0</th>\n",
       "      <td>(2015, 11)</td>\n",
       "      <td>date</td>\n",
       "      <td>[life federation, democratic control, democrat...</td>\n",
       "      <td>life federation</td>\n",
       "      <td>democratic control</td>\n",
       "      <td>democratic candidates debate</td>\n",
       "      <td>notify employees</td>\n",
       "      <td>notify government</td>\n",
       "    </tr>\n",
       "    <tr>\n",
       "      <th>69</th>\n",
       "      <td>(2015, 12)</td>\n",
       "      <td>date</td>\n",
       "      <td>[zuckerberg initiative, number patients, numbe...</td>\n",
       "      <td>zuckerberg initiative</td>\n",
       "      <td>number patients</td>\n",
       "      <td>number concessions</td>\n",
       "      <td>number concessions including</td>\n",
       "      <td>number days</td>\n",
       "    </tr>\n",
       "    <tr>\n",
       "      <th>37</th>\n",
       "      <td>(2016, 1)</td>\n",
       "      <td>date</td>\n",
       "      <td>[zuma press, house reconvenes, house leadershi...</td>\n",
       "      <td>zuma press</td>\n",
       "      <td>house reconvenes</td>\n",
       "      <td>house leadership</td>\n",
       "      <td>house lower</td>\n",
       "      <td>house november</td>\n",
       "    </tr>\n",
       "    <tr>\n",
       "      <th>56</th>\n",
       "      <td>(2016, 2)</td>\n",
       "      <td>date</td>\n",
       "      <td>[zurich, important state, importance young, im...</td>\n",
       "      <td>zurich</td>\n",
       "      <td>important state</td>\n",
       "      <td>importance young</td>\n",
       "      <td>importance young women</td>\n",
       "      <td>important campaign</td>\n",
       "    </tr>\n",
       "    <tr>\n",
       "      <th>74</th>\n",
       "      <td>(2016, 3)</td>\n",
       "      <td>date</td>\n",
       "      <td>[zubik case, illinois florida, idolize, ig, ig...</td>\n",
       "      <td>zubik case</td>\n",
       "      <td>illinois florida</td>\n",
       "      <td>idolize</td>\n",
       "      <td>ig</td>\n",
       "      <td>ig report</td>\n",
       "    </tr>\n",
       "    <tr>\n",
       "      <th>15</th>\n",
       "      <td>(2016, 4)</td>\n",
       "      <td>date</td>\n",
       "      <td>[leaving country, coffee shop, mismanagement, ...</td>\n",
       "      <td>leaving country</td>\n",
       "      <td>coffee shop</td>\n",
       "      <td>mismanagement</td>\n",
       "      <td>misogynistic</td>\n",
       "      <td>miss upcoming pulse</td>\n",
       "    </tr>\n",
       "  </tbody>\n",
       "</table>\n",
       "</div>"
      ],
      "text/plain": [
       "         scope scope_type                                        tfidf_top10  \\\n",
       "44   (2013, 9)       date  [legal counsel, happened government, paints pi...   \n",
       "24  (2013, 10)       date  [preventing pregnancy, obamacare politics, oba...   \n",
       "10  (2013, 11)       date  [zuckerberg spent 25, including community, inc...   \n",
       "25  (2013, 12)       date  [legislators country, middle class poor, mikha...   \n",
       "48   (2014, 1)       date  [zuma press seeded, january 2014 dustinsiggins...   \n",
       "23   (2014, 2)       date  [zurich, incur, incumbent rep, incumbent reele...   \n",
       "7    (2014, 3)       date  [liberals conservatives, military presence, co...   \n",
       "36   (2014, 4)       date  [zuma, distaste, officer mozilla, officer exec...   \n",
       "41   (2014, 5)       date  [lefties, induce, indonesian, indoctrination, ...   \n",
       "53   (2014, 6)       date  [zuckerberg jones, dramatic reductions, draw c...   \n",
       "64   (2014, 7)       date  [zurich, immigration think, impact birth contr...   \n",
       "47   (2014, 8)       date  [être, obamacare obamacare proving, disappeara...   \n",
       "65   (2014, 9)       date  [zuma, information make, influenza says, influ...   \n",
       "13  (2014, 10)       date  [zucker, lots different, lot information, budg...   \n",
       "28  (2014, 11)       date  [liars current political, domestic product, do...   \n",
       "38  (2014, 12)       date  [zywicki, image cellphone text, imitating, imf...   \n",
       "33   (2015, 1)       date  [zones europe, lang, lanhee, languish, languag...   \n",
       "30   (2015, 2)       date  [zurich, income residents, income verification...   \n",
       "17   (2015, 3)       date  [zwick, matthews, matter severe, matter severe...   \n",
       "61   (2015, 4)       date  [zuckerberg, including washington post, income...   \n",
       "66   (2015, 5)       date  [best deal, kaufax applauded measure, kazakhst...   \n",
       "39   (2015, 6)       date  [zug island homeland, improve transparency, im...   \n",
       "57   (2015, 7)       date  [zuma press, identification male kept, ideolog...   \n",
       "60   (2015, 8)       date  [zoo officials say, kids constant danger, kids...   \n",
       "42   (2015, 9)       date  [leblond doro, military personnel, medicare me...   \n",
       "18  (2015, 10)       date  [žižek, impact latinos, important role play, i...   \n",
       "0   (2015, 11)       date  [life federation, democratic control, democrat...   \n",
       "69  (2015, 12)       date  [zuckerberg initiative, number patients, numbe...   \n",
       "37   (2016, 1)       date  [zuma press, house reconvenes, house leadershi...   \n",
       "56   (2016, 2)       date  [zurich, important state, importance young, im...   \n",
       "74   (2016, 3)       date  [zubik case, illinois florida, idolize, ig, ig...   \n",
       "15   (2016, 4)       date  [leaving country, coffee shop, mismanagement, ...   \n",
       "\n",
       "                       top1                         top2  \\\n",
       "44            legal counsel          happened government   \n",
       "24     preventing pregnancy           obamacare politics   \n",
       "10      zuckerberg spent 25          including community   \n",
       "25      legislators country            middle class poor   \n",
       "48        zuma press seeded   january 2014 dustinsiggins   \n",
       "23                   zurich                        incur   \n",
       "7    liberals conservatives            military presence   \n",
       "36                     zuma                     distaste   \n",
       "41                  lefties                       induce   \n",
       "53         zuckerberg jones          dramatic reductions   \n",
       "64                   zurich            immigration think   \n",
       "47                     être  obamacare obamacare proving   \n",
       "65                     zuma             information make   \n",
       "13                   zucker               lots different   \n",
       "28  liars current political             domestic product   \n",
       "38                  zywicki         image cellphone text   \n",
       "33             zones europe                         lang   \n",
       "30                   zurich             income residents   \n",
       "17                    zwick                     matthews   \n",
       "61               zuckerberg    including washington post   \n",
       "66                best deal     kaufax applauded measure   \n",
       "39      zug island homeland         improve transparency   \n",
       "57               zuma press     identification male kept   \n",
       "60        zoo officials say         kids constant danger   \n",
       "42             leblond doro           military personnel   \n",
       "18                    žižek               impact latinos   \n",
       "0           life federation           democratic control   \n",
       "69    zuckerberg initiative              number patients   \n",
       "37               zuma press             house reconvenes   \n",
       "56                   zurich              important state   \n",
       "74               zubik case             illinois florida   \n",
       "15          leaving country                  coffee shop   \n",
       "\n",
       "                            top3                           top4  \\\n",
       "44                paints picture             changes healthcare   \n",
       "24             obamacare patient                 obamacare pays   \n",
       "10            including american                   including 10   \n",
       "25                       mikhail                        milbank   \n",
       "48                   january 6th               january 3rd felt   \n",
       "23                 incumbent rep  incumbent reelection aspiring   \n",
       "7                     comes home     military spending pentagon   \n",
       "36               officer mozilla              officer executive   \n",
       "41                    indonesian                 indoctrination   \n",
       "53              draw conclusions                 draw attention   \n",
       "64          impact birth control                   impact birth   \n",
       "47                 disappearance          obamacare passed 2010   \n",
       "65                influenza says                      influenza   \n",
       "13               lot information                         budged   \n",
       "28                    don choose                     don change   \n",
       "38                     imitating                            imf   \n",
       "33                        lanhee                       languish   \n",
       "30           income verification               income uninsured   \n",
       "17                 matter severe          matter severe decline   \n",
       "61                  income towns                income transfer   \n",
       "66                    kazakhstan                         kayaks   \n",
       "39                        impugn               improving access   \n",
       "57               ideology forced              identity politics   \n",
       "60                     kids just                     kids table   \n",
       "42      medicare medicaid social              medicare medicare   \n",
       "18           important role play               important topics   \n",
       "0   democratic candidates debate               notify employees   \n",
       "69            number concessions   number concessions including   \n",
       "37              house leadership                    house lower   \n",
       "56              importance young         importance young women   \n",
       "74                       idolize                             ig   \n",
       "15                 mismanagement                   misogynistic   \n",
       "\n",
       "                           top5  \n",
       "44                     pair new  \n",
       "24                    doesn far  \n",
       "10               includes broad  \n",
       "25                common ground  \n",
       "48                   january 29  \n",
       "23         incumbent reelection  \n",
       "7              military ukraine  \n",
       "36              officer company  \n",
       "41             individuals need  \n",
       "53                      onstage  \n",
       "64                    immutable  \n",
       "47               obamacare pays  \n",
       "65           influence american  \n",
       "13                      lot lot  \n",
       "28                  old african  \n",
       "38                       imbued  \n",
       "33                language said  \n",
       "30             income threshold  \n",
       "17                 matter times  \n",
       "61     income wealth inequality  \n",
       "66                          kay  \n",
       "39             improves quality  \n",
       "57              identify person  \n",
       "60            kids table debate  \n",
       "42  medicare medicare advantage  \n",
       "18               important ways  \n",
       "0             notify government  \n",
       "69                  number days  \n",
       "37               house november  \n",
       "56           important campaign  \n",
       "74                    ig report  \n",
       "15          miss upcoming pulse  "
      ]
     },
     "execution_count": 116,
     "metadata": {},
     "output_type": "execute_result"
    }
   ],
   "source": [
    "df_of_scopes_dates"
   ]
  },
  {
   "cell_type": "code",
   "execution_count": 243,
   "metadata": {
    "collapsed": false
   },
   "outputs": [
    {
     "data": {
      "text/html": [
       "<div>\n",
       "<table border=\"1\" class=\"dataframe\">\n",
       "  <thead>\n",
       "    <tr style=\"text-align: right;\">\n",
       "      <th></th>\n",
       "      <th>scope</th>\n",
       "      <th>scope_type</th>\n",
       "      <th>tfidf_top10</th>\n",
       "      <th>top1</th>\n",
       "      <th>top2</th>\n",
       "      <th>top3</th>\n",
       "      <th>top4</th>\n",
       "      <th>top5</th>\n",
       "      <th>google_titles_for_top1</th>\n",
       "      <th>google_summeries_for_top1</th>\n",
       "      <th>google_titles_for_top2</th>\n",
       "      <th>google_summeries_for_top2</th>\n",
       "      <th>google_titles_for_top3</th>\n",
       "      <th>google_summeries_for_top3</th>\n",
       "      <th>google_titles_for_top4</th>\n",
       "      <th>google_summeries_for_top4</th>\n",
       "      <th>google_titles_for_top5</th>\n",
       "      <th>google_summeries_for_top5</th>\n",
       "    </tr>\n",
       "  </thead>\n",
       "  <tbody>\n",
       "    <tr>\n",
       "      <th>44</th>\n",
       "      <td>(2013, 9)</td>\n",
       "      <td>date</td>\n",
       "      <td>[legal counsel, happened government, paints picture, changes healthcare, pair new, paired, handout, pairs, handling use, pakistan history]</td>\n",
       "      <td>legal counsel</td>\n",
       "      <td>happened government</td>\n",
       "      <td>paints picture</td>\n",
       "      <td>changes healthcare</td>\n",
       "      <td>pair new</td>\n",
       "      <td>[US government shutdown: House votes to delay Obamacare law | US ..., What Is Obamacare? A Legal Overview - Law and Daily Life - FindLaw, What's in a name? Lots when it comes to Obamacare/ACA - CNBC.com, Read the Law | HHS.gov, Office of the General Counsel September 3, 2013 Submitted ..., Patient Protection and Affordable Care Act - Wikipedia, the free ..., United States federal government sh...</td>\n",
       "      <td>[[US government shutdown: House votes to delay , &lt;em&gt;Obamacare law&lt;/em&gt;,  ... Sunday 29 , &lt;em&gt;September 2013&lt;/em&gt;,  12.30 EDT Last modified on Wednesday 11 May .... About half of the Defense , &lt;em&gt;Department's&lt;/em&gt;,  civilian employees – about 800,000 ...], [US government shutdown: House votes to delay , &lt;em&gt;Obamacare law&lt;/em&gt;,  ... Sunday 29 , &lt;em&gt;September 2013&lt;/em&gt;,  12.30 EDT Last modified...</td>\n",
       "      <td>[United States federal government shutdown of 2013 - Wikipedia, the ..., Government shutdown in the United States - Wikipedia, the free ..., Why Did The U.S. Government Shut Down In October 2013? - Forbes, A Brief History of the 2013 Government Shutdown | Mediaite, US government shutdown: House votes to delay Obamacare law | US ..., Government shutdown: What you need to know - CNNPolitics.com,...</td>\n",
       "      <td>[[&lt;em&gt;government&lt;/em&gt;,  entered a shutdown ..... Meese's coalition produced a \"blueprint to defunding , &lt;em&gt;Obamacare&lt;/em&gt;, \", &lt;wbr&gt;. .... With Congress having failed to agree by late &lt;em&gt;September 2013&lt;/em&gt; on the budget ...... asserted that \"none of what is &lt;em&gt;happening&lt;/em&gt; in Washington diminishes one iota&lt;wbr&gt; ...&lt;/wbr&gt;&lt;/wbr&gt;], [&lt;em&gt;government&lt;/em&gt;,  entered a shutdown ..... Meese's coal...</td>\n",
       "      <td>[ObamaCare News: Daily ObamaCare Updates - ObamaCare Facts, Obamacare \"has never been favored by a majority of Americans ..., We Mapped the Uninsured. You'll Notice a Pattern. - The New York ..., One Key Thing No One Knows About Obamacare : Planet Money : NPR, Reality Check: Obamacare Edition - gop.gov, Opinion: Worried about Obamacare? Fear not - CNN.com, Study: Obamacare gave 10 million Amer...</td>\n",
       "      <td>[[&lt;em&gt;September&lt;/em&gt;,  26th, 2014 by , &lt;em&gt;ObamaCare&lt;/em&gt;,  Facts ... 36% to 23% from , &lt;em&gt;2013&lt;/em&gt;,  to the closing the Health Insurance Marketplace's first open enrollment period. ..... A recent article from the New York Post does a great job at , &lt;em&gt;painting&lt;/em&gt;,  a , &lt;em&gt;picture&lt;/em&gt;,  of ...], [&lt;em&gt;September&lt;/em&gt;,  26th, 2014 by , &lt;em&gt;ObamaCare&lt;/em&gt;,  Facts ... 36% to 23% from , &lt;em&gt;2...</td>\n",
       "      <td>[How Obamacare Changed Health Insurance ... Maybe - Forbes, Key Features of the Affordable Care Act By Year | HHS.gov, Current trends in health care: A new landscape with Obamacare ..., 70 Changes to ObamaCare… — So Far | Galen Institute, Health Care Industry Spent $243 Million in 2013 Lobbying - Breitbart, 5 ways Obamacare affects hospitals, doctors and more | NJ.com, What's in a name? Lots w...</td>\n",
       "      <td>[[Nearly 22.8 million people have gained , &lt;em&gt;health insurance&lt;/em&gt;,  since the ... insurance grew by about 8 million people between , &lt;em&gt;September 2013&lt;/em&gt;,  and ...], [Nearly 22.8 million people have gained , &lt;em&gt;health insurance&lt;/em&gt;,  since the ... insurance grew by about 8 million people between , &lt;em&gt;September 2013&lt;/em&gt;,  and ...], [Nearly 22.8 million people have gained , &lt;em&gt;health ...</td>\n",
       "      <td>[Ted Cruz pulls all-nighter as marathon anti-Obamacare speech churns ..., ObamaCare Facts: Facts on the Affordable Care Act, How unpopular or popular is Obamacare? - The Washington Post, Is the Affordable Care Act Working? - The New York Times, Short-term health insurance, a low-cost alternative to Obamacare |, Senate defeats Cruz filibuster, passes bill that funds Obamacare ..., GOP's Anti-Ob...</td>\n",
       "      <td>[[Wednesday 25 , &lt;em&gt;September 2013&lt;/em&gt;,  09.15 EDT Last modified on ... he had swapped his usual ostrich-skin \"argument boots\" for a , &lt;em&gt;pair&lt;/em&gt;,  of .... Republican senator Ted Cruz launches marathon anti-, &lt;em&gt;Obamacare&lt;/em&gt;,  speech ...... US , &lt;em&gt;News&lt;/em&gt;, .], [Wednesday 25 , &lt;em&gt;September 2013&lt;/em&gt;,  09.15 EDT Last modified on ... he had swapped his usual ostrich-skin \"argument bo...</td>\n",
       "    </tr>\n",
       "    <tr>\n",
       "      <th>24</th>\n",
       "      <td>(2013, 10)</td>\n",
       "      <td>date</td>\n",
       "      <td>[preventing pregnancy, obamacare politics, obamacare patient, obamacare pays, doesn far, obamacare percent, obamacare perfect, obamacare phone, doesn explain, doesn exist]</td>\n",
       "      <td>preventing pregnancy</td>\n",
       "      <td>obamacare politics</td>\n",
       "      <td>obamacare patient</td>\n",
       "      <td>obamacare pays</td>\n",
       "      <td>doesn far</td>\n",
       "      <td>[Why Is Maternity Care Such an Issue for Obamacare Opponents ..., ObamaCare Stories: Real Life Stories on ObamaCare, Yes, men should pay for pregnancy coverage, and here's why - latimes, How Obamacare changed maternity coverage - HealthInsurance.org, The Cheapest Shot Against Obamacare, and Why Men Should Pay for ..., The Definitive Guide to How Obamacare is Destroying American Lives ..., CBS'...</td>\n",
       "      <td>[[&lt;em&gt;2013&lt;/em&gt;, ; Politics. , &lt;em&gt;Pregnant Obamacare&lt;/em&gt;,  supporter Karmel Allison nearly faints during President Obama's , &lt;em&gt;October&lt;/em&gt;,  Rose Garden speech about health care. .... The resentment , &lt;em&gt;against&lt;/em&gt;,  women who have babies on their own has been part and parcel of the GOP moral argument for decades; in 2012, ...], [&lt;em&gt;2013&lt;/em&gt;, ; Politics. , &lt;em&gt;Pregnant Obamacare&lt;/em&gt;...</td>\n",
       "      <td>[Rough Obamacare rollout: 4 reasons why - CNNPolitics.com - CNN.com, ObamaCare 2013 - ObamaCare Facts, Ben Carson: Obamacare worst thing 'since slavery' - The Washington ..., President Obama's Oct. 1 remarks on the government shutdown, 20 Obamacare Stats Republicans Don't Want You to See | Mother Jones, The Politics of ObamaCare, Social Security, and Medicare | Scholars ..., From October 2013:...</td>\n",
       "      <td>[[&lt;em&gt;Obamacare&lt;/em&gt;,  rollout: 4 reasons why. By Tom Cohen, CNN. Updated 9:17 AM ET, Wed , &lt;em&gt;October&lt;/em&gt;,  23, , &lt;em&gt;2013&lt;/em&gt;,  ... Red flags missed on , &lt;em&gt;Obamacare&lt;/em&gt;,  site 02:31 ... Some reasons , &lt;em&gt;political&lt;/em&gt;, , others technical but presidential oversell appears to be one.], [&lt;em&gt;Obamacare&lt;/em&gt;,  rollout: 4 reasons why. By Tom Cohen, CNN. Updated 9:17 AM ET, Wed , &lt;em&gt;Octob...</td>\n",
       "      <td>[ObamaCare 2013 - ObamaCare Facts, ObamaCare Facts: Facts on the Affordable Care Act, ObamaCare | Health Insurance Exchange - ObamaCare Facts, No, Obamacare Doesn't 'Start' Oct. 1, But Here's What Changes ..., Key Features of the Affordable Care Act By Year | HHS.gov, Key Features of the Affordable Care Act | HHS.gov, ObamaCare (Affordable Care Act) Is Not An Insurance Or Healthcare ..., Patie...</td>\n",
       "      <td>[[&lt;em&gt;Oct 1st, 2013&lt;/em&gt;,  and closes March 31st, ... , &lt;em&gt;ObamaCare&lt;/em&gt;,  2013 Provisions: Doctors that take Medicaid , &lt;em&gt;patients&lt;/em&gt;,  got a pay ...], [&lt;em&gt;Oct 1st, 2013&lt;/em&gt;,  and closes March 31st, ... , &lt;em&gt;ObamaCare&lt;/em&gt;,  2013 Provisions: Doctors that take Medicaid , &lt;em&gt;patients&lt;/em&gt;,  got a pay ...], [&lt;em&gt;Oct 1st, 2013&lt;/em&gt;,  and closes March 31st, ... , &lt;em&gt;ObamaCare&lt;/em&gt;,  201...</td>\n",
       "      <td>[ObamaCare 2013 - ObamaCare Facts, ObamaCare | Health Insurance Exchange - ObamaCare Facts, ObamaCare Facts: Facts on the Affordable Care Act, ObamaCare Stories: Real Life Stories on ObamaCare, In Obamacare, Congress must buy insurance from marketplaces but ..., 10 things Obamacare supporters say that aren't entirely true | PolitiFact, Obamacare: Unfair to the young middle class, punished enou...</td>\n",
       "      <td>[[&lt;em&gt;Oct 1st, 2013&lt;/em&gt;,  and closes March 31st, ... , &lt;em&gt;ObamaCare&lt;/em&gt;,  2013 Provisions: Doctors that take Medicaid patients got a , &lt;em&gt;pay&lt;/em&gt;,  ...], [&lt;em&gt;Oct 1st, 2013&lt;/em&gt;,  and closes March 31st, ... , &lt;em&gt;ObamaCare&lt;/em&gt;,  2013 Provisions: Doctors that take Medicaid patients got a , &lt;em&gt;pay&lt;/em&gt;,  ...], [&lt;em&gt;Oct 1st, 2013&lt;/em&gt;,  and closes March 31st, ... , &lt;em&gt;ObamaCare&lt;/em&gt;,  201...</td>\n",
       "      <td>[20 Obamacare Stats Republicans Don't Want You to See | Mother Jones, Obamacare's Website Is Crashing Because It Doesn't Want You To ..., ObamaCare 2013 - ObamaCare Facts, Why Does Obamacare Suck So Much? - Obamacare Facts, No, Obamacare Doesn't 'Start' Oct. 1, But Here's What Changes ..., 70 Changes to ObamaCare… — So Far | Galen Institute, How is Obamacare Doing So Far? | BillMoyers.com, Cal...</td>\n",
       "      <td>[[... in , &lt;em&gt;October 2013&lt;/em&gt;, , a measly 106,000 people signed up for new health plans in its first ... Number of adults without health insurance in 2013: 41 million. ... Number of times Congress has voted to repeal , &lt;em&gt;Obamacare&lt;/em&gt;,  (so , &lt;em&gt;far&lt;/em&gt;, ): 56.], [... in , &lt;em&gt;October 2013&lt;/em&gt;, , a measly 106,000 people signed up for new health plans in its first ... Number of adults ...</td>\n",
       "    </tr>\n",
       "    <tr>\n",
       "      <th>10</th>\n",
       "      <td>(2013, 11)</td>\n",
       "      <td>date</td>\n",
       "      <td>[zuckerberg spent 25, including community, including american, including 10, includes broad, includes abortion, included targets, included public option, included public, included joe lieberman]</td>\n",
       "      <td>zuckerberg spent 25</td>\n",
       "      <td>including community</td>\n",
       "      <td>including american</td>\n",
       "      <td>including 10</td>\n",
       "      <td>includes broad</td>\n",
       "      <td>[FWD.us - Wikipedia, the free encyclopedia, Zuckerberg Defends Obamacare Website - Breitbart, 2013: Year of the Left-Wing Billionaire | Power Line, Facebook Spent $12.5 Million to Protect Zuckerberg Since 2013 ..., Archive for November, 2013 | Politicus USA | Page 3, Mark Zuckerberg's Political Group Is Trashing Obama And Obamacare ..., 23 | November | 2013 | Netter Capital Partners | Page 2, ...</td>\n",
       "      <td>[[&lt;em&gt;Zuckerberg&lt;/em&gt;, . .... in the Arctic National Wildlife Refuge, along with support for repealing , &lt;em&gt;Obamacare&lt;/em&gt;, . ... In , &lt;em&gt;November 2013&lt;/em&gt;, , FWD.us announced that it had hired Darius Contractor as ...], [&lt;em&gt;Zuckerberg&lt;/em&gt;, . .... in the Arctic National Wildlife Refuge, along with support for repealing , &lt;em&gt;Obamacare&lt;/em&gt;, . ... In , &lt;em&gt;November 2013&lt;/em&gt;, , FWD.us anno...</td>\n",
       "      <td>[Obamacare: Seven Major Provisions And How They Affect You - Forbes, Obamacare's Website Won't Be Working By November 30 -- But What ..., ObamaCare Facts: Facts on the Affordable Care Act, The Affordable Care Act and Infertility - RESOLVE: The National ..., November 2013 - Consumer Action, How Obamacare Will Affect Trans Folks and Families | Advocate.com, International Profiles of Health Care ...</td>\n",
       "      <td>[[&lt;em&gt;Obamacare&lt;/em&gt;, , or the PPACA if you prefer, will drastically change major aspects of “, &lt;wbr&gt;the finest healthcare system in the world.” Without question ...&lt;/wbr&gt;], [&lt;em&gt;Obamacare&lt;/em&gt;, , or the PPACA if you prefer, will drastically change major aspects of “, &lt;wbr&gt;the finest healthcare system in the world.” Without question ...&lt;/wbr&gt;], [&lt;em&gt;Obamacare&lt;/em&gt;, , or the PPACA if you prefer...</td>\n",
       "      <td>[Why is Obamacare so controversial? - BBC News - BBC.com, Americans' Approval of Healthcare Law Declines - Gallup, ObamaCare Facts: Facts on the Affordable Care Act, US Citizens Abroad and OBAMACARE – UPDATED August 1 2015 ..., Statement by the President on the Affordable Care Act | whitehouse.gov, Obama apologizes for insurance cancellations due to Obamacare ..., Obamacare exposed: The guttin...</td>\n",
       "      <td>[[&lt;em&gt;Americans&lt;/em&gt;,  think of , &lt;em&gt;Obamacare&lt;/em&gt;,  today? ... The phased rollout of the law has been bedeviled by setbacks, , &lt;em&gt;including&lt;/em&gt;, : ... Nov 14: Mr Obama announces insurers can keep customers on existing plans ... , &lt;em&gt;15 November 2013&lt;/em&gt;,  ...], [&lt;em&gt;Americans&lt;/em&gt;,  think of , &lt;em&gt;Obamacare&lt;/em&gt;,  today? ... The phased rollout of the law has been bedeviled by setbacks, ...</td>\n",
       "      <td>[Obamacare's Website Won't Be Working By November 30 -- But What ..., ObamaCare Facts: Facts on the Affordable Care Act, ObamaCare | Health Insurance Exchange - ObamaCare Facts, Obamacare Enrollment Numbers Spike In November - Business Insider, 258,000 Americans Enrolled In Obamacare Exchange Health Plans In ..., Obama apologizes for insurance cancellations due to Obamacare ..., Americans' App...</td>\n",
       "      <td>[[&lt;em&gt;Obamacare&lt;/em&gt;,  is working by next November. ... , &lt;em&gt;Nov 30, 2013 @ 10:42 AM&lt;/em&gt;,  views ... The Apothecary's authors , &lt;em&gt;include&lt;/em&gt;, : Josh Archambault of the Foundation for .... Plus we'll count the , &lt;em&gt;10&lt;/em&gt;,  million new enrollees in the Medicaid program as ...], [&lt;em&gt;Obamacare&lt;/em&gt;,  is working by next November. ... , &lt;em&gt;Nov 30, 2013 @ 10:42 AM&lt;/em&gt;,  views ... The Apot...</td>\n",
       "      <td>[In fourth year, Obamacare exchange eyes broader role | The CT Mirror, Obamacare a single-payer ploy, says ex-GOP Senator - CNBC.com, White House orders broader Obamacare health plans in 2015 ..., Strategic Move Exempts Health Law From Broader U.S. Statute ..., ObamaCare News: Daily ObamaCare Updates - ObamaCare Facts, Health Insurers' Decisions on Insurance Exchange Participation, Obamacare |...</td>\n",
       "      <td>[[The , &lt;em&gt;broader&lt;/em&gt;,  mission, as Wadleigh views it, will , &lt;em&gt;include&lt;/em&gt;,  efforts to ensure that people are using their coverage to get preventive care, to push for ...], [The , &lt;em&gt;broader&lt;/em&gt;,  mission, as Wadleigh views it, will , &lt;em&gt;include&lt;/em&gt;,  efforts to ensure that people are using their coverage to get preventive care, to push for ...], [The , &lt;em&gt;broader&lt;/em&gt;,  mission, ...</td>\n",
       "    </tr>\n",
       "    <tr>\n",
       "      <th>25</th>\n",
       "      <td>(2013, 12)</td>\n",
       "      <td>date</td>\n",
       "      <td>[legislators country, middle class poor, mikhail, milbank, common ground, mile away, common core state, miles away, miles day, miles headquarters]</td>\n",
       "      <td>legislators country</td>\n",
       "      <td>middle class poor</td>\n",
       "      <td>mikhail</td>\n",
       "      <td>milbank</td>\n",
       "      <td>common ground</td>\n",
       "      <td>[Obamacare faces new threat at state level from corporate interest ..., Patient Protection and Affordable Care Act - Wikipedia, the free ..., United States federal government shutdown of 2013 - Wikipedia, the ..., Massachusetts health care reform - Wikipedia, the free encyclopedia, Why is Obamacare so controversial? - BBC News - BBC.com, Obamacare's Medicaid Expansion Is Helping The Uninsured ...</td>\n",
       "      <td>[[Republican , &lt;em&gt;legislators&lt;/em&gt;,  and rightwing lobbying group draft proposal for state ... Wednesday 20 November , &lt;em&gt;2013&lt;/em&gt;,  11.07 EST Last modified on Wednesday 11 May .... in , &lt;em&gt;December&lt;/em&gt;,  at the council's next nationwide summit in Washington. .... Are you saying that handing over the , &lt;em&gt;country&lt;/em&gt;,  to corporations will make it ...], [Republican , &lt;em&gt;legislators&lt;/em...</td>\n",
       "      <td>[New Health Law Frustrates Many in Middle Class - NYTimes.com, High Obamacare Costs Creating New Middle Class of Uninsured, ObamaCare Stories: Real Life Stories on ObamaCare, Why Obamacare fails poor and middle class - CNN.com, The Forgotten Middle Class of Obamacare: “not poor enough for help ..., What Obamacare Did For Our Middle-Class Family - Smartter Each Day, New York Times *finally* tel...</td>\n",
       "      <td>[[Another Rule in Health Law Is Scaled Back (, &lt;em&gt;December 20, 2013&lt;/em&gt;, ) ... Chapmans are caught in the uncomfortable , &lt;em&gt;middle&lt;/em&gt;, : not , &lt;em&gt;poor&lt;/em&gt;,  enough for help, ... “Everybody was thinking that , &lt;em&gt;Obamacare&lt;/em&gt;,  was going to come in with more ...], [Another Rule in Health Law Is Scaled Back (, &lt;em&gt;December 20, 2013&lt;/em&gt;, ) ... Chapmans are caught in the uncomfortable ...</td>\n",
       "      <td>[The Obamacare We Deserve - The New York Times, Obamacare: 365,000 have signed up for insurance on exchanges ..., Some Obamacare insured start new year in limbo - Dec. 31, 2013, As Predicted, ObamaCare Plunges Into 'Utter Chaos' - Forbes, The impossible trinity of ObamaCare | Fox News, Obamacare Horror Stories | Citizens Against Government Waste, Michael Moore: Obamacare sends over $100 billio...</td>\n",
       "      <td>[[Now that , &lt;em&gt;Obamacare&lt;/em&gt;,  has finally arrived, liberals can stop defending its ... The , &lt;em&gt;Obamacare&lt;/em&gt;,  We Deserve. By , &lt;em&gt;MICHAEL&lt;/em&gt;,  MOORE , &lt;em&gt;DEC. 31, 2013&lt;/em&gt;, .], [Now that , &lt;em&gt;Obamacare&lt;/em&gt;,  has finally arrived, liberals can stop defending its ... The , &lt;em&gt;Obamacare&lt;/em&gt;,  We Deserve. By , &lt;em&gt;MICHAEL&lt;/em&gt;,  MOORE , &lt;em&gt;DEC. 31, 2013&lt;/em&gt;, .], [Now that , &lt;em&gt;O...</td>\n",
       "      <td>[Dana Milbank: In Obamacare speech, Obama makes a desperate ..., Milbank Memorial Fund - Milbank Highlights December 2013, A Picture of Progress on Hospital Errors - Milbank Memorial Fund, The Perils of Health Care Nostalgia - NCBI - National Institutes of Health, A Picture of Progress on Hospital Errors, 2013 December - ShrinkOurGovernment.com, RealClearPolitics December 17, 2013 Archives, Mi...</td>\n",
       "      <td>[[&lt;em&gt;Obamacare&lt;/em&gt;,  fails, so will this president and his party. ... Got it. By Dana , &lt;em&gt;Milbank&lt;/em&gt;,  Opinion writer. Opinions. October 21, , &lt;em&gt;2013&lt;/em&gt;,  ... “No one who decides to purchase a plan has to pay their first premium until , &lt;em&gt;December&lt;/em&gt;,  15th. And unlike the day after ...], [&lt;em&gt;Obamacare&lt;/em&gt;,  fails, so will this president and his party. ... Got it. By Dana , &lt;em...</td>\n",
       "      <td>[Lie of the Year: 'If you like your health care plan, you can keep it ..., Obamacare Health Insurance COOPs Are Unraveling | NCPA, Al Franken Finds Common Ground With Tea Party Conservatives On ..., Reagan Would Have Found Common Ground With Tea Party - Breitbart, PUBLIC NOTICE: Wisconsin: Common Ground Co-Op *FULLY ..., Obamacare Website, Carlos Danger: Democrats' Most Embarrassing ..., Commo...</td>\n",
       "      <td>[[&lt;em&gt;Thursday, December 12th, 2013 at 4:44 p.m.&lt;/em&gt;,  ... but friends and foes of , &lt;em&gt;Obamacare&lt;/em&gt;,  have found one slice of , &lt;em&gt;common ground&lt;/em&gt;, : The ...], [&lt;em&gt;Thursday, December 12th, 2013 at 4:44 p.m.&lt;/em&gt;,  ... but friends and foes of , &lt;em&gt;Obamacare&lt;/em&gt;,  have found one slice of , &lt;em&gt;common ground&lt;/em&gt;, : The ...], [&lt;em&gt;Thursday, December 12th, 2013 at 4:44 p.m.&lt;/em&gt;,  ... ...</td>\n",
       "    </tr>\n",
       "    <tr>\n",
       "      <th>48</th>\n",
       "      <td>(2014, 1)</td>\n",
       "      <td>date</td>\n",
       "      <td>[zuma press seeded, january 2014 dustinsiggins, january 6th, january 3rd felt, january 29, january 28th, january 27, january 25 2014, january 2017, january 2014 information]</td>\n",
       "      <td>zuma press seeded</td>\n",
       "      <td>january 2014 dustinsiggins</td>\n",
       "      <td>january 6th</td>\n",
       "      <td>january 3rd felt</td>\n",
       "      <td>january 29</td>\n",
       "      <td>[Benefits Of ObamaCare: Advantage of ObamaCare - ObamaCare Facts, ObamaCare Dollar Limits - ObamaCare Facts, Obamacare Causes Millions to Lose Their Current Health Insurance, 6 Insurance Companies Created Under Obamacare Collapsed, 2016 Campaign Rhetoric Shakes Markets – By GERALD F. SEIB ..., nomad | Aisle C, Florida Courier - July 04, 2014 by Central Florida Communicators ..., The Top 5 Best...</td>\n",
       "      <td>[[&lt;em&gt;ObamaCare&lt;/em&gt;,  “grandfathered plans”. Starting , &lt;em&gt;January 1st of 2014&lt;/em&gt;, , the following “Ten Essential Benefits” must be included under all ...], [&lt;em&gt;ObamaCare&lt;/em&gt;,  “grandfathered plans”. Starting , &lt;em&gt;January 1st of 2014&lt;/em&gt;, , the following “Ten Essential Benefits” must be included under all ...], [&lt;em&gt;ObamaCare&lt;/em&gt;,  “grandfathered plans”. Starting , &lt;em&gt;January 1st of ...</td>\n",
       "      <td>[Media Change Definition of Abortion to Promote Obamacare ..., Benefits Of ObamaCare: Advantage of ObamaCare - ObamaCare Facts, ObamaCare Individual Mandate - ObamaCare Facts, Key Features of the Affordable Care Act By Year | HHS.gov, Obama admin. doubles down, demands nuns violate their conscience ..., January 2014 – Nebraska Family Alliance, January | 2014 | wyandotcountyrightolife | Page 10...</td>\n",
       "      <td>[[&lt;em&gt;Obamacare&lt;/em&gt;, . National. , &lt;em&gt;Dustin Siggins&lt;/em&gt;,  and Drew Belsky , &lt;em&gt;Jan 8, 2014&lt;/em&gt;,  | 2:57PM Washington, DC. Share this story:, &lt;wbr&gt;.&lt;/wbr&gt;], [&lt;em&gt;Obamacare&lt;/em&gt;, . National. , &lt;em&gt;Dustin Siggins&lt;/em&gt;,  and Drew Belsky , &lt;em&gt;Jan 8, 2014&lt;/em&gt;,  | 2:57PM Washington, DC. Share this story:, &lt;wbr&gt;.&lt;/wbr&gt;], [&lt;em&gt;Obamacare&lt;/em&gt;, . National. , &lt;em&gt;Dustin Siggins&lt;/em&gt;,  and Drew Bel...</td>\n",
       "      <td>[Money talks: January 6th 2014: Dollars and crafts | The Economist, Monday, January 6th: Obamacare and Me in NYC: What the ..., The Note's Must-Reads for Monday, January 6, 2014 - ABC News, 06 – January – 2014 – CNN Political Ticker - CNN.com Blogs, Obamacare's Employer Mandate Takes Effect: 5 Things to Know - Free ..., ObamaCare in California - Counterpunch, Obama's Numbers (January 2014 Upda...</td>\n",
       "      <td>[[Our correspondents discuss the outlook for the global economy, the state of , &lt;em&gt;Obamacare&lt;/em&gt;,  and how Etsy, an online marketplace for crafts, has ...], [Our correspondents discuss the outlook for the global economy, the state of , &lt;em&gt;Obamacare&lt;/em&gt;,  and how Etsy, an online marketplace for crafts, has ...], [Our correspondents discuss the outlook for the global economy, the state of , ...</td>\n",
       "      <td>[January 3, 2014 This is Obamacare: New Year, New Coverage ..., Key Features of the Affordable Care Act | HHS.gov, Benefits Of ObamaCare: Advantage of ObamaCare - ObamaCare Facts, ObamaCare Stories: Real Life Stories on ObamaCare, Patient Protection and Affordable Care Act - Wikipedia, the free ..., Kaiser Health Tracking Poll: January 2014 | The Henry J. Kaiser ..., Is Obama Backing Away from...</td>\n",
       "      <td>[[Starting , &lt;em&gt;January&lt;/em&gt;,  1, millions of Americans are covered by provisions of the ... for the “certain dignity” they , &lt;em&gt;felt&lt;/em&gt;,  from being able to afford insurance.], [Starting , &lt;em&gt;January&lt;/em&gt;,  1, millions of Americans are covered by provisions of the ... for the “certain dignity” they , &lt;em&gt;felt&lt;/em&gt;,  from being able to afford insurance.], [Starting , &lt;em&gt;January&lt;/em&gt;,  1,...</td>\n",
       "      <td>[10 things you need to know today: January 29, 2014 - The Week, The Chart That Could Sink Obamacare - Forbes, Ted Cruz's Pants on Fire claim that health care law is nation's 'biggest ..., Obamacare open enrollment: What you need to know - CNN.com, ObamaCare | Health Insurance Exchange - ObamaCare Facts, Sign up for ObamaCare, Obama says | TheHill, Ex-Microsoft Exec Brings Lists And Whiteboard ...</td>\n",
       "      <td>[[10 things you need to know today: , &lt;em&gt;January 29, 2014&lt;/em&gt;, . Harold Maass ... House passes bill barring the use of , &lt;em&gt;ObamaCare&lt;/em&gt;,  subsidies for abortion], [10 things you need to know today: , &lt;em&gt;January 29, 2014&lt;/em&gt;, . Harold Maass ... House passes bill barring the use of , &lt;em&gt;ObamaCare&lt;/em&gt;,  subsidies for abortion], [10 things you need to know today: , &lt;em&gt;January 29, 2014&lt;/...</td>\n",
       "    </tr>\n",
       "  </tbody>\n",
       "</table>\n",
       "</div>"
      ],
      "text/plain": [
       "         scope scope_type  \\\n",
       "44   (2013, 9)       date   \n",
       "24  (2013, 10)       date   \n",
       "10  (2013, 11)       date   \n",
       "25  (2013, 12)       date   \n",
       "48   (2014, 1)       date   \n",
       "\n",
       "                                                                                                                                                                                           tfidf_top10  \\\n",
       "44                                                          [legal counsel, happened government, paints picture, changes healthcare, pair new, paired, handout, pairs, handling use, pakistan history]   \n",
       "24                         [preventing pregnancy, obamacare politics, obamacare patient, obamacare pays, doesn far, obamacare percent, obamacare perfect, obamacare phone, doesn explain, doesn exist]   \n",
       "10  [zuckerberg spent 25, including community, including american, including 10, includes broad, includes abortion, included targets, included public option, included public, included joe lieberman]   \n",
       "25                                                  [legislators country, middle class poor, mikhail, milbank, common ground, mile away, common core state, miles away, miles day, miles headquarters]   \n",
       "48                       [zuma press seeded, january 2014 dustinsiggins, january 6th, january 3rd felt, january 29, january 28th, january 27, january 25 2014, january 2017, january 2014 information]   \n",
       "\n",
       "                    top1                        top2                top3  \\\n",
       "44         legal counsel         happened government      paints picture   \n",
       "24  preventing pregnancy          obamacare politics   obamacare patient   \n",
       "10   zuckerberg spent 25         including community  including american   \n",
       "25   legislators country           middle class poor             mikhail   \n",
       "48     zuma press seeded  january 2014 dustinsiggins         january 6th   \n",
       "\n",
       "                  top4            top5  \\\n",
       "44  changes healthcare        pair new   \n",
       "24      obamacare pays       doesn far   \n",
       "10        including 10  includes broad   \n",
       "25             milbank   common ground   \n",
       "48    january 3rd felt      january 29   \n",
       "\n",
       "                                                                                                                                                                                                                                                                                                                                                                                             google_titles_for_top1  \\\n",
       "44  [US government shutdown: House votes to delay Obamacare law | US ..., What Is Obamacare? A Legal Overview - Law and Daily Life - FindLaw, What's in a name? Lots when it comes to Obamacare/ACA - CNBC.com, Read the Law | HHS.gov, Office of the General Counsel September 3, 2013 Submitted ..., Patient Protection and Affordable Care Act - Wikipedia, the free ..., United States federal government sh...   \n",
       "24  [Why Is Maternity Care Such an Issue for Obamacare Opponents ..., ObamaCare Stories: Real Life Stories on ObamaCare, Yes, men should pay for pregnancy coverage, and here's why - latimes, How Obamacare changed maternity coverage - HealthInsurance.org, The Cheapest Shot Against Obamacare, and Why Men Should Pay for ..., The Definitive Guide to How Obamacare is Destroying American Lives ..., CBS'...   \n",
       "10  [FWD.us - Wikipedia, the free encyclopedia, Zuckerberg Defends Obamacare Website - Breitbart, 2013: Year of the Left-Wing Billionaire | Power Line, Facebook Spent $12.5 Million to Protect Zuckerberg Since 2013 ..., Archive for November, 2013 | Politicus USA | Page 3, Mark Zuckerberg's Political Group Is Trashing Obama And Obamacare ..., 23 | November | 2013 | Netter Capital Partners | Page 2, ...   \n",
       "25  [Obamacare faces new threat at state level from corporate interest ..., Patient Protection and Affordable Care Act - Wikipedia, the free ..., United States federal government shutdown of 2013 - Wikipedia, the ..., Massachusetts health care reform - Wikipedia, the free encyclopedia, Why is Obamacare so controversial? - BBC News - BBC.com, Obamacare's Medicaid Expansion Is Helping The Uninsured ...   \n",
       "48  [Benefits Of ObamaCare: Advantage of ObamaCare - ObamaCare Facts, ObamaCare Dollar Limits - ObamaCare Facts, Obamacare Causes Millions to Lose Their Current Health Insurance, 6 Insurance Companies Created Under Obamacare Collapsed, 2016 Campaign Rhetoric Shakes Markets – By GERALD F. SEIB ..., nomad | Aisle C, Florida Courier - July 04, 2014 by Central Florida Communicators ..., The Top 5 Best...   \n",
       "\n",
       "                                                                                                                                                                                                                                                                                                                                                                                          google_summeries_for_top1  \\\n",
       "44  [[US government shutdown: House votes to delay , <em>Obamacare law</em>,  ... Sunday 29 , <em>September 2013</em>,  12.30 EDT Last modified on Wednesday 11 May .... About half of the Defense , <em>Department's</em>,  civilian employees – about 800,000 ...], [US government shutdown: House votes to delay , <em>Obamacare law</em>,  ... Sunday 29 , <em>September 2013</em>,  12.30 EDT Last modified...   \n",
       "24  [[<em>2013</em>, ; Politics. , <em>Pregnant Obamacare</em>,  supporter Karmel Allison nearly faints during President Obama's , <em>October</em>,  Rose Garden speech about health care. .... The resentment , <em>against</em>,  women who have babies on their own has been part and parcel of the GOP moral argument for decades; in 2012, ...], [<em>2013</em>, ; Politics. , <em>Pregnant Obamacare</em>...   \n",
       "10  [[<em>Zuckerberg</em>, . .... in the Arctic National Wildlife Refuge, along with support for repealing , <em>Obamacare</em>, . ... In , <em>November 2013</em>, , FWD.us announced that it had hired Darius Contractor as ...], [<em>Zuckerberg</em>, . .... in the Arctic National Wildlife Refuge, along with support for repealing , <em>Obamacare</em>, . ... In , <em>November 2013</em>, , FWD.us anno...   \n",
       "25  [[Republican , <em>legislators</em>,  and rightwing lobbying group draft proposal for state ... Wednesday 20 November , <em>2013</em>,  11.07 EST Last modified on Wednesday 11 May .... in , <em>December</em>,  at the council's next nationwide summit in Washington. .... Are you saying that handing over the , <em>country</em>,  to corporations will make it ...], [Republican , <em>legislators</em...   \n",
       "48  [[<em>ObamaCare</em>,  “grandfathered plans”. Starting , <em>January 1st of 2014</em>, , the following “Ten Essential Benefits” must be included under all ...], [<em>ObamaCare</em>,  “grandfathered plans”. Starting , <em>January 1st of 2014</em>, , the following “Ten Essential Benefits” must be included under all ...], [<em>ObamaCare</em>,  “grandfathered plans”. Starting , <em>January 1st of ...   \n",
       "\n",
       "                                                                                                                                                                                                                                                                                                                                                                                             google_titles_for_top2  \\\n",
       "44  [United States federal government shutdown of 2013 - Wikipedia, the ..., Government shutdown in the United States - Wikipedia, the free ..., Why Did The U.S. Government Shut Down In October 2013? - Forbes, A Brief History of the 2013 Government Shutdown | Mediaite, US government shutdown: House votes to delay Obamacare law | US ..., Government shutdown: What you need to know - CNNPolitics.com,...   \n",
       "24  [Rough Obamacare rollout: 4 reasons why - CNNPolitics.com - CNN.com, ObamaCare 2013 - ObamaCare Facts, Ben Carson: Obamacare worst thing 'since slavery' - The Washington ..., President Obama's Oct. 1 remarks on the government shutdown, 20 Obamacare Stats Republicans Don't Want You to See | Mother Jones, The Politics of ObamaCare, Social Security, and Medicare | Scholars ..., From October 2013:...   \n",
       "10  [Obamacare: Seven Major Provisions And How They Affect You - Forbes, Obamacare's Website Won't Be Working By November 30 -- But What ..., ObamaCare Facts: Facts on the Affordable Care Act, The Affordable Care Act and Infertility - RESOLVE: The National ..., November 2013 - Consumer Action, How Obamacare Will Affect Trans Folks and Families | Advocate.com, International Profiles of Health Care ...   \n",
       "25  [New Health Law Frustrates Many in Middle Class - NYTimes.com, High Obamacare Costs Creating New Middle Class of Uninsured, ObamaCare Stories: Real Life Stories on ObamaCare, Why Obamacare fails poor and middle class - CNN.com, The Forgotten Middle Class of Obamacare: “not poor enough for help ..., What Obamacare Did For Our Middle-Class Family - Smartter Each Day, New York Times *finally* tel...   \n",
       "48  [Media Change Definition of Abortion to Promote Obamacare ..., Benefits Of ObamaCare: Advantage of ObamaCare - ObamaCare Facts, ObamaCare Individual Mandate - ObamaCare Facts, Key Features of the Affordable Care Act By Year | HHS.gov, Obama admin. doubles down, demands nuns violate their conscience ..., January 2014 – Nebraska Family Alliance, January | 2014 | wyandotcountyrightolife | Page 10...   \n",
       "\n",
       "                                                                                                                                                                                                                                                                                                                                                                                          google_summeries_for_top2  \\\n",
       "44  [[<em>government</em>,  entered a shutdown ..... Meese's coalition produced a \"blueprint to defunding , <em>Obamacare</em>, \", <wbr>. .... With Congress having failed to agree by late <em>September 2013</em> on the budget ...... asserted that \"none of what is <em>happening</em> in Washington diminishes one iota<wbr> ...</wbr></wbr>], [<em>government</em>,  entered a shutdown ..... Meese's coal...   \n",
       "24  [[<em>Obamacare</em>,  rollout: 4 reasons why. By Tom Cohen, CNN. Updated 9:17 AM ET, Wed , <em>October</em>,  23, , <em>2013</em>,  ... Red flags missed on , <em>Obamacare</em>,  site 02:31 ... Some reasons , <em>political</em>, , others technical but presidential oversell appears to be one.], [<em>Obamacare</em>,  rollout: 4 reasons why. By Tom Cohen, CNN. Updated 9:17 AM ET, Wed , <em>Octob...   \n",
       "10  [[<em>Obamacare</em>, , or the PPACA if you prefer, will drastically change major aspects of “, <wbr>the finest healthcare system in the world.” Without question ...</wbr>], [<em>Obamacare</em>, , or the PPACA if you prefer, will drastically change major aspects of “, <wbr>the finest healthcare system in the world.” Without question ...</wbr>], [<em>Obamacare</em>, , or the PPACA if you prefer...   \n",
       "25  [[Another Rule in Health Law Is Scaled Back (, <em>December 20, 2013</em>, ) ... Chapmans are caught in the uncomfortable , <em>middle</em>, : not , <em>poor</em>,  enough for help, ... “Everybody was thinking that , <em>Obamacare</em>,  was going to come in with more ...], [Another Rule in Health Law Is Scaled Back (, <em>December 20, 2013</em>, ) ... Chapmans are caught in the uncomfortable ...   \n",
       "48  [[<em>Obamacare</em>, . National. , <em>Dustin Siggins</em>,  and Drew Belsky , <em>Jan 8, 2014</em>,  | 2:57PM Washington, DC. Share this story:, <wbr>.</wbr>], [<em>Obamacare</em>, . National. , <em>Dustin Siggins</em>,  and Drew Belsky , <em>Jan 8, 2014</em>,  | 2:57PM Washington, DC. Share this story:, <wbr>.</wbr>], [<em>Obamacare</em>, . National. , <em>Dustin Siggins</em>,  and Drew Bel...   \n",
       "\n",
       "                                                                                                                                                                                                                                                                                                                                                                                             google_titles_for_top3  \\\n",
       "44  [ObamaCare News: Daily ObamaCare Updates - ObamaCare Facts, Obamacare \"has never been favored by a majority of Americans ..., We Mapped the Uninsured. You'll Notice a Pattern. - The New York ..., One Key Thing No One Knows About Obamacare : Planet Money : NPR, Reality Check: Obamacare Edition - gop.gov, Opinion: Worried about Obamacare? Fear not - CNN.com, Study: Obamacare gave 10 million Amer...   \n",
       "24  [ObamaCare 2013 - ObamaCare Facts, ObamaCare Facts: Facts on the Affordable Care Act, ObamaCare | Health Insurance Exchange - ObamaCare Facts, No, Obamacare Doesn't 'Start' Oct. 1, But Here's What Changes ..., Key Features of the Affordable Care Act By Year | HHS.gov, Key Features of the Affordable Care Act | HHS.gov, ObamaCare (Affordable Care Act) Is Not An Insurance Or Healthcare ..., Patie...   \n",
       "10  [Why is Obamacare so controversial? - BBC News - BBC.com, Americans' Approval of Healthcare Law Declines - Gallup, ObamaCare Facts: Facts on the Affordable Care Act, US Citizens Abroad and OBAMACARE – UPDATED August 1 2015 ..., Statement by the President on the Affordable Care Act | whitehouse.gov, Obama apologizes for insurance cancellations due to Obamacare ..., Obamacare exposed: The guttin...   \n",
       "25  [The Obamacare We Deserve - The New York Times, Obamacare: 365,000 have signed up for insurance on exchanges ..., Some Obamacare insured start new year in limbo - Dec. 31, 2013, As Predicted, ObamaCare Plunges Into 'Utter Chaos' - Forbes, The impossible trinity of ObamaCare | Fox News, Obamacare Horror Stories | Citizens Against Government Waste, Michael Moore: Obamacare sends over $100 billio...   \n",
       "48  [Money talks: January 6th 2014: Dollars and crafts | The Economist, Monday, January 6th: Obamacare and Me in NYC: What the ..., The Note's Must-Reads for Monday, January 6, 2014 - ABC News, 06 – January – 2014 – CNN Political Ticker - CNN.com Blogs, Obamacare's Employer Mandate Takes Effect: 5 Things to Know - Free ..., ObamaCare in California - Counterpunch, Obama's Numbers (January 2014 Upda...   \n",
       "\n",
       "                                                                                                                                                                                                                                                                                                                                                                                          google_summeries_for_top3  \\\n",
       "44  [[<em>September</em>,  26th, 2014 by , <em>ObamaCare</em>,  Facts ... 36% to 23% from , <em>2013</em>,  to the closing the Health Insurance Marketplace's first open enrollment period. ..... A recent article from the New York Post does a great job at , <em>painting</em>,  a , <em>picture</em>,  of ...], [<em>September</em>,  26th, 2014 by , <em>ObamaCare</em>,  Facts ... 36% to 23% from , <em>2...   \n",
       "24  [[<em>Oct 1st, 2013</em>,  and closes March 31st, ... , <em>ObamaCare</em>,  2013 Provisions: Doctors that take Medicaid , <em>patients</em>,  got a pay ...], [<em>Oct 1st, 2013</em>,  and closes March 31st, ... , <em>ObamaCare</em>,  2013 Provisions: Doctors that take Medicaid , <em>patients</em>,  got a pay ...], [<em>Oct 1st, 2013</em>,  and closes March 31st, ... , <em>ObamaCare</em>,  201...   \n",
       "10  [[<em>Americans</em>,  think of , <em>Obamacare</em>,  today? ... The phased rollout of the law has been bedeviled by setbacks, , <em>including</em>, : ... Nov 14: Mr Obama announces insurers can keep customers on existing plans ... , <em>15 November 2013</em>,  ...], [<em>Americans</em>,  think of , <em>Obamacare</em>,  today? ... The phased rollout of the law has been bedeviled by setbacks, ...   \n",
       "25  [[Now that , <em>Obamacare</em>,  has finally arrived, liberals can stop defending its ... The , <em>Obamacare</em>,  We Deserve. By , <em>MICHAEL</em>,  MOORE , <em>DEC. 31, 2013</em>, .], [Now that , <em>Obamacare</em>,  has finally arrived, liberals can stop defending its ... The , <em>Obamacare</em>,  We Deserve. By , <em>MICHAEL</em>,  MOORE , <em>DEC. 31, 2013</em>, .], [Now that , <em>O...   \n",
       "48  [[Our correspondents discuss the outlook for the global economy, the state of , <em>Obamacare</em>,  and how Etsy, an online marketplace for crafts, has ...], [Our correspondents discuss the outlook for the global economy, the state of , <em>Obamacare</em>,  and how Etsy, an online marketplace for crafts, has ...], [Our correspondents discuss the outlook for the global economy, the state of , ...   \n",
       "\n",
       "                                                                                                                                                                                                                                                                                                                                                                                             google_titles_for_top4  \\\n",
       "44  [How Obamacare Changed Health Insurance ... Maybe - Forbes, Key Features of the Affordable Care Act By Year | HHS.gov, Current trends in health care: A new landscape with Obamacare ..., 70 Changes to ObamaCare… — So Far | Galen Institute, Health Care Industry Spent $243 Million in 2013 Lobbying - Breitbart, 5 ways Obamacare affects hospitals, doctors and more | NJ.com, What's in a name? Lots w...   \n",
       "24  [ObamaCare 2013 - ObamaCare Facts, ObamaCare | Health Insurance Exchange - ObamaCare Facts, ObamaCare Facts: Facts on the Affordable Care Act, ObamaCare Stories: Real Life Stories on ObamaCare, In Obamacare, Congress must buy insurance from marketplaces but ..., 10 things Obamacare supporters say that aren't entirely true | PolitiFact, Obamacare: Unfair to the young middle class, punished enou...   \n",
       "10  [Obamacare's Website Won't Be Working By November 30 -- But What ..., ObamaCare Facts: Facts on the Affordable Care Act, ObamaCare | Health Insurance Exchange - ObamaCare Facts, Obamacare Enrollment Numbers Spike In November - Business Insider, 258,000 Americans Enrolled In Obamacare Exchange Health Plans In ..., Obama apologizes for insurance cancellations due to Obamacare ..., Americans' App...   \n",
       "25  [Dana Milbank: In Obamacare speech, Obama makes a desperate ..., Milbank Memorial Fund - Milbank Highlights December 2013, A Picture of Progress on Hospital Errors - Milbank Memorial Fund, The Perils of Health Care Nostalgia - NCBI - National Institutes of Health, A Picture of Progress on Hospital Errors, 2013 December - ShrinkOurGovernment.com, RealClearPolitics December 17, 2013 Archives, Mi...   \n",
       "48  [January 3, 2014 This is Obamacare: New Year, New Coverage ..., Key Features of the Affordable Care Act | HHS.gov, Benefits Of ObamaCare: Advantage of ObamaCare - ObamaCare Facts, ObamaCare Stories: Real Life Stories on ObamaCare, Patient Protection and Affordable Care Act - Wikipedia, the free ..., Kaiser Health Tracking Poll: January 2014 | The Henry J. Kaiser ..., Is Obama Backing Away from...   \n",
       "\n",
       "                                                                                                                                                                                                                                                                                                                                                                                          google_summeries_for_top4  \\\n",
       "44  [[Nearly 22.8 million people have gained , <em>health insurance</em>,  since the ... insurance grew by about 8 million people between , <em>September 2013</em>,  and ...], [Nearly 22.8 million people have gained , <em>health insurance</em>,  since the ... insurance grew by about 8 million people between , <em>September 2013</em>,  and ...], [Nearly 22.8 million people have gained , <em>health ...   \n",
       "24  [[<em>Oct 1st, 2013</em>,  and closes March 31st, ... , <em>ObamaCare</em>,  2013 Provisions: Doctors that take Medicaid patients got a , <em>pay</em>,  ...], [<em>Oct 1st, 2013</em>,  and closes March 31st, ... , <em>ObamaCare</em>,  2013 Provisions: Doctors that take Medicaid patients got a , <em>pay</em>,  ...], [<em>Oct 1st, 2013</em>,  and closes March 31st, ... , <em>ObamaCare</em>,  201...   \n",
       "10  [[<em>Obamacare</em>,  is working by next November. ... , <em>Nov 30, 2013 @ 10:42 AM</em>,  views ... The Apothecary's authors , <em>include</em>, : Josh Archambault of the Foundation for .... Plus we'll count the , <em>10</em>,  million new enrollees in the Medicaid program as ...], [<em>Obamacare</em>,  is working by next November. ... , <em>Nov 30, 2013 @ 10:42 AM</em>,  views ... The Apot...   \n",
       "25  [[<em>Obamacare</em>,  fails, so will this president and his party. ... Got it. By Dana , <em>Milbank</em>,  Opinion writer. Opinions. October 21, , <em>2013</em>,  ... “No one who decides to purchase a plan has to pay their first premium until , <em>December</em>,  15th. And unlike the day after ...], [<em>Obamacare</em>,  fails, so will this president and his party. ... Got it. By Dana , <em...   \n",
       "48  [[Starting , <em>January</em>,  1, millions of Americans are covered by provisions of the ... for the “certain dignity” they , <em>felt</em>,  from being able to afford insurance.], [Starting , <em>January</em>,  1, millions of Americans are covered by provisions of the ... for the “certain dignity” they , <em>felt</em>,  from being able to afford insurance.], [Starting , <em>January</em>,  1,...   \n",
       "\n",
       "                                                                                                                                                                                                                                                                                                                                                                                             google_titles_for_top5  \\\n",
       "44  [Ted Cruz pulls all-nighter as marathon anti-Obamacare speech churns ..., ObamaCare Facts: Facts on the Affordable Care Act, How unpopular or popular is Obamacare? - The Washington Post, Is the Affordable Care Act Working? - The New York Times, Short-term health insurance, a low-cost alternative to Obamacare |, Senate defeats Cruz filibuster, passes bill that funds Obamacare ..., GOP's Anti-Ob...   \n",
       "24  [20 Obamacare Stats Republicans Don't Want You to See | Mother Jones, Obamacare's Website Is Crashing Because It Doesn't Want You To ..., ObamaCare 2013 - ObamaCare Facts, Why Does Obamacare Suck So Much? - Obamacare Facts, No, Obamacare Doesn't 'Start' Oct. 1, But Here's What Changes ..., 70 Changes to ObamaCare… — So Far | Galen Institute, How is Obamacare Doing So Far? | BillMoyers.com, Cal...   \n",
       "10  [In fourth year, Obamacare exchange eyes broader role | The CT Mirror, Obamacare a single-payer ploy, says ex-GOP Senator - CNBC.com, White House orders broader Obamacare health plans in 2015 ..., Strategic Move Exempts Health Law From Broader U.S. Statute ..., ObamaCare News: Daily ObamaCare Updates - ObamaCare Facts, Health Insurers' Decisions on Insurance Exchange Participation, Obamacare |...   \n",
       "25  [Lie of the Year: 'If you like your health care plan, you can keep it ..., Obamacare Health Insurance COOPs Are Unraveling | NCPA, Al Franken Finds Common Ground With Tea Party Conservatives On ..., Reagan Would Have Found Common Ground With Tea Party - Breitbart, PUBLIC NOTICE: Wisconsin: Common Ground Co-Op *FULLY ..., Obamacare Website, Carlos Danger: Democrats' Most Embarrassing ..., Commo...   \n",
       "48  [10 things you need to know today: January 29, 2014 - The Week, The Chart That Could Sink Obamacare - Forbes, Ted Cruz's Pants on Fire claim that health care law is nation's 'biggest ..., Obamacare open enrollment: What you need to know - CNN.com, ObamaCare | Health Insurance Exchange - ObamaCare Facts, Sign up for ObamaCare, Obama says | TheHill, Ex-Microsoft Exec Brings Lists And Whiteboard ...   \n",
       "\n",
       "                                                                                                                                                                                                                                                                                                                                                                                          google_summeries_for_top5  \n",
       "44  [[Wednesday 25 , <em>September 2013</em>,  09.15 EDT Last modified on ... he had swapped his usual ostrich-skin \"argument boots\" for a , <em>pair</em>,  of .... Republican senator Ted Cruz launches marathon anti-, <em>Obamacare</em>,  speech ...... US , <em>News</em>, .], [Wednesday 25 , <em>September 2013</em>,  09.15 EDT Last modified on ... he had swapped his usual ostrich-skin \"argument bo...  \n",
       "24  [[... in , <em>October 2013</em>, , a measly 106,000 people signed up for new health plans in its first ... Number of adults without health insurance in 2013: 41 million. ... Number of times Congress has voted to repeal , <em>Obamacare</em>,  (so , <em>far</em>, ): 56.], [... in , <em>October 2013</em>, , a measly 106,000 people signed up for new health plans in its first ... Number of adults ...  \n",
       "10  [[The , <em>broader</em>,  mission, as Wadleigh views it, will , <em>include</em>,  efforts to ensure that people are using their coverage to get preventive care, to push for ...], [The , <em>broader</em>,  mission, as Wadleigh views it, will , <em>include</em>,  efforts to ensure that people are using their coverage to get preventive care, to push for ...], [The , <em>broader</em>,  mission, ...  \n",
       "25  [[<em>Thursday, December 12th, 2013 at 4:44 p.m.</em>,  ... but friends and foes of , <em>Obamacare</em>,  have found one slice of , <em>common ground</em>, : The ...], [<em>Thursday, December 12th, 2013 at 4:44 p.m.</em>,  ... but friends and foes of , <em>Obamacare</em>,  have found one slice of , <em>common ground</em>, : The ...], [<em>Thursday, December 12th, 2013 at 4:44 p.m.</em>,  ... ...  \n",
       "48  [[10 things you need to know today: , <em>January 29, 2014</em>, . Harold Maass ... House passes bill barring the use of , <em>ObamaCare</em>,  subsidies for abortion], [10 things you need to know today: , <em>January 29, 2014</em>, . Harold Maass ... House passes bill barring the use of , <em>ObamaCare</em>,  subsidies for abortion], [10 things you need to know today: , <em>January 29, 2014</...  "
      ]
     },
     "execution_count": 243,
     "metadata": {},
     "output_type": "execute_result"
    }
   ],
   "source": [
    "df_of_scopes_dates.head()"
   ]
  },
  {
   "cell_type": "code",
   "execution_count": null,
   "metadata": {
    "collapsed": true
   },
   "outputs": [],
   "source": [
    "df_of_scopes_dates.pickle\n"
   ]
  },
  {
   "cell_type": "code",
   "execution_count": 126,
   "metadata": {
    "collapsed": false
   },
   "outputs": [
    {
     "data": {
      "text/plain": [
       "[u'legal counsel',\n",
       " u'preventing pregnancy',\n",
       " u'zuckerberg spent 25',\n",
       " u'legislators country',\n",
       " u'zuma press seeded',\n",
       " u'zurich',\n",
       " u'liberals conservatives',\n",
       " u'zuma',\n",
       " u'lefties',\n",
       " u'zuckerberg jones',\n",
       " u'zurich',\n",
       " u'\\xeatre',\n",
       " u'zuma',\n",
       " u'zucker',\n",
       " u'liars current political',\n",
       " u'zywicki',\n",
       " u'zones europe',\n",
       " u'zurich',\n",
       " u'zwick',\n",
       " u'zuckerberg',\n",
       " u'best deal',\n",
       " u'zug island homeland',\n",
       " u'zuma press',\n",
       " u'zoo officials say',\n",
       " u'leblond doro',\n",
       " u'\\u017ei\\u017eek',\n",
       " u'life federation',\n",
       " u'zuckerberg initiative',\n",
       " u'zuma press',\n",
       " u'zurich',\n",
       " u'zubik case',\n",
       " u'leaving country']"
      ]
     },
     "execution_count": 126,
     "metadata": {},
     "output_type": "execute_result"
    }
   ],
   "source": [
    "list(df_of_scopes_dates[\"top1\"])"
   ]
  },
  {
   "cell_type": "code",
   "execution_count": 242,
   "metadata": {
    "collapsed": false
   },
   "outputs": [],
   "source": [
    "n = df_of_scopes_dates.shape[0]\n",
    "\n",
    "scope_dates = sorted(list(df_of_scopes_dates[\"scope\"]))\n",
    "google_titles_for_top1 = []\n",
    "google_titles_for_top2 = []\n",
    "google_titles_for_top3 = []\n",
    "google_titles_for_top4 = []\n",
    "google_titles_for_top5 = []\n",
    "\n",
    "google_summeries_for_top1 = []\n",
    "google_summeries_for_top2 = []\n",
    "google_summeries_for_top3 = []\n",
    "google_summeries_for_top4 = []\n",
    "google_summeries_for_top5 = []\n",
    "\n",
    "\n",
    "\n",
    "for i in range(n):\n",
    "    date = scope_dates[i]\n",
    "    #print date\n",
    "    \n",
    "    # For token # 1\n",
    "    top1_token = list(df_of_scopes_dates[\"top1\"])[i]\n",
    "    url_1 = get_google_search_url(scope_date = date, search_token = top1_token)\n",
    "    (link_title_list,link_url_list,result_summary_list) = dict_of_google_tag_searches[url_1]\n",
    "    google_titles_for_top1.append(link_title_list)\n",
    "    google_summeries_for_top1.append(result_summary_list)\n",
    "\n",
    "    # For token # 2\n",
    "    top2_token = list(df_of_scopes_dates[\"top2\"])[i]\n",
    "    url_2 = get_google_search_url(scope_date = date, search_token = top2_token)\n",
    "    (link_title_list,link_url_list,result_summary_list) = dict_of_google_tag_searches[url_2]\n",
    "    google_titles_for_top2.append(link_title_list)\n",
    "    google_summeries_for_top2.append(result_summary_list)\n",
    "    \n",
    "\n",
    "    # For token # 3\n",
    "    top3_token = list(df_of_scopes_dates[\"top3\"])[i]\n",
    "    url_3 = get_google_search_url(scope_date = date, search_token = top3_token)\n",
    "    (link_title_list,link_url_list,result_summary_list) = dict_of_google_tag_searches[url_3]\n",
    "    google_titles_for_top3.append(link_title_list)\n",
    "    google_summeries_for_top3.append(result_summary_list)\n",
    "\n",
    "    # For token # 4\n",
    "    top4_token = list(df_of_scopes_dates[\"top4\"])[i]\n",
    "    url_4 = get_google_search_url(scope_date = date, search_token = top4_token)\n",
    "    (link_title_list,link_url_list,result_summary_list) = dict_of_google_tag_searches[url_4]\n",
    "    google_titles_for_top4.append(link_title_list)\n",
    "    google_summeries_for_top4.append(result_summary_list)\n",
    "    \n",
    "    # For token # 5\n",
    "    top5_token = list(df_of_scopes_dates[\"top5\"])[i]\n",
    "    url_5 = get_google_search_url(scope_date = date, search_token = top5_token)\n",
    "    (link_title_list,link_url_list,result_summary_list) = dict_of_google_tag_searches[url_5]\n",
    "    google_titles_for_top5.append(link_title_list)\n",
    "    google_summeries_for_top5.append(result_summary_list)\n",
    "    \n",
    "df_of_scopes_dates[\"google_titles_for_top1\"] = google_titles_for_top1\n",
    "df_of_scopes_dates[\"google_summeries_for_top1\"] = google_summeries_for_top1\n",
    "\n",
    "df_of_scopes_dates[\"google_titles_for_top2\"] = google_titles_for_top2\n",
    "df_of_scopes_dates[\"google_summeries_for_top2\"] = google_summeries_for_top2\n",
    "\n",
    "df_of_scopes_dates[\"google_titles_for_top3\"] = google_titles_for_top3\n",
    "df_of_scopes_dates[\"google_summeries_for_top3\"] = google_summeries_for_top3\n",
    "\n",
    "df_of_scopes_dates[\"google_titles_for_top4\"] = google_titles_for_top4\n",
    "df_of_scopes_dates[\"google_summeries_for_top4\"] = google_summeries_for_top4\n",
    "\n",
    "df_of_scopes_dates[\"google_titles_for_top5\"] = google_titles_for_top5\n",
    "df_of_scopes_dates[\"google_summeries_for_top5\"] = google_summeries_for_top5"
   ]
  },
  {
   "cell_type": "code",
   "execution_count": 152,
   "metadata": {
    "collapsed": false
   },
   "outputs": [],
   "source": [
    "#display.max_colwidth = 100\n",
    "#pd.describe_option()"
   ]
  },
  {
   "cell_type": "code",
   "execution_count": 176,
   "metadata": {
    "collapsed": false
   },
   "outputs": [],
   "source": [
    "import pickletools"
   ]
  },
  {
   "cell_type": "code",
   "execution_count": 177,
   "metadata": {
    "collapsed": true
   },
   "outputs": [],
   "source": [
    "from pandas.io.pickle import to_pickle"
   ]
  },
  {
   "cell_type": "code",
   "execution_count": 184,
   "metadata": {
    "collapsed": false
   },
   "outputs": [],
   "source": [
    "pickle.HIGHEST_PROTOCOL = 2"
   ]
  },
  {
   "cell_type": "code",
   "execution_count": 186,
   "metadata": {
    "collapsed": false
   },
   "outputs": [],
   "source": [
    "import sys"
   ]
  },
  {
   "cell_type": "code",
   "execution_count": 191,
   "metadata": {
    "collapsed": false
   },
   "outputs": [
    {
     "data": {
      "text/plain": [
       "3000"
      ]
     },
     "execution_count": 191,
     "metadata": {},
     "output_type": "execute_result"
    }
   ],
   "source": [
    "sys.getrecursionlimit()"
   ]
  },
  {
   "cell_type": "code",
   "execution_count": 190,
   "metadata": {
    "collapsed": false
   },
   "outputs": [],
   "source": [
    "sys.setrecursionlimit(3000)  # Changing from 1000 to 30000"
   ]
  },
  {
   "cell_type": "code",
   "execution_count": 192,
   "metadata": {
    "collapsed": false
   },
   "outputs": [],
   "source": [
    "df_of_scopes_dates.to_pickle(\"df_of_scopes_dates.pickle\")"
   ]
  },
  {
   "cell_type": "code",
   "execution_count": null,
   "metadata": {
    "collapsed": true
   },
   "outputs": [],
   "source": [
    "dict_of_google_tag_searches"
   ]
  },
  {
   "cell_type": "code",
   "execution_count": 183,
   "metadata": {
    "collapsed": false
   },
   "outputs": [
    {
     "ename": "RuntimeError",
     "evalue": "maximum recursion depth exceeded",
     "output_type": "error",
     "traceback": [
      "\u001b[0;31m---------------------------------------------------------------------------\u001b[0m",
      "\u001b[0;31mRuntimeError\u001b[0m                              Traceback (most recent call last)",
      "\u001b[0;32m<ipython-input-183-058f87871798>\u001b[0m in \u001b[0;36m<module>\u001b[0;34m()\u001b[0m\n\u001b[0;32m----> 1\u001b[0;31m \u001b[0mpickle\u001b[0m\u001b[0;34m.\u001b[0m\u001b[0mdump\u001b[0m\u001b[0;34m(\u001b[0m \u001b[0mdf_of_scopes_dates\u001b[0m\u001b[0;34m,\u001b[0m \u001b[0mopen\u001b[0m\u001b[0;34m(\u001b[0m \u001b[0;34m\"df_of_scopes_dates.pickle\"\u001b[0m\u001b[0;34m,\u001b[0m \u001b[0;34m\"wb\"\u001b[0m \u001b[0;34m)\u001b[0m \u001b[0;34m)\u001b[0m\u001b[0;34m\u001b[0m\u001b[0m\n\u001b[0m\u001b[1;32m      2\u001b[0m \u001b[0;34m\u001b[0m\u001b[0m\n\u001b[1;32m      3\u001b[0m \u001b[0;31m#google_news_df = pickle.load( open(\"google_news_df.pickle\", \"rb\" ))\u001b[0m\u001b[0;34m\u001b[0m\u001b[0;34m\u001b[0m\u001b[0m\n",
      "\u001b[0;32m//anaconda/lib/python2.7/copy_reg.pyc\u001b[0m in \u001b[0;36m_reduce_ex\u001b[0;34m(self, proto)\u001b[0m\n\u001b[1;32m     72\u001b[0m     \u001b[0margs\u001b[0m \u001b[0;34m=\u001b[0m \u001b[0;34m(\u001b[0m\u001b[0mself\u001b[0m\u001b[0;34m.\u001b[0m\u001b[0m__class__\u001b[0m\u001b[0;34m,\u001b[0m \u001b[0mbase\u001b[0m\u001b[0;34m,\u001b[0m \u001b[0mstate\u001b[0m\u001b[0;34m)\u001b[0m\u001b[0;34m\u001b[0m\u001b[0m\n\u001b[1;32m     73\u001b[0m     \u001b[0;32mtry\u001b[0m\u001b[0;34m:\u001b[0m\u001b[0;34m\u001b[0m\u001b[0m\n\u001b[0;32m---> 74\u001b[0;31m         \u001b[0mgetstate\u001b[0m \u001b[0;34m=\u001b[0m \u001b[0mself\u001b[0m\u001b[0;34m.\u001b[0m\u001b[0m__getstate__\u001b[0m\u001b[0;34m\u001b[0m\u001b[0m\n\u001b[0m\u001b[1;32m     75\u001b[0m     \u001b[0;32mexcept\u001b[0m \u001b[0mAttributeError\u001b[0m\u001b[0;34m:\u001b[0m\u001b[0;34m\u001b[0m\u001b[0m\n\u001b[1;32m     76\u001b[0m         \u001b[0;32mif\u001b[0m \u001b[0mgetattr\u001b[0m\u001b[0;34m(\u001b[0m\u001b[0mself\u001b[0m\u001b[0;34m,\u001b[0m \u001b[0;34m\"__slots__\"\u001b[0m\u001b[0;34m,\u001b[0m \u001b[0mNone\u001b[0m\u001b[0;34m)\u001b[0m\u001b[0;34m:\u001b[0m\u001b[0;34m\u001b[0m\u001b[0m\n",
      "\u001b[0;31mRuntimeError\u001b[0m: maximum recursion depth exceeded"
     ]
    }
   ],
   "source": [
    "pickle.dump( df_of_scopes_dates, open( \"df_of_scopes_dates.pickle\", \"wb\" ) )\n",
    "\n",
    "#google_news_df = pickle.load( open(\"google_news_df.pickle\", \"rb\" ))"
   ]
  },
  {
   "cell_type": "code",
   "execution_count": 164,
   "metadata": {
    "collapsed": false
   },
   "outputs": [
    {
     "data": {
      "text/html": [
       "<div>\n",
       "<table border=\"1\" class=\"dataframe\">\n",
       "  <thead>\n",
       "    <tr style=\"text-align: right;\">\n",
       "      <th></th>\n",
       "      <th>top4</th>\n",
       "      <th>google_titles_for_top4</th>\n",
       "      <th>google_summeries_for_top4</th>\n",
       "    </tr>\n",
       "  </thead>\n",
       "  <tbody>\n",
       "    <tr>\n",
       "      <th>44</th>\n",
       "      <td>changes healthcare</td>\n",
       "      <td>[How Obamacare Changed Health Insurance ... Ma...</td>\n",
       "      <td>[[Nearly 22.8 million people have gained , &lt;em...</td>\n",
       "    </tr>\n",
       "    <tr>\n",
       "      <th>24</th>\n",
       "      <td>obamacare pays</td>\n",
       "      <td>[ObamaCare 2013 - ObamaCare Facts, ObamaCare |...</td>\n",
       "      <td>[[&lt;em&gt;Oct 1st, 2013&lt;/em&gt;,  and closes March 31...</td>\n",
       "    </tr>\n",
       "    <tr>\n",
       "      <th>10</th>\n",
       "      <td>including 10</td>\n",
       "      <td>[Obamacare's Website Won't Be Working By Novem...</td>\n",
       "      <td>[[&lt;em&gt;Obamacare&lt;/em&gt;,  is working by next Nove...</td>\n",
       "    </tr>\n",
       "    <tr>\n",
       "      <th>25</th>\n",
       "      <td>milbank</td>\n",
       "      <td>[Dana Milbank: In Obamacare speech, Obama make...</td>\n",
       "      <td>[[&lt;em&gt;Obamacare&lt;/em&gt;,  fails, so will this pre...</td>\n",
       "    </tr>\n",
       "    <tr>\n",
       "      <th>48</th>\n",
       "      <td>january 3rd felt</td>\n",
       "      <td>[January 3, 2014 This is Obamacare: New Year, ...</td>\n",
       "      <td>[[Starting , &lt;em&gt;January&lt;/em&gt;,  1, millions of...</td>\n",
       "    </tr>\n",
       "    <tr>\n",
       "      <th>23</th>\n",
       "      <td>incumbent reelection aspiring</td>\n",
       "      <td>[CNN's GUT CHECK for February 10, 2014 – CNN P...</td>\n",
       "      <td>[[CNN's GUT CHECK | for , &lt;em&gt;February&lt;/em&gt;,  ...</td>\n",
       "    </tr>\n",
       "    <tr>\n",
       "      <th>7</th>\n",
       "      <td>military spending pentagon</td>\n",
       "      <td>[Budget experts: Move Tricare beneficiaries to...</td>\n",
       "      <td>[[&lt;em&gt;budget&lt;/em&gt;,  experts suggested the , &lt;e...</td>\n",
       "    </tr>\n",
       "    <tr>\n",
       "      <th>36</th>\n",
       "      <td>officer executive</td>\n",
       "      <td>[Healthcare players see more changes coming to...</td>\n",
       "      <td>[[&lt;em&gt;Wed Apr 2, 2014 4:54pm EDT&lt;/em&gt;, . Relat...</td>\n",
       "    </tr>\n",
       "    <tr>\n",
       "      <th>41</th>\n",
       "      <td>indoctrination</td>\n",
       "      <td>[Cass Sunstein: Chinese student indoctrination...</td>\n",
       "      <td>[[&lt;em&gt;indoctrination&lt;/em&gt;,  study , &lt;em&gt;may&lt;/e...</td>\n",
       "    </tr>\n",
       "    <tr>\n",
       "      <th>53</th>\n",
       "      <td>draw attention</td>\n",
       "      <td>[Patient Protection and Affordable Care Act - ...</td>\n",
       "      <td>[[&lt;em&gt;Obamacare&lt;/em&gt;, , ... Significant reform...</td>\n",
       "    </tr>\n",
       "    <tr>\n",
       "      <th>64</th>\n",
       "      <td>impact birth</td>\n",
       "      <td>[Birth Control Is Free Under Obamacare, But No...</td>\n",
       "      <td>[[&lt;em&gt;Obamacare's&lt;/em&gt;,  biggest selling point...</td>\n",
       "    </tr>\n",
       "    <tr>\n",
       "      <th>47</th>\n",
       "      <td>obamacare passed 2010</td>\n",
       "      <td>[Patient Protection and Affordable Care Act - ...</td>\n",
       "      <td>[[&lt;em&gt;ACA&lt;/em&gt;,  was , &lt;em&gt;enacted&lt;/em&gt;,  to i...</td>\n",
       "    </tr>\n",
       "    <tr>\n",
       "      <th>65</th>\n",
       "      <td>influenza</td>\n",
       "      <td>[Preventive Services Covered Under the ACA | H...</td>\n",
       "      <td>[[... on or after , &lt;em&gt;September&lt;/em&gt;,  23, 2...</td>\n",
       "    </tr>\n",
       "    <tr>\n",
       "      <th>13</th>\n",
       "      <td>budged</td>\n",
       "      <td>[Obama: Health care is driving down the defici...</td>\n",
       "      <td>[[Barack Obama on , &lt;em&gt;Thursday, October 2nd,...</td>\n",
       "    </tr>\n",
       "    <tr>\n",
       "      <th>28</th>\n",
       "      <td>don change</td>\n",
       "      <td>[Changing Plans and Verifying Info for Cost .....</td>\n",
       "      <td>[[&lt;em&gt;don&lt;/em&gt;, 't , &lt;em&gt;change&lt;/em&gt;,  plans y...</td>\n",
       "    </tr>\n",
       "    <tr>\n",
       "      <th>38</th>\n",
       "      <td>imf</td>\n",
       "      <td>[Finance &amp; Development December 2014 - IMF, Bi...</td>\n",
       "      <td>[[ • Volume 51 • Number 4 ... Subscribe online...</td>\n",
       "    </tr>\n",
       "    <tr>\n",
       "      <th>33</th>\n",
       "      <td>languish</td>\n",
       "      <td>['60 Minutes' Just Called Obamacare A Disaster...</td>\n",
       "      <td>[[Unfortunately, when it came to telling a com...</td>\n",
       "    </tr>\n",
       "    <tr>\n",
       "      <th>30</th>\n",
       "      <td>income uninsured</td>\n",
       "      <td>[ObamaCare 2015 - Obamacare Facts, Health Care...</td>\n",
       "      <td>[[&lt;em&gt;ObamaCare's&lt;/em&gt;,  2015 changes and what...</td>\n",
       "    </tr>\n",
       "    <tr>\n",
       "      <th>17</th>\n",
       "      <td>matter severe decline</td>\n",
       "      <td>[Why Obamacare fails poor and middle class - C...</td>\n",
       "      <td>[[&lt;em&gt;March&lt;/em&gt;,  4, , &lt;em&gt;2015&lt;/em&gt;,  ... in...</td>\n",
       "    </tr>\n",
       "    <tr>\n",
       "      <th>61</th>\n",
       "      <td>income transfer</td>\n",
       "      <td>[ObamaCare Special Enrollment Period - ObamaCa...</td>\n",
       "      <td>[[&lt;em&gt;April 30th, 2015&lt;/em&gt;,  for those who we...</td>\n",
       "    </tr>\n",
       "    <tr>\n",
       "      <th>66</th>\n",
       "      <td>kayaks</td>\n",
       "      <td>[ObamaCare 2015 - Obamacare Facts, ObamaCare M...</td>\n",
       "      <td>[[&lt;em&gt;ObamaCare's 2015&lt;/em&gt;,  changes and what...</td>\n",
       "    </tr>\n",
       "    <tr>\n",
       "      <th>39</th>\n",
       "      <td>improving access</td>\n",
       "      <td>[The Affordable Care Act is Working | HHS.gov,...</td>\n",
       "      <td>[[&lt;em&gt;to improve access&lt;/em&gt;, , affordability ...</td>\n",
       "    </tr>\n",
       "    <tr>\n",
       "      <th>57</th>\n",
       "      <td>identity politics</td>\n",
       "      <td>[Sanders, O'Malley Shouted Off Stage At Progre...</td>\n",
       "      <td>[[ ... is a fascinating clash between social d...</td>\n",
       "    </tr>\n",
       "    <tr>\n",
       "      <th>60</th>\n",
       "      <td>kids table</td>\n",
       "      <td>[ObamaCare 2015 - Obamacare Facts, Will you re...</td>\n",
       "      <td>[[&lt;em&gt;ObamaCare's 2015&lt;/em&gt;,  changes and what...</td>\n",
       "    </tr>\n",
       "    <tr>\n",
       "      <th>42</th>\n",
       "      <td>medicare medicare</td>\n",
       "      <td>[ObamaCare Medicare: ObamaCare and Medicare - ...</td>\n",
       "      <td>[[ reform improves and expands , &lt;em&gt;Medicare&lt;...</td>\n",
       "    </tr>\n",
       "    <tr>\n",
       "      <th>18</th>\n",
       "      <td>important topics</td>\n",
       "      <td>[ObamaCare 2015 - Obamacare Facts, ObamaCare D...</td>\n",
       "      <td>[[&lt;em&gt;important&lt;/em&gt;,  thing first, , &lt;em&gt;Obam...</td>\n",
       "    </tr>\n",
       "    <tr>\n",
       "      <th>0</th>\n",
       "      <td>notify employees</td>\n",
       "      <td>[What Do I Need to Tell My Employees about Oba...</td>\n",
       "      <td>[[ to new , &lt;em&gt;employees&lt;/em&gt;,  must occur wi...</td>\n",
       "    </tr>\n",
       "    <tr>\n",
       "      <th>69</th>\n",
       "      <td>number concessions including</td>\n",
       "      <td>[Patient Protection and Affordable Care Act - ...</td>\n",
       "      <td>[[&lt;em&gt;Obamacare&lt;/em&gt;, , ... In March , &lt;em&gt;201...</td>\n",
       "    </tr>\n",
       "    <tr>\n",
       "      <th>37</th>\n",
       "      <td>house lower</td>\n",
       "      <td>[Obamacare Rate Hikes 2016 - Obamacare Facts, ...</td>\n",
       "      <td>[[Insurers are planning rate hikes for , &lt;em&gt;2...</td>\n",
       "    </tr>\n",
       "    <tr>\n",
       "      <th>56</th>\n",
       "      <td>importance young women</td>\n",
       "      <td>[ObamaCare and Women: ObamaCare Women's Health...</td>\n",
       "      <td>[[&lt;em&gt;ObamaCare's women's&lt;/em&gt;,  health servic...</td>\n",
       "    </tr>\n",
       "    <tr>\n",
       "      <th>74</th>\n",
       "      <td>ig</td>\n",
       "      <td>[Who's up for another round of big ObamaCare r...</td>\n",
       "      <td>[[&lt;em&gt;March&lt;/em&gt;,  30, , &lt;em&gt;2016&lt;/em&gt;,  by Ed...</td>\n",
       "    </tr>\n",
       "    <tr>\n",
       "      <th>15</th>\n",
       "      <td>misogynistic</td>\n",
       "      <td>[UnitedHealthcare to exit most Obamacare excha...</td>\n",
       "      <td>[[UnitedHealthcare, the biggest health insurer...</td>\n",
       "    </tr>\n",
       "  </tbody>\n",
       "</table>\n",
       "</div>"
      ],
      "text/plain": [
       "                             top4  \\\n",
       "44             changes healthcare   \n",
       "24                 obamacare pays   \n",
       "10                   including 10   \n",
       "25                        milbank   \n",
       "48               january 3rd felt   \n",
       "23  incumbent reelection aspiring   \n",
       "7      military spending pentagon   \n",
       "36              officer executive   \n",
       "41                 indoctrination   \n",
       "53                 draw attention   \n",
       "64                   impact birth   \n",
       "47          obamacare passed 2010   \n",
       "65                      influenza   \n",
       "13                         budged   \n",
       "28                     don change   \n",
       "38                            imf   \n",
       "33                       languish   \n",
       "30               income uninsured   \n",
       "17          matter severe decline   \n",
       "61                income transfer   \n",
       "66                         kayaks   \n",
       "39               improving access   \n",
       "57              identity politics   \n",
       "60                     kids table   \n",
       "42              medicare medicare   \n",
       "18               important topics   \n",
       "0                notify employees   \n",
       "69   number concessions including   \n",
       "37                    house lower   \n",
       "56         importance young women   \n",
       "74                             ig   \n",
       "15                   misogynistic   \n",
       "\n",
       "                               google_titles_for_top4  \\\n",
       "44  [How Obamacare Changed Health Insurance ... Ma...   \n",
       "24  [ObamaCare 2013 - ObamaCare Facts, ObamaCare |...   \n",
       "10  [Obamacare's Website Won't Be Working By Novem...   \n",
       "25  [Dana Milbank: In Obamacare speech, Obama make...   \n",
       "48  [January 3, 2014 This is Obamacare: New Year, ...   \n",
       "23  [CNN's GUT CHECK for February 10, 2014 – CNN P...   \n",
       "7   [Budget experts: Move Tricare beneficiaries to...   \n",
       "36  [Healthcare players see more changes coming to...   \n",
       "41  [Cass Sunstein: Chinese student indoctrination...   \n",
       "53  [Patient Protection and Affordable Care Act - ...   \n",
       "64  [Birth Control Is Free Under Obamacare, But No...   \n",
       "47  [Patient Protection and Affordable Care Act - ...   \n",
       "65  [Preventive Services Covered Under the ACA | H...   \n",
       "13  [Obama: Health care is driving down the defici...   \n",
       "28  [Changing Plans and Verifying Info for Cost .....   \n",
       "38  [Finance & Development December 2014 - IMF, Bi...   \n",
       "33  ['60 Minutes' Just Called Obamacare A Disaster...   \n",
       "30  [ObamaCare 2015 - Obamacare Facts, Health Care...   \n",
       "17  [Why Obamacare fails poor and middle class - C...   \n",
       "61  [ObamaCare Special Enrollment Period - ObamaCa...   \n",
       "66  [ObamaCare 2015 - Obamacare Facts, ObamaCare M...   \n",
       "39  [The Affordable Care Act is Working | HHS.gov,...   \n",
       "57  [Sanders, O'Malley Shouted Off Stage At Progre...   \n",
       "60  [ObamaCare 2015 - Obamacare Facts, Will you re...   \n",
       "42  [ObamaCare Medicare: ObamaCare and Medicare - ...   \n",
       "18  [ObamaCare 2015 - Obamacare Facts, ObamaCare D...   \n",
       "0   [What Do I Need to Tell My Employees about Oba...   \n",
       "69  [Patient Protection and Affordable Care Act - ...   \n",
       "37  [Obamacare Rate Hikes 2016 - Obamacare Facts, ...   \n",
       "56  [ObamaCare and Women: ObamaCare Women's Health...   \n",
       "74  [Who's up for another round of big ObamaCare r...   \n",
       "15  [UnitedHealthcare to exit most Obamacare excha...   \n",
       "\n",
       "                            google_summeries_for_top4  \n",
       "44  [[Nearly 22.8 million people have gained , <em...  \n",
       "24  [[<em>Oct 1st, 2013</em>,  and closes March 31...  \n",
       "10  [[<em>Obamacare</em>,  is working by next Nove...  \n",
       "25  [[<em>Obamacare</em>,  fails, so will this pre...  \n",
       "48  [[Starting , <em>January</em>,  1, millions of...  \n",
       "23  [[CNN's GUT CHECK | for , <em>February</em>,  ...  \n",
       "7   [[<em>budget</em>,  experts suggested the , <e...  \n",
       "36  [[<em>Wed Apr 2, 2014 4:54pm EDT</em>, . Relat...  \n",
       "41  [[<em>indoctrination</em>,  study , <em>may</e...  \n",
       "53  [[<em>Obamacare</em>, , ... Significant reform...  \n",
       "64  [[<em>Obamacare's</em>,  biggest selling point...  \n",
       "47  [[<em>ACA</em>,  was , <em>enacted</em>,  to i...  \n",
       "65  [[... on or after , <em>September</em>,  23, 2...  \n",
       "13  [[Barack Obama on , <em>Thursday, October 2nd,...  \n",
       "28  [[<em>don</em>, 't , <em>change</em>,  plans y...  \n",
       "38  [[ • Volume 51 • Number 4 ... Subscribe online...  \n",
       "33  [[Unfortunately, when it came to telling a com...  \n",
       "30  [[<em>ObamaCare's</em>,  2015 changes and what...  \n",
       "17  [[<em>March</em>,  4, , <em>2015</em>,  ... in...  \n",
       "61  [[<em>April 30th, 2015</em>,  for those who we...  \n",
       "66  [[<em>ObamaCare's 2015</em>,  changes and what...  \n",
       "39  [[<em>to improve access</em>, , affordability ...  \n",
       "57  [[ ... is a fascinating clash between social d...  \n",
       "60  [[<em>ObamaCare's 2015</em>,  changes and what...  \n",
       "42  [[ reform improves and expands , <em>Medicare<...  \n",
       "18  [[<em>important</em>,  thing first, , <em>Obam...  \n",
       "0   [[ to new , <em>employees</em>,  must occur wi...  \n",
       "69  [[<em>Obamacare</em>, , ... In March , <em>201...  \n",
       "37  [[Insurers are planning rate hikes for , <em>2...  \n",
       "56  [[<em>ObamaCare's women's</em>,  health servic...  \n",
       "74  [[<em>March</em>,  30, , <em>2016</em>,  by Ed...  \n",
       "15  [[UnitedHealthcare, the biggest health insurer...  "
      ]
     },
     "execution_count": 164,
     "metadata": {},
     "output_type": "execute_result"
    }
   ],
   "source": [
    "df_of_scopes_dates[[\"top4\",\"google_titles_for_top4\",\"google_summeries_for_top4\"]]"
   ]
  },
  {
   "cell_type": "code",
   "execution_count": 133,
   "metadata": {
    "collapsed": false
   },
   "outputs": [
    {
     "data": {
      "text/plain": [
       "[[u'US government shutdown: House votes to delay Obamacare law | US ...',\n",
       "  u'What Is Obamacare? A Legal Overview - Law and Daily Life - FindLaw',\n",
       "  u\"What's in a name? Lots when it comes to Obamacare/ACA - CNBC.com\",\n",
       "  u'Read the Law | HHS.gov',\n",
       "  u'Office of the General Counsel September 3, 2013 Submitted ...',\n",
       "  u'Patient Protection and Affordable Care Act - Wikipedia, the free ...',\n",
       "  u'United States federal government shutdown of 2013 - Wikipedia, the ...',\n",
       "  u'Top 16 myths about the health care law | PolitiFact',\n",
       "  u'Remarks by the President on the Affordable Care Act | whitehouse.gov',\n",
       "  u'Can They Crush Obamacare? by David Cole | The New York Review ...'],\n",
       " [u'Why Is Maternity Care Such an Issue for Obamacare Opponents ...',\n",
       "  u'ObamaCare Stories: Real Life Stories on ObamaCare',\n",
       "  u\"Yes, men should pay for pregnancy coverage, and here's why - latimes\",\n",
       "  u'How Obamacare changed maternity coverage - HealthInsurance.org',\n",
       "  u'The Cheapest Shot Against Obamacare, and Why Men Should Pay for ...',\n",
       "  u'The Definitive Guide to How Obamacare is Destroying American Lives ...',\n",
       "  u\"CBS' Faulty Obamacare Reporting: Pregnancy Edition\",\n",
       "  u'US employers slashing worker hours to avoid Obamacare insurance ...',\n",
       "  u'Ten Questions About Obamacare You Were Too Embarrassed to Ask ...',\n",
       "  u'HealthCare.gov - Wikipedia, the free encyclopedia'],\n",
       " [u'FWD.us - Wikipedia, the free encyclopedia',\n",
       "  u'Zuckerberg Defends Obamacare Website - Breitbart',\n",
       "  u'2013: Year of the Left-Wing Billionaire | Power Line',\n",
       "  u'Facebook Spent $12.5 Million to Protect Zuckerberg Since 2013 ...',\n",
       "  u'Archive for November, 2013 | Politicus USA | Page 3',\n",
       "  u\"Mark Zuckerberg's Political Group Is Trashing Obama And Obamacare ...\",\n",
       "  u'23 | November | 2013 | Netter Capital Partners | Page 2',\n",
       "  u'WELCOME TO NOVEMBER -- MARK HALPERIN, JOHN HEILEMANN ...',\n",
       "  u'Most of Those Outraged by Obamacare Enjoy Big Taxpayer Subsidies ...',\n",
       "  u'Obamacare Contractors With Ties to White House, Obama Campaign ...'],\n",
       " [u'Obamacare faces new threat at state level from corporate interest ...',\n",
       "  u'Patient Protection and Affordable Care Act - Wikipedia, the free ...',\n",
       "  u'United States federal government shutdown of 2013 - Wikipedia, the ...',\n",
       "  u'Massachusetts health care reform - Wikipedia, the free encyclopedia',\n",
       "  u'Why is Obamacare so controversial? - BBC News - BBC.com',\n",
       "  u\"Obamacare's Medicaid Expansion Is Helping The Uninsured -- Where ...\",\n",
       "  u'State Laws and Actions Challenging Certain Health Reforms',\n",
       "  u'Healthcare Politics and Policy in America: 2014',\n",
       "  u'North Carolina Legislator: Obamacare Worse than Terrorists, Stalin ...',\n",
       "  u'US Citizens Abroad and OBAMACARE \\u2013 UPDATED August 1 2015 ...'],\n",
       " [u'Benefits Of ObamaCare: Advantage of ObamaCare - ObamaCare Facts',\n",
       "  u'ObamaCare Dollar Limits - ObamaCare Facts',\n",
       "  u'Obamacare Causes Millions to Lose Their Current Health Insurance',\n",
       "  u'6 Insurance Companies Created Under Obamacare Collapsed',\n",
       "  u'2016 Campaign Rhetoric Shakes Markets \\u2013 By GERALD F. SEIB ...',\n",
       "  u'nomad | Aisle C',\n",
       "  u'Florida Courier - July 04, 2014 by Central Florida Communicators ...',\n",
       "  u'The Top 5 Best Blogs on 2015 oscars results - Notey',\n",
       "  u'what do we believe? Belfast\\u2014s - Prospect Magazine',\n",
       "  u'Military robot technology is entering the mainstream - Stars and Stripes'],\n",
       " [u'Missed Deadline for ObamaCare - ObamaCare Facts',\n",
       "  u'ObamaCare News: Daily ObamaCare Updates - ObamaCare Facts',\n",
       "  u'Important 2014 Obamacare Open-Enrollment Deadlines - HealtheDeals',\n",
       "  u'Effects of a Minimum-Wage Increase on Employment and Family Income',\n",
       "  u'Iowa Health Insurance | Find the best Iowa health plan for you | US News',\n",
       "  u'Credit Suisse CEO fights back on tax evasion claims | Reuters',\n",
       "  u'News Article Archive from February 10, 2014 - Wsj.com',\n",
       "  u'Is pet insurance zurich insurance group | www.blogjobboard.com',\n",
       "  u'2014 - Members - SANAS (Swiss Association for North American ...',\n",
       "  u'World History Timeline, 2014, February'],\n",
       " [u'Why is Obamacare so controversial? - BBC News - BBC.com',\n",
       "  u\"Poll: Only Republicans and conservatives say Obamacare is 'too liberal'\",\n",
       "  u'Obamacare: conservative logic versus liberal facts - Liberal Bias',\n",
       "  u\"Paul Krugman: \\u201cObamacare IS the conservative alternative\\u201d - PNHP's ...\",\n",
       "  u'ObamaCare - Conservapedia',\n",
       "  u\"The Real Numbers On 'The Obamacare Effect' Are In-Now Let The ...\",\n",
       "  u'Patient Protection and Affordable Care Act - Wikipedia, the free ...',\n",
       "  u'Stop Calling Obama a Liberal | The Progressive Cynic',\n",
       "  u'Obamacare | Liberal Quote Database - Left of the Mark',\n",
       "  u'Liberals Show Their Cognitive Dissonance \\u2013 Attacks Against Matt ...'],\n",
       " [u'ObamaCare Facts: Facts on the Affordable Care Act',\n",
       "  u'ObamaCare Enrollment Numbers - ObamaCare Facts',\n",
       "  u'Obamacare hits goal with 7.1 million sign-ups, President says ...',\n",
       "  u\"4 Facts That Prove Obamacare Isn't Aging Well - The Daily Signal\",\n",
       "  u\"Obamacare's Exchanges Fall Well Short of Enrollment Target\",\n",
       "  u'Heartbleed virus spills over to Obamacare enrollees 20 April 2014 ...',\n",
       "  u\"Hobby Lobby's Hypocrisy: The Company's Retirement Plan Invests in ...\",\n",
       "  u'Jacob Zuma | Michael Minkoff, Jr.',\n",
       "  u'SABC News.com - Obamacare enrolment exceeds 7 million target ...',\n",
       "  u'Speaker Audio and Transcripts - 2014 | National Press Club'],\n",
       " [u\"Patterico's Pontifications \\xbb Lefties Totally Goof Up Story on Matt ...\",\n",
       "  u'Hobby Lobby beat Obamacare and now the lefties want to burn it ...',\n",
       "  u'Warning: More Good Obamacare News Reported Here-May Not Be ...',\n",
       "  u\"Flashback: Democrats Argue VA's Success is Proof Obamacare Will ...\",\n",
       "  u\"Those Who Label Obamacare 'Not Liberal Enough' Don't Necessarily ...\",\n",
       "  u'\\u201cThe most important money-in-politics race this year\\u201d: Why lefty Tea ...',\n",
       "  u'Republicans - post your personal Obamacare Horror Story here ...',\n",
       "  u'Our First Year on Obamacare | Thom Hartmann',\n",
       "  u'Left-Handed People May Be More Likely To Earn Less Than Their ...',\n",
       "  u'ObamaCare Facts: Facts on the Affordable Care Act'],\n",
       " [u\"How Obama Lied About Obamacare \\xbb Alex Jones' Infowars: There's a ...\",\n",
       "  u'Obamacare Could Have Turned Millions of Uninsured ... - Mother Jones',\n",
       "  u\"20 Obamacare Stats Republicans Don't Want You to See | Mother Jones\",\n",
       "  u'FWD.us - Wikipedia, the free encyclopedia',\n",
       "  u'Alex Jones: Facebook and the government are trying to frame the Las ...',\n",
       "  u'Is Your Health Insurance Unaffordable Under Obamacare? Common ...',\n",
       "  u'Mortimer Zuckerman: The Full-Time Scandal of Part-Time America - WSJ',\n",
       "  u\"The Ron Paul Institute for Peace and Prosperity : Obamacare's Best ...\",\n",
       "  u'Forbes',\n",
       "  u'www.oreilly-sucks.com - The Real No Spin Zone'],\n",
       " [u'What does Obamacare mean for expats? | US Tax & Financial Services',\n",
       "  u'ObamaCare News: Daily ObamaCare Updates - ObamaCare Facts',\n",
       "  u'ObamaCare 2015 - Obamacare Facts',\n",
       "  u'What we learned about Obamacare July 8-14, 2014 - AEI',\n",
       "  u'Effects of a Minimum-Wage Increase on Employment and Family Income',\n",
       "  u'News Article Archive from July 22, 2014 - Wsj.com - Wall Street Journal',\n",
       "  u'Binary options no deposit bonus september 2013 dailymotion',\n",
       "  u'News Update 224 (Sept. 2014) - American Citizens Abroad',\n",
       "  u'Swiss consumer prices fall most since 1959 in July - timesofindia ...',\n",
       "  u'Obamacare Insurance Cost Calculator | Auto Insurance Quotes ...'],\n",
       " [u'ObamaCare Facts: Facts on the Affordable Care Act',\n",
       "  u'ObamaCare News: Daily ObamaCare Updates - ObamaCare Facts',\n",
       "  u'The real deal on Obamacare - Aug. 5, 2015 - CNN Money',\n",
       "  u'Midterms : pourquoi Obamacare a co\\xfbt\\xe9 cher aux d\\xe9mocrates',\n",
       "  u'Really? McMorris a \"moderate congresswoman\" and Obamacare ...',\n",
       "  u'Obamacare Is Suffocating An Already Sick Health Insurance Patient',\n",
       "  u\"Frenchusanews |L'Obamacare met \\xe0 l'amende les expatri\\xe9s fran\\xe7ais ...\",\n",
       "  u'Union Buyer Remorse on Obamacare? | Competitive Enterprise Institute',\n",
       "  u'Puce Electronique | Le Nouvel Ordre Mondial',\n",
       "  u'ObamaCare ? Sant\\xe9 pr\\xe9caire ! - R\\xe9sistance'],\n",
       " [u\"Why You Can't Keep Your Plan Under Obamacare, in 3 Minutes\",\n",
       "  u'Health insurance costs are skyrocketing under Obamacare - PolitiFact',\n",
       "  u'How to fix Obamacare | The Economist',\n",
       "  u'ObamaCare News: Daily ObamaCare Updates - ObamaCare Facts',\n",
       "  u\"5 days in Kentucky: Insurance enrollment up; just don't say ...\",\n",
       "  u'Speaker Audio and Transcripts - 2014 | National Press Club',\n",
       "  u'Jacob Zuma | Michael Minkoff, Jr.',\n",
       "  u'Obamacare - EWN',\n",
       "  u'ZUMA Pictures Of The Day: News, Sports, Celeb images and more',\n",
       "  u'Ted Cruz on opposition to trade bill, ObamaCare alternative'],\n",
       " [u\"FEULNER: The facts behind Obamacare's numbers - Washington Times\",\n",
       "  u'ObamaCare | Health Insurance Exchange - ObamaCare Facts',\n",
       "  u'Like It Or Not, Obamacare Is Reshaping The Healthcare Industry ...',\n",
       "  u\"ObamaCare's 2014 Report Card? Preaching Patience \\u2014 to ...\",\n",
       "  u'How Obamacare has changed my life \\u2014 for better and for worse ...',\n",
       "  u'How Psychiatrists Are Failing the Patients Who Need Them Most ...',\n",
       "  u'Mark Zuckerberg - Wikipedia, the free encyclopedia',\n",
       "  u'CNN Bloodbath: Layoff Counselors, Show Cancellations - Breitbart',\n",
       "  u'Trans News Updates, by Lynn Conway - University of Michigan',\n",
       "  u'Senate District 67 DFL | In the Know for August 7th - Minnesota DFL'],\n",
       " [u\"Lie of the Year: 'If you like your health care plan, you can keep it ...\",\n",
       "  u'Obamacare Architect: Yeah, We Lied to The \"Stupid\" American People ...',\n",
       "  u'Jonathan Gruber and ObamaCare - Obamacare Facts',\n",
       "  u\"Liar's Remorse and Obamacare \\u2014 Frontiers of Freedom\",\n",
       "  u'Washington Post Defends Jonathan Gruber, Obamacare Liar ...',\n",
       "  u'UPDATE* \\u2013 MUST WATCH VIDEO: ObamaCare ... - The Last Refuge',\n",
       "  u'Pelosi cited ObamaCare architect in push for law \\u2013 now claims she ...',\n",
       "  u'November 2014 (28) - Search | Crooks and Liars',\n",
       "  u'November 2014 (9) - Search | Crooks and Liars',\n",
       "  u'Rex Murphy: Contest of the liars \\u2014 Bill Clinton vs. Barack Obama ...'],\n",
       " [u'ObamaCare Enrollment Numbers Nov 15 - Dec 19 2014 - Obamacare ...',\n",
       "  u\"In December, Obamacare wades into 'uncharted waters' | MSNBC\",\n",
       "  u'Ticktock: Obamacare deadlines you need to know - CNBC.com',\n",
       "  u\"George Mason Law School: Professor Todd Zywicki's Home Page - Gmu\",\n",
       "  u'\\u201c(Dodd-Frank) empowers the federal government to centrally manage ...',\n",
       "  u'December 2014 - Coalition for Public Education/Coalici\\xf3n por la ...',\n",
       "  u\"1,063 Documented Examples of Barack Obama's Lying, Lawbreaking ...\",\n",
       "  u'2014 Annual Report - Cato Institute',\n",
       "  u'Government Bullies Retirees, Banks, Rips Off Taxpayers | Competitive ...',\n",
       "  u'Read the Full Article - Independent Institute'],\n",
       " [u'Blog: January 2015 Archives - American Thinker',\n",
       "  u'Articles: January 2015 Archives - American Thinker',\n",
       "  u'Government in Exile: January 2015',\n",
       "  u\"'Europe is finished': Terror expert on Islamic 'no-go zones' | Fox News ...\",\n",
       "  u\"Jon Stewart Shocked By Fox News Apology Over Muslim 'No-Go ...\",\n",
       "  u\"The myth of 'no go' zones lives on / Islamophobia, Terrorism, Europe ...\",\n",
       "  u'Obamacare 2016 open enrollment to run Nov. 1, 2015-Jan. 31, 2016 ...',\n",
       "  u'Trouble ahead? Euro zone business activity declines further',\n",
       "  u'The era of Syriza | The Economist',\n",
       "  u'French Islamist mini-states grow into problem out of government ...'],\n",
       " [u'Zurich February Weather 2016 - AccuWeather Forecast for Zurich ...',\n",
       "  u'Zurich executives see pay cuts of 50% after poor 2015 performance ...',\n",
       "  u'ObamaCare 2015 - Obamacare Facts',\n",
       "  u'Open Enrollment Ends February 15th! - Obamacare Facts',\n",
       "  u'Iowa Health Insurance | Find the best Iowa health plan for you | US News',\n",
       "  u'What does Obamacare mean for expats? | US Tax & Financial Services',\n",
       "  u'Zurich Insurance Co. - The Human Resources Social Network - HR.com',\n",
       "  u'Obamacare, PBMs and Pharmaceutical Companies Battle Over Drug ...',\n",
       "  u'Death of Pierre Wauthier, Zurich Insurance, Josef Ackermann Renova ...',\n",
       "  u'Zurich | Zero Hedge'],\n",
       " [u'ObamaCare Enrollment Numbers As of March 2015 - Obamacare Facts',\n",
       "  u'ObamaCare Enrollment Numbers - ObamaCare Facts',\n",
       "  u'Missed Deadline for ObamaCare - ObamaCare Facts',\n",
       "  u'Rubio, Eyeing 2016 Run, Builds Rapport With Romney - Newsmax.com',\n",
       "  u'March | 2014 | The AnthropoZine',\n",
       "  u'Finance | The AnthropoZine',\n",
       "  u'Conservative Review - The struggle for the soul of the Republican Party',\n",
       "  u'Donald Trump -vs- Paul Ryan \\u2013 A Deeper Dive\\u2026 | The Last Refuge',\n",
       "  u'March | 2015 | Tea Party Dojo | Page 3',\n",
       "  u'My Favorite Newsletter: Nature Communications - 04 March 2015'],\n",
       " [u'ObamaCare Extra Enrollment 2015 March 15 - April 30 - Obamacare ...',\n",
       "  u'ObamaCare Extension - ObamaCare Facts',\n",
       "  u'ObamaCare 2015 - Obamacare Facts',\n",
       "  u\"Few sign up during 'special' Obamacare enrollment - CNBC.com\",\n",
       "  u'California, Washington shine during special Obamacare sign-ups',\n",
       "  u'Obamacare grace period attracts few enrollees - CNBC.com',\n",
       "  u'The Obamacare Open Enrollment Deadline Has Been Extended - Time',\n",
       "  u'Obamacare spending leads to a higher budget deficit so far in 2015 ...',\n",
       "  u'Ron Johnson offers latest GOP plan to deal with Obamacare subsidies ...',\n",
       "  u\"IRS's John Koskinen on Tax Day: 120M have filed so far - Washington ...\"],\n",
       " [u'ObamaCare 2015 - Obamacare Facts',\n",
       "  u'What is the Best Health Insurance Plan? - Obamacare Facts',\n",
       "  u'How to Buy Health Insurance - ObamaCare Facts',\n",
       "  u'UnitedHealth warns it may exit Obamacare plans - USA Today',\n",
       "  u'Obamacare 2015: Higher costs, higher penalties - CBS News',\n",
       "  u'Obamacare Shopping Is More Important Than Ever - The New York ...',\n",
       "  u\"Obamacare's 'risk' program may shake up insurance prices - CNBC.com\",\n",
       "  u'Why Obamacare May End Up Raising Medicare Costs | MONEY - Time',\n",
       "  u'What Type of Health Insurance Plans are Available in 2015?',\n",
       "  u'Florida health insurance exchange / marketplace: Obamacare ...'],\n",
       " [u'Republicans Trashed Democracy in Michigan. Now They Want To ...',\n",
       "  u'Senate report: Illegal immigrants benefited from up to $750M in ...',\n",
       "  u'Why Obamacare Lives | RAND',\n",
       "  u'The Distant Future of June 5th 2015 - Obamacare Facts',\n",
       "  u'Daily Kos: TomDispatch',\n",
       "  u'June | 2015 | Pronk Palisades',\n",
       "  u'Kommentare - Fanfarenzug der Rennstadt Hockenheim eV',\n",
       "  u'IndyWatch Feed Nthamerica',\n",
       "  u'Vatican Accord Recognizing De Facto Palestinian State Takes Effect ...',\n",
       "  u'Tyler Durden, Author at Macro - EconomicBlogs'],\n",
       " [u'6 Insurance Companies Created Under Obamacare Collapsed',\n",
       "  u\"John Kasich on Common Core: 'I Want Kids to Jump Higher'\",\n",
       "  u'The Export-Import Bank Needs to Stay Dead - The Daily Signal',\n",
       "  u'New Year Brings New Obamacare Fines - The Daily Signal',\n",
       "  u'Maine to Allow Concealed Guns Without a Permit - The Daily Signal',\n",
       "  u\"Obama's Annoyance Shows Major Garrett Asked Right Questions\",\n",
       "  u'Conservatives Push for Obamacare Repeal With Reconciliation',\n",
       "  u\"Detroit Teacher 'Sick Out' Underway While Just 8% of Students Can ...\",\n",
       "  u'Religious groups press opposition to Obamacare contraceptive ...',\n",
       "  u'Obamacare has a fraud problem - Business Insider'],\n",
       " [u'In high-profile Kentucky, hospitals say Obamacare has hurt them',\n",
       "  u'Obamacare - CNBC.com',\n",
       "  u\"Federal officials expect modest Obamacare growth in '16 - CNBC.com\",\n",
       "  u\"Walker's health care plan: Repeal Obamacare, replace it with ...\",\n",
       "  u'HealthCare.gov - Wikipedia, the free encyclopedia',\n",
       "  u\"John Kasich's health care ideas: Priorities like Obamacare without ...\",\n",
       "  u'Tardy tax filers risk loss of health care subsidies - News - Yahoo',\n",
       "  u\"This senator is the GOP's anti-Trump - Yahoo\",\n",
       "  u'Proof Obamacare Requires All Americans to Be Chipped \\u2013 The ...',\n",
       "  u'Obamacare rescue ruled out by some states, others weigh options ...'],\n",
       " [u'ObamaCare Enrollment Numbers As of September 2015 - Obamacare ...',\n",
       "  u'9.9 Million Still Enrolled and Paid Says September 2015 Report ...',\n",
       "  u\"Obamacare 'paid' enrollment drops to 9.9M - CNBC.com\",\n",
       "  u\"Jeb Bush: The federal gov shouldn't make new gun laws - CNNPolitics ...\",\n",
       "  u'Conspiracy/ Truth on Pinterest | Conspiracy Theories, Illuminati and ...',\n",
       "  u'\\u6587\\u7ae0\\u67e5\\u770b\\u9875',\n",
       "  u'Barbecue - Mariette Kelley - Sous-titres et traductions / Subtitles and ...',\n",
       "  u'jeb bush pas tr\\xe8s chaud sur le climat jeb-bush-pas-tr\\xe8s ... - News JS',\n",
       "  u'caberdancer.com - Charleston AGM'],\n",
       " [u\"Slavoj \\u017di\\u017eek on Obama, Bernie, sex and democracy: \\u201cThat's the reality ...\",\n",
       "  u'Zizek on the limits of self-organization, etc. | LBO News from Doug ...',\n",
       "  u'Slavoj \\u017di\\u017eek | The Guardian',\n",
       "  u'ObamaCare 2015 - Obamacare Facts',\n",
       "  u'56 Changes To Obamacare So Far, With Two New Additions - Forbes',\n",
       "  u\"SLAVOJ \\u017dI\\u017dEK: AYN RAND'S 'JOHN GALTS' ARE THE IDIOTS WHO ...\",\n",
       "  u'Radio archives - Left Business Observer',\n",
       "  u'Progressive Democrats of America',\n",
       "  u'Maverick Philosopher: Search - Typepad',\n",
       "  u'EuroSavant \\xbb Obamacare'],\n",
       " [u'ObamaCare 2015 - Obamacare Facts',\n",
       "  u'ObamaCare Special Enrollment Period - ObamaCare Facts',\n",
       "  u'ObamaCare Open Enrollment - ObamaCare Facts',\n",
       "  u'Can I Keep My Health Care Plan Under Obamacare?',\n",
       "  u'Official Marketplace Dates And Deadlines | HealthCare.gov',\n",
       "  u'Obamacare 2016 open enrollment to run Nov. 1, 2015-Jan. 31, 2016 ...',\n",
       "  u'UnitedHealth warns it may exit Obamacare plans - USA Today',\n",
       "  u\"Obamacare premiums and deductibles going up \\u2013 but it's still better ...\",\n",
       "  u\"'Big' bad day for Obamacare as UnitedHealth considers exit - CNBC.com\",\n",
       "  u'Obamacare Act III: HealthCare.gov sign-ups top 500K - CNBC.com'],\n",
       " [u'Mark Zuckerberg - I want to thank you all for your... | Facebook',\n",
       "  u'Chan Zuckerberg Initiative - Wikipedia, the free encyclopedia',\n",
       "  u\"Let's welcome the Chan-Zuckerberg Initiative \\u2013 while calling for ...\",\n",
       "  u'Not so fast, Mark Zuckerberg: 4 reasons to be skeptical of his $45 ...',\n",
       "  u\"Economist's View: 'Mark Zuckerberg's $45 Billion Loophole'\",\n",
       "  u'Mark Zuckerberg just bought 26 days of world peace \\u2013 Sovereign Man',\n",
       "  u'Facebook founder re-creates charity model - Bankrate.com',\n",
       "  u\"Facebook's CEO and wife to give 99 percent of shares to couple's ...\",\n",
       "  u'December | 2015 | - Health insurance - WordPress.com',\n",
       "  u'December | 2015 | Our Dinner Table'],\n",
       " [u\"48 Tweets From Conservatives About Obama's Last ... - The Daily Signal\",\n",
       "  u'Find Out How Much Obamacare Rates Increased in Your State',\n",
       "  u\"4 Facts That Prove Obamacare Isn't Aging Well - The Daily Signal\",\n",
       "  u'Find Out How Your Member of Congress Voted on a Bill Repealing ...',\n",
       "  u'4 things to know about Obamacare for 2016 - Asbury Park Press',\n",
       "  u'Open Enrollment Ends January 31, 2016 - Obamacare Facts',\n",
       "  u\"Hillary's $191 Billion Tax Increase - WSJ\",\n",
       "  u'Frenzy in Iowa as Clinton and Trump go into caucuses leading key ...',\n",
       "  u'January | 2016 | Dishonor on Your Cow',\n",
       "  u'January 2016 \\u2013 Page 13 - The Will County News'],\n",
       " [u'As the 3rd Open Enrollment Ends, a Look at How Obamacare is Doing ...',\n",
       "  u'February 2016 | HealthCare.gov',\n",
       "  u\"What's the deadline to get coverage during Obamacare's open ...\",\n",
       "  u'Zurich Q4 losses miss estimates, plans further expense cuts ...',\n",
       "  u'In surprising outcome, Gianni Infantino elected next president of FIFA ...',\n",
       "  u'AP sources: IOC to send doping cases to CAS during Rio Games ...',\n",
       "  u\"Soccer's world body elects Gianni Infantino as president - Washington ...\",\n",
       "  u'Aetna Joins Growing Chorus Warning About ObamaCare Failing',\n",
       "  u'What does Obamacare mean for expats? | US Tax & Financial Services',\n",
       "  u'Www.pulliam.top - Cancer Travel Insurance Zurich Indonesia'],\n",
       " [u'Zubik v. Burwell : SCOTUSblog',\n",
       "  u'A Puzzling Order in a U.S. Supreme Court Case on Obamacare',\n",
       "  u'Supreme Court faces 4-4 split in Obamacare contraception case ...',\n",
       "  u'Supreme Court Appears Headed for Tie in Obamacare Case - NBC ...',\n",
       "  u'Justices Seem Split in Case on Birth Control Mandate - The New York ...',\n",
       "  u'Supreme Court seeks compromise in Obamacare case | Pittsburgh ...',\n",
       "  u'Bishop Zubik lead plaintiff in Obamacare challenge in Supreme Court ...',\n",
       "  u'The Conservative Justices Think Obamacare Has \\u201cHijacked\\u201d - Slate',\n",
       "  u'Zubik v. Burwell - Wikipedia, the free encyclopedia',\n",
       "  u'On Anniversary of Obamacare, Supreme Court Once Again Hears ...'],\n",
       " [u'UnitedHealthcare to exit most Obamacare exchanges - Apr. 19, 2016',\n",
       "  u'Am I Exempt if I am an American Citizen Moving ... - ObamaCare Facts',\n",
       "  u'United Healthcare quitting Obamacare - Business Insider',\n",
       "  u\"UnitedHealthcare's Exit From Obamacare Will Hit Consumers\",\n",
       "  u\"Deserting ObamaCare: UnitedHealth, nation's largest health insurer ...\",\n",
       "  u\"Insurers May Leave Obamacare Markets, But Don't Expect A Mass ...\",\n",
       "  u'Largest Insurer Pulls Out of Obamcare Exchanges | US News',\n",
       "  u'UnitedHealth Will Leave Obamacare Marketplaces in Some States ...',\n",
       "  u'As UnitedHealth Flees The States, You Can Thank Clinton | GOP',\n",
       "  u'US Citizens Abroad and OBAMACARE \\u2013 UPDATED August 1 2015 ...']]"
      ]
     },
     "execution_count": 133,
     "metadata": {},
     "output_type": "execute_result"
    }
   ],
   "source": [
    "google_titles_for_top1"
   ]
  },
  {
   "cell_type": "code",
   "execution_count": 193,
   "metadata": {
    "collapsed": false
   },
   "outputs": [],
   "source": [
    "pickle.dump( dict_of_google_tag_searches, open( \"dict_of_google_tag_searches.pickle\", \"wb\" ) )\n",
    "\n",
    "#google_news_df = pickle.load( open(\"google_news_df.pickle\", \"rb\" ))"
   ]
  },
  {
   "cell_type": "code",
   "execution_count": 2,
   "metadata": {
    "collapsed": false
   },
   "outputs": [
    {
     "ename": "NameError",
     "evalue": "name 'dict_of_google_tag_searches' is not defined",
     "output_type": "error",
     "traceback": [
      "\u001b[0;31m---------------------------------------------------------------------------\u001b[0m",
      "\u001b[0;31mNameError\u001b[0m                                 Traceback (most recent call last)",
      "\u001b[0;32m<ipython-input-2-1bf35ed18dae>\u001b[0m in \u001b[0;36m<module>\u001b[0;34m()\u001b[0m\n\u001b[0;32m----> 1\u001b[0;31m \u001b[0mdict_of_google_tag_searches\u001b[0m\u001b[0;34m.\u001b[0m\u001b[0mkeys\u001b[0m\u001b[0;34m(\u001b[0m\u001b[0;34m)\u001b[0m\u001b[0;34m\u001b[0m\u001b[0m\n\u001b[0m",
      "\u001b[0;31mNameError\u001b[0m: name 'dict_of_google_tag_searches' is not defined"
     ]
    }
   ],
   "source": [
    "dict_of_google_tag_searches.keys()"
   ]
  },
  {
   "cell_type": "code",
   "execution_count": 804,
   "metadata": {
    "collapsed": false
   },
   "outputs": [],
   "source": [
    "import sys\n",
    "sys.getrecursionlimit()\n",
    "sys.setrecursionlimit(3000)  # Changing from 1000 to 30000\n",
    "df_of_scopes_dates.to_pickle(\"df_of_scopes_dates.pickle\")\n",
    "\n",
    "pickle.dump( df_of_scopes_dates, open( \"df_of_scopes_dates.pickle\", \"wb\" ) )\n",
    "\n",
    "#google_news_df = pickle.load( open(\"google_news_df.pickle\", \"rb\" ))\n"
   ]
  },
  {
   "cell_type": "code",
   "execution_count": null,
   "metadata": {
    "collapsed": false
   },
   "outputs": [],
   "source": []
  },
  {
   "cell_type": "code",
   "execution_count": null,
   "metadata": {
    "collapsed": false
   },
   "outputs": [],
   "source": []
  },
  {
   "cell_type": "code",
   "execution_count": null,
   "metadata": {
    "collapsed": false
   },
   "outputs": [],
   "source": []
  },
  {
   "cell_type": "code",
   "execution_count": null,
   "metadata": {
    "collapsed": false
   },
   "outputs": [],
   "source": []
  },
  {
   "cell_type": "code",
   "execution_count": null,
   "metadata": {
    "collapsed": false
   },
   "outputs": [],
   "source": []
  },
  {
   "cell_type": "code",
   "execution_count": null,
   "metadata": {
    "collapsed": false
   },
   "outputs": [],
   "source": []
  },
  {
   "cell_type": "code",
   "execution_count": null,
   "metadata": {
    "collapsed": false
   },
   "outputs": [],
   "source": []
  },
  {
   "cell_type": "code",
   "execution_count": null,
   "metadata": {
    "collapsed": false
   },
   "outputs": [],
   "source": []
  },
  {
   "cell_type": "code",
   "execution_count": null,
   "metadata": {
    "collapsed": false
   },
   "outputs": [],
   "source": []
  },
  {
   "cell_type": "code",
   "execution_count": 534,
   "metadata": {
    "collapsed": false
   },
   "outputs": [
    {
     "data": {
      "text/plain": [
       "u'Kasich takes Ohio; Trump also projected to win '"
      ]
     },
     "execution_count": 534,
     "metadata": {},
     "output_type": "execute_result"
    }
   ],
   "source": [
    "re.sub('<[^<]+?>', '', x[0])"
   ]
  },
  {
   "cell_type": "code",
   "execution_count": 527,
   "metadata": {
    "collapsed": true
   },
   "outputs": [],
   "source": [
    "from HTMLParser import HTMLParser\n",
    "stripper = HTMLParser()"
   ]
  },
  {
   "cell_type": "code",
   "execution_count": 532,
   "metadata": {
    "collapsed": false
   },
   "outputs": [
    {
     "ename": "TypeError",
     "evalue": "coercing to Unicode: need string or buffer, Tag found",
     "output_type": "error",
     "traceback": [
      "\u001b[0;31m---------------------------------------------------------------------------\u001b[0m",
      "\u001b[0;31mTypeError\u001b[0m                                 Traceback (most recent call last)",
      "\u001b[0;32m<ipython-input-532-8cc1780198d0>\u001b[0m in \u001b[0;36m<module>\u001b[0;34m()\u001b[0m\n\u001b[0;32m----> 1\u001b[0;31m \u001b[0mstripper\u001b[0m\u001b[0;34m.\u001b[0m\u001b[0mfeed\u001b[0m\u001b[0;34m(\u001b[0m\u001b[0mx\u001b[0m\u001b[0;34m[\u001b[0m\u001b[0;36m1\u001b[0m\u001b[0;34m]\u001b[0m\u001b[0;34m)\u001b[0m\u001b[0;34m\u001b[0m\u001b[0m\n\u001b[0m",
      "\u001b[0;32m//anaconda/lib/python2.7/HTMLParser.pyc\u001b[0m in \u001b[0;36mfeed\u001b[0;34m(self, data)\u001b[0m\n\u001b[1;32m    114\u001b[0m         \u001b[0;32mas\u001b[0m \u001b[0myou\u001b[0m \u001b[0mwant\u001b[0m \u001b[0;34m(\u001b[0m\u001b[0mmay\u001b[0m \u001b[0minclude\u001b[0m \u001b[0;34m'\\n'\u001b[0m\u001b[0;34m)\u001b[0m\u001b[0;34m.\u001b[0m\u001b[0;34m\u001b[0m\u001b[0m\n\u001b[1;32m    115\u001b[0m         \"\"\"\n\u001b[0;32m--> 116\u001b[0;31m         \u001b[0mself\u001b[0m\u001b[0;34m.\u001b[0m\u001b[0mrawdata\u001b[0m \u001b[0;34m=\u001b[0m \u001b[0mself\u001b[0m\u001b[0;34m.\u001b[0m\u001b[0mrawdata\u001b[0m \u001b[0;34m+\u001b[0m \u001b[0mdata\u001b[0m\u001b[0;34m\u001b[0m\u001b[0m\n\u001b[0m\u001b[1;32m    117\u001b[0m         \u001b[0mself\u001b[0m\u001b[0;34m.\u001b[0m\u001b[0mgoahead\u001b[0m\u001b[0;34m(\u001b[0m\u001b[0;36m0\u001b[0m\u001b[0;34m)\u001b[0m\u001b[0;34m\u001b[0m\u001b[0m\n\u001b[1;32m    118\u001b[0m \u001b[0;34m\u001b[0m\u001b[0m\n",
      "\u001b[0;31mTypeError\u001b[0m: coercing to Unicode: need string or buffer, Tag found"
     ]
    }
   ],
   "source": [
    "stripper.feed(x[1])"
   ]
  },
  {
   "cell_type": "code",
   "execution_count": null,
   "metadata": {
    "collapsed": false
   },
   "outputs": [],
   "source": []
  },
  {
   "cell_type": "code",
   "execution_count": null,
   "metadata": {
    "collapsed": false
   },
   "outputs": [],
   "source": []
  },
  {
   "cell_type": "code",
   "execution_count": null,
   "metadata": {
    "collapsed": false
   },
   "outputs": [],
   "source": []
  },
  {
   "cell_type": "code",
   "execution_count": null,
   "metadata": {
    "collapsed": true
   },
   "outputs": [],
   "source": []
  },
  {
   "cell_type": "code",
   "execution_count": null,
   "metadata": {
    "collapsed": true
   },
   "outputs": [],
   "source": []
  },
  {
   "cell_type": "code",
   "execution_count": 353,
   "metadata": {
    "collapsed": true
   },
   "outputs": [],
   "source": []
  },
  {
   "cell_type": "code",
   "execution_count": null,
   "metadata": {
    "collapsed": true
   },
   "outputs": [],
   "source": []
  },
  {
   "cell_type": "code",
   "execution_count": 419,
   "metadata": {
    "collapsed": true
   },
   "outputs": [],
   "source": []
  },
  {
   "cell_type": "code",
   "execution_count": null,
   "metadata": {
    "collapsed": true
   },
   "outputs": [],
   "source": []
  },
  {
   "cell_type": "code",
   "execution_count": null,
   "metadata": {
    "collapsed": true
   },
   "outputs": [],
   "source": []
  },
  {
   "cell_type": "code",
   "execution_count": null,
   "metadata": {
    "collapsed": true
   },
   "outputs": [],
   "source": []
  },
  {
   "cell_type": "code",
   "execution_count": null,
   "metadata": {
    "collapsed": true
   },
   "outputs": [],
   "source": []
  },
  {
   "cell_type": "code",
   "execution_count": null,
   "metadata": {
    "collapsed": true
   },
   "outputs": [],
   "source": []
  },
  {
   "cell_type": "code",
   "execution_count": null,
   "metadata": {
    "collapsed": false
   },
   "outputs": [],
   "source": []
  },
  {
   "cell_type": "code",
   "execution_count": null,
   "metadata": {
    "collapsed": false
   },
   "outputs": [],
   "source": []
  },
  {
   "cell_type": "code",
   "execution_count": 433,
   "metadata": {
    "collapsed": false
   },
   "outputs": [],
   "source": []
  },
  {
   "cell_type": "code",
   "execution_count": null,
   "metadata": {
    "collapsed": true
   },
   "outputs": [],
   "source": []
  },
  {
   "cell_type": "code",
   "execution_count": null,
   "metadata": {
    "collapsed": false
   },
   "outputs": [],
   "source": []
  },
  {
   "cell_type": "code",
   "execution_count": null,
   "metadata": {
    "collapsed": false
   },
   "outputs": [],
   "source": []
  },
  {
   "cell_type": "code",
   "execution_count": 47,
   "metadata": {
    "collapsed": false
   },
   "outputs": [],
   "source": [
    "import requests\n",
    "import requests\n",
    "import json\n",
    "from bs4 import BeautifulSoup\n",
    "import pprint\n",
    "\n",
    "from selenium import webdriver\n",
    "from selenium.webdriver.common.keys import Keys\n",
    "from selenium.webdriver.common.by import By\n",
    "from selenium.webdriver.support.ui import WebDriverWait\n",
    "from selenium.webdriver.support import expected_conditions as EC\n",
    "\n",
    "from newspaper import Article\n",
    "import requests\n",
    "import json\n",
    "from bs4 import BeautifulSoup\n",
    "import pprint\n",
    "\n",
    "import time\n",
    "\n",
    "import cPickle as pickle"
   ]
  },
  {
   "cell_type": "code",
   "execution_count": null,
   "metadata": {
    "collapsed": false
   },
   "outputs": [],
   "source": []
  },
  {
   "cell_type": "markdown",
   "metadata": {},
   "source": [
    "<hr>"
   ]
  },
  {
   "cell_type": "code",
   "execution_count": null,
   "metadata": {
    "collapsed": true
   },
   "outputs": [],
   "source": [
    "# from collections import defaultdict\n",
    "\n",
    "# vectorizer = TfidfVectorizer(stop_words=\"english\", max_df=0.95, min_df=2,ngram_range=(1,3))\n",
    "# X = vectorizer.fit_transform(lectures)\n",
    "# features_by_gram = defaultdict(list)\n",
    "\n",
    "# for f, w in zip(vectorizer.get_feature_names(), vectorizer.idf_):\n",
    "#     features_by_gram[len(f.split(' '))].append((f, w))\n",
    "# top_n = 20\n",
    "# for gram, features in features_by_gram.iteritems():\n",
    "#     top_features = sorted(features, key=lambda x: x[1], reverse=True)[:top_n]\n",
    "#     top_features = [f[0] for f in top_features]\n",
    "#     print '{}-gram top:'.format(gram), top_features\n",
    "#     print"
   ]
  }
 ],
 "metadata": {
  "kernelspec": {
   "display_name": "Python 2",
   "language": "python",
   "name": "python2"
  },
  "language_info": {
   "codemirror_mode": {
    "name": "ipython",
    "version": 2
   },
   "file_extension": ".py",
   "mimetype": "text/x-python",
   "name": "python",
   "nbconvert_exporter": "python",
   "pygments_lexer": "ipython2",
   "version": "2.7.11"
  }
 },
 "nbformat": 4,
 "nbformat_minor": 0
}
