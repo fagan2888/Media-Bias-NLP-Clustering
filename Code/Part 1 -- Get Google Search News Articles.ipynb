{
 "cells": [
  {
   "cell_type": "markdown",
   "metadata": {},
   "source": [
    "Refrences:\n",
    "    http://press.customerdevlabs.com/\n",
    "    http://www.labnol.org/internet/google-web-scraping/28450/\n",
    "    https://www.safaribooksonline.com/library/view/google-hacks-2nd/0596008570/ch04s08.html\n",
    "    http://codereview.stackexchange.com/questions/97237/google-news-scraper-to-fetch-links-with-similar-stories"
   ]
  },
  {
   "cell_type": "code",
   "execution_count": 137,
   "metadata": {
    "collapsed": false
   },
   "outputs": [],
   "source": [
    "import requests\n",
    "import requests\n",
    "import json\n",
    "from bs4 import BeautifulSoup\n",
    "import pprint\n",
    "\n",
    "from selenium import webdriver\n",
    "from selenium.webdriver.common.keys import Keys\n",
    "from selenium.webdriver.common.by import By\n",
    "from selenium.webdriver.support.ui import WebDriverWait\n",
    "from selenium.webdriver.support import expected_conditions as EC\n",
    "\n",
    "from newspaper import Article\n",
    "import requests\n",
    "import json\n",
    "from bs4 import BeautifulSoup\n",
    "import pprint\n",
    "\n",
    "import time\n",
    "\n",
    "import cPickle as pickle"
   ]
  },
  {
   "cell_type": "markdown",
   "metadata": {
    "collapsed": true
   },
   "source": [
    "## Starting Date: 9/15/2013 \n",
    "(based on informal pocking and proding to when the frequency increases significantly)"
   ]
  },
  {
   "cell_type": "code",
   "execution_count": 138,
   "metadata": {
    "collapsed": true
   },
   "outputs": [],
   "source": [
    "def make_google_url(query, start_day,start_month, start_year, end_day,end_month,end_year):\n",
    "    \"Gives you the results -- sorted by relevance - \"\n",
    "    a = \"https://www.google.com/search?q=\"\n",
    "    query = query\n",
    "    b = \"&num=100&hl=en&gl=us&authuser=0&source=lnt&tbs=cdr%3A1%2Ccd_min%3A\"\n",
    "    start_date = str(start_month) + \"%2F\" + str(start_day) + \"%2F\" + str(start_year)\n",
    "    c = \"%2Ccd_max%3A\"\n",
    "    end_date = str(end_month) + \"%2F\" + str(end_day) + \"%2F\" + str(end_year)\n",
    "    d = \"&tbm=nws\"\n",
    "    \n",
    "    final_url = a + query + b + start_date + c + end_date + d\n",
    "    return final_url"
   ]
  },
  {
   "cell_type": "code",
   "execution_count": 139,
   "metadata": {
    "collapsed": false
   },
   "outputs": [],
   "source": [
    "def get_links_off_google(url):\n",
    "    driver.get(url)\n",
    "    elem = driver.find_element_by_xpath(\"//*\");\n",
    "    html_code = elem.get_attribute(\"innerHTML\");\n",
    "    soup = BeautifulSoup(html_code, \"lxml\");\n",
    "    html_a_tags = soup.findAll('a',attrs={ \"class\" : \"_HId\" })\n",
    "    urls = [html_a_tags[\"href\"] for html_a_tags in html_a_tags]\n",
    "    if len(urls) == 0:\n",
    "        print \"Google wants you to stop!\"\n",
    "        print \"STOP!\"\n",
    "        return \"STOP\"\n",
    "    print \"Total URLS per page:\", len(urls),\n",
    "    for url in urls:\n",
    "        #print url\n",
    "        list_of_google_news_urls.append(url)\n",
    "    print \"GO!\",\n",
    "    return \"GO\""
   ]
  },
  {
   "cell_type": "code",
   "execution_count": 4,
   "metadata": {
    "collapsed": false
   },
   "outputs": [],
   "source": [
    "# list_of_google_news_urls = []\n",
    "\n",
    "# list_of_google_news_urls = pickle.load( open( \"list_of_google_news_urls.pickle\", \"rb\" ) )"
   ]
  },
  {
   "cell_type": "code",
   "execution_count": 141,
   "metadata": {
    "collapsed": false
   },
   "outputs": [],
   "source": [
    "start_year = 2016 # <- need to be done manualy\n",
    "end_year = 2016  # <- need to be done manualy\n",
    "m = 1  # <- need to be done manualy\n",
    "driver = webdriver.Firefox()"
   ]
  },
  {
   "cell_type": "code",
   "execution_count": 142,
   "metadata": {
    "collapsed": false
   },
   "outputs": [
    {
     "name": "stdout",
     "output_type": "stream",
     "text": [
      "2016-05-26 01:08:39\n"
     ]
    }
   ],
   "source": [
    "from time import strftime,localtime\n",
    "print strftime(\"%Y-%m-%d %H:%M:%S\", localtime())"
   ]
  },
  {
   "cell_type": "code",
   "execution_count": null,
   "metadata": {
    "collapsed": false
   },
   "outputs": [],
   "source": []
  },
  {
   "cell_type": "code",
   "execution_count": 143,
   "metadata": {
    "collapsed": false,
    "scrolled": true
   },
   "outputs": [
    {
     "name": "stdout",
     "output_type": "stream",
     "text": [
      "1/1/2016 Total URLS per page: 100 GO! Total URLS per page: 100 GO! 1/2/2016 Total URLS per page: 100 GO! Total URLS per page: 100 GO! 1/3/2016 Total URLS per page: 100 GO! Total URLS per page: 100 GO! 1/4/2016 Total URLS per page: 100 GO! Total URLS per page: 100 GO! 1/5/2016 Total URLS per page: 100 GO! Total URLS per page: 100 GO! 1/6/2016 Total URLS per page: 100 GO! Total URLS per page: 100 GO! 1/7/2016 Total URLS per page: 100 GO! Total URLS per page: 100 GO! 1/8/2016 Total URLS per page: 100 GO! Total URLS per page: 100 GO! 1/9/2016 Total URLS per page: 100 GO! Total URLS per page: 100 GO! 1/10/2016 Total URLS per page: 100 GO! Total URLS per page: 100 GO! 1/11/2016 Total URLS per page: 100 GO! Total URLS per page: 100 GO! 1/12/2016 Total URLS per page: 100 GO! Total URLS per page: 100 GO! 1/13/2016 Total URLS per page: 100 GO! Total URLS per page: 100 GO! 1/14/2016 Total URLS per page: 100 GO! Total URLS per page: 100 GO! finished first half of month\n",
      "\n",
      "1/15/2016 Total URLS per page: 100 GO! Total URLS per page: 100 GO! 1/16/2016 Total URLS per page: 100 GO! Total URLS per page: 100 GO! 1/17/2016 Total URLS per page: 100 GO! Total URLS per page: 100 GO! 1/18/2016 Total URLS per page: 100 GO! Total URLS per page: 100 GO! 1/19/2016 Total URLS per page: 100 GO! Total URLS per page: 100 GO! 1/20/2016 Total URLS per page: 100 GO! Total URLS per page: 100 GO! 1/21/2016 Total URLS per page: 100 GO! Total URLS per page: 100 GO! 1/22/2016 Total URLS per page: 100 GO! Total URLS per page: 100 GO! 1/23/2016 Total URLS per page: 100 GO! Total URLS per page: 100 GO! 1/24/2016 Total URLS per page: 100 GO! Total URLS per page: 100 GO! 1/25/2016 Total URLS per page: 100 GO! Total URLS per page: 100 GO! 1/26/2016 Total URLS per page: 100 GO! Total URLS per page: 100 GO! 1/27/2016 Total URLS per page: 100 GO! Total URLS per page: 100 GO! 1/28/2016 Total URLS per page: 100 GO! Total URLS per page: 100 GO! 1/29/2016 Total URLS per page: 100 GO! Total URLS per page: 100 GO!\n",
      "finished with month\n",
      "Great -- you've waited another 20 minutes, you can run the next month now.\n",
      "2/1/2016 Total URLS per page: 100 GO! Total URLS per page: 100 GO! 2/2/2016 Total URLS per page: 100 GO! Total URLS per page: 100 GO! 2/3/2016 Total URLS per page: 100 GO! Total URLS per page: 100 GO! 2/4/2016 Total URLS per page: 100 GO! Total URLS per page: 100 GO! 2/5/2016 Total URLS per page: 100 GO! Total URLS per page: 100 GO! 2/6/2016 Total URLS per page: 100 GO! Total URLS per page: 100 GO! 2/7/2016 Total URLS per page: 100 GO! Total URLS per page: 100 GO! 2/8/2016 Total URLS per page: 100 GO! Total URLS per page: 100 GO! 2/9/2016 Total URLS per page: 100 GO! Total URLS per page: 100 GO! 2/10/2016 Total URLS per page: 100 GO! Total URLS per page: 100 GO! 2/11/2016 Total URLS per page: 100 GO! Total URLS per page: 100 GO! 2/12/2016 Total URLS per page: 100 GO! Total URLS per page: 100 GO! 2/13/2016 Total URLS per page: 100 GO! Total URLS per page: 100 GO! 2/14/2016 Total URLS per page: 100 GO! Total URLS per page: 100 GO! finished first half of month\n",
      "\n",
      "2/15/2016 Total URLS per page: 100 GO! Total URLS per page: 100 GO! 2/16/2016 Total URLS per page: 100 GO! Total URLS per page: 100 GO! 2/17/2016 Total URLS per page: 100 GO! Total URLS per page: 100 GO! 2/18/2016 Total URLS per page: 100 GO! Total URLS per page: 100 GO! 2/19/2016 Total URLS per page: 100 GO! Total URLS per page: 100 GO! 2/20/2016 Total URLS per page: 100 GO! Total URLS per page: 100 GO! 2/21/2016 Total URLS per page: 100 GO! Total URLS per page: 100 GO! 2/22/2016 Total URLS per page: 100 GO! Total URLS per page: 100 GO! 2/23/2016 Total URLS per page: 100 GO! Total URLS per page: 100 GO! 2/24/2016 Total URLS per page: 100 GO! Total URLS per page: 100 GO! 2/25/2016 Total URLS per page: 100 GO! Total URLS per page: 100 GO! 2/26/2016 Total URLS per page: 100 GO! Total URLS per page: 100 GO! 2/27/2016 Total URLS per page: 100 GO! Total URLS per page: 100 GO! 2/28/2016 Total URLS per page: 100 GO! Total URLS per page: 100 GO! 2/29/2016 Total URLS per page: 100 GO! Total URLS per page: 100 GO!\n",
      "finished with month\n",
      "Great -- you've waited another 20 minutes, you can run the next month now.\n",
      "3/1/2016 Total URLS per page: 100 GO! Total URLS per page: 100 GO! 3/2/2016 Total URLS per page: 100 GO! Total URLS per page: 100 GO! 3/3/2016 Total URLS per page: 100 GO! Total URLS per page: 100 GO! 3/4/2016 Total URLS per page: 100 GO! Total URLS per page: 100 GO! 3/5/2016 Total URLS per page: 100 GO! Total URLS per page: 100 GO! 3/6/2016 Total URLS per page: 100 GO! Total URLS per page: 100 GO! 3/7/2016 Total URLS per page: 100 GO! Total URLS per page: 100 GO! 3/8/2016 Total URLS per page: 100 GO! Total URLS per page: 100 GO! 3/9/2016 Total URLS per page: 100 GO! Total URLS per page: 100 GO! 3/10/2016 Total URLS per page: 100 GO! Total URLS per page: 100 GO! 3/11/2016 Total URLS per page: 100 GO! Total URLS per page: 100 GO! 3/12/2016 Total URLS per page: 100 GO! Total URLS per page: 100 GO! 3/13/2016 Total URLS per page: 100 GO! Total URLS per page: 100 GO! 3/14/2016 Total URLS per page: 100 GO! Total URLS per page: 100 GO! finished first half of month\n",
      "\n",
      "3/15/2016 Total URLS per page: 100 GO! Total URLS per page: 100 GO! 3/16/2016 Total URLS per page: 100 GO! Total URLS per page: 100 GO! 3/17/2016 Total URLS per page: 100 GO! Total URLS per page: 100 GO! 3/18/2016 Total URLS per page: 100 GO! Total URLS per page: 100 GO! 3/19/2016 Total URLS per page: 100 GO! Total URLS per page: 100 GO! 3/20/2016 Total URLS per page: 100 GO! Total URLS per page: 100 GO! 3/21/2016 Total URLS per page: 100 GO! Total URLS per page: 100 GO! 3/22/2016 Total URLS per page: 100 GO! Total URLS per page: 100 GO! 3/23/2016 Total URLS per page: 100 GO! Total URLS per page: 100 GO! 3/24/2016 Total URLS per page: 100 GO! Total URLS per page: 100 GO! 3/25/2016 Total URLS per page: 100 GO! Total URLS per page: 100 GO! 3/26/2016 Total URLS per page: 100 GO! Total URLS per page: 100 GO! 3/27/2016 Total URLS per page: 100 GO! Total URLS per page: 100 GO! 3/28/2016 Total URLS per page: 100 GO! Total URLS per page: 100 GO! 3/29/2016 Total URLS per page: 100 GO! Total URLS per page: 100 GO!\n",
      "finished with month\n",
      "Great -- you've waited another 20 minutes, you can run the next month now.\n",
      "4/1/2016 Total URLS per page: 100 GO! Total URLS per page: 100 GO! 4/2/2016 Total URLS per page: 100 GO! Total URLS per page: 100 GO! 4/3/2016 Total URLS per page: 100 GO! Total URLS per page: 100 GO! 4/4/2016 Total URLS per page: 100 GO! Total URLS per page: 100 GO! 4/5/2016 Total URLS per page: 100 GO! Total URLS per page: 100 GO! 4/6/2016 Total URLS per page: 100 GO! Total URLS per page: 100 GO! 4/7/2016 Total URLS per page: 100 GO! Total URLS per page: 100 GO! 4/8/2016 Total URLS per page: 100 GO! Total URLS per page: 100 GO! 4/9/2016 Total URLS per page: 100 GO! Total URLS per page: 100 GO! 4/10/2016 Total URLS per page: 100 GO! Total URLS per page: 100 GO! 4/11/2016 Total URLS per page: 100 GO! Total URLS per page: 100 GO! 4/12/2016 Total URLS per page: 100 GO! Total URLS per page: 100 GO! 4/13/2016 Total URLS per page: 100 GO! Total URLS per page: 100 GO! 4/14/2016 Total URLS per page: 100 GO! Total URLS per page: 100 GO! finished first half of month\n",
      "\n",
      "4/15/2016 Total URLS per page: 100 GO! Total URLS per page: 100 GO! 4/16/2016 Total URLS per page: 100 GO! Total URLS per page: 100 GO! 4/17/2016 Total URLS per page: 100 GO! Total URLS per page: 100 GO! 4/18/2016 Total URLS per page: 100 GO! Total URLS per page: 100 GO! 4/19/2016 Total URLS per page: 100 GO! Total URLS per page: 100 GO! 4/20/2016 Total URLS per page: 100 GO! Total URLS per page: 100 GO! 4/21/2016 Total URLS per page: 100 GO! Total URLS per page: 100 GO! 4/22/2016 Total URLS per page: 100 GO! Total URLS per page: 100 GO! 4/23/2016 Total URLS per page: 100 GO! Total URLS per page: 100 GO! 4/24/2016 Total URLS per page: 100 GO! Total URLS per page: 100 GO! 4/25/2016 Total URLS per page: 100 GO! Total URLS per page: 100 GO! 4/26/2016 Total URLS per page: 100 GO! Total URLS per page: 100 GO! 4/27/2016 Total URLS per page: 100 GO! Total URLS per page: 100 GO! 4/28/2016 Total URLS per page: 100 GO! Total URLS per page: 100 GO! 4/29/2016 Total URLS per page: 100 GO! Total URLS per page: 100 GO!\n",
      "finished with month\n",
      "Great -- you've waited another 20 minutes, you can run the next month now.\n",
      "5/1/2016 Total URLS per page: 60 GO! Total URLS per page: 56 GO! 5/2/2016 Total URLS per page: 100 GO! Total URLS per page: 100 GO! 5/3/2016 Total URLS per page: 100 GO! Total URLS per page: 100 GO! 5/4/2016 Total URLS per page: 100 GO! Total URLS per page: 100 GO! 5/5/2016 Total URLS per page: 100 GO! Total URLS per page: 100 GO! 5/6/2016 Total URLS per page: 100 GO! Total URLS per page: 100 GO! 5/7/2016 Total URLS per page: 55 GO! Total URLS per page: 76 GO! 5/8/2016 Total URLS per page: 48 GO! Total URLS per page: 63 GO! 5/9/2016 Total URLS per page: 100 GO! Total URLS per page: 100 GO! 5/10/2016 Total URLS per page: 100 GO! Total URLS per page: 100 GO! 5/11/2016 Total URLS per page: 100 GO! Total URLS per page: 100 GO! 5/12/2016 Total URLS per page: 100 GO! Total URLS per page: 100 GO! 5/13/2016 Total URLS per page: 100 GO! Total URLS per page: 100 GO! 5/14/2016 Total URLS per page: 63 GO! Total URLS per page: 73 GO! finished first half of month\n",
      "\n",
      "5/15/2016 Total URLS per page: 69 GO! Total URLS per page: 75 GO! 5/16/2016 Total URLS per page: 100 GO! Total URLS per page: 100 GO! 5/17/2016 Total URLS per page: 100 GO! Total URLS per page: 100 GO! 5/18/2016 Total URLS per page: 100 GO! Total URLS per page: 100 GO! 5/19/2016 Total URLS per page: 100 GO! Total URLS per page: 100 GO! 5/20/2016 Total URLS per page: 100 GO! Total URLS per page: 100 GO! 5/21/2016 Total URLS per page: 71 GO! Total URLS per page: 82 GO! 5/22/2016 Total URLS per page: 69 GO! Total URLS per page: 71 GO! 5/23/2016 Total URLS per page: 98 GO! Total URLS per page: 100 GO! 5/24/2016 Total URLS per page: 100 GO! Total URLS per page: 100 GO! 5/25/2016 Total URLS per page: 100 GO! Total URLS per page: 100 GO! 5/26/2016 Total URLS per page: 2 GO! Total URLS per page: 13 GO! 5/27/2016 Google wants you to stop!\n",
      "STOP!\n",
      "\n",
      "finished with month\n",
      "Great -- you've waited another 20 minutes, you can run the next month now.\n"
     ]
    }
   ],
   "source": [
    "\n",
    "\n",
    "for m in range(1,6):\n",
    "    for d in range(1,15): #<- day <-- setting to 28 b/c it seems like google will only let you go 28 days in a row without giving you an error of some sort.\n",
    "        start_day = d\n",
    "        end_day = d\n",
    "        start_month = m\n",
    "        end_month = m\n",
    "\n",
    "        time.sleep(3) # delays for 3 seconds\n",
    "        current_date = \"%d/%d/%d\" % (start_month,start_day,start_year)\n",
    "        print current_date,\n",
    "\n",
    "        # Search for \"Obamacare\"\n",
    "        url_obamacare = make_google_url(query = \"obamacare\", start_year=start_year, start_day=d,start_month=m,end_year=end_year,end_day=d,end_month=m)\n",
    "        #print url_obamacare\n",
    "        STOP_GO = get_links_off_google(url_obamacare)\n",
    "        if STOP_GO == \"STOP\":\n",
    "            break\n",
    "\n",
    "        # Search for \"Affordable Care Act\"\n",
    "        url_aca = make_google_url(query = \"Affordable+Care+Act\", start_year=start_year, start_day=d,start_month=m,end_year=end_year,end_day=d,end_month=m)\n",
    "        #print url_aca\n",
    "        STOP_GO = get_links_off_google(url_aca)\n",
    "        if STOP_GO == \"STOP\":\n",
    "            break\n",
    "\n",
    "    print \"finished first half of month\"\n",
    "    print\n",
    "    time.sleep(1200) # delays for 20 minutes \n",
    "\n",
    "    for d in range(15,30): #<- day <-- setting to 28 b/c it seems like google will only let you go 28 days in a row without giving you an error of some sort.\n",
    "        start_day = d\n",
    "        end_day = d\n",
    "        start_month = m\n",
    "        end_month = m\n",
    "\n",
    "        time.sleep(3) # delays for 3 seconds\n",
    "        current_date = \"%d/%d/%d\" % (start_month,start_day,start_year)\n",
    "        print current_date,\n",
    "\n",
    "        # Search for \"Obamacare\"\n",
    "        url_obamacare = make_google_url(query = \"obamacare\", start_year=start_year, start_day=d,start_month=m,end_year=end_year,end_day=d,end_month=m)\n",
    "        #print url_obamacare\n",
    "        STOP_GO = get_links_off_google(url_obamacare)\n",
    "        if STOP_GO == \"STOP\":\n",
    "            break\n",
    "\n",
    "        # Search for \"Affordable Care Act\"\n",
    "        url_aca = make_google_url(query = \"Affordable+Care+Act\", start_year=start_year, start_day=d,start_month=m,end_year=end_year,end_day=d,end_month=m)\n",
    "        #print url_aca\n",
    "        STOP_GO = get_links_off_google(url_aca)\n",
    "        if STOP_GO == \"STOP\":\n",
    "            break\n",
    "\n",
    "    print\n",
    "    print \"finished with month\"\n",
    "    \n",
    "    time.sleep(1200) # delays for 20 minutes \n",
    "\n",
    "    print \"Great -- you've waited another 20 minutes, you can run the next month now.\""
   ]
  },
  {
   "cell_type": "markdown",
   "metadata": {},
   "source": [
    "<hr>"
   ]
  },
  {
   "cell_type": "code",
   "execution_count": 144,
   "metadata": {
    "collapsed": false
   },
   "outputs": [
    {
     "name": "stdout",
     "output_type": "stream",
     "text": [
      "List of Urls in LIST: 165900\n",
      "List of Urls in Set: 163294\n",
      "List of Urls in LIST: 163294\n"
     ]
    }
   ],
   "source": [
    "print \"List of Urls in LIST:\", len(list_of_google_news_urls) #<-- may have duplicates\n",
    "set_of_google_news_urls = set(list_of_google_news_urls)\n",
    "print \"List of Urls in Set:\", len(set_of_google_news_urls)\n",
    "list_of_google_news_urls = list(set_of_google_news_urls)\n",
    "print \"List of Urls in LIST:\", len(list_of_google_news_urls) # <-- gets rid of duplicates"
   ]
  },
  {
   "cell_type": "code",
   "execution_count": 145,
   "metadata": {
    "collapsed": false
   },
   "outputs": [],
   "source": [
    "pickle.dump( set_of_google_news_urls, open( \"set_of_google_news_urls.pickle\", \"wb\" ) )"
   ]
  },
  {
   "cell_type": "code",
   "execution_count": 146,
   "metadata": {
    "collapsed": true
   },
   "outputs": [],
   "source": [
    "pickle.dump( list_of_google_news_urls, open( \"list_of_google_news_urls.pickle\", \"wb\" ) )"
   ]
  },
  {
   "cell_type": "code",
   "execution_count": null,
   "metadata": {
    "collapsed": true
   },
   "outputs": [],
   "source": [
    "# Total Possible articles\n",
    "# <-- 365 days, 4 years, 100 results per page, 2 searchers --> but that's an upper bound... probably there are going to be a lot of overlap, so it will be maybe just 1.3 times...\n",
    "365 * 4 * 100 * 1.3"
   ]
  },
  {
   "cell_type": "markdown",
   "metadata": {
    "collapsed": true
   },
   "source": [
    "<hr>"
   ]
  },
  {
   "cell_type": "markdown",
   "metadata": {
    "collapsed": false
   },
   "source": [
    "<hr>"
   ]
  },
  {
   "cell_type": "code",
   "execution_count": null,
   "metadata": {
    "collapsed": false
   },
   "outputs": [],
   "source": [
    "# ## This is the generic scraper -- it gives 10 millions results... I'll need to \n",
    "# ## It caps the number of results to 1000 anyway, so i am trying something else.\n",
    "\n",
    "# for i in range(0,200):  # <-- Stops at 100 even after going through all the captcha's etc\n",
    "#     page_multiplier = i*10\n",
    "#     print page_multiplier,\n",
    "#     base_url = \"https://www.google.com/search?q=obamacare&num=100&hl=en&gl=us&authuser=0&biw=1277&bih=801&tbs=sbd:1&tbm=nws&ei=Qv1BV9DvFojl-AHMs6GwDw&start=100&sa=N&dpr=1#q=obamacare&hl=en&gl=us&authuser=0&tbs=sbd:1&tbm=nws&start=\"\n",
    "#     url = base_url + str(page_multiplier)\n",
    "#     # print url\n",
    "#     driver.get(url)\n",
    "#     time.sleep(5) # delays for 3 seconds\n",
    "    \n",
    "#     elem = driver.find_element_by_xpath(\"//*\");\n",
    "#     html_code = elem.get_attribute(\"innerHTML\");\n",
    "#     soup = BeautifulSoup(html_code, \"lxml\");\n",
    "#     html_a_tags = soup.findAll('a',attrs={ \"class\" : \"_HId\" })\n",
    "#     urls = [html_a_tags[\"href\"] for html_a_tags in html_a_tags]\n",
    "#     if len(urls) == 0:\n",
    "#         print \"Google wants you to stop!\"\n",
    "#         break    \n",
    "#     print \"Total URLS per page:\", len(urls)\n",
    "#     for url in urls:\n",
    "#         #print url\n",
    "#         list_of_google_news_urls.append(url)\n",
    "\n",
    "# print \"complete!\""
   ]
  }
 ],
 "metadata": {
  "kernelspec": {
   "display_name": "Python 2",
   "language": "python",
   "name": "python2"
  },
  "language_info": {
   "codemirror_mode": {
    "name": "ipython",
    "version": 2
   },
   "file_extension": ".py",
   "mimetype": "text/x-python",
   "name": "python",
   "nbconvert_exporter": "python",
   "pygments_lexer": "ipython2",
   "version": "2.7.11"
  }
 },
 "nbformat": 4,
 "nbformat_minor": 0
}
