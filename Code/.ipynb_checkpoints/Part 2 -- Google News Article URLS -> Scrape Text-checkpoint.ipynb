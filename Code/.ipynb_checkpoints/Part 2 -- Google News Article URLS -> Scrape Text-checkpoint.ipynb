{
 "cells": [
  {
   "cell_type": "markdown",
   "metadata": {},
   "source": [
    "Refrences:\n",
    "    http://press.customerdevlabs.com/\n",
    "    http://www.labnol.org/internet/google-web-scraping/28450/\n",
    "    https://www.safaribooksonline.com/library/view/google-hacks-2nd/0596008570/ch04s08.html\n",
    "    http://codereview.stackexchange.com/questions/97237/google-news-scraper-to-fetch-links-with-similar-stories"
   ]
  },
  {
   "cell_type": "code",
   "execution_count": 345,
   "metadata": {
    "collapsed": false
   },
   "outputs": [
    {
     "name": "stdout",
     "output_type": "stream",
     "text": [
      "\n"
     ]
    }
   ],
   "source": [
    "import requests\n",
    "import requests\n",
    "import json\n",
    "from bs4 import BeautifulSoup\n",
    "import pprint\n",
    "\n",
    "from selenium import webdriver\n",
    "from selenium.webdriver.common.keys import Keys\n",
    "from selenium.webdriver.common.by import By\n",
    "from selenium.webdriver.support.ui import WebDriverWait\n",
    "from selenium.webdriver.support import expected_conditions as EC\n",
    "\n",
    "from newspaper import Article\n",
    "import requests\n",
    "import json\n",
    "from bs4 import BeautifulSoup\n",
    "import pprint\n",
    "\n",
    "import time\n",
    "\n",
    "import cPickle as pickle"
   ]
  },
  {
   "cell_type": "markdown",
   "metadata": {},
   "source": [
    "# Get the urls"
   ]
  },
  {
   "cell_type": "code",
   "execution_count": 346,
   "metadata": {
    "collapsed": true
   },
   "outputs": [],
   "source": [
    "list_of_google_news_urls = pickle.load( open( \"list_of_google_news_urls.pickle\", \"rb\" ) )"
   ]
  },
  {
   "cell_type": "code",
   "execution_count": 399,
   "metadata": {
    "collapsed": false
   },
   "outputs": [
    {
     "data": {
      "text/plain": [
       "163294"
      ]
     },
     "execution_count": 399,
     "metadata": {},
     "output_type": "execute_result"
    }
   ],
   "source": [
    "len(list_of_google_news_urls)    #<--- How many there are two parse"
   ]
  },
  {
   "cell_type": "markdown",
   "metadata": {},
   "source": [
    "# Pulling in Old Dictionary / Text Data"
   ]
  },
  {
   "cell_type": "code",
   "execution_count": null,
   "metadata": {
    "collapsed": false
   },
   "outputs": [],
   "source": [
    "# google_news_dictionary_article_text = {}\n",
    "\n",
    "# google_news_dictionary_article_text = pickle.load( open( \"google_news_dictionary_article_text_rebuilt.pickle\", \"rb\" ) )"
   ]
  },
  {
   "cell_type": "code",
   "execution_count": 373,
   "metadata": {
    "collapsed": false
   },
   "outputs": [
    {
     "data": {
      "text/plain": [
       "159615"
      ]
     },
     "execution_count": 373,
     "metadata": {},
     "output_type": "execute_result"
    }
   ],
   "source": []
  },
  {
   "cell_type": "markdown",
   "metadata": {},
   "source": [
    "# Merging with google_news_dictionary_article_text_..."
   ]
  },
  {
   "cell_type": "code",
   "execution_count": 398,
   "metadata": {
    "collapsed": false
   },
   "outputs": [
    {
     "name": "stdout",
     "output_type": "stream",
     "text": [
      "old dictionary: 163003\n",
      "Marginal add Dictionary: 1004\n",
      "new dictionary: 163127\n"
     ]
    }
   ],
   "source": [
    "print \"old dictionary:\", len(google_news_dictionary_article_text.keys())      #<--- How many I've parsed so far\n",
    "\n",
    "add_me_dict_n = pickle.load( open( \"add_me_dict_n.pickle\", \"rb\" ) )\n",
    "print \"Marginal add Dictionary:\", len(add_me_dict_n.keys())      #<--- How many I've parsed so far\n",
    "google_news_dictionary_article_text.update(add_me_dict_n)\n",
    "\n",
    "print \"new dictionary:\", len(google_news_dictionary_article_text.keys())      #<--- How many I've parsed so far"
   ]
  },
  {
   "cell_type": "markdown",
   "metadata": {},
   "source": [
    "# Dumping for the next file"
   ]
  },
  {
   "cell_type": "code",
   "execution_count": 407,
   "metadata": {
    "collapsed": true
   },
   "outputs": [],
   "source": [
    "scraped_urls = google_news_dictionary_article_text.keys()\n",
    "pickle.dump( scraped_urls, open( \"scraped_urls.pickle\", \"wb\" ) )"
   ]
  },
  {
   "cell_type": "code",
   "execution_count": 408,
   "metadata": {
    "collapsed": false
   },
   "outputs": [
    {
     "data": {
      "text/plain": [
       "163184"
      ]
     },
     "execution_count": 408,
     "metadata": {},
     "output_type": "execute_result"
    }
   ],
   "source": [
    "len(scraped_urls)"
   ]
  },
  {
   "cell_type": "code",
   "execution_count": 409,
   "metadata": {
    "collapsed": true
   },
   "outputs": [],
   "source": [
    "google_news_texts_only = [doc[\"article_text\"] for doc in google_news_dictionary_article_text.values()]"
   ]
  },
  {
   "cell_type": "code",
   "execution_count": 410,
   "metadata": {
    "collapsed": true
   },
   "outputs": [],
   "source": [
    "pickle.dump( google_news_texts_only, open( \"google_news_texts_only.pickle\", \"wb\" ) )"
   ]
  },
  {
   "cell_type": "code",
   "execution_count": 411,
   "metadata": {
    "collapsed": true
   },
   "outputs": [],
   "source": [
    "pickle.dump( google_news_dictionary_article_text, open( \"google_news_dictionary_article_text.pickle\", \"wb\" ) )"
   ]
  },
  {
   "cell_type": "markdown",
   "metadata": {},
   "source": [
    "<hr>"
   ]
  },
  {
   "cell_type": "code",
   "execution_count": null,
   "metadata": {
    "collapsed": false
   },
   "outputs": [],
   "source": [
    "def get_save_text_data(url):\n",
    "    #print url\n",
    "    # Download & Parse Data\n",
    "    article_object = Article(url, language = 'en')\n",
    "    article_object.download()\n",
    "    article_object.parse()\n",
    "    article_object.nlp()\n",
    "    \n",
    "    # Extract out key info\n",
    "    article_summary = article_object.summary\n",
    "    article_keywords = article_object.keywords\n",
    "    article_title = article_object.title\n",
    "    article_metadata = article_object.meta_data\n",
    "    \n",
    "    google_news_dictionary_article_text[url] = {\"article_url\":url,\n",
    "                                                   \"article_text\":article_object.text,\n",
    "                                                    \"article_summary\":article_object.summary,\n",
    "                                                    \"article_keywords\":article_object.keywords,\n",
    "                                                    \"article_title\":article_object.title,\n",
    "                                                    \"article_metadata\":article_object.meta_data}\n",
    "    return google_news_dictionary_article_text"
   ]
  },
  {
   "cell_type": "code",
   "execution_count": null,
   "metadata": {
    "collapsed": true
   },
   "outputs": [],
   "source": [
    "from IPython.display import clear_output"
   ]
  },
  {
   "cell_type": "code",
   "execution_count": 405,
   "metadata": {
    "collapsed": false,
    "scrolled": false
   },
   "outputs": [
    {
     "name": "stdout",
     "output_type": "stream",
     "text": [
      "674 You must download and parse an article before parsing it!\n",
      "2295"
     ]
    },
    {
     "name": "stderr",
     "output_type": "stream",
     "text": [
      "Traceback (most recent call last):\n",
      "  File \"//anaconda/lib/python2.7/site-packages/newspaper-0.0.9.8-py2.7.egg/newspaper/parsers.py\", line 54, in fromstring\n",
      "    cls.doc = lxml.html.fromstring(html)\n",
      "  File \"//anaconda/lib/python2.7/site-packages/lxml-3.3.5-py2.7-macosx-10.5-x86_64.egg/lxml/html/__init__.py\", line 706, in fromstring\n",
      "    doc = document_fromstring(html, parser=parser, base_url=base_url, **kw)\n",
      "  File \"//anaconda/lib/python2.7/site-packages/lxml-3.3.5-py2.7-macosx-10.5-x86_64.egg/lxml/html/__init__.py\", line 600, in document_fromstring\n",
      "    value = etree.fromstring(html, parser, **kw)\n",
      "  File \"lxml.etree.pyx\", line 3032, in lxml.etree.fromstring (src/lxml/lxml.etree.c:68121)\n",
      "  File \"parser.pxi\", line 1786, in lxml.etree._parseMemoryDocument (src/lxml/lxml.etree.c:102470)\n",
      "  File \"parser.pxi\", line 1667, in lxml.etree._parseDoc (src/lxml/lxml.etree.c:101229)\n",
      "  File \"parser.pxi\", line 1035, in lxml.etree._BaseParser._parseUnicodeDoc (src/lxml/lxml.etree.c:96139)\n",
      "  File \"parser.pxi\", line 582, in lxml.etree._ParserContext._handleParseResultDoc (src/lxml/lxml.etree.c:91290)\n",
      "  File \"parser.pxi\", line 683, in lxml.etree._handleParseResult (src/lxml/lxml.etree.c:92476)\n",
      "  File \"parser.pxi\", line 631, in lxml.etree._raiseParseError (src/lxml/lxml.etree.c:91904)\n",
      "XMLSyntaxError: line 156: Tag footer invalid\n",
      "Traceback (most recent call last):\n"
     ]
    },
    {
     "name": "stdout",
     "output_type": "stream",
     "text": [
      " You must download and parse an article before parsing it!\n",
      "2955"
     ]
    },
    {
     "name": "stderr",
     "output_type": "stream",
     "text": [
      "  File \"//anaconda/lib/python2.7/site-packages/newspaper-0.0.9.8-py2.7.egg/newspaper/parsers.py\", line 54, in fromstring\n",
      "    cls.doc = lxml.html.fromstring(html)\n",
      "  File \"//anaconda/lib/python2.7/site-packages/lxml-3.3.5-py2.7-macosx-10.5-x86_64.egg/lxml/html/__init__.py\", line 706, in fromstring\n",
      "    doc = document_fromstring(html, parser=parser, base_url=base_url, **kw)\n",
      "  File \"//anaconda/lib/python2.7/site-packages/lxml-3.3.5-py2.7-macosx-10.5-x86_64.egg/lxml/html/__init__.py\", line 600, in document_fromstring\n",
      "    value = etree.fromstring(html, parser, **kw)\n",
      "  File \"lxml.etree.pyx\", line 3032, in lxml.etree.fromstring (src/lxml/lxml.etree.c:68121)\n",
      "  File \"parser.pxi\", line 1786, in lxml.etree._parseMemoryDocument (src/lxml/lxml.etree.c:102470)\n",
      "  File \"parser.pxi\", line 1667, in lxml.etree._parseDoc (src/lxml/lxml.etree.c:101229)\n",
      "  File \"parser.pxi\", line 1035, in lxml.etree._BaseParser._parseUnicodeDoc (src/lxml/lxml.etree.c:96139)\n",
      "  File \"parser.pxi\", line 582, in lxml.etree._ParserContext._handleParseResultDoc (src/lxml/lxml.etree.c:91290)\n",
      "  File \"parser.pxi\", line 683, in lxml.etree._handleParseResult (src/lxml/lxml.etree.c:92476)\n",
      "  File \"parser.pxi\", line 631, in lxml.etree._raiseParseError (src/lxml/lxml.etree.c:91904)\n",
      "XMLSyntaxError: line 156: Tag footer invalid\n",
      "Traceback (most recent call last):\n"
     ]
    },
    {
     "name": "stdout",
     "output_type": "stream",
     "text": [
      " You must download and parse an article before parsing it!\n",
      "3105"
     ]
    },
    {
     "name": "stderr",
     "output_type": "stream",
     "text": [
      "  File \"//anaconda/lib/python2.7/site-packages/newspaper-0.0.9.8-py2.7.egg/newspaper/parsers.py\", line 54, in fromstring\n",
      "    cls.doc = lxml.html.fromstring(html)\n",
      "  File \"//anaconda/lib/python2.7/site-packages/lxml-3.3.5-py2.7-macosx-10.5-x86_64.egg/lxml/html/__init__.py\", line 706, in fromstring\n",
      "    doc = document_fromstring(html, parser=parser, base_url=base_url, **kw)\n",
      "  File \"//anaconda/lib/python2.7/site-packages/lxml-3.3.5-py2.7-macosx-10.5-x86_64.egg/lxml/html/__init__.py\", line 600, in document_fromstring\n",
      "    value = etree.fromstring(html, parser, **kw)\n",
      "  File \"lxml.etree.pyx\", line 3032, in lxml.etree.fromstring (src/lxml/lxml.etree.c:68121)\n",
      "  File \"parser.pxi\", line 1786, in lxml.etree._parseMemoryDocument (src/lxml/lxml.etree.c:102470)\n",
      "  File \"parser.pxi\", line 1667, in lxml.etree._parseDoc (src/lxml/lxml.etree.c:101229)\n",
      "  File \"parser.pxi\", line 1035, in lxml.etree._BaseParser._parseUnicodeDoc (src/lxml/lxml.etree.c:96139)\n",
      "  File \"parser.pxi\", line 582, in lxml.etree._ParserContext._handleParseResultDoc (src/lxml/lxml.etree.c:91290)\n",
      "  File \"parser.pxi\", line 683, in lxml.etree._handleParseResult (src/lxml/lxml.etree.c:92476)\n",
      "  File \"parser.pxi\", line 631, in lxml.etree._raiseParseError (src/lxml/lxml.etree.c:91904)\n",
      "XMLSyntaxError: line 156: Tag footer invalid\n",
      "Traceback (most recent call last):\n"
     ]
    },
    {
     "name": "stdout",
     "output_type": "stream",
     "text": [
      " You must download and parse an article before parsing it!\n",
      "3252"
     ]
    },
    {
     "name": "stderr",
     "output_type": "stream",
     "text": [
      "  File \"//anaconda/lib/python2.7/site-packages/newspaper-0.0.9.8-py2.7.egg/newspaper/parsers.py\", line 54, in fromstring\n",
      "    cls.doc = lxml.html.fromstring(html)\n",
      "  File \"//anaconda/lib/python2.7/site-packages/lxml-3.3.5-py2.7-macosx-10.5-x86_64.egg/lxml/html/__init__.py\", line 706, in fromstring\n",
      "    doc = document_fromstring(html, parser=parser, base_url=base_url, **kw)\n",
      "  File \"//anaconda/lib/python2.7/site-packages/lxml-3.3.5-py2.7-macosx-10.5-x86_64.egg/lxml/html/__init__.py\", line 600, in document_fromstring\n",
      "    value = etree.fromstring(html, parser, **kw)\n",
      "  File \"lxml.etree.pyx\", line 3032, in lxml.etree.fromstring (src/lxml/lxml.etree.c:68121)\n",
      "  File \"parser.pxi\", line 1786, in lxml.etree._parseMemoryDocument (src/lxml/lxml.etree.c:102470)\n",
      "  File \"parser.pxi\", line 1667, in lxml.etree._parseDoc (src/lxml/lxml.etree.c:101229)\n",
      "  File \"parser.pxi\", line 1035, in lxml.etree._BaseParser._parseUnicodeDoc (src/lxml/lxml.etree.c:96139)\n",
      "  File \"parser.pxi\", line 582, in lxml.etree._ParserContext._handleParseResultDoc (src/lxml/lxml.etree.c:91290)\n",
      "  File \"parser.pxi\", line 683, in lxml.etree._handleParseResult (src/lxml/lxml.etree.c:92476)\n",
      "  File \"parser.pxi\", line 631, in lxml.etree._raiseParseError (src/lxml/lxml.etree.c:91904)\n",
      "XMLSyntaxError: line 156: Tag footer invalid\n",
      "Traceback (most recent call last):\n"
     ]
    },
    {
     "name": "stdout",
     "output_type": "stream",
     "text": [
      " You must download and parse an article before parsing it!\n",
      "3820"
     ]
    },
    {
     "name": "stderr",
     "output_type": "stream",
     "text": [
      "  File \"//anaconda/lib/python2.7/site-packages/newspaper-0.0.9.8-py2.7.egg/newspaper/parsers.py\", line 54, in fromstring\n",
      "    cls.doc = lxml.html.fromstring(html)\n",
      "  File \"//anaconda/lib/python2.7/site-packages/lxml-3.3.5-py2.7-macosx-10.5-x86_64.egg/lxml/html/__init__.py\", line 706, in fromstring\n",
      "    doc = document_fromstring(html, parser=parser, base_url=base_url, **kw)\n",
      "  File \"//anaconda/lib/python2.7/site-packages/lxml-3.3.5-py2.7-macosx-10.5-x86_64.egg/lxml/html/__init__.py\", line 600, in document_fromstring\n",
      "    value = etree.fromstring(html, parser, **kw)\n",
      "  File \"lxml.etree.pyx\", line 3032, in lxml.etree.fromstring (src/lxml/lxml.etree.c:68121)\n",
      "  File \"parser.pxi\", line 1786, in lxml.etree._parseMemoryDocument (src/lxml/lxml.etree.c:102470)\n",
      "  File \"parser.pxi\", line 1667, in lxml.etree._parseDoc (src/lxml/lxml.etree.c:101229)\n",
      "  File \"parser.pxi\", line 1035, in lxml.etree._BaseParser._parseUnicodeDoc (src/lxml/lxml.etree.c:96139)\n",
      "  File \"parser.pxi\", line 582, in lxml.etree._ParserContext._handleParseResultDoc (src/lxml/lxml.etree.c:91290)\n",
      "  File \"parser.pxi\", line 683, in lxml.etree._handleParseResult (src/lxml/lxml.etree.c:92476)\n",
      "  File \"parser.pxi\", line 631, in lxml.etree._raiseParseError (src/lxml/lxml.etree.c:91904)\n",
      "XMLSyntaxError: line 156: Tag footer invalid\n",
      "Traceback (most recent call last):\n"
     ]
    },
    {
     "name": "stdout",
     "output_type": "stream",
     "text": [
      " 4598 You must download and parse an article before parsing it!\n",
      "5124"
     ]
    },
    {
     "name": "stderr",
     "output_type": "stream",
     "text": [
      "  File \"//anaconda/lib/python2.7/site-packages/newspaper-0.0.9.8-py2.7.egg/newspaper/parsers.py\", line 54, in fromstring\n",
      "    cls.doc = lxml.html.fromstring(html)\n",
      "  File \"//anaconda/lib/python2.7/site-packages/lxml-3.3.5-py2.7-macosx-10.5-x86_64.egg/lxml/html/__init__.py\", line 706, in fromstring\n",
      "    doc = document_fromstring(html, parser=parser, base_url=base_url, **kw)\n",
      "  File \"//anaconda/lib/python2.7/site-packages/lxml-3.3.5-py2.7-macosx-10.5-x86_64.egg/lxml/html/__init__.py\", line 600, in document_fromstring\n",
      "    value = etree.fromstring(html, parser, **kw)\n",
      "  File \"lxml.etree.pyx\", line 3032, in lxml.etree.fromstring (src/lxml/lxml.etree.c:68121)\n",
      "  File \"parser.pxi\", line 1786, in lxml.etree._parseMemoryDocument (src/lxml/lxml.etree.c:102470)\n",
      "  File \"parser.pxi\", line 1667, in lxml.etree._parseDoc (src/lxml/lxml.etree.c:101229)\n",
      "  File \"parser.pxi\", line 1035, in lxml.etree._BaseParser._parseUnicodeDoc (src/lxml/lxml.etree.c:96139)\n",
      "  File \"parser.pxi\", line 582, in lxml.etree._ParserContext._handleParseResultDoc (src/lxml/lxml.etree.c:91290)\n",
      "  File \"parser.pxi\", line 683, in lxml.etree._handleParseResult (src/lxml/lxml.etree.c:92476)\n",
      "  File \"parser.pxi\", line 631, in lxml.etree._raiseParseError (src/lxml/lxml.etree.c:91904)\n",
      "XMLSyntaxError: line 1380: Element script embeds close tag\n",
      "Traceback (most recent call last):\n"
     ]
    },
    {
     "name": "stdout",
     "output_type": "stream",
     "text": [
      " You must download and parse an article before parsing it!\n",
      "7190"
     ]
    },
    {
     "name": "stderr",
     "output_type": "stream",
     "text": [
      "  File \"//anaconda/lib/python2.7/site-packages/newspaper-0.0.9.8-py2.7.egg/newspaper/parsers.py\", line 54, in fromstring\n",
      "    cls.doc = lxml.html.fromstring(html)\n",
      "  File \"//anaconda/lib/python2.7/site-packages/lxml-3.3.5-py2.7-macosx-10.5-x86_64.egg/lxml/html/__init__.py\", line 706, in fromstring\n",
      "    doc = document_fromstring(html, parser=parser, base_url=base_url, **kw)\n",
      "  File \"//anaconda/lib/python2.7/site-packages/lxml-3.3.5-py2.7-macosx-10.5-x86_64.egg/lxml/html/__init__.py\", line 600, in document_fromstring\n",
      "    value = etree.fromstring(html, parser, **kw)\n",
      "  File \"lxml.etree.pyx\", line 3032, in lxml.etree.fromstring (src/lxml/lxml.etree.c:68121)\n",
      "  File \"parser.pxi\", line 1786, in lxml.etree._parseMemoryDocument (src/lxml/lxml.etree.c:102470)\n",
      "  File \"parser.pxi\", line 1667, in lxml.etree._parseDoc (src/lxml/lxml.etree.c:101229)\n",
      "  File \"parser.pxi\", line 1035, in lxml.etree._BaseParser._parseUnicodeDoc (src/lxml/lxml.etree.c:96139)\n",
      "  File \"parser.pxi\", line 582, in lxml.etree._ParserContext._handleParseResultDoc (src/lxml/lxml.etree.c:91290)\n",
      "  File \"parser.pxi\", line 683, in lxml.etree._handleParseResult (src/lxml/lxml.etree.c:92476)\n",
      "  File \"parser.pxi\", line 631, in lxml.etree._raiseParseError (src/lxml/lxml.etree.c:91904)\n",
      "XMLSyntaxError: line 1380: Element script embeds close tag\n",
      "Traceback (most recent call last):\n"
     ]
    },
    {
     "name": "stdout",
     "output_type": "stream",
     "text": [
      " 7345 You must download and parse an article before parsing it!\n",
      "8329"
     ]
    },
    {
     "name": "stderr",
     "output_type": "stream",
     "text": [
      "  File \"//anaconda/lib/python2.7/site-packages/newspaper-0.0.9.8-py2.7.egg/newspaper/parsers.py\", line 54, in fromstring\n",
      "    cls.doc = lxml.html.fromstring(html)\n",
      "  File \"//anaconda/lib/python2.7/site-packages/lxml-3.3.5-py2.7-macosx-10.5-x86_64.egg/lxml/html/__init__.py\", line 706, in fromstring\n",
      "    doc = document_fromstring(html, parser=parser, base_url=base_url, **kw)\n",
      "  File \"//anaconda/lib/python2.7/site-packages/lxml-3.3.5-py2.7-macosx-10.5-x86_64.egg/lxml/html/__init__.py\", line 600, in document_fromstring\n",
      "    value = etree.fromstring(html, parser, **kw)\n",
      "  File \"lxml.etree.pyx\", line 3032, in lxml.etree.fromstring (src/lxml/lxml.etree.c:68121)\n",
      "  File \"parser.pxi\", line 1786, in lxml.etree._parseMemoryDocument (src/lxml/lxml.etree.c:102470)\n",
      "  File \"parser.pxi\", line 1667, in lxml.etree._parseDoc (src/lxml/lxml.etree.c:101229)\n",
      "  File \"parser.pxi\", line 1035, in lxml.etree._BaseParser._parseUnicodeDoc (src/lxml/lxml.etree.c:96139)\n",
      "  File \"parser.pxi\", line 582, in lxml.etree._ParserContext._handleParseResultDoc (src/lxml/lxml.etree.c:91290)\n",
      "  File \"parser.pxi\", line 683, in lxml.etree._handleParseResult (src/lxml/lxml.etree.c:92476)\n",
      "  File \"parser.pxi\", line 631, in lxml.etree._raiseParseError (src/lxml/lxml.etree.c:91904)\n",
      "XMLSyntaxError: line 412: Unexpected end tag : div\n",
      "Traceback (most recent call last):\n"
     ]
    },
    {
     "name": "stdout",
     "output_type": "stream",
     "text": [
      " You must download and parse an article before parsing it!\n",
      "8514"
     ]
    },
    {
     "name": "stderr",
     "output_type": "stream",
     "text": [
      "  File \"//anaconda/lib/python2.7/site-packages/newspaper-0.0.9.8-py2.7.egg/newspaper/parsers.py\", line 54, in fromstring\n",
      "    cls.doc = lxml.html.fromstring(html)\n",
      "  File \"//anaconda/lib/python2.7/site-packages/lxml-3.3.5-py2.7-macosx-10.5-x86_64.egg/lxml/html/__init__.py\", line 706, in fromstring\n",
      "    doc = document_fromstring(html, parser=parser, base_url=base_url, **kw)\n",
      "  File \"//anaconda/lib/python2.7/site-packages/lxml-3.3.5-py2.7-macosx-10.5-x86_64.egg/lxml/html/__init__.py\", line 600, in document_fromstring\n",
      "    value = etree.fromstring(html, parser, **kw)\n",
      "  File \"lxml.etree.pyx\", line 3032, in lxml.etree.fromstring (src/lxml/lxml.etree.c:68121)\n",
      "  File \"parser.pxi\", line 1786, in lxml.etree._parseMemoryDocument (src/lxml/lxml.etree.c:102470)\n",
      "  File \"parser.pxi\", line 1667, in lxml.etree._parseDoc (src/lxml/lxml.etree.c:101229)\n",
      "  File \"parser.pxi\", line 1035, in lxml.etree._BaseParser._parseUnicodeDoc (src/lxml/lxml.etree.c:96139)\n",
      "  File \"parser.pxi\", line 582, in lxml.etree._ParserContext._handleParseResultDoc (src/lxml/lxml.etree.c:91290)\n",
      "  File \"parser.pxi\", line 683, in lxml.etree._handleParseResult (src/lxml/lxml.etree.c:92476)\n",
      "  File \"parser.pxi\", line 631, in lxml.etree._raiseParseError (src/lxml/lxml.etree.c:91904)\n",
      "XMLSyntaxError: line 412: Unexpected end tag : div\n",
      "Traceback (most recent call last):\n"
     ]
    },
    {
     "name": "stdout",
     "output_type": "stream",
     "text": [
      " You must download and parse an article before parsing it!\n",
      "10171"
     ]
    },
    {
     "name": "stderr",
     "output_type": "stream",
     "text": [
      "  File \"//anaconda/lib/python2.7/site-packages/newspaper-0.0.9.8-py2.7.egg/newspaper/parsers.py\", line 54, in fromstring\n",
      "    cls.doc = lxml.html.fromstring(html)\n",
      "  File \"//anaconda/lib/python2.7/site-packages/lxml-3.3.5-py2.7-macosx-10.5-x86_64.egg/lxml/html/__init__.py\", line 706, in fromstring\n",
      "    doc = document_fromstring(html, parser=parser, base_url=base_url, **kw)\n",
      "  File \"//anaconda/lib/python2.7/site-packages/lxml-3.3.5-py2.7-macosx-10.5-x86_64.egg/lxml/html/__init__.py\", line 600, in document_fromstring\n",
      "    value = etree.fromstring(html, parser, **kw)\n",
      "  File \"lxml.etree.pyx\", line 3032, in lxml.etree.fromstring (src/lxml/lxml.etree.c:68121)\n",
      "  File \"parser.pxi\", line 1786, in lxml.etree._parseMemoryDocument (src/lxml/lxml.etree.c:102470)\n",
      "  File \"parser.pxi\", line 1667, in lxml.etree._parseDoc (src/lxml/lxml.etree.c:101229)\n",
      "  File \"parser.pxi\", line 1035, in lxml.etree._BaseParser._parseUnicodeDoc (src/lxml/lxml.etree.c:96139)\n",
      "  File \"parser.pxi\", line 582, in lxml.etree._ParserContext._handleParseResultDoc (src/lxml/lxml.etree.c:91290)\n",
      "  File \"parser.pxi\", line 683, in lxml.etree._handleParseResult (src/lxml/lxml.etree.c:92476)\n",
      "  File \"parser.pxi\", line 631, in lxml.etree._raiseParseError (src/lxml/lxml.etree.c:91904)\n",
      "XMLSyntaxError: line 412: Unexpected end tag : div\n",
      "Traceback (most recent call last):\n"
     ]
    },
    {
     "name": "stdout",
     "output_type": "stream",
     "text": [
      " You must download and parse an article before parsing it!\n",
      "12071"
     ]
    },
    {
     "name": "stderr",
     "output_type": "stream",
     "text": [
      "  File \"//anaconda/lib/python2.7/site-packages/newspaper-0.0.9.8-py2.7.egg/newspaper/parsers.py\", line 54, in fromstring\n",
      "    cls.doc = lxml.html.fromstring(html)\n",
      "  File \"//anaconda/lib/python2.7/site-packages/lxml-3.3.5-py2.7-macosx-10.5-x86_64.egg/lxml/html/__init__.py\", line 706, in fromstring\n",
      "    doc = document_fromstring(html, parser=parser, base_url=base_url, **kw)\n",
      "  File \"//anaconda/lib/python2.7/site-packages/lxml-3.3.5-py2.7-macosx-10.5-x86_64.egg/lxml/html/__init__.py\", line 600, in document_fromstring\n",
      "    value = etree.fromstring(html, parser, **kw)\n",
      "  File \"lxml.etree.pyx\", line 3032, in lxml.etree.fromstring (src/lxml/lxml.etree.c:68121)\n",
      "  File \"parser.pxi\", line 1786, in lxml.etree._parseMemoryDocument (src/lxml/lxml.etree.c:102470)\n",
      "  File \"parser.pxi\", line 1667, in lxml.etree._parseDoc (src/lxml/lxml.etree.c:101229)\n",
      "  File \"parser.pxi\", line 1035, in lxml.etree._BaseParser._parseUnicodeDoc (src/lxml/lxml.etree.c:96139)\n",
      "  File \"parser.pxi\", line 582, in lxml.etree._ParserContext._handleParseResultDoc (src/lxml/lxml.etree.c:91290)\n",
      "  File \"parser.pxi\", line 683, in lxml.etree._handleParseResult (src/lxml/lxml.etree.c:92476)\n",
      "  File \"parser.pxi\", line 631, in lxml.etree._raiseParseError (src/lxml/lxml.etree.c:91904)\n",
      "XMLSyntaxError: line 412: Unexpected end tag : div\n",
      "Traceback (most recent call last):\n"
     ]
    },
    {
     "name": "stdout",
     "output_type": "stream",
     "text": [
      " You must download and parse an article before parsing it!\n",
      "12340"
     ]
    },
    {
     "name": "stderr",
     "output_type": "stream",
     "text": [
      "  File \"//anaconda/lib/python2.7/site-packages/newspaper-0.0.9.8-py2.7.egg/newspaper/parsers.py\", line 54, in fromstring\n",
      "    cls.doc = lxml.html.fromstring(html)\n",
      "  File \"//anaconda/lib/python2.7/site-packages/lxml-3.3.5-py2.7-macosx-10.5-x86_64.egg/lxml/html/__init__.py\", line 706, in fromstring\n",
      "    doc = document_fromstring(html, parser=parser, base_url=base_url, **kw)\n",
      "  File \"//anaconda/lib/python2.7/site-packages/lxml-3.3.5-py2.7-macosx-10.5-x86_64.egg/lxml/html/__init__.py\", line 600, in document_fromstring\n",
      "    value = etree.fromstring(html, parser, **kw)\n",
      "  File \"lxml.etree.pyx\", line 3032, in lxml.etree.fromstring (src/lxml/lxml.etree.c:68121)\n",
      "  File \"parser.pxi\", line 1786, in lxml.etree._parseMemoryDocument (src/lxml/lxml.etree.c:102470)\n",
      "  File \"parser.pxi\", line 1667, in lxml.etree._parseDoc (src/lxml/lxml.etree.c:101229)\n",
      "  File \"parser.pxi\", line 1035, in lxml.etree._BaseParser._parseUnicodeDoc (src/lxml/lxml.etree.c:96139)\n",
      "  File \"parser.pxi\", line 582, in lxml.etree._ParserContext._handleParseResultDoc (src/lxml/lxml.etree.c:91290)\n",
      "  File \"parser.pxi\", line 683, in lxml.etree._handleParseResult (src/lxml/lxml.etree.c:92476)\n",
      "  File \"parser.pxi\", line 631, in lxml.etree._raiseParseError (src/lxml/lxml.etree.c:91904)\n",
      "XMLSyntaxError: line 412: Unexpected end tag : div\n",
      "Traceback (most recent call last):\n"
     ]
    },
    {
     "name": "stdout",
     "output_type": "stream",
     "text": [
      " You must download and parse an article before parsing it!\n",
      "13278"
     ]
    },
    {
     "name": "stderr",
     "output_type": "stream",
     "text": [
      "  File \"//anaconda/lib/python2.7/site-packages/newspaper-0.0.9.8-py2.7.egg/newspaper/parsers.py\", line 54, in fromstring\n",
      "    cls.doc = lxml.html.fromstring(html)\n",
      "  File \"//anaconda/lib/python2.7/site-packages/lxml-3.3.5-py2.7-macosx-10.5-x86_64.egg/lxml/html/__init__.py\", line 706, in fromstring\n",
      "    doc = document_fromstring(html, parser=parser, base_url=base_url, **kw)\n",
      "  File \"//anaconda/lib/python2.7/site-packages/lxml-3.3.5-py2.7-macosx-10.5-x86_64.egg/lxml/html/__init__.py\", line 600, in document_fromstring\n",
      "    value = etree.fromstring(html, parser, **kw)\n",
      "  File \"lxml.etree.pyx\", line 3032, in lxml.etree.fromstring (src/lxml/lxml.etree.c:68121)\n",
      "  File \"parser.pxi\", line 1786, in lxml.etree._parseMemoryDocument (src/lxml/lxml.etree.c:102470)\n",
      "  File \"parser.pxi\", line 1667, in lxml.etree._parseDoc (src/lxml/lxml.etree.c:101229)\n",
      "  File \"parser.pxi\", line 1035, in lxml.etree._BaseParser._parseUnicodeDoc (src/lxml/lxml.etree.c:96139)\n",
      "  File \"parser.pxi\", line 582, in lxml.etree._ParserContext._handleParseResultDoc (src/lxml/lxml.etree.c:91290)\n",
      "  File \"parser.pxi\", line 683, in lxml.etree._handleParseResult (src/lxml/lxml.etree.c:92476)\n",
      "  File \"parser.pxi\", line 631, in lxml.etree._raiseParseError (src/lxml/lxml.etree.c:91904)\n",
      "XMLSyntaxError: line 412: Unexpected end tag : div\n",
      "Traceback (most recent call last):\n"
     ]
    },
    {
     "name": "stdout",
     "output_type": "stream",
     "text": [
      " You must download and parse an article before parsing it!\n",
      "13310"
     ]
    },
    {
     "name": "stderr",
     "output_type": "stream",
     "text": [
      "  File \"//anaconda/lib/python2.7/site-packages/newspaper-0.0.9.8-py2.7.egg/newspaper/parsers.py\", line 54, in fromstring\n",
      "    cls.doc = lxml.html.fromstring(html)\n",
      "  File \"//anaconda/lib/python2.7/site-packages/lxml-3.3.5-py2.7-macosx-10.5-x86_64.egg/lxml/html/__init__.py\", line 706, in fromstring\n",
      "    doc = document_fromstring(html, parser=parser, base_url=base_url, **kw)\n",
      "  File \"//anaconda/lib/python2.7/site-packages/lxml-3.3.5-py2.7-macosx-10.5-x86_64.egg/lxml/html/__init__.py\", line 600, in document_fromstring\n",
      "    value = etree.fromstring(html, parser, **kw)\n",
      "  File \"lxml.etree.pyx\", line 3032, in lxml.etree.fromstring (src/lxml/lxml.etree.c:68121)\n",
      "  File \"parser.pxi\", line 1786, in lxml.etree._parseMemoryDocument (src/lxml/lxml.etree.c:102470)\n",
      "  File \"parser.pxi\", line 1667, in lxml.etree._parseDoc (src/lxml/lxml.etree.c:101229)\n",
      "  File \"parser.pxi\", line 1035, in lxml.etree._BaseParser._parseUnicodeDoc (src/lxml/lxml.etree.c:96139)\n",
      "  File \"parser.pxi\", line 582, in lxml.etree._ParserContext._handleParseResultDoc (src/lxml/lxml.etree.c:91290)\n",
      "  File \"parser.pxi\", line 683, in lxml.etree._handleParseResult (src/lxml/lxml.etree.c:92476)\n",
      "  File \"parser.pxi\", line 631, in lxml.etree._raiseParseError (src/lxml/lxml.etree.c:91904)\n",
      "XMLSyntaxError: line 412: Unexpected end tag : div\n",
      "Traceback (most recent call last):\n"
     ]
    },
    {
     "name": "stdout",
     "output_type": "stream",
     "text": [
      " You must download and parse an article before parsing it!\n",
      "14987"
     ]
    },
    {
     "name": "stderr",
     "output_type": "stream",
     "text": [
      "  File \"//anaconda/lib/python2.7/site-packages/newspaper-0.0.9.8-py2.7.egg/newspaper/parsers.py\", line 54, in fromstring\n",
      "    cls.doc = lxml.html.fromstring(html)\n",
      "  File \"//anaconda/lib/python2.7/site-packages/lxml-3.3.5-py2.7-macosx-10.5-x86_64.egg/lxml/html/__init__.py\", line 706, in fromstring\n",
      "    doc = document_fromstring(html, parser=parser, base_url=base_url, **kw)\n",
      "  File \"//anaconda/lib/python2.7/site-packages/lxml-3.3.5-py2.7-macosx-10.5-x86_64.egg/lxml/html/__init__.py\", line 600, in document_fromstring\n",
      "    value = etree.fromstring(html, parser, **kw)\n",
      "  File \"lxml.etree.pyx\", line 3032, in lxml.etree.fromstring (src/lxml/lxml.etree.c:68121)\n",
      "  File \"parser.pxi\", line 1786, in lxml.etree._parseMemoryDocument (src/lxml/lxml.etree.c:102470)\n",
      "  File \"parser.pxi\", line 1667, in lxml.etree._parseDoc (src/lxml/lxml.etree.c:101229)\n",
      "  File \"parser.pxi\", line 1035, in lxml.etree._BaseParser._parseUnicodeDoc (src/lxml/lxml.etree.c:96139)\n",
      "  File \"parser.pxi\", line 582, in lxml.etree._ParserContext._handleParseResultDoc (src/lxml/lxml.etree.c:91290)\n",
      "  File \"parser.pxi\", line 683, in lxml.etree._handleParseResult (src/lxml/lxml.etree.c:92476)\n",
      "  File \"parser.pxi\", line 631, in lxml.etree._raiseParseError (src/lxml/lxml.etree.c:91904)\n",
      "XMLSyntaxError: line 412: Unexpected end tag : div\n",
      "Traceback (most recent call last):\n"
     ]
    },
    {
     "name": "stdout",
     "output_type": "stream",
     "text": [
      " You must download and parse an article before parsing it!\n",
      "15237"
     ]
    },
    {
     "name": "stderr",
     "output_type": "stream",
     "text": [
      "  File \"//anaconda/lib/python2.7/site-packages/newspaper-0.0.9.8-py2.7.egg/newspaper/parsers.py\", line 54, in fromstring\n",
      "    cls.doc = lxml.html.fromstring(html)\n",
      "  File \"//anaconda/lib/python2.7/site-packages/lxml-3.3.5-py2.7-macosx-10.5-x86_64.egg/lxml/html/__init__.py\", line 706, in fromstring\n",
      "    doc = document_fromstring(html, parser=parser, base_url=base_url, **kw)\n",
      "  File \"//anaconda/lib/python2.7/site-packages/lxml-3.3.5-py2.7-macosx-10.5-x86_64.egg/lxml/html/__init__.py\", line 600, in document_fromstring\n",
      "    value = etree.fromstring(html, parser, **kw)\n",
      "  File \"lxml.etree.pyx\", line 3032, in lxml.etree.fromstring (src/lxml/lxml.etree.c:68121)\n",
      "  File \"parser.pxi\", line 1786, in lxml.etree._parseMemoryDocument (src/lxml/lxml.etree.c:102470)\n",
      "  File \"parser.pxi\", line 1667, in lxml.etree._parseDoc (src/lxml/lxml.etree.c:101229)\n",
      "  File \"parser.pxi\", line 1035, in lxml.etree._BaseParser._parseUnicodeDoc (src/lxml/lxml.etree.c:96139)\n",
      "  File \"parser.pxi\", line 582, in lxml.etree._ParserContext._handleParseResultDoc (src/lxml/lxml.etree.c:91290)\n",
      "  File \"parser.pxi\", line 683, in lxml.etree._handleParseResult (src/lxml/lxml.etree.c:92476)\n",
      "  File \"parser.pxi\", line 631, in lxml.etree._raiseParseError (src/lxml/lxml.etree.c:91904)\n",
      "XMLSyntaxError: line 412: Unexpected end tag : div\n",
      "Traceback (most recent call last):\n"
     ]
    },
    {
     "name": "stdout",
     "output_type": "stream",
     "text": [
      " You must download and parse an article before parsing it!\n",
      "15339"
     ]
    },
    {
     "name": "stderr",
     "output_type": "stream",
     "text": [
      "  File \"//anaconda/lib/python2.7/site-packages/newspaper-0.0.9.8-py2.7.egg/newspaper/parsers.py\", line 54, in fromstring\n",
      "    cls.doc = lxml.html.fromstring(html)\n",
      "  File \"//anaconda/lib/python2.7/site-packages/lxml-3.3.5-py2.7-macosx-10.5-x86_64.egg/lxml/html/__init__.py\", line 706, in fromstring\n",
      "    doc = document_fromstring(html, parser=parser, base_url=base_url, **kw)\n",
      "  File \"//anaconda/lib/python2.7/site-packages/lxml-3.3.5-py2.7-macosx-10.5-x86_64.egg/lxml/html/__init__.py\", line 600, in document_fromstring\n",
      "    value = etree.fromstring(html, parser, **kw)\n",
      "  File \"lxml.etree.pyx\", line 3032, in lxml.etree.fromstring (src/lxml/lxml.etree.c:68121)\n",
      "  File \"parser.pxi\", line 1786, in lxml.etree._parseMemoryDocument (src/lxml/lxml.etree.c:102470)\n",
      "  File \"parser.pxi\", line 1667, in lxml.etree._parseDoc (src/lxml/lxml.etree.c:101229)\n",
      "  File \"parser.pxi\", line 1035, in lxml.etree._BaseParser._parseUnicodeDoc (src/lxml/lxml.etree.c:96139)\n",
      "  File \"parser.pxi\", line 582, in lxml.etree._ParserContext._handleParseResultDoc (src/lxml/lxml.etree.c:91290)\n",
      "  File \"parser.pxi\", line 683, in lxml.etree._handleParseResult (src/lxml/lxml.etree.c:92476)\n",
      "  File \"parser.pxi\", line 631, in lxml.etree._raiseParseError (src/lxml/lxml.etree.c:91904)\n",
      "XMLSyntaxError: line 412: Unexpected end tag : div\n",
      "Traceback (most recent call last):\n"
     ]
    },
    {
     "name": "stdout",
     "output_type": "stream",
     "text": [
      " You must download and parse an article before parsing it!\n",
      "17677"
     ]
    },
    {
     "name": "stderr",
     "output_type": "stream",
     "text": [
      "  File \"//anaconda/lib/python2.7/site-packages/newspaper-0.0.9.8-py2.7.egg/newspaper/parsers.py\", line 54, in fromstring\n",
      "    cls.doc = lxml.html.fromstring(html)\n",
      "  File \"//anaconda/lib/python2.7/site-packages/lxml-3.3.5-py2.7-macosx-10.5-x86_64.egg/lxml/html/__init__.py\", line 706, in fromstring\n",
      "    doc = document_fromstring(html, parser=parser, base_url=base_url, **kw)\n",
      "  File \"//anaconda/lib/python2.7/site-packages/lxml-3.3.5-py2.7-macosx-10.5-x86_64.egg/lxml/html/__init__.py\", line 600, in document_fromstring\n",
      "    value = etree.fromstring(html, parser, **kw)\n",
      "  File \"lxml.etree.pyx\", line 3032, in lxml.etree.fromstring (src/lxml/lxml.etree.c:68121)\n",
      "  File \"parser.pxi\", line 1786, in lxml.etree._parseMemoryDocument (src/lxml/lxml.etree.c:102470)\n",
      "  File \"parser.pxi\", line 1667, in lxml.etree._parseDoc (src/lxml/lxml.etree.c:101229)\n",
      "  File \"parser.pxi\", line 1035, in lxml.etree._BaseParser._parseUnicodeDoc (src/lxml/lxml.etree.c:96139)\n",
      "  File \"parser.pxi\", line 582, in lxml.etree._ParserContext._handleParseResultDoc (src/lxml/lxml.etree.c:91290)\n",
      "  File \"parser.pxi\", line 683, in lxml.etree._handleParseResult (src/lxml/lxml.etree.c:92476)\n",
      "  File \"parser.pxi\", line 631, in lxml.etree._raiseParseError (src/lxml/lxml.etree.c:91904)\n",
      "XMLSyntaxError: line 412: Unexpected end tag : div\n",
      "Traceback (most recent call last):\n"
     ]
    },
    {
     "name": "stdout",
     "output_type": "stream",
     "text": [
      " You must download and parse an article before parsing it!\n",
      "17764"
     ]
    },
    {
     "name": "stderr",
     "output_type": "stream",
     "text": [
      "  File \"//anaconda/lib/python2.7/site-packages/newspaper-0.0.9.8-py2.7.egg/newspaper/parsers.py\", line 54, in fromstring\n",
      "    cls.doc = lxml.html.fromstring(html)\n",
      "  File \"//anaconda/lib/python2.7/site-packages/lxml-3.3.5-py2.7-macosx-10.5-x86_64.egg/lxml/html/__init__.py\", line 706, in fromstring\n",
      "    doc = document_fromstring(html, parser=parser, base_url=base_url, **kw)\n",
      "  File \"//anaconda/lib/python2.7/site-packages/lxml-3.3.5-py2.7-macosx-10.5-x86_64.egg/lxml/html/__init__.py\", line 600, in document_fromstring\n",
      "    value = etree.fromstring(html, parser, **kw)\n",
      "  File \"lxml.etree.pyx\", line 3032, in lxml.etree.fromstring (src/lxml/lxml.etree.c:68121)\n",
      "  File \"parser.pxi\", line 1786, in lxml.etree._parseMemoryDocument (src/lxml/lxml.etree.c:102470)\n",
      "  File \"parser.pxi\", line 1667, in lxml.etree._parseDoc (src/lxml/lxml.etree.c:101229)\n",
      "  File \"parser.pxi\", line 1035, in lxml.etree._BaseParser._parseUnicodeDoc (src/lxml/lxml.etree.c:96139)\n",
      "  File \"parser.pxi\", line 582, in lxml.etree._ParserContext._handleParseResultDoc (src/lxml/lxml.etree.c:91290)\n",
      "  File \"parser.pxi\", line 683, in lxml.etree._handleParseResult (src/lxml/lxml.etree.c:92476)\n",
      "  File \"parser.pxi\", line 631, in lxml.etree._raiseParseError (src/lxml/lxml.etree.c:91904)\n",
      "XMLSyntaxError: line 412: Unexpected end tag : div\n",
      "Traceback (most recent call last):\n"
     ]
    },
    {
     "name": "stdout",
     "output_type": "stream",
     "text": [
      " You must download and parse an article before parsing it!\n",
      "20951"
     ]
    },
    {
     "name": "stderr",
     "output_type": "stream",
     "text": [
      "  File \"//anaconda/lib/python2.7/site-packages/newspaper-0.0.9.8-py2.7.egg/newspaper/parsers.py\", line 54, in fromstring\n",
      "    cls.doc = lxml.html.fromstring(html)\n",
      "  File \"//anaconda/lib/python2.7/site-packages/lxml-3.3.5-py2.7-macosx-10.5-x86_64.egg/lxml/html/__init__.py\", line 706, in fromstring\n",
      "    doc = document_fromstring(html, parser=parser, base_url=base_url, **kw)\n",
      "  File \"//anaconda/lib/python2.7/site-packages/lxml-3.3.5-py2.7-macosx-10.5-x86_64.egg/lxml/html/__init__.py\", line 600, in document_fromstring\n",
      "    value = etree.fromstring(html, parser, **kw)\n",
      "  File \"lxml.etree.pyx\", line 3032, in lxml.etree.fromstring (src/lxml/lxml.etree.c:68121)\n",
      "  File \"parser.pxi\", line 1786, in lxml.etree._parseMemoryDocument (src/lxml/lxml.etree.c:102470)\n",
      "  File \"parser.pxi\", line 1667, in lxml.etree._parseDoc (src/lxml/lxml.etree.c:101229)\n",
      "  File \"parser.pxi\", line 1035, in lxml.etree._BaseParser._parseUnicodeDoc (src/lxml/lxml.etree.c:96139)\n",
      "  File \"parser.pxi\", line 582, in lxml.etree._ParserContext._handleParseResultDoc (src/lxml/lxml.etree.c:91290)\n",
      "  File \"parser.pxi\", line 683, in lxml.etree._handleParseResult (src/lxml/lxml.etree.c:92476)\n",
      "  File \"parser.pxi\", line 631, in lxml.etree._raiseParseError (src/lxml/lxml.etree.c:91904)\n",
      "XMLSyntaxError: line 412: Unexpected end tag : div\n",
      "Traceback (most recent call last):\n"
     ]
    },
    {
     "name": "stdout",
     "output_type": "stream",
     "text": [
      " You must download and parse an article before parsing it!\n",
      "21824"
     ]
    },
    {
     "name": "stderr",
     "output_type": "stream",
     "text": [
      "  File \"//anaconda/lib/python2.7/site-packages/newspaper-0.0.9.8-py2.7.egg/newspaper/parsers.py\", line 54, in fromstring\n",
      "    cls.doc = lxml.html.fromstring(html)\n",
      "  File \"//anaconda/lib/python2.7/site-packages/lxml-3.3.5-py2.7-macosx-10.5-x86_64.egg/lxml/html/__init__.py\", line 706, in fromstring\n",
      "    doc = document_fromstring(html, parser=parser, base_url=base_url, **kw)\n",
      "  File \"//anaconda/lib/python2.7/site-packages/lxml-3.3.5-py2.7-macosx-10.5-x86_64.egg/lxml/html/__init__.py\", line 600, in document_fromstring\n",
      "    value = etree.fromstring(html, parser, **kw)\n",
      "  File \"lxml.etree.pyx\", line 3032, in lxml.etree.fromstring (src/lxml/lxml.etree.c:68121)\n",
      "  File \"parser.pxi\", line 1786, in lxml.etree._parseMemoryDocument (src/lxml/lxml.etree.c:102470)\n",
      "  File \"parser.pxi\", line 1667, in lxml.etree._parseDoc (src/lxml/lxml.etree.c:101229)\n",
      "  File \"parser.pxi\", line 1035, in lxml.etree._BaseParser._parseUnicodeDoc (src/lxml/lxml.etree.c:96139)\n",
      "  File \"parser.pxi\", line 582, in lxml.etree._ParserContext._handleParseResultDoc (src/lxml/lxml.etree.c:91290)\n",
      "  File \"parser.pxi\", line 683, in lxml.etree._handleParseResult (src/lxml/lxml.etree.c:92476)\n",
      "  File \"parser.pxi\", line 631, in lxml.etree._raiseParseError (src/lxml/lxml.etree.c:91904)\n",
      "XMLSyntaxError: line 412: Unexpected end tag : div\n",
      "Traceback (most recent call last):\n"
     ]
    },
    {
     "name": "stdout",
     "output_type": "stream",
     "text": [
      " You must download and parse an article before parsing it!\n",
      "21943"
     ]
    },
    {
     "name": "stderr",
     "output_type": "stream",
     "text": [
      "  File \"//anaconda/lib/python2.7/site-packages/newspaper-0.0.9.8-py2.7.egg/newspaper/parsers.py\", line 54, in fromstring\n",
      "    cls.doc = lxml.html.fromstring(html)\n",
      "  File \"//anaconda/lib/python2.7/site-packages/lxml-3.3.5-py2.7-macosx-10.5-x86_64.egg/lxml/html/__init__.py\", line 706, in fromstring\n",
      "    doc = document_fromstring(html, parser=parser, base_url=base_url, **kw)\n",
      "  File \"//anaconda/lib/python2.7/site-packages/lxml-3.3.5-py2.7-macosx-10.5-x86_64.egg/lxml/html/__init__.py\", line 600, in document_fromstring\n",
      "    value = etree.fromstring(html, parser, **kw)\n",
      "  File \"lxml.etree.pyx\", line 3032, in lxml.etree.fromstring (src/lxml/lxml.etree.c:68121)\n",
      "  File \"parser.pxi\", line 1786, in lxml.etree._parseMemoryDocument (src/lxml/lxml.etree.c:102470)\n",
      "  File \"parser.pxi\", line 1667, in lxml.etree._parseDoc (src/lxml/lxml.etree.c:101229)\n",
      "  File \"parser.pxi\", line 1035, in lxml.etree._BaseParser._parseUnicodeDoc (src/lxml/lxml.etree.c:96139)\n",
      "  File \"parser.pxi\", line 582, in lxml.etree._ParserContext._handleParseResultDoc (src/lxml/lxml.etree.c:91290)\n",
      "  File \"parser.pxi\", line 683, in lxml.etree._handleParseResult (src/lxml/lxml.etree.c:92476)\n",
      "  File \"parser.pxi\", line 631, in lxml.etree._raiseParseError (src/lxml/lxml.etree.c:91904)\n",
      "XMLSyntaxError: line 412: Unexpected end tag : div\n",
      "Traceback (most recent call last):\n"
     ]
    },
    {
     "name": "stdout",
     "output_type": "stream",
     "text": [
      " 23206 You must download and parse an article before parsing it!\n",
      "23611"
     ]
    },
    {
     "name": "stderr",
     "output_type": "stream",
     "text": [
      "  File \"//anaconda/lib/python2.7/site-packages/newspaper-0.0.9.8-py2.7.egg/newspaper/parsers.py\", line 54, in fromstring\n",
      "    cls.doc = lxml.html.fromstring(html)\n",
      "  File \"//anaconda/lib/python2.7/site-packages/lxml-3.3.5-py2.7-macosx-10.5-x86_64.egg/lxml/html/__init__.py\", line 706, in fromstring\n",
      "    doc = document_fromstring(html, parser=parser, base_url=base_url, **kw)\n",
      "  File \"//anaconda/lib/python2.7/site-packages/lxml-3.3.5-py2.7-macosx-10.5-x86_64.egg/lxml/html/__init__.py\", line 600, in document_fromstring\n",
      "    value = etree.fromstring(html, parser, **kw)\n",
      "  File \"lxml.etree.pyx\", line 3032, in lxml.etree.fromstring (src/lxml/lxml.etree.c:68121)\n",
      "  File \"parser.pxi\", line 1786, in lxml.etree._parseMemoryDocument (src/lxml/lxml.etree.c:102470)\n",
      "  File \"parser.pxi\", line 1667, in lxml.etree._parseDoc (src/lxml/lxml.etree.c:101229)\n",
      "  File \"parser.pxi\", line 1035, in lxml.etree._BaseParser._parseUnicodeDoc (src/lxml/lxml.etree.c:96139)\n",
      "  File \"parser.pxi\", line 582, in lxml.etree._ParserContext._handleParseResultDoc (src/lxml/lxml.etree.c:91290)\n",
      "  File \"parser.pxi\", line 683, in lxml.etree._handleParseResult (src/lxml/lxml.etree.c:92476)\n",
      "  File \"parser.pxi\", line 631, in lxml.etree._raiseParseError (src/lxml/lxml.etree.c:91904)\n",
      "XMLSyntaxError: line 1373: htmlParseEntityRef: expecting ';'\n",
      "Traceback (most recent call last):\n"
     ]
    },
    {
     "name": "stdout",
     "output_type": "stream",
     "text": [
      " You must download and parse an article before parsing it!\n",
      "23950"
     ]
    },
    {
     "name": "stderr",
     "output_type": "stream",
     "text": [
      "  File \"//anaconda/lib/python2.7/site-packages/newspaper-0.0.9.8-py2.7.egg/newspaper/parsers.py\", line 54, in fromstring\n",
      "    cls.doc = lxml.html.fromstring(html)\n",
      "  File \"//anaconda/lib/python2.7/site-packages/lxml-3.3.5-py2.7-macosx-10.5-x86_64.egg/lxml/html/__init__.py\", line 706, in fromstring\n",
      "    doc = document_fromstring(html, parser=parser, base_url=base_url, **kw)\n",
      "  File \"//anaconda/lib/python2.7/site-packages/lxml-3.3.5-py2.7-macosx-10.5-x86_64.egg/lxml/html/__init__.py\", line 600, in document_fromstring\n",
      "    value = etree.fromstring(html, parser, **kw)\n",
      "  File \"lxml.etree.pyx\", line 3032, in lxml.etree.fromstring (src/lxml/lxml.etree.c:68121)\n",
      "  File \"parser.pxi\", line 1786, in lxml.etree._parseMemoryDocument (src/lxml/lxml.etree.c:102470)\n",
      "  File \"parser.pxi\", line 1667, in lxml.etree._parseDoc (src/lxml/lxml.etree.c:101229)\n",
      "  File \"parser.pxi\", line 1035, in lxml.etree._BaseParser._parseUnicodeDoc (src/lxml/lxml.etree.c:96139)\n",
      "  File \"parser.pxi\", line 582, in lxml.etree._ParserContext._handleParseResultDoc (src/lxml/lxml.etree.c:91290)\n",
      "  File \"parser.pxi\", line 683, in lxml.etree._handleParseResult (src/lxml/lxml.etree.c:92476)\n",
      "  File \"parser.pxi\", line 631, in lxml.etree._raiseParseError (src/lxml/lxml.etree.c:91904)\n",
      "XMLSyntaxError: line 1373: htmlParseEntityRef: expecting ';'\n",
      "Traceback (most recent call last):\n"
     ]
    },
    {
     "name": "stdout",
     "output_type": "stream",
     "text": [
      " You must download and parse an article before parsing it!\n",
      "25508"
     ]
    },
    {
     "name": "stderr",
     "output_type": "stream",
     "text": [
      "  File \"//anaconda/lib/python2.7/site-packages/newspaper-0.0.9.8-py2.7.egg/newspaper/parsers.py\", line 54, in fromstring\n",
      "    cls.doc = lxml.html.fromstring(html)\n",
      "  File \"//anaconda/lib/python2.7/site-packages/lxml-3.3.5-py2.7-macosx-10.5-x86_64.egg/lxml/html/__init__.py\", line 706, in fromstring\n",
      "    doc = document_fromstring(html, parser=parser, base_url=base_url, **kw)\n",
      "  File \"//anaconda/lib/python2.7/site-packages/lxml-3.3.5-py2.7-macosx-10.5-x86_64.egg/lxml/html/__init__.py\", line 600, in document_fromstring\n",
      "    value = etree.fromstring(html, parser, **kw)\n",
      "  File \"lxml.etree.pyx\", line 3032, in lxml.etree.fromstring (src/lxml/lxml.etree.c:68121)\n",
      "  File \"parser.pxi\", line 1786, in lxml.etree._parseMemoryDocument (src/lxml/lxml.etree.c:102470)\n",
      "  File \"parser.pxi\", line 1667, in lxml.etree._parseDoc (src/lxml/lxml.etree.c:101229)\n",
      "  File \"parser.pxi\", line 1035, in lxml.etree._BaseParser._parseUnicodeDoc (src/lxml/lxml.etree.c:96139)\n",
      "  File \"parser.pxi\", line 582, in lxml.etree._ParserContext._handleParseResultDoc (src/lxml/lxml.etree.c:91290)\n",
      "  File \"parser.pxi\", line 683, in lxml.etree._handleParseResult (src/lxml/lxml.etree.c:92476)\n",
      "  File \"parser.pxi\", line 631, in lxml.etree._raiseParseError (src/lxml/lxml.etree.c:91904)\n",
      "XMLSyntaxError: line 1373: htmlParseEntityRef: expecting ';'\n",
      "Traceback (most recent call last):\n"
     ]
    },
    {
     "name": "stdout",
     "output_type": "stream",
     "text": [
      " You must download and parse an article before parsing it!\n",
      "28854"
     ]
    },
    {
     "name": "stderr",
     "output_type": "stream",
     "text": [
      "  File \"//anaconda/lib/python2.7/site-packages/newspaper-0.0.9.8-py2.7.egg/newspaper/parsers.py\", line 54, in fromstring\n",
      "    cls.doc = lxml.html.fromstring(html)\n",
      "  File \"//anaconda/lib/python2.7/site-packages/lxml-3.3.5-py2.7-macosx-10.5-x86_64.egg/lxml/html/__init__.py\", line 706, in fromstring\n",
      "    doc = document_fromstring(html, parser=parser, base_url=base_url, **kw)\n",
      "  File \"//anaconda/lib/python2.7/site-packages/lxml-3.3.5-py2.7-macosx-10.5-x86_64.egg/lxml/html/__init__.py\", line 600, in document_fromstring\n",
      "    value = etree.fromstring(html, parser, **kw)\n",
      "  File \"lxml.etree.pyx\", line 3032, in lxml.etree.fromstring (src/lxml/lxml.etree.c:68121)\n",
      "  File \"parser.pxi\", line 1786, in lxml.etree._parseMemoryDocument (src/lxml/lxml.etree.c:102470)\n",
      "  File \"parser.pxi\", line 1667, in lxml.etree._parseDoc (src/lxml/lxml.etree.c:101229)\n",
      "  File \"parser.pxi\", line 1035, in lxml.etree._BaseParser._parseUnicodeDoc (src/lxml/lxml.etree.c:96139)\n",
      "  File \"parser.pxi\", line 582, in lxml.etree._ParserContext._handleParseResultDoc (src/lxml/lxml.etree.c:91290)\n",
      "  File \"parser.pxi\", line 683, in lxml.etree._handleParseResult (src/lxml/lxml.etree.c:92476)\n",
      "  File \"parser.pxi\", line 631, in lxml.etree._raiseParseError (src/lxml/lxml.etree.c:91904)\n",
      "XMLSyntaxError: line 1373: htmlParseEntityRef: expecting ';'\n",
      "Traceback (most recent call last):\n"
     ]
    },
    {
     "name": "stdout",
     "output_type": "stream",
     "text": [
      " You must download and parse an article before parsing it!\n",
      "29162"
     ]
    },
    {
     "name": "stderr",
     "output_type": "stream",
     "text": [
      "  File \"//anaconda/lib/python2.7/site-packages/newspaper-0.0.9.8-py2.7.egg/newspaper/parsers.py\", line 54, in fromstring\n",
      "    cls.doc = lxml.html.fromstring(html)\n",
      "  File \"//anaconda/lib/python2.7/site-packages/lxml-3.3.5-py2.7-macosx-10.5-x86_64.egg/lxml/html/__init__.py\", line 706, in fromstring\n",
      "    doc = document_fromstring(html, parser=parser, base_url=base_url, **kw)\n",
      "  File \"//anaconda/lib/python2.7/site-packages/lxml-3.3.5-py2.7-macosx-10.5-x86_64.egg/lxml/html/__init__.py\", line 600, in document_fromstring\n",
      "    value = etree.fromstring(html, parser, **kw)\n",
      "  File \"lxml.etree.pyx\", line 3032, in lxml.etree.fromstring (src/lxml/lxml.etree.c:68121)\n",
      "  File \"parser.pxi\", line 1786, in lxml.etree._parseMemoryDocument (src/lxml/lxml.etree.c:102470)\n",
      "  File \"parser.pxi\", line 1667, in lxml.etree._parseDoc (src/lxml/lxml.etree.c:101229)\n",
      "  File \"parser.pxi\", line 1035, in lxml.etree._BaseParser._parseUnicodeDoc (src/lxml/lxml.etree.c:96139)\n",
      "  File \"parser.pxi\", line 582, in lxml.etree._ParserContext._handleParseResultDoc (src/lxml/lxml.etree.c:91290)\n",
      "  File \"parser.pxi\", line 683, in lxml.etree._handleParseResult (src/lxml/lxml.etree.c:92476)\n",
      "  File \"parser.pxi\", line 631, in lxml.etree._raiseParseError (src/lxml/lxml.etree.c:91904)\n",
      "XMLSyntaxError: line 1373: htmlParseEntityRef: expecting ';'\n",
      "Traceback (most recent call last):\n"
     ]
    },
    {
     "name": "stdout",
     "output_type": "stream",
     "text": [
      " You must download and parse an article before parsing it!\n",
      "29756"
     ]
    },
    {
     "name": "stderr",
     "output_type": "stream",
     "text": [
      "  File \"//anaconda/lib/python2.7/site-packages/newspaper-0.0.9.8-py2.7.egg/newspaper/parsers.py\", line 54, in fromstring\n",
      "    cls.doc = lxml.html.fromstring(html)\n",
      "  File \"//anaconda/lib/python2.7/site-packages/lxml-3.3.5-py2.7-macosx-10.5-x86_64.egg/lxml/html/__init__.py\", line 706, in fromstring\n",
      "    doc = document_fromstring(html, parser=parser, base_url=base_url, **kw)\n",
      "  File \"//anaconda/lib/python2.7/site-packages/lxml-3.3.5-py2.7-macosx-10.5-x86_64.egg/lxml/html/__init__.py\", line 600, in document_fromstring\n",
      "    value = etree.fromstring(html, parser, **kw)\n",
      "  File \"lxml.etree.pyx\", line 3032, in lxml.etree.fromstring (src/lxml/lxml.etree.c:68121)\n",
      "  File \"parser.pxi\", line 1786, in lxml.etree._parseMemoryDocument (src/lxml/lxml.etree.c:102470)\n",
      "  File \"parser.pxi\", line 1667, in lxml.etree._parseDoc (src/lxml/lxml.etree.c:101229)\n",
      "  File \"parser.pxi\", line 1035, in lxml.etree._BaseParser._parseUnicodeDoc (src/lxml/lxml.etree.c:96139)\n",
      "  File \"parser.pxi\", line 582, in lxml.etree._ParserContext._handleParseResultDoc (src/lxml/lxml.etree.c:91290)\n",
      "  File \"parser.pxi\", line 683, in lxml.etree._handleParseResult (src/lxml/lxml.etree.c:92476)\n",
      "  File \"parser.pxi\", line 631, in lxml.etree._raiseParseError (src/lxml/lxml.etree.c:91904)\n",
      "XMLSyntaxError: line 1373: htmlParseEntityRef: expecting ';'\n",
      "Traceback (most recent call last):\n"
     ]
    },
    {
     "name": "stdout",
     "output_type": "stream",
     "text": [
      " You must download and parse an article before parsing it!\n",
      "29784"
     ]
    },
    {
     "name": "stderr",
     "output_type": "stream",
     "text": [
      "  File \"//anaconda/lib/python2.7/site-packages/newspaper-0.0.9.8-py2.7.egg/newspaper/parsers.py\", line 54, in fromstring\n",
      "    cls.doc = lxml.html.fromstring(html)\n",
      "  File \"//anaconda/lib/python2.7/site-packages/lxml-3.3.5-py2.7-macosx-10.5-x86_64.egg/lxml/html/__init__.py\", line 706, in fromstring\n",
      "    doc = document_fromstring(html, parser=parser, base_url=base_url, **kw)\n",
      "  File \"//anaconda/lib/python2.7/site-packages/lxml-3.3.5-py2.7-macosx-10.5-x86_64.egg/lxml/html/__init__.py\", line 600, in document_fromstring\n",
      "    value = etree.fromstring(html, parser, **kw)\n",
      "  File \"lxml.etree.pyx\", line 3032, in lxml.etree.fromstring (src/lxml/lxml.etree.c:68121)\n",
      "  File \"parser.pxi\", line 1786, in lxml.etree._parseMemoryDocument (src/lxml/lxml.etree.c:102470)\n",
      "  File \"parser.pxi\", line 1667, in lxml.etree._parseDoc (src/lxml/lxml.etree.c:101229)\n",
      "  File \"parser.pxi\", line 1035, in lxml.etree._BaseParser._parseUnicodeDoc (src/lxml/lxml.etree.c:96139)\n",
      "  File \"parser.pxi\", line 582, in lxml.etree._ParserContext._handleParseResultDoc (src/lxml/lxml.etree.c:91290)\n",
      "  File \"parser.pxi\", line 683, in lxml.etree._handleParseResult (src/lxml/lxml.etree.c:92476)\n",
      "  File \"parser.pxi\", line 631, in lxml.etree._raiseParseError (src/lxml/lxml.etree.c:91904)\n",
      "XMLSyntaxError: line 1373: htmlParseEntityRef: expecting ';'\n",
      "Traceback (most recent call last):\n"
     ]
    },
    {
     "name": "stdout",
     "output_type": "stream",
     "text": [
      " You must download and parse an article before parsing it!\n",
      "30765"
     ]
    },
    {
     "name": "stderr",
     "output_type": "stream",
     "text": [
      "  File \"//anaconda/lib/python2.7/site-packages/newspaper-0.0.9.8-py2.7.egg/newspaper/parsers.py\", line 54, in fromstring\n",
      "    cls.doc = lxml.html.fromstring(html)\n",
      "  File \"//anaconda/lib/python2.7/site-packages/lxml-3.3.5-py2.7-macosx-10.5-x86_64.egg/lxml/html/__init__.py\", line 706, in fromstring\n",
      "    doc = document_fromstring(html, parser=parser, base_url=base_url, **kw)\n",
      "  File \"//anaconda/lib/python2.7/site-packages/lxml-3.3.5-py2.7-macosx-10.5-x86_64.egg/lxml/html/__init__.py\", line 600, in document_fromstring\n",
      "    value = etree.fromstring(html, parser, **kw)\n",
      "  File \"lxml.etree.pyx\", line 3032, in lxml.etree.fromstring (src/lxml/lxml.etree.c:68121)\n",
      "  File \"parser.pxi\", line 1786, in lxml.etree._parseMemoryDocument (src/lxml/lxml.etree.c:102470)\n",
      "  File \"parser.pxi\", line 1667, in lxml.etree._parseDoc (src/lxml/lxml.etree.c:101229)\n",
      "  File \"parser.pxi\", line 1035, in lxml.etree._BaseParser._parseUnicodeDoc (src/lxml/lxml.etree.c:96139)\n",
      "  File \"parser.pxi\", line 582, in lxml.etree._ParserContext._handleParseResultDoc (src/lxml/lxml.etree.c:91290)\n",
      "  File \"parser.pxi\", line 683, in lxml.etree._handleParseResult (src/lxml/lxml.etree.c:92476)\n",
      "  File \"parser.pxi\", line 631, in lxml.etree._raiseParseError (src/lxml/lxml.etree.c:91904)\n",
      "XMLSyntaxError: line 1373: htmlParseEntityRef: expecting ';'\n",
      "Traceback (most recent call last):\n"
     ]
    },
    {
     "name": "stdout",
     "output_type": "stream",
     "text": [
      " You must download and parse an article before parsing it!\n",
      "32116"
     ]
    },
    {
     "name": "stderr",
     "output_type": "stream",
     "text": [
      "  File \"//anaconda/lib/python2.7/site-packages/newspaper-0.0.9.8-py2.7.egg/newspaper/parsers.py\", line 54, in fromstring\n",
      "    cls.doc = lxml.html.fromstring(html)\n",
      "  File \"//anaconda/lib/python2.7/site-packages/lxml-3.3.5-py2.7-macosx-10.5-x86_64.egg/lxml/html/__init__.py\", line 706, in fromstring\n",
      "    doc = document_fromstring(html, parser=parser, base_url=base_url, **kw)\n",
      "  File \"//anaconda/lib/python2.7/site-packages/lxml-3.3.5-py2.7-macosx-10.5-x86_64.egg/lxml/html/__init__.py\", line 600, in document_fromstring\n",
      "    value = etree.fromstring(html, parser, **kw)\n",
      "  File \"lxml.etree.pyx\", line 3032, in lxml.etree.fromstring (src/lxml/lxml.etree.c:68121)\n",
      "  File \"parser.pxi\", line 1786, in lxml.etree._parseMemoryDocument (src/lxml/lxml.etree.c:102470)\n",
      "  File \"parser.pxi\", line 1667, in lxml.etree._parseDoc (src/lxml/lxml.etree.c:101229)\n",
      "  File \"parser.pxi\", line 1035, in lxml.etree._BaseParser._parseUnicodeDoc (src/lxml/lxml.etree.c:96139)\n",
      "  File \"parser.pxi\", line 582, in lxml.etree._ParserContext._handleParseResultDoc (src/lxml/lxml.etree.c:91290)\n",
      "  File \"parser.pxi\", line 683, in lxml.etree._handleParseResult (src/lxml/lxml.etree.c:92476)\n",
      "  File \"parser.pxi\", line 631, in lxml.etree._raiseParseError (src/lxml/lxml.etree.c:91904)\n",
      "XMLSyntaxError: line 1373: htmlParseEntityRef: expecting ';'\n",
      "Traceback (most recent call last):\n"
     ]
    },
    {
     "name": "stdout",
     "output_type": "stream",
     "text": [
      " You must download and parse an article before parsing it!\n",
      "32352"
     ]
    },
    {
     "name": "stderr",
     "output_type": "stream",
     "text": [
      "  File \"//anaconda/lib/python2.7/site-packages/newspaper-0.0.9.8-py2.7.egg/newspaper/parsers.py\", line 54, in fromstring\n",
      "    cls.doc = lxml.html.fromstring(html)\n",
      "  File \"//anaconda/lib/python2.7/site-packages/lxml-3.3.5-py2.7-macosx-10.5-x86_64.egg/lxml/html/__init__.py\", line 706, in fromstring\n",
      "    doc = document_fromstring(html, parser=parser, base_url=base_url, **kw)\n",
      "  File \"//anaconda/lib/python2.7/site-packages/lxml-3.3.5-py2.7-macosx-10.5-x86_64.egg/lxml/html/__init__.py\", line 600, in document_fromstring\n",
      "    value = etree.fromstring(html, parser, **kw)\n",
      "  File \"lxml.etree.pyx\", line 3032, in lxml.etree.fromstring (src/lxml/lxml.etree.c:68121)\n",
      "  File \"parser.pxi\", line 1786, in lxml.etree._parseMemoryDocument (src/lxml/lxml.etree.c:102470)\n",
      "  File \"parser.pxi\", line 1667, in lxml.etree._parseDoc (src/lxml/lxml.etree.c:101229)\n",
      "  File \"parser.pxi\", line 1035, in lxml.etree._BaseParser._parseUnicodeDoc (src/lxml/lxml.etree.c:96139)\n",
      "  File \"parser.pxi\", line 582, in lxml.etree._ParserContext._handleParseResultDoc (src/lxml/lxml.etree.c:91290)\n",
      "  File \"parser.pxi\", line 683, in lxml.etree._handleParseResult (src/lxml/lxml.etree.c:92476)\n",
      "  File \"parser.pxi\", line 631, in lxml.etree._raiseParseError (src/lxml/lxml.etree.c:91904)\n",
      "XMLSyntaxError: line 1373: htmlParseEntityRef: expecting ';'\n",
      "Traceback (most recent call last):\n"
     ]
    },
    {
     "name": "stdout",
     "output_type": "stream",
     "text": [
      " You must download and parse an article before parsing it!\n",
      "32632"
     ]
    },
    {
     "name": "stderr",
     "output_type": "stream",
     "text": [
      "  File \"//anaconda/lib/python2.7/site-packages/newspaper-0.0.9.8-py2.7.egg/newspaper/parsers.py\", line 54, in fromstring\n",
      "    cls.doc = lxml.html.fromstring(html)\n",
      "  File \"//anaconda/lib/python2.7/site-packages/lxml-3.3.5-py2.7-macosx-10.5-x86_64.egg/lxml/html/__init__.py\", line 706, in fromstring\n",
      "    doc = document_fromstring(html, parser=parser, base_url=base_url, **kw)\n",
      "  File \"//anaconda/lib/python2.7/site-packages/lxml-3.3.5-py2.7-macosx-10.5-x86_64.egg/lxml/html/__init__.py\", line 600, in document_fromstring\n",
      "    value = etree.fromstring(html, parser, **kw)\n",
      "  File \"lxml.etree.pyx\", line 3032, in lxml.etree.fromstring (src/lxml/lxml.etree.c:68121)\n",
      "  File \"parser.pxi\", line 1786, in lxml.etree._parseMemoryDocument (src/lxml/lxml.etree.c:102470)\n",
      "  File \"parser.pxi\", line 1667, in lxml.etree._parseDoc (src/lxml/lxml.etree.c:101229)\n",
      "  File \"parser.pxi\", line 1035, in lxml.etree._BaseParser._parseUnicodeDoc (src/lxml/lxml.etree.c:96139)\n",
      "  File \"parser.pxi\", line 582, in lxml.etree._ParserContext._handleParseResultDoc (src/lxml/lxml.etree.c:91290)\n",
      "  File \"parser.pxi\", line 683, in lxml.etree._handleParseResult (src/lxml/lxml.etree.c:92476)\n",
      "  File \"parser.pxi\", line 631, in lxml.etree._raiseParseError (src/lxml/lxml.etree.c:91904)\n",
      "XMLSyntaxError: line 1373: htmlParseEntityRef: expecting ';'\n",
      "Traceback (most recent call last):\n"
     ]
    },
    {
     "name": "stdout",
     "output_type": "stream",
     "text": [
      " You must download and parse an article before parsing it!\n",
      "32994"
     ]
    },
    {
     "name": "stderr",
     "output_type": "stream",
     "text": [
      "  File \"//anaconda/lib/python2.7/site-packages/newspaper-0.0.9.8-py2.7.egg/newspaper/parsers.py\", line 54, in fromstring\n",
      "    cls.doc = lxml.html.fromstring(html)\n",
      "  File \"//anaconda/lib/python2.7/site-packages/lxml-3.3.5-py2.7-macosx-10.5-x86_64.egg/lxml/html/__init__.py\", line 706, in fromstring\n",
      "    doc = document_fromstring(html, parser=parser, base_url=base_url, **kw)\n",
      "  File \"//anaconda/lib/python2.7/site-packages/lxml-3.3.5-py2.7-macosx-10.5-x86_64.egg/lxml/html/__init__.py\", line 600, in document_fromstring\n",
      "    value = etree.fromstring(html, parser, **kw)\n",
      "  File \"lxml.etree.pyx\", line 3032, in lxml.etree.fromstring (src/lxml/lxml.etree.c:68121)\n",
      "  File \"parser.pxi\", line 1786, in lxml.etree._parseMemoryDocument (src/lxml/lxml.etree.c:102470)\n",
      "  File \"parser.pxi\", line 1667, in lxml.etree._parseDoc (src/lxml/lxml.etree.c:101229)\n",
      "  File \"parser.pxi\", line 1035, in lxml.etree._BaseParser._parseUnicodeDoc (src/lxml/lxml.etree.c:96139)\n",
      "  File \"parser.pxi\", line 582, in lxml.etree._ParserContext._handleParseResultDoc (src/lxml/lxml.etree.c:91290)\n",
      "  File \"parser.pxi\", line 683, in lxml.etree._handleParseResult (src/lxml/lxml.etree.c:92476)\n",
      "  File \"parser.pxi\", line 631, in lxml.etree._raiseParseError (src/lxml/lxml.etree.c:91904)\n",
      "XMLSyntaxError: line 1373: htmlParseEntityRef: expecting ';'\n",
      "Traceback (most recent call last):\n"
     ]
    },
    {
     "name": "stdout",
     "output_type": "stream",
     "text": [
      " You must download and parse an article before parsing it!\n",
      "33223"
     ]
    },
    {
     "name": "stderr",
     "output_type": "stream",
     "text": [
      "  File \"//anaconda/lib/python2.7/site-packages/newspaper-0.0.9.8-py2.7.egg/newspaper/parsers.py\", line 54, in fromstring\n",
      "    cls.doc = lxml.html.fromstring(html)\n",
      "  File \"//anaconda/lib/python2.7/site-packages/lxml-3.3.5-py2.7-macosx-10.5-x86_64.egg/lxml/html/__init__.py\", line 706, in fromstring\n",
      "    doc = document_fromstring(html, parser=parser, base_url=base_url, **kw)\n",
      "  File \"//anaconda/lib/python2.7/site-packages/lxml-3.3.5-py2.7-macosx-10.5-x86_64.egg/lxml/html/__init__.py\", line 600, in document_fromstring\n",
      "    value = etree.fromstring(html, parser, **kw)\n",
      "  File \"lxml.etree.pyx\", line 3032, in lxml.etree.fromstring (src/lxml/lxml.etree.c:68121)\n",
      "  File \"parser.pxi\", line 1786, in lxml.etree._parseMemoryDocument (src/lxml/lxml.etree.c:102470)\n",
      "  File \"parser.pxi\", line 1667, in lxml.etree._parseDoc (src/lxml/lxml.etree.c:101229)\n",
      "  File \"parser.pxi\", line 1035, in lxml.etree._BaseParser._parseUnicodeDoc (src/lxml/lxml.etree.c:96139)\n",
      "  File \"parser.pxi\", line 582, in lxml.etree._ParserContext._handleParseResultDoc (src/lxml/lxml.etree.c:91290)\n",
      "  File \"parser.pxi\", line 683, in lxml.etree._handleParseResult (src/lxml/lxml.etree.c:92476)\n",
      "  File \"parser.pxi\", line 631, in lxml.etree._raiseParseError (src/lxml/lxml.etree.c:91904)\n",
      "XMLSyntaxError: line 1373: htmlParseEntityRef: expecting ';'\n",
      "Traceback (most recent call last):\n"
     ]
    },
    {
     "name": "stdout",
     "output_type": "stream",
     "text": [
      " You must download and parse an article before parsing it!\n",
      "33642"
     ]
    },
    {
     "name": "stderr",
     "output_type": "stream",
     "text": [
      "  File \"//anaconda/lib/python2.7/site-packages/newspaper-0.0.9.8-py2.7.egg/newspaper/parsers.py\", line 54, in fromstring\n",
      "    cls.doc = lxml.html.fromstring(html)\n",
      "  File \"//anaconda/lib/python2.7/site-packages/lxml-3.3.5-py2.7-macosx-10.5-x86_64.egg/lxml/html/__init__.py\", line 706, in fromstring\n",
      "    doc = document_fromstring(html, parser=parser, base_url=base_url, **kw)\n",
      "  File \"//anaconda/lib/python2.7/site-packages/lxml-3.3.5-py2.7-macosx-10.5-x86_64.egg/lxml/html/__init__.py\", line 600, in document_fromstring\n",
      "    value = etree.fromstring(html, parser, **kw)\n",
      "  File \"lxml.etree.pyx\", line 3032, in lxml.etree.fromstring (src/lxml/lxml.etree.c:68121)\n",
      "  File \"parser.pxi\", line 1786, in lxml.etree._parseMemoryDocument (src/lxml/lxml.etree.c:102470)\n",
      "  File \"parser.pxi\", line 1667, in lxml.etree._parseDoc (src/lxml/lxml.etree.c:101229)\n",
      "  File \"parser.pxi\", line 1035, in lxml.etree._BaseParser._parseUnicodeDoc (src/lxml/lxml.etree.c:96139)\n",
      "  File \"parser.pxi\", line 582, in lxml.etree._ParserContext._handleParseResultDoc (src/lxml/lxml.etree.c:91290)\n",
      "  File \"parser.pxi\", line 683, in lxml.etree._handleParseResult (src/lxml/lxml.etree.c:92476)\n",
      "  File \"parser.pxi\", line 631, in lxml.etree._raiseParseError (src/lxml/lxml.etree.c:91904)\n",
      "XMLSyntaxError: line 1373: htmlParseEntityRef: expecting ';'\n",
      "Traceback (most recent call last):\n"
     ]
    },
    {
     "name": "stdout",
     "output_type": "stream",
     "text": [
      " You must download and parse an article before parsing it!\n",
      "33830"
     ]
    },
    {
     "name": "stderr",
     "output_type": "stream",
     "text": [
      "  File \"//anaconda/lib/python2.7/site-packages/newspaper-0.0.9.8-py2.7.egg/newspaper/parsers.py\", line 54, in fromstring\n",
      "    cls.doc = lxml.html.fromstring(html)\n",
      "  File \"//anaconda/lib/python2.7/site-packages/lxml-3.3.5-py2.7-macosx-10.5-x86_64.egg/lxml/html/__init__.py\", line 706, in fromstring\n",
      "    doc = document_fromstring(html, parser=parser, base_url=base_url, **kw)\n",
      "  File \"//anaconda/lib/python2.7/site-packages/lxml-3.3.5-py2.7-macosx-10.5-x86_64.egg/lxml/html/__init__.py\", line 600, in document_fromstring\n",
      "    value = etree.fromstring(html, parser, **kw)\n",
      "  File \"lxml.etree.pyx\", line 3032, in lxml.etree.fromstring (src/lxml/lxml.etree.c:68121)\n",
      "  File \"parser.pxi\", line 1786, in lxml.etree._parseMemoryDocument (src/lxml/lxml.etree.c:102470)\n",
      "  File \"parser.pxi\", line 1667, in lxml.etree._parseDoc (src/lxml/lxml.etree.c:101229)\n",
      "  File \"parser.pxi\", line 1035, in lxml.etree._BaseParser._parseUnicodeDoc (src/lxml/lxml.etree.c:96139)\n",
      "  File \"parser.pxi\", line 582, in lxml.etree._ParserContext._handleParseResultDoc (src/lxml/lxml.etree.c:91290)\n",
      "  File \"parser.pxi\", line 683, in lxml.etree._handleParseResult (src/lxml/lxml.etree.c:92476)\n",
      "  File \"parser.pxi\", line 631, in lxml.etree._raiseParseError (src/lxml/lxml.etree.c:91904)\n",
      "XMLSyntaxError: line 1373: htmlParseEntityRef: expecting ';'\n",
      "Traceback (most recent call last):\n"
     ]
    },
    {
     "name": "stdout",
     "output_type": "stream",
     "text": [
      " You must download and parse an article before parsing it!\n",
      "35659"
     ]
    },
    {
     "name": "stderr",
     "output_type": "stream",
     "text": [
      "  File \"//anaconda/lib/python2.7/site-packages/newspaper-0.0.9.8-py2.7.egg/newspaper/parsers.py\", line 54, in fromstring\n",
      "    cls.doc = lxml.html.fromstring(html)\n",
      "  File \"//anaconda/lib/python2.7/site-packages/lxml-3.3.5-py2.7-macosx-10.5-x86_64.egg/lxml/html/__init__.py\", line 706, in fromstring\n",
      "    doc = document_fromstring(html, parser=parser, base_url=base_url, **kw)\n",
      "  File \"//anaconda/lib/python2.7/site-packages/lxml-3.3.5-py2.7-macosx-10.5-x86_64.egg/lxml/html/__init__.py\", line 600, in document_fromstring\n",
      "    value = etree.fromstring(html, parser, **kw)\n",
      "  File \"lxml.etree.pyx\", line 3032, in lxml.etree.fromstring (src/lxml/lxml.etree.c:68121)\n",
      "  File \"parser.pxi\", line 1786, in lxml.etree._parseMemoryDocument (src/lxml/lxml.etree.c:102470)\n",
      "  File \"parser.pxi\", line 1667, in lxml.etree._parseDoc (src/lxml/lxml.etree.c:101229)\n",
      "  File \"parser.pxi\", line 1035, in lxml.etree._BaseParser._parseUnicodeDoc (src/lxml/lxml.etree.c:96139)\n",
      "  File \"parser.pxi\", line 582, in lxml.etree._ParserContext._handleParseResultDoc (src/lxml/lxml.etree.c:91290)\n",
      "  File \"parser.pxi\", line 683, in lxml.etree._handleParseResult (src/lxml/lxml.etree.c:92476)\n",
      "  File \"parser.pxi\", line 631, in lxml.etree._raiseParseError (src/lxml/lxml.etree.c:91904)\n",
      "XMLSyntaxError: line 1373: htmlParseEntityRef: expecting ';'\n",
      "Traceback (most recent call last):\n"
     ]
    },
    {
     "name": "stdout",
     "output_type": "stream",
     "text": [
      " You must download and parse an article before parsing it!\n",
      "36295"
     ]
    },
    {
     "name": "stderr",
     "output_type": "stream",
     "text": [
      "  File \"//anaconda/lib/python2.7/site-packages/newspaper-0.0.9.8-py2.7.egg/newspaper/parsers.py\", line 54, in fromstring\n",
      "    cls.doc = lxml.html.fromstring(html)\n",
      "  File \"//anaconda/lib/python2.7/site-packages/lxml-3.3.5-py2.7-macosx-10.5-x86_64.egg/lxml/html/__init__.py\", line 706, in fromstring\n",
      "    doc = document_fromstring(html, parser=parser, base_url=base_url, **kw)\n",
      "  File \"//anaconda/lib/python2.7/site-packages/lxml-3.3.5-py2.7-macosx-10.5-x86_64.egg/lxml/html/__init__.py\", line 600, in document_fromstring\n",
      "    value = etree.fromstring(html, parser, **kw)\n",
      "  File \"lxml.etree.pyx\", line 3032, in lxml.etree.fromstring (src/lxml/lxml.etree.c:68121)\n",
      "  File \"parser.pxi\", line 1786, in lxml.etree._parseMemoryDocument (src/lxml/lxml.etree.c:102470)\n",
      "  File \"parser.pxi\", line 1667, in lxml.etree._parseDoc (src/lxml/lxml.etree.c:101229)\n",
      "  File \"parser.pxi\", line 1035, in lxml.etree._BaseParser._parseUnicodeDoc (src/lxml/lxml.etree.c:96139)\n",
      "  File \"parser.pxi\", line 582, in lxml.etree._ParserContext._handleParseResultDoc (src/lxml/lxml.etree.c:91290)\n",
      "  File \"parser.pxi\", line 683, in lxml.etree._handleParseResult (src/lxml/lxml.etree.c:92476)\n",
      "  File \"parser.pxi\", line 631, in lxml.etree._raiseParseError (src/lxml/lxml.etree.c:91904)\n",
      "XMLSyntaxError: line 1373: htmlParseEntityRef: expecting ';'\n",
      "Traceback (most recent call last):\n"
     ]
    },
    {
     "name": "stdout",
     "output_type": "stream",
     "text": [
      " You must download and parse an article before parsing it!\n",
      "39980"
     ]
    },
    {
     "name": "stderr",
     "output_type": "stream",
     "text": [
      "  File \"//anaconda/lib/python2.7/site-packages/newspaper-0.0.9.8-py2.7.egg/newspaper/parsers.py\", line 54, in fromstring\n",
      "    cls.doc = lxml.html.fromstring(html)\n",
      "  File \"//anaconda/lib/python2.7/site-packages/lxml-3.3.5-py2.7-macosx-10.5-x86_64.egg/lxml/html/__init__.py\", line 706, in fromstring\n",
      "    doc = document_fromstring(html, parser=parser, base_url=base_url, **kw)\n",
      "  File \"//anaconda/lib/python2.7/site-packages/lxml-3.3.5-py2.7-macosx-10.5-x86_64.egg/lxml/html/__init__.py\", line 600, in document_fromstring\n",
      "    value = etree.fromstring(html, parser, **kw)\n",
      "  File \"lxml.etree.pyx\", line 3032, in lxml.etree.fromstring (src/lxml/lxml.etree.c:68121)\n",
      "  File \"parser.pxi\", line 1786, in lxml.etree._parseMemoryDocument (src/lxml/lxml.etree.c:102470)\n",
      "  File \"parser.pxi\", line 1667, in lxml.etree._parseDoc (src/lxml/lxml.etree.c:101229)\n",
      "  File \"parser.pxi\", line 1035, in lxml.etree._BaseParser._parseUnicodeDoc (src/lxml/lxml.etree.c:96139)\n",
      "  File \"parser.pxi\", line 582, in lxml.etree._ParserContext._handleParseResultDoc (src/lxml/lxml.etree.c:91290)\n",
      "  File \"parser.pxi\", line 683, in lxml.etree._handleParseResult (src/lxml/lxml.etree.c:92476)\n",
      "  File \"parser.pxi\", line 631, in lxml.etree._raiseParseError (src/lxml/lxml.etree.c:91904)\n",
      "XMLSyntaxError: line 1373: htmlParseEntityRef: expecting ';'\n",
      "Traceback (most recent call last):\n"
     ]
    },
    {
     "name": "stdout",
     "output_type": "stream",
     "text": [
      " You must download and parse an article before parsing it!\n",
      "42056"
     ]
    },
    {
     "name": "stderr",
     "output_type": "stream",
     "text": [
      "  File \"//anaconda/lib/python2.7/site-packages/newspaper-0.0.9.8-py2.7.egg/newspaper/parsers.py\", line 54, in fromstring\n",
      "    cls.doc = lxml.html.fromstring(html)\n",
      "  File \"//anaconda/lib/python2.7/site-packages/lxml-3.3.5-py2.7-macosx-10.5-x86_64.egg/lxml/html/__init__.py\", line 706, in fromstring\n",
      "    doc = document_fromstring(html, parser=parser, base_url=base_url, **kw)\n",
      "  File \"//anaconda/lib/python2.7/site-packages/lxml-3.3.5-py2.7-macosx-10.5-x86_64.egg/lxml/html/__init__.py\", line 600, in document_fromstring\n",
      "    value = etree.fromstring(html, parser, **kw)\n",
      "  File \"lxml.etree.pyx\", line 3032, in lxml.etree.fromstring (src/lxml/lxml.etree.c:68121)\n",
      "  File \"parser.pxi\", line 1786, in lxml.etree._parseMemoryDocument (src/lxml/lxml.etree.c:102470)\n",
      "  File \"parser.pxi\", line 1667, in lxml.etree._parseDoc (src/lxml/lxml.etree.c:101229)\n",
      "  File \"parser.pxi\", line 1035, in lxml.etree._BaseParser._parseUnicodeDoc (src/lxml/lxml.etree.c:96139)\n",
      "  File \"parser.pxi\", line 582, in lxml.etree._ParserContext._handleParseResultDoc (src/lxml/lxml.etree.c:91290)\n",
      "  File \"parser.pxi\", line 683, in lxml.etree._handleParseResult (src/lxml/lxml.etree.c:92476)\n",
      "  File \"parser.pxi\", line 631, in lxml.etree._raiseParseError (src/lxml/lxml.etree.c:91904)\n",
      "XMLSyntaxError: line 1373: htmlParseEntityRef: expecting ';'\n",
      "Traceback (most recent call last):\n"
     ]
    },
    {
     "name": "stdout",
     "output_type": "stream",
     "text": [
      " You must download and parse an article before parsing it!\n",
      "42066 "
     ]
    },
    {
     "name": "stderr",
     "output_type": "stream",
     "text": [
      "  File \"//anaconda/lib/python2.7/site-packages/newspaper-0.0.9.8-py2.7.egg/newspaper/parsers.py\", line 54, in fromstring\n",
      "    cls.doc = lxml.html.fromstring(html)\n",
      "  File \"//anaconda/lib/python2.7/site-packages/lxml-3.3.5-py2.7-macosx-10.5-x86_64.egg/lxml/html/__init__.py\", line 706, in fromstring\n",
      "    doc = document_fromstring(html, parser=parser, base_url=base_url, **kw)\n",
      "  File \"//anaconda/lib/python2.7/site-packages/lxml-3.3.5-py2.7-macosx-10.5-x86_64.egg/lxml/html/__init__.py\", line 600, in document_fromstring\n",
      "    value = etree.fromstring(html, parser, **kw)\n",
      "  File \"lxml.etree.pyx\", line 3032, in lxml.etree.fromstring (src/lxml/lxml.etree.c:68121)\n",
      "  File \"parser.pxi\", line 1786, in lxml.etree._parseMemoryDocument (src/lxml/lxml.etree.c:102470)\n",
      "  File \"parser.pxi\", line 1667, in lxml.etree._parseDoc (src/lxml/lxml.etree.c:101229)\n",
      "  File \"parser.pxi\", line 1035, in lxml.etree._BaseParser._parseUnicodeDoc (src/lxml/lxml.etree.c:96139)\n",
      "  File \"parser.pxi\", line 582, in lxml.etree._ParserContext._handleParseResultDoc (src/lxml/lxml.etree.c:91290)\n",
      "  File \"parser.pxi\", line 683, in lxml.etree._handleParseResult (src/lxml/lxml.etree.c:92476)\n",
      "  File \"parser.pxi\", line 631, in lxml.etree._raiseParseError (src/lxml/lxml.etree.c:91904)\n",
      "XMLSyntaxError: line 1373: htmlParseEntityRef: expecting ';'\n",
      "Traceback (most recent call last):\n"
     ]
    },
    {
     "name": "stdout",
     "output_type": "stream",
     "text": [
      "42208 You must download and parse an article before parsing it!\n",
      "46712"
     ]
    },
    {
     "name": "stderr",
     "output_type": "stream",
     "text": [
      "  File \"//anaconda/lib/python2.7/site-packages/newspaper-0.0.9.8-py2.7.egg/newspaper/parsers.py\", line 54, in fromstring\n",
      "    cls.doc = lxml.html.fromstring(html)\n",
      "  File \"//anaconda/lib/python2.7/site-packages/lxml-3.3.5-py2.7-macosx-10.5-x86_64.egg/lxml/html/__init__.py\", line 706, in fromstring\n",
      "    doc = document_fromstring(html, parser=parser, base_url=base_url, **kw)\n",
      "  File \"//anaconda/lib/python2.7/site-packages/lxml-3.3.5-py2.7-macosx-10.5-x86_64.egg/lxml/html/__init__.py\", line 600, in document_fromstring\n",
      "    value = etree.fromstring(html, parser, **kw)\n",
      "  File \"lxml.etree.pyx\", line 3032, in lxml.etree.fromstring (src/lxml/lxml.etree.c:68121)\n",
      "  File \"parser.pxi\", line 1786, in lxml.etree._parseMemoryDocument (src/lxml/lxml.etree.c:102470)\n",
      "  File \"parser.pxi\", line 1667, in lxml.etree._parseDoc (src/lxml/lxml.etree.c:101229)\n",
      "  File \"parser.pxi\", line 1035, in lxml.etree._BaseParser._parseUnicodeDoc (src/lxml/lxml.etree.c:96139)\n",
      "  File \"parser.pxi\", line 582, in lxml.etree._ParserContext._handleParseResultDoc (src/lxml/lxml.etree.c:91290)\n",
      "  File \"parser.pxi\", line 683, in lxml.etree._handleParseResult (src/lxml/lxml.etree.c:92476)\n",
      "  File \"parser.pxi\", line 631, in lxml.etree._raiseParseError (src/lxml/lxml.etree.c:91904)\n",
      "XMLSyntaxError: line 330: Tag path invalid\n",
      "Traceback (most recent call last):\n"
     ]
    },
    {
     "name": "stdout",
     "output_type": "stream",
     "text": [
      " You must download and parse an article before parsing it!\n",
      "46818"
     ]
    },
    {
     "name": "stderr",
     "output_type": "stream",
     "text": [
      "  File \"//anaconda/lib/python2.7/site-packages/newspaper-0.0.9.8-py2.7.egg/newspaper/parsers.py\", line 54, in fromstring\n",
      "    cls.doc = lxml.html.fromstring(html)\n",
      "  File \"//anaconda/lib/python2.7/site-packages/lxml-3.3.5-py2.7-macosx-10.5-x86_64.egg/lxml/html/__init__.py\", line 706, in fromstring\n",
      "    doc = document_fromstring(html, parser=parser, base_url=base_url, **kw)\n",
      "  File \"//anaconda/lib/python2.7/site-packages/lxml-3.3.5-py2.7-macosx-10.5-x86_64.egg/lxml/html/__init__.py\", line 600, in document_fromstring\n",
      "    value = etree.fromstring(html, parser, **kw)\n",
      "  File \"lxml.etree.pyx\", line 3032, in lxml.etree.fromstring (src/lxml/lxml.etree.c:68121)\n",
      "  File \"parser.pxi\", line 1786, in lxml.etree._parseMemoryDocument (src/lxml/lxml.etree.c:102470)\n",
      "  File \"parser.pxi\", line 1667, in lxml.etree._parseDoc (src/lxml/lxml.etree.c:101229)\n",
      "  File \"parser.pxi\", line 1035, in lxml.etree._BaseParser._parseUnicodeDoc (src/lxml/lxml.etree.c:96139)\n",
      "  File \"parser.pxi\", line 582, in lxml.etree._ParserContext._handleParseResultDoc (src/lxml/lxml.etree.c:91290)\n",
      "  File \"parser.pxi\", line 683, in lxml.etree._handleParseResult (src/lxml/lxml.etree.c:92476)\n",
      "  File \"parser.pxi\", line 631, in lxml.etree._raiseParseError (src/lxml/lxml.etree.c:91904)\n",
      "XMLSyntaxError: line 330: Tag path invalid\n",
      "Traceback (most recent call last):\n"
     ]
    },
    {
     "name": "stdout",
     "output_type": "stream",
     "text": [
      " You must download and parse an article before parsing it!\n",
      "46835"
     ]
    },
    {
     "name": "stderr",
     "output_type": "stream",
     "text": [
      "  File \"//anaconda/lib/python2.7/site-packages/newspaper-0.0.9.8-py2.7.egg/newspaper/parsers.py\", line 54, in fromstring\n",
      "    cls.doc = lxml.html.fromstring(html)\n",
      "  File \"//anaconda/lib/python2.7/site-packages/lxml-3.3.5-py2.7-macosx-10.5-x86_64.egg/lxml/html/__init__.py\", line 706, in fromstring\n",
      "    doc = document_fromstring(html, parser=parser, base_url=base_url, **kw)\n",
      "  File \"//anaconda/lib/python2.7/site-packages/lxml-3.3.5-py2.7-macosx-10.5-x86_64.egg/lxml/html/__init__.py\", line 600, in document_fromstring\n",
      "    value = etree.fromstring(html, parser, **kw)\n",
      "  File \"lxml.etree.pyx\", line 3032, in lxml.etree.fromstring (src/lxml/lxml.etree.c:68121)\n",
      "  File \"parser.pxi\", line 1786, in lxml.etree._parseMemoryDocument (src/lxml/lxml.etree.c:102470)\n",
      "  File \"parser.pxi\", line 1667, in lxml.etree._parseDoc (src/lxml/lxml.etree.c:101229)\n",
      "  File \"parser.pxi\", line 1035, in lxml.etree._BaseParser._parseUnicodeDoc (src/lxml/lxml.etree.c:96139)\n",
      "  File \"parser.pxi\", line 582, in lxml.etree._ParserContext._handleParseResultDoc (src/lxml/lxml.etree.c:91290)\n",
      "  File \"parser.pxi\", line 683, in lxml.etree._handleParseResult (src/lxml/lxml.etree.c:92476)\n",
      "  File \"parser.pxi\", line 631, in lxml.etree._raiseParseError (src/lxml/lxml.etree.c:91904)\n",
      "XMLSyntaxError: line 330: Tag path invalid\n",
      "Traceback (most recent call last):\n"
     ]
    },
    {
     "name": "stdout",
     "output_type": "stream",
     "text": [
      " You must download and parse an article before parsing it!\n",
      "47066"
     ]
    },
    {
     "name": "stderr",
     "output_type": "stream",
     "text": [
      "  File \"//anaconda/lib/python2.7/site-packages/newspaper-0.0.9.8-py2.7.egg/newspaper/parsers.py\", line 54, in fromstring\n",
      "    cls.doc = lxml.html.fromstring(html)\n",
      "  File \"//anaconda/lib/python2.7/site-packages/lxml-3.3.5-py2.7-macosx-10.5-x86_64.egg/lxml/html/__init__.py\", line 706, in fromstring\n",
      "    doc = document_fromstring(html, parser=parser, base_url=base_url, **kw)\n",
      "  File \"//anaconda/lib/python2.7/site-packages/lxml-3.3.5-py2.7-macosx-10.5-x86_64.egg/lxml/html/__init__.py\", line 600, in document_fromstring\n",
      "    value = etree.fromstring(html, parser, **kw)\n",
      "  File \"lxml.etree.pyx\", line 3032, in lxml.etree.fromstring (src/lxml/lxml.etree.c:68121)\n",
      "  File \"parser.pxi\", line 1786, in lxml.etree._parseMemoryDocument (src/lxml/lxml.etree.c:102470)\n",
      "  File \"parser.pxi\", line 1667, in lxml.etree._parseDoc (src/lxml/lxml.etree.c:101229)\n",
      "  File \"parser.pxi\", line 1035, in lxml.etree._BaseParser._parseUnicodeDoc (src/lxml/lxml.etree.c:96139)\n",
      "  File \"parser.pxi\", line 582, in lxml.etree._ParserContext._handleParseResultDoc (src/lxml/lxml.etree.c:91290)\n",
      "  File \"parser.pxi\", line 683, in lxml.etree._handleParseResult (src/lxml/lxml.etree.c:92476)\n",
      "  File \"parser.pxi\", line 631, in lxml.etree._raiseParseError (src/lxml/lxml.etree.c:91904)\n",
      "XMLSyntaxError: line 330: Tag path invalid\n",
      "Traceback (most recent call last):\n"
     ]
    },
    {
     "name": "stdout",
     "output_type": "stream",
     "text": [
      " You must download and parse an article before parsing it!\n",
      "49636"
     ]
    },
    {
     "name": "stderr",
     "output_type": "stream",
     "text": [
      "  File \"//anaconda/lib/python2.7/site-packages/newspaper-0.0.9.8-py2.7.egg/newspaper/parsers.py\", line 54, in fromstring\n",
      "    cls.doc = lxml.html.fromstring(html)\n",
      "  File \"//anaconda/lib/python2.7/site-packages/lxml-3.3.5-py2.7-macosx-10.5-x86_64.egg/lxml/html/__init__.py\", line 706, in fromstring\n",
      "    doc = document_fromstring(html, parser=parser, base_url=base_url, **kw)\n",
      "  File \"//anaconda/lib/python2.7/site-packages/lxml-3.3.5-py2.7-macosx-10.5-x86_64.egg/lxml/html/__init__.py\", line 600, in document_fromstring\n",
      "    value = etree.fromstring(html, parser, **kw)\n",
      "  File \"lxml.etree.pyx\", line 3032, in lxml.etree.fromstring (src/lxml/lxml.etree.c:68121)\n",
      "  File \"parser.pxi\", line 1786, in lxml.etree._parseMemoryDocument (src/lxml/lxml.etree.c:102470)\n",
      "  File \"parser.pxi\", line 1667, in lxml.etree._parseDoc (src/lxml/lxml.etree.c:101229)\n",
      "  File \"parser.pxi\", line 1035, in lxml.etree._BaseParser._parseUnicodeDoc (src/lxml/lxml.etree.c:96139)\n",
      "  File \"parser.pxi\", line 582, in lxml.etree._ParserContext._handleParseResultDoc (src/lxml/lxml.etree.c:91290)\n",
      "  File \"parser.pxi\", line 683, in lxml.etree._handleParseResult (src/lxml/lxml.etree.c:92476)\n",
      "  File \"parser.pxi\", line 631, in lxml.etree._raiseParseError (src/lxml/lxml.etree.c:91904)\n",
      "XMLSyntaxError: line 330: Tag path invalid\n",
      "Traceback (most recent call last):\n"
     ]
    },
    {
     "name": "stdout",
     "output_type": "stream",
     "text": [
      " You must download and parse an article before parsing it!\n",
      "51711"
     ]
    },
    {
     "name": "stderr",
     "output_type": "stream",
     "text": [
      "  File \"//anaconda/lib/python2.7/site-packages/newspaper-0.0.9.8-py2.7.egg/newspaper/parsers.py\", line 54, in fromstring\n",
      "    cls.doc = lxml.html.fromstring(html)\n",
      "  File \"//anaconda/lib/python2.7/site-packages/lxml-3.3.5-py2.7-macosx-10.5-x86_64.egg/lxml/html/__init__.py\", line 706, in fromstring\n",
      "    doc = document_fromstring(html, parser=parser, base_url=base_url, **kw)\n",
      "  File \"//anaconda/lib/python2.7/site-packages/lxml-3.3.5-py2.7-macosx-10.5-x86_64.egg/lxml/html/__init__.py\", line 600, in document_fromstring\n",
      "    value = etree.fromstring(html, parser, **kw)\n",
      "  File \"lxml.etree.pyx\", line 3032, in lxml.etree.fromstring (src/lxml/lxml.etree.c:68121)\n",
      "  File \"parser.pxi\", line 1786, in lxml.etree._parseMemoryDocument (src/lxml/lxml.etree.c:102470)\n",
      "  File \"parser.pxi\", line 1667, in lxml.etree._parseDoc (src/lxml/lxml.etree.c:101229)\n",
      "  File \"parser.pxi\", line 1035, in lxml.etree._BaseParser._parseUnicodeDoc (src/lxml/lxml.etree.c:96139)\n",
      "  File \"parser.pxi\", line 582, in lxml.etree._ParserContext._handleParseResultDoc (src/lxml/lxml.etree.c:91290)\n",
      "  File \"parser.pxi\", line 683, in lxml.etree._handleParseResult (src/lxml/lxml.etree.c:92476)\n",
      "  File \"parser.pxi\", line 631, in lxml.etree._raiseParseError (src/lxml/lxml.etree.c:91904)\n",
      "XMLSyntaxError: line 330: Tag path invalid\n",
      "Traceback (most recent call last):\n"
     ]
    },
    {
     "name": "stdout",
     "output_type": "stream",
     "text": [
      " You must download and parse an article before parsing it!\n",
      "51834"
     ]
    },
    {
     "name": "stderr",
     "output_type": "stream",
     "text": [
      "  File \"//anaconda/lib/python2.7/site-packages/newspaper-0.0.9.8-py2.7.egg/newspaper/parsers.py\", line 54, in fromstring\n",
      "    cls.doc = lxml.html.fromstring(html)\n",
      "  File \"//anaconda/lib/python2.7/site-packages/lxml-3.3.5-py2.7-macosx-10.5-x86_64.egg/lxml/html/__init__.py\", line 706, in fromstring\n",
      "    doc = document_fromstring(html, parser=parser, base_url=base_url, **kw)\n",
      "  File \"//anaconda/lib/python2.7/site-packages/lxml-3.3.5-py2.7-macosx-10.5-x86_64.egg/lxml/html/__init__.py\", line 600, in document_fromstring\n",
      "    value = etree.fromstring(html, parser, **kw)\n",
      "  File \"lxml.etree.pyx\", line 3032, in lxml.etree.fromstring (src/lxml/lxml.etree.c:68121)\n",
      "  File \"parser.pxi\", line 1786, in lxml.etree._parseMemoryDocument (src/lxml/lxml.etree.c:102470)\n",
      "  File \"parser.pxi\", line 1667, in lxml.etree._parseDoc (src/lxml/lxml.etree.c:101229)\n",
      "  File \"parser.pxi\", line 1035, in lxml.etree._BaseParser._parseUnicodeDoc (src/lxml/lxml.etree.c:96139)\n",
      "  File \"parser.pxi\", line 582, in lxml.etree._ParserContext._handleParseResultDoc (src/lxml/lxml.etree.c:91290)\n",
      "  File \"parser.pxi\", line 683, in lxml.etree._handleParseResult (src/lxml/lxml.etree.c:92476)\n",
      "  File \"parser.pxi\", line 631, in lxml.etree._raiseParseError (src/lxml/lxml.etree.c:91904)\n",
      "XMLSyntaxError: line 330: Tag path invalid\n",
      "Traceback (most recent call last):\n"
     ]
    },
    {
     "name": "stdout",
     "output_type": "stream",
     "text": [
      " You must download and parse an article before parsing it!\n",
      "52633"
     ]
    },
    {
     "name": "stderr",
     "output_type": "stream",
     "text": [
      "  File \"//anaconda/lib/python2.7/site-packages/newspaper-0.0.9.8-py2.7.egg/newspaper/parsers.py\", line 54, in fromstring\n",
      "    cls.doc = lxml.html.fromstring(html)\n",
      "  File \"//anaconda/lib/python2.7/site-packages/lxml-3.3.5-py2.7-macosx-10.5-x86_64.egg/lxml/html/__init__.py\", line 706, in fromstring\n",
      "    doc = document_fromstring(html, parser=parser, base_url=base_url, **kw)\n",
      "  File \"//anaconda/lib/python2.7/site-packages/lxml-3.3.5-py2.7-macosx-10.5-x86_64.egg/lxml/html/__init__.py\", line 600, in document_fromstring\n",
      "    value = etree.fromstring(html, parser, **kw)\n",
      "  File \"lxml.etree.pyx\", line 3032, in lxml.etree.fromstring (src/lxml/lxml.etree.c:68121)\n",
      "  File \"parser.pxi\", line 1786, in lxml.etree._parseMemoryDocument (src/lxml/lxml.etree.c:102470)\n",
      "  File \"parser.pxi\", line 1667, in lxml.etree._parseDoc (src/lxml/lxml.etree.c:101229)\n",
      "  File \"parser.pxi\", line 1035, in lxml.etree._BaseParser._parseUnicodeDoc (src/lxml/lxml.etree.c:96139)\n",
      "  File \"parser.pxi\", line 582, in lxml.etree._ParserContext._handleParseResultDoc (src/lxml/lxml.etree.c:91290)\n",
      "  File \"parser.pxi\", line 683, in lxml.etree._handleParseResult (src/lxml/lxml.etree.c:92476)\n",
      "  File \"parser.pxi\", line 631, in lxml.etree._raiseParseError (src/lxml/lxml.etree.c:91904)\n",
      "XMLSyntaxError: line 330: Tag path invalid\n",
      "Traceback (most recent call last):\n"
     ]
    },
    {
     "name": "stdout",
     "output_type": "stream",
     "text": [
      " You must download and parse an article before parsing it!\n",
      "53071"
     ]
    },
    {
     "name": "stderr",
     "output_type": "stream",
     "text": [
      "  File \"//anaconda/lib/python2.7/site-packages/newspaper-0.0.9.8-py2.7.egg/newspaper/parsers.py\", line 54, in fromstring\n",
      "    cls.doc = lxml.html.fromstring(html)\n",
      "  File \"//anaconda/lib/python2.7/site-packages/lxml-3.3.5-py2.7-macosx-10.5-x86_64.egg/lxml/html/__init__.py\", line 706, in fromstring\n",
      "    doc = document_fromstring(html, parser=parser, base_url=base_url, **kw)\n",
      "  File \"//anaconda/lib/python2.7/site-packages/lxml-3.3.5-py2.7-macosx-10.5-x86_64.egg/lxml/html/__init__.py\", line 600, in document_fromstring\n",
      "    value = etree.fromstring(html, parser, **kw)\n",
      "  File \"lxml.etree.pyx\", line 3032, in lxml.etree.fromstring (src/lxml/lxml.etree.c:68121)\n",
      "  File \"parser.pxi\", line 1786, in lxml.etree._parseMemoryDocument (src/lxml/lxml.etree.c:102470)\n",
      "  File \"parser.pxi\", line 1667, in lxml.etree._parseDoc (src/lxml/lxml.etree.c:101229)\n",
      "  File \"parser.pxi\", line 1035, in lxml.etree._BaseParser._parseUnicodeDoc (src/lxml/lxml.etree.c:96139)\n",
      "  File \"parser.pxi\", line 582, in lxml.etree._ParserContext._handleParseResultDoc (src/lxml/lxml.etree.c:91290)\n",
      "  File \"parser.pxi\", line 683, in lxml.etree._handleParseResult (src/lxml/lxml.etree.c:92476)\n",
      "  File \"parser.pxi\", line 631, in lxml.etree._raiseParseError (src/lxml/lxml.etree.c:91904)\n",
      "XMLSyntaxError: line 330: Tag path invalid\n",
      "Traceback (most recent call last):\n"
     ]
    },
    {
     "name": "stdout",
     "output_type": "stream",
     "text": [
      " You must download and parse an article before parsing it!\n",
      "53260 53791 "
     ]
    },
    {
     "name": "stderr",
     "output_type": "stream",
     "text": [
      "  File \"//anaconda/lib/python2.7/site-packages/newspaper-0.0.9.8-py2.7.egg/newspaper/parsers.py\", line 54, in fromstring\n",
      "    cls.doc = lxml.html.fromstring(html)\n",
      "  File \"//anaconda/lib/python2.7/site-packages/lxml-3.3.5-py2.7-macosx-10.5-x86_64.egg/lxml/html/__init__.py\", line 706, in fromstring\n",
      "    doc = document_fromstring(html, parser=parser, base_url=base_url, **kw)\n",
      "  File \"//anaconda/lib/python2.7/site-packages/lxml-3.3.5-py2.7-macosx-10.5-x86_64.egg/lxml/html/__init__.py\", line 600, in document_fromstring\n",
      "    value = etree.fromstring(html, parser, **kw)\n",
      "  File \"lxml.etree.pyx\", line 3032, in lxml.etree.fromstring (src/lxml/lxml.etree.c:68121)\n",
      "  File \"parser.pxi\", line 1786, in lxml.etree._parseMemoryDocument (src/lxml/lxml.etree.c:102470)\n",
      "  File \"parser.pxi\", line 1667, in lxml.etree._parseDoc (src/lxml/lxml.etree.c:101229)\n",
      "  File \"parser.pxi\", line 1035, in lxml.etree._BaseParser._parseUnicodeDoc (src/lxml/lxml.etree.c:96139)\n",
      "  File \"parser.pxi\", line 582, in lxml.etree._ParserContext._handleParseResultDoc (src/lxml/lxml.etree.c:91290)\n",
      "  File \"parser.pxi\", line 683, in lxml.etree._handleParseResult (src/lxml/lxml.etree.c:92476)\n",
      "  File \"parser.pxi\", line 631, in lxml.etree._raiseParseError (src/lxml/lxml.etree.c:91904)\n",
      "XMLSyntaxError: line 330: Tag path invalid\n",
      "Traceback (most recent call last):\n"
     ]
    },
    {
     "name": "stdout",
     "output_type": "stream",
     "text": [
      "58008 You must download and parse an article before parsing it!\n",
      "59894"
     ]
    },
    {
     "name": "stderr",
     "output_type": "stream",
     "text": [
      "  File \"//anaconda/lib/python2.7/site-packages/newspaper-0.0.9.8-py2.7.egg/newspaper/parsers.py\", line 54, in fromstring\n",
      "    cls.doc = lxml.html.fromstring(html)\n",
      "  File \"//anaconda/lib/python2.7/site-packages/lxml-3.3.5-py2.7-macosx-10.5-x86_64.egg/lxml/html/__init__.py\", line 706, in fromstring\n",
      "    doc = document_fromstring(html, parser=parser, base_url=base_url, **kw)\n",
      "  File \"//anaconda/lib/python2.7/site-packages/lxml-3.3.5-py2.7-macosx-10.5-x86_64.egg/lxml/html/__init__.py\", line 600, in document_fromstring\n",
      "    value = etree.fromstring(html, parser, **kw)\n",
      "  File \"lxml.etree.pyx\", line 3032, in lxml.etree.fromstring (src/lxml/lxml.etree.c:68121)\n",
      "  File \"parser.pxi\", line 1786, in lxml.etree._parseMemoryDocument (src/lxml/lxml.etree.c:102470)\n",
      "  File \"parser.pxi\", line 1667, in lxml.etree._parseDoc (src/lxml/lxml.etree.c:101229)\n",
      "  File \"parser.pxi\", line 1035, in lxml.etree._BaseParser._parseUnicodeDoc (src/lxml/lxml.etree.c:96139)\n",
      "  File \"parser.pxi\", line 582, in lxml.etree._ParserContext._handleParseResultDoc (src/lxml/lxml.etree.c:91290)\n",
      "  File \"parser.pxi\", line 683, in lxml.etree._handleParseResult (src/lxml/lxml.etree.c:92476)\n",
      "  File \"parser.pxi\", line 631, in lxml.etree._raiseParseError (src/lxml/lxml.etree.c:91904)\n",
      "XMLSyntaxError: line 1568: Element script embeds close tag\n",
      "Traceback (most recent call last):\n"
     ]
    },
    {
     "name": "stdout",
     "output_type": "stream",
     "text": [
      " You must download and parse an article before parsing it!\n",
      "60849"
     ]
    },
    {
     "name": "stderr",
     "output_type": "stream",
     "text": [
      "  File \"//anaconda/lib/python2.7/site-packages/newspaper-0.0.9.8-py2.7.egg/newspaper/parsers.py\", line 54, in fromstring\n",
      "    cls.doc = lxml.html.fromstring(html)\n",
      "  File \"//anaconda/lib/python2.7/site-packages/lxml-3.3.5-py2.7-macosx-10.5-x86_64.egg/lxml/html/__init__.py\", line 706, in fromstring\n",
      "    doc = document_fromstring(html, parser=parser, base_url=base_url, **kw)\n",
      "  File \"//anaconda/lib/python2.7/site-packages/lxml-3.3.5-py2.7-macosx-10.5-x86_64.egg/lxml/html/__init__.py\", line 600, in document_fromstring\n",
      "    value = etree.fromstring(html, parser, **kw)\n",
      "  File \"lxml.etree.pyx\", line 3032, in lxml.etree.fromstring (src/lxml/lxml.etree.c:68121)\n",
      "  File \"parser.pxi\", line 1786, in lxml.etree._parseMemoryDocument (src/lxml/lxml.etree.c:102470)\n",
      "  File \"parser.pxi\", line 1667, in lxml.etree._parseDoc (src/lxml/lxml.etree.c:101229)\n",
      "  File \"parser.pxi\", line 1035, in lxml.etree._BaseParser._parseUnicodeDoc (src/lxml/lxml.etree.c:96139)\n",
      "  File \"parser.pxi\", line 582, in lxml.etree._ParserContext._handleParseResultDoc (src/lxml/lxml.etree.c:91290)\n",
      "  File \"parser.pxi\", line 683, in lxml.etree._handleParseResult (src/lxml/lxml.etree.c:92476)\n",
      "  File \"parser.pxi\", line 631, in lxml.etree._raiseParseError (src/lxml/lxml.etree.c:91904)\n",
      "XMLSyntaxError: line 1568: Element script embeds close tag\n",
      "Traceback (most recent call last):\n"
     ]
    },
    {
     "name": "stdout",
     "output_type": "stream",
     "text": [
      " You must download and parse an article before parsing it!\n",
      "61292"
     ]
    },
    {
     "name": "stderr",
     "output_type": "stream",
     "text": [
      "  File \"//anaconda/lib/python2.7/site-packages/newspaper-0.0.9.8-py2.7.egg/newspaper/parsers.py\", line 54, in fromstring\n",
      "    cls.doc = lxml.html.fromstring(html)\n",
      "  File \"//anaconda/lib/python2.7/site-packages/lxml-3.3.5-py2.7-macosx-10.5-x86_64.egg/lxml/html/__init__.py\", line 706, in fromstring\n",
      "    doc = document_fromstring(html, parser=parser, base_url=base_url, **kw)\n",
      "  File \"//anaconda/lib/python2.7/site-packages/lxml-3.3.5-py2.7-macosx-10.5-x86_64.egg/lxml/html/__init__.py\", line 600, in document_fromstring\n",
      "    value = etree.fromstring(html, parser, **kw)\n",
      "  File \"lxml.etree.pyx\", line 3032, in lxml.etree.fromstring (src/lxml/lxml.etree.c:68121)\n",
      "  File \"parser.pxi\", line 1786, in lxml.etree._parseMemoryDocument (src/lxml/lxml.etree.c:102470)\n",
      "  File \"parser.pxi\", line 1667, in lxml.etree._parseDoc (src/lxml/lxml.etree.c:101229)\n",
      "  File \"parser.pxi\", line 1035, in lxml.etree._BaseParser._parseUnicodeDoc (src/lxml/lxml.etree.c:96139)\n",
      "  File \"parser.pxi\", line 582, in lxml.etree._ParserContext._handleParseResultDoc (src/lxml/lxml.etree.c:91290)\n",
      "  File \"parser.pxi\", line 683, in lxml.etree._handleParseResult (src/lxml/lxml.etree.c:92476)\n",
      "  File \"parser.pxi\", line 631, in lxml.etree._raiseParseError (src/lxml/lxml.etree.c:91904)\n",
      "XMLSyntaxError: line 1568: Element script embeds close tag\n",
      "Traceback (most recent call last):\n"
     ]
    },
    {
     "name": "stdout",
     "output_type": "stream",
     "text": [
      " You must download and parse an article before parsing it!\n",
      "63622"
     ]
    },
    {
     "name": "stderr",
     "output_type": "stream",
     "text": [
      "  File \"//anaconda/lib/python2.7/site-packages/newspaper-0.0.9.8-py2.7.egg/newspaper/parsers.py\", line 54, in fromstring\n",
      "    cls.doc = lxml.html.fromstring(html)\n",
      "  File \"//anaconda/lib/python2.7/site-packages/lxml-3.3.5-py2.7-macosx-10.5-x86_64.egg/lxml/html/__init__.py\", line 706, in fromstring\n",
      "    doc = document_fromstring(html, parser=parser, base_url=base_url, **kw)\n",
      "  File \"//anaconda/lib/python2.7/site-packages/lxml-3.3.5-py2.7-macosx-10.5-x86_64.egg/lxml/html/__init__.py\", line 600, in document_fromstring\n",
      "    value = etree.fromstring(html, parser, **kw)\n",
      "  File \"lxml.etree.pyx\", line 3032, in lxml.etree.fromstring (src/lxml/lxml.etree.c:68121)\n",
      "  File \"parser.pxi\", line 1786, in lxml.etree._parseMemoryDocument (src/lxml/lxml.etree.c:102470)\n",
      "  File \"parser.pxi\", line 1667, in lxml.etree._parseDoc (src/lxml/lxml.etree.c:101229)\n",
      "  File \"parser.pxi\", line 1035, in lxml.etree._BaseParser._parseUnicodeDoc (src/lxml/lxml.etree.c:96139)\n",
      "  File \"parser.pxi\", line 582, in lxml.etree._ParserContext._handleParseResultDoc (src/lxml/lxml.etree.c:91290)\n",
      "  File \"parser.pxi\", line 683, in lxml.etree._handleParseResult (src/lxml/lxml.etree.c:92476)\n",
      "  File \"parser.pxi\", line 631, in lxml.etree._raiseParseError (src/lxml/lxml.etree.c:91904)\n",
      "XMLSyntaxError: line 1568: Element script embeds close tag\n",
      "Traceback (most recent call last):\n"
     ]
    },
    {
     "name": "stdout",
     "output_type": "stream",
     "text": [
      " You must download and parse an article before parsing it!\n",
      "64289"
     ]
    },
    {
     "name": "stderr",
     "output_type": "stream",
     "text": [
      "  File \"//anaconda/lib/python2.7/site-packages/newspaper-0.0.9.8-py2.7.egg/newspaper/parsers.py\", line 54, in fromstring\n",
      "    cls.doc = lxml.html.fromstring(html)\n",
      "  File \"//anaconda/lib/python2.7/site-packages/lxml-3.3.5-py2.7-macosx-10.5-x86_64.egg/lxml/html/__init__.py\", line 706, in fromstring\n",
      "    doc = document_fromstring(html, parser=parser, base_url=base_url, **kw)\n",
      "  File \"//anaconda/lib/python2.7/site-packages/lxml-3.3.5-py2.7-macosx-10.5-x86_64.egg/lxml/html/__init__.py\", line 600, in document_fromstring\n",
      "    value = etree.fromstring(html, parser, **kw)\n",
      "  File \"lxml.etree.pyx\", line 3032, in lxml.etree.fromstring (src/lxml/lxml.etree.c:68121)\n",
      "  File \"parser.pxi\", line 1786, in lxml.etree._parseMemoryDocument (src/lxml/lxml.etree.c:102470)\n",
      "  File \"parser.pxi\", line 1667, in lxml.etree._parseDoc (src/lxml/lxml.etree.c:101229)\n",
      "  File \"parser.pxi\", line 1035, in lxml.etree._BaseParser._parseUnicodeDoc (src/lxml/lxml.etree.c:96139)\n",
      "  File \"parser.pxi\", line 582, in lxml.etree._ParserContext._handleParseResultDoc (src/lxml/lxml.etree.c:91290)\n",
      "  File \"parser.pxi\", line 683, in lxml.etree._handleParseResult (src/lxml/lxml.etree.c:92476)\n",
      "  File \"parser.pxi\", line 631, in lxml.etree._raiseParseError (src/lxml/lxml.etree.c:91904)\n",
      "XMLSyntaxError: line 1568: Element script embeds close tag\n",
      "Traceback (most recent call last):\n"
     ]
    },
    {
     "name": "stdout",
     "output_type": "stream",
     "text": [
      " You must download and parse an article before parsing it!\n",
      "66561"
     ]
    },
    {
     "name": "stderr",
     "output_type": "stream",
     "text": [
      "  File \"//anaconda/lib/python2.7/site-packages/newspaper-0.0.9.8-py2.7.egg/newspaper/parsers.py\", line 54, in fromstring\n",
      "    cls.doc = lxml.html.fromstring(html)\n",
      "  File \"//anaconda/lib/python2.7/site-packages/lxml-3.3.5-py2.7-macosx-10.5-x86_64.egg/lxml/html/__init__.py\", line 706, in fromstring\n",
      "    doc = document_fromstring(html, parser=parser, base_url=base_url, **kw)\n",
      "  File \"//anaconda/lib/python2.7/site-packages/lxml-3.3.5-py2.7-macosx-10.5-x86_64.egg/lxml/html/__init__.py\", line 600, in document_fromstring\n",
      "    value = etree.fromstring(html, parser, **kw)\n",
      "  File \"lxml.etree.pyx\", line 3032, in lxml.etree.fromstring (src/lxml/lxml.etree.c:68121)\n",
      "  File \"parser.pxi\", line 1786, in lxml.etree._parseMemoryDocument (src/lxml/lxml.etree.c:102470)\n",
      "  File \"parser.pxi\", line 1667, in lxml.etree._parseDoc (src/lxml/lxml.etree.c:101229)\n",
      "  File \"parser.pxi\", line 1035, in lxml.etree._BaseParser._parseUnicodeDoc (src/lxml/lxml.etree.c:96139)\n",
      "  File \"parser.pxi\", line 582, in lxml.etree._ParserContext._handleParseResultDoc (src/lxml/lxml.etree.c:91290)\n",
      "  File \"parser.pxi\", line 683, in lxml.etree._handleParseResult (src/lxml/lxml.etree.c:92476)\n",
      "  File \"parser.pxi\", line 631, in lxml.etree._raiseParseError (src/lxml/lxml.etree.c:91904)\n",
      "XMLSyntaxError: line 1568: Element script embeds close tag\n",
      "Traceback (most recent call last):\n"
     ]
    },
    {
     "name": "stdout",
     "output_type": "stream",
     "text": [
      " 66710 You must download and parse an article before parsing it!\n",
      "66767 66938 "
     ]
    },
    {
     "name": "stderr",
     "output_type": "stream",
     "text": [
      "  File \"//anaconda/lib/python2.7/site-packages/newspaper-0.0.9.8-py2.7.egg/newspaper/parsers.py\", line 54, in fromstring\n",
      "    cls.doc = lxml.html.fromstring(html)\n",
      "  File \"//anaconda/lib/python2.7/site-packages/lxml-3.3.5-py2.7-macosx-10.5-x86_64.egg/lxml/html/__init__.py\", line 706, in fromstring\n",
      "    doc = document_fromstring(html, parser=parser, base_url=base_url, **kw)\n",
      "  File \"//anaconda/lib/python2.7/site-packages/lxml-3.3.5-py2.7-macosx-10.5-x86_64.egg/lxml/html/__init__.py\", line 600, in document_fromstring\n",
      "    value = etree.fromstring(html, parser, **kw)\n",
      "  File \"lxml.etree.pyx\", line 3032, in lxml.etree.fromstring (src/lxml/lxml.etree.c:68121)\n",
      "  File \"parser.pxi\", line 1786, in lxml.etree._parseMemoryDocument (src/lxml/lxml.etree.c:102470)\n",
      "  File \"parser.pxi\", line 1667, in lxml.etree._parseDoc (src/lxml/lxml.etree.c:101229)\n",
      "  File \"parser.pxi\", line 1035, in lxml.etree._BaseParser._parseUnicodeDoc (src/lxml/lxml.etree.c:96139)\n",
      "  File \"parser.pxi\", line 582, in lxml.etree._ParserContext._handleParseResultDoc (src/lxml/lxml.etree.c:91290)\n",
      "  File \"parser.pxi\", line 683, in lxml.etree._handleParseResult (src/lxml/lxml.etree.c:92476)\n",
      "  File \"parser.pxi\", line 631, in lxml.etree._raiseParseError (src/lxml/lxml.etree.c:91904)\n",
      "XMLSyntaxError: line 1376: htmlParseEntityRef: expecting ';'\n",
      "Traceback (most recent call last):\n"
     ]
    },
    {
     "name": "stdout",
     "output_type": "stream",
     "text": [
      "67001 You must download and parse an article before parsing it!\n",
      "67660 68077 68163 68434 68762 68856 69242 69522 69711 "
     ]
    },
    {
     "name": "stderr",
     "output_type": "stream",
     "text": [
      "  File \"//anaconda/lib/python2.7/site-packages/newspaper-0.0.9.8-py2.7.egg/newspaper/parsers.py\", line 54, in fromstring\n",
      "    cls.doc = lxml.html.fromstring(html)\n",
      "  File \"//anaconda/lib/python2.7/site-packages/lxml-3.3.5-py2.7-macosx-10.5-x86_64.egg/lxml/html/__init__.py\", line 706, in fromstring\n",
      "    doc = document_fromstring(html, parser=parser, base_url=base_url, **kw)\n",
      "  File \"//anaconda/lib/python2.7/site-packages/lxml-3.3.5-py2.7-macosx-10.5-x86_64.egg/lxml/html/__init__.py\", line 600, in document_fromstring\n",
      "    value = etree.fromstring(html, parser, **kw)\n",
      "  File \"lxml.etree.pyx\", line 3032, in lxml.etree.fromstring (src/lxml/lxml.etree.c:68121)\n",
      "  File \"parser.pxi\", line 1786, in lxml.etree._parseMemoryDocument (src/lxml/lxml.etree.c:102470)\n",
      "  File \"parser.pxi\", line 1667, in lxml.etree._parseDoc (src/lxml/lxml.etree.c:101229)\n",
      "  File \"parser.pxi\", line 1035, in lxml.etree._BaseParser._parseUnicodeDoc (src/lxml/lxml.etree.c:96139)\n",
      "  File \"parser.pxi\", line 582, in lxml.etree._ParserContext._handleParseResultDoc (src/lxml/lxml.etree.c:91290)\n",
      "  File \"parser.pxi\", line 683, in lxml.etree._handleParseResult (src/lxml/lxml.etree.c:92476)\n",
      "  File \"parser.pxi\", line 631, in lxml.etree._raiseParseError (src/lxml/lxml.etree.c:91904)\n",
      "XMLSyntaxError: line 1865: ID fb-root already defined\n",
      "Traceback (most recent call last):\n"
     ]
    },
    {
     "name": "stdout",
     "output_type": "stream",
     "text": [
      "69729 You must download and parse an article before parsing it!\n",
      "69982"
     ]
    },
    {
     "name": "stderr",
     "output_type": "stream",
     "text": [
      "  File \"//anaconda/lib/python2.7/site-packages/newspaper-0.0.9.8-py2.7.egg/newspaper/parsers.py\", line 54, in fromstring\n",
      "    cls.doc = lxml.html.fromstring(html)\n",
      "  File \"//anaconda/lib/python2.7/site-packages/lxml-3.3.5-py2.7-macosx-10.5-x86_64.egg/lxml/html/__init__.py\", line 706, in fromstring\n",
      "    doc = document_fromstring(html, parser=parser, base_url=base_url, **kw)\n",
      "  File \"//anaconda/lib/python2.7/site-packages/lxml-3.3.5-py2.7-macosx-10.5-x86_64.egg/lxml/html/__init__.py\", line 600, in document_fromstring\n",
      "    value = etree.fromstring(html, parser, **kw)\n",
      "  File \"lxml.etree.pyx\", line 3032, in lxml.etree.fromstring (src/lxml/lxml.etree.c:68121)\n",
      "  File \"parser.pxi\", line 1786, in lxml.etree._parseMemoryDocument (src/lxml/lxml.etree.c:102470)\n",
      "  File \"parser.pxi\", line 1667, in lxml.etree._parseDoc (src/lxml/lxml.etree.c:101229)\n",
      "  File \"parser.pxi\", line 1035, in lxml.etree._BaseParser._parseUnicodeDoc (src/lxml/lxml.etree.c:96139)\n",
      "  File \"parser.pxi\", line 582, in lxml.etree._ParserContext._handleParseResultDoc (src/lxml/lxml.etree.c:91290)\n",
      "  File \"parser.pxi\", line 683, in lxml.etree._handleParseResult (src/lxml/lxml.etree.c:92476)\n",
      "  File \"parser.pxi\", line 631, in lxml.etree._raiseParseError (src/lxml/lxml.etree.c:91904)\n",
      "XMLSyntaxError: line 517: Tag footer invalid\n",
      "Traceback (most recent call last):\n"
     ]
    },
    {
     "name": "stdout",
     "output_type": "stream",
     "text": [
      " 72112 You must download and parse an article before parsing it!\n",
      "73693 74419 75103 75167 75189 75236 75468 "
     ]
    },
    {
     "name": "stderr",
     "output_type": "stream",
     "text": [
      "  File \"//anaconda/lib/python2.7/site-packages/newspaper-0.0.9.8-py2.7.egg/newspaper/parsers.py\", line 54, in fromstring\n",
      "    cls.doc = lxml.html.fromstring(html)\n",
      "  File \"//anaconda/lib/python2.7/site-packages/lxml-3.3.5-py2.7-macosx-10.5-x86_64.egg/lxml/html/__init__.py\", line 706, in fromstring\n",
      "    doc = document_fromstring(html, parser=parser, base_url=base_url, **kw)\n",
      "  File \"//anaconda/lib/python2.7/site-packages/lxml-3.3.5-py2.7-macosx-10.5-x86_64.egg/lxml/html/__init__.py\", line 600, in document_fromstring\n",
      "    value = etree.fromstring(html, parser, **kw)\n",
      "  File \"lxml.etree.pyx\", line 3032, in lxml.etree.fromstring (src/lxml/lxml.etree.c:68121)\n",
      "  File \"parser.pxi\", line 1786, in lxml.etree._parseMemoryDocument (src/lxml/lxml.etree.c:102470)\n",
      "  File \"parser.pxi\", line 1667, in lxml.etree._parseDoc (src/lxml/lxml.etree.c:101229)\n",
      "  File \"parser.pxi\", line 1035, in lxml.etree._BaseParser._parseUnicodeDoc (src/lxml/lxml.etree.c:96139)\n",
      "  File \"parser.pxi\", line 582, in lxml.etree._ParserContext._handleParseResultDoc (src/lxml/lxml.etree.c:91290)\n",
      "  File \"parser.pxi\", line 683, in lxml.etree._handleParseResult (src/lxml/lxml.etree.c:92476)\n",
      "  File \"parser.pxi\", line 631, in lxml.etree._raiseParseError (src/lxml/lxml.etree.c:91904)\n",
      "XMLSyntaxError: line 1634: ID cmJanrainRegistration already defined\n",
      "Traceback (most recent call last):\n"
     ]
    },
    {
     "name": "stdout",
     "output_type": "stream",
     "text": [
      "76984 You must download and parse an article before parsing it!\n",
      "77149"
     ]
    },
    {
     "name": "stderr",
     "output_type": "stream",
     "text": [
      "  File \"//anaconda/lib/python2.7/site-packages/newspaper-0.0.9.8-py2.7.egg/newspaper/parsers.py\", line 54, in fromstring\n",
      "    cls.doc = lxml.html.fromstring(html)\n",
      "  File \"//anaconda/lib/python2.7/site-packages/lxml-3.3.5-py2.7-macosx-10.5-x86_64.egg/lxml/html/__init__.py\", line 706, in fromstring\n",
      "    doc = document_fromstring(html, parser=parser, base_url=base_url, **kw)\n",
      "  File \"//anaconda/lib/python2.7/site-packages/lxml-3.3.5-py2.7-macosx-10.5-x86_64.egg/lxml/html/__init__.py\", line 600, in document_fromstring\n",
      "    value = etree.fromstring(html, parser, **kw)\n",
      "  File \"lxml.etree.pyx\", line 3032, in lxml.etree.fromstring (src/lxml/lxml.etree.c:68121)\n",
      "  File \"parser.pxi\", line 1786, in lxml.etree._parseMemoryDocument (src/lxml/lxml.etree.c:102470)\n",
      "  File \"parser.pxi\", line 1667, in lxml.etree._parseDoc (src/lxml/lxml.etree.c:101229)\n",
      "  File \"parser.pxi\", line 1035, in lxml.etree._BaseParser._parseUnicodeDoc (src/lxml/lxml.etree.c:96139)\n",
      "  File \"parser.pxi\", line 582, in lxml.etree._ParserContext._handleParseResultDoc (src/lxml/lxml.etree.c:91290)\n",
      "  File \"parser.pxi\", line 683, in lxml.etree._handleParseResult (src/lxml/lxml.etree.c:92476)\n",
      "  File \"parser.pxi\", line 631, in lxml.etree._raiseParseError (src/lxml/lxml.etree.c:91904)\n",
      "XMLSyntaxError: line 421: Element script embeds close tag\n",
      "Traceback (most recent call last):\n"
     ]
    },
    {
     "name": "stdout",
     "output_type": "stream",
     "text": [
      " 77991 You must download and parse an article before parsing it!\n",
      "78215 78485 "
     ]
    },
    {
     "name": "stderr",
     "output_type": "stream",
     "text": [
      "  File \"//anaconda/lib/python2.7/site-packages/newspaper-0.0.9.8-py2.7.egg/newspaper/parsers.py\", line 54, in fromstring\n",
      "    cls.doc = lxml.html.fromstring(html)\n",
      "  File \"//anaconda/lib/python2.7/site-packages/lxml-3.3.5-py2.7-macosx-10.5-x86_64.egg/lxml/html/__init__.py\", line 706, in fromstring\n",
      "    doc = document_fromstring(html, parser=parser, base_url=base_url, **kw)\n",
      "  File \"//anaconda/lib/python2.7/site-packages/lxml-3.3.5-py2.7-macosx-10.5-x86_64.egg/lxml/html/__init__.py\", line 600, in document_fromstring\n",
      "    value = etree.fromstring(html, parser, **kw)\n",
      "  File \"lxml.etree.pyx\", line 3032, in lxml.etree.fromstring (src/lxml/lxml.etree.c:68121)\n",
      "  File \"parser.pxi\", line 1786, in lxml.etree._parseMemoryDocument (src/lxml/lxml.etree.c:102470)\n",
      "  File \"parser.pxi\", line 1667, in lxml.etree._parseDoc (src/lxml/lxml.etree.c:101229)\n",
      "  File \"parser.pxi\", line 1035, in lxml.etree._BaseParser._parseUnicodeDoc (src/lxml/lxml.etree.c:96139)\n",
      "  File \"parser.pxi\", line 582, in lxml.etree._ParserContext._handleParseResultDoc (src/lxml/lxml.etree.c:91290)\n",
      "  File \"parser.pxi\", line 683, in lxml.etree._handleParseResult (src/lxml/lxml.etree.c:92476)\n",
      "  File \"parser.pxi\", line 631, in lxml.etree._raiseParseError (src/lxml/lxml.etree.c:91904)\n",
      "XMLSyntaxError: line 1612: ID cmJanrainRegistration already defined\n",
      "Traceback (most recent call last):\n"
     ]
    },
    {
     "name": "stdout",
     "output_type": "stream",
     "text": [
      "80145 You must download and parse an article before parsing it!\n",
      "81243"
     ]
    },
    {
     "name": "stderr",
     "output_type": "stream",
     "text": [
      "  File \"//anaconda/lib/python2.7/site-packages/newspaper-0.0.9.8-py2.7.egg/newspaper/parsers.py\", line 54, in fromstring\n",
      "    cls.doc = lxml.html.fromstring(html)\n",
      "  File \"//anaconda/lib/python2.7/site-packages/lxml-3.3.5-py2.7-macosx-10.5-x86_64.egg/lxml/html/__init__.py\", line 706, in fromstring\n",
      "    doc = document_fromstring(html, parser=parser, base_url=base_url, **kw)\n",
      "  File \"//anaconda/lib/python2.7/site-packages/lxml-3.3.5-py2.7-macosx-10.5-x86_64.egg/lxml/html/__init__.py\", line 600, in document_fromstring\n",
      "    value = etree.fromstring(html, parser, **kw)\n",
      "  File \"lxml.etree.pyx\", line 3032, in lxml.etree.fromstring (src/lxml/lxml.etree.c:68121)\n",
      "  File \"parser.pxi\", line 1786, in lxml.etree._parseMemoryDocument (src/lxml/lxml.etree.c:102470)\n",
      "  File \"parser.pxi\", line 1667, in lxml.etree._parseDoc (src/lxml/lxml.etree.c:101229)\n",
      "  File \"parser.pxi\", line 1035, in lxml.etree._BaseParser._parseUnicodeDoc (src/lxml/lxml.etree.c:96139)\n",
      "  File \"parser.pxi\", line 582, in lxml.etree._ParserContext._handleParseResultDoc (src/lxml/lxml.etree.c:91290)\n",
      "  File \"parser.pxi\", line 683, in lxml.etree._handleParseResult (src/lxml/lxml.etree.c:92476)\n",
      "  File \"parser.pxi\", line 631, in lxml.etree._raiseParseError (src/lxml/lxml.etree.c:91904)\n",
      "XMLSyntaxError: line 958: Element script embeds close tag\n",
      "Traceback (most recent call last):\n"
     ]
    },
    {
     "name": "stdout",
     "output_type": "stream",
     "text": [
      " 82706 You must download and parse an article before parsing it!\n",
      "85307"
     ]
    },
    {
     "name": "stderr",
     "output_type": "stream",
     "text": [
      "  File \"//anaconda/lib/python2.7/site-packages/newspaper-0.0.9.8-py2.7.egg/newspaper/parsers.py\", line 54, in fromstring\n",
      "    cls.doc = lxml.html.fromstring(html)\n",
      "  File \"//anaconda/lib/python2.7/site-packages/lxml-3.3.5-py2.7-macosx-10.5-x86_64.egg/lxml/html/__init__.py\", line 706, in fromstring\n",
      "    doc = document_fromstring(html, parser=parser, base_url=base_url, **kw)\n",
      "  File \"//anaconda/lib/python2.7/site-packages/lxml-3.3.5-py2.7-macosx-10.5-x86_64.egg/lxml/html/__init__.py\", line 600, in document_fromstring\n",
      "    value = etree.fromstring(html, parser, **kw)\n",
      "  File \"lxml.etree.pyx\", line 3032, in lxml.etree.fromstring (src/lxml/lxml.etree.c:68121)\n",
      "  File \"parser.pxi\", line 1786, in lxml.etree._parseMemoryDocument (src/lxml/lxml.etree.c:102470)\n",
      "  File \"parser.pxi\", line 1667, in lxml.etree._parseDoc (src/lxml/lxml.etree.c:101229)\n",
      "  File \"parser.pxi\", line 1035, in lxml.etree._BaseParser._parseUnicodeDoc (src/lxml/lxml.etree.c:96139)\n",
      "  File \"parser.pxi\", line 582, in lxml.etree._ParserContext._handleParseResultDoc (src/lxml/lxml.etree.c:91290)\n",
      "  File \"parser.pxi\", line 683, in lxml.etree._handleParseResult (src/lxml/lxml.etree.c:92476)\n",
      "  File \"parser.pxi\", line 631, in lxml.etree._raiseParseError (src/lxml/lxml.etree.c:91904)\n",
      "XMLSyntaxError: line 248: Element script embeds close tag\n",
      "Traceback (most recent call last):\n"
     ]
    },
    {
     "name": "stdout",
     "output_type": "stream",
     "text": [
      " You must download and parse an article before parsing it!\n",
      "85844"
     ]
    },
    {
     "name": "stderr",
     "output_type": "stream",
     "text": [
      "  File \"//anaconda/lib/python2.7/site-packages/newspaper-0.0.9.8-py2.7.egg/newspaper/parsers.py\", line 54, in fromstring\n",
      "    cls.doc = lxml.html.fromstring(html)\n",
      "  File \"//anaconda/lib/python2.7/site-packages/lxml-3.3.5-py2.7-macosx-10.5-x86_64.egg/lxml/html/__init__.py\", line 706, in fromstring\n",
      "    doc = document_fromstring(html, parser=parser, base_url=base_url, **kw)\n",
      "  File \"//anaconda/lib/python2.7/site-packages/lxml-3.3.5-py2.7-macosx-10.5-x86_64.egg/lxml/html/__init__.py\", line 600, in document_fromstring\n",
      "    value = etree.fromstring(html, parser, **kw)\n",
      "  File \"lxml.etree.pyx\", line 3032, in lxml.etree.fromstring (src/lxml/lxml.etree.c:68121)\n",
      "  File \"parser.pxi\", line 1786, in lxml.etree._parseMemoryDocument (src/lxml/lxml.etree.c:102470)\n",
      "  File \"parser.pxi\", line 1667, in lxml.etree._parseDoc (src/lxml/lxml.etree.c:101229)\n",
      "  File \"parser.pxi\", line 1035, in lxml.etree._BaseParser._parseUnicodeDoc (src/lxml/lxml.etree.c:96139)\n",
      "  File \"parser.pxi\", line 582, in lxml.etree._ParserContext._handleParseResultDoc (src/lxml/lxml.etree.c:91290)\n",
      "  File \"parser.pxi\", line 683, in lxml.etree._handleParseResult (src/lxml/lxml.etree.c:92476)\n",
      "  File \"parser.pxi\", line 631, in lxml.etree._raiseParseError (src/lxml/lxml.etree.c:91904)\n",
      "XMLSyntaxError: line 248: Element script embeds close tag\n",
      "Traceback (most recent call last):\n"
     ]
    },
    {
     "name": "stdout",
     "output_type": "stream",
     "text": [
      " You must download and parse an article before parsing it!\n",
      "87404"
     ]
    },
    {
     "name": "stderr",
     "output_type": "stream",
     "text": [
      "  File \"//anaconda/lib/python2.7/site-packages/newspaper-0.0.9.8-py2.7.egg/newspaper/parsers.py\", line 54, in fromstring\n",
      "    cls.doc = lxml.html.fromstring(html)\n",
      "  File \"//anaconda/lib/python2.7/site-packages/lxml-3.3.5-py2.7-macosx-10.5-x86_64.egg/lxml/html/__init__.py\", line 706, in fromstring\n",
      "    doc = document_fromstring(html, parser=parser, base_url=base_url, **kw)\n",
      "  File \"//anaconda/lib/python2.7/site-packages/lxml-3.3.5-py2.7-macosx-10.5-x86_64.egg/lxml/html/__init__.py\", line 600, in document_fromstring\n",
      "    value = etree.fromstring(html, parser, **kw)\n",
      "  File \"lxml.etree.pyx\", line 3032, in lxml.etree.fromstring (src/lxml/lxml.etree.c:68121)\n",
      "  File \"parser.pxi\", line 1786, in lxml.etree._parseMemoryDocument (src/lxml/lxml.etree.c:102470)\n",
      "  File \"parser.pxi\", line 1667, in lxml.etree._parseDoc (src/lxml/lxml.etree.c:101229)\n",
      "  File \"parser.pxi\", line 1035, in lxml.etree._BaseParser._parseUnicodeDoc (src/lxml/lxml.etree.c:96139)\n",
      "  File \"parser.pxi\", line 582, in lxml.etree._ParserContext._handleParseResultDoc (src/lxml/lxml.etree.c:91290)\n",
      "  File \"parser.pxi\", line 683, in lxml.etree._handleParseResult (src/lxml/lxml.etree.c:92476)\n",
      "  File \"parser.pxi\", line 631, in lxml.etree._raiseParseError (src/lxml/lxml.etree.c:91904)\n",
      "XMLSyntaxError: line 248: Element script embeds close tag\n",
      "Traceback (most recent call last):\n"
     ]
    },
    {
     "name": "stdout",
     "output_type": "stream",
     "text": [
      " 91705 You must download and parse an article before parsing it!\n",
      "91711"
     ]
    },
    {
     "name": "stderr",
     "output_type": "stream",
     "text": [
      "  File \"//anaconda/lib/python2.7/site-packages/newspaper-0.0.9.8-py2.7.egg/newspaper/parsers.py\", line 54, in fromstring\n",
      "    cls.doc = lxml.html.fromstring(html)\n",
      "  File \"//anaconda/lib/python2.7/site-packages/lxml-3.3.5-py2.7-macosx-10.5-x86_64.egg/lxml/html/__init__.py\", line 706, in fromstring\n",
      "    doc = document_fromstring(html, parser=parser, base_url=base_url, **kw)\n",
      "  File \"//anaconda/lib/python2.7/site-packages/lxml-3.3.5-py2.7-macosx-10.5-x86_64.egg/lxml/html/__init__.py\", line 600, in document_fromstring\n",
      "    value = etree.fromstring(html, parser, **kw)\n",
      "  File \"lxml.etree.pyx\", line 3032, in lxml.etree.fromstring (src/lxml/lxml.etree.c:68121)\n",
      "  File \"parser.pxi\", line 1786, in lxml.etree._parseMemoryDocument (src/lxml/lxml.etree.c:102470)\n",
      "  File \"parser.pxi\", line 1667, in lxml.etree._parseDoc (src/lxml/lxml.etree.c:101229)\n",
      "  File \"parser.pxi\", line 1035, in lxml.etree._BaseParser._parseUnicodeDoc (src/lxml/lxml.etree.c:96139)\n",
      "  File \"parser.pxi\", line 582, in lxml.etree._ParserContext._handleParseResultDoc (src/lxml/lxml.etree.c:91290)\n",
      "  File \"parser.pxi\", line 683, in lxml.etree._handleParseResult (src/lxml/lxml.etree.c:92476)\n",
      "  File \"parser.pxi\", line 631, in lxml.etree._raiseParseError (src/lxml/lxml.etree.c:91904)\n",
      "XMLSyntaxError: line 1868: ID fb-root already defined\n",
      "Traceback (most recent call last):\n"
     ]
    },
    {
     "name": "stdout",
     "output_type": "stream",
     "text": [
      " You must download and parse an article before parsing it!\n",
      "92904"
     ]
    },
    {
     "name": "stderr",
     "output_type": "stream",
     "text": [
      "  File \"//anaconda/lib/python2.7/site-packages/newspaper-0.0.9.8-py2.7.egg/newspaper/parsers.py\", line 54, in fromstring\n",
      "    cls.doc = lxml.html.fromstring(html)\n",
      "  File \"//anaconda/lib/python2.7/site-packages/lxml-3.3.5-py2.7-macosx-10.5-x86_64.egg/lxml/html/__init__.py\", line 706, in fromstring\n",
      "    doc = document_fromstring(html, parser=parser, base_url=base_url, **kw)\n",
      "  File \"//anaconda/lib/python2.7/site-packages/lxml-3.3.5-py2.7-macosx-10.5-x86_64.egg/lxml/html/__init__.py\", line 600, in document_fromstring\n",
      "    value = etree.fromstring(html, parser, **kw)\n",
      "  File \"lxml.etree.pyx\", line 3032, in lxml.etree.fromstring (src/lxml/lxml.etree.c:68121)\n",
      "  File \"parser.pxi\", line 1786, in lxml.etree._parseMemoryDocument (src/lxml/lxml.etree.c:102470)\n",
      "  File \"parser.pxi\", line 1667, in lxml.etree._parseDoc (src/lxml/lxml.etree.c:101229)\n",
      "  File \"parser.pxi\", line 1035, in lxml.etree._BaseParser._parseUnicodeDoc (src/lxml/lxml.etree.c:96139)\n",
      "  File \"parser.pxi\", line 582, in lxml.etree._ParserContext._handleParseResultDoc (src/lxml/lxml.etree.c:91290)\n",
      "  File \"parser.pxi\", line 683, in lxml.etree._handleParseResult (src/lxml/lxml.etree.c:92476)\n",
      "  File \"parser.pxi\", line 631, in lxml.etree._raiseParseError (src/lxml/lxml.etree.c:91904)\n",
      "XMLSyntaxError: line 1868: ID fb-root already defined\n",
      "Traceback (most recent call last):\n"
     ]
    },
    {
     "name": "stdout",
     "output_type": "stream",
     "text": [
      " You must download and parse an article before parsing it!\n",
      "92940"
     ]
    },
    {
     "name": "stderr",
     "output_type": "stream",
     "text": [
      "  File \"//anaconda/lib/python2.7/site-packages/newspaper-0.0.9.8-py2.7.egg/newspaper/parsers.py\", line 54, in fromstring\n",
      "    cls.doc = lxml.html.fromstring(html)\n",
      "  File \"//anaconda/lib/python2.7/site-packages/lxml-3.3.5-py2.7-macosx-10.5-x86_64.egg/lxml/html/__init__.py\", line 706, in fromstring\n",
      "    doc = document_fromstring(html, parser=parser, base_url=base_url, **kw)\n",
      "  File \"//anaconda/lib/python2.7/site-packages/lxml-3.3.5-py2.7-macosx-10.5-x86_64.egg/lxml/html/__init__.py\", line 600, in document_fromstring\n",
      "    value = etree.fromstring(html, parser, **kw)\n",
      "  File \"lxml.etree.pyx\", line 3032, in lxml.etree.fromstring (src/lxml/lxml.etree.c:68121)\n",
      "  File \"parser.pxi\", line 1786, in lxml.etree._parseMemoryDocument (src/lxml/lxml.etree.c:102470)\n",
      "  File \"parser.pxi\", line 1667, in lxml.etree._parseDoc (src/lxml/lxml.etree.c:101229)\n",
      "  File \"parser.pxi\", line 1035, in lxml.etree._BaseParser._parseUnicodeDoc (src/lxml/lxml.etree.c:96139)\n",
      "  File \"parser.pxi\", line 582, in lxml.etree._ParserContext._handleParseResultDoc (src/lxml/lxml.etree.c:91290)\n",
      "  File \"parser.pxi\", line 683, in lxml.etree._handleParseResult (src/lxml/lxml.etree.c:92476)\n",
      "  File \"parser.pxi\", line 631, in lxml.etree._raiseParseError (src/lxml/lxml.etree.c:91904)\n",
      "XMLSyntaxError: line 1868: ID fb-root already defined\n",
      "Traceback (most recent call last):\n"
     ]
    },
    {
     "name": "stdout",
     "output_type": "stream",
     "text": [
      " You must download and parse an article before parsing it!\n",
      "93777 93927 "
     ]
    },
    {
     "name": "stderr",
     "output_type": "stream",
     "text": [
      "  File \"//anaconda/lib/python2.7/site-packages/newspaper-0.0.9.8-py2.7.egg/newspaper/parsers.py\", line 54, in fromstring\n",
      "    cls.doc = lxml.html.fromstring(html)\n",
      "  File \"//anaconda/lib/python2.7/site-packages/lxml-3.3.5-py2.7-macosx-10.5-x86_64.egg/lxml/html/__init__.py\", line 706, in fromstring\n",
      "    doc = document_fromstring(html, parser=parser, base_url=base_url, **kw)\n",
      "  File \"//anaconda/lib/python2.7/site-packages/lxml-3.3.5-py2.7-macosx-10.5-x86_64.egg/lxml/html/__init__.py\", line 600, in document_fromstring\n",
      "    value = etree.fromstring(html, parser, **kw)\n",
      "  File \"lxml.etree.pyx\", line 3032, in lxml.etree.fromstring (src/lxml/lxml.etree.c:68121)\n",
      "  File \"parser.pxi\", line 1786, in lxml.etree._parseMemoryDocument (src/lxml/lxml.etree.c:102470)\n",
      "  File \"parser.pxi\", line 1667, in lxml.etree._parseDoc (src/lxml/lxml.etree.c:101229)\n",
      "  File \"parser.pxi\", line 1035, in lxml.etree._BaseParser._parseUnicodeDoc (src/lxml/lxml.etree.c:96139)\n",
      "  File \"parser.pxi\", line 582, in lxml.etree._ParserContext._handleParseResultDoc (src/lxml/lxml.etree.c:91290)\n",
      "  File \"parser.pxi\", line 683, in lxml.etree._handleParseResult (src/lxml/lxml.etree.c:92476)\n",
      "  File \"parser.pxi\", line 631, in lxml.etree._raiseParseError (src/lxml/lxml.etree.c:91904)\n",
      "XMLSyntaxError: line 1868: ID fb-root already defined\n",
      "Traceback (most recent call last):\n"
     ]
    },
    {
     "name": "stdout",
     "output_type": "stream",
     "text": [
      "94336 You must download and parse an article before parsing it!\n",
      "94882 95472 96706 "
     ]
    },
    {
     "name": "stderr",
     "output_type": "stream",
     "text": [
      "  File \"//anaconda/lib/python2.7/site-packages/newspaper-0.0.9.8-py2.7.egg/newspaper/parsers.py\", line 54, in fromstring\n",
      "    cls.doc = lxml.html.fromstring(html)\n",
      "  File \"//anaconda/lib/python2.7/site-packages/lxml-3.3.5-py2.7-macosx-10.5-x86_64.egg/lxml/html/__init__.py\", line 706, in fromstring\n",
      "    doc = document_fromstring(html, parser=parser, base_url=base_url, **kw)\n",
      "  File \"//anaconda/lib/python2.7/site-packages/lxml-3.3.5-py2.7-macosx-10.5-x86_64.egg/lxml/html/__init__.py\", line 600, in document_fromstring\n",
      "    value = etree.fromstring(html, parser, **kw)\n",
      "  File \"lxml.etree.pyx\", line 3032, in lxml.etree.fromstring (src/lxml/lxml.etree.c:68121)\n",
      "  File \"parser.pxi\", line 1786, in lxml.etree._parseMemoryDocument (src/lxml/lxml.etree.c:102470)\n",
      "  File \"parser.pxi\", line 1667, in lxml.etree._parseDoc (src/lxml/lxml.etree.c:101229)\n",
      "  File \"parser.pxi\", line 1035, in lxml.etree._BaseParser._parseUnicodeDoc (src/lxml/lxml.etree.c:96139)\n",
      "  File \"parser.pxi\", line 582, in lxml.etree._ParserContext._handleParseResultDoc (src/lxml/lxml.etree.c:91290)\n",
      "  File \"parser.pxi\", line 683, in lxml.etree._handleParseResult (src/lxml/lxml.etree.c:92476)\n",
      "  File \"parser.pxi\", line 631, in lxml.etree._raiseParseError (src/lxml/lxml.etree.c:91904)\n",
      "XMLSyntaxError: line 1765: ID cmJanrainRegistration already defined\n",
      "Traceback (most recent call last):\n"
     ]
    },
    {
     "name": "stdout",
     "output_type": "stream",
     "text": [
      "97460 You must download and parse an article before parsing it!\n",
      "97468 97673 "
     ]
    },
    {
     "name": "stderr",
     "output_type": "stream",
     "text": [
      "  File \"//anaconda/lib/python2.7/site-packages/newspaper-0.0.9.8-py2.7.egg/newspaper/parsers.py\", line 54, in fromstring\n",
      "    cls.doc = lxml.html.fromstring(html)\n",
      "  File \"//anaconda/lib/python2.7/site-packages/lxml-3.3.5-py2.7-macosx-10.5-x86_64.egg/lxml/html/__init__.py\", line 706, in fromstring\n",
      "    doc = document_fromstring(html, parser=parser, base_url=base_url, **kw)\n",
      "  File \"//anaconda/lib/python2.7/site-packages/lxml-3.3.5-py2.7-macosx-10.5-x86_64.egg/lxml/html/__init__.py\", line 600, in document_fromstring\n",
      "    value = etree.fromstring(html, parser, **kw)\n",
      "  File \"lxml.etree.pyx\", line 3032, in lxml.etree.fromstring (src/lxml/lxml.etree.c:68121)\n",
      "  File \"parser.pxi\", line 1786, in lxml.etree._parseMemoryDocument (src/lxml/lxml.etree.c:102470)\n",
      "  File \"parser.pxi\", line 1667, in lxml.etree._parseDoc (src/lxml/lxml.etree.c:101229)\n",
      "  File \"parser.pxi\", line 1035, in lxml.etree._BaseParser._parseUnicodeDoc (src/lxml/lxml.etree.c:96139)\n",
      "  File \"parser.pxi\", line 582, in lxml.etree._ParserContext._handleParseResultDoc (src/lxml/lxml.etree.c:91290)\n",
      "  File \"parser.pxi\", line 683, in lxml.etree._handleParseResult (src/lxml/lxml.etree.c:92476)\n",
      "  File \"parser.pxi\", line 631, in lxml.etree._raiseParseError (src/lxml/lxml.etree.c:91904)\n",
      "XMLSyntaxError: line 204: Element script embeds close tag\n",
      "Traceback (most recent call last):\n"
     ]
    },
    {
     "name": "stdout",
     "output_type": "stream",
     "text": [
      "99838 You must download and parse an article before parsing it!\n",
      "100041"
     ]
    },
    {
     "name": "stderr",
     "output_type": "stream",
     "text": [
      "  File \"//anaconda/lib/python2.7/site-packages/newspaper-0.0.9.8-py2.7.egg/newspaper/parsers.py\", line 54, in fromstring\n",
      "    cls.doc = lxml.html.fromstring(html)\n",
      "  File \"//anaconda/lib/python2.7/site-packages/lxml-3.3.5-py2.7-macosx-10.5-x86_64.egg/lxml/html/__init__.py\", line 706, in fromstring\n",
      "    doc = document_fromstring(html, parser=parser, base_url=base_url, **kw)\n",
      "  File \"//anaconda/lib/python2.7/site-packages/lxml-3.3.5-py2.7-macosx-10.5-x86_64.egg/lxml/html/__init__.py\", line 600, in document_fromstring\n",
      "    value = etree.fromstring(html, parser, **kw)\n",
      "  File \"lxml.etree.pyx\", line 3032, in lxml.etree.fromstring (src/lxml/lxml.etree.c:68121)\n",
      "  File \"parser.pxi\", line 1786, in lxml.etree._parseMemoryDocument (src/lxml/lxml.etree.c:102470)\n",
      "  File \"parser.pxi\", line 1667, in lxml.etree._parseDoc (src/lxml/lxml.etree.c:101229)\n",
      "  File \"parser.pxi\", line 1035, in lxml.etree._BaseParser._parseUnicodeDoc (src/lxml/lxml.etree.c:96139)\n",
      "  File \"parser.pxi\", line 582, in lxml.etree._ParserContext._handleParseResultDoc (src/lxml/lxml.etree.c:91290)\n",
      "  File \"parser.pxi\", line 683, in lxml.etree._handleParseResult (src/lxml/lxml.etree.c:92476)\n",
      "  File \"parser.pxi\", line 631, in lxml.etree._raiseParseError (src/lxml/lxml.etree.c:91904)\n",
      "XMLSyntaxError: line 923: Unexpected end tag : div\n",
      "Traceback (most recent call last):\n"
     ]
    },
    {
     "name": "stdout",
     "output_type": "stream",
     "text": [
      " You must download and parse an article before parsing it!\n",
      "100093"
     ]
    },
    {
     "name": "stderr",
     "output_type": "stream",
     "text": [
      "  File \"//anaconda/lib/python2.7/site-packages/newspaper-0.0.9.8-py2.7.egg/newspaper/parsers.py\", line 54, in fromstring\n",
      "    cls.doc = lxml.html.fromstring(html)\n",
      "  File \"//anaconda/lib/python2.7/site-packages/lxml-3.3.5-py2.7-macosx-10.5-x86_64.egg/lxml/html/__init__.py\", line 706, in fromstring\n",
      "    doc = document_fromstring(html, parser=parser, base_url=base_url, **kw)\n",
      "  File \"//anaconda/lib/python2.7/site-packages/lxml-3.3.5-py2.7-macosx-10.5-x86_64.egg/lxml/html/__init__.py\", line 600, in document_fromstring\n",
      "    value = etree.fromstring(html, parser, **kw)\n",
      "  File \"lxml.etree.pyx\", line 3032, in lxml.etree.fromstring (src/lxml/lxml.etree.c:68121)\n",
      "  File \"parser.pxi\", line 1786, in lxml.etree._parseMemoryDocument (src/lxml/lxml.etree.c:102470)\n",
      "  File \"parser.pxi\", line 1667, in lxml.etree._parseDoc (src/lxml/lxml.etree.c:101229)\n",
      "  File \"parser.pxi\", line 1035, in lxml.etree._BaseParser._parseUnicodeDoc (src/lxml/lxml.etree.c:96139)\n",
      "  File \"parser.pxi\", line 582, in lxml.etree._ParserContext._handleParseResultDoc (src/lxml/lxml.etree.c:91290)\n",
      "  File \"parser.pxi\", line 683, in lxml.etree._handleParseResult (src/lxml/lxml.etree.c:92476)\n",
      "  File \"parser.pxi\", line 631, in lxml.etree._raiseParseError (src/lxml/lxml.etree.c:91904)\n",
      "XMLSyntaxError: line 923: Unexpected end tag : div\n",
      "Traceback (most recent call last):\n"
     ]
    },
    {
     "name": "stdout",
     "output_type": "stream",
     "text": [
      " 100292 You must download and parse an article before parsing it!\n",
      "101671"
     ]
    },
    {
     "name": "stderr",
     "output_type": "stream",
     "text": [
      "  File \"//anaconda/lib/python2.7/site-packages/newspaper-0.0.9.8-py2.7.egg/newspaper/parsers.py\", line 54, in fromstring\n",
      "    cls.doc = lxml.html.fromstring(html)\n",
      "  File \"//anaconda/lib/python2.7/site-packages/lxml-3.3.5-py2.7-macosx-10.5-x86_64.egg/lxml/html/__init__.py\", line 706, in fromstring\n",
      "    doc = document_fromstring(html, parser=parser, base_url=base_url, **kw)\n",
      "  File \"//anaconda/lib/python2.7/site-packages/lxml-3.3.5-py2.7-macosx-10.5-x86_64.egg/lxml/html/__init__.py\", line 600, in document_fromstring\n",
      "    value = etree.fromstring(html, parser, **kw)\n",
      "  File \"lxml.etree.pyx\", line 3032, in lxml.etree.fromstring (src/lxml/lxml.etree.c:68121)\n",
      "  File \"parser.pxi\", line 1786, in lxml.etree._parseMemoryDocument (src/lxml/lxml.etree.c:102470)\n",
      "  File \"parser.pxi\", line 1667, in lxml.etree._parseDoc (src/lxml/lxml.etree.c:101229)\n",
      "  File \"parser.pxi\", line 1035, in lxml.etree._BaseParser._parseUnicodeDoc (src/lxml/lxml.etree.c:96139)\n",
      "  File \"parser.pxi\", line 582, in lxml.etree._ParserContext._handleParseResultDoc (src/lxml/lxml.etree.c:91290)\n",
      "  File \"parser.pxi\", line 683, in lxml.etree._handleParseResult (src/lxml/lxml.etree.c:92476)\n",
      "  File \"parser.pxi\", line 631, in lxml.etree._raiseParseError (src/lxml/lxml.etree.c:91904)\n",
      "XMLSyntaxError: line 2069: htmlParseEntityRef: expecting ';'\n",
      "Traceback (most recent call last):\n"
     ]
    },
    {
     "name": "stdout",
     "output_type": "stream",
     "text": [
      " You must download and parse an article before parsing it!\n",
      "101884"
     ]
    },
    {
     "name": "stderr",
     "output_type": "stream",
     "text": [
      "  File \"//anaconda/lib/python2.7/site-packages/newspaper-0.0.9.8-py2.7.egg/newspaper/parsers.py\", line 54, in fromstring\n",
      "    cls.doc = lxml.html.fromstring(html)\n",
      "  File \"//anaconda/lib/python2.7/site-packages/lxml-3.3.5-py2.7-macosx-10.5-x86_64.egg/lxml/html/__init__.py\", line 706, in fromstring\n",
      "    doc = document_fromstring(html, parser=parser, base_url=base_url, **kw)\n",
      "  File \"//anaconda/lib/python2.7/site-packages/lxml-3.3.5-py2.7-macosx-10.5-x86_64.egg/lxml/html/__init__.py\", line 600, in document_fromstring\n",
      "    value = etree.fromstring(html, parser, **kw)\n",
      "  File \"lxml.etree.pyx\", line 3032, in lxml.etree.fromstring (src/lxml/lxml.etree.c:68121)\n",
      "  File \"parser.pxi\", line 1786, in lxml.etree._parseMemoryDocument (src/lxml/lxml.etree.c:102470)\n",
      "  File \"parser.pxi\", line 1667, in lxml.etree._parseDoc (src/lxml/lxml.etree.c:101229)\n",
      "  File \"parser.pxi\", line 1035, in lxml.etree._BaseParser._parseUnicodeDoc (src/lxml/lxml.etree.c:96139)\n",
      "  File \"parser.pxi\", line 582, in lxml.etree._ParserContext._handleParseResultDoc (src/lxml/lxml.etree.c:91290)\n",
      "  File \"parser.pxi\", line 683, in lxml.etree._handleParseResult (src/lxml/lxml.etree.c:92476)\n",
      "  File \"parser.pxi\", line 631, in lxml.etree._raiseParseError (src/lxml/lxml.etree.c:91904)\n",
      "XMLSyntaxError: line 2069: htmlParseEntityRef: expecting ';'\n",
      "Traceback (most recent call last):\n"
     ]
    },
    {
     "name": "stdout",
     "output_type": "stream",
     "text": [
      " You must download and parse an article before parsing it!\n",
      "102434"
     ]
    },
    {
     "name": "stderr",
     "output_type": "stream",
     "text": [
      "  File \"//anaconda/lib/python2.7/site-packages/newspaper-0.0.9.8-py2.7.egg/newspaper/parsers.py\", line 54, in fromstring\n",
      "    cls.doc = lxml.html.fromstring(html)\n",
      "  File \"//anaconda/lib/python2.7/site-packages/lxml-3.3.5-py2.7-macosx-10.5-x86_64.egg/lxml/html/__init__.py\", line 706, in fromstring\n",
      "    doc = document_fromstring(html, parser=parser, base_url=base_url, **kw)\n",
      "  File \"//anaconda/lib/python2.7/site-packages/lxml-3.3.5-py2.7-macosx-10.5-x86_64.egg/lxml/html/__init__.py\", line 600, in document_fromstring\n",
      "    value = etree.fromstring(html, parser, **kw)\n",
      "  File \"lxml.etree.pyx\", line 3032, in lxml.etree.fromstring (src/lxml/lxml.etree.c:68121)\n",
      "  File \"parser.pxi\", line 1786, in lxml.etree._parseMemoryDocument (src/lxml/lxml.etree.c:102470)\n",
      "  File \"parser.pxi\", line 1667, in lxml.etree._parseDoc (src/lxml/lxml.etree.c:101229)\n",
      "  File \"parser.pxi\", line 1035, in lxml.etree._BaseParser._parseUnicodeDoc (src/lxml/lxml.etree.c:96139)\n",
      "  File \"parser.pxi\", line 582, in lxml.etree._ParserContext._handleParseResultDoc (src/lxml/lxml.etree.c:91290)\n",
      "  File \"parser.pxi\", line 683, in lxml.etree._handleParseResult (src/lxml/lxml.etree.c:92476)\n",
      "  File \"parser.pxi\", line 631, in lxml.etree._raiseParseError (src/lxml/lxml.etree.c:91904)\n",
      "XMLSyntaxError: line 2069: htmlParseEntityRef: expecting ';'\n",
      "Traceback (most recent call last):\n"
     ]
    },
    {
     "name": "stdout",
     "output_type": "stream",
     "text": [
      " You must download and parse an article before parsing it!\n",
      "102778"
     ]
    },
    {
     "name": "stderr",
     "output_type": "stream",
     "text": [
      "  File \"//anaconda/lib/python2.7/site-packages/newspaper-0.0.9.8-py2.7.egg/newspaper/parsers.py\", line 54, in fromstring\n",
      "    cls.doc = lxml.html.fromstring(html)\n",
      "  File \"//anaconda/lib/python2.7/site-packages/lxml-3.3.5-py2.7-macosx-10.5-x86_64.egg/lxml/html/__init__.py\", line 706, in fromstring\n",
      "    doc = document_fromstring(html, parser=parser, base_url=base_url, **kw)\n",
      "  File \"//anaconda/lib/python2.7/site-packages/lxml-3.3.5-py2.7-macosx-10.5-x86_64.egg/lxml/html/__init__.py\", line 600, in document_fromstring\n",
      "    value = etree.fromstring(html, parser, **kw)\n",
      "  File \"lxml.etree.pyx\", line 3032, in lxml.etree.fromstring (src/lxml/lxml.etree.c:68121)\n",
      "  File \"parser.pxi\", line 1786, in lxml.etree._parseMemoryDocument (src/lxml/lxml.etree.c:102470)\n",
      "  File \"parser.pxi\", line 1667, in lxml.etree._parseDoc (src/lxml/lxml.etree.c:101229)\n",
      "  File \"parser.pxi\", line 1035, in lxml.etree._BaseParser._parseUnicodeDoc (src/lxml/lxml.etree.c:96139)\n",
      "  File \"parser.pxi\", line 582, in lxml.etree._ParserContext._handleParseResultDoc (src/lxml/lxml.etree.c:91290)\n",
      "  File \"parser.pxi\", line 683, in lxml.etree._handleParseResult (src/lxml/lxml.etree.c:92476)\n",
      "  File \"parser.pxi\", line 631, in lxml.etree._raiseParseError (src/lxml/lxml.etree.c:91904)\n",
      "XMLSyntaxError: line 2069: htmlParseEntityRef: expecting ';'\n",
      "Traceback (most recent call last):\n"
     ]
    },
    {
     "name": "stdout",
     "output_type": "stream",
     "text": [
      " You must download and parse an article before parsing it!\n",
      "105438"
     ]
    },
    {
     "name": "stderr",
     "output_type": "stream",
     "text": [
      "  File \"//anaconda/lib/python2.7/site-packages/newspaper-0.0.9.8-py2.7.egg/newspaper/parsers.py\", line 54, in fromstring\n",
      "    cls.doc = lxml.html.fromstring(html)\n",
      "  File \"//anaconda/lib/python2.7/site-packages/lxml-3.3.5-py2.7-macosx-10.5-x86_64.egg/lxml/html/__init__.py\", line 706, in fromstring\n",
      "    doc = document_fromstring(html, parser=parser, base_url=base_url, **kw)\n",
      "  File \"//anaconda/lib/python2.7/site-packages/lxml-3.3.5-py2.7-macosx-10.5-x86_64.egg/lxml/html/__init__.py\", line 600, in document_fromstring\n",
      "    value = etree.fromstring(html, parser, **kw)\n",
      "  File \"lxml.etree.pyx\", line 3032, in lxml.etree.fromstring (src/lxml/lxml.etree.c:68121)\n",
      "  File \"parser.pxi\", line 1786, in lxml.etree._parseMemoryDocument (src/lxml/lxml.etree.c:102470)\n",
      "  File \"parser.pxi\", line 1667, in lxml.etree._parseDoc (src/lxml/lxml.etree.c:101229)\n",
      "  File \"parser.pxi\", line 1035, in lxml.etree._BaseParser._parseUnicodeDoc (src/lxml/lxml.etree.c:96139)\n",
      "  File \"parser.pxi\", line 582, in lxml.etree._ParserContext._handleParseResultDoc (src/lxml/lxml.etree.c:91290)\n",
      "  File \"parser.pxi\", line 683, in lxml.etree._handleParseResult (src/lxml/lxml.etree.c:92476)\n",
      "  File \"parser.pxi\", line 631, in lxml.etree._raiseParseError (src/lxml/lxml.etree.c:91904)\n",
      "XMLSyntaxError: line 2069: htmlParseEntityRef: expecting ';'\n",
      "Traceback (most recent call last):\n"
     ]
    },
    {
     "name": "stdout",
     "output_type": "stream",
     "text": [
      " You must download and parse an article before parsing it!\n",
      "106002"
     ]
    },
    {
     "name": "stderr",
     "output_type": "stream",
     "text": [
      "  File \"//anaconda/lib/python2.7/site-packages/newspaper-0.0.9.8-py2.7.egg/newspaper/parsers.py\", line 54, in fromstring\n",
      "    cls.doc = lxml.html.fromstring(html)\n",
      "  File \"//anaconda/lib/python2.7/site-packages/lxml-3.3.5-py2.7-macosx-10.5-x86_64.egg/lxml/html/__init__.py\", line 706, in fromstring\n",
      "    doc = document_fromstring(html, parser=parser, base_url=base_url, **kw)\n",
      "  File \"//anaconda/lib/python2.7/site-packages/lxml-3.3.5-py2.7-macosx-10.5-x86_64.egg/lxml/html/__init__.py\", line 600, in document_fromstring\n",
      "    value = etree.fromstring(html, parser, **kw)\n",
      "  File \"lxml.etree.pyx\", line 3032, in lxml.etree.fromstring (src/lxml/lxml.etree.c:68121)\n",
      "  File \"parser.pxi\", line 1786, in lxml.etree._parseMemoryDocument (src/lxml/lxml.etree.c:102470)\n",
      "  File \"parser.pxi\", line 1667, in lxml.etree._parseDoc (src/lxml/lxml.etree.c:101229)\n",
      "  File \"parser.pxi\", line 1035, in lxml.etree._BaseParser._parseUnicodeDoc (src/lxml/lxml.etree.c:96139)\n",
      "  File \"parser.pxi\", line 582, in lxml.etree._ParserContext._handleParseResultDoc (src/lxml/lxml.etree.c:91290)\n",
      "  File \"parser.pxi\", line 683, in lxml.etree._handleParseResult (src/lxml/lxml.etree.c:92476)\n",
      "  File \"parser.pxi\", line 631, in lxml.etree._raiseParseError (src/lxml/lxml.etree.c:91904)\n",
      "XMLSyntaxError: line 2069: htmlParseEntityRef: expecting ';'\n",
      "Traceback (most recent call last):\n"
     ]
    },
    {
     "name": "stdout",
     "output_type": "stream",
     "text": [
      " 106342 You must download and parse an article before parsing it!\n",
      "106884"
     ]
    },
    {
     "name": "stderr",
     "output_type": "stream",
     "text": [
      "  File \"//anaconda/lib/python2.7/site-packages/newspaper-0.0.9.8-py2.7.egg/newspaper/parsers.py\", line 54, in fromstring\n",
      "    cls.doc = lxml.html.fromstring(html)\n",
      "  File \"//anaconda/lib/python2.7/site-packages/lxml-3.3.5-py2.7-macosx-10.5-x86_64.egg/lxml/html/__init__.py\", line 706, in fromstring\n",
      "    doc = document_fromstring(html, parser=parser, base_url=base_url, **kw)\n",
      "  File \"//anaconda/lib/python2.7/site-packages/lxml-3.3.5-py2.7-macosx-10.5-x86_64.egg/lxml/html/__init__.py\", line 600, in document_fromstring\n",
      "    value = etree.fromstring(html, parser, **kw)\n",
      "  File \"lxml.etree.pyx\", line 3032, in lxml.etree.fromstring (src/lxml/lxml.etree.c:68121)\n",
      "  File \"parser.pxi\", line 1786, in lxml.etree._parseMemoryDocument (src/lxml/lxml.etree.c:102470)\n",
      "  File \"parser.pxi\", line 1667, in lxml.etree._parseDoc (src/lxml/lxml.etree.c:101229)\n",
      "  File \"parser.pxi\", line 1035, in lxml.etree._BaseParser._parseUnicodeDoc (src/lxml/lxml.etree.c:96139)\n",
      "  File \"parser.pxi\", line 582, in lxml.etree._ParserContext._handleParseResultDoc (src/lxml/lxml.etree.c:91290)\n",
      "  File \"parser.pxi\", line 683, in lxml.etree._handleParseResult (src/lxml/lxml.etree.c:92476)\n",
      "  File \"parser.pxi\", line 631, in lxml.etree._raiseParseError (src/lxml/lxml.etree.c:91904)\n",
      "XMLSyntaxError: line 890: htmlParseEntityRef: expecting ';'\n",
      "CRITICAL:newspaper.article:jpeg error with PIL, timed out\n"
     ]
    },
    {
     "name": "stdout",
     "output_type": "stream",
     "text": [
      " 107189 109469 You must download and parse an article before parsing it!\n",
      "109533"
     ]
    },
    {
     "name": "stderr",
     "output_type": "stream",
     "text": [
      "Traceback (most recent call last):\n",
      "  File \"//anaconda/lib/python2.7/site-packages/newspaper-0.0.9.8-py2.7.egg/newspaper/parsers.py\", line 54, in fromstring\n",
      "    cls.doc = lxml.html.fromstring(html)\n",
      "  File \"//anaconda/lib/python2.7/site-packages/lxml-3.3.5-py2.7-macosx-10.5-x86_64.egg/lxml/html/__init__.py\", line 706, in fromstring\n",
      "    doc = document_fromstring(html, parser=parser, base_url=base_url, **kw)\n",
      "  File \"//anaconda/lib/python2.7/site-packages/lxml-3.3.5-py2.7-macosx-10.5-x86_64.egg/lxml/html/__init__.py\", line 600, in document_fromstring\n",
      "    value = etree.fromstring(html, parser, **kw)\n",
      "  File \"lxml.etree.pyx\", line 3032, in lxml.etree.fromstring (src/lxml/lxml.etree.c:68121)\n",
      "  File \"parser.pxi\", line 1786, in lxml.etree._parseMemoryDocument (src/lxml/lxml.etree.c:102470)\n",
      "  File \"parser.pxi\", line 1667, in lxml.etree._parseDoc (src/lxml/lxml.etree.c:101229)\n",
      "  File \"parser.pxi\", line 1035, in lxml.etree._BaseParser._parseUnicodeDoc (src/lxml/lxml.etree.c:96139)\n",
      "  File \"parser.pxi\", line 582, in lxml.etree._ParserContext._handleParseResultDoc (src/lxml/lxml.etree.c:91290)\n",
      "  File \"parser.pxi\", line 683, in lxml.etree._handleParseResult (src/lxml/lxml.etree.c:92476)\n",
      "  File \"parser.pxi\", line 631, in lxml.etree._raiseParseError (src/lxml/lxml.etree.c:91904)\n",
      "XMLSyntaxError: line 1344: htmlParseEntityRef: expecting ';'\n",
      "Traceback (most recent call last):\n"
     ]
    },
    {
     "name": "stdout",
     "output_type": "stream",
     "text": [
      " You must download and parse an article before parsing it!\n",
      "109848 109911 "
     ]
    },
    {
     "name": "stderr",
     "output_type": "stream",
     "text": [
      "  File \"//anaconda/lib/python2.7/site-packages/newspaper-0.0.9.8-py2.7.egg/newspaper/parsers.py\", line 54, in fromstring\n",
      "    cls.doc = lxml.html.fromstring(html)\n",
      "  File \"//anaconda/lib/python2.7/site-packages/lxml-3.3.5-py2.7-macosx-10.5-x86_64.egg/lxml/html/__init__.py\", line 706, in fromstring\n",
      "    doc = document_fromstring(html, parser=parser, base_url=base_url, **kw)\n",
      "  File \"//anaconda/lib/python2.7/site-packages/lxml-3.3.5-py2.7-macosx-10.5-x86_64.egg/lxml/html/__init__.py\", line 600, in document_fromstring\n",
      "    value = etree.fromstring(html, parser, **kw)\n",
      "  File \"lxml.etree.pyx\", line 3032, in lxml.etree.fromstring (src/lxml/lxml.etree.c:68121)\n",
      "  File \"parser.pxi\", line 1786, in lxml.etree._parseMemoryDocument (src/lxml/lxml.etree.c:102470)\n",
      "  File \"parser.pxi\", line 1667, in lxml.etree._parseDoc (src/lxml/lxml.etree.c:101229)\n",
      "  File \"parser.pxi\", line 1035, in lxml.etree._BaseParser._parseUnicodeDoc (src/lxml/lxml.etree.c:96139)\n",
      "  File \"parser.pxi\", line 582, in lxml.etree._ParserContext._handleParseResultDoc (src/lxml/lxml.etree.c:91290)\n",
      "  File \"parser.pxi\", line 683, in lxml.etree._handleParseResult (src/lxml/lxml.etree.c:92476)\n",
      "  File \"parser.pxi\", line 631, in lxml.etree._raiseParseError (src/lxml/lxml.etree.c:91904)\n",
      "XMLSyntaxError: line 1344: htmlParseEntityRef: expecting ';'\n",
      "Traceback (most recent call last):\n"
     ]
    },
    {
     "name": "stdout",
     "output_type": "stream",
     "text": [
      "109990 You must download and parse an article before parsing it!\n",
      "117113"
     ]
    },
    {
     "name": "stderr",
     "output_type": "stream",
     "text": [
      "  File \"//anaconda/lib/python2.7/site-packages/newspaper-0.0.9.8-py2.7.egg/newspaper/parsers.py\", line 54, in fromstring\n",
      "    cls.doc = lxml.html.fromstring(html)\n",
      "  File \"//anaconda/lib/python2.7/site-packages/lxml-3.3.5-py2.7-macosx-10.5-x86_64.egg/lxml/html/__init__.py\", line 706, in fromstring\n",
      "    doc = document_fromstring(html, parser=parser, base_url=base_url, **kw)\n",
      "  File \"//anaconda/lib/python2.7/site-packages/lxml-3.3.5-py2.7-macosx-10.5-x86_64.egg/lxml/html/__init__.py\", line 600, in document_fromstring\n",
      "    value = etree.fromstring(html, parser, **kw)\n",
      "  File \"lxml.etree.pyx\", line 3032, in lxml.etree.fromstring (src/lxml/lxml.etree.c:68121)\n",
      "  File \"parser.pxi\", line 1786, in lxml.etree._parseMemoryDocument (src/lxml/lxml.etree.c:102470)\n",
      "  File \"parser.pxi\", line 1667, in lxml.etree._parseDoc (src/lxml/lxml.etree.c:101229)\n",
      "  File \"parser.pxi\", line 1035, in lxml.etree._BaseParser._parseUnicodeDoc (src/lxml/lxml.etree.c:96139)\n",
      "  File \"parser.pxi\", line 582, in lxml.etree._ParserContext._handleParseResultDoc (src/lxml/lxml.etree.c:91290)\n",
      "  File \"parser.pxi\", line 683, in lxml.etree._handleParseResult (src/lxml/lxml.etree.c:92476)\n",
      "  File \"parser.pxi\", line 631, in lxml.etree._raiseParseError (src/lxml/lxml.etree.c:91904)\n",
      "XMLSyntaxError: line 1966: htmlParseEntityRef: expecting ';'\n",
      "Traceback (most recent call last):\n"
     ]
    },
    {
     "name": "stdout",
     "output_type": "stream",
     "text": [
      " You must download and parse an article before parsing it!\n",
      "120515"
     ]
    },
    {
     "name": "stderr",
     "output_type": "stream",
     "text": [
      "  File \"//anaconda/lib/python2.7/site-packages/newspaper-0.0.9.8-py2.7.egg/newspaper/parsers.py\", line 54, in fromstring\n",
      "    cls.doc = lxml.html.fromstring(html)\n",
      "  File \"//anaconda/lib/python2.7/site-packages/lxml-3.3.5-py2.7-macosx-10.5-x86_64.egg/lxml/html/__init__.py\", line 706, in fromstring\n",
      "    doc = document_fromstring(html, parser=parser, base_url=base_url, **kw)\n",
      "  File \"//anaconda/lib/python2.7/site-packages/lxml-3.3.5-py2.7-macosx-10.5-x86_64.egg/lxml/html/__init__.py\", line 600, in document_fromstring\n",
      "    value = etree.fromstring(html, parser, **kw)\n",
      "  File \"lxml.etree.pyx\", line 3032, in lxml.etree.fromstring (src/lxml/lxml.etree.c:68121)\n",
      "  File \"parser.pxi\", line 1786, in lxml.etree._parseMemoryDocument (src/lxml/lxml.etree.c:102470)\n",
      "  File \"parser.pxi\", line 1667, in lxml.etree._parseDoc (src/lxml/lxml.etree.c:101229)\n",
      "  File \"parser.pxi\", line 1035, in lxml.etree._BaseParser._parseUnicodeDoc (src/lxml/lxml.etree.c:96139)\n",
      "  File \"parser.pxi\", line 582, in lxml.etree._ParserContext._handleParseResultDoc (src/lxml/lxml.etree.c:91290)\n",
      "  File \"parser.pxi\", line 683, in lxml.etree._handleParseResult (src/lxml/lxml.etree.c:92476)\n",
      "  File \"parser.pxi\", line 631, in lxml.etree._raiseParseError (src/lxml/lxml.etree.c:91904)\n",
      "XMLSyntaxError: line 1966: htmlParseEntityRef: expecting ';'\n",
      "Traceback (most recent call last):\n"
     ]
    },
    {
     "name": "stdout",
     "output_type": "stream",
     "text": [
      " 121542 You must download and parse an article before parsing it!\n",
      "121862"
     ]
    },
    {
     "name": "stderr",
     "output_type": "stream",
     "text": [
      "  File \"//anaconda/lib/python2.7/site-packages/newspaper-0.0.9.8-py2.7.egg/newspaper/parsers.py\", line 54, in fromstring\n",
      "    cls.doc = lxml.html.fromstring(html)\n",
      "  File \"//anaconda/lib/python2.7/site-packages/lxml-3.3.5-py2.7-macosx-10.5-x86_64.egg/lxml/html/__init__.py\", line 706, in fromstring\n",
      "    doc = document_fromstring(html, parser=parser, base_url=base_url, **kw)\n",
      "  File \"//anaconda/lib/python2.7/site-packages/lxml-3.3.5-py2.7-macosx-10.5-x86_64.egg/lxml/html/__init__.py\", line 600, in document_fromstring\n",
      "    value = etree.fromstring(html, parser, **kw)\n",
      "  File \"lxml.etree.pyx\", line 3032, in lxml.etree.fromstring (src/lxml/lxml.etree.c:68121)\n",
      "  File \"parser.pxi\", line 1786, in lxml.etree._parseMemoryDocument (src/lxml/lxml.etree.c:102470)\n",
      "  File \"parser.pxi\", line 1667, in lxml.etree._parseDoc (src/lxml/lxml.etree.c:101229)\n",
      "  File \"parser.pxi\", line 1035, in lxml.etree._BaseParser._parseUnicodeDoc (src/lxml/lxml.etree.c:96139)\n",
      "  File \"parser.pxi\", line 582, in lxml.etree._ParserContext._handleParseResultDoc (src/lxml/lxml.etree.c:91290)\n",
      "  File \"parser.pxi\", line 683, in lxml.etree._handleParseResult (src/lxml/lxml.etree.c:92476)\n",
      "  File \"parser.pxi\", line 631, in lxml.etree._raiseParseError (src/lxml/lxml.etree.c:91904)\n",
      "XMLSyntaxError: line 1867: ID fb-root already defined\n",
      "Traceback (most recent call last):\n"
     ]
    },
    {
     "name": "stdout",
     "output_type": "stream",
     "text": [
      " 122053 You must download and parse an article before parsing it!\n",
      "122101 122312 "
     ]
    },
    {
     "name": "stderr",
     "output_type": "stream",
     "text": [
      "  File \"//anaconda/lib/python2.7/site-packages/newspaper-0.0.9.8-py2.7.egg/newspaper/parsers.py\", line 54, in fromstring\n",
      "    cls.doc = lxml.html.fromstring(html)\n",
      "  File \"//anaconda/lib/python2.7/site-packages/lxml-3.3.5-py2.7-macosx-10.5-x86_64.egg/lxml/html/__init__.py\", line 706, in fromstring\n",
      "    doc = document_fromstring(html, parser=parser, base_url=base_url, **kw)\n",
      "  File \"//anaconda/lib/python2.7/site-packages/lxml-3.3.5-py2.7-macosx-10.5-x86_64.egg/lxml/html/__init__.py\", line 600, in document_fromstring\n",
      "    value = etree.fromstring(html, parser, **kw)\n",
      "  File \"lxml.etree.pyx\", line 3032, in lxml.etree.fromstring (src/lxml/lxml.etree.c:68121)\n",
      "  File \"parser.pxi\", line 1786, in lxml.etree._parseMemoryDocument (src/lxml/lxml.etree.c:102470)\n",
      "  File \"parser.pxi\", line 1667, in lxml.etree._parseDoc (src/lxml/lxml.etree.c:101229)\n",
      "  File \"parser.pxi\", line 1035, in lxml.etree._BaseParser._parseUnicodeDoc (src/lxml/lxml.etree.c:96139)\n",
      "  File \"parser.pxi\", line 582, in lxml.etree._ParserContext._handleParseResultDoc (src/lxml/lxml.etree.c:91290)\n",
      "  File \"parser.pxi\", line 683, in lxml.etree._handleParseResult (src/lxml/lxml.etree.c:92476)\n",
      "  File \"parser.pxi\", line 631, in lxml.etree._raiseParseError (src/lxml/lxml.etree.c:91904)\n",
      "XMLSyntaxError: line 115: Element script embeds close tag\n",
      "Traceback (most recent call last):\n"
     ]
    },
    {
     "name": "stdout",
     "output_type": "stream",
     "text": [
      "123097 You must download and parse an article before parsing it!\n",
      "123275 123335 123470 123548 123697 123820 123887 124084 124429 "
     ]
    },
    {
     "name": "stderr",
     "output_type": "stream",
     "text": [
      "  File \"//anaconda/lib/python2.7/site-packages/newspaper-0.0.9.8-py2.7.egg/newspaper/parsers.py\", line 54, in fromstring\n",
      "    cls.doc = lxml.html.fromstring(html)\n",
      "  File \"//anaconda/lib/python2.7/site-packages/lxml-3.3.5-py2.7-macosx-10.5-x86_64.egg/lxml/html/__init__.py\", line 706, in fromstring\n",
      "    doc = document_fromstring(html, parser=parser, base_url=base_url, **kw)\n",
      "  File \"//anaconda/lib/python2.7/site-packages/lxml-3.3.5-py2.7-macosx-10.5-x86_64.egg/lxml/html/__init__.py\", line 600, in document_fromstring\n",
      "    value = etree.fromstring(html, parser, **kw)\n",
      "  File \"lxml.etree.pyx\", line 3032, in lxml.etree.fromstring (src/lxml/lxml.etree.c:68121)\n",
      "  File \"parser.pxi\", line 1786, in lxml.etree._parseMemoryDocument (src/lxml/lxml.etree.c:102470)\n",
      "  File \"parser.pxi\", line 1667, in lxml.etree._parseDoc (src/lxml/lxml.etree.c:101229)\n",
      "  File \"parser.pxi\", line 1035, in lxml.etree._BaseParser._parseUnicodeDoc (src/lxml/lxml.etree.c:96139)\n",
      "  File \"parser.pxi\", line 582, in lxml.etree._ParserContext._handleParseResultDoc (src/lxml/lxml.etree.c:91290)\n",
      "  File \"parser.pxi\", line 683, in lxml.etree._handleParseResult (src/lxml/lxml.etree.c:92476)\n",
      "  File \"parser.pxi\", line 631, in lxml.etree._raiseParseError (src/lxml/lxml.etree.c:91904)\n",
      "XMLSyntaxError: line 1680: htmlParseEntityRef: expecting ';'\n",
      "Traceback (most recent call last):\n"
     ]
    },
    {
     "name": "stdout",
     "output_type": "stream",
     "text": [
      "124936 You must download and parse an article before parsing it!\n",
      "125212"
     ]
    },
    {
     "name": "stderr",
     "output_type": "stream",
     "text": [
      "  File \"//anaconda/lib/python2.7/site-packages/newspaper-0.0.9.8-py2.7.egg/newspaper/parsers.py\", line 54, in fromstring\n",
      "    cls.doc = lxml.html.fromstring(html)\n",
      "  File \"//anaconda/lib/python2.7/site-packages/lxml-3.3.5-py2.7-macosx-10.5-x86_64.egg/lxml/html/__init__.py\", line 706, in fromstring\n",
      "    doc = document_fromstring(html, parser=parser, base_url=base_url, **kw)\n",
      "  File \"//anaconda/lib/python2.7/site-packages/lxml-3.3.5-py2.7-macosx-10.5-x86_64.egg/lxml/html/__init__.py\", line 600, in document_fromstring\n",
      "    value = etree.fromstring(html, parser, **kw)\n",
      "  File \"lxml.etree.pyx\", line 3032, in lxml.etree.fromstring (src/lxml/lxml.etree.c:68121)\n",
      "  File \"parser.pxi\", line 1786, in lxml.etree._parseMemoryDocument (src/lxml/lxml.etree.c:102470)\n",
      "  File \"parser.pxi\", line 1667, in lxml.etree._parseDoc (src/lxml/lxml.etree.c:101229)\n",
      "  File \"parser.pxi\", line 1035, in lxml.etree._BaseParser._parseUnicodeDoc (src/lxml/lxml.etree.c:96139)\n",
      "  File \"parser.pxi\", line 582, in lxml.etree._ParserContext._handleParseResultDoc (src/lxml/lxml.etree.c:91290)\n",
      "  File \"parser.pxi\", line 683, in lxml.etree._handleParseResult (src/lxml/lxml.etree.c:92476)\n",
      "  File \"parser.pxi\", line 631, in lxml.etree._raiseParseError (src/lxml/lxml.etree.c:91904)\n",
      "XMLSyntaxError: line 1046: Tag header invalid\n",
      "Traceback (most recent call last):\n"
     ]
    },
    {
     "name": "stdout",
     "output_type": "stream",
     "text": [
      " You must download and parse an article before parsing it!\n",
      "127003"
     ]
    },
    {
     "name": "stderr",
     "output_type": "stream",
     "text": [
      "  File \"//anaconda/lib/python2.7/site-packages/newspaper-0.0.9.8-py2.7.egg/newspaper/parsers.py\", line 54, in fromstring\n",
      "    cls.doc = lxml.html.fromstring(html)\n",
      "  File \"//anaconda/lib/python2.7/site-packages/lxml-3.3.5-py2.7-macosx-10.5-x86_64.egg/lxml/html/__init__.py\", line 706, in fromstring\n",
      "    doc = document_fromstring(html, parser=parser, base_url=base_url, **kw)\n",
      "  File \"//anaconda/lib/python2.7/site-packages/lxml-3.3.5-py2.7-macosx-10.5-x86_64.egg/lxml/html/__init__.py\", line 600, in document_fromstring\n",
      "    value = etree.fromstring(html, parser, **kw)\n",
      "  File \"lxml.etree.pyx\", line 3032, in lxml.etree.fromstring (src/lxml/lxml.etree.c:68121)\n",
      "  File \"parser.pxi\", line 1786, in lxml.etree._parseMemoryDocument (src/lxml/lxml.etree.c:102470)\n",
      "  File \"parser.pxi\", line 1667, in lxml.etree._parseDoc (src/lxml/lxml.etree.c:101229)\n",
      "  File \"parser.pxi\", line 1035, in lxml.etree._BaseParser._parseUnicodeDoc (src/lxml/lxml.etree.c:96139)\n",
      "  File \"parser.pxi\", line 582, in lxml.etree._ParserContext._handleParseResultDoc (src/lxml/lxml.etree.c:91290)\n",
      "  File \"parser.pxi\", line 683, in lxml.etree._handleParseResult (src/lxml/lxml.etree.c:92476)\n",
      "  File \"parser.pxi\", line 631, in lxml.etree._raiseParseError (src/lxml/lxml.etree.c:91904)\n",
      "XMLSyntaxError: line 1046: Tag header invalid\n",
      "Traceback (most recent call last):\n"
     ]
    },
    {
     "name": "stdout",
     "output_type": "stream",
     "text": [
      " You must download and parse an article before parsing it!\n",
      "132846"
     ]
    },
    {
     "name": "stderr",
     "output_type": "stream",
     "text": [
      "  File \"//anaconda/lib/python2.7/site-packages/newspaper-0.0.9.8-py2.7.egg/newspaper/parsers.py\", line 54, in fromstring\n",
      "    cls.doc = lxml.html.fromstring(html)\n",
      "  File \"//anaconda/lib/python2.7/site-packages/lxml-3.3.5-py2.7-macosx-10.5-x86_64.egg/lxml/html/__init__.py\", line 706, in fromstring\n",
      "    doc = document_fromstring(html, parser=parser, base_url=base_url, **kw)\n",
      "  File \"//anaconda/lib/python2.7/site-packages/lxml-3.3.5-py2.7-macosx-10.5-x86_64.egg/lxml/html/__init__.py\", line 600, in document_fromstring\n",
      "    value = etree.fromstring(html, parser, **kw)\n",
      "  File \"lxml.etree.pyx\", line 3032, in lxml.etree.fromstring (src/lxml/lxml.etree.c:68121)\n",
      "  File \"parser.pxi\", line 1786, in lxml.etree._parseMemoryDocument (src/lxml/lxml.etree.c:102470)\n",
      "  File \"parser.pxi\", line 1667, in lxml.etree._parseDoc (src/lxml/lxml.etree.c:101229)\n",
      "  File \"parser.pxi\", line 1035, in lxml.etree._BaseParser._parseUnicodeDoc (src/lxml/lxml.etree.c:96139)\n",
      "  File \"parser.pxi\", line 582, in lxml.etree._ParserContext._handleParseResultDoc (src/lxml/lxml.etree.c:91290)\n",
      "  File \"parser.pxi\", line 683, in lxml.etree._handleParseResult (src/lxml/lxml.etree.c:92476)\n",
      "  File \"parser.pxi\", line 631, in lxml.etree._raiseParseError (src/lxml/lxml.etree.c:91904)\n",
      "XMLSyntaxError: line 1046: Tag header invalid\n",
      "Traceback (most recent call last):\n"
     ]
    },
    {
     "name": "stdout",
     "output_type": "stream",
     "text": [
      " You must download and parse an article before parsing it!\n",
      "133594"
     ]
    },
    {
     "name": "stderr",
     "output_type": "stream",
     "text": [
      "  File \"//anaconda/lib/python2.7/site-packages/newspaper-0.0.9.8-py2.7.egg/newspaper/parsers.py\", line 54, in fromstring\n",
      "    cls.doc = lxml.html.fromstring(html)\n",
      "  File \"//anaconda/lib/python2.7/site-packages/lxml-3.3.5-py2.7-macosx-10.5-x86_64.egg/lxml/html/__init__.py\", line 706, in fromstring\n",
      "    doc = document_fromstring(html, parser=parser, base_url=base_url, **kw)\n",
      "  File \"//anaconda/lib/python2.7/site-packages/lxml-3.3.5-py2.7-macosx-10.5-x86_64.egg/lxml/html/__init__.py\", line 600, in document_fromstring\n",
      "    value = etree.fromstring(html, parser, **kw)\n",
      "  File \"lxml.etree.pyx\", line 3032, in lxml.etree.fromstring (src/lxml/lxml.etree.c:68121)\n",
      "  File \"parser.pxi\", line 1786, in lxml.etree._parseMemoryDocument (src/lxml/lxml.etree.c:102470)\n",
      "  File \"parser.pxi\", line 1667, in lxml.etree._parseDoc (src/lxml/lxml.etree.c:101229)\n",
      "  File \"parser.pxi\", line 1035, in lxml.etree._BaseParser._parseUnicodeDoc (src/lxml/lxml.etree.c:96139)\n",
      "  File \"parser.pxi\", line 582, in lxml.etree._ParserContext._handleParseResultDoc (src/lxml/lxml.etree.c:91290)\n",
      "  File \"parser.pxi\", line 683, in lxml.etree._handleParseResult (src/lxml/lxml.etree.c:92476)\n",
      "  File \"parser.pxi\", line 631, in lxml.etree._raiseParseError (src/lxml/lxml.etree.c:91904)\n",
      "XMLSyntaxError: line 1046: Tag header invalid\n",
      "Traceback (most recent call last):\n"
     ]
    },
    {
     "name": "stdout",
     "output_type": "stream",
     "text": [
      " You must download and parse an article before parsing it!\n",
      "136436"
     ]
    },
    {
     "name": "stderr",
     "output_type": "stream",
     "text": [
      "  File \"//anaconda/lib/python2.7/site-packages/newspaper-0.0.9.8-py2.7.egg/newspaper/parsers.py\", line 54, in fromstring\n",
      "    cls.doc = lxml.html.fromstring(html)\n",
      "  File \"//anaconda/lib/python2.7/site-packages/lxml-3.3.5-py2.7-macosx-10.5-x86_64.egg/lxml/html/__init__.py\", line 706, in fromstring\n",
      "    doc = document_fromstring(html, parser=parser, base_url=base_url, **kw)\n",
      "  File \"//anaconda/lib/python2.7/site-packages/lxml-3.3.5-py2.7-macosx-10.5-x86_64.egg/lxml/html/__init__.py\", line 600, in document_fromstring\n",
      "    value = etree.fromstring(html, parser, **kw)\n",
      "  File \"lxml.etree.pyx\", line 3032, in lxml.etree.fromstring (src/lxml/lxml.etree.c:68121)\n",
      "  File \"parser.pxi\", line 1786, in lxml.etree._parseMemoryDocument (src/lxml/lxml.etree.c:102470)\n",
      "  File \"parser.pxi\", line 1667, in lxml.etree._parseDoc (src/lxml/lxml.etree.c:101229)\n",
      "  File \"parser.pxi\", line 1035, in lxml.etree._BaseParser._parseUnicodeDoc (src/lxml/lxml.etree.c:96139)\n",
      "  File \"parser.pxi\", line 582, in lxml.etree._ParserContext._handleParseResultDoc (src/lxml/lxml.etree.c:91290)\n",
      "  File \"parser.pxi\", line 683, in lxml.etree._handleParseResult (src/lxml/lxml.etree.c:92476)\n",
      "  File \"parser.pxi\", line 631, in lxml.etree._raiseParseError (src/lxml/lxml.etree.c:91904)\n",
      "XMLSyntaxError: line 1046: Tag header invalid\n",
      "Traceback (most recent call last):\n"
     ]
    },
    {
     "name": "stdout",
     "output_type": "stream",
     "text": [
      " You must download and parse an article before parsing it!\n",
      "143017"
     ]
    },
    {
     "name": "stderr",
     "output_type": "stream",
     "text": [
      "  File \"//anaconda/lib/python2.7/site-packages/newspaper-0.0.9.8-py2.7.egg/newspaper/parsers.py\", line 54, in fromstring\n",
      "    cls.doc = lxml.html.fromstring(html)\n",
      "  File \"//anaconda/lib/python2.7/site-packages/lxml-3.3.5-py2.7-macosx-10.5-x86_64.egg/lxml/html/__init__.py\", line 706, in fromstring\n",
      "    doc = document_fromstring(html, parser=parser, base_url=base_url, **kw)\n",
      "  File \"//anaconda/lib/python2.7/site-packages/lxml-3.3.5-py2.7-macosx-10.5-x86_64.egg/lxml/html/__init__.py\", line 600, in document_fromstring\n",
      "    value = etree.fromstring(html, parser, **kw)\n",
      "  File \"lxml.etree.pyx\", line 3032, in lxml.etree.fromstring (src/lxml/lxml.etree.c:68121)\n",
      "  File \"parser.pxi\", line 1786, in lxml.etree._parseMemoryDocument (src/lxml/lxml.etree.c:102470)\n",
      "  File \"parser.pxi\", line 1667, in lxml.etree._parseDoc (src/lxml/lxml.etree.c:101229)\n",
      "  File \"parser.pxi\", line 1035, in lxml.etree._BaseParser._parseUnicodeDoc (src/lxml/lxml.etree.c:96139)\n",
      "  File \"parser.pxi\", line 582, in lxml.etree._ParserContext._handleParseResultDoc (src/lxml/lxml.etree.c:91290)\n",
      "  File \"parser.pxi\", line 683, in lxml.etree._handleParseResult (src/lxml/lxml.etree.c:92476)\n",
      "  File \"parser.pxi\", line 631, in lxml.etree._raiseParseError (src/lxml/lxml.etree.c:91904)\n",
      "XMLSyntaxError: line 1046: Tag header invalid\n",
      "Traceback (most recent call last):\n"
     ]
    },
    {
     "name": "stdout",
     "output_type": "stream",
     "text": [
      " You must download and parse an article before parsing it!\n",
      "143182"
     ]
    },
    {
     "name": "stderr",
     "output_type": "stream",
     "text": [
      "  File \"//anaconda/lib/python2.7/site-packages/newspaper-0.0.9.8-py2.7.egg/newspaper/parsers.py\", line 54, in fromstring\n",
      "    cls.doc = lxml.html.fromstring(html)\n",
      "  File \"//anaconda/lib/python2.7/site-packages/lxml-3.3.5-py2.7-macosx-10.5-x86_64.egg/lxml/html/__init__.py\", line 706, in fromstring\n",
      "    doc = document_fromstring(html, parser=parser, base_url=base_url, **kw)\n",
      "  File \"//anaconda/lib/python2.7/site-packages/lxml-3.3.5-py2.7-macosx-10.5-x86_64.egg/lxml/html/__init__.py\", line 600, in document_fromstring\n",
      "    value = etree.fromstring(html, parser, **kw)\n",
      "  File \"lxml.etree.pyx\", line 3032, in lxml.etree.fromstring (src/lxml/lxml.etree.c:68121)\n",
      "  File \"parser.pxi\", line 1786, in lxml.etree._parseMemoryDocument (src/lxml/lxml.etree.c:102470)\n",
      "  File \"parser.pxi\", line 1667, in lxml.etree._parseDoc (src/lxml/lxml.etree.c:101229)\n",
      "  File \"parser.pxi\", line 1035, in lxml.etree._BaseParser._parseUnicodeDoc (src/lxml/lxml.etree.c:96139)\n",
      "  File \"parser.pxi\", line 582, in lxml.etree._ParserContext._handleParseResultDoc (src/lxml/lxml.etree.c:91290)\n",
      "  File \"parser.pxi\", line 683, in lxml.etree._handleParseResult (src/lxml/lxml.etree.c:92476)\n",
      "  File \"parser.pxi\", line 631, in lxml.etree._raiseParseError (src/lxml/lxml.etree.c:91904)\n",
      "XMLSyntaxError: line 1046: Tag header invalid\n",
      "Traceback (most recent call last):\n"
     ]
    },
    {
     "name": "stdout",
     "output_type": "stream",
     "text": [
      " You must download and parse an article before parsing it!\n",
      "143510"
     ]
    },
    {
     "name": "stderr",
     "output_type": "stream",
     "text": [
      "  File \"//anaconda/lib/python2.7/site-packages/newspaper-0.0.9.8-py2.7.egg/newspaper/parsers.py\", line 54, in fromstring\n",
      "    cls.doc = lxml.html.fromstring(html)\n",
      "  File \"//anaconda/lib/python2.7/site-packages/lxml-3.3.5-py2.7-macosx-10.5-x86_64.egg/lxml/html/__init__.py\", line 706, in fromstring\n",
      "    doc = document_fromstring(html, parser=parser, base_url=base_url, **kw)\n",
      "  File \"//anaconda/lib/python2.7/site-packages/lxml-3.3.5-py2.7-macosx-10.5-x86_64.egg/lxml/html/__init__.py\", line 600, in document_fromstring\n",
      "    value = etree.fromstring(html, parser, **kw)\n",
      "  File \"lxml.etree.pyx\", line 3032, in lxml.etree.fromstring (src/lxml/lxml.etree.c:68121)\n",
      "  File \"parser.pxi\", line 1786, in lxml.etree._parseMemoryDocument (src/lxml/lxml.etree.c:102470)\n",
      "  File \"parser.pxi\", line 1667, in lxml.etree._parseDoc (src/lxml/lxml.etree.c:101229)\n",
      "  File \"parser.pxi\", line 1035, in lxml.etree._BaseParser._parseUnicodeDoc (src/lxml/lxml.etree.c:96139)\n",
      "  File \"parser.pxi\", line 582, in lxml.etree._ParserContext._handleParseResultDoc (src/lxml/lxml.etree.c:91290)\n",
      "  File \"parser.pxi\", line 683, in lxml.etree._handleParseResult (src/lxml/lxml.etree.c:92476)\n",
      "  File \"parser.pxi\", line 631, in lxml.etree._raiseParseError (src/lxml/lxml.etree.c:91904)\n",
      "XMLSyntaxError: line 1046: Tag header invalid\n",
      "Traceback (most recent call last):\n"
     ]
    },
    {
     "name": "stdout",
     "output_type": "stream",
     "text": [
      " You must download and parse an article before parsing it!\n",
      "144192"
     ]
    },
    {
     "name": "stderr",
     "output_type": "stream",
     "text": [
      "  File \"//anaconda/lib/python2.7/site-packages/newspaper-0.0.9.8-py2.7.egg/newspaper/parsers.py\", line 54, in fromstring\n",
      "    cls.doc = lxml.html.fromstring(html)\n",
      "  File \"//anaconda/lib/python2.7/site-packages/lxml-3.3.5-py2.7-macosx-10.5-x86_64.egg/lxml/html/__init__.py\", line 706, in fromstring\n",
      "    doc = document_fromstring(html, parser=parser, base_url=base_url, **kw)\n",
      "  File \"//anaconda/lib/python2.7/site-packages/lxml-3.3.5-py2.7-macosx-10.5-x86_64.egg/lxml/html/__init__.py\", line 600, in document_fromstring\n",
      "    value = etree.fromstring(html, parser, **kw)\n",
      "  File \"lxml.etree.pyx\", line 3032, in lxml.etree.fromstring (src/lxml/lxml.etree.c:68121)\n",
      "  File \"parser.pxi\", line 1786, in lxml.etree._parseMemoryDocument (src/lxml/lxml.etree.c:102470)\n",
      "  File \"parser.pxi\", line 1667, in lxml.etree._parseDoc (src/lxml/lxml.etree.c:101229)\n",
      "  File \"parser.pxi\", line 1035, in lxml.etree._BaseParser._parseUnicodeDoc (src/lxml/lxml.etree.c:96139)\n",
      "  File \"parser.pxi\", line 582, in lxml.etree._ParserContext._handleParseResultDoc (src/lxml/lxml.etree.c:91290)\n",
      "  File \"parser.pxi\", line 683, in lxml.etree._handleParseResult (src/lxml/lxml.etree.c:92476)\n",
      "  File \"parser.pxi\", line 631, in lxml.etree._raiseParseError (src/lxml/lxml.etree.c:91904)\n",
      "XMLSyntaxError: line 1046: Tag header invalid\n",
      "Traceback (most recent call last):\n"
     ]
    },
    {
     "name": "stdout",
     "output_type": "stream",
     "text": [
      " You must download and parse an article before parsing it!\n",
      "147073"
     ]
    },
    {
     "name": "stderr",
     "output_type": "stream",
     "text": [
      "  File \"//anaconda/lib/python2.7/site-packages/newspaper-0.0.9.8-py2.7.egg/newspaper/parsers.py\", line 54, in fromstring\n",
      "    cls.doc = lxml.html.fromstring(html)\n",
      "  File \"//anaconda/lib/python2.7/site-packages/lxml-3.3.5-py2.7-macosx-10.5-x86_64.egg/lxml/html/__init__.py\", line 706, in fromstring\n",
      "    doc = document_fromstring(html, parser=parser, base_url=base_url, **kw)\n",
      "  File \"//anaconda/lib/python2.7/site-packages/lxml-3.3.5-py2.7-macosx-10.5-x86_64.egg/lxml/html/__init__.py\", line 600, in document_fromstring\n",
      "    value = etree.fromstring(html, parser, **kw)\n",
      "  File \"lxml.etree.pyx\", line 3032, in lxml.etree.fromstring (src/lxml/lxml.etree.c:68121)\n",
      "  File \"parser.pxi\", line 1786, in lxml.etree._parseMemoryDocument (src/lxml/lxml.etree.c:102470)\n",
      "  File \"parser.pxi\", line 1667, in lxml.etree._parseDoc (src/lxml/lxml.etree.c:101229)\n",
      "  File \"parser.pxi\", line 1035, in lxml.etree._BaseParser._parseUnicodeDoc (src/lxml/lxml.etree.c:96139)\n",
      "  File \"parser.pxi\", line 582, in lxml.etree._ParserContext._handleParseResultDoc (src/lxml/lxml.etree.c:91290)\n",
      "  File \"parser.pxi\", line 683, in lxml.etree._handleParseResult (src/lxml/lxml.etree.c:92476)\n",
      "  File \"parser.pxi\", line 631, in lxml.etree._raiseParseError (src/lxml/lxml.etree.c:91904)\n",
      "XMLSyntaxError: line 1046: Tag header invalid\n",
      "Traceback (most recent call last):\n"
     ]
    },
    {
     "name": "stdout",
     "output_type": "stream",
     "text": [
      " You must download and parse an article before parsing it!\n",
      "148372"
     ]
    },
    {
     "name": "stderr",
     "output_type": "stream",
     "text": [
      "  File \"//anaconda/lib/python2.7/site-packages/newspaper-0.0.9.8-py2.7.egg/newspaper/parsers.py\", line 54, in fromstring\n",
      "    cls.doc = lxml.html.fromstring(html)\n",
      "  File \"//anaconda/lib/python2.7/site-packages/lxml-3.3.5-py2.7-macosx-10.5-x86_64.egg/lxml/html/__init__.py\", line 706, in fromstring\n",
      "    doc = document_fromstring(html, parser=parser, base_url=base_url, **kw)\n",
      "  File \"//anaconda/lib/python2.7/site-packages/lxml-3.3.5-py2.7-macosx-10.5-x86_64.egg/lxml/html/__init__.py\", line 600, in document_fromstring\n",
      "    value = etree.fromstring(html, parser, **kw)\n",
      "  File \"lxml.etree.pyx\", line 3032, in lxml.etree.fromstring (src/lxml/lxml.etree.c:68121)\n",
      "  File \"parser.pxi\", line 1786, in lxml.etree._parseMemoryDocument (src/lxml/lxml.etree.c:102470)\n",
      "  File \"parser.pxi\", line 1667, in lxml.etree._parseDoc (src/lxml/lxml.etree.c:101229)\n",
      "  File \"parser.pxi\", line 1035, in lxml.etree._BaseParser._parseUnicodeDoc (src/lxml/lxml.etree.c:96139)\n",
      "  File \"parser.pxi\", line 582, in lxml.etree._ParserContext._handleParseResultDoc (src/lxml/lxml.etree.c:91290)\n",
      "  File \"parser.pxi\", line 683, in lxml.etree._handleParseResult (src/lxml/lxml.etree.c:92476)\n",
      "  File \"parser.pxi\", line 631, in lxml.etree._raiseParseError (src/lxml/lxml.etree.c:91904)\n",
      "XMLSyntaxError: line 1046: Tag header invalid\n",
      "Traceback (most recent call last):\n"
     ]
    },
    {
     "name": "stdout",
     "output_type": "stream",
     "text": [
      " You must download and parse an article before parsing it!\n",
      "148582"
     ]
    },
    {
     "name": "stderr",
     "output_type": "stream",
     "text": [
      "  File \"//anaconda/lib/python2.7/site-packages/newspaper-0.0.9.8-py2.7.egg/newspaper/parsers.py\", line 54, in fromstring\n",
      "    cls.doc = lxml.html.fromstring(html)\n",
      "  File \"//anaconda/lib/python2.7/site-packages/lxml-3.3.5-py2.7-macosx-10.5-x86_64.egg/lxml/html/__init__.py\", line 706, in fromstring\n",
      "    doc = document_fromstring(html, parser=parser, base_url=base_url, **kw)\n",
      "  File \"//anaconda/lib/python2.7/site-packages/lxml-3.3.5-py2.7-macosx-10.5-x86_64.egg/lxml/html/__init__.py\", line 600, in document_fromstring\n",
      "    value = etree.fromstring(html, parser, **kw)\n",
      "  File \"lxml.etree.pyx\", line 3032, in lxml.etree.fromstring (src/lxml/lxml.etree.c:68121)\n",
      "  File \"parser.pxi\", line 1786, in lxml.etree._parseMemoryDocument (src/lxml/lxml.etree.c:102470)\n",
      "  File \"parser.pxi\", line 1667, in lxml.etree._parseDoc (src/lxml/lxml.etree.c:101229)\n",
      "  File \"parser.pxi\", line 1035, in lxml.etree._BaseParser._parseUnicodeDoc (src/lxml/lxml.etree.c:96139)\n",
      "  File \"parser.pxi\", line 582, in lxml.etree._ParserContext._handleParseResultDoc (src/lxml/lxml.etree.c:91290)\n",
      "  File \"parser.pxi\", line 683, in lxml.etree._handleParseResult (src/lxml/lxml.etree.c:92476)\n",
      "  File \"parser.pxi\", line 631, in lxml.etree._raiseParseError (src/lxml/lxml.etree.c:91904)\n",
      "XMLSyntaxError: line 1046: Tag header invalid\n",
      "Traceback (most recent call last):\n"
     ]
    },
    {
     "name": "stdout",
     "output_type": "stream",
     "text": [
      " You must download and parse an article before parsing it!\n",
      "149360"
     ]
    },
    {
     "name": "stderr",
     "output_type": "stream",
     "text": [
      "  File \"//anaconda/lib/python2.7/site-packages/newspaper-0.0.9.8-py2.7.egg/newspaper/parsers.py\", line 54, in fromstring\n",
      "    cls.doc = lxml.html.fromstring(html)\n",
      "  File \"//anaconda/lib/python2.7/site-packages/lxml-3.3.5-py2.7-macosx-10.5-x86_64.egg/lxml/html/__init__.py\", line 706, in fromstring\n",
      "    doc = document_fromstring(html, parser=parser, base_url=base_url, **kw)\n",
      "  File \"//anaconda/lib/python2.7/site-packages/lxml-3.3.5-py2.7-macosx-10.5-x86_64.egg/lxml/html/__init__.py\", line 600, in document_fromstring\n",
      "    value = etree.fromstring(html, parser, **kw)\n",
      "  File \"lxml.etree.pyx\", line 3032, in lxml.etree.fromstring (src/lxml/lxml.etree.c:68121)\n",
      "  File \"parser.pxi\", line 1786, in lxml.etree._parseMemoryDocument (src/lxml/lxml.etree.c:102470)\n",
      "  File \"parser.pxi\", line 1667, in lxml.etree._parseDoc (src/lxml/lxml.etree.c:101229)\n",
      "  File \"parser.pxi\", line 1035, in lxml.etree._BaseParser._parseUnicodeDoc (src/lxml/lxml.etree.c:96139)\n",
      "  File \"parser.pxi\", line 582, in lxml.etree._ParserContext._handleParseResultDoc (src/lxml/lxml.etree.c:91290)\n",
      "  File \"parser.pxi\", line 683, in lxml.etree._handleParseResult (src/lxml/lxml.etree.c:92476)\n",
      "  File \"parser.pxi\", line 631, in lxml.etree._raiseParseError (src/lxml/lxml.etree.c:91904)\n",
      "XMLSyntaxError: line 1046: Tag header invalid\n",
      "Traceback (most recent call last):\n"
     ]
    },
    {
     "name": "stdout",
     "output_type": "stream",
     "text": [
      " You must download and parse an article before parsing it!\n",
      "151691"
     ]
    },
    {
     "name": "stderr",
     "output_type": "stream",
     "text": [
      "  File \"//anaconda/lib/python2.7/site-packages/newspaper-0.0.9.8-py2.7.egg/newspaper/parsers.py\", line 54, in fromstring\n",
      "    cls.doc = lxml.html.fromstring(html)\n",
      "  File \"//anaconda/lib/python2.7/site-packages/lxml-3.3.5-py2.7-macosx-10.5-x86_64.egg/lxml/html/__init__.py\", line 706, in fromstring\n",
      "    doc = document_fromstring(html, parser=parser, base_url=base_url, **kw)\n",
      "  File \"//anaconda/lib/python2.7/site-packages/lxml-3.3.5-py2.7-macosx-10.5-x86_64.egg/lxml/html/__init__.py\", line 600, in document_fromstring\n",
      "    value = etree.fromstring(html, parser, **kw)\n",
      "  File \"lxml.etree.pyx\", line 3032, in lxml.etree.fromstring (src/lxml/lxml.etree.c:68121)\n",
      "  File \"parser.pxi\", line 1786, in lxml.etree._parseMemoryDocument (src/lxml/lxml.etree.c:102470)\n",
      "  File \"parser.pxi\", line 1667, in lxml.etree._parseDoc (src/lxml/lxml.etree.c:101229)\n",
      "  File \"parser.pxi\", line 1035, in lxml.etree._BaseParser._parseUnicodeDoc (src/lxml/lxml.etree.c:96139)\n",
      "  File \"parser.pxi\", line 582, in lxml.etree._ParserContext._handleParseResultDoc (src/lxml/lxml.etree.c:91290)\n",
      "  File \"parser.pxi\", line 683, in lxml.etree._handleParseResult (src/lxml/lxml.etree.c:92476)\n",
      "  File \"parser.pxi\", line 631, in lxml.etree._raiseParseError (src/lxml/lxml.etree.c:91904)\n",
      "XMLSyntaxError: line 1046: Tag header invalid\n",
      "Traceback (most recent call last):\n"
     ]
    },
    {
     "name": "stdout",
     "output_type": "stream",
     "text": [
      " You must download and parse an article before parsing it!\n",
      "154440"
     ]
    },
    {
     "name": "stderr",
     "output_type": "stream",
     "text": [
      "  File \"//anaconda/lib/python2.7/site-packages/newspaper-0.0.9.8-py2.7.egg/newspaper/parsers.py\", line 54, in fromstring\n",
      "    cls.doc = lxml.html.fromstring(html)\n",
      "  File \"//anaconda/lib/python2.7/site-packages/lxml-3.3.5-py2.7-macosx-10.5-x86_64.egg/lxml/html/__init__.py\", line 706, in fromstring\n",
      "    doc = document_fromstring(html, parser=parser, base_url=base_url, **kw)\n",
      "  File \"//anaconda/lib/python2.7/site-packages/lxml-3.3.5-py2.7-macosx-10.5-x86_64.egg/lxml/html/__init__.py\", line 600, in document_fromstring\n",
      "    value = etree.fromstring(html, parser, **kw)\n",
      "  File \"lxml.etree.pyx\", line 3032, in lxml.etree.fromstring (src/lxml/lxml.etree.c:68121)\n",
      "  File \"parser.pxi\", line 1786, in lxml.etree._parseMemoryDocument (src/lxml/lxml.etree.c:102470)\n",
      "  File \"parser.pxi\", line 1667, in lxml.etree._parseDoc (src/lxml/lxml.etree.c:101229)\n",
      "  File \"parser.pxi\", line 1035, in lxml.etree._BaseParser._parseUnicodeDoc (src/lxml/lxml.etree.c:96139)\n",
      "  File \"parser.pxi\", line 582, in lxml.etree._ParserContext._handleParseResultDoc (src/lxml/lxml.etree.c:91290)\n",
      "  File \"parser.pxi\", line 683, in lxml.etree._handleParseResult (src/lxml/lxml.etree.c:92476)\n",
      "  File \"parser.pxi\", line 631, in lxml.etree._raiseParseError (src/lxml/lxml.etree.c:91904)\n",
      "XMLSyntaxError: line 1046: Tag header invalid\n",
      "Traceback (most recent call last):\n"
     ]
    },
    {
     "name": "stdout",
     "output_type": "stream",
     "text": [
      " 155135 You must download and parse an article before parsing it!\n",
      "157679"
     ]
    },
    {
     "name": "stderr",
     "output_type": "stream",
     "text": [
      "  File \"//anaconda/lib/python2.7/site-packages/newspaper-0.0.9.8-py2.7.egg/newspaper/parsers.py\", line 54, in fromstring\n",
      "    cls.doc = lxml.html.fromstring(html)\n",
      "  File \"//anaconda/lib/python2.7/site-packages/lxml-3.3.5-py2.7-macosx-10.5-x86_64.egg/lxml/html/__init__.py\", line 706, in fromstring\n",
      "    doc = document_fromstring(html, parser=parser, base_url=base_url, **kw)\n",
      "  File \"//anaconda/lib/python2.7/site-packages/lxml-3.3.5-py2.7-macosx-10.5-x86_64.egg/lxml/html/__init__.py\", line 600, in document_fromstring\n",
      "    value = etree.fromstring(html, parser, **kw)\n",
      "  File \"lxml.etree.pyx\", line 3032, in lxml.etree.fromstring (src/lxml/lxml.etree.c:68121)\n",
      "  File \"parser.pxi\", line 1786, in lxml.etree._parseMemoryDocument (src/lxml/lxml.etree.c:102470)\n",
      "  File \"parser.pxi\", line 1667, in lxml.etree._parseDoc (src/lxml/lxml.etree.c:101229)\n",
      "  File \"parser.pxi\", line 1035, in lxml.etree._BaseParser._parseUnicodeDoc (src/lxml/lxml.etree.c:96139)\n",
      "  File \"parser.pxi\", line 582, in lxml.etree._ParserContext._handleParseResultDoc (src/lxml/lxml.etree.c:91290)\n",
      "  File \"parser.pxi\", line 683, in lxml.etree._handleParseResult (src/lxml/lxml.etree.c:92476)\n",
      "  File \"parser.pxi\", line 631, in lxml.etree._raiseParseError (src/lxml/lxml.etree.c:91904)\n",
      "XMLSyntaxError: line 450: Tag nav invalid\n",
      "Traceback (most recent call last):\n"
     ]
    },
    {
     "name": "stdout",
     "output_type": "stream",
     "text": [
      " You must download and parse an article before parsing it!\n",
      "157872"
     ]
    },
    {
     "name": "stderr",
     "output_type": "stream",
     "text": [
      "  File \"//anaconda/lib/python2.7/site-packages/newspaper-0.0.9.8-py2.7.egg/newspaper/parsers.py\", line 54, in fromstring\n",
      "    cls.doc = lxml.html.fromstring(html)\n",
      "  File \"//anaconda/lib/python2.7/site-packages/lxml-3.3.5-py2.7-macosx-10.5-x86_64.egg/lxml/html/__init__.py\", line 706, in fromstring\n",
      "    doc = document_fromstring(html, parser=parser, base_url=base_url, **kw)\n",
      "  File \"//anaconda/lib/python2.7/site-packages/lxml-3.3.5-py2.7-macosx-10.5-x86_64.egg/lxml/html/__init__.py\", line 600, in document_fromstring\n",
      "    value = etree.fromstring(html, parser, **kw)\n",
      "  File \"lxml.etree.pyx\", line 3032, in lxml.etree.fromstring (src/lxml/lxml.etree.c:68121)\n",
      "  File \"parser.pxi\", line 1786, in lxml.etree._parseMemoryDocument (src/lxml/lxml.etree.c:102470)\n",
      "  File \"parser.pxi\", line 1667, in lxml.etree._parseDoc (src/lxml/lxml.etree.c:101229)\n",
      "  File \"parser.pxi\", line 1035, in lxml.etree._BaseParser._parseUnicodeDoc (src/lxml/lxml.etree.c:96139)\n",
      "  File \"parser.pxi\", line 582, in lxml.etree._ParserContext._handleParseResultDoc (src/lxml/lxml.etree.c:91290)\n",
      "  File \"parser.pxi\", line 683, in lxml.etree._handleParseResult (src/lxml/lxml.etree.c:92476)\n",
      "  File \"parser.pxi\", line 631, in lxml.etree._raiseParseError (src/lxml/lxml.etree.c:91904)\n",
      "XMLSyntaxError: line 450: Tag nav invalid\n",
      "Traceback (most recent call last):\n"
     ]
    },
    {
     "name": "stdout",
     "output_type": "stream",
     "text": [
      " 158249 You must download and parse an article before parsing it!\n",
      "complete!\n"
     ]
    },
    {
     "name": "stderr",
     "output_type": "stream",
     "text": [
      "  File \"//anaconda/lib/python2.7/site-packages/newspaper-0.0.9.8-py2.7.egg/newspaper/parsers.py\", line 54, in fromstring\n",
      "    cls.doc = lxml.html.fromstring(html)\n",
      "  File \"//anaconda/lib/python2.7/site-packages/lxml-3.3.5-py2.7-macosx-10.5-x86_64.egg/lxml/html/__init__.py\", line 706, in fromstring\n",
      "    doc = document_fromstring(html, parser=parser, base_url=base_url, **kw)\n",
      "  File \"//anaconda/lib/python2.7/site-packages/lxml-3.3.5-py2.7-macosx-10.5-x86_64.egg/lxml/html/__init__.py\", line 600, in document_fromstring\n",
      "    value = etree.fromstring(html, parser, **kw)\n",
      "  File \"lxml.etree.pyx\", line 3032, in lxml.etree.fromstring (src/lxml/lxml.etree.c:68121)\n",
      "  File \"parser.pxi\", line 1786, in lxml.etree._parseMemoryDocument (src/lxml/lxml.etree.c:102470)\n",
      "  File \"parser.pxi\", line 1667, in lxml.etree._parseDoc (src/lxml/lxml.etree.c:101229)\n",
      "  File \"parser.pxi\", line 1035, in lxml.etree._BaseParser._parseUnicodeDoc (src/lxml/lxml.etree.c:96139)\n",
      "  File \"parser.pxi\", line 582, in lxml.etree._ParserContext._handleParseResultDoc (src/lxml/lxml.etree.c:91290)\n",
      "  File \"parser.pxi\", line 683, in lxml.etree._handleParseResult (src/lxml/lxml.etree.c:92476)\n",
      "  File \"parser.pxi\", line 631, in lxml.etree._raiseParseError (src/lxml/lxml.etree.c:91904)\n",
      "XMLSyntaxError: line 439: Tag nav invalid\n"
     ]
    }
   ],
   "source": [
    "for i in range(len(list_of_google_news_urls)):\n",
    "#for i in range(80000,83000):\n",
    "    url = list_of_google_news_urls[i] # Gets the url\n",
    "    if url in scraped_urls: #if the url is already in the dictionary, it passes over it.\n",
    "        continue\n",
    "    print i,\n",
    "    \n",
    "    if i % 250 == 0:\n",
    "        clear_output()   #<-- minimizes how much output is seen on a given page\n",
    "    try: \n",
    "        get_save_text_data(url)\n",
    "    except (KeyboardInterrupt, SystemExit):\n",
    "        raise\n",
    "    except:\n",
    "        continue \n",
    "print \"complete!\""
   ]
  },
  {
   "cell_type": "code",
   "execution_count": 406,
   "metadata": {
    "collapsed": false
   },
   "outputs": [
    {
     "data": {
      "text/plain": [
       "163184"
      ]
     },
     "execution_count": 406,
     "metadata": {},
     "output_type": "execute_result"
    }
   ],
   "source": [
    "len(google_news_dictionary_article_text.keys())      #<--- How many I've parsed so far"
   ]
  },
  {
   "cell_type": "code",
   "execution_count": null,
   "metadata": {
    "collapsed": false
   },
   "outputs": [],
   "source": [
    "pickle.dump( google_news_dictionary_article_text, open( \"google_news_dictionary_article_text.pickle\", \"wb\" ) )"
   ]
  }
 ],
 "metadata": {
  "kernelspec": {
   "display_name": "Python 2",
   "language": "python",
   "name": "python2"
  },
  "language_info": {
   "codemirror_mode": {
    "name": "ipython",
    "version": 2
   },
   "file_extension": ".py",
   "mimetype": "text/x-python",
   "name": "python",
   "nbconvert_exporter": "python",
   "pygments_lexer": "ipython2",
   "version": "2.7.11"
  }
 },
 "nbformat": 4,
 "nbformat_minor": 0
}
