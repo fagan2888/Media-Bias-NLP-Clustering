{
 "cells": [
  {
   "cell_type": "markdown",
   "metadata": {},
   "source": [
    "# Revealing the Omitted:\n",
    "## An Exploration of Media Bias in the news coverage of Obamacare\n",
    "===========================================================================\n"
   ]
  },
  {
   "cell_type": "markdown",
   "metadata": {},
   "source": [
    "## Project Summery:\n",
    "\n",
    "### Employs Selenium and BeautifulSoup to scrape over 160k articles across over 8k publishers on Obamacare. Uses TF-IDF and LDA to perform topic modeling which revealed what’s theoretically omitted in a given article and systematically underrepresented at a publisher level. "
   ]
  },
  {
   "cell_type": "markdown",
   "metadata": {},
   "source": [
    "<hr>"
   ]
  },
  {
   "cell_type": "markdown",
   "metadata": {},
   "source": [
    "## [Media Bias Presentation](https://github.com/zhannar/Media-Bias-NLP-Clustering/blob/master/MediaBias_Presentation_2016_May.pdf)\n",
    "\n",
    "A presentation given in early 2016 describes why understanding what's missing article is itself a frequently overlooked form of media bias which can have very important consquences on how news is interpreted and what actions are taken on it. My model for \"revealing what's omitted\" using various NLP techniques is outlined and example result is presented."
   ]
  },
  {
   "cell_type": "markdown",
   "metadata": {},
   "source": [
    "<img src=\"files/Visualizations/topic_modeling_cover.png\" style=\"width: 600px\"/>\n",
    "<img src=\"files/Visualizations/topic_modeling_tfidf.png\" style=\"width: 600px\"/>"
   ]
  },
  {
   "cell_type": "markdown",
   "metadata": {},
   "source": [
    "<hr>"
   ]
  },
  {
   "cell_type": "markdown",
   "metadata": {},
   "source": [
    "### Additional details:\n",
    "\n",
    "tbd"
   ]
  }
 ],
 "metadata": {
  "kernelspec": {
   "display_name": "Python 2",
   "language": "python",
   "name": "python2"
  },
  "language_info": {
   "codemirror_mode": {
    "name": "ipython",
    "version": 2
   },
   "file_extension": ".py",
   "mimetype": "text/x-python",
   "name": "python",
   "nbconvert_exporter": "python",
   "pygments_lexer": "ipython2",
   "version": "2.7.11"
  }
 },
 "nbformat": 4,
 "nbformat_minor": 0
}
