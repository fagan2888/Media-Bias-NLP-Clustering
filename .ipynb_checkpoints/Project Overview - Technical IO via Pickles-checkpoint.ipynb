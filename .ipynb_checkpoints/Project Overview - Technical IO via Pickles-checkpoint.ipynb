{
 "cells": [
  {
   "cell_type": "code",
   "execution_count": 15,
   "metadata": {
    "collapsed": false
   },
   "outputs": [],
   "source": [
    "import sys\n",
    "sys.path.append(\"Code/\")"
   ]
  },
  {
   "cell_type": "code",
   "execution_count": 16,
   "metadata": {
    "collapsed": false
   },
   "outputs": [],
   "source": [
    "from project_functions import summerize_pickles"
   ]
  },
  {
   "cell_type": "code",
   "execution_count": 17,
   "metadata": {
    "collapsed": false
   },
   "outputs": [
    {
     "name": "stdout",
     "output_type": "stream",
     "text": [
      "Part 1a - Sourcing Articles - Google Search News Articles.ipynb\r\n",
      "Part 1b - Sourcing Articles - From NY times - Using NYTIMes API + Newspaper Article.ipynb\r\n",
      "Part 2 -- Google News Article URLS -> Scrape Text.ipynb\r\n",
      "Part 2.5 - Convert big pickles to smaller files.ipynb\r\n",
      "Part 3 - Text Preprocessing & LDA Model Creation.ipynb\r\n",
      "nytimes_api_key.txt\r\n",
      "project_functions.py\r\n",
      "project_functions.pyc\r\n"
     ]
    }
   ],
   "source": [
    "!ls Code/"
   ]
  },
  {
   "cell_type": "markdown",
   "metadata": {},
   "source": [
    "# Part 1a - Sourcing Articles - Google Search News Articles.ipynb"
   ]
  },
  {
   "cell_type": "code",
   "execution_count": 18,
   "metadata": {
    "collapsed": false
   },
   "outputs": [
    {
     "name": "stdout",
     "output_type": "stream",
     "text": [
      "[u'list_of_google_news_urls.pickle']\n",
      "\n",
      "[u'set_of_google_news_urls.pickle', u'list_of_google_news_urls.pickle']\n"
     ]
    }
   ],
   "source": [
    "filepath2 = \"Code/Part 1a - Sourcing Articles - Google Search News Articles.ipynb\"\n",
    "\n",
    "pickles_dict = summerize_pickles(filepath2)\n",
    "\n",
    "print pickles_dict[\"input_pickles\"]\n",
    "print\n",
    "print pickles_dict[\"output_pickles\"]"
   ]
  },
  {
   "cell_type": "markdown",
   "metadata": {},
   "source": [
    "# Part 1b - Sourcing Articles - From NY times - Using NYTIMes API + Newspaper Article.ipynb"
   ]
  },
  {
   "cell_type": "code",
   "execution_count": 19,
   "metadata": {
    "collapsed": false
   },
   "outputs": [
    {
     "name": "stdout",
     "output_type": "stream",
     "text": [
      "[]\n",
      "\n",
      "[u'../Resources/Pickles/nytimes_dictionary_article_metadata.pickle', u'../Resources/Pickles/nytimes_dictionary_article_url.pickle', u'../Resources/Pickles/nytimes_dictionary_article_text.pickle']\n"
     ]
    }
   ],
   "source": [
    "filepath2 = \"Code/Part 1b - Sourcing Articles - From NY times - Using NYTIMes API + Newspaper Article.ipynb\"\n",
    "\n",
    "pickles_dict = summerize_pickles(filepath2)\n",
    "\n",
    "print pickles_dict[\"input_pickles\"]\n",
    "print\n",
    "print pickles_dict[\"output_pickles\"]"
   ]
  },
  {
   "cell_type": "markdown",
   "metadata": {},
   "source": [
    "# For part 2"
   ]
  },
  {
   "cell_type": "code",
   "execution_count": 20,
   "metadata": {
    "collapsed": false
   },
   "outputs": [
    {
     "name": "stdout",
     "output_type": "stream",
     "text": [
      "[u'list_of_google_news_urls.pickle', u'google_news_dictionary_article_text_rebuilt.pickle', u'add_me_dict_n.pickle']\n",
      "\n",
      "[u'scraped_urls.pickle', u'google_news_texts_only.pickle', u'google_news_dictionary_article_text.pickle', u'google_news_dictionary_article_text.pickle']\n"
     ]
    }
   ],
   "source": [
    "filepath2 = \"Code/Part 2 -- Google News Article URLS -> Scrape Text.ipynb\"\n",
    "\n",
    "pickles_dict = summerize_pickles(filepath2)\n",
    "\n",
    "print pickles_dict[\"input_pickles\"]\n",
    "print\n",
    "print pickles_dict[\"output_pickles\"]"
   ]
  },
  {
   "cell_type": "markdown",
   "metadata": {},
   "source": [
    "# Part 2.5 - Convert big pickles to smaller files.ipynb"
   ]
  },
  {
   "cell_type": "code",
   "execution_count": 21,
   "metadata": {
    "collapsed": false
   },
   "outputs": [
    {
     "name": "stdout",
     "output_type": "stream",
     "text": [
      "[u'../Resources/Pickles/google_news_dictionary_article_text.pickle', u'../Resources/Pickles/google_news_texts_only.pickle']\n",
      "\n",
      "[u'save.p']\n"
     ]
    }
   ],
   "source": [
    "filepath2 = \"Code/Part 2.5 - Convert big pickles to smaller files.ipynb\"\n",
    "pickles_dict = summerize_pickles(filepath2)\n",
    "\n",
    "print pickles_dict[\"input_pickles\"]\n",
    "print\n",
    "print pickles_dict[\"output_pickles\"]"
   ]
  },
  {
   "cell_type": "markdown",
   "metadata": {},
   "source": [
    "# For part 3"
   ]
  },
  {
   "cell_type": "code",
   "execution_count": 22,
   "metadata": {
    "collapsed": false
   },
   "outputs": [
    {
     "name": "stdout",
     "output_type": "stream",
     "text": [
      "set([u'google_news_texts_only.pickle', u'google_news_df.pickle', u'dict_of_scopes.pickle', u'google_news_df_top_pubs_good_dates.pickle', u'google_news_dictionary_article_text.pickle'])\n",
      "\n",
      "dict_of_google_tag_searches.pickle\n",
      "dict_of_scopes.pickle\n",
      "google_news_df.pickle\n",
      "fitted_count_vectorizer_100k__FILL_ME_IN__.pickle\n",
      "df_of_scopes_dates.pickle\n",
      "google_news_df_top_pubs_good_dates.pickle\n",
      "lda_20topics_50k.pickle\n"
     ]
    }
   ],
   "source": [
    "filepath2 = \"Code/Part 3 - Text Preprocessing & LDA Model Creation.ipynb\"\n",
    "\n",
    "pickles_dict = summerize_pickles(filepath2)\n",
    "\n",
    "print set(pickles_dict[\"input_pickles\"])\n",
    "print\n",
    "for x in set(pickles_dict[\"output_pickles\"]):\n",
    "    print x"
   ]
  },
  {
   "cell_type": "code",
   "execution_count": null,
   "metadata": {
    "collapsed": true
   },
   "outputs": [],
   "source": []
  },
  {
   "cell_type": "code",
   "execution_count": null,
   "metadata": {
    "collapsed": true
   },
   "outputs": [],
   "source": []
  },
  {
   "cell_type": "code",
   "execution_count": null,
   "metadata": {
    "collapsed": true
   },
   "outputs": [],
   "source": []
  },
  {
   "cell_type": "code",
   "execution_count": null,
   "metadata": {
    "collapsed": true
   },
   "outputs": [],
   "source": []
  },
  {
   "cell_type": "code",
   "execution_count": null,
   "metadata": {
    "collapsed": true
   },
   "outputs": [],
   "source": []
  },
  {
   "cell_type": "code",
   "execution_count": null,
   "metadata": {
    "collapsed": true
   },
   "outputs": [],
   "source": []
  }
 ],
 "metadata": {
  "kernelspec": {
   "display_name": "Python 2",
   "language": "python",
   "name": "python2"
  },
  "language_info": {
   "codemirror_mode": {
    "name": "ipython",
    "version": 2
   },
   "file_extension": ".py",
   "mimetype": "text/x-python",
   "name": "python",
   "nbconvert_exporter": "python",
   "pygments_lexer": "ipython2",
   "version": "2.7.11"
  }
 },
 "nbformat": 4,
 "nbformat_minor": 0
}
